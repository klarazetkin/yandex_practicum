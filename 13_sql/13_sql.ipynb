{
 "cells": [
  {
   "cell_type": "markdown",
   "metadata": {},
   "source": [
    "# Продвинутый SQL, вторая часть проекта"
   ]
  },
  {
   "cell_type": "markdown",
   "metadata": {
    "id": "sRW85nPMDWKb"
   },
   "source": [
    "## Описание задания\n",
    "В этой части проекта вам нужно написать несколько SQL-запросов в Jupyter Notebook. Эти задания проверят вручную, и вы получите комментарии к составленным запросам. \n",
    "\n",
    "Необходимые данные находятся в таблицах схемы `stackoverflow`. Не забудьте подключиться к базе с помощью SQLAlchemy. Вспомните инструкцию из [урока про представление результатов](https://practicum.yandex.ru/learn/data-analyst-plus/courses/96ccbf7a-b65d-4f51-b5f3-18360ad1e301/sprints/6116/topics/27f7c9a7-a474-4a82-8392-b3f069b26f69/lessons/e12d84bb-ffa8-490c-8bde-0935d86ceccb/). Пример кода для подключения к базе и выгрузки результатов вы найдёте и в этой тетрадке. \n",
    "\n",
    "Некоторые задания включают дополнительные вопросы — не пропустите их. На часть вопросов можно ответить текстом, а для некоторых понадобится визуализация. Помните, что результат запроса можно выгрузить в датафрейм. \n",
    "\n",
    "Чтобы ожидаемый результат было легче представить, мы добавили к каждому заданию небольшой фрагмент итоговой таблицы. В запросах вы можете использовать любые подходящие названия полей."
   ]
  },
  {
   "cell_type": "code",
   "execution_count": 1,
   "metadata": {
    "id": "nlZBlglMDWKe"
   },
   "outputs": [],
   "source": [
    "import pandas as pd\n",
    "import matplotlib.pyplot as plt\n",
    "from sqlalchemy import create_engine \n",
    "import seaborn as sns"
   ]
  },
  {
   "cell_type": "markdown",
   "metadata": {
    "id": "XnOE3n28DWKg"
   },
   "source": [
    "### Конфигурация для подключения к базе данных `data-analyst-advanced-sql`\n",
    "Эта база данных содержит схему `stackoverflow`, с которой вы будете работать в проекте"
   ]
  },
  {
   "cell_type": "code",
   "execution_count": 2,
   "metadata": {
    "id": "6p-yGp7qDWKg"
   },
   "outputs": [],
   "source": [
    "db_config = {\n",
    "    'user': 'praktikum_student', # имя пользователя\n",
    "    'pwd': 'Sdf4$2;d-d30pp', # пароль\n",
    "    'host': 'rc1b-wcoijxj3yxfsf3fs.mdb.yandexcloud.net',\n",
    "    'port': 6432, # порт подключения\n",
    "    'db': 'data-analyst-advanced-sql' # название базы данных\n",
    "}  \n",
    "\n",
    "connection_string = 'postgresql://{}:{}@{}:{}/{}'.format(\n",
    "    db_config['user'],\n",
    "    db_config['pwd'],\n",
    "    db_config['host'],\n",
    "    db_config['port'],\n",
    "    db_config['db'],\n",
    ")"
   ]
  },
  {
   "cell_type": "markdown",
   "metadata": {
    "id": "2Rg8ZpS0DWKh"
   },
   "source": [
    "Создание подключения"
   ]
  },
  {
   "cell_type": "code",
   "execution_count": 3,
   "metadata": {
    "id": "DamCUTR6DWKi"
   },
   "outputs": [],
   "source": [
    "engine = create_engine(connection_string) "
   ]
  },
  {
   "cell_type": "markdown",
   "metadata": {
    "id": "bel8XeSlDWKj"
   },
   "source": [
    "Пример запроса к базе данных\n",
    "\n",
    "`sample_df` является pandas-датафреймом."
   ]
  },
  {
   "cell_type": "code",
   "execution_count": 4,
   "metadata": {
    "id": "6Z_fw0yLDWKk"
   },
   "outputs": [],
   "source": [
    "query = '''\n",
    "SELECT *\n",
    "FROM stackoverflow.users\n",
    "LIMIT 10;\n",
    "'''\n",
    "\n",
    "sample_df = pd.read_sql_query(query, con=engine) "
   ]
  },
  {
   "cell_type": "code",
   "execution_count": 5,
   "metadata": {
    "id": "ZpuZ290oDWKk",
    "outputId": "22785a0a-e2bc-4559-ec3c-4879c4b377eb"
   },
   "outputs": [
    {
     "data": {
      "text/html": [
       "<div>\n",
       "<style scoped>\n",
       "    .dataframe tbody tr th:only-of-type {\n",
       "        vertical-align: middle;\n",
       "    }\n",
       "\n",
       "    .dataframe tbody tr th {\n",
       "        vertical-align: top;\n",
       "    }\n",
       "\n",
       "    .dataframe thead th {\n",
       "        text-align: right;\n",
       "    }\n",
       "</style>\n",
       "<table border=\"1\" class=\"dataframe\">\n",
       "  <thead>\n",
       "    <tr style=\"text-align: right;\">\n",
       "      <th></th>\n",
       "      <th>id</th>\n",
       "      <th>creation_date</th>\n",
       "      <th>display_name</th>\n",
       "      <th>last_access_date</th>\n",
       "      <th>location</th>\n",
       "      <th>reputation</th>\n",
       "      <th>views</th>\n",
       "    </tr>\n",
       "  </thead>\n",
       "  <tbody>\n",
       "    <tr>\n",
       "      <th>0</th>\n",
       "      <td>1</td>\n",
       "      <td>2008-07-31 14:22:31</td>\n",
       "      <td>Jeff Atwood</td>\n",
       "      <td>2018-08-29 02:34:23</td>\n",
       "      <td>El Cerrito, CA</td>\n",
       "      <td>44300</td>\n",
       "      <td>408587</td>\n",
       "    </tr>\n",
       "    <tr>\n",
       "      <th>1</th>\n",
       "      <td>2</td>\n",
       "      <td>2008-07-31 14:22:31</td>\n",
       "      <td>Geoff Dalgas</td>\n",
       "      <td>2018-08-23 17:31:56</td>\n",
       "      <td>Corvallis, OR</td>\n",
       "      <td>3491</td>\n",
       "      <td>23966</td>\n",
       "    </tr>\n",
       "    <tr>\n",
       "      <th>2</th>\n",
       "      <td>3</td>\n",
       "      <td>2008-07-31 14:22:31</td>\n",
       "      <td>Jarrod Dixon</td>\n",
       "      <td>2018-08-30 20:56:24</td>\n",
       "      <td>Raleigh, NC, United States</td>\n",
       "      <td>13418</td>\n",
       "      <td>24396</td>\n",
       "    </tr>\n",
       "    <tr>\n",
       "      <th>3</th>\n",
       "      <td>4</td>\n",
       "      <td>2008-07-31 14:22:31</td>\n",
       "      <td>Joel Spolsky</td>\n",
       "      <td>2018-08-14 22:18:15</td>\n",
       "      <td>New York, NY</td>\n",
       "      <td>28768</td>\n",
       "      <td>73755</td>\n",
       "    </tr>\n",
       "    <tr>\n",
       "      <th>4</th>\n",
       "      <td>5</td>\n",
       "      <td>2008-07-31 14:22:31</td>\n",
       "      <td>Jon Galloway</td>\n",
       "      <td>2018-08-29 16:48:36</td>\n",
       "      <td>San Diego, CA</td>\n",
       "      <td>39172</td>\n",
       "      <td>11700</td>\n",
       "    </tr>\n",
       "    <tr>\n",
       "      <th>5</th>\n",
       "      <td>8</td>\n",
       "      <td>2008-07-31 21:33:24</td>\n",
       "      <td>Eggs McLaren</td>\n",
       "      <td>2018-04-09 02:04:56</td>\n",
       "      <td>None</td>\n",
       "      <td>942</td>\n",
       "      <td>6372</td>\n",
       "    </tr>\n",
       "    <tr>\n",
       "      <th>6</th>\n",
       "      <td>9</td>\n",
       "      <td>2008-07-31 21:35:27</td>\n",
       "      <td>Kevin Dente</td>\n",
       "      <td>2018-08-30 18:18:03</td>\n",
       "      <td>Oakland, CA</td>\n",
       "      <td>14337</td>\n",
       "      <td>4949</td>\n",
       "    </tr>\n",
       "    <tr>\n",
       "      <th>7</th>\n",
       "      <td>11</td>\n",
       "      <td>2008-08-01 00:59:11</td>\n",
       "      <td>Anonymous User</td>\n",
       "      <td>2008-08-01 00:59:11</td>\n",
       "      <td>None</td>\n",
       "      <td>1890</td>\n",
       "      <td>2123</td>\n",
       "    </tr>\n",
       "    <tr>\n",
       "      <th>8</th>\n",
       "      <td>13</td>\n",
       "      <td>2008-08-01 04:18:05</td>\n",
       "      <td>Chris Jester-Young</td>\n",
       "      <td>2018-08-30 02:47:23</td>\n",
       "      <td>Raleigh, NC, United States</td>\n",
       "      <td>177138</td>\n",
       "      <td>35414</td>\n",
       "    </tr>\n",
       "    <tr>\n",
       "      <th>9</th>\n",
       "      <td>17</td>\n",
       "      <td>2008-08-01 12:02:22</td>\n",
       "      <td>Nick Berardi</td>\n",
       "      <td>2018-01-22 01:35:38</td>\n",
       "      <td>Issaquah, WA</td>\n",
       "      <td>44443</td>\n",
       "      <td>4786</td>\n",
       "    </tr>\n",
       "  </tbody>\n",
       "</table>\n",
       "</div>"
      ],
      "text/plain": [
       "   id       creation_date        display_name    last_access_date  \\\n",
       "0   1 2008-07-31 14:22:31         Jeff Atwood 2018-08-29 02:34:23   \n",
       "1   2 2008-07-31 14:22:31        Geoff Dalgas 2018-08-23 17:31:56   \n",
       "2   3 2008-07-31 14:22:31        Jarrod Dixon 2018-08-30 20:56:24   \n",
       "3   4 2008-07-31 14:22:31        Joel Spolsky 2018-08-14 22:18:15   \n",
       "4   5 2008-07-31 14:22:31        Jon Galloway 2018-08-29 16:48:36   \n",
       "5   8 2008-07-31 21:33:24        Eggs McLaren 2018-04-09 02:04:56   \n",
       "6   9 2008-07-31 21:35:27         Kevin Dente 2018-08-30 18:18:03   \n",
       "7  11 2008-08-01 00:59:11      Anonymous User 2008-08-01 00:59:11   \n",
       "8  13 2008-08-01 04:18:05  Chris Jester-Young 2018-08-30 02:47:23   \n",
       "9  17 2008-08-01 12:02:22        Nick Berardi 2018-01-22 01:35:38   \n",
       "\n",
       "                     location  reputation   views  \n",
       "0              El Cerrito, CA       44300  408587  \n",
       "1               Corvallis, OR        3491   23966  \n",
       "2  Raleigh, NC, United States       13418   24396  \n",
       "3                New York, NY       28768   73755  \n",
       "4               San Diego, CA       39172   11700  \n",
       "5                        None         942    6372  \n",
       "6                 Oakland, CA       14337    4949  \n",
       "7                        None        1890    2123  \n",
       "8  Raleigh, NC, United States      177138   35414  \n",
       "9                Issaquah, WA       44443    4786  "
      ]
     },
     "execution_count": 5,
     "metadata": {},
     "output_type": "execute_result"
    }
   ],
   "source": [
    "sample_df"
   ]
  },
  {
   "cell_type": "markdown",
   "metadata": {
    "id": "gnBMXkDBDWKm"
   },
   "source": [
    "# Задание 1"
   ]
  },
  {
   "cell_type": "markdown",
   "metadata": {
    "id": "vHsfOrrNDWKn"
   },
   "source": [
    "Выведите общую сумму просмотров постов за каждый месяц 2008 года. Если данных за какой-либо месяц в базе нет, такой месяц можно пропустить. Результат отсортируйте по убыванию общего количества просмотров."
   ]
  },
  {
   "cell_type": "markdown",
   "metadata": {
    "id": "N5rTgGNmDWKn"
   },
   "source": [
    "| month_date  | total_views |\n",
    "| ------------- | ------------- |\n",
    "| 2008-09-01  | 452928568  |\n",
    "| 2008-10-01  | 365400138  |\n",
    "| ...         | ... |"
   ]
  },
  {
   "cell_type": "code",
   "execution_count": 6,
   "metadata": {
    "id": "eWvykcXTDWKo"
   },
   "outputs": [
    {
     "data": {
      "text/html": [
       "<div>\n",
       "<style scoped>\n",
       "    .dataframe tbody tr th:only-of-type {\n",
       "        vertical-align: middle;\n",
       "    }\n",
       "\n",
       "    .dataframe tbody tr th {\n",
       "        vertical-align: top;\n",
       "    }\n",
       "\n",
       "    .dataframe thead th {\n",
       "        text-align: right;\n",
       "    }\n",
       "</style>\n",
       "<table border=\"1\" class=\"dataframe\">\n",
       "  <thead>\n",
       "    <tr style=\"text-align: right;\">\n",
       "      <th></th>\n",
       "      <th>month_date</th>\n",
       "      <th>total_views</th>\n",
       "    </tr>\n",
       "  </thead>\n",
       "  <tbody>\n",
       "    <tr>\n",
       "      <th>0</th>\n",
       "      <td>2008-09-01</td>\n",
       "      <td>452928568</td>\n",
       "    </tr>\n",
       "    <tr>\n",
       "      <th>1</th>\n",
       "      <td>2008-10-01</td>\n",
       "      <td>365400138</td>\n",
       "    </tr>\n",
       "    <tr>\n",
       "      <th>2</th>\n",
       "      <td>2008-11-01</td>\n",
       "      <td>221759651</td>\n",
       "    </tr>\n",
       "    <tr>\n",
       "      <th>3</th>\n",
       "      <td>2008-12-01</td>\n",
       "      <td>197792841</td>\n",
       "    </tr>\n",
       "    <tr>\n",
       "      <th>4</th>\n",
       "      <td>2008-08-01</td>\n",
       "      <td>131367083</td>\n",
       "    </tr>\n",
       "    <tr>\n",
       "      <th>5</th>\n",
       "      <td>2008-07-01</td>\n",
       "      <td>669895</td>\n",
       "    </tr>\n",
       "  </tbody>\n",
       "</table>\n",
       "</div>"
      ],
      "text/plain": [
       "   month_date  total_views\n",
       "0  2008-09-01    452928568\n",
       "1  2008-10-01    365400138\n",
       "2  2008-11-01    221759651\n",
       "3  2008-12-01    197792841\n",
       "4  2008-08-01    131367083\n",
       "5  2008-07-01       669895"
      ]
     },
     "execution_count": 6,
     "metadata": {},
     "output_type": "execute_result"
    }
   ],
   "source": [
    "# напишите запрос\n",
    "query = '''\n",
    "SELECT \n",
    "    DATE(DATE_TRUNC('month', creation_date)) AS month_date, \n",
    "    SUM(views_count) AS total_views\n",
    "FROM stackoverflow.posts\n",
    "WHERE creation_date >= '2008-01-01'\n",
    "AND creation_date <= '2008-12-31'\n",
    "GROUP BY DATE(DATE_TRUNC('month', creation_date))\n",
    "ORDER BY SUM(views_count) DESC\n",
    "'''\n",
    "\n",
    "# выполните запрос\n",
    "total_views_df = pd.read_sql_query(query, con=engine) \n",
    "total_views_df.head(20)"
   ]
  },
  {
   "cell_type": "markdown",
   "metadata": {
    "id": "luxSj17oDWKq"
   },
   "source": [
    "### Ответ: \n",
    "Данные в таблице 'posts' начинаются с конца июля 2008 года, поэтому в итоговой таблице данные за 6 месяцев с июля по декабрь, причем цифра за июль сильно меньше.\n",
    "\n",
    "Данные за разные месяцы отличаются, с июля по декабрь наблюдается стабильный рост количества постов. Вероятно, это связано с развитием сервиса и ростом количества пользователей, как следствие - рост количества постов."
   ]
  },
  {
   "cell_type": "markdown",
   "metadata": {
    "id": "FziIXkn5DWKr"
   },
   "source": [
    "# Задание 2"
   ]
  },
  {
   "cell_type": "markdown",
   "metadata": {
    "id": "fTGESZvYDWKr"
   },
   "source": [
    "Выведите имена самых активных пользователей, которые в первый месяц после регистрации (включая день регистрации) дали больше 100 ответов. Вопросы, которые задавали пользователи, не учитывайте. Для каждого имени пользователя выведите количество уникальных значений `user_id`. Отсортируйте результат по полю с именами в лексикографическом порядке."
   ]
  },
  {
   "cell_type": "markdown",
   "metadata": {
    "id": "W5-tv6Y3DWKs"
   },
   "source": [
    "| display_name | count |\n",
    "| ------------ | ----- |\n",
    "| 1800 INFORMATION | 1 |\n",
    "| Adam Bellaire | 1 |\n",
    "| Adam Davis | 1 |\n",
    "| ... | ... |"
   ]
  },
  {
   "cell_type": "code",
   "execution_count": 7,
   "metadata": {
    "id": "fIO-y-YjDWKt"
   },
   "outputs": [
    {
     "data": {
      "text/html": [
       "<div>\n",
       "<style scoped>\n",
       "    .dataframe tbody tr th:only-of-type {\n",
       "        vertical-align: middle;\n",
       "    }\n",
       "\n",
       "    .dataframe tbody tr th {\n",
       "        vertical-align: top;\n",
       "    }\n",
       "\n",
       "    .dataframe thead th {\n",
       "        text-align: right;\n",
       "    }\n",
       "</style>\n",
       "<table border=\"1\" class=\"dataframe\">\n",
       "  <thead>\n",
       "    <tr style=\"text-align: right;\">\n",
       "      <th></th>\n",
       "      <th>display_name</th>\n",
       "      <th>users_count</th>\n",
       "      <th>posts_count</th>\n",
       "    </tr>\n",
       "  </thead>\n",
       "  <tbody>\n",
       "    <tr>\n",
       "      <th>0</th>\n",
       "      <td>1800 INFORMATION</td>\n",
       "      <td>1</td>\n",
       "      <td>101</td>\n",
       "    </tr>\n",
       "    <tr>\n",
       "      <th>1</th>\n",
       "      <td>Adam Bellaire</td>\n",
       "      <td>1</td>\n",
       "      <td>104</td>\n",
       "    </tr>\n",
       "    <tr>\n",
       "      <th>2</th>\n",
       "      <td>Adam Davis</td>\n",
       "      <td>1</td>\n",
       "      <td>126</td>\n",
       "    </tr>\n",
       "    <tr>\n",
       "      <th>3</th>\n",
       "      <td>Adam Liss</td>\n",
       "      <td>1</td>\n",
       "      <td>114</td>\n",
       "    </tr>\n",
       "    <tr>\n",
       "      <th>4</th>\n",
       "      <td>Alan</td>\n",
       "      <td>8</td>\n",
       "      <td>108</td>\n",
       "    </tr>\n",
       "    <tr>\n",
       "      <th>...</th>\n",
       "      <td>...</td>\n",
       "      <td>...</td>\n",
       "      <td>...</td>\n",
       "    </tr>\n",
       "    <tr>\n",
       "      <th>71</th>\n",
       "      <td>leppie</td>\n",
       "      <td>1</td>\n",
       "      <td>110</td>\n",
       "    </tr>\n",
       "    <tr>\n",
       "      <th>72</th>\n",
       "      <td>lomaxx</td>\n",
       "      <td>1</td>\n",
       "      <td>108</td>\n",
       "    </tr>\n",
       "    <tr>\n",
       "      <th>73</th>\n",
       "      <td>mattlant</td>\n",
       "      <td>1</td>\n",
       "      <td>159</td>\n",
       "    </tr>\n",
       "    <tr>\n",
       "      <th>74</th>\n",
       "      <td>paxdiablo</td>\n",
       "      <td>1</td>\n",
       "      <td>117</td>\n",
       "    </tr>\n",
       "    <tr>\n",
       "      <th>75</th>\n",
       "      <td>tzot</td>\n",
       "      <td>1</td>\n",
       "      <td>107</td>\n",
       "    </tr>\n",
       "  </tbody>\n",
       "</table>\n",
       "<p>76 rows × 3 columns</p>\n",
       "</div>"
      ],
      "text/plain": [
       "        display_name  users_count  posts_count\n",
       "0   1800 INFORMATION            1          101\n",
       "1      Adam Bellaire            1          104\n",
       "2         Adam Davis            1          126\n",
       "3          Adam Liss            1          114\n",
       "4               Alan            8          108\n",
       "..               ...          ...          ...\n",
       "71            leppie            1          110\n",
       "72            lomaxx            1          108\n",
       "73          mattlant            1          159\n",
       "74         paxdiablo            1          117\n",
       "75              tzot            1          107\n",
       "\n",
       "[76 rows x 3 columns]"
      ]
     },
     "execution_count": 7,
     "metadata": {},
     "output_type": "execute_result"
    }
   ],
   "source": [
    "# напишите запрос\n",
    "query = '''\n",
    "SELECT users.display_name,\n",
    "    COUNT(DISTINCT users.id) AS users_count,\n",
    "    COUNT(posts.id) AS posts_count\n",
    "FROM stackoverflow.posts\n",
    "JOIN stackoverflow.users ON posts.user_id = users.id\n",
    "JOIN stackoverflow.post_types ON posts.post_type_id = post_types.id\n",
    "WHERE post_types.type = 'Answer'\n",
    "AND posts.creation_date <= (users.creation_date + interval '1 month')\n",
    "GROUP BY users.display_name\n",
    "HAVING COUNT(posts.id) > 100\n",
    "ORDER BY users.display_name, COUNT(posts.id) DESC\n",
    "'''\n",
    "\n",
    "# выполните запрос\n",
    "df = pd.read_sql_query(query, con=engine)\n",
    "df"
   ]
  },
  {
   "cell_type": "markdown",
   "metadata": {
    "id": "CEIGGQ6ODWKy"
   },
   "source": [
    "### Ответ:\n",
    "В базе нет требования уникальности к отображаемому имени пользователя, колонка 'display_name'. Фактически некоторым строкам в таблице соответствуют разные пользователи.\n",
    "\n",
    "Чтоб посчитать пользователей, задавших более ста уникальных вопросов в течение месяца после регистрации, нужно делать группировку по 'users.id', а не по 'users.display_name', или убрать строки, где 'COUNT(DISTINCT users.id) > 1'. Например, так:"
   ]
  },
  {
   "cell_type": "code",
   "execution_count": 8,
   "metadata": {
    "scrolled": true
   },
   "outputs": [
    {
     "data": {
      "text/html": [
       "<div>\n",
       "<style scoped>\n",
       "    .dataframe tbody tr th:only-of-type {\n",
       "        vertical-align: middle;\n",
       "    }\n",
       "\n",
       "    .dataframe tbody tr th {\n",
       "        vertical-align: top;\n",
       "    }\n",
       "\n",
       "    .dataframe thead th {\n",
       "        text-align: right;\n",
       "    }\n",
       "</style>\n",
       "<table border=\"1\" class=\"dataframe\">\n",
       "  <thead>\n",
       "    <tr style=\"text-align: right;\">\n",
       "      <th></th>\n",
       "      <th>min</th>\n",
       "      <th>users_count</th>\n",
       "      <th>posts_count</th>\n",
       "    </tr>\n",
       "  </thead>\n",
       "  <tbody>\n",
       "    <tr>\n",
       "      <th>0</th>\n",
       "      <td>1800 INFORMATION</td>\n",
       "      <td>1</td>\n",
       "      <td>101</td>\n",
       "    </tr>\n",
       "    <tr>\n",
       "      <th>1</th>\n",
       "      <td>Adam Bellaire</td>\n",
       "      <td>1</td>\n",
       "      <td>104</td>\n",
       "    </tr>\n",
       "    <tr>\n",
       "      <th>2</th>\n",
       "      <td>Adam Davis</td>\n",
       "      <td>1</td>\n",
       "      <td>126</td>\n",
       "    </tr>\n",
       "    <tr>\n",
       "      <th>3</th>\n",
       "      <td>Adam Liss</td>\n",
       "      <td>1</td>\n",
       "      <td>114</td>\n",
       "    </tr>\n",
       "    <tr>\n",
       "      <th>4</th>\n",
       "      <td>Amy B</td>\n",
       "      <td>1</td>\n",
       "      <td>133</td>\n",
       "    </tr>\n",
       "    <tr>\n",
       "      <th>...</th>\n",
       "      <td>...</td>\n",
       "      <td>...</td>\n",
       "      <td>...</td>\n",
       "    </tr>\n",
       "    <tr>\n",
       "      <th>60</th>\n",
       "      <td>leppie</td>\n",
       "      <td>1</td>\n",
       "      <td>110</td>\n",
       "    </tr>\n",
       "    <tr>\n",
       "      <th>61</th>\n",
       "      <td>lomaxx</td>\n",
       "      <td>1</td>\n",
       "      <td>108</td>\n",
       "    </tr>\n",
       "    <tr>\n",
       "      <th>62</th>\n",
       "      <td>mattlant</td>\n",
       "      <td>1</td>\n",
       "      <td>159</td>\n",
       "    </tr>\n",
       "    <tr>\n",
       "      <th>63</th>\n",
       "      <td>paxdiablo</td>\n",
       "      <td>1</td>\n",
       "      <td>117</td>\n",
       "    </tr>\n",
       "    <tr>\n",
       "      <th>64</th>\n",
       "      <td>tzot</td>\n",
       "      <td>1</td>\n",
       "      <td>107</td>\n",
       "    </tr>\n",
       "  </tbody>\n",
       "</table>\n",
       "<p>65 rows × 3 columns</p>\n",
       "</div>"
      ],
      "text/plain": [
       "                 min  users_count  posts_count\n",
       "0   1800 INFORMATION            1          101\n",
       "1      Adam Bellaire            1          104\n",
       "2         Adam Davis            1          126\n",
       "3          Adam Liss            1          114\n",
       "4              Amy B            1          133\n",
       "..               ...          ...          ...\n",
       "60            leppie            1          110\n",
       "61            lomaxx            1          108\n",
       "62          mattlant            1          159\n",
       "63         paxdiablo            1          117\n",
       "64              tzot            1          107\n",
       "\n",
       "[65 rows x 3 columns]"
      ]
     },
     "execution_count": 8,
     "metadata": {},
     "output_type": "execute_result"
    }
   ],
   "source": [
    "# напишите запрос\n",
    "query = '''\n",
    "SELECT -- users.id,\n",
    "    MIN(users.display_name), \n",
    "    -- COUNT(DISTINCT users.display_name),\n",
    "    COUNT(DISTINCT users.id) AS users_count,\n",
    "    COUNT(DISTINCT posts.id) AS posts_count\n",
    "FROM stackoverflow.posts\n",
    "JOIN stackoverflow.users ON posts.user_id = users.id\n",
    "JOIN stackoverflow.post_types ON posts.post_type_id = post_types.id\n",
    "WHERE post_types.type = 'Answer'\n",
    "AND posts.creation_date <= (users.creation_date + interval '1 month')\n",
    "GROUP BY users.id\n",
    "HAVING COUNT(posts.id) >= 100\n",
    "ORDER BY MIN(users.display_name), COUNT(posts.id) DESC\n",
    "'''\n",
    "\n",
    "# выполните запрос\n",
    "df = pd.read_sql_query(query, con=engine)\n",
    "df"
   ]
  },
  {
   "cell_type": "markdown",
   "metadata": {},
   "source": [
    "В этом случае одному users.id соответствует одно display_name, поэтому можно использовать любую аггрегатную функцию, например: `MIN(users.display_name)`.\n",
    "\n",
    "Как видно из запроса ниже, в базе нет и не может быть пользователей с двумя `display_name` на один `id`. Это означало бы дублирование первичного ключа."
   ]
  },
  {
   "cell_type": "code",
   "execution_count": 9,
   "metadata": {},
   "outputs": [
    {
     "data": {
      "text/html": [
       "<div>\n",
       "<style scoped>\n",
       "    .dataframe tbody tr th:only-of-type {\n",
       "        vertical-align: middle;\n",
       "    }\n",
       "\n",
       "    .dataframe tbody tr th {\n",
       "        vertical-align: top;\n",
       "    }\n",
       "\n",
       "    .dataframe thead th {\n",
       "        text-align: right;\n",
       "    }\n",
       "</style>\n",
       "<table border=\"1\" class=\"dataframe\">\n",
       "  <thead>\n",
       "    <tr style=\"text-align: right;\">\n",
       "      <th></th>\n",
       "      <th>id</th>\n",
       "      <th>count</th>\n",
       "    </tr>\n",
       "  </thead>\n",
       "  <tbody>\n",
       "  </tbody>\n",
       "</table>\n",
       "</div>"
      ],
      "text/plain": [
       "Empty DataFrame\n",
       "Columns: [id, count]\n",
       "Index: []"
      ]
     },
     "execution_count": 9,
     "metadata": {},
     "output_type": "execute_result"
    }
   ],
   "source": [
    "# напишите запрос\n",
    "query = '''\n",
    "SELECT users.id,\n",
    "    COUNT(DISTINCT users.display_name) -- одному users.id соответствует одно display_name\n",
    "FROM stackoverflow.users\n",
    "GROUP BY users.id\n",
    "HAVING COUNT(DISTINCT users.display_name) > 1\n",
    "ORDER BY MIN(users.display_name)\n",
    "'''\n",
    "\n",
    "# выполните запрос\n",
    "df = pd.read_sql_query(query, con=engine)\n",
    "df.head(20)"
   ]
  },
  {
   "cell_type": "markdown",
   "metadata": {
    "id": "JhM2xXj5DWKu"
   },
   "source": [
    "# Задание 3"
   ]
  },
  {
   "cell_type": "markdown",
   "metadata": {
    "id": "IS6xPqyyDWKu"
   },
   "source": [
    "Выведите количество постов за 2008 год по месяцам. Отберите посты от пользователей, которые зарегистрировались в сентябре 2008 года и сделали хотя бы один пост в декабре того же года. Отсортируйте таблицу по значению месяца по убыванию."
   ]
  },
  {
   "cell_type": "markdown",
   "metadata": {
    "id": "WmjhjV2xDWKv"
   },
   "source": [
    "| month | count |\n",
    "| ------|------ |\n",
    "| 2008-12-01 | 17641 |\n",
    "| 2008-11-01 | 18294 |\n",
    "| ... | ... |"
   ]
  },
  {
   "cell_type": "code",
   "execution_count": 10,
   "metadata": {
    "id": "kVu0FB8WDWKv",
    "scrolled": true
   },
   "outputs": [
    {
     "data": {
      "text/html": [
       "<div>\n",
       "<style scoped>\n",
       "    .dataframe tbody tr th:only-of-type {\n",
       "        vertical-align: middle;\n",
       "    }\n",
       "\n",
       "    .dataframe tbody tr th {\n",
       "        vertical-align: top;\n",
       "    }\n",
       "\n",
       "    .dataframe thead th {\n",
       "        text-align: right;\n",
       "    }\n",
       "</style>\n",
       "<table border=\"1\" class=\"dataframe\">\n",
       "  <thead>\n",
       "    <tr style=\"text-align: right;\">\n",
       "      <th></th>\n",
       "      <th>date</th>\n",
       "      <th>count</th>\n",
       "    </tr>\n",
       "  </thead>\n",
       "  <tbody>\n",
       "    <tr>\n",
       "      <th>0</th>\n",
       "      <td>2008-12-01</td>\n",
       "      <td>17641</td>\n",
       "    </tr>\n",
       "    <tr>\n",
       "      <th>1</th>\n",
       "      <td>2008-11-01</td>\n",
       "      <td>18294</td>\n",
       "    </tr>\n",
       "    <tr>\n",
       "      <th>2</th>\n",
       "      <td>2008-10-01</td>\n",
       "      <td>27171</td>\n",
       "    </tr>\n",
       "    <tr>\n",
       "      <th>3</th>\n",
       "      <td>2008-09-01</td>\n",
       "      <td>24870</td>\n",
       "    </tr>\n",
       "    <tr>\n",
       "      <th>4</th>\n",
       "      <td>2008-08-01</td>\n",
       "      <td>32</td>\n",
       "    </tr>\n",
       "  </tbody>\n",
       "</table>\n",
       "</div>"
      ],
      "text/plain": [
       "         date  count\n",
       "0  2008-12-01  17641\n",
       "1  2008-11-01  18294\n",
       "2  2008-10-01  27171\n",
       "3  2008-09-01  24870\n",
       "4  2008-08-01     32"
      ]
     },
     "execution_count": 10,
     "metadata": {},
     "output_type": "execute_result"
    }
   ],
   "source": [
    "# напишите запрос\n",
    "query = '''\n",
    "WITH these_users AS \n",
    "(SELECT DISTINCT users.id \n",
    "FROM stackoverflow.posts\n",
    "JOIN stackoverflow.users ON posts.user_id = users.id\n",
    "WHERE users.creation_date >= '2008-09-01'\n",
    "AND users.creation_date <= '2008-10-01'\n",
    "AND posts.creation_date >= '2008-12-01'\n",
    "AND posts.creation_date <= '2009-01-01'\n",
    ")\n",
    "\n",
    "SELECT DATE(DATE_TRUNC('month', posts.creation_date)),\n",
    "    COUNT(posts.id)\n",
    "FROM stackoverflow.posts\n",
    "WHERE posts.user_id IN (SELECT * FROM these_users)\n",
    "AND posts.creation_date >= '2008-01-01'\n",
    "AND posts.creation_date <= '2008-12-31'\n",
    "GROUP BY DATE(DATE_TRUNC('month', posts.creation_date))\n",
    "ORDER BY DATE(DATE_TRUNC('month', posts.creation_date)) DESC\n",
    "'''\n",
    "\n",
    "# выполните запрос\n",
    "df = pd.read_sql_query(query, con=engine)\n",
    "df"
   ]
  },
  {
   "cell_type": "code",
   "execution_count": 11,
   "metadata": {
    "scrolled": true
   },
   "outputs": [
    {
     "data": {
      "text/html": [
       "<div>\n",
       "<style scoped>\n",
       "    .dataframe tbody tr th:only-of-type {\n",
       "        vertical-align: middle;\n",
       "    }\n",
       "\n",
       "    .dataframe tbody tr th {\n",
       "        vertical-align: top;\n",
       "    }\n",
       "\n",
       "    .dataframe thead th {\n",
       "        text-align: right;\n",
       "    }\n",
       "</style>\n",
       "<table border=\"1\" class=\"dataframe\">\n",
       "  <thead>\n",
       "    <tr style=\"text-align: right;\">\n",
       "      <th></th>\n",
       "      <th>creation_date</th>\n",
       "    </tr>\n",
       "  </thead>\n",
       "  <tbody>\n",
       "    <tr>\n",
       "      <th>0</th>\n",
       "      <td>2008-09-29</td>\n",
       "    </tr>\n",
       "    <tr>\n",
       "      <th>1</th>\n",
       "      <td>2008-09-28</td>\n",
       "    </tr>\n",
       "    <tr>\n",
       "      <th>2</th>\n",
       "      <td>2008-09-27</td>\n",
       "    </tr>\n",
       "    <tr>\n",
       "      <th>3</th>\n",
       "      <td>2008-09-26</td>\n",
       "    </tr>\n",
       "    <tr>\n",
       "      <th>4</th>\n",
       "      <td>2008-09-25</td>\n",
       "    </tr>\n",
       "    <tr>\n",
       "      <th>5</th>\n",
       "      <td>2008-09-24</td>\n",
       "    </tr>\n",
       "    <tr>\n",
       "      <th>6</th>\n",
       "      <td>2008-09-23</td>\n",
       "    </tr>\n",
       "    <tr>\n",
       "      <th>7</th>\n",
       "      <td>2008-09-22</td>\n",
       "    </tr>\n",
       "    <tr>\n",
       "      <th>8</th>\n",
       "      <td>2008-09-21</td>\n",
       "    </tr>\n",
       "    <tr>\n",
       "      <th>9</th>\n",
       "      <td>2008-09-20</td>\n",
       "    </tr>\n",
       "    <tr>\n",
       "      <th>10</th>\n",
       "      <td>2008-09-19</td>\n",
       "    </tr>\n",
       "    <tr>\n",
       "      <th>11</th>\n",
       "      <td>2008-09-18</td>\n",
       "    </tr>\n",
       "    <tr>\n",
       "      <th>12</th>\n",
       "      <td>2008-09-17</td>\n",
       "    </tr>\n",
       "    <tr>\n",
       "      <th>13</th>\n",
       "      <td>2008-09-16</td>\n",
       "    </tr>\n",
       "    <tr>\n",
       "      <th>14</th>\n",
       "      <td>2008-09-15</td>\n",
       "    </tr>\n",
       "    <tr>\n",
       "      <th>15</th>\n",
       "      <td>2008-09-14</td>\n",
       "    </tr>\n",
       "    <tr>\n",
       "      <th>16</th>\n",
       "      <td>2008-09-13</td>\n",
       "    </tr>\n",
       "    <tr>\n",
       "      <th>17</th>\n",
       "      <td>2008-09-12</td>\n",
       "    </tr>\n",
       "    <tr>\n",
       "      <th>18</th>\n",
       "      <td>2008-09-11</td>\n",
       "    </tr>\n",
       "    <tr>\n",
       "      <th>19</th>\n",
       "      <td>2008-09-10</td>\n",
       "    </tr>\n",
       "    <tr>\n",
       "      <th>20</th>\n",
       "      <td>2008-09-09</td>\n",
       "    </tr>\n",
       "    <tr>\n",
       "      <th>21</th>\n",
       "      <td>2008-09-08</td>\n",
       "    </tr>\n",
       "    <tr>\n",
       "      <th>22</th>\n",
       "      <td>2008-09-07</td>\n",
       "    </tr>\n",
       "    <tr>\n",
       "      <th>23</th>\n",
       "      <td>2008-09-06</td>\n",
       "    </tr>\n",
       "    <tr>\n",
       "      <th>24</th>\n",
       "      <td>2008-09-05</td>\n",
       "    </tr>\n",
       "    <tr>\n",
       "      <th>25</th>\n",
       "      <td>2008-09-04</td>\n",
       "    </tr>\n",
       "    <tr>\n",
       "      <th>26</th>\n",
       "      <td>2008-09-03</td>\n",
       "    </tr>\n",
       "    <tr>\n",
       "      <th>27</th>\n",
       "      <td>2008-09-02</td>\n",
       "    </tr>\n",
       "    <tr>\n",
       "      <th>28</th>\n",
       "      <td>2008-09-01</td>\n",
       "    </tr>\n",
       "  </tbody>\n",
       "</table>\n",
       "</div>"
      ],
      "text/plain": [
       "   creation_date\n",
       "0     2008-09-29\n",
       "1     2008-09-28\n",
       "2     2008-09-27\n",
       "3     2008-09-26\n",
       "4     2008-09-25\n",
       "5     2008-09-24\n",
       "6     2008-09-23\n",
       "7     2008-09-22\n",
       "8     2008-09-21\n",
       "9     2008-09-20\n",
       "10    2008-09-19\n",
       "11    2008-09-18\n",
       "12    2008-09-17\n",
       "13    2008-09-16\n",
       "14    2008-09-15\n",
       "15    2008-09-14\n",
       "16    2008-09-13\n",
       "17    2008-09-12\n",
       "18    2008-09-11\n",
       "19    2008-09-10\n",
       "20    2008-09-09\n",
       "21    2008-09-08\n",
       "22    2008-09-07\n",
       "23    2008-09-06\n",
       "24    2008-09-05\n",
       "25    2008-09-04\n",
       "26    2008-09-03\n",
       "27    2008-09-02\n",
       "28    2008-09-01"
      ]
     },
     "execution_count": 11,
     "metadata": {},
     "output_type": "execute_result"
    }
   ],
   "source": [
    "# напишите запрос\n",
    "query = '''\n",
    "WITH these_users AS \n",
    "(SELECT DISTINCT users.id,\n",
    "    DATE(users.creation_date) AS creation_date\n",
    "FROM stackoverflow.posts\n",
    "JOIN stackoverflow.users ON posts.user_id = users.id\n",
    "WHERE users.creation_date >= '2008-09-01'\n",
    "AND users.creation_date <= '2008-09-30'\n",
    "AND posts.creation_date >= '2008-12-01'\n",
    "AND posts.creation_date <= '2008-12-31'\n",
    ")\n",
    "\n",
    "SELECT DISTINCT creation_date\n",
    "FROM these_users\n",
    "ORDER BY creation_date DESC\n",
    "'''\n",
    "\n",
    "# выполните запрос\n",
    "df = pd.read_sql_query(query, con=engine)\n",
    "df"
   ]
  },
  {
   "cell_type": "markdown",
   "metadata": {
    "id": "MMVIz4yMlKpN"
   },
   "source": [
    "### Ответ:\n",
    "Аномалия в данных состоит в том, что пользователи зарегались в сентябре, а их первые посты встречаются в августе. \n",
    "\n",
    "Все эти посты принадлежат двум пользователям. Пользователю с `id = 31505`, возможно, неудачно обновили дату регистрации; он был активен весь август. С `id = 4381` тоже что-то случилось."
   ]
  },
  {
   "cell_type": "code",
   "execution_count": 12,
   "metadata": {},
   "outputs": [
    {
     "data": {
      "text/html": [
       "<div>\n",
       "<style scoped>\n",
       "    .dataframe tbody tr th:only-of-type {\n",
       "        vertical-align: middle;\n",
       "    }\n",
       "\n",
       "    .dataframe tbody tr th {\n",
       "        vertical-align: top;\n",
       "    }\n",
       "\n",
       "    .dataframe thead th {\n",
       "        text-align: right;\n",
       "    }\n",
       "</style>\n",
       "<table border=\"1\" class=\"dataframe\">\n",
       "  <thead>\n",
       "    <tr style=\"text-align: right;\">\n",
       "      <th></th>\n",
       "      <th>id</th>\n",
       "      <th>post_creation_date</th>\n",
       "      <th>user_creation_date</th>\n",
       "    </tr>\n",
       "  </thead>\n",
       "  <tbody>\n",
       "    <tr>\n",
       "      <th>0</th>\n",
       "      <td>31505</td>\n",
       "      <td>2008-08-12 13:15:47</td>\n",
       "      <td>2008-09-01 00:00:00</td>\n",
       "    </tr>\n",
       "    <tr>\n",
       "      <th>1</th>\n",
       "      <td>31505</td>\n",
       "      <td>2008-08-12 14:16:42</td>\n",
       "      <td>2008-09-01 00:00:00</td>\n",
       "    </tr>\n",
       "    <tr>\n",
       "      <th>2</th>\n",
       "      <td>31505</td>\n",
       "      <td>2008-08-12 14:39:20</td>\n",
       "      <td>2008-09-01 00:00:00</td>\n",
       "    </tr>\n",
       "    <tr>\n",
       "      <th>3</th>\n",
       "      <td>31505</td>\n",
       "      <td>2008-08-12 16:32:25</td>\n",
       "      <td>2008-09-01 00:00:00</td>\n",
       "    </tr>\n",
       "    <tr>\n",
       "      <th>4</th>\n",
       "      <td>31505</td>\n",
       "      <td>2008-08-12 17:00:35</td>\n",
       "      <td>2008-09-01 00:00:00</td>\n",
       "    </tr>\n",
       "    <tr>\n",
       "      <th>5</th>\n",
       "      <td>31505</td>\n",
       "      <td>2008-08-13 14:03:39</td>\n",
       "      <td>2008-09-01 00:00:00</td>\n",
       "    </tr>\n",
       "    <tr>\n",
       "      <th>6</th>\n",
       "      <td>31505</td>\n",
       "      <td>2008-08-13 21:10:42</td>\n",
       "      <td>2008-09-01 00:00:00</td>\n",
       "    </tr>\n",
       "    <tr>\n",
       "      <th>7</th>\n",
       "      <td>31505</td>\n",
       "      <td>2008-08-14 10:28:43</td>\n",
       "      <td>2008-09-01 00:00:00</td>\n",
       "    </tr>\n",
       "    <tr>\n",
       "      <th>8</th>\n",
       "      <td>31505</td>\n",
       "      <td>2008-08-14 10:36:04</td>\n",
       "      <td>2008-09-01 00:00:00</td>\n",
       "    </tr>\n",
       "    <tr>\n",
       "      <th>9</th>\n",
       "      <td>31505</td>\n",
       "      <td>2008-08-14 11:07:01</td>\n",
       "      <td>2008-09-01 00:00:00</td>\n",
       "    </tr>\n",
       "    <tr>\n",
       "      <th>10</th>\n",
       "      <td>31505</td>\n",
       "      <td>2008-08-19 16:00:47</td>\n",
       "      <td>2008-09-01 00:00:00</td>\n",
       "    </tr>\n",
       "    <tr>\n",
       "      <th>11</th>\n",
       "      <td>31505</td>\n",
       "      <td>2008-08-19 16:19:51</td>\n",
       "      <td>2008-09-01 00:00:00</td>\n",
       "    </tr>\n",
       "    <tr>\n",
       "      <th>12</th>\n",
       "      <td>31505</td>\n",
       "      <td>2008-08-19 16:28:42</td>\n",
       "      <td>2008-09-01 00:00:00</td>\n",
       "    </tr>\n",
       "    <tr>\n",
       "      <th>13</th>\n",
       "      <td>31505</td>\n",
       "      <td>2008-08-20 20:42:05</td>\n",
       "      <td>2008-09-01 00:00:00</td>\n",
       "    </tr>\n",
       "    <tr>\n",
       "      <th>14</th>\n",
       "      <td>31505</td>\n",
       "      <td>2008-08-21 13:05:57</td>\n",
       "      <td>2008-09-01 00:00:00</td>\n",
       "    </tr>\n",
       "    <tr>\n",
       "      <th>15</th>\n",
       "      <td>31505</td>\n",
       "      <td>2008-08-22 16:38:49</td>\n",
       "      <td>2008-09-01 00:00:00</td>\n",
       "    </tr>\n",
       "    <tr>\n",
       "      <th>16</th>\n",
       "      <td>31505</td>\n",
       "      <td>2008-08-24 12:11:01</td>\n",
       "      <td>2008-09-01 00:00:00</td>\n",
       "    </tr>\n",
       "    <tr>\n",
       "      <th>17</th>\n",
       "      <td>31505</td>\n",
       "      <td>2008-08-25 08:02:43</td>\n",
       "      <td>2008-09-01 00:00:00</td>\n",
       "    </tr>\n",
       "    <tr>\n",
       "      <th>18</th>\n",
       "      <td>31505</td>\n",
       "      <td>2008-08-25 15:16:03</td>\n",
       "      <td>2008-09-01 00:00:00</td>\n",
       "    </tr>\n",
       "    <tr>\n",
       "      <th>19</th>\n",
       "      <td>31505</td>\n",
       "      <td>2008-08-25 20:16:27</td>\n",
       "      <td>2008-09-01 00:00:00</td>\n",
       "    </tr>\n",
       "    <tr>\n",
       "      <th>20</th>\n",
       "      <td>31505</td>\n",
       "      <td>2008-08-27 14:31:58</td>\n",
       "      <td>2008-09-01 00:00:00</td>\n",
       "    </tr>\n",
       "    <tr>\n",
       "      <th>21</th>\n",
       "      <td>31505</td>\n",
       "      <td>2008-08-27 14:49:01</td>\n",
       "      <td>2008-09-01 00:00:00</td>\n",
       "    </tr>\n",
       "    <tr>\n",
       "      <th>22</th>\n",
       "      <td>31505</td>\n",
       "      <td>2008-08-28 19:32:43</td>\n",
       "      <td>2008-09-01 00:00:00</td>\n",
       "    </tr>\n",
       "    <tr>\n",
       "      <th>23</th>\n",
       "      <td>31505</td>\n",
       "      <td>2008-08-29 11:37:55</td>\n",
       "      <td>2008-09-01 00:00:00</td>\n",
       "    </tr>\n",
       "    <tr>\n",
       "      <th>24</th>\n",
       "      <td>31505</td>\n",
       "      <td>2008-08-29 16:47:46</td>\n",
       "      <td>2008-09-01 00:00:00</td>\n",
       "    </tr>\n",
       "    <tr>\n",
       "      <th>25</th>\n",
       "      <td>31505</td>\n",
       "      <td>2008-08-29 17:20:35</td>\n",
       "      <td>2008-09-01 00:00:00</td>\n",
       "    </tr>\n",
       "    <tr>\n",
       "      <th>26</th>\n",
       "      <td>31505</td>\n",
       "      <td>2008-08-29 19:06:19</td>\n",
       "      <td>2008-09-01 00:00:00</td>\n",
       "    </tr>\n",
       "    <tr>\n",
       "      <th>27</th>\n",
       "      <td>31505</td>\n",
       "      <td>2008-08-29 20:16:51</td>\n",
       "      <td>2008-09-01 00:00:00</td>\n",
       "    </tr>\n",
       "    <tr>\n",
       "      <th>28</th>\n",
       "      <td>4381</td>\n",
       "      <td>2008-08-30 15:20:15</td>\n",
       "      <td>2008-09-03 10:48:17</td>\n",
       "    </tr>\n",
       "    <tr>\n",
       "      <th>29</th>\n",
       "      <td>4381</td>\n",
       "      <td>2008-08-30 15:27:35</td>\n",
       "      <td>2008-09-03 10:48:17</td>\n",
       "    </tr>\n",
       "    <tr>\n",
       "      <th>30</th>\n",
       "      <td>31505</td>\n",
       "      <td>2008-08-30 21:22:06</td>\n",
       "      <td>2008-09-01 00:00:00</td>\n",
       "    </tr>\n",
       "    <tr>\n",
       "      <th>31</th>\n",
       "      <td>31505</td>\n",
       "      <td>2008-08-31 14:27:32</td>\n",
       "      <td>2008-09-01 00:00:00</td>\n",
       "    </tr>\n",
       "  </tbody>\n",
       "</table>\n",
       "</div>"
      ],
      "text/plain": [
       "       id  post_creation_date  user_creation_date\n",
       "0   31505 2008-08-12 13:15:47 2008-09-01 00:00:00\n",
       "1   31505 2008-08-12 14:16:42 2008-09-01 00:00:00\n",
       "2   31505 2008-08-12 14:39:20 2008-09-01 00:00:00\n",
       "3   31505 2008-08-12 16:32:25 2008-09-01 00:00:00\n",
       "4   31505 2008-08-12 17:00:35 2008-09-01 00:00:00\n",
       "5   31505 2008-08-13 14:03:39 2008-09-01 00:00:00\n",
       "6   31505 2008-08-13 21:10:42 2008-09-01 00:00:00\n",
       "7   31505 2008-08-14 10:28:43 2008-09-01 00:00:00\n",
       "8   31505 2008-08-14 10:36:04 2008-09-01 00:00:00\n",
       "9   31505 2008-08-14 11:07:01 2008-09-01 00:00:00\n",
       "10  31505 2008-08-19 16:00:47 2008-09-01 00:00:00\n",
       "11  31505 2008-08-19 16:19:51 2008-09-01 00:00:00\n",
       "12  31505 2008-08-19 16:28:42 2008-09-01 00:00:00\n",
       "13  31505 2008-08-20 20:42:05 2008-09-01 00:00:00\n",
       "14  31505 2008-08-21 13:05:57 2008-09-01 00:00:00\n",
       "15  31505 2008-08-22 16:38:49 2008-09-01 00:00:00\n",
       "16  31505 2008-08-24 12:11:01 2008-09-01 00:00:00\n",
       "17  31505 2008-08-25 08:02:43 2008-09-01 00:00:00\n",
       "18  31505 2008-08-25 15:16:03 2008-09-01 00:00:00\n",
       "19  31505 2008-08-25 20:16:27 2008-09-01 00:00:00\n",
       "20  31505 2008-08-27 14:31:58 2008-09-01 00:00:00\n",
       "21  31505 2008-08-27 14:49:01 2008-09-01 00:00:00\n",
       "22  31505 2008-08-28 19:32:43 2008-09-01 00:00:00\n",
       "23  31505 2008-08-29 11:37:55 2008-09-01 00:00:00\n",
       "24  31505 2008-08-29 16:47:46 2008-09-01 00:00:00\n",
       "25  31505 2008-08-29 17:20:35 2008-09-01 00:00:00\n",
       "26  31505 2008-08-29 19:06:19 2008-09-01 00:00:00\n",
       "27  31505 2008-08-29 20:16:51 2008-09-01 00:00:00\n",
       "28   4381 2008-08-30 15:20:15 2008-09-03 10:48:17\n",
       "29   4381 2008-08-30 15:27:35 2008-09-03 10:48:17\n",
       "30  31505 2008-08-30 21:22:06 2008-09-01 00:00:00\n",
       "31  31505 2008-08-31 14:27:32 2008-09-01 00:00:00"
      ]
     },
     "execution_count": 12,
     "metadata": {},
     "output_type": "execute_result"
    }
   ],
   "source": [
    "# напишите запрос\n",
    "query = '''\n",
    "WITH these_users AS \n",
    "(SELECT DISTINCT users.id \n",
    "FROM stackoverflow.posts\n",
    "JOIN stackoverflow.users ON posts.user_id = users.id\n",
    "WHERE users.creation_date >= '2008-09-01'\n",
    "AND users.creation_date <= '2008-10-01'\n",
    "AND posts.creation_date >= '2008-12-01'\n",
    "AND posts.creation_date <= '2009-01-01'\n",
    ")\n",
    "\n",
    "SELECT \n",
    "    users.id,\n",
    "    posts.creation_date AS post_creation_date,\n",
    "    users.creation_date AS user_creation_date\n",
    "FROM stackoverflow.posts\n",
    "JOIN stackoverflow.users ON posts.user_id = users.id\n",
    "WHERE posts.user_id IN (SELECT * FROM these_users)\n",
    "AND posts.creation_date < '2008-09-01'\n",
    "ORDER BY posts.creation_date\n",
    "'''\n",
    "\n",
    "# выполните запрос\n",
    "active_users_df = pd.read_sql_query(query, con=engine)\n",
    "active_users_df"
   ]
  },
  {
   "cell_type": "markdown",
   "metadata": {},
   "source": [
    "При желании можно скорректировать запрос, исключив этих пользователей. "
   ]
  },
  {
   "cell_type": "code",
   "execution_count": 13,
   "metadata": {},
   "outputs": [
    {
     "data": {
      "text/html": [
       "<div>\n",
       "<style scoped>\n",
       "    .dataframe tbody tr th:only-of-type {\n",
       "        vertical-align: middle;\n",
       "    }\n",
       "\n",
       "    .dataframe tbody tr th {\n",
       "        vertical-align: top;\n",
       "    }\n",
       "\n",
       "    .dataframe thead th {\n",
       "        text-align: right;\n",
       "    }\n",
       "</style>\n",
       "<table border=\"1\" class=\"dataframe\">\n",
       "  <thead>\n",
       "    <tr style=\"text-align: right;\">\n",
       "      <th></th>\n",
       "      <th>date</th>\n",
       "      <th>count</th>\n",
       "    </tr>\n",
       "  </thead>\n",
       "  <tbody>\n",
       "    <tr>\n",
       "      <th>0</th>\n",
       "      <td>2008-12-01</td>\n",
       "      <td>17633</td>\n",
       "    </tr>\n",
       "    <tr>\n",
       "      <th>1</th>\n",
       "      <td>2008-11-01</td>\n",
       "      <td>18278</td>\n",
       "    </tr>\n",
       "    <tr>\n",
       "      <th>2</th>\n",
       "      <td>2008-10-01</td>\n",
       "      <td>27160</td>\n",
       "    </tr>\n",
       "    <tr>\n",
       "      <th>3</th>\n",
       "      <td>2008-09-01</td>\n",
       "      <td>24840</td>\n",
       "    </tr>\n",
       "  </tbody>\n",
       "</table>\n",
       "</div>"
      ],
      "text/plain": [
       "         date  count\n",
       "0  2008-12-01  17633\n",
       "1  2008-11-01  18278\n",
       "2  2008-10-01  27160\n",
       "3  2008-09-01  24840"
      ]
     },
     "execution_count": 13,
     "metadata": {},
     "output_type": "execute_result"
    }
   ],
   "source": [
    "# напишите запрос\n",
    "query = '''\n",
    "WITH these_users AS \n",
    "(SELECT DISTINCT users.id \n",
    "FROM stackoverflow.posts\n",
    "JOIN stackoverflow.users ON posts.user_id = users.id\n",
    "WHERE users.creation_date >= '2008-09-01'\n",
    "AND users.creation_date < '2008-10-01'\n",
    "AND users.id NOT IN (31505, 4381)\n",
    "AND posts.creation_date >= '2008-12-01'\n",
    "AND posts.creation_date <= '2009-01-01'\n",
    ")\n",
    "\n",
    "SELECT DATE(DATE_TRUNC('month', posts.creation_date)),\n",
    "    COUNT(posts.id)\n",
    "FROM stackoverflow.posts\n",
    "WHERE posts.user_id IN (SELECT * FROM these_users)\n",
    "AND posts.creation_date >= '2008-01-01'\n",
    "AND posts.creation_date < '2009-01-01'\n",
    "GROUP BY DATE(DATE_TRUNC('month', posts.creation_date))\n",
    "ORDER BY DATE(DATE_TRUNC('month', posts.creation_date)) DESC\n",
    "'''\n",
    "\n",
    "# выполните запрос\n",
    "df = pd.read_sql_query(query, con=engine)\n",
    "df"
   ]
  },
  {
   "cell_type": "markdown",
   "metadata": {
    "id": "5Pcizm0DDWKz"
   },
   "source": [
    "# Задание 4"
   ]
  },
  {
   "cell_type": "markdown",
   "metadata": {
    "id": "KUZPF6vHDWKz"
   },
   "source": [
    "Используя данные о постах, выведите несколько полей:\n",
    "\n",
    "- идентификатор пользователя, который написал пост;\n",
    "- дата создания поста;\n",
    "- количество просмотров у текущего поста;\n",
    "- сумму просмотров постов автора с накоплением.\n",
    "\n",
    "Данные в таблице должны быть отсортированы по возрастанию идентификаторов пользователей, а данные об одном и том же пользователе — по возрастанию даты создания поста."
   ]
  },
  {
   "cell_type": "markdown",
   "metadata": {
    "id": "ZpsTUVDYDWK0"
   },
   "source": [
    "| user_id | creation_date | views_count | cumulative_count |\n",
    "| ------ | -------------- | ----------- | ---------------- |\n",
    "| 1 | 2008-07-31 23:41:00  | 480476   | 480476  |\n",
    "| 1 | 2008-07-31 23:55:38  | 136033 | 616509  | \n",
    "| 1 | 2008-07-31 23:56:41  | 0 |  616509  |\n",
    "| ... | ... | ... | ... |\n",
    "| 2 | 2008-07-31 23:56:41 | 79087  | 79087 |\n",
    "| 2 | 2008-08-01 05:09:56 | 65443 | 144530 |\n",
    "| ... | ...  | ...  | ...  |"
   ]
  },
  {
   "cell_type": "code",
   "execution_count": 14,
   "metadata": {
    "id": "hDoJhMzfDWK0"
   },
   "outputs": [
    {
     "data": {
      "text/html": [
       "<div>\n",
       "<style scoped>\n",
       "    .dataframe tbody tr th:only-of-type {\n",
       "        vertical-align: middle;\n",
       "    }\n",
       "\n",
       "    .dataframe tbody tr th {\n",
       "        vertical-align: top;\n",
       "    }\n",
       "\n",
       "    .dataframe thead th {\n",
       "        text-align: right;\n",
       "    }\n",
       "</style>\n",
       "<table border=\"1\" class=\"dataframe\">\n",
       "  <thead>\n",
       "    <tr style=\"text-align: right;\">\n",
       "      <th></th>\n",
       "      <th>user_id</th>\n",
       "      <th>creation_date</th>\n",
       "      <th>views_count</th>\n",
       "      <th>cumulative_sum</th>\n",
       "    </tr>\n",
       "  </thead>\n",
       "  <tbody>\n",
       "    <tr>\n",
       "      <th>0</th>\n",
       "      <td>1</td>\n",
       "      <td>2008-07-31 23:41:00</td>\n",
       "      <td>480476</td>\n",
       "      <td>480476</td>\n",
       "    </tr>\n",
       "    <tr>\n",
       "      <th>1</th>\n",
       "      <td>1</td>\n",
       "      <td>2008-07-31 23:55:38</td>\n",
       "      <td>136033</td>\n",
       "      <td>616509</td>\n",
       "    </tr>\n",
       "    <tr>\n",
       "      <th>2</th>\n",
       "      <td>1</td>\n",
       "      <td>2008-07-31 23:56:41</td>\n",
       "      <td>0</td>\n",
       "      <td>616509</td>\n",
       "    </tr>\n",
       "    <tr>\n",
       "      <th>3</th>\n",
       "      <td>1</td>\n",
       "      <td>2008-08-04 02:45:08</td>\n",
       "      <td>0</td>\n",
       "      <td>616509</td>\n",
       "    </tr>\n",
       "    <tr>\n",
       "      <th>4</th>\n",
       "      <td>1</td>\n",
       "      <td>2008-08-04 04:31:03</td>\n",
       "      <td>0</td>\n",
       "      <td>616509</td>\n",
       "    </tr>\n",
       "    <tr>\n",
       "      <th>...</th>\n",
       "      <td>...</td>\n",
       "      <td>...</td>\n",
       "      <td>...</td>\n",
       "      <td>...</td>\n",
       "    </tr>\n",
       "    <tr>\n",
       "      <th>243791</th>\n",
       "      <td>5696608</td>\n",
       "      <td>2008-12-23 16:00:37</td>\n",
       "      <td>0</td>\n",
       "      <td>2804</td>\n",
       "    </tr>\n",
       "    <tr>\n",
       "      <th>243792</th>\n",
       "      <td>5696608</td>\n",
       "      <td>2008-12-23 17:35:09</td>\n",
       "      <td>0</td>\n",
       "      <td>2804</td>\n",
       "    </tr>\n",
       "    <tr>\n",
       "      <th>243793</th>\n",
       "      <td>5696608</td>\n",
       "      <td>2008-12-24 01:02:48</td>\n",
       "      <td>0</td>\n",
       "      <td>2804</td>\n",
       "    </tr>\n",
       "    <tr>\n",
       "      <th>243794</th>\n",
       "      <td>5696608</td>\n",
       "      <td>2008-12-30 14:34:45</td>\n",
       "      <td>0</td>\n",
       "      <td>2804</td>\n",
       "    </tr>\n",
       "    <tr>\n",
       "      <th>243795</th>\n",
       "      <td>5696608</td>\n",
       "      <td>2008-12-30 16:32:12</td>\n",
       "      <td>0</td>\n",
       "      <td>2804</td>\n",
       "    </tr>\n",
       "  </tbody>\n",
       "</table>\n",
       "<p>243796 rows × 4 columns</p>\n",
       "</div>"
      ],
      "text/plain": [
       "        user_id       creation_date  views_count  cumulative_sum\n",
       "0             1 2008-07-31 23:41:00       480476          480476\n",
       "1             1 2008-07-31 23:55:38       136033          616509\n",
       "2             1 2008-07-31 23:56:41            0          616509\n",
       "3             1 2008-08-04 02:45:08            0          616509\n",
       "4             1 2008-08-04 04:31:03            0          616509\n",
       "...         ...                 ...          ...             ...\n",
       "243791  5696608 2008-12-23 16:00:37            0            2804\n",
       "243792  5696608 2008-12-23 17:35:09            0            2804\n",
       "243793  5696608 2008-12-24 01:02:48            0            2804\n",
       "243794  5696608 2008-12-30 14:34:45            0            2804\n",
       "243795  5696608 2008-12-30 16:32:12            0            2804\n",
       "\n",
       "[243796 rows x 4 columns]"
      ]
     },
     "execution_count": 14,
     "metadata": {},
     "output_type": "execute_result"
    }
   ],
   "source": [
    "# напишите запрос\n",
    "query = '''\n",
    "SELECT user_id,\n",
    "    creation_date,\n",
    "    views_count,\n",
    "    SUM(views_count) OVER (PARTITION BY user_id ORDER BY creation_date) AS cumulative_sum\n",
    "FROM stackoverflow.posts\n",
    "ORDER BY user_id\n",
    "'''\n",
    "\n",
    "# выполните запрос\n",
    "df = pd.read_sql_query(query, con=engine)\n",
    "df"
   ]
  },
  {
   "cell_type": "markdown",
   "metadata": {
    "id": "N0kHRHvIDWK2"
   },
   "source": [
    "# Задание 5"
   ]
  },
  {
   "cell_type": "markdown",
   "metadata": {
    "id": "gBgvmPtODWK2"
   },
   "source": [
    "Найдите среднее количество постов пользователей в день за август 2008 года. Отберите данные о пользователях, которые опубликовали больше 120 постов за август. Дни без публикаций не учитывайте. \n",
    "\n",
    "Отсортируйте результат по возрастанию среднего количества постов. Значения можно не округлять."
   ]
  },
  {
   "cell_type": "markdown",
   "metadata": {
    "id": "nfzR08BODWK3"
   },
   "source": [
    "| user_id | avg_daily |\n",
    "| ------- | --------- |\n",
    "| 116     | 4.777778  |\n",
    "| 234     | 5.208333  |\n",
    "| ...     | ... |"
   ]
  },
  {
   "cell_type": "code",
   "execution_count": 15,
   "metadata": {
    "id": "YFyPNz5GDWK3"
   },
   "outputs": [
    {
     "data": {
      "text/html": [
       "<div>\n",
       "<style scoped>\n",
       "    .dataframe tbody tr th:only-of-type {\n",
       "        vertical-align: middle;\n",
       "    }\n",
       "\n",
       "    .dataframe tbody tr th {\n",
       "        vertical-align: top;\n",
       "    }\n",
       "\n",
       "    .dataframe thead th {\n",
       "        text-align: right;\n",
       "    }\n",
       "</style>\n",
       "<table border=\"1\" class=\"dataframe\">\n",
       "  <thead>\n",
       "    <tr style=\"text-align: right;\">\n",
       "      <th></th>\n",
       "      <th>user_id</th>\n",
       "      <th>avg_posts_count</th>\n",
       "    </tr>\n",
       "  </thead>\n",
       "  <tbody>\n",
       "    <tr>\n",
       "      <th>0</th>\n",
       "      <td>116</td>\n",
       "      <td>4.777778</td>\n",
       "    </tr>\n",
       "    <tr>\n",
       "      <th>1</th>\n",
       "      <td>234</td>\n",
       "      <td>5.208333</td>\n",
       "    </tr>\n",
       "    <tr>\n",
       "      <th>2</th>\n",
       "      <td>91</td>\n",
       "      <td>5.681818</td>\n",
       "    </tr>\n",
       "    <tr>\n",
       "      <th>3</th>\n",
       "      <td>905</td>\n",
       "      <td>7.000000</td>\n",
       "    </tr>\n",
       "    <tr>\n",
       "      <th>4</th>\n",
       "      <td>383</td>\n",
       "      <td>7.277778</td>\n",
       "    </tr>\n",
       "  </tbody>\n",
       "</table>\n",
       "</div>"
      ],
      "text/plain": [
       "   user_id  avg_posts_count\n",
       "0      116         4.777778\n",
       "1      234         5.208333\n",
       "2       91         5.681818\n",
       "3      905         7.000000\n",
       "4      383         7.277778"
      ]
     },
     "execution_count": 15,
     "metadata": {},
     "output_type": "execute_result"
    }
   ],
   "source": [
    "# напишите запрос\n",
    "query = '''\n",
    "WITH these_users AS\n",
    "(SELECT posts.user_id\n",
    "FROM stackoverflow.posts\n",
    "WHERE posts.creation_date >= '2008-08-01'\n",
    "AND posts.creation_date <= '2008-08-31'\n",
    "GROUP BY posts.user_id\n",
    "HAVING COUNT(posts.id) > 120\n",
    "),\n",
    "\n",
    "users_days_posts AS\n",
    "(SELECT posts.user_id AS user_id,\n",
    "    DATE(posts.creation_date) AS post_date,\n",
    "    COUNT(posts.id) AS posts_count\n",
    "FROM stackoverflow.posts\n",
    "WHERE posts.user_id IN (SELECT * FROM these_users)\n",
    "AND posts.creation_date >= '2008-08-01'\n",
    "AND posts.creation_date < '2008-09-01'\n",
    "GROUP BY posts.user_id, DATE(posts.creation_date)\n",
    "ORDER BY posts.user_id, DATE(posts.creation_date))\n",
    "\n",
    "SELECT user_id,\n",
    "    AVG(posts_count) AS avg_posts_count\n",
    "FROM users_days_posts\n",
    "GROUP BY user_id\n",
    "ORDER BY AVG(posts_count)\n",
    "'''\n",
    "\n",
    "# выполните запрос\n",
    "df = pd.read_sql_query(query, con=engine)\n",
    "df"
   ]
  },
  {
   "cell_type": "markdown",
   "metadata": {
    "id": "EQ0dcFH4DWK5"
   },
   "source": [
    "# Задание 6"
   ]
  },
  {
   "cell_type": "markdown",
   "metadata": {
    "id": "c7flfg_hDWK5"
   },
   "source": [
    "Сколько в среднем дней в период с 1 по 7 декабря 2008 года пользователи взаимодействовали с платформой? Для каждого пользователя отберите дни, в которые он или она опубликовали хотя бы один пост. Нужно получить одно целое число — не забудьте округлить результат. "
   ]
  },
  {
   "cell_type": "markdown",
   "metadata": {
    "id": "RC1Ibzm9DWK6"
   },
   "source": [
    "| result |\n",
    "| -----  |\n",
    "| <целое число> |"
   ]
  },
  {
   "cell_type": "code",
   "execution_count": 16,
   "metadata": {
    "id": "kZ7LXTr6DWK6"
   },
   "outputs": [
    {
     "data": {
      "text/html": [
       "<div>\n",
       "<style scoped>\n",
       "    .dataframe tbody tr th:only-of-type {\n",
       "        vertical-align: middle;\n",
       "    }\n",
       "\n",
       "    .dataframe tbody tr th {\n",
       "        vertical-align: top;\n",
       "    }\n",
       "\n",
       "    .dataframe thead th {\n",
       "        text-align: right;\n",
       "    }\n",
       "</style>\n",
       "<table border=\"1\" class=\"dataframe\">\n",
       "  <thead>\n",
       "    <tr style=\"text-align: right;\">\n",
       "      <th></th>\n",
       "      <th>avg</th>\n",
       "    </tr>\n",
       "  </thead>\n",
       "  <tbody>\n",
       "    <tr>\n",
       "      <th>0</th>\n",
       "      <td>2</td>\n",
       "    </tr>\n",
       "  </tbody>\n",
       "</table>\n",
       "</div>"
      ],
      "text/plain": [
       "   avg\n",
       "0    2"
      ]
     },
     "execution_count": 16,
     "metadata": {},
     "output_type": "execute_result"
    }
   ],
   "source": [
    "# напишите запрос\n",
    "query = '''\n",
    "WITH active_users AS \n",
    "(SELECT posts.user_id AS user_id,\n",
    "    DATE(posts.creation_date) AS post_date\n",
    "FROM stackoverflow.posts\n",
    "WHERE posts.creation_date >= '2008-12-01'\n",
    "AND posts.creation_date <= '2008-12-07'\n",
    "GROUP BY posts.user_id, DATE(posts.creation_date)),\n",
    "\n",
    "users_days AS\n",
    "(SELECT user_id,\n",
    "    COUNT(DISTINCT(post_date)) AS active_days_count\n",
    "FROM active_users\n",
    "GROUP BY user_id)\n",
    "\n",
    "SELECT CAST(AVG(active_days_count) AS INT)\n",
    "FROM users_days\n",
    "'''\n",
    "\n",
    "# выполните запрос\n",
    "df = pd.read_sql_query(query, con=engine)\n",
    "df.head(20)"
   ]
  },
  {
   "cell_type": "markdown",
   "metadata": {
    "id": "LfUuYz-1DWK8"
   },
   "source": [
    "### Ответ:\n",
    "Если считать только тех пользователей, которые действительно были активны в эту неделю декабря (отбросив тех, кто не написал ни одного поста), то можно сделать вывод, что в среднем они были активны по два дня. "
   ]
  },
  {
   "cell_type": "markdown",
   "metadata": {
    "id": "wfOmqmfLDWK8"
   },
   "source": [
    "# Задание 7"
   ]
  },
  {
   "cell_type": "markdown",
   "metadata": {
    "id": "X4ARQimADWK9"
   },
   "source": [
    "Выведите историю активности каждого пользователя в таком виде: идентификатор пользователя, дата публикации поста. Отсортируйте вывод по возрастанию идентификаторов пользователей, а для каждого пользователя — по возрастанию даты публикации.\n",
    "\n",
    "Добавьте в таблицу новое поле: для каждого поста в нём будет указано название месяца предпоследней публикации пользователя относительно текущей. Если такой публикации нет, укажите `NULL`.  Python автоматически поменяет `NULL` на `None`, но дополнительно преобразовывать значения `None` вам не нужно.\n",
    "\n",
    "Посмотрите внимательно на образец таблицы: для первых двух постов предпоследней публикации нет, но, начиная с третьего поста, в новое поле входит нужный месяц. Для следующего пользователя в первые две записи поля `second_last_month` тоже войдёт `NULL`."
   ]
  },
  {
   "cell_type": "markdown",
   "metadata": {
    "id": "IGPjRP01DWK9"
   },
   "source": [
    "| user_id | creation_date | second_last_month |\n",
    "| ------- | ------------- | ----------------- |\n",
    "| 1       | 2008-07-31 23:41:00 | None |\n",
    "| 1       | 2008-07-31 23:55:38 | None |\n",
    "| 1       | 2008-07-31 23:56:41 | July |\n",
    "| 1       | 2008-08-04 02:45:08 | July |\n",
    "| 1       | 2008-08-04 04:31:03 | July |\n",
    "| 1       | 2008-08-04 08:04:42 | August |\n",
    "| ... | ... | ... |"
   ]
  },
  {
   "cell_type": "code",
   "execution_count": 17,
   "metadata": {
    "id": "HzI1vhaMDWK-"
   },
   "outputs": [
    {
     "data": {
      "text/html": [
       "<div>\n",
       "<style scoped>\n",
       "    .dataframe tbody tr th:only-of-type {\n",
       "        vertical-align: middle;\n",
       "    }\n",
       "\n",
       "    .dataframe tbody tr th {\n",
       "        vertical-align: top;\n",
       "    }\n",
       "\n",
       "    .dataframe thead th {\n",
       "        text-align: right;\n",
       "    }\n",
       "</style>\n",
       "<table border=\"1\" class=\"dataframe\">\n",
       "  <thead>\n",
       "    <tr style=\"text-align: right;\">\n",
       "      <th></th>\n",
       "      <th>user_id</th>\n",
       "      <th>creation_date</th>\n",
       "      <th>second_last_month</th>\n",
       "    </tr>\n",
       "  </thead>\n",
       "  <tbody>\n",
       "    <tr>\n",
       "      <th>0</th>\n",
       "      <td>1</td>\n",
       "      <td>2008-07-31 23:41:00</td>\n",
       "      <td>None</td>\n",
       "    </tr>\n",
       "    <tr>\n",
       "      <th>1</th>\n",
       "      <td>1</td>\n",
       "      <td>2008-07-31 23:55:38</td>\n",
       "      <td>None</td>\n",
       "    </tr>\n",
       "    <tr>\n",
       "      <th>2</th>\n",
       "      <td>1</td>\n",
       "      <td>2008-07-31 23:56:41</td>\n",
       "      <td>July</td>\n",
       "    </tr>\n",
       "    <tr>\n",
       "      <th>3</th>\n",
       "      <td>1</td>\n",
       "      <td>2008-08-04 02:45:08</td>\n",
       "      <td>July</td>\n",
       "    </tr>\n",
       "    <tr>\n",
       "      <th>4</th>\n",
       "      <td>1</td>\n",
       "      <td>2008-08-04 04:31:03</td>\n",
       "      <td>July</td>\n",
       "    </tr>\n",
       "    <tr>\n",
       "      <th>...</th>\n",
       "      <td>...</td>\n",
       "      <td>...</td>\n",
       "      <td>...</td>\n",
       "    </tr>\n",
       "    <tr>\n",
       "      <th>243791</th>\n",
       "      <td>5696608</td>\n",
       "      <td>2008-12-23 16:00:37</td>\n",
       "      <td>December</td>\n",
       "    </tr>\n",
       "    <tr>\n",
       "      <th>243792</th>\n",
       "      <td>5696608</td>\n",
       "      <td>2008-12-23 17:35:09</td>\n",
       "      <td>December</td>\n",
       "    </tr>\n",
       "    <tr>\n",
       "      <th>243793</th>\n",
       "      <td>5696608</td>\n",
       "      <td>2008-12-24 01:02:48</td>\n",
       "      <td>December</td>\n",
       "    </tr>\n",
       "    <tr>\n",
       "      <th>243794</th>\n",
       "      <td>5696608</td>\n",
       "      <td>2008-12-30 14:34:45</td>\n",
       "      <td>December</td>\n",
       "    </tr>\n",
       "    <tr>\n",
       "      <th>243795</th>\n",
       "      <td>5696608</td>\n",
       "      <td>2008-12-30 16:32:12</td>\n",
       "      <td>December</td>\n",
       "    </tr>\n",
       "  </tbody>\n",
       "</table>\n",
       "<p>243796 rows × 3 columns</p>\n",
       "</div>"
      ],
      "text/plain": [
       "        user_id       creation_date second_last_month\n",
       "0             1 2008-07-31 23:41:00              None\n",
       "1             1 2008-07-31 23:55:38              None\n",
       "2             1 2008-07-31 23:56:41         July     \n",
       "3             1 2008-08-04 02:45:08         July     \n",
       "4             1 2008-08-04 04:31:03         July     \n",
       "...         ...                 ...               ...\n",
       "243791  5696608 2008-12-23 16:00:37         December \n",
       "243792  5696608 2008-12-23 17:35:09         December \n",
       "243793  5696608 2008-12-24 01:02:48         December \n",
       "243794  5696608 2008-12-30 14:34:45         December \n",
       "243795  5696608 2008-12-30 16:32:12         December \n",
       "\n",
       "[243796 rows x 3 columns]"
      ]
     },
     "execution_count": 17,
     "metadata": {},
     "output_type": "execute_result"
    }
   ],
   "source": [
    "# напишите запрос\n",
    "query = '''\n",
    "SELECT user_id,\n",
    "    creation_date,\n",
    "    TO_CHAR((LAG(creation_date, 2, NULL) OVER (PARTITION BY user_id ORDER BY creation_date)), 'Month') AS second_last_month\n",
    "FROM stackoverflow.posts\n",
    "ORDER BY user_id, creation_date\n",
    "\n",
    "'''\n",
    "\n",
    "# выполните запрос\n",
    "df = pd.read_sql_query(query, con=engine)\n",
    "df"
   ]
  },
  {
   "cell_type": "markdown",
   "metadata": {
    "id": "tf9qq2yzDWK_"
   },
   "source": [
    "# Задание 8"
   ]
  },
  {
   "cell_type": "markdown",
   "metadata": {
    "id": "gfwLVXBYDWLA"
   },
   "source": [
    "Рассчитайте аналог Retention Rate по месяцам для пользователей StackOverflow. Объедините пользователей в когорты по месяцу их первого поста. Возвращение определяйте по наличию поста в текущем месяце. "
   ]
  },
  {
   "cell_type": "markdown",
   "metadata": {
    "id": "kN2ic39WlKpl"
   },
   "source": [
    "| cohort_dt | session_date | users_cnt | cohort_users_cnt | retention_rate |\n",
    "| --- | --- | --- | --- | --- |\n",
    "| 2008-07-01 00:00:00 | 2008-07-01 00:00:00 | 3 | 3 | 100 |\n",
    "| 2008-07-01 00:00:00 | 2008-08-01 00:00:00 | 2 | 3 | 66,67 |\n",
    "| 2008-07-01 00:00:00 | 2008-09-01 00:00:00 | 1 | 3 | 33,33 |\n",
    "| 2008-07-01 00:00:00 | 2008-10-01 00:00:00 | 2 | 3 | 66,67 |\n",
    "| 2008-07-01 00:00:00 | 2008-11-01 00:00:00 | 1 | 3 | 33,33 |\n",
    "| 2008-07-01 00:00:00 | 2008-12-01 00:00:00 | 2 | 3 | 66,67 |\n",
    "| 2008-08-01 00:00:00 | 2008-08-01 00:00:00 | 2151 | 2151 | 100 |\n",
    "| ... | ... | ... | ... | ... |"
   ]
  },
  {
   "cell_type": "code",
   "execution_count": 18,
   "metadata": {
    "id": "LUgFmwmTDWLB"
   },
   "outputs": [
    {
     "data": {
      "text/html": [
       "<div>\n",
       "<style scoped>\n",
       "    .dataframe tbody tr th:only-of-type {\n",
       "        vertical-align: middle;\n",
       "    }\n",
       "\n",
       "    .dataframe tbody tr th {\n",
       "        vertical-align: top;\n",
       "    }\n",
       "\n",
       "    .dataframe thead th {\n",
       "        text-align: right;\n",
       "    }\n",
       "</style>\n",
       "<table border=\"1\" class=\"dataframe\">\n",
       "  <thead>\n",
       "    <tr style=\"text-align: right;\">\n",
       "      <th></th>\n",
       "      <th>cohort_date</th>\n",
       "      <th>session_date</th>\n",
       "      <th>count</th>\n",
       "      <th>cohort_users_count</th>\n",
       "      <th>retention_rate</th>\n",
       "    </tr>\n",
       "  </thead>\n",
       "  <tbody>\n",
       "    <tr>\n",
       "      <th>0</th>\n",
       "      <td>2008-07-01</td>\n",
       "      <td>2008-07-01</td>\n",
       "      <td>3</td>\n",
       "      <td>3</td>\n",
       "      <td>100.00</td>\n",
       "    </tr>\n",
       "    <tr>\n",
       "      <th>1</th>\n",
       "      <td>2008-07-01</td>\n",
       "      <td>2008-08-01</td>\n",
       "      <td>2</td>\n",
       "      <td>3</td>\n",
       "      <td>66.67</td>\n",
       "    </tr>\n",
       "    <tr>\n",
       "      <th>2</th>\n",
       "      <td>2008-07-01</td>\n",
       "      <td>2008-09-01</td>\n",
       "      <td>1</td>\n",
       "      <td>3</td>\n",
       "      <td>33.33</td>\n",
       "    </tr>\n",
       "    <tr>\n",
       "      <th>3</th>\n",
       "      <td>2008-07-01</td>\n",
       "      <td>2008-10-01</td>\n",
       "      <td>2</td>\n",
       "      <td>3</td>\n",
       "      <td>66.67</td>\n",
       "    </tr>\n",
       "    <tr>\n",
       "      <th>4</th>\n",
       "      <td>2008-07-01</td>\n",
       "      <td>2008-11-01</td>\n",
       "      <td>1</td>\n",
       "      <td>3</td>\n",
       "      <td>33.33</td>\n",
       "    </tr>\n",
       "    <tr>\n",
       "      <th>5</th>\n",
       "      <td>2008-07-01</td>\n",
       "      <td>2008-12-01</td>\n",
       "      <td>2</td>\n",
       "      <td>3</td>\n",
       "      <td>66.67</td>\n",
       "    </tr>\n",
       "    <tr>\n",
       "      <th>6</th>\n",
       "      <td>2008-08-01</td>\n",
       "      <td>2008-08-01</td>\n",
       "      <td>2151</td>\n",
       "      <td>2151</td>\n",
       "      <td>100.00</td>\n",
       "    </tr>\n",
       "    <tr>\n",
       "      <th>7</th>\n",
       "      <td>2008-08-01</td>\n",
       "      <td>2008-09-01</td>\n",
       "      <td>1571</td>\n",
       "      <td>2151</td>\n",
       "      <td>73.04</td>\n",
       "    </tr>\n",
       "    <tr>\n",
       "      <th>8</th>\n",
       "      <td>2008-08-01</td>\n",
       "      <td>2008-10-01</td>\n",
       "      <td>1275</td>\n",
       "      <td>2151</td>\n",
       "      <td>59.27</td>\n",
       "    </tr>\n",
       "    <tr>\n",
       "      <th>9</th>\n",
       "      <td>2008-08-01</td>\n",
       "      <td>2008-11-01</td>\n",
       "      <td>1050</td>\n",
       "      <td>2151</td>\n",
       "      <td>48.81</td>\n",
       "    </tr>\n",
       "    <tr>\n",
       "      <th>10</th>\n",
       "      <td>2008-08-01</td>\n",
       "      <td>2008-12-01</td>\n",
       "      <td>894</td>\n",
       "      <td>2151</td>\n",
       "      <td>41.56</td>\n",
       "    </tr>\n",
       "    <tr>\n",
       "      <th>11</th>\n",
       "      <td>2008-09-01</td>\n",
       "      <td>2008-09-01</td>\n",
       "      <td>7678</td>\n",
       "      <td>7678</td>\n",
       "      <td>100.00</td>\n",
       "    </tr>\n",
       "    <tr>\n",
       "      <th>12</th>\n",
       "      <td>2008-09-01</td>\n",
       "      <td>2008-10-01</td>\n",
       "      <td>4132</td>\n",
       "      <td>7678</td>\n",
       "      <td>53.82</td>\n",
       "    </tr>\n",
       "    <tr>\n",
       "      <th>13</th>\n",
       "      <td>2008-09-01</td>\n",
       "      <td>2008-11-01</td>\n",
       "      <td>2966</td>\n",
       "      <td>7678</td>\n",
       "      <td>38.63</td>\n",
       "    </tr>\n",
       "    <tr>\n",
       "      <th>14</th>\n",
       "      <td>2008-09-01</td>\n",
       "      <td>2008-12-01</td>\n",
       "      <td>2500</td>\n",
       "      <td>7678</td>\n",
       "      <td>32.56</td>\n",
       "    </tr>\n",
       "    <tr>\n",
       "      <th>15</th>\n",
       "      <td>2008-10-01</td>\n",
       "      <td>2008-10-01</td>\n",
       "      <td>3629</td>\n",
       "      <td>3629</td>\n",
       "      <td>100.00</td>\n",
       "    </tr>\n",
       "    <tr>\n",
       "      <th>16</th>\n",
       "      <td>2008-10-01</td>\n",
       "      <td>2008-11-01</td>\n",
       "      <td>1640</td>\n",
       "      <td>3629</td>\n",
       "      <td>45.19</td>\n",
       "    </tr>\n",
       "    <tr>\n",
       "      <th>17</th>\n",
       "      <td>2008-10-01</td>\n",
       "      <td>2008-12-01</td>\n",
       "      <td>1221</td>\n",
       "      <td>3629</td>\n",
       "      <td>33.65</td>\n",
       "    </tr>\n",
       "    <tr>\n",
       "      <th>18</th>\n",
       "      <td>2008-11-01</td>\n",
       "      <td>2008-11-01</td>\n",
       "      <td>2852</td>\n",
       "      <td>2852</td>\n",
       "      <td>100.00</td>\n",
       "    </tr>\n",
       "    <tr>\n",
       "      <th>19</th>\n",
       "      <td>2008-11-01</td>\n",
       "      <td>2008-12-01</td>\n",
       "      <td>1151</td>\n",
       "      <td>2852</td>\n",
       "      <td>40.36</td>\n",
       "    </tr>\n",
       "  </tbody>\n",
       "</table>\n",
       "</div>"
      ],
      "text/plain": [
       "   cohort_date session_date  count  cohort_users_count  retention_rate\n",
       "0   2008-07-01   2008-07-01      3                   3          100.00\n",
       "1   2008-07-01   2008-08-01      2                   3           66.67\n",
       "2   2008-07-01   2008-09-01      1                   3           33.33\n",
       "3   2008-07-01   2008-10-01      2                   3           66.67\n",
       "4   2008-07-01   2008-11-01      1                   3           33.33\n",
       "5   2008-07-01   2008-12-01      2                   3           66.67\n",
       "6   2008-08-01   2008-08-01   2151                2151          100.00\n",
       "7   2008-08-01   2008-09-01   1571                2151           73.04\n",
       "8   2008-08-01   2008-10-01   1275                2151           59.27\n",
       "9   2008-08-01   2008-11-01   1050                2151           48.81\n",
       "10  2008-08-01   2008-12-01    894                2151           41.56\n",
       "11  2008-09-01   2008-09-01   7678                7678          100.00\n",
       "12  2008-09-01   2008-10-01   4132                7678           53.82\n",
       "13  2008-09-01   2008-11-01   2966                7678           38.63\n",
       "14  2008-09-01   2008-12-01   2500                7678           32.56\n",
       "15  2008-10-01   2008-10-01   3629                3629          100.00\n",
       "16  2008-10-01   2008-11-01   1640                3629           45.19\n",
       "17  2008-10-01   2008-12-01   1221                3629           33.65\n",
       "18  2008-11-01   2008-11-01   2852                2852          100.00\n",
       "19  2008-11-01   2008-12-01   1151                2852           40.36"
      ]
     },
     "execution_count": 18,
     "metadata": {},
     "output_type": "execute_result"
    }
   ],
   "source": [
    "# напишите запрос\n",
    "query = '''\n",
    "WITH cohorts AS\n",
    "(SELECT users.id AS user_id,\n",
    "    DATE(DATE_TRUNC('month', MIN(posts.creation_date))) AS cohort_date,\n",
    "    COUNT(users.id) OVER (PARTITION BY DATE(DATE_TRUNC('month', MIN(posts.creation_date)))) AS cohort_users_count\n",
    "FROM stackoverflow.users\n",
    "JOIN stackoverflow.posts ON users.id = posts.user_id   \n",
    "GROUP BY users.id\n",
    "ORDER BY users.id\n",
    "),\n",
    "\n",
    "sessions AS\n",
    "(SELECT posts.user_id AS user_id,\n",
    "    DATE(DATE_TRUNC('month', posts.creation_date)) AS session_date\n",
    "FROM stackoverflow.posts\n",
    "GROUP BY user_id,  DATE(DATE_TRUNC('month', posts.creation_date))\n",
    ")\n",
    "\n",
    "SELECT cohorts.cohort_date,\n",
    "    sessions.session_date,\n",
    "    COUNT(sessions.user_id),\n",
    "    cohorts.cohort_users_count,\n",
    "    ROUND((COUNT(sessions.user_id) * 100.00 / cohorts.cohort_users_count), 2) AS retention_rate\n",
    "FROM cohorts\n",
    "JOIN sessions ON cohorts.user_id = sessions.user_id\n",
    "GROUP BY sessions.session_date, cohorts.cohort_date, cohorts.cohort_users_count\n",
    "ORDER BY cohorts.cohort_date, sessions.session_date\n",
    "'''\n",
    "\n",
    "# выполните запрос\n",
    "df = pd.read_sql_query(query, con=engine)\n",
    "df.head(20)"
   ]
  },
  {
   "cell_type": "code",
   "execution_count": 19,
   "metadata": {},
   "outputs": [
    {
     "data": {
      "text/html": [
       "<div>\n",
       "<style scoped>\n",
       "    .dataframe tbody tr th:only-of-type {\n",
       "        vertical-align: middle;\n",
       "    }\n",
       "\n",
       "    .dataframe tbody tr th {\n",
       "        vertical-align: top;\n",
       "    }\n",
       "\n",
       "    .dataframe thead th {\n",
       "        text-align: right;\n",
       "    }\n",
       "</style>\n",
       "<table border=\"1\" class=\"dataframe\">\n",
       "  <thead>\n",
       "    <tr style=\"text-align: right;\">\n",
       "      <th>session_date</th>\n",
       "      <th>2008-07-01</th>\n",
       "      <th>2008-08-01</th>\n",
       "      <th>2008-09-01</th>\n",
       "      <th>2008-10-01</th>\n",
       "      <th>2008-11-01</th>\n",
       "      <th>2008-12-01</th>\n",
       "    </tr>\n",
       "    <tr>\n",
       "      <th>cohort_date</th>\n",
       "      <th></th>\n",
       "      <th></th>\n",
       "      <th></th>\n",
       "      <th></th>\n",
       "      <th></th>\n",
       "      <th></th>\n",
       "    </tr>\n",
       "  </thead>\n",
       "  <tbody>\n",
       "    <tr>\n",
       "      <th>2008-07-01</th>\n",
       "      <td>100.0</td>\n",
       "      <td>66.67</td>\n",
       "      <td>33.33</td>\n",
       "      <td>66.67</td>\n",
       "      <td>33.33</td>\n",
       "      <td>66.67</td>\n",
       "    </tr>\n",
       "    <tr>\n",
       "      <th>2008-08-01</th>\n",
       "      <td>NaN</td>\n",
       "      <td>100.00</td>\n",
       "      <td>73.04</td>\n",
       "      <td>59.27</td>\n",
       "      <td>48.81</td>\n",
       "      <td>41.56</td>\n",
       "    </tr>\n",
       "    <tr>\n",
       "      <th>2008-09-01</th>\n",
       "      <td>NaN</td>\n",
       "      <td>NaN</td>\n",
       "      <td>100.00</td>\n",
       "      <td>53.82</td>\n",
       "      <td>38.63</td>\n",
       "      <td>32.56</td>\n",
       "    </tr>\n",
       "    <tr>\n",
       "      <th>2008-10-01</th>\n",
       "      <td>NaN</td>\n",
       "      <td>NaN</td>\n",
       "      <td>NaN</td>\n",
       "      <td>100.00</td>\n",
       "      <td>45.19</td>\n",
       "      <td>33.65</td>\n",
       "    </tr>\n",
       "    <tr>\n",
       "      <th>2008-11-01</th>\n",
       "      <td>NaN</td>\n",
       "      <td>NaN</td>\n",
       "      <td>NaN</td>\n",
       "      <td>NaN</td>\n",
       "      <td>100.00</td>\n",
       "      <td>40.36</td>\n",
       "    </tr>\n",
       "    <tr>\n",
       "      <th>2008-12-01</th>\n",
       "      <td>NaN</td>\n",
       "      <td>NaN</td>\n",
       "      <td>NaN</td>\n",
       "      <td>NaN</td>\n",
       "      <td>NaN</td>\n",
       "      <td>100.00</td>\n",
       "    </tr>\n",
       "  </tbody>\n",
       "</table>\n",
       "</div>"
      ],
      "text/plain": [
       "session_date  2008-07-01  2008-08-01  2008-09-01  2008-10-01  2008-11-01  \\\n",
       "cohort_date                                                                \n",
       "2008-07-01         100.0       66.67       33.33       66.67       33.33   \n",
       "2008-08-01           NaN      100.00       73.04       59.27       48.81   \n",
       "2008-09-01           NaN         NaN      100.00       53.82       38.63   \n",
       "2008-10-01           NaN         NaN         NaN      100.00       45.19   \n",
       "2008-11-01           NaN         NaN         NaN         NaN      100.00   \n",
       "2008-12-01           NaN         NaN         NaN         NaN         NaN   \n",
       "\n",
       "session_date  2008-12-01  \n",
       "cohort_date               \n",
       "2008-07-01         66.67  \n",
       "2008-08-01         41.56  \n",
       "2008-09-01         32.56  \n",
       "2008-10-01         33.65  \n",
       "2008-11-01         40.36  \n",
       "2008-12-01        100.00  "
      ]
     },
     "execution_count": 19,
     "metadata": {},
     "output_type": "execute_result"
    }
   ],
   "source": [
    "retention = df.pivot('cohort_date', 'session_date', 'retention_rate')\n",
    "retention"
   ]
  },
  {
   "cell_type": "code",
   "execution_count": 20,
   "metadata": {},
   "outputs": [
    {
     "name": "stdout",
     "output_type": "stream",
     "text": [
      "Index([2008-07-01, 2008-08-01, 2008-09-01, 2008-10-01, 2008-11-01, 2008-12-01], dtype='object', name='cohort_date')\n",
      "Index([2008-07-01, 2008-08-01, 2008-09-01, 2008-10-01, 2008-11-01, 2008-12-01], dtype='object', name='session_date')\n"
     ]
    }
   ],
   "source": [
    "print(retention.index)\n",
    "print(retention.columns)"
   ]
  },
  {
   "cell_type": "code",
   "execution_count": 21,
   "metadata": {
    "id": "qAEJc8H1DWLC"
   },
   "outputs": [
    {
     "data": {
      "image/png": "[encoded data removed]",
      "text/plain": [
       "<Figure size 1152x1152 with 2 Axes>"
      ]
     },
     "metadata": {
      "needs_background": "light"
     },
     "output_type": "display_data"
    }
   ],
   "source": [
    "# постройте тепловую карту Retention Rate\n",
    "retention = df.pivot('cohort_date', 'session_date', 'retention_rate')\n",
    "retention.index = [str(x) for x in retention.index]\n",
    "retention.columns = [str(x) for x in retention.columns]\n",
    "\n",
    "# строим хитмэп\n",
    "plt.figure(figsize=(16, 16))\n",
    "sns.heatmap(retention,\n",
    "            annot=True,\n",
    "            fmt='')\n",
    "plt.title('Тепловая карта') \n",
    "plt.show()"
   ]
  },
  {
   "cell_type": "markdown",
   "metadata": {},
   "source": [
    "### Ответ:\n",
    "Для тепловой карты когорт характерен постепенный отвал пользователей когорты: от 100% в первый месяц до более низких в последующие, обычно каждый следующий месяц остается все меньше пользователей.\n",
    "\n",
    "На данной карте мы видим аномальную первую когорту пользователей: значения активных пользователей \"мигают\": 66%, 33%, 66%, 33%. Кроме того, в этой корогте всего три пользователя. Можно предположить, что это аккаунты основателей проекта, которые вели себя иначе, чем большинство \"нормальных\" пользователей. Например, среди основателей проекта более высокая активность и более низкий отсев. \n",
    "\n",
    "Возможно, что во вторую когорту (август 2008) также вошло некоторое количество аккаунтов членов команды: эта когорта также показывает более высокое удержание по сравнению с последующими."
   ]
  },
  {
   "cell_type": "markdown",
   "metadata": {
    "id": "1k7oPWt5DWLK"
   },
   "source": [
    "# Задание 9\n"
   ]
  },
  {
   "cell_type": "markdown",
   "metadata": {
    "id": "ALsYVSyRDWLM"
   },
   "source": [
    "На сколько процентов менялось количество постов ежемесячно с 1 сентября по 31 декабря 2008 года? Отобразите таблицу со следующими полями:\n",
    "\n",
    "- номер месяца;\n",
    "- количество постов за месяц;\n",
    "- процент, который показывает, насколько изменилось количество постов в текущем месяце по сравнению с предыдущим.\n",
    "\n",
    "Если постов стало меньше, значение процента должно быть отрицательным, если больше — положительным. Округлите значение процента до двух знаков после запятой.\n",
    "\n",
    "Напомним, что при делении одного целого числа на другое в PostgreSQL в результате получится целое число, округлённое до ближайшего целого вниз. Чтобы этого избежать, переведите делимое в тип `numeric`."
   ]
  },
  {
   "cell_type": "markdown",
   "metadata": {
    "id": "u4E2zF8DDWLM"
   },
   "source": [
    "| creation_month | posts_count | percentage |\n",
    "| -------------- | ----------- | ---------- |\n",
    "| 9 | 70731 | Nan |\n",
    "| 10 | 63102 | -10.33 |\n",
    "| ... | ... | ... |"
   ]
  },
  {
   "cell_type": "code",
   "execution_count": 23,
   "metadata": {
    "id": "Mb5pShStDWLN",
    "scrolled": true
   },
   "outputs": [
    {
     "data": {
      "text/html": [
       "<div>\n",
       "<style scoped>\n",
       "    .dataframe tbody tr th:only-of-type {\n",
       "        vertical-align: middle;\n",
       "    }\n",
       "\n",
       "    .dataframe tbody tr th {\n",
       "        vertical-align: top;\n",
       "    }\n",
       "\n",
       "    .dataframe thead th {\n",
       "        text-align: right;\n",
       "    }\n",
       "</style>\n",
       "<table border=\"1\" class=\"dataframe\">\n",
       "  <thead>\n",
       "    <tr style=\"text-align: right;\">\n",
       "      <th></th>\n",
       "      <th>creation_month</th>\n",
       "      <th>posts_count</th>\n",
       "      <th>growth_percents</th>\n",
       "    </tr>\n",
       "  </thead>\n",
       "  <tbody>\n",
       "    <tr>\n",
       "      <th>0</th>\n",
       "      <td>9</td>\n",
       "      <td>70371</td>\n",
       "      <td>NaN</td>\n",
       "    </tr>\n",
       "    <tr>\n",
       "      <th>1</th>\n",
       "      <td>10</td>\n",
       "      <td>63102</td>\n",
       "      <td>-10.33</td>\n",
       "    </tr>\n",
       "    <tr>\n",
       "      <th>2</th>\n",
       "      <td>11</td>\n",
       "      <td>46975</td>\n",
       "      <td>-25.56</td>\n",
       "    </tr>\n",
       "    <tr>\n",
       "      <th>3</th>\n",
       "      <td>12</td>\n",
       "      <td>44592</td>\n",
       "      <td>-5.07</td>\n",
       "    </tr>\n",
       "  </tbody>\n",
       "</table>\n",
       "</div>"
      ],
      "text/plain": [
       "   creation_month  posts_count  growth_percents\n",
       "0               9        70371              NaN\n",
       "1              10        63102           -10.33\n",
       "2              11        46975           -25.56\n",
       "3              12        44592            -5.07"
      ]
     },
     "execution_count": 23,
     "metadata": {},
     "output_type": "execute_result"
    }
   ],
   "source": [
    "# напишите запрос\n",
    "query = '''\n",
    "WITH months_posts AS\n",
    "(SELECT CAST(EXTRACT(month FROM posts.creation_date) AS INT) AS creation_month,\n",
    "    COUNT(posts.id) AS posts_count\n",
    "FROM stackoverflow.posts\n",
    "WHERE posts.creation_date >= '2008-09-01'\n",
    "GROUP BY EXTRACT(month FROM creation_date)\n",
    ")\n",
    "\n",
    "SELECT creation_month,\n",
    "    posts_count,\n",
    "    ROUND((\n",
    "        (posts_count - (LAG(posts_count, 1, NULL) OVER(ORDER BY creation_month))) * 100.00 / \n",
    "        (LAG(posts_count, 1, NULL) OVER(ORDER BY creation_month))), 2) AS growth_percents\n",
    "FROM months_posts\n",
    "'''\n",
    "\n",
    "# выполните запрос\n",
    "df = pd.read_sql_query(query, con=engine)\n",
    "df"
   ]
  },
  {
   "cell_type": "code",
   "execution_count": 24,
   "metadata": {},
   "outputs": [],
   "source": [
    "months = {9: 'September', 10: 'October', 11: 'November', 12: 'December'}\n",
    "df['month'] = df['creation_month'].map(months)\n",
    "df = df.drop('creation_month', axis=1)"
   ]
  },
  {
   "cell_type": "code",
   "execution_count": 25,
   "metadata": {
    "id": "377ABjiVDWLP"
   },
   "outputs": [
    {
     "data": {
      "image/png": "[encoded data removed]",
      "text/plain": [
       "<Figure size 648x648 with 1 Axes>"
      ]
     },
     "metadata": {},
     "output_type": "display_data"
    }
   ],
   "source": [
    "# постройте круговую диаграмму с количеством постов по месяцам\n",
    "#define data\n",
    "data = df['posts_count']\n",
    "labels = df['month']\n",
    "\n",
    "#define Seaborn color palette to use\n",
    "colors = sns.color_palette('deep')\n",
    "\n",
    "#create pie chart\n",
    "plt.figure(figsize=(9, 9))\n",
    "plt.title('Круговая диаграмма')\n",
    "plt.pie(data, labels = labels, colors = colors, autopct='%.0f%%')\n",
    "plt.show()"
   ]
  },
  {
   "cell_type": "markdown",
   "metadata": {
    "id": "uw7qMtafDWLP"
   },
   "source": [
    "# Задание 10"
   ]
  },
  {
   "cell_type": "markdown",
   "metadata": {
    "id": "oRBpWKx3DWLQ"
   },
   "source": [
    "Выгрузите данные активности пользователя, который опубликовал больше всего постов за всё время. Выведите данные за октябрь 2008 года в таком виде:\n",
    "\n",
    "- номер недели;\n",
    "- дата и время последнего поста, опубликованного на этой неделе."
   ]
  },
  {
   "cell_type": "markdown",
   "metadata": {
    "id": "XjAWSn_3DWLQ"
   },
   "source": [
    "| week_creation | creation_date |\n",
    "| ------------- | ------------- |\n",
    "| 40 | 2008-10-05 09:00:58 |\n",
    "| 41 | 2008-10-12 21:22:23 |\n",
    "| ... | ... |"
   ]
  },
  {
   "cell_type": "code",
   "execution_count": 26,
   "metadata": {
    "id": "r5F5fSkwDWLQ"
   },
   "outputs": [
    {
     "data": {
      "text/html": [
       "<div>\n",
       "<style scoped>\n",
       "    .dataframe tbody tr th:only-of-type {\n",
       "        vertical-align: middle;\n",
       "    }\n",
       "\n",
       "    .dataframe tbody tr th {\n",
       "        vertical-align: top;\n",
       "    }\n",
       "\n",
       "    .dataframe thead th {\n",
       "        text-align: right;\n",
       "    }\n",
       "</style>\n",
       "<table border=\"1\" class=\"dataframe\">\n",
       "  <thead>\n",
       "    <tr style=\"text-align: right;\">\n",
       "      <th></th>\n",
       "      <th>creation_week</th>\n",
       "      <th>max_creation_date</th>\n",
       "    </tr>\n",
       "  </thead>\n",
       "  <tbody>\n",
       "    <tr>\n",
       "      <th>0</th>\n",
       "      <td>40.0</td>\n",
       "      <td>2008-10-05 09:00:58</td>\n",
       "    </tr>\n",
       "    <tr>\n",
       "      <th>1</th>\n",
       "      <td>41.0</td>\n",
       "      <td>2008-10-12 21:22:23</td>\n",
       "    </tr>\n",
       "    <tr>\n",
       "      <th>2</th>\n",
       "      <td>42.0</td>\n",
       "      <td>2008-10-19 06:49:30</td>\n",
       "    </tr>\n",
       "    <tr>\n",
       "      <th>3</th>\n",
       "      <td>43.0</td>\n",
       "      <td>2008-10-26 21:44:36</td>\n",
       "    </tr>\n",
       "    <tr>\n",
       "      <th>4</th>\n",
       "      <td>44.0</td>\n",
       "      <td>2008-10-31 22:16:01</td>\n",
       "    </tr>\n",
       "  </tbody>\n",
       "</table>\n",
       "</div>"
      ],
      "text/plain": [
       "   creation_week   max_creation_date\n",
       "0           40.0 2008-10-05 09:00:58\n",
       "1           41.0 2008-10-12 21:22:23\n",
       "2           42.0 2008-10-19 06:49:30\n",
       "3           43.0 2008-10-26 21:44:36\n",
       "4           44.0 2008-10-31 22:16:01"
      ]
     },
     "execution_count": 26,
     "metadata": {},
     "output_type": "execute_result"
    }
   ],
   "source": [
    "# напишите запрос\n",
    "query = '''\n",
    "WITH this_user AS\n",
    "(SELECT posts.user_id\n",
    "FROM stackoverflow.posts\n",
    "GROUP BY posts.user_id\n",
    "ORDER BY COUNT(posts.id) DESC\n",
    "LIMIT 1),\n",
    "\n",
    "his_posts AS\n",
    "(SELECT posts.creation_date AS creation_date,\n",
    "    EXTRACT(week from posts.creation_date) AS creation_week\n",
    "FROM stackoverflow.posts\n",
    "WHERE user_id = (SELECT * FROM this_user)\n",
    "AND creation_date >= '2008-10-01'\n",
    "AND creation_date <= '2008-11-01'\n",
    ")\n",
    "\n",
    "SELECT creation_week,\n",
    "    MAX(creation_date) AS max_creation_date\n",
    "FROM his_posts\n",
    "GROUP BY creation_week\n",
    "ORDER BY creation_week\n",
    "'''\n",
    "\n",
    "# выполните запрос\n",
    "df = pd.read_sql_query(query, con=engine)\n",
    "df"
   ]
  },
  {
   "cell_type": "code",
   "execution_count": 27,
   "metadata": {},
   "outputs": [
    {
     "data": {
      "text/html": [
       "<div>\n",
       "<style scoped>\n",
       "    .dataframe tbody tr th:only-of-type {\n",
       "        vertical-align: middle;\n",
       "    }\n",
       "\n",
       "    .dataframe tbody tr th {\n",
       "        vertical-align: top;\n",
       "    }\n",
       "\n",
       "    .dataframe thead th {\n",
       "        text-align: right;\n",
       "    }\n",
       "</style>\n",
       "<table border=\"1\" class=\"dataframe\">\n",
       "  <thead>\n",
       "    <tr style=\"text-align: right;\">\n",
       "      <th></th>\n",
       "      <th>creation_week</th>\n",
       "      <th>max_creation_date</th>\n",
       "    </tr>\n",
       "  </thead>\n",
       "  <tbody>\n",
       "    <tr>\n",
       "      <th>0</th>\n",
       "      <td>40.0</td>\n",
       "      <td>2008-10-05 09:00:58</td>\n",
       "    </tr>\n",
       "    <tr>\n",
       "      <th>1</th>\n",
       "      <td>41.0</td>\n",
       "      <td>2008-10-12 21:22:23</td>\n",
       "    </tr>\n",
       "    <tr>\n",
       "      <th>2</th>\n",
       "      <td>42.0</td>\n",
       "      <td>2008-10-19 06:49:30</td>\n",
       "    </tr>\n",
       "    <tr>\n",
       "      <th>3</th>\n",
       "      <td>43.0</td>\n",
       "      <td>2008-10-26 21:44:36</td>\n",
       "    </tr>\n",
       "    <tr>\n",
       "      <th>4</th>\n",
       "      <td>44.0</td>\n",
       "      <td>2008-10-31 22:16:01</td>\n",
       "    </tr>\n",
       "  </tbody>\n",
       "</table>\n",
       "</div>"
      ],
      "text/plain": [
       "   creation_week   max_creation_date\n",
       "0           40.0 2008-10-05 09:00:58\n",
       "1           41.0 2008-10-12 21:22:23\n",
       "2           42.0 2008-10-19 06:49:30\n",
       "3           43.0 2008-10-26 21:44:36\n",
       "4           44.0 2008-10-31 22:16:01"
      ]
     },
     "execution_count": 27,
     "metadata": {},
     "output_type": "execute_result"
    }
   ],
   "source": [
    "# напишите запрос\n",
    "# если обязательно нужно через оконную функцию, то можно как-то так:\n",
    "query = '''\n",
    "WITH this_user AS\n",
    "(SELECT posts.user_id\n",
    "FROM stackoverflow.posts\n",
    "GROUP BY posts.user_id\n",
    "ORDER BY COUNT(posts.id) DESC\n",
    "LIMIT 1),\n",
    "\n",
    "his_posts AS\n",
    "(SELECT EXTRACT(week from posts.creation_date) AS creation_week,\n",
    "    MAX(creation_date) OVER (PARTITION BY EXTRACT(week from posts.creation_date)) AS max_creation_date\n",
    "FROM stackoverflow.posts\n",
    "WHERE user_id = (SELECT * FROM this_user)\n",
    "AND creation_date >= '2008-10-01'\n",
    "AND creation_date < '2008-11-01'\n",
    ")\n",
    "\n",
    "SELECT DISTINCT *\n",
    "FROM his_posts\n",
    "ORDER BY creation_week\n",
    "'''\n",
    "\n",
    "# выполните запрос\n",
    "df = pd.read_sql_query(query, con=engine)\n",
    "df"
   ]
  }
 ],
 "metadata": {
  "ExecuteTimeLog": [
   {
    "duration": 1356,
    "start_time": "2023-01-21T20:30:17.180Z"
   },
   {
    "duration": 5,
    "start_time": "2023-01-21T20:30:18.538Z"
   },
   {
    "duration": 8676,
    "start_time": "2023-01-21T20:30:18.545Z"
   },
   {
    "duration": 43,
    "start_time": "2023-01-21T20:30:27.224Z"
   },
   {
    "duration": 17,
    "start_time": "2023-01-21T20:30:27.269Z"
   },
   {
    "duration": 135,
    "start_time": "2023-01-21T20:30:27.288Z"
   },
   {
    "duration": 134,
    "start_time": "2023-01-21T20:30:27.424Z"
   },
   {
    "duration": 125,
    "start_time": "2023-01-21T20:30:27.559Z"
   },
   {
    "duration": 35,
    "start_time": "2023-01-21T20:30:27.685Z"
   },
   {
    "duration": 120,
    "start_time": "2023-01-21T20:30:27.723Z"
   },
   {
    "duration": 78,
    "start_time": "2023-01-21T20:30:27.844Z"
   },
   {
    "duration": 120,
    "start_time": "2023-01-21T20:30:27.924Z"
   },
   {
    "duration": 1251,
    "start_time": "2023-01-21T20:30:28.047Z"
   },
   {
    "duration": 60,
    "start_time": "2023-01-21T20:30:29.300Z"
   },
   {
    "duration": 31,
    "start_time": "2023-01-21T20:30:29.363Z"
   },
   {
    "duration": 1126,
    "start_time": "2023-01-21T20:30:29.396Z"
   },
   {
    "duration": 308,
    "start_time": "2023-01-21T20:30:30.524Z"
   },
   {
    "duration": 14,
    "start_time": "2023-01-21T20:30:30.834Z"
   },
   {
    "duration": 36,
    "start_time": "2023-01-21T20:30:30.851Z"
   },
   {
    "duration": 570,
    "start_time": "2023-01-21T20:30:30.889Z"
   },
   {
    "duration": 3,
    "start_time": "2023-01-21T20:30:31.461Z"
   },
   {
    "duration": 111,
    "start_time": "2023-01-21T20:30:31.465Z"
   },
   {
    "duration": 121,
    "start_time": "2023-01-21T20:30:31.578Z"
   },
   {
    "duration": 94,
    "start_time": "2023-01-21T20:30:31.702Z"
   },
   {
    "duration": 119,
    "start_time": "2023-01-21T20:30:31.802Z"
   },
   {
    "duration": 31,
    "start_time": "2023-01-21T20:46:53.449Z"
   },
   {
    "duration": 32,
    "start_time": "2023-01-21T20:47:05.161Z"
   },
   {
    "duration": 1180,
    "start_time": "2023-01-21T21:54:05.599Z"
   },
   {
    "duration": 3,
    "start_time": "2023-01-21T21:54:06.781Z"
   },
   {
    "duration": 9482,
    "start_time": "2023-01-21T21:54:06.786Z"
   },
   {
    "duration": 42,
    "start_time": "2023-01-21T21:54:16.270Z"
   },
   {
    "duration": 15,
    "start_time": "2023-01-21T21:54:16.313Z"
   },
   {
    "duration": 126,
    "start_time": "2023-01-21T21:54:16.330Z"
   },
   {
    "duration": 125,
    "start_time": "2023-01-21T21:54:16.457Z"
   },
   {
    "duration": 129,
    "start_time": "2023-01-21T21:54:16.583Z"
   },
   {
    "duration": 33,
    "start_time": "2023-01-21T21:54:16.713Z"
   },
   {
    "duration": 118,
    "start_time": "2023-01-21T21:54:16.748Z"
   },
   {
    "duration": 70,
    "start_time": "2023-01-21T21:54:16.868Z"
   },
   {
    "duration": 123,
    "start_time": "2023-01-21T21:54:16.939Z"
   },
   {
    "duration": 1111,
    "start_time": "2023-01-21T21:54:17.063Z"
   },
   {
    "duration": 58,
    "start_time": "2023-01-21T21:54:18.176Z"
   },
   {
    "duration": 31,
    "start_time": "2023-01-21T21:54:18.236Z"
   },
   {
    "duration": 1084,
    "start_time": "2023-01-21T21:54:18.268Z"
   },
   {
    "duration": 299,
    "start_time": "2023-01-21T21:54:19.353Z"
   },
   {
    "duration": 13,
    "start_time": "2023-01-21T21:54:19.654Z"
   },
   {
    "duration": 7,
    "start_time": "2023-01-21T21:54:19.669Z"
   },
   {
    "duration": 408,
    "start_time": "2023-01-21T21:54:19.678Z"
   },
   {
    "duration": 6,
    "start_time": "2023-01-21T21:54:20.087Z"
   },
   {
    "duration": 103,
    "start_time": "2023-01-21T21:54:20.095Z"
   },
   {
    "duration": 107,
    "start_time": "2023-01-21T21:54:20.199Z"
   },
   {
    "duration": 89,
    "start_time": "2023-01-21T21:54:20.308Z"
   },
   {
    "duration": 88,
    "start_time": "2023-01-21T21:54:20.399Z"
   },
   {
    "duration": 43,
    "start_time": "2023-01-22T07:50:33.978Z"
   },
   {
    "duration": 1280,
    "start_time": "2023-01-22T07:50:41.935Z"
   },
   {
    "duration": 3,
    "start_time": "2023-01-22T07:50:44.976Z"
   },
   {
    "duration": 5121,
    "start_time": "2023-01-22T07:50:48.456Z"
   },
   {
    "duration": 218,
    "start_time": "2023-01-22T07:50:56.225Z"
   },
   {
    "duration": 15,
    "start_time": "2023-01-22T07:50:59.928Z"
   },
   {
    "duration": 163,
    "start_time": "2023-01-22T07:51:03.345Z"
   },
   {
    "duration": 48,
    "start_time": "2023-01-22T07:51:29.765Z"
   },
   {
    "duration": 48,
    "start_time": "2023-01-22T07:51:31.769Z"
   },
   {
    "duration": 43,
    "start_time": "2023-01-22T07:53:08.024Z"
   },
   {
    "duration": 157,
    "start_time": "2023-01-22T07:54:40.623Z"
   },
   {
    "duration": 78,
    "start_time": "2023-01-22T07:54:51.958Z"
   },
   {
    "duration": 77,
    "start_time": "2023-01-22T07:58:47.383Z"
   },
   {
    "duration": 45,
    "start_time": "2023-01-22T08:06:03.336Z"
   },
   {
    "duration": 162,
    "start_time": "2023-01-22T08:06:44.958Z"
   },
   {
    "duration": 94,
    "start_time": "2023-01-22T08:07:22.971Z"
   },
   {
    "duration": 91,
    "start_time": "2023-01-22T08:07:28.861Z"
   },
   {
    "duration": 157,
    "start_time": "2023-01-22T08:08:00.381Z"
   },
   {
    "duration": 153,
    "start_time": "2023-01-22T08:09:21.828Z"
   },
   {
    "duration": 103,
    "start_time": "2023-01-22T08:11:05.185Z"
   },
   {
    "duration": 46,
    "start_time": "2023-01-22T08:12:27.229Z"
   },
   {
    "duration": 64,
    "start_time": "2023-01-22T08:13:38.544Z"
   },
   {
    "duration": 114,
    "start_time": "2023-01-22T08:13:46.515Z"
   },
   {
    "duration": 142,
    "start_time": "2023-01-22T08:16:49.312Z"
   },
   {
    "duration": 138,
    "start_time": "2023-01-22T08:18:13.900Z"
   },
   {
    "duration": 44,
    "start_time": "2023-01-22T08:18:26.203Z"
   },
   {
    "duration": 125,
    "start_time": "2023-01-22T08:19:55.533Z"
   },
   {
    "duration": 120,
    "start_time": "2023-01-22T08:20:28.434Z"
   },
   {
    "duration": 124,
    "start_time": "2023-01-22T08:21:17.166Z"
   },
   {
    "duration": 120,
    "start_time": "2023-01-22T08:21:40.367Z"
   },
   {
    "duration": 54,
    "start_time": "2023-01-22T08:21:47.930Z"
   },
   {
    "duration": 929,
    "start_time": "2023-01-22T08:22:32.223Z"
   },
   {
    "duration": 136,
    "start_time": "2023-01-22T08:22:37.709Z"
   },
   {
    "duration": 155,
    "start_time": "2023-01-22T08:22:46.109Z"
   },
   {
    "duration": 108,
    "start_time": "2023-01-22T08:23:56.815Z"
   },
   {
    "duration": 107,
    "start_time": "2023-01-22T08:24:39.705Z"
   },
   {
    "duration": 121,
    "start_time": "2023-01-22T08:24:48.029Z"
   },
   {
    "duration": 117,
    "start_time": "2023-01-22T08:28:42.767Z"
   },
   {
    "duration": 5,
    "start_time": "2023-01-22T08:28:47.365Z"
   },
   {
    "duration": 6,
    "start_time": "2023-01-22T08:28:56.326Z"
   },
   {
    "duration": 18,
    "start_time": "2023-01-22T08:29:11.315Z"
   },
   {
    "duration": 11,
    "start_time": "2023-01-22T08:29:21.163Z"
   },
   {
    "duration": 7,
    "start_time": "2023-01-22T08:30:26.052Z"
   },
   {
    "duration": 121,
    "start_time": "2023-01-22T08:30:36.812Z"
   },
   {
    "duration": 835,
    "start_time": "2023-01-22T08:31:12.934Z"
   },
   {
    "duration": 132,
    "start_time": "2023-01-22T08:31:20.482Z"
   },
   {
    "duration": 133,
    "start_time": "2023-01-22T08:31:54.218Z"
   },
   {
    "duration": 57,
    "start_time": "2023-01-22T08:33:12.453Z"
   },
   {
    "duration": 54,
    "start_time": "2023-01-22T08:34:07.527Z"
   },
   {
    "duration": 3,
    "start_time": "2023-01-22T08:36:03.020Z"
   },
   {
    "duration": 1249,
    "start_time": "2023-01-22T15:35:10.416Z"
   },
   {
    "duration": 4,
    "start_time": "2023-01-22T15:35:11.666Z"
   },
   {
    "duration": 7278,
    "start_time": "2023-01-22T15:35:11.671Z"
   },
   {
    "duration": 270,
    "start_time": "2023-01-22T15:35:18.951Z"
   },
   {
    "duration": 16,
    "start_time": "2023-01-22T15:35:19.223Z"
   },
   {
    "duration": 163,
    "start_time": "2023-01-22T15:35:19.240Z"
   },
   {
    "duration": 165,
    "start_time": "2023-01-22T15:35:19.405Z"
   },
   {
    "duration": 165,
    "start_time": "2023-01-22T15:35:19.572Z"
   },
   {
    "duration": 64,
    "start_time": "2023-01-22T15:35:19.739Z"
   },
   {
    "duration": 154,
    "start_time": "2023-01-22T15:35:19.806Z"
   },
   {
    "duration": 77,
    "start_time": "2023-01-22T15:35:19.962Z"
   },
   {
    "duration": 103,
    "start_time": "2023-01-22T15:35:20.040Z"
   },
   {
    "duration": 163,
    "start_time": "2023-01-22T15:35:20.144Z"
   },
   {
    "duration": 1307,
    "start_time": "2023-01-22T15:35:20.309Z"
   },
   {
    "duration": 110,
    "start_time": "2023-01-22T15:35:21.619Z"
   },
   {
    "duration": 69,
    "start_time": "2023-01-22T15:35:21.730Z"
   },
   {
    "duration": 1151,
    "start_time": "2023-01-22T15:35:21.805Z"
   },
   {
    "duration": 337,
    "start_time": "2023-01-22T15:35:22.958Z"
   },
   {
    "duration": 20,
    "start_time": "2023-01-22T15:35:23.298Z"
   },
   {
    "duration": 12,
    "start_time": "2023-01-22T15:35:23.320Z"
   },
   {
    "duration": 454,
    "start_time": "2023-01-22T15:35:23.334Z"
   },
   {
    "duration": 5,
    "start_time": "2023-01-22T15:35:23.790Z"
   },
   {
    "duration": 164,
    "start_time": "2023-01-22T15:35:23.800Z"
   },
   {
    "duration": 5,
    "start_time": "2023-01-22T15:35:23.966Z"
   },
   {
    "duration": 111,
    "start_time": "2023-01-22T15:35:23.973Z"
   },
   {
    "duration": 147,
    "start_time": "2023-01-22T15:35:24.085Z"
   },
   {
    "duration": 123,
    "start_time": "2023-01-22T15:35:24.234Z"
   },
   {
    "duration": 1007,
    "start_time": "2023-01-22T15:35:45.715Z"
   },
   {
    "duration": 927,
    "start_time": "2023-01-22T15:36:20.464Z"
   },
   {
    "duration": 970,
    "start_time": "2023-01-22T15:36:32.625Z"
   },
   {
    "duration": 1032,
    "start_time": "2023-01-22T15:36:36.688Z"
   },
   {
    "duration": 879,
    "start_time": "2023-01-22T15:36:45.406Z"
   },
   {
    "duration": 1213,
    "start_time": "2023-01-22T15:36:52.457Z"
   },
   {
    "duration": 1152,
    "start_time": "2023-01-22T15:36:59.577Z"
   },
   {
    "duration": 1338,
    "start_time": "2023-01-22T15:37:07.201Z"
   },
   {
    "duration": 4,
    "start_time": "2023-01-22T15:37:08.545Z"
   },
   {
    "duration": 7126,
    "start_time": "2023-01-22T15:37:08.551Z"
   },
   {
    "duration": 279,
    "start_time": "2023-01-22T15:37:15.681Z"
   },
   {
    "duration": 18,
    "start_time": "2023-01-22T15:37:15.962Z"
   },
   {
    "duration": 166,
    "start_time": "2023-01-22T15:37:15.982Z"
   },
   {
    "duration": 174,
    "start_time": "2023-01-22T15:37:16.150Z"
   },
   {
    "duration": 160,
    "start_time": "2023-01-22T15:37:16.326Z"
   },
   {
    "duration": 67,
    "start_time": "2023-01-22T15:37:16.488Z"
   },
   {
    "duration": 169,
    "start_time": "2023-01-22T15:37:16.558Z"
   },
   {
    "duration": 95,
    "start_time": "2023-01-22T15:37:16.730Z"
   },
   {
    "duration": 112,
    "start_time": "2023-01-22T15:37:16.827Z"
   },
   {
    "duration": 149,
    "start_time": "2023-01-22T15:37:16.940Z"
   },
   {
    "duration": 1233,
    "start_time": "2023-01-22T15:37:17.095Z"
   },
   {
    "duration": 107,
    "start_time": "2023-01-22T15:37:18.329Z"
   },
   {
    "duration": 66,
    "start_time": "2023-01-22T15:37:18.437Z"
   },
   {
    "duration": 1147,
    "start_time": "2023-01-22T15:37:18.505Z"
   },
   {
    "duration": 322,
    "start_time": "2023-01-22T15:37:19.654Z"
   },
   {
    "duration": 17,
    "start_time": "2023-01-22T15:37:19.978Z"
   },
   {
    "duration": 38,
    "start_time": "2023-01-22T15:37:19.997Z"
   },
   {
    "duration": 462,
    "start_time": "2023-01-22T15:37:20.037Z"
   },
   {
    "duration": 4,
    "start_time": "2023-01-22T15:37:20.502Z"
   },
   {
    "duration": 170,
    "start_time": "2023-01-22T15:37:20.508Z"
   },
   {
    "duration": 7,
    "start_time": "2023-01-22T15:37:20.681Z"
   },
   {
    "duration": 162,
    "start_time": "2023-01-22T15:37:20.690Z"
   },
   {
    "duration": 164,
    "start_time": "2023-01-22T15:37:20.853Z"
   },
   {
    "duration": 132,
    "start_time": "2023-01-22T15:37:21.019Z"
   },
   {
    "duration": 123,
    "start_time": "2023-01-22T15:37:21.156Z"
   },
   {
    "duration": 148,
    "start_time": "2023-01-22T15:37:45.189Z"
   },
   {
    "duration": 1255,
    "start_time": "2023-01-22T15:37:47.318Z"
   },
   {
    "duration": 8,
    "start_time": "2023-01-22T15:37:56.132Z"
   },
   {
    "duration": 137,
    "start_time": "2023-01-22T15:37:57.029Z"
   },
   {
    "duration": 121,
    "start_time": "2023-01-22T15:38:12.539Z"
   },
   {
    "duration": 179,
    "start_time": "2023-01-22T15:38:42.920Z"
   },
   {
    "duration": 1202,
    "start_time": "2023-01-22T15:45:55.156Z"
   },
   {
    "duration": 4,
    "start_time": "2023-01-22T15:45:56.360Z"
   },
   {
    "duration": 6281,
    "start_time": "2023-01-22T15:45:56.365Z"
   },
   {
    "duration": 271,
    "start_time": "2023-01-22T15:46:02.648Z"
   },
   {
    "duration": 15,
    "start_time": "2023-01-22T15:46:02.922Z"
   },
   {
    "duration": 149,
    "start_time": "2023-01-22T15:46:02.939Z"
   },
   {
    "duration": 173,
    "start_time": "2023-01-22T15:46:03.090Z"
   },
   {
    "duration": 168,
    "start_time": "2023-01-22T15:46:03.265Z"
   },
   {
    "duration": 77,
    "start_time": "2023-01-22T15:46:03.434Z"
   },
   {
    "duration": 156,
    "start_time": "2023-01-22T15:46:03.515Z"
   },
   {
    "duration": 76,
    "start_time": "2023-01-22T15:46:03.673Z"
   },
   {
    "duration": 102,
    "start_time": "2023-01-22T15:46:03.750Z"
   },
   {
    "duration": 165,
    "start_time": "2023-01-22T15:46:03.853Z"
   },
   {
    "duration": 1223,
    "start_time": "2023-01-22T15:46:04.022Z"
   },
   {
    "duration": 91,
    "start_time": "2023-01-22T15:46:05.247Z"
   },
   {
    "duration": 65,
    "start_time": "2023-01-22T15:46:05.340Z"
   },
   {
    "duration": 1238,
    "start_time": "2023-01-22T15:46:05.406Z"
   },
   {
    "duration": 325,
    "start_time": "2023-01-22T15:46:06.646Z"
   },
   {
    "duration": 13,
    "start_time": "2023-01-22T15:46:06.973Z"
   },
   {
    "duration": 31,
    "start_time": "2023-01-22T15:46:06.988Z"
   },
   {
    "duration": 445,
    "start_time": "2023-01-22T15:46:07.021Z"
   },
   {
    "duration": 2,
    "start_time": "2023-01-22T15:46:07.468Z"
   },
   {
    "duration": 152,
    "start_time": "2023-01-22T15:46:07.472Z"
   },
   {
    "duration": 5,
    "start_time": "2023-01-22T15:46:07.626Z"
   },
   {
    "duration": 111,
    "start_time": "2023-01-22T15:46:07.632Z"
   },
   {
    "duration": 118,
    "start_time": "2023-01-22T15:46:07.745Z"
   },
   {
    "duration": 118,
    "start_time": "2023-01-22T15:46:07.864Z"
   }
  ],
  "colab": {
   "name": "AdvansedSQLProjectTemplate.ipynb",
   "provenance": []
  },
  "kernelspec": {
   "display_name": "Python 3 (ipykernel)",
   "language": "python",
   "name": "python3"
  },
  "language_info": {
   "codemirror_mode": {
    "name": "ipython",
    "version": 3
   },
   "file_extension": ".py",
   "mimetype": "text/x-python",
   "name": "python",
   "nbconvert_exporter": "python",
   "pygments_lexer": "ipython3",
   "version": "3.8.10"
  },
  "toc": {
   "base_numbering": 1,
   "nav_menu": {},
   "number_sections": true,
   "sideBar": true,
   "skip_h1_title": true,
   "title_cell": "Table of Contents",
   "title_sidebar": "Contents",
   "toc_cell": false,
   "toc_position": {},
   "toc_section_display": true,
   "toc_window_display": false
  }
 },
 "nbformat": 4,
 "nbformat_minor": 1
}
