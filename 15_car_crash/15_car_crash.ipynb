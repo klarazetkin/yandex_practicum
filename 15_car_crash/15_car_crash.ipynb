{
 "cells": [
  {
   "cell_type": "markdown",
   "id": "9e1d5d53",
   "metadata": {},
   "source": [
    "# Сборный проект\n",
    "## Постановка задачи\n",
    "\n",
    "Заказчик исследования - каршеринговая компания. Задача - создать систему, которая могла бы оценить риск ДТП по выбранному маршруту движения. Под риском понимается вероятность ДТП с любым повреждением транспортного средства. Как только водитель забронировал автомобиль, сел за руль и выбрал маршрут, система должна оценить уровень риска. Если уровень риска высок, водитель увидит предупреждение и рекомендации по маршруту.\n",
    "\n",
    "\n",
    "Идея создания такой системы находится в стадии предварительного обсуждения и проработки. Чёткого алгоритма работы и подобных решений на рынке ещё не существует. Текущая задача — понять, возможно ли предсказывать ДТП, опираясь на исторические данные одного из регионов.\n",
    "\n",
    "Идея решения задачи от заказчика: \n",
    "* Создать модель предсказания ДТП (целевое значение — at_fault (виновник) в таблице parties)\n",
    "* Для модели выбрать тип виновника — только машина (car)\n",
    "* Выбрать случаи, когда ДТП привело к любым повреждениям транспортного средства, кроме типа SCRATCH (царапина)\n",
    "* Для моделирования ограничиться данными за 2012 год — они самые свежие\n",
    "* Обязательное условие — учесть фактор возраста автомобиля\n",
    "* На основе модели исследовать основные факторы ДТП\n",
    "* Понять, помогут ли результаты моделирования и анализ важности факторов ответить на вопросы:\n",
    "** Возможно ли создать адекватную системы оценки водительского риска при выдаче авто?\n",
    "** Какие ещё факторы нужно учесть?\n",
    "** Нужно ли оборудовать автомобиль какими-либо датчиками или камерой?\n",
    "\n",
    "Для решения поставленной задачи предполагаются следующие действия:\n",
    "* изучить исходные данные, сделав выгрузку SQL таблиц\n",
    "* написать список задач для дополнительного исследования\n",
    "* отобрать факторы для обучения моделей\n",
    "* создать датасет для обучения моделей\n",
    "* обучить на датасете три модели\n",
    "* выбрать лучшую из них и проверить ее в работе\n",
    "* проанализировать важность факторов ДТП и провести по ним дополнительное исследование\n",
    "* составить рекомендации для компании-заказчика"
   ]
  },
  {
   "cell_type": "markdown",
   "id": "35530094",
   "metadata": {},
   "source": [
    "\n",
    "## Импорт библиотек"
   ]
  },
  {
   "cell_type": "code",
   "execution_count": 1,
   "id": "1d21de34",
   "metadata": {},
   "outputs": [
    {
     "name": "stdout",
     "output_type": "stream",
     "text": [
      "Requirement already satisfied: scikit-learn==1.1.3 in /opt/conda/lib/python3.9/site-packages (1.1.3)\r\n",
      "Requirement already satisfied: joblib>=1.0.0 in /opt/conda/lib/python3.9/site-packages (from scikit-learn==1.1.3) (1.2.0)\r\n",
      "Requirement already satisfied: numpy>=1.17.3 in /opt/conda/lib/python3.9/site-packages (from scikit-learn==1.1.3) (1.21.1)\r\n",
      "Requirement already satisfied: scipy>=1.3.2 in /opt/conda/lib/python3.9/site-packages (from scikit-learn==1.1.3) (1.9.1)\r\n",
      "Requirement already satisfied: threadpoolctl>=2.0.0 in /opt/conda/lib/python3.9/site-packages (from scikit-learn==1.1.3) (3.1.0)\r\n"
     ]
    }
   ],
   "source": [
    "!pip install scikit-learn==1.1.3"
   ]
  },
  {
   "cell_type": "code",
   "execution_count": 2,
   "id": "1eea7675",
   "metadata": {},
   "outputs": [],
   "source": [
    "import math # standard\n",
    "from math import ceil # standard\n",
    "from pathlib import Path # standard\n",
    "import random # standard\n",
    "import re # standard\n",
    "import warnings # standard library\n",
    "warnings.filterwarnings('ignore')\n",
    "\n",
    "from catboost import CatBoostClassifier\n",
    "import lightgbm as lgb\n",
    "import matplotlib.pyplot as plt\n",
    "import numpy as np\n",
    "import pandas as pd\n",
    "pd.set_option('display.float_format', '{:,.4f}'.format)\n",
    "from scipy import stats\n",
    "import seaborn as sns\n",
    "from sklearn.model_selection import RandomizedSearchCV\n",
    "from sklearn.model_selection import GridSearchCV\n",
    "from sklearn.model_selection import train_test_split \n",
    "from sklearn.preprocessing import StandardScaler\n",
    "from sklearn.preprocessing import OneHotEncoder\n",
    "from sklearn.linear_model import LogisticRegression\n",
    "from sklearn.dummy import DummyClassifier\n",
    "from sklearn.metrics import roc_auc_score\n",
    "from sklearn.metrics import f1_score\n",
    "from sklearn.metrics import make_scorer\n",
    "from sklearn.metrics import confusion_matrix\n",
    "from sklearn.metrics import recall_score\n",
    "from sklearn.metrics import precision_score\n",
    "from sqlalchemy import create_engine "
   ]
  },
  {
   "cell_type": "markdown",
   "id": "fe92cebe",
   "metadata": {},
   "source": [
    "## Импорт и первичное исследование данных\n",
    "### Создание подключения"
   ]
  },
  {
   "cell_type": "code",
   "execution_count": 3,
   "id": "77a2807f",
   "metadata": {},
   "outputs": [],
   "source": [
    "db_config = {\n",
    "    'user': 'praktikum_student', # имя пользователя\n",
    "    'pwd': 'Sdf4$2;d-d30pp', # пароль\n",
    "    'host': 'rc1b-wcoijxj3yxfsf3fs.mdb.yandexcloud.net',\n",
    "    'port': 6432, # порт подключения\n",
    "    'db': 'data-science-vehicle-db' # название базы данных\n",
    "}  \n",
    "\n",
    "connection_string = 'postgresql://{}:{}@{}:{}/{}'.format(\n",
    "    db_config['user'],\n",
    "    db_config['pwd'],\n",
    "    db_config['host'],\n",
    "    db_config['port'],\n",
    "    db_config['db'],\n",
    ")"
   ]
  },
  {
   "cell_type": "code",
   "execution_count": 4,
   "id": "8bc7ef08",
   "metadata": {},
   "outputs": [],
   "source": [
    "engine = create_engine(connection_string) "
   ]
  },
  {
   "cell_type": "markdown",
   "id": "a1e48e55",
   "metadata": {},
   "source": [
    "### Краткое описание таблиц\n",
    "\n",
    "* collisions — общая информация о ДТП\n",
    "\n",
    "Имеет уникальный case_id. Эта таблица описывает общую информацию о ДТП. Например, где оно произошло и когда.\n",
    "\n",
    "* parties — информация об участниках ДТП\n",
    "\n",
    "Имеет неуникальный case_id, который сопоставляется с соответствующим ДТП в таблице collisions. Каждая строка здесь описывает одну из сторон, участвующих в ДТП. Если столкнулись две машины, в этой таблице должно быть две строки с совпадением case_id. Если нужен уникальный идентификатор, это case_id and party_number.\n",
    "\n",
    "* vehicles — информация о пострадавших машинах\n",
    "\n",
    "Имеет неуникальные case_id и неуникальные party_number, которые сопоставляются с таблицей collisions и таблицей parties. Если нужен уникальный идентификатор, это case_id and party_number."
   ]
  },
  {
   "cell_type": "markdown",
   "id": "522b694d",
   "metadata": {},
   "source": [
    "### Таблица collisions\n",
    "Таблица collisions содержит информацию о транспортных происшествиях. Первичный ключ - `case_id`. В таблице 1_400_000 записей. \n",
    "\n",
    "#### Описание данных\n",
    "Признаки, содержащиеся в таблице:\n",
    "* 'case_id' - уникальный id происшествия\n",
    "* 'county_city_location' - место происшествия\n",
    "* 'county_location' - тоже место происшествия\n",
    "* 'distance' - расстояние от главной дороги\n",
    "* 'direction' - направление движения\n",
    "* 'intersection' - булево поле, отвечающее на вопрос: \"на перекрестке?\"\n",
    "* 'weather_1' - погода\n",
    "* 'location_type' - тип места происшествия (трасса, перекресток и тд)\n",
    "* 'collision_damage' - степень серьезности ДТП\n",
    "* 'party_count' - количество сторон ДТП\n",
    "* 'primary_collision_factor' - главный фактор ДТП\n",
    "* 'pcf_violation_category' - категория нарушения\n",
    "* 'type_of_collision' - тип происшествия\n",
    "* 'motor_vehicle_involved_with' - второе транспортное средство, участвующее в ДТП\n",
    "* 'road_surface' - поверхность дороги (сухая, скользкая, мокрая...)\n",
    "* 'road_condition_1' - состояние дороги (нормальное, с ямами, ремонт, отсутствие дорожного покрытия и тд)\n",
    "* 'lighting' - освещенность\n",
    "* 'control_device' - устройство управление (светофор?)\n",
    "* 'collision_date' - дата происшествия \n",
    "* 'collision_time' - время происшествия\n",
    "\n",
    "#### Типы данных\n",
    "Все колонки, кроме `distance`, `party_count`, `intersection` имеют тип object. В некоторых случаях типы данных не соответствуют факту, возможно стоит конвертировать:\n",
    "* `intersection` ->  boolean\n",
    "* `collision_date` -> date\n",
    "* `collision_time` -> time\n",
    "* `case_id` -> int\n",
    "\n",
    "#### Пустые значения\n",
    "В таблице есть пустые значения."
   ]
  },
  {
   "cell_type": "raw",
   "id": "72237d5a",
   "metadata": {},
   "source": [
    "query = '''\n",
    "SELECT *\n",
    "FROM collisions\n",
    "'''\n",
    "\n",
    "collisions_df = pd.read_sql_query(query, con=engine) "
   ]
  },
  {
   "cell_type": "code",
   "execution_count": 5,
   "id": "aeebe7ab",
   "metadata": {},
   "outputs": [],
   "source": [
    "def overall_info(df):\n",
    "    print('Shape:')\n",
    "    print(df.shape)\n",
    "    print('Head:')\n",
    "    display(df.head())\n",
    "    print('Describe df:')\n",
    "    display(df.describe())\n",
    "    print(); print()\n",
    "    print(df.info())\n",
    "    print(); print()\n",
    "    print('Nan values:')\n",
    "    display(df.isna().mean())\n",
    "    print('Distributions of numerical values:')\n",
    "    df.hist(figsize=(27, 9))"
   ]
  },
  {
   "cell_type": "raw",
   "id": "22772347",
   "metadata": {},
   "source": [
    "overall_info(collisions_df)"
   ]
  },
  {
   "cell_type": "raw",
   "id": "13efc7da",
   "metadata": {},
   "source": [
    "collisions_df.columns    "
   ]
  },
  {
   "cell_type": "code",
   "execution_count": 6,
   "id": "72b22e4a",
   "metadata": {},
   "outputs": [],
   "source": [
    "def print_uniq_values_frequency(df):\n",
    "    print('Уникальные значения, %')\n",
    "    for column in df.columns:\n",
    "        if column not in ['id', 'case_id']:\n",
    "            print(column); print()\n",
    "            print(df[column].value_counts() / df.shape[0] * 100)\n",
    "            print(); print()"
   ]
  },
  {
   "cell_type": "raw",
   "id": "7445da44",
   "metadata": {},
   "source": [
    "print_uniq_values_frequency(collisions_df)"
   ]
  },
  {
   "cell_type": "code",
   "execution_count": 7,
   "id": "4ebe3b59",
   "metadata": {},
   "outputs": [],
   "source": [
    "project_path = Path('broken/home/klarazetkin/Documents/yandex/module_4/project_5')\n",
    "              \n",
    "def save_df(df, project_path, df_file_name):\n",
    "    if project_path.is_dir():\n",
    "        file_name = str(project_path) + '/' + df_file_name   \n",
    "        file_path = Path(file_name) \n",
    "        file_path.parent.mkdir(parents=True, exist_ok=True)  \n",
    "        df.to_csv(file_path)  \n",
    "    else:\n",
    "        print(\"Local backup failed, you probably don't need it\")"
   ]
  },
  {
   "cell_type": "raw",
   "id": "f4041b61",
   "metadata": {},
   "source": [
    "save_df(collisions_df, project_path, 'collisions_df.csv')"
   ]
  },
  {
   "cell_type": "markdown",
   "id": "2a54dad9",
   "metadata": {},
   "source": [
    "### Таблица parties\n",
    "#### Описание данных\n",
    "Признаки, содержащиеся в таблице:\n",
    "* id - уникальный id стороны ДТП\n",
    "* case_id - уникальный id происшествия (вторичный ключ)\n",
    "* party_number - номер стороны-участника ДТП\n",
    "* party_type - тип участника (машина, пешеход, дерево...)\n",
    "* at_fault - виновность стороны в ДТП\n",
    "* insurance_premium - сумма страховки\n",
    "* party_sobriety - трезвость участника ДТП\n",
    "* party_drug_physical - информация о наркотическом опьянении и физическом состоянии участника\n",
    "* cellphone_in_use - наличие телефона в автомобиле\n",
    "\n",
    "#### Типы данных\n",
    "Нужно будет конвертировать:\n",
    "* cellphone_in_use -> boolean\n",
    "* at_fault -> boolean\n",
    "\n",
    "#### Пустые значения\n",
    "В таблице есть пустые значения:\n",
    "* insurance_premium     0.15\n",
    "* party_sobriety        0.03\n",
    "* party_drug_physical   0.84\n",
    "* cellphone_in_use      0.19\n"
   ]
  },
  {
   "cell_type": "raw",
   "id": "cdb75cb2",
   "metadata": {},
   "source": [
    "query = '''\n",
    "SELECT *\n",
    "FROM parties\n",
    "'''\n",
    "\n",
    "parties_df = pd.read_sql_query(query, con=engine) \n"
   ]
  },
  {
   "cell_type": "raw",
   "id": "634f83f6",
   "metadata": {},
   "source": [
    "overall_info(parties_df)"
   ]
  },
  {
   "cell_type": "raw",
   "id": "034d1fef",
   "metadata": {},
   "source": [
    "print_uniq_values_frequency(parties_df)"
   ]
  },
  {
   "cell_type": "raw",
   "id": "3b147d3a",
   "metadata": {},
   "source": [
    "save_df(parties_df, project_path, 'parties_df.csv')"
   ]
  },
  {
   "cell_type": "markdown",
   "id": "fd6904c2",
   "metadata": {},
   "source": [
    "### Таблица vehicles\n",
    "\n",
    "\n",
    "#### Описание данных\n",
    "Поля таблицы:\n",
    "* id - уникальный id транспортного средства\n",
    "* case_id - уникальный id происшествия из таблицы collisions\n",
    "* party_number - номер стороны ДТП\n",
    "* vehicle_type - тип транспортного средства\n",
    "* vehicle_transmission - тип коробки передач\n",
    "* vehicle_age - возраст транспортного средства\n",
    "\n",
    "#### Типы данных\n",
    "Типы данных в основном адекватны.\n",
    "\n",
    "#### Пустые значения\n",
    "В таблице есть пропуски:\n",
    "* vehicle_transmission:   0.02 %\n",
    "* vehicle_age:            0.02 %"
   ]
  },
  {
   "cell_type": "raw",
   "id": "f6e8498f",
   "metadata": {},
   "source": [
    "query = '''\n",
    "SELECT *\n",
    "FROM vehicles\n",
    "'''\n",
    "\n",
    "vehicles_df = pd.read_sql_query(query, con=engine) "
   ]
  },
  {
   "cell_type": "raw",
   "id": "35c90a69",
   "metadata": {},
   "source": [
    "overall_info(vehicles_df)"
   ]
  },
  {
   "cell_type": "raw",
   "id": "a9d84eb7",
   "metadata": {},
   "source": [
    "print_uniq_values_frequency(vehicles_df)"
   ]
  },
  {
   "cell_type": "raw",
   "id": "c28b03d4",
   "metadata": {},
   "source": [
    "save_df(vehicles_df, project_path, 'vehicles_df.csv')"
   ]
  },
  {
   "cell_type": "markdown",
   "id": "c8f8fb8a",
   "metadata": {},
   "source": [
    "### Связь таблиц"
   ]
  },
  {
   "cell_type": "markdown",
   "id": "8b387263",
   "metadata": {},
   "source": [
    "Таблицы связаны следующим образом:\n",
    "* в таблице collisions есть поле case_id - это первичный ключ таблицы collisions и он соответствует уникальному идентификатору происшествия;\n",
    "* по этому полю (case_id) с таблицей collisions связаны таблицы parties и vehicles - в каждой из них тоже есть поле case_id, для них это вторичный ключ;\n",
    "* между собой таблицы parties и vehicles связаны по двум полям: case_id и party_number. Поле party_number означает номер стороны конфликта в данном конфликте. Соответственно, о каждом транспортном средстве мы знаем, в какое происшествие (определяемое case_id) оно попало и какой по номеру стороне конфликта (это определяется полем party_number) оно принадлежит. Про каждую сторону происшествия знаем ее номер в конфликте (party_number) и происшествие, в котором эта сторона участвовала.\n",
    "\n",
    "Поля case_id и party_number являются вторичными ключами для таблиц parties и vehicles. Первичные ключи для этих таблиц - это id, но связь между таблицами не по id, а по party_number + case_id.\n",
    "\n",
    "Если одно и то же транспортное средство участвовало во многих происшествиях, вероятно, оно попадет в таблицу vehicles многократно, с разными id и с разными комбинациями party_number + case_id. То есть в рамках таблицы это будут разные объекты.\n",
    "\n",
    "Точно так же если один и тот же человек попал во многие дорожные происшествия, то он будет иметь по одной записи на происшествие в таблице parties, потому что для каждого происшествия он выступает как отдельный актор."
   ]
  },
  {
   "cell_type": "markdown",
   "id": "a8b92317",
   "metadata": {},
   "source": [
    "Проверим, что связь работает и что нет \"потерявшихся\" записей, когда запись о происшествии не имеет соответствующих записей в parties или vehicles. Сначала заджойним таблицы попарно.\n",
    "\n",
    "Для всех записей collisions есть записи о сторонах ДТП: количество уникальных записей в каждой из таблиц после INNER JOIN не изменилось."
   ]
  },
  {
   "cell_type": "raw",
   "id": "df203444",
   "metadata": {},
   "source": [
    "query = '''\n",
    "SELECT\n",
    "    COUNT(*) AS total_lines,\n",
    "    COUNT(DISTINCT collisions.case_id) AS case_id_collisions,\n",
    "    COUNT(DISTINCT parties.case_id) AS case_id_parties,\n",
    "    COUNT(DISTINCT parties.id) AS parties_count\n",
    "FROM collisions\n",
    "JOIN parties ON collisions.case_id = parties.case_id\n",
    "ORDER BY COUNT(*) DESC\n",
    "'''\n",
    "\n",
    "temp_df = pd.read_sql_query(query, con=engine) \n",
    "temp_df"
   ]
  },
  {
   "cell_type": "markdown",
   "id": "f2b1ed9b",
   "metadata": {},
   "source": [
    "Информация по ТС есть не для всех collisions.case_id, но для некоторых collisions.case_id есть несколько ТС участников:"
   ]
  },
  {
   "cell_type": "raw",
   "id": "6750b35d",
   "metadata": {},
   "source": [
    "query = '''\n",
    "SELECT COUNT(*) AS total_lines,\n",
    "    COUNT(DISTINCT collisions.case_id) AS case_id_collisions,\n",
    "    COUNT(DISTINCT vehicles.case_id) AS case_id_vehicles,\n",
    "    COUNT(DISTINCT vehicles.id) AS vehicles_count\n",
    "FROM collisions\n",
    "JOIN vehicles ON vehicles.case_id = collisions.case_id\n",
    "ORDER BY COUNT(*) DESC\n",
    "'''\n",
    "\n",
    "temp_df = pd.read_sql_query(query, con=engine) \n",
    "temp_df"
   ]
  },
  {
   "cell_type": "raw",
   "id": "3faf1564",
   "metadata": {},
   "source": [
    "query = '''\n",
    "SELECT COUNT(*) AS total_lines,\n",
    "    COUNT(DISTINCT vehicles.case_id) AS case_id_vehicles,\n",
    "    COUNT(DISTINCT parties.case_id) AS case_id_parties,\n",
    "    COUNT(DISTINCT parties.id) AS parties_count,\n",
    "    COUNT(DISTINCT vehicles.id) AS vehicles_count\n",
    "    \n",
    "    \n",
    "FROM parties\n",
    "LEFT JOIN vehicles ON vehicles.case_id = parties.case_id AND vehicles.party_number = parties.party_number\n",
    "ORDER BY COUNT(*) DESC\n",
    "'''\n",
    "\n",
    "temp_df = pd.read_sql_query(query, con=engine) \n",
    "temp_df"
   ]
  },
  {
   "cell_type": "markdown",
   "id": "01657a64",
   "metadata": {},
   "source": [
    "Логично, что при INNER JOIN выпадают записи о сторонах ДТП, для которых нет соответствующих записей о ТС."
   ]
  },
  {
   "cell_type": "raw",
   "id": "2ec3c3a9",
   "metadata": {},
   "source": [
    "query = '''\n",
    "SELECT COUNT(*) AS total_lines,\n",
    "    COUNT(DISTINCT vehicles.case_id) AS case_id_vehicles,\n",
    "    COUNT(DISTINCT parties.case_id) AS case_id_parties,\n",
    "    COUNT(DISTINCT parties.id) AS parties_count,\n",
    "    COUNT(DISTINCT vehicles.id) AS vehicles_count\n",
    "    \n",
    "    \n",
    "FROM parties\n",
    "JOIN vehicles ON vehicles.case_id = parties.case_id AND vehicles.party_number = parties.party_number\n",
    "ORDER BY COUNT(*) DESC\n",
    "'''\n",
    "\n",
    "temp_df = pd.read_sql_query(query, con=engine) \n",
    "temp_df"
   ]
  },
  {
   "cell_type": "markdown",
   "id": "d9eeffc5",
   "metadata": {},
   "source": [
    "Заджойним три таблицы и проверим корректность джойна. После итогового джойна общее количество записей не может быть больше, чем количество parties.id, потому что:\n",
    "* нужно, чтоб в итоговую таблицу вошли все записи collisions\n",
    "* одной записи collisions.case_id соответствует несколько записей в таблице parties, соответственно, записей в итоговой таблице будет больше, чем в collisions, число должно быть равно COUNT(parties.id), поскольку parties без соответствующих collisions нет\n",
    "* транспортные средства интересны с т.з. их принадлежности сторонам конфликта, поэтому джойним их через таблицу parties по двум полям, иначе получится произведение всех записей vehicles на все записи parties при одинаковом case_id\n",
    "\n",
    "Этот джойн и будем использовать в дальнейшем."
   ]
  },
  {
   "cell_type": "raw",
   "id": "02bff243",
   "metadata": {},
   "source": [
    "query = '''\n",
    "SELECT COUNT(*) AS total_lines,\n",
    "    COUNT(DISTINCT collisions.case_id) AS case_id_collisions,\n",
    "    COUNT(DISTINCT vehicles.case_id) AS case_id_vehicles,\n",
    "    COUNT(DISTINCT parties.case_id) AS case_id_parties,\n",
    "    COUNT(DISTINCT parties.id) AS parties_count,\n",
    "    COUNT(DISTINCT vehicles.id) AS vehicles_count\n",
    "    \n",
    "FROM collisions\n",
    "JOIN parties ON collisions.case_id = parties.case_id\n",
    "LEFT JOIN vehicles ON vehicles.case_id = parties.case_id AND vehicles.party_number = parties.party_number\n",
    "ORDER BY COUNT(*) DESC\n",
    "'''\n",
    "\n",
    "temp_df = pd.read_sql_query(query, con=engine) \n",
    "temp_df"
   ]
  },
  {
   "cell_type": "markdown",
   "id": "de96310a",
   "metadata": {},
   "source": [
    "Как видно из итогового запроса, отсутствует информация по ТС примерно для по 43.4% случаев, причем практически все записи соответствуют ДТП с малым ущербом: из 845771 ДТП записи по сторонам ДТП и транспортным средствам есть в 238417 случаях, то есть потерялось примерно 72,8% данных."
   ]
  },
  {
   "cell_type": "raw",
   "id": "9d69e79c",
   "metadata": {},
   "source": [
    "query = '''\n",
    "SELECT collisions.collision_damage, \n",
    "    COUNT(DISTINCT collisions.case_id) AS check_collisions,\n",
    "    COUNT(DISTINCT vehicles.case_id) AS check_vehicles,\n",
    "    COUNT(DISTINCT parties.case_id) AS check_parties\n",
    "FROM collisions\n",
    "JOIN parties ON collisions.case_id = parties.case_id\n",
    "LEFT JOIN vehicles ON vehicles.case_id = parties.case_id AND vehicles.party_number = parties.party_number\n",
    "GROUP BY collisions.collision_damage\n",
    "ORDER BY COUNT(*) DESC\n",
    "'''\n",
    "\n",
    "temp_df = pd.read_sql_query(query, con=engine) \n",
    "temp_df"
   ]
  },
  {
   "cell_type": "markdown",
   "id": "950585d4",
   "metadata": {},
   "source": [
    "### Ошибочные данные, выявленные на этапе ознакомления\n",
    "#### Ошибочные данные в таблице parties\n",
    "В таблице точно есть ошибочные данные, которые придется исправить или удалить. Например, в качестве виновной стороны ДТП видим дорожные знаки, деревья, здания. Более того, они управляют автомобилем, т.к. есть связь с таблицей vehicles."
   ]
  },
  {
   "cell_type": "raw",
   "id": "40e87084",
   "metadata": {},
   "source": [
    "query = '''\n",
    "SELECT parties.party_type, COUNT(parties.*), ARRAY_AGG(DISTINCT vehicles.vehicle_type)\n",
    "FROM vehicles\n",
    "JOIN parties ON vehicles.party_number = parties.party_number AND vehicles.case_id = parties.case_id\n",
    "WHERE parties.at_fault = 1\n",
    "AND parties.party_type != 'car'\n",
    "GROUP BY parties.party_type\n",
    "LIMIT 10\n",
    "'''\n",
    "\n",
    "temp_df = pd.read_sql_query(query, con=engine) \n",
    "temp_df"
   ]
  },
  {
   "cell_type": "markdown",
   "id": "d9ccb90e",
   "metadata": {},
   "source": [
    "Исследуем эти кейсы подробней."
   ]
  },
  {
   "cell_type": "raw",
   "id": "d594c26f",
   "metadata": {},
   "source": [
    "query = '''\n",
    "SELECT parties.party_type, \n",
    "    parties.party_number,\n",
    "    COUNT(DISTINCT parties.id), \n",
    "    parties.party_sobriety, \n",
    "    parties.party_drug_physical,\n",
    "    ARRAY_AGG(DISTINCT vehicles.vehicle_type)\n",
    "FROM vehicles\n",
    "JOIN parties ON vehicles.party_number = parties.party_number AND vehicles.case_id = parties.case_id\n",
    "WHERE parties.at_fault = 1\n",
    "AND parties.party_type != 'car'\n",
    "GROUP BY parties.party_type, parties.party_number, parties.party_sobriety, parties.party_drug_physical\n",
    "ORDER BY COUNT(DISTINCT parties.id) DESC\n",
    "LIMIT 100\n",
    "'''\n",
    "\n",
    "temp_df = pd.read_sql_query(query, con=engine) \n",
    "temp_df"
   ]
  },
  {
   "cell_type": "markdown",
   "id": "32f9e183",
   "metadata": {},
   "source": [
    "Подозрительные данные:"
   ]
  },
  {
   "cell_type": "raw",
   "id": "2ff14c99",
   "metadata": {},
   "source": [
    "query = '''\n",
    "WITH suspicious_case_ids AS\n",
    "(SELECT DISTINCT parties.case_id\n",
    "FROM vehicles\n",
    "JOIN parties ON vehicles.party_number = parties.party_number AND vehicles.case_id = parties.case_id\n",
    "WHERE parties.at_fault = 1\n",
    "AND parties.party_type != 'car'\n",
    "AND (parties.party_sobriety IS NOT NULL OR parties.party_drug_physical IS NOT NULL)\n",
    ")\n",
    "\n",
    "SELECT collisions.case_id,\n",
    "    collisions.collision_damage,\n",
    "    collisions.party_count,\n",
    "    parties.id AS party_id,\n",
    "    parties.party_number,\n",
    "    parties.at_fault,\n",
    "    parties.party_type,\n",
    "    parties.party_sobriety,\n",
    "    parties.party_drug_physical,\n",
    "    vehicles.vehicle_type\n",
    "FROM collisions\n",
    "JOIN parties ON collisions.case_id = parties.case_id\n",
    "LEFT JOIN vehicles ON vehicles.case_id = parties.case_id AND vehicles.party_number = parties.party_number\n",
    "WHERE collisions.case_id IN (SELECT * FROM suspicious_case_ids) \n",
    "ORDER BY collisions.case_id, collisions.party_count\n",
    "'''\n",
    "\n",
    "temp_df = pd.read_sql_query(query, con=engine) \n",
    "temp_df.head(20)"
   ]
  },
  {
   "cell_type": "markdown",
   "id": "d51c2886",
   "metadata": {},
   "source": [
    "В таблице записи о 88_857 участниках ДТП, которые содержат данные не о людях, а о неодушевленных предметах, это нормально. А вот 38_481 записей о неодушевленных предметах, которые стали виновниками ДТП, - это явная ошибка. Данных о пешеходах в колонке нет, или они скрыты в категории 'other'. Поскольку в работе нужно анализировать поведение водителей, все типы parties.party_type придется дропнуть. Так эта ошибка в данных будет устранена."
   ]
  },
  {
   "cell_type": "raw",
   "id": "0b8df39f",
   "metadata": {},
   "source": [
    "query = '''\n",
    "SELECT 'non-human at fault' AS name, COUNT(DISTINCT parties.case_id) AS count_ids\n",
    "FROM vehicles\n",
    "JOIN parties ON vehicles.party_number = parties.party_number AND vehicles.case_id = parties.case_id\n",
    "WHERE parties.at_fault = 1\n",
    "AND parties.party_type != 'car'\n",
    "AND (parties.party_sobriety IS NOT NULL OR parties.party_drug_physical IS NOT NULL)\n",
    "\n",
    "UNION ALL\n",
    "\n",
    "SELECT 'all non-human actors' AS name, COUNT(DISTINCT parties.case_id) AS count_ids\n",
    "FROM vehicles\n",
    "JOIN parties ON vehicles.party_number = parties.party_number AND vehicles.case_id = parties.case_id\n",
    "WHERE parties.party_type != 'car'\n",
    "AND (parties.party_sobriety IS NOT NULL OR parties.party_drug_physical IS NOT NULL)\n",
    "'''\n",
    "\n",
    "temp_df = pd.read_sql_query(query, con=engine) \n",
    "temp_df.head(20)"
   ]
  },
  {
   "cell_type": "raw",
   "id": "5f5dab9e",
   "metadata": {},
   "source": [
    "parties_df.party_type.value_counts()"
   ]
  },
  {
   "cell_type": "markdown",
   "id": "3f9ded1e",
   "metadata": {},
   "source": [
    "## Статистический анализ факторов ДТП\n",
    "### В какие месяцы происходило больше всего ДТП?\n",
    "#### Анализ данных без разбивки по годам\n",
    "Создадим SQL запрос, чтоб ответить на этот вопрос."
   ]
  },
  {
   "cell_type": "raw",
   "id": "86d36f03",
   "metadata": {},
   "source": [
    "query = '''\n",
    "SELECT CAST(DATE_PART('month', collision_date) AS INT) AS month_number,\n",
    "    TO_CHAR(collision_date, 'month') AS month_name, \n",
    "    COUNT(*) AS collisions_count\n",
    "FROM collisions\n",
    "GROUP BY TO_CHAR(collision_date, 'month'), DATE_PART('month', collision_date)\n",
    "ORDER BY DATE_PART('month', collision_date)\n",
    "'''\n",
    "\n",
    "temp_df = pd.read_sql_query(query, con=engine) \n",
    "temp_df"
   ]
  },
  {
   "cell_type": "code",
   "execution_count": 8,
   "id": "3d4ba00b",
   "metadata": {},
   "outputs": [],
   "source": [
    "def print_barplot(df, column_x, column_y, title='MyBarplot', figsize=(9, 6)):\n",
    "    f, ax = plt.subplots(figsize=figsize)\n",
    "    sns.barplot(data=df,  x=column_x, y=column_y, ci='sd', palette='viridis', ax=ax)\n",
    "    plt.title(title)\n",
    "    plt.xticks(rotation=90)\n",
    "    plt.show()"
   ]
  },
  {
   "cell_type": "raw",
   "id": "eb9598d9",
   "metadata": {},
   "source": [
    "print(temp_df.collisions_count.describe())\n",
    "print_barplot(temp_df, \n",
    "              column_x='month_name', \n",
    "              column_y='collisions_count', \n",
    "              title='Распределение ДТП по месяцам')"
   ]
  },
  {
   "cell_type": "markdown",
   "id": "f51f62d6",
   "metadata": {},
   "source": [
    "Можно сделать предварительный вывод, что наибольшее количество ДТП случается с января по май, причем наиболее неблагополучный месяц - март, второй по опасности - январь. "
   ]
  },
  {
   "cell_type": "markdown",
   "id": "2da1a54a",
   "metadata": {},
   "source": [
    "#### Проверка гипотезы о неполноте данных\n",
    "Чтобы убедиться в правильности предварительного вывода проверим гипотезу о неполноте данных: возможно, в базе отсутствуют данные за месяцы каких-то годов."
   ]
  },
  {
   "cell_type": "raw",
   "id": "9bfb1b16",
   "metadata": {
    "scrolled": true
   },
   "source": [
    "query = '''\n",
    "SELECT TO_CHAR(collision_date, 'YYYY-MM') AS month_year, \n",
    "    COUNT(*) AS collisions_count\n",
    "FROM collisions\n",
    "GROUP BY TO_CHAR(collision_date, 'YYYY-MM') \n",
    "ORDER BY TO_CHAR(collision_date, 'YYYY-MM')\n",
    "'''\n",
    "\n",
    "temp_df = pd.read_sql_query(query, con=engine) \n",
    "temp_df"
   ]
  },
  {
   "cell_type": "raw",
   "id": "b1741255",
   "metadata": {},
   "source": [
    "print(temp_df.collisions_count.describe())\n",
    "print_barplot(temp_df, \n",
    "              column_x='month_year', \n",
    "              column_y='collisions_count', \n",
    "              title='Распределение ДТП по месяцам c разбивкой по годам',\n",
    "              figsize=(20, 6))"
   ]
  },
  {
   "cell_type": "markdown",
   "id": "68ad7be5",
   "metadata": {},
   "source": [
    "Из графика видно, что начиная с июня 2012 года данные по авариям крайне неполные, а за некоторые месяцы и вовсе отсутствуют.\n",
    "\n",
    "Явно выраженной динамики по месяцам нет, хотя можно отметить, что в октябре аварий сравнительно больше, чем в другие месяцы; а в январе-феврале обычно наблюдается спад. Поскольку модели предполагается учить на данных за 2012 год, то дату и привязанную к ней сезонность имеет смысл исключить из датасета, так как данные есть только за первые пять месяцев. \n",
    "\n",
    "Первоначальный вывод о том, что есть условно опасный (с января по май) и условно безопасный (с июня по декабрь) сезоны, неверен."
   ]
  },
  {
   "cell_type": "markdown",
   "id": "0fe97215",
   "metadata": {},
   "source": [
    "### Задачи на исследование\n",
    "Для понимания данных целесообразно исследовать следующие вопросы:\n",
    "* типичное количество участников ДТП и их самые популярные комбинации (транспортное средство, дерево, дорожный знак и тд);\n",
    "* проверить гипотезу о том, что пьяные и под веществами водители чаще попадают в ДТП, где они являются единственным участником;\n",
    "* проверить гипотезу о том, что пьяные и под веществами водители чаще становятся виновниками смертельных ДТП;\n",
    "* зависимость количеств ДТП от состояния дорожного покрытия;\n",
    "* зависимость количеств ДТП от погоде;\n",
    "* зависимость количеств ДТП от времени суток и освещенности;\n",
    "* распределение ДТП по наличию алкоголя в крови водителя;\n",
    "* распределение ДТП по наличию наркотиков в крови водителя;\n",
    "* зависимость от возраста транспортного средства;\n",
    "* исследовать типичные обстоятельства ДТП с тяжелыми последствиями;\n",
    "* исследовать типичные признаки водителя, винового в ДТП;\n",
    "* исследовать типы транспортных средств, которые чаще всего попадают в ДТП;\n",
    "* исследовать типы транспортных средств, которые чаще всего управляются виновником ДТП"
   ]
  },
  {
   "cell_type": "markdown",
   "id": "9b10b6e9",
   "metadata": {},
   "source": [
    "#### Решение задачи 1\n",
    "Опишем решение этой задачи:\n",
    "* определить типы транспортных средств, которые чаще всего управляются виновником ДТП\n",
    "\n",
    "Нужно составить SQL  запрос, связав таблицы vehicles и parties по полям `vehicles.party_number = parties.party_number AND vehicles.case_id = parties.case_id`, сгруппировать по полям parties.party_type, vehicles.vehicle_type и выбрать уникальные комбинации."
   ]
  },
  {
   "cell_type": "raw",
   "id": "073a6dfa",
   "metadata": {},
   "source": [
    "query = '''\n",
    "SELECT parties.party_type,\n",
    "    vehicles.vehicle_type,\n",
    "    COUNT(*) AS fault_parties_count\n",
    "FROM vehicles\n",
    "JOIN parties ON vehicles.party_number = parties.party_number AND vehicles.case_id = parties.case_id\n",
    "WHERE parties.at_fault = 1\n",
    "-- AND parties.party_type = 'car'\n",
    "GROUP BY parties.party_type, vehicles.vehicle_type\n",
    "ORDER BY parties.party_type, COUNT(*) DESC\n",
    "'''\n",
    "\n",
    "temp_df = pd.read_sql_query(query, con=engine) \n",
    "temp_df"
   ]
  },
  {
   "cell_type": "markdown",
   "id": "df6e8ae7",
   "metadata": {},
   "source": [
    "На этом этапе выяснится, что в данных есть ошибки. От коллеги ожидается, что он укажет на необходимость исправить данные перед обучением модели, а запрос исправит, чтоб он стал информативным, примерно так:"
   ]
  },
  {
   "cell_type": "raw",
   "id": "e15c831c",
   "metadata": {},
   "source": [
    "query = '''\n",
    "SELECT vehicles.vehicle_type,\n",
    "    COUNT(*) AS fault_parties_count\n",
    "FROM vehicles\n",
    "JOIN parties ON vehicles.party_number = parties.party_number AND vehicles.case_id = parties.case_id\n",
    "WHERE parties.at_fault = 1\n",
    "AND parties.party_type = 'car'\n",
    "GROUP BY vehicles.vehicle_type\n",
    "ORDER BY COUNT(*) DESC\n",
    "'''\n",
    "\n",
    "temp_df = pd.read_sql_query(query, con=engine) \n",
    "temp_df"
   ]
  },
  {
   "cell_type": "raw",
   "id": "b1eb08b8",
   "metadata": {},
   "source": [
    "print(temp_df.fault_parties_count.describe())\n",
    "print_barplot(temp_df, \n",
    "              column_x='vehicle_type', \n",
    "              column_y='fault_parties_count', \n",
    "              title='Транспортные средства виновников ДТП')"
   ]
  },
  {
   "cell_type": "markdown",
   "id": "13d51161",
   "metadata": {},
   "source": [
    "Чтоб сделать вывод, посмотрим, на чем вообще ездили водители-участники ДТП (для которых 'party_type' = 'car') безотносительно их виновности."
   ]
  },
  {
   "cell_type": "raw",
   "id": "70fd68b8",
   "metadata": {},
   "source": [
    "query = '''\n",
    "SELECT vehicles.vehicle_type,\n",
    "    COUNT(*) AS fault_parties_count\n",
    "FROM vehicles\n",
    "JOIN parties ON vehicles.party_number = parties.party_number AND vehicles.case_id = parties.case_id\n",
    "WHERE parties.party_type = 'car'\n",
    "GROUP BY vehicles.vehicle_type\n",
    "ORDER BY COUNT(*) DESC\n",
    "'''\n",
    "\n",
    "temp_df = pd.read_sql_query(query, con=engine) \n",
    "temp_df"
   ]
  },
  {
   "cell_type": "raw",
   "id": "2172c2b5",
   "metadata": {},
   "source": [
    "print(temp_df.fault_parties_count.describe())\n",
    "print_barplot(temp_df, \n",
    "              column_x='vehicle_type', \n",
    "              column_y='fault_parties_count', \n",
    "              title='Транспортные средства виновников ДТП')"
   ]
  },
  {
   "cell_type": "markdown",
   "id": "208e55cf",
   "metadata": {},
   "source": [
    "Можно сделать вывод о том, что никакой явной зависимости риска стать виновником ДТП от типа транспортного средства нет. Водители, ставшие виновниками ДТП, ездят на том же, на чем остальные участники ДТП."
   ]
  },
  {
   "cell_type": "markdown",
   "id": "b024f0dd",
   "metadata": {},
   "source": [
    "#### Решение задачи 2\n",
    "Опишем предполагаемый путь решения второй задачи:\n",
    "* типичные обстоятельства ДТП с тяжелыми последствиями"
   ]
  },
  {
   "cell_type": "markdown",
   "id": "6c6babf9",
   "metadata": {},
   "source": [
    "Нужно составить SQL запрос: \n",
    "1. корректно связать таблицы collisions, parties и vehicles\n",
    "2. сгруппировать по полям parties.party_type, vehicles.vehicle_type и выбрать уникальные комбинации\n",
    "3. какие комбинации нужно выбрать, выяснится в процессе. Задачу нужно выполнить творчески.\n",
    "\n",
    "Предварительно стоит ознакомиться с данными в таблицах, чтоб получить содержательный результат, сгруппировав значения в колонках там, где это уместно. "
   ]
  },
  {
   "cell_type": "raw",
   "id": "4ec2de8f",
   "metadata": {},
   "source": [
    "query = '''\n",
    "WITH severe_and_fatal_collisions_count AS\n",
    "(SELECT COUNT(DISTINCT collisions.case_id)\n",
    "FROM collisions\n",
    "JOIN parties ON collisions.case_id = parties.case_id\n",
    "LEFT JOIN vehicles ON vehicles.case_id = parties.case_id AND vehicles.party_number = parties.party_number\n",
    "WHERE collisions.collision_damage in ('severe damage', 'fatal')\n",
    "AND parties.party_type = 'car'\n",
    ")\n",
    "\n",
    "SELECT \n",
    "    (COUNT(DISTINCT collisions.case_id) * 100.0 / (SELECT * FROM severe_and_fatal_collisions_count)\n",
    "    ) AS collisions_percent,\n",
    "    collisions.weather_1,\n",
    "    collisions.location_type, \n",
    "    collisions.party_count,\n",
    "    collisions.primary_collision_factor,\n",
    "    \n",
    "    CASE \n",
    "        WHEN collisions.road_surface = 'dry'\n",
    "        THEN 'dry'\n",
    "        ELSE 'bad'\n",
    "    END AS road_surface,\n",
    "    \n",
    "    CASE \n",
    "        WHEN CAST(DATE_PART('month', collisions.collision_date) AS INT) IN (1, 2, 3, 4, 5) \n",
    "        THEN 'dangerous season'\n",
    "        WHEN CAST(DATE_PART('month', collisions.collision_date) AS INT) NOT IN (1, 2, 3, 4, 5) \n",
    "        THEN 'other season'\n",
    "    END AS season,\n",
    "        \n",
    "    CASE \n",
    "        WHEN (parties.party_sobriety IN ('had not been drinking'))\n",
    "        THEN 'sober'\n",
    "        WHEN (parties.party_sobriety IN ('unknown', 'not applicable'))\n",
    "        THEN 'unknown'\n",
    "        ELSE 'drunk'\n",
    "    END AS drunk_driver,\n",
    "    \n",
    "    CASE \n",
    "        WHEN (parties.party_drug_physical IN ('G', 'under drug influence'))\n",
    "        THEN 'under drugs'\n",
    "        WHEN (parties.party_drug_physical IN ('not applicable'))\n",
    "        THEN 'unknown'\n",
    "        WHEN (parties.party_drug_physical IN ('sleepy/fatigued', 'impairment - physical'))\n",
    "        THEN 'physical_disorder'\n",
    "        WHEN parties.party_drug_physical IS NULL\n",
    "        THEN 'not_influenced'\n",
    "    END AS influenced_driver,\n",
    "    \n",
    "    -- parties.party_sobriety,\n",
    "    -- parties.party_drug_physical\n",
    "    \n",
    "    ARRAY_AGG(DISTINCT vehicles.vehicle_type) AS vehicle_types,\n",
    "    ARRAY_AGG(DISTINCT parties.party_type) AS party_types\n",
    "\n",
    "FROM collisions\n",
    "JOIN parties ON collisions.case_id = parties.case_id\n",
    "LEFT JOIN vehicles ON vehicles.case_id = parties.case_id AND vehicles.party_number = parties.party_number\n",
    "WHERE collisions.collision_damage in ('severe damage', 'fatal')\n",
    "AND parties.party_type = 'car'\n",
    "GROUP BY   \n",
    "    collisions.weather_1,\n",
    "    collisions.location_type, \n",
    "    collisions.party_count,\n",
    "    collisions.primary_collision_factor,\n",
    "    \n",
    "    CASE \n",
    "        WHEN collisions.road_surface = 'dry'\n",
    "        THEN 'dry'\n",
    "        ELSE 'bad'\n",
    "    END,\n",
    "    \n",
    "    CASE \n",
    "        WHEN CAST(DATE_PART('month', collisions.collision_date) AS INT) IN (1, 2, 3, 4, 5) \n",
    "        THEN 'dangerous season'\n",
    "        WHEN CAST(DATE_PART('month', collisions.collision_date) AS INT) NOT IN (1, 2, 3, 4, 5) \n",
    "        THEN 'other season'\n",
    "    END,\n",
    "    \n",
    "    CASE \n",
    "        WHEN (parties.party_sobriety IN ('had not been drinking'))\n",
    "        THEN 'sober'\n",
    "        WHEN (parties.party_sobriety IN ('unknown', 'not applicable'))\n",
    "        THEN 'unknown'\n",
    "        ELSE 'drunk'\n",
    "    END,\n",
    "    \n",
    "    CASE \n",
    "        WHEN (parties.party_drug_physical IN ('G', 'under drug influence'))\n",
    "        THEN 'under drugs'\n",
    "        WHEN (parties.party_drug_physical IN ('not applicable'))\n",
    "        THEN 'unknown'\n",
    "        WHEN (parties.party_drug_physical IN ('sleepy/fatigued', 'impairment - physical'))\n",
    "        THEN 'physical_disorder'\n",
    "        WHEN parties.party_drug_physical IS NULL\n",
    "        THEN 'not_influenced'\n",
    "    END\n",
    "    \n",
    "    -- parties.party_sobriety,\n",
    "    -- parties.party_drug_physical\n",
    "ORDER BY COUNT(DISTINCT collisions.case_id) DESC\n",
    "LIMIT 20\n",
    "'''\n",
    "\n",
    "temp_df = pd.read_sql_query(query, con=engine) \n",
    "temp_df"
   ]
  },
  {
   "cell_type": "markdown",
   "id": "bf8e1a8b",
   "metadata": {},
   "source": [
    "Из таблицы видно, что самый частый сценарий ДТП с тяжелыми и фатальными последствиями - это трезвый водитель в ясную погоду на сухой дороге, нарушающий правила дорожного движения. В совокупности эти случаи составляют более половины случаев (55,69%)."
   ]
  },
  {
   "cell_type": "raw",
   "id": "7fa061c0",
   "metadata": {
    "scrolled": true
   },
   "source": [
    "query = '''\n",
    "WITH severe_and_fatal_collisions_count AS\n",
    "(SELECT COUNT(DISTINCT collisions.case_id)\n",
    "FROM collisions\n",
    "JOIN parties ON collisions.case_id = parties.case_id\n",
    "LEFT JOIN vehicles ON vehicles.case_id = parties.case_id AND vehicles.party_number = parties.party_number\n",
    "WHERE collisions.collision_damage in ('severe damage', 'fatal')\n",
    "AND parties.party_type = 'car'\n",
    ")\n",
    "\n",
    "SELECT \n",
    "    (COUNT(DISTINCT collisions.case_id) * 100.0 / (SELECT * FROM severe_and_fatal_collisions_count)) AS collisions_percent\n",
    "\n",
    "FROM collisions\n",
    "JOIN parties ON collisions.case_id = parties.case_id\n",
    "LEFT JOIN vehicles ON vehicles.case_id = parties.case_id AND vehicles.party_number = parties.party_number\n",
    "WHERE collisions.collision_damage in ('severe damage', 'fatal')\n",
    "AND collisions.weather_1 = 'clear'\n",
    "AND collisions.primary_collision_factor = 'vehicle code violation'\n",
    "AND collisions.road_surface = 'dry'\n",
    "AND parties.party_type = 'car'\n",
    "AND parties.party_sobriety IN ('had not been drinking')\n",
    "AND parties.party_drug_physical IS NULL\n",
    "    \n",
    "ORDER BY COUNT(DISTINCT collisions.case_id) DESC\n",
    "LIMIT 20\n",
    "'''\n",
    "\n",
    "temp_df = pd.read_sql_query(query, con=engine) \n",
    "temp_df"
   ]
  },
  {
   "cell_type": "markdown",
   "id": "63096a09",
   "metadata": {},
   "source": [
    "Cгруппируем данные для красивой визуализации. Как выяснилось выше, сезон и тип ТС нас не интересуют. Колонка `location_type` в данном случае тоже не информативна."
   ]
  },
  {
   "cell_type": "raw",
   "id": "e07fa84b",
   "metadata": {
    "scrolled": true
   },
   "source": [
    "query = '''\n",
    "WITH severe_and_fatal_collisions_count AS\n",
    "(SELECT COUNT(DISTINCT collisions.case_id)\n",
    "FROM collisions\n",
    "JOIN parties ON collisions.case_id = parties.case_id\n",
    "LEFT JOIN vehicles ON vehicles.case_id = parties.case_id AND vehicles.party_number = parties.party_number\n",
    "WHERE collisions.collision_damage in ('severe damage', 'fatal')\n",
    "AND parties.party_type = 'car'\n",
    "),\n",
    "\n",
    "prepared_data AS (\n",
    "SELECT \n",
    "    (COUNT(DISTINCT collisions.case_id) * 100.0 / (SELECT * FROM severe_and_fatal_collisions_count)\n",
    "        ) AS collisions_percent,\n",
    "    collisions.weather_1,\n",
    "    collisions.primary_collision_factor,\n",
    "\n",
    "    CASE \n",
    "        WHEN collisions.road_surface = 'dry'\n",
    "        THEN 'dry road'\n",
    "        ELSE 'bad road'\n",
    "    END AS road_surface,\n",
    "    \n",
    "    CASE\n",
    "        WHEN collisions.party_count = 1\n",
    "        THEN '1 party'\n",
    "        ELSE '2 and more'\n",
    "    END AS parties_count,\n",
    "\n",
    "    CASE \n",
    "        WHEN (parties.party_sobriety IN ('had not been drinking'))\n",
    "        THEN 'sober'\n",
    "        WHEN (parties.party_sobriety IN ('unknown', 'not applicable'))\n",
    "        THEN 'unknown'\n",
    "        ELSE 'drunk'\n",
    "    END AS drunk_driver,\n",
    "\n",
    "    CASE \n",
    "        WHEN (parties.party_drug_physical IN ('G', 'under drug influence'))\n",
    "        THEN 'under drugs'\n",
    "        WHEN (parties.party_drug_physical IN ('not applicable'))\n",
    "        THEN 'unknown'\n",
    "        WHEN (parties.party_drug_physical IN ('sleepy/fatigued', 'impairment - physical'))\n",
    "        THEN 'physical_disorder'\n",
    "        WHEN parties.party_drug_physical IS NULL\n",
    "        THEN 'not_influenced'\n",
    "    END AS influenced_driver\n",
    "\n",
    "FROM collisions\n",
    "JOIN parties ON collisions.case_id = parties.case_id\n",
    "LEFT JOIN vehicles ON vehicles.case_id = parties.case_id AND vehicles.party_number = parties.party_number\n",
    "WHERE collisions.collision_damage in ('severe damage', 'fatal')\n",
    "AND parties.party_type = 'car'\n",
    "GROUP BY \n",
    "    collisions.weather_1,\n",
    "    collisions.primary_collision_factor,\n",
    "    \n",
    "    CASE\n",
    "        WHEN collisions.party_count = 1\n",
    "        THEN '1 party'\n",
    "        ELSE '2 and more'\n",
    "    END,\n",
    "    \n",
    "    CASE \n",
    "        WHEN collisions.road_surface = 'dry'\n",
    "        THEN 'dry road'\n",
    "        ELSE 'bad road'\n",
    "    END,\n",
    "    \n",
    "    CASE \n",
    "        WHEN (parties.party_sobriety IN ('had not been drinking'))\n",
    "        THEN 'sober'\n",
    "        WHEN (parties.party_sobriety IN ('unknown', 'not applicable'))\n",
    "        THEN 'unknown'\n",
    "        ELSE 'drunk'\n",
    "    END,\n",
    "    \n",
    "    CASE \n",
    "        WHEN (parties.party_drug_physical IN ('G', 'under drug influence'))\n",
    "        THEN 'under drugs'\n",
    "        WHEN (parties.party_drug_physical IN ('not applicable'))\n",
    "        THEN 'unknown'\n",
    "        WHEN (parties.party_drug_physical IN ('sleepy/fatigued', 'impairment - physical'))\n",
    "        THEN 'physical_disorder'\n",
    "        WHEN parties.party_drug_physical IS NULL\n",
    "        THEN 'not_influenced'\n",
    "    END\n",
    "    \n",
    "ORDER BY COUNT(DISTINCT collisions.case_id) DESC\n",
    "LIMIT 20\n",
    "),\n",
    "\n",
    "top_percents AS (\n",
    "SELECT SUM(collisions_percent)\n",
    "FROM prepared_data\n",
    "WHERE collisions_percent >=2\n",
    ")\n",
    "\n",
    "\n",
    "SELECT collisions_percent,\n",
    "    CONCAT(weather_1, '; ', \n",
    "        road_surface, '; ',\n",
    "        parties_count, '; ',\n",
    "        drunk_driver, '; ',\n",
    "        influenced_driver, '; ',\n",
    "        primary_collision_factor) AS collision_description\n",
    "FROM prepared_data\n",
    "WHERE collisions_percent >= 2\n",
    "\n",
    "UNION \n",
    "\n",
    "SELECT (100 - (SELECT * FROM top_percents)),\n",
    "    'other' AS collision_description\n",
    "FROM prepared_data\n",
    "ORDER BY collisions_percent DESC\n",
    "'''\n",
    "\n",
    "temp_df = pd.read_sql_query(query, con=engine) \n",
    "temp_df"
   ]
  },
  {
   "cell_type": "raw",
   "id": "69533662",
   "metadata": {},
   "source": [
    "print_barplot(temp_df, \n",
    "              column_x='collision_description', \n",
    "              column_y='collisions_percent', \n",
    "              title='Самые частые сценарии ДТП с тяжелыми и фатальными последствиями')"
   ]
  },
  {
   "cell_type": "markdown",
   "id": "a9b77214",
   "metadata": {},
   "source": [
    "Как видно из графика выше, самые популярные сценарии тяжелых и фатальных ДТП следующие:\n",
    "* 45% - ДТП с участием 2 и более водителей, трезвых, не под наркотиками, в хорошую погоду, на сухой дороге, причина - нарушени ПДД;\n",
    "    * +11% - то же самое, но в ДТП один участник;\n",
    "    * +4.5% - то же самое, два участника ДТП, все трезвые, но погода облачная;\n",
    "* 9% - пьяный водитель в хорошую погоду, на сухой дороге нарушает правила ПДД и попадает в аварию, где он единственный участник;\n",
    "    * +3% то же самое, но водитель не только пьян, но и под наркотиками;\n",
    "    * +9% - то же самое, но участников двое, пьян как минимум один из них;\n",
    "    * +8% - то же самое, но участников двое, кто-то и пьян и употребил наркотики;"
   ]
  },
  {
   "cell_type": "markdown",
   "id": "fe4628e8",
   "metadata": {},
   "source": [
    "## Подготовка датасета для обучения моделей\n",
    "### Сохранение SQL таблиц  в датасет pandas\n",
    "Выведем все необходимые поля, а также информацию о времени и месяце происшествия. \n",
    "\n",
    "Выше выяснилось, что данные за 2012 год условно полны до мая включительно. В связи с этим колонку с датой происшествия убираем на этапе предобработки датасета в pandas. А колонку со временем происшествия преобразуем в колонку категориального типа, оставив значения \"утро\", \"день\", \"вечер\", \"ночь\", на этапе выгрузки данных их SQL базы."
   ]
  },
  {
   "cell_type": "code",
   "execution_count": 9,
   "id": "caa66083",
   "metadata": {
    "scrolled": true
   },
   "outputs": [
    {
     "data": {
      "text/html": [
       "<div>\n",
       "<style scoped>\n",
       "    .dataframe tbody tr th:only-of-type {\n",
       "        vertical-align: middle;\n",
       "    }\n",
       "\n",
       "    .dataframe tbody tr th {\n",
       "        vertical-align: top;\n",
       "    }\n",
       "\n",
       "    .dataframe thead th {\n",
       "        text-align: right;\n",
       "    }\n",
       "</style>\n",
       "<table border=\"1\" class=\"dataframe\">\n",
       "  <thead>\n",
       "    <tr style=\"text-align: right;\">\n",
       "      <th></th>\n",
       "      <th>case_id</th>\n",
       "      <th>county_city_location</th>\n",
       "      <th>county_location</th>\n",
       "      <th>distance</th>\n",
       "      <th>direction</th>\n",
       "      <th>intersection</th>\n",
       "      <th>weather_1</th>\n",
       "      <th>location_type</th>\n",
       "      <th>collision_damage</th>\n",
       "      <th>party_count</th>\n",
       "      <th>...</th>\n",
       "      <th>party_sobriety</th>\n",
       "      <th>party_drug_physical</th>\n",
       "      <th>cellphone_in_use</th>\n",
       "      <th>id</th>\n",
       "      <th>case_id</th>\n",
       "      <th>party_number</th>\n",
       "      <th>vehicle_type</th>\n",
       "      <th>vehicle_transmission</th>\n",
       "      <th>vehicle_age</th>\n",
       "      <th>time</th>\n",
       "    </tr>\n",
       "  </thead>\n",
       "  <tbody>\n",
       "    <tr>\n",
       "      <th>0</th>\n",
       "      <td>5473173</td>\n",
       "      <td>4700</td>\n",
       "      <td>siskiyou</td>\n",
       "      <td>4,752.0000</td>\n",
       "      <td>south</td>\n",
       "      <td>0.0000</td>\n",
       "      <td>clear</td>\n",
       "      <td>highway</td>\n",
       "      <td>small damage</td>\n",
       "      <td>2</td>\n",
       "      <td>...</td>\n",
       "      <td>had not been drinking</td>\n",
       "      <td>None</td>\n",
       "      <td>0.0000</td>\n",
       "      <td>NaN</td>\n",
       "      <td>None</td>\n",
       "      <td>NaN</td>\n",
       "      <td>None</td>\n",
       "      <td>None</td>\n",
       "      <td>NaN</td>\n",
       "      <td>morning</td>\n",
       "    </tr>\n",
       "    <tr>\n",
       "      <th>1</th>\n",
       "      <td>5479970</td>\n",
       "      <td>1973</td>\n",
       "      <td>los angeles</td>\n",
       "      <td>108.0000</td>\n",
       "      <td>west</td>\n",
       "      <td>0.0000</td>\n",
       "      <td>clear</td>\n",
       "      <td>None</td>\n",
       "      <td>small damage</td>\n",
       "      <td>2</td>\n",
       "      <td>...</td>\n",
       "      <td>had not been drinking</td>\n",
       "      <td>None</td>\n",
       "      <td>NaN</td>\n",
       "      <td>NaN</td>\n",
       "      <td>None</td>\n",
       "      <td>NaN</td>\n",
       "      <td>None</td>\n",
       "      <td>None</td>\n",
       "      <td>NaN</td>\n",
       "      <td>morning</td>\n",
       "    </tr>\n",
       "    <tr>\n",
       "      <th>2</th>\n",
       "      <td>5480523</td>\n",
       "      <td>5600</td>\n",
       "      <td>ventura</td>\n",
       "      <td>8,976.0000</td>\n",
       "      <td>north</td>\n",
       "      <td>0.0000</td>\n",
       "      <td>clear</td>\n",
       "      <td>highway</td>\n",
       "      <td>severe damage</td>\n",
       "      <td>2</td>\n",
       "      <td>...</td>\n",
       "      <td>had not been drinking</td>\n",
       "      <td>None</td>\n",
       "      <td>0.0000</td>\n",
       "      <td>1,352,500.0000</td>\n",
       "      <td>5480523</td>\n",
       "      <td>2.0000</td>\n",
       "      <td>coupe</td>\n",
       "      <td>manual</td>\n",
       "      <td>7.0000</td>\n",
       "      <td>day</td>\n",
       "    </tr>\n",
       "    <tr>\n",
       "      <th>3</th>\n",
       "      <td>5494865</td>\n",
       "      <td>1942</td>\n",
       "      <td>los angeles</td>\n",
       "      <td>30.0000</td>\n",
       "      <td>east</td>\n",
       "      <td>0.0000</td>\n",
       "      <td>clear</td>\n",
       "      <td>None</td>\n",
       "      <td>small damage</td>\n",
       "      <td>2</td>\n",
       "      <td>...</td>\n",
       "      <td>had not been drinking</td>\n",
       "      <td>None</td>\n",
       "      <td>0.0000</td>\n",
       "      <td>NaN</td>\n",
       "      <td>None</td>\n",
       "      <td>NaN</td>\n",
       "      <td>None</td>\n",
       "      <td>None</td>\n",
       "      <td>NaN</td>\n",
       "      <td>evening</td>\n",
       "    </tr>\n",
       "    <tr>\n",
       "      <th>4</th>\n",
       "      <td>5455519</td>\n",
       "      <td>3010</td>\n",
       "      <td>orange</td>\n",
       "      <td>917.0000</td>\n",
       "      <td>south</td>\n",
       "      <td>0.0000</td>\n",
       "      <td>fog</td>\n",
       "      <td>highway</td>\n",
       "      <td>small damage</td>\n",
       "      <td>2</td>\n",
       "      <td>...</td>\n",
       "      <td>had not been drinking</td>\n",
       "      <td>None</td>\n",
       "      <td>0.0000</td>\n",
       "      <td>NaN</td>\n",
       "      <td>None</td>\n",
       "      <td>NaN</td>\n",
       "      <td>None</td>\n",
       "      <td>None</td>\n",
       "      <td>NaN</td>\n",
       "      <td>morning</td>\n",
       "    </tr>\n",
       "    <tr>\n",
       "      <th>...</th>\n",
       "      <td>...</td>\n",
       "      <td>...</td>\n",
       "      <td>...</td>\n",
       "      <td>...</td>\n",
       "      <td>...</td>\n",
       "      <td>...</td>\n",
       "      <td>...</td>\n",
       "      <td>...</td>\n",
       "      <td>...</td>\n",
       "      <td>...</td>\n",
       "      <td>...</td>\n",
       "      <td>...</td>\n",
       "      <td>...</td>\n",
       "      <td>...</td>\n",
       "      <td>...</td>\n",
       "      <td>...</td>\n",
       "      <td>...</td>\n",
       "      <td>...</td>\n",
       "      <td>...</td>\n",
       "      <td>...</td>\n",
       "      <td>...</td>\n",
       "    </tr>\n",
       "    <tr>\n",
       "      <th>195893</th>\n",
       "      <td>5639838</td>\n",
       "      <td>1931</td>\n",
       "      <td>los angeles</td>\n",
       "      <td>0.0000</td>\n",
       "      <td>None</td>\n",
       "      <td>1.0000</td>\n",
       "      <td>clear</td>\n",
       "      <td>None</td>\n",
       "      <td>fatal</td>\n",
       "      <td>2</td>\n",
       "      <td>...</td>\n",
       "      <td>had been drinking, under influence</td>\n",
       "      <td>None</td>\n",
       "      <td>0.0000</td>\n",
       "      <td>NaN</td>\n",
       "      <td>None</td>\n",
       "      <td>NaN</td>\n",
       "      <td>None</td>\n",
       "      <td>None</td>\n",
       "      <td>NaN</td>\n",
       "      <td>evening</td>\n",
       "    </tr>\n",
       "    <tr>\n",
       "      <th>195894</th>\n",
       "      <td>5639421</td>\n",
       "      <td>3404</td>\n",
       "      <td>sacramento</td>\n",
       "      <td>28.0000</td>\n",
       "      <td>east</td>\n",
       "      <td>0.0000</td>\n",
       "      <td>clear</td>\n",
       "      <td>ramp</td>\n",
       "      <td>fatal</td>\n",
       "      <td>2</td>\n",
       "      <td>...</td>\n",
       "      <td>impairment unknown</td>\n",
       "      <td>G</td>\n",
       "      <td>0.0000</td>\n",
       "      <td>1,504,187.0000</td>\n",
       "      <td>5639421</td>\n",
       "      <td>1.0000</td>\n",
       "      <td>coupe</td>\n",
       "      <td>manual</td>\n",
       "      <td>14.0000</td>\n",
       "      <td>day</td>\n",
       "    </tr>\n",
       "    <tr>\n",
       "      <th>195895</th>\n",
       "      <td>5520402</td>\n",
       "      <td>0103</td>\n",
       "      <td>alameda</td>\n",
       "      <td>200.0000</td>\n",
       "      <td>east</td>\n",
       "      <td>0.0000</td>\n",
       "      <td>clear</td>\n",
       "      <td>highway</td>\n",
       "      <td>small damage</td>\n",
       "      <td>2</td>\n",
       "      <td>...</td>\n",
       "      <td>had not been drinking</td>\n",
       "      <td>None</td>\n",
       "      <td>0.0000</td>\n",
       "      <td>NaN</td>\n",
       "      <td>None</td>\n",
       "      <td>NaN</td>\n",
       "      <td>None</td>\n",
       "      <td>None</td>\n",
       "      <td>NaN</td>\n",
       "      <td>evening</td>\n",
       "    </tr>\n",
       "    <tr>\n",
       "      <th>195896</th>\n",
       "      <td>5639994</td>\n",
       "      <td>3496</td>\n",
       "      <td>sacramento</td>\n",
       "      <td>211.0000</td>\n",
       "      <td>north</td>\n",
       "      <td>0.0000</td>\n",
       "      <td>clear</td>\n",
       "      <td>None</td>\n",
       "      <td>fatal</td>\n",
       "      <td>2</td>\n",
       "      <td>...</td>\n",
       "      <td>had not been drinking</td>\n",
       "      <td>under drug influence</td>\n",
       "      <td>0.0000</td>\n",
       "      <td>NaN</td>\n",
       "      <td>None</td>\n",
       "      <td>NaN</td>\n",
       "      <td>None</td>\n",
       "      <td>None</td>\n",
       "      <td>NaN</td>\n",
       "      <td>day</td>\n",
       "    </tr>\n",
       "    <tr>\n",
       "      <th>195897</th>\n",
       "      <td>5639194</td>\n",
       "      <td>3900</td>\n",
       "      <td>san joaquin</td>\n",
       "      <td>8,976.0000</td>\n",
       "      <td>east</td>\n",
       "      <td>0.0000</td>\n",
       "      <td>clear</td>\n",
       "      <td>highway</td>\n",
       "      <td>fatal</td>\n",
       "      <td>2</td>\n",
       "      <td>...</td>\n",
       "      <td>had not been drinking</td>\n",
       "      <td>None</td>\n",
       "      <td>0.0000</td>\n",
       "      <td>1,503,726.0000</td>\n",
       "      <td>5639194</td>\n",
       "      <td>1.0000</td>\n",
       "      <td>coupe</td>\n",
       "      <td>auto</td>\n",
       "      <td>3.0000</td>\n",
       "      <td>evening</td>\n",
       "    </tr>\n",
       "  </tbody>\n",
       "</table>\n",
       "<p>195898 rows × 36 columns</p>\n",
       "</div>"
      ],
      "text/plain": [
       "        case_id county_city_location county_location   distance direction  \\\n",
       "0       5473173                 4700        siskiyou 4,752.0000     south   \n",
       "1       5479970                 1973     los angeles   108.0000      west   \n",
       "2       5480523                 5600         ventura 8,976.0000     north   \n",
       "3       5494865                 1942     los angeles    30.0000      east   \n",
       "4       5455519                 3010          orange   917.0000     south   \n",
       "...         ...                  ...             ...        ...       ...   \n",
       "195893  5639838                 1931     los angeles     0.0000      None   \n",
       "195894  5639421                 3404      sacramento    28.0000      east   \n",
       "195895  5520402                 0103         alameda   200.0000      east   \n",
       "195896  5639994                 3496      sacramento   211.0000     north   \n",
       "195897  5639194                 3900     san joaquin 8,976.0000      east   \n",
       "\n",
       "        intersection weather_1 location_type collision_damage  party_count  \\\n",
       "0             0.0000     clear       highway     small damage            2   \n",
       "1             0.0000     clear          None     small damage            2   \n",
       "2             0.0000     clear       highway    severe damage            2   \n",
       "3             0.0000     clear          None     small damage            2   \n",
       "4             0.0000       fog       highway     small damage            2   \n",
       "...              ...       ...           ...              ...          ...   \n",
       "195893        1.0000     clear          None            fatal            2   \n",
       "195894        0.0000     clear          ramp            fatal            2   \n",
       "195895        0.0000     clear       highway     small damage            2   \n",
       "195896        0.0000     clear          None            fatal            2   \n",
       "195897        0.0000     clear       highway            fatal            2   \n",
       "\n",
       "        ...                      party_sobriety   party_drug_physical  \\\n",
       "0       ...               had not been drinking                  None   \n",
       "1       ...               had not been drinking                  None   \n",
       "2       ...               had not been drinking                  None   \n",
       "3       ...               had not been drinking                  None   \n",
       "4       ...               had not been drinking                  None   \n",
       "...     ...                                 ...                   ...   \n",
       "195893  ...  had been drinking, under influence                  None   \n",
       "195894  ...                  impairment unknown                     G   \n",
       "195895  ...               had not been drinking                  None   \n",
       "195896  ...               had not been drinking  under drug influence   \n",
       "195897  ...               had not been drinking                  None   \n",
       "\n",
       "       cellphone_in_use             id  case_id party_number vehicle_type  \\\n",
       "0                0.0000            NaN     None          NaN         None   \n",
       "1                   NaN            NaN     None          NaN         None   \n",
       "2                0.0000 1,352,500.0000  5480523       2.0000        coupe   \n",
       "3                0.0000            NaN     None          NaN         None   \n",
       "4                0.0000            NaN     None          NaN         None   \n",
       "...                 ...            ...      ...          ...          ...   \n",
       "195893           0.0000            NaN     None          NaN         None   \n",
       "195894           0.0000 1,504,187.0000  5639421       1.0000        coupe   \n",
       "195895           0.0000            NaN     None          NaN         None   \n",
       "195896           0.0000            NaN     None          NaN         None   \n",
       "195897           0.0000 1,503,726.0000  5639194       1.0000        coupe   \n",
       "\n",
       "       vehicle_transmission vehicle_age     time  \n",
       "0                      None         NaN  morning  \n",
       "1                      None         NaN  morning  \n",
       "2                    manual      7.0000      day  \n",
       "3                      None         NaN  evening  \n",
       "4                      None         NaN  morning  \n",
       "...                     ...         ...      ...  \n",
       "195893                 None         NaN  evening  \n",
       "195894               manual     14.0000      day  \n",
       "195895                 None         NaN  evening  \n",
       "195896                 None         NaN      day  \n",
       "195897                 auto      3.0000  evening  \n",
       "\n",
       "[195898 rows x 36 columns]"
      ]
     },
     "execution_count": 9,
     "metadata": {},
     "output_type": "execute_result"
    }
   ],
   "source": [
    "query = '''\n",
    "SELECT *,\n",
    "\n",
    "    CASE\n",
    "        WHEN extract(hour from collision_time) IN (00.00, 01.00, 02.00, 03.00, 04.00, 05.00)\n",
    "        THEN 'night'\n",
    "        WHEN extract(hour from collision_time) IN (06.00, 07.00, 08.00, 09.00, 10.00, 11.00)\n",
    "        THEN 'morning'\n",
    "        WHEN extract(hour from collision_time) IN (12.00, 13.00, 14.00, 15.00, 16.00, 17.00)\n",
    "        THEN 'day'\n",
    "        WHEN extract(hour from collision_time) IN (18.00, 19.00, 20.00, 21.00, 22.00, 23.00)\n",
    "        THEN 'evening'\n",
    "        ELSE 'unknown'\n",
    "    END AS time\n",
    "    \n",
    "FROM collisions\n",
    "JOIN parties ON collisions.case_id = parties.case_id\n",
    "LEFT JOIN vehicles ON vehicles.case_id = parties.case_id AND vehicles.party_number = parties.party_number\n",
    "\n",
    "WHERE parties.party_type = 'car'\n",
    "AND collisions.collision_damage != 'scratch'\n",
    "AND collisions.collision_date > '2012-01-01'\n",
    "AND collisions.collision_date < '2013-01-01'\n",
    "ORDER BY collisions.collision_date\n",
    "'''\n",
    "\n",
    "df = pd.read_sql_query(query, con=engine) \n",
    "df"
   ]
  },
  {
   "cell_type": "markdown",
   "id": "b6f208f0",
   "metadata": {},
   "source": [
    "## Предобработка данных\n",
    "### Удаление неинформативных колонок"
   ]
  },
  {
   "cell_type": "markdown",
   "id": "65579d28",
   "metadata": {},
   "source": [
    "Сразу удалим лишние колонки `case_id`, `id`. Колонка `party_number` была нужна только для связи двух таблиц, а колонки `county_city_location`, `county_location` не пригодятся, т.к. данные из одного региона, а задача не выявить зависимость риска от локации внутри региона, а экстраполировать данные региона на любой другой регион. Направление движения `direction`, вероятней всего, имеет значение только для региона, удалим его.\n",
    "\n",
    "Колонки 'collision_date' и 'collision_time' также удалены."
   ]
  },
  {
   "cell_type": "code",
   "execution_count": 10,
   "id": "3760d6eb",
   "metadata": {},
   "outputs": [],
   "source": [
    "# сохраним резервную копию датасета\n",
    "df_original = df "
   ]
  },
  {
   "cell_type": "markdown",
   "id": "0a725936",
   "metadata": {},
   "source": [
    "На этом этапе дубликатов нет. Они появятся впоследствии, но удалять их не будем."
   ]
  },
  {
   "cell_type": "raw",
   "id": "39748720",
   "metadata": {},
   "source": [
    "df.duplicated().sum()"
   ]
  },
  {
   "cell_type": "code",
   "execution_count": 11,
   "id": "8a2ba0f9",
   "metadata": {},
   "outputs": [],
   "source": [
    "# df = df_original"
   ]
  },
  {
   "cell_type": "code",
   "execution_count": 12,
   "id": "84c43dab",
   "metadata": {},
   "outputs": [
    {
     "name": "stdout",
     "output_type": "stream",
     "text": [
      "Index(['case_id', 'county_city_location', 'county_location', 'distance',\n",
      "       'direction', 'intersection', 'weather_1', 'location_type',\n",
      "       'collision_damage', 'party_count', 'primary_collision_factor',\n",
      "       'pcf_violation_category', 'type_of_collision',\n",
      "       'motor_vehicle_involved_with', 'road_surface', 'road_condition_1',\n",
      "       'lighting', 'control_device', 'collision_date', 'collision_time', 'id',\n",
      "       'case_id', 'party_number', 'party_type', 'at_fault',\n",
      "       'insurance_premium', 'party_sobriety', 'party_drug_physical',\n",
      "       'cellphone_in_use', 'id', 'case_id', 'party_number', 'vehicle_type',\n",
      "       'vehicle_transmission', 'vehicle_age', 'time'],\n",
      "      dtype='object')\n"
     ]
    },
    {
     "data": {
      "text/plain": [
       "Index(['distance', 'intersection', 'weather_1', 'location_type',\n",
       "       'collision_damage', 'party_count', 'primary_collision_factor',\n",
       "       'pcf_violation_category', 'type_of_collision',\n",
       "       'motor_vehicle_involved_with', 'road_surface', 'road_condition_1',\n",
       "       'lighting', 'control_device', 'at_fault', 'insurance_premium',\n",
       "       'party_sobriety', 'party_drug_physical', 'cellphone_in_use',\n",
       "       'vehicle_type', 'vehicle_transmission', 'vehicle_age', 'time'],\n",
       "      dtype='object')"
      ]
     },
     "execution_count": 12,
     "metadata": {},
     "output_type": "execute_result"
    }
   ],
   "source": [
    "print(df.columns)\n",
    "df = df.drop(['case_id', 'id', 'party_number', 'party_type', \n",
    "              'county_city_location', 'county_location', 'direction', 'collision_date', 'collision_time'], axis=1)\n",
    "df.columns"
   ]
  },
  {
   "cell_type": "raw",
   "id": "e26dd646",
   "metadata": {
    "scrolled": true
   },
   "source": [
    "df.head()"
   ]
  },
  {
   "cell_type": "raw",
   "id": "7a3a18b3",
   "metadata": {},
   "source": [
    "# сохраним датасеты локально\n",
    "save_df(df, project_path, 'integrated_df.csv')\n",
    "save_df(df_original, project_path, 'integrated_df_original.csv')"
   ]
  },
  {
   "cell_type": "markdown",
   "id": "c12d8f4b",
   "metadata": {},
   "source": [
    "### Предварительная оценка датасета\n",
    "Получился датасет на 195_898 строк и 23 колонки. \n",
    "#### Колонки\n",
    "* 'distance'\n",
    "* 'intersection' \n",
    "* 'weather_1' \n",
    "* 'location_type'\n",
    "* 'collision_damage' \n",
    "* 'party_count' \n",
    "* 'primary_collision_factor'\n",
    "* 'pcf_violation_category'\n",
    "* 'type_of_collision'\n",
    "* 'motor_vehicle_involved_with' \n",
    "* 'road_surface' \n",
    "* 'road_condition_1',\n",
    "* 'lighting' \n",
    "* 'control_device' \n",
    "* 'party_type' \n",
    "* 'at_fault' \n",
    "* 'insurance_premium'\n",
    "* 'party_sobriety'\n",
    "* 'party_drug_physical'\n",
    "* 'cellphone_in_use'\n",
    "* 'vehicle_type'\n",
    "* 'vehicle_transmission' \n",
    "* 'vehicle_age'\n",
    "* 'time'\n",
    "\n",
    "В данных есть пропуски, выбросы. После удаления колонок появились дубликаты, однако удалять их не будем т.к. они соответствуют разным событиям."
   ]
  },
  {
   "cell_type": "raw",
   "id": "a47f5549",
   "metadata": {
    "scrolled": false
   },
   "source": [
    "overall_info(df)"
   ]
  },
  {
   "cell_type": "code",
   "execution_count": 13,
   "id": "a483a7ee",
   "metadata": {},
   "outputs": [
    {
     "data": {
      "text/plain": [
       "12671"
      ]
     },
     "execution_count": 13,
     "metadata": {},
     "output_type": "execute_result"
    }
   ],
   "source": [
    "df.duplicated().sum()"
   ]
  },
  {
   "cell_type": "markdown",
   "id": "4fd298c2",
   "metadata": {},
   "source": [
    "#### Отбор колонок для обучения модели\n",
    "Выберем колонки для обучения модели:\n",
    "\n",
    "* 'at_fault' - целевой признак - виновность водителя в ДТП;\n",
    "\n",
    "Бинарные признаки:\n",
    "* 'intersection' - произошло ли событие на перекрестке;\n",
    "* 'cellphone_in_use' - наличие телефона может коррелировать с моделью автомобиля, а может отвлекать водителя;\n",
    "\n",
    "Численные признаки:\n",
    "* 'distance' - расстояние от главной дороги;\n",
    "* 'party_count' - количество сторон в ДТП влияет на риск водителя оказаться виновным (если он единственный участник ДТП, то точно ответственный за ДТП);\n",
    "* 'insurance_premium' - сумма страховки может быть связана с поведением водителя;\n",
    "* 'vehicle_age' - возраст автомобиля может влиять на его исправность;\n",
    "\n",
    "Категориальные признаки:\n",
    "* 'weather' - погода в момент ДТП;\n",
    "* 'location_type' - тип местности, где произошло ДТП;\n",
    "* 'collision_damage' - серьезность происшествия;\n",
    "* 'primary_collision_factor' - основной фактор аварии;\n",
    "* 'pcf_violation_category' - категория нарушения, допущенного водителем;\n",
    "* 'type_of_collision' - тип происшествия (тоже может влиять: кто-то убился в одиночку, под кого-то бросился пешеход, кто-то вылетел с трассы и тд);\n",
    "* 'motor_vehicle_involved_with' - второй участник ДТП при его наличии;\n",
    "* 'road_surface' - поверхность дороги (влажная, сухая и тд);\n",
    "* 'road_condition' - состояние дорожного полотна (ямы, дыры, ремонт, отсутствие);\n",
    "* 'lighting' - освещение;\n",
    "* 'control_device' - устройство управления автомобилем, указано наличие и исправность;\n",
    "* 'party_sobriety' - степень трезвости/опьянения водителя;\n",
    "* 'party_drug_physical' - степень наркотического опьянения, проблемы со здоровьем водителя;\n",
    "* 'vehicle_type' - тип транспортного средства;\n",
    "* 'vehicle_transmission' - тип КПП транспотного средства (конструктивные особенности могут влиять на вероятность аварии)\n",
    "* 'time' - время суток"
   ]
  },
  {
   "cell_type": "markdown",
   "id": "9004d1de",
   "metadata": {},
   "source": [
    "В датасете были временные признаки:\n",
    "\n",
    "Временные признаки:\n",
    "* 'collision_date'\n",
    "* 'collision_time'\n",
    "\n",
    "Информацию из 'collision_time' сохранили в колонку 'time', а исходную колонку удалили. Колонку 'collision_date' удалили, не сохраняя эту информацию в датасете в другом виде: данные по месяцам неполны, обучение по дате может исказить выводы.\n"
   ]
  },
  {
   "cell_type": "markdown",
   "id": "7f03cb9a",
   "metadata": {},
   "source": [
    "#### Переименование колонок\n",
    "Для удобства укоротим названия колонок:"
   ]
  },
  {
   "cell_type": "code",
   "execution_count": 14,
   "id": "ac4e7107",
   "metadata": {},
   "outputs": [],
   "source": [
    "df = df.rename(columns={'weather_1': 'weather', 'road_condition_1': 'road_condition'})"
   ]
  },
  {
   "cell_type": "markdown",
   "id": "8d2d05b2",
   "metadata": {},
   "source": [
    "#### Заполнение пустых значений и объединение колонок"
   ]
  },
  {
   "cell_type": "markdown",
   "id": "6151c9bb",
   "metadata": {},
   "source": [
    "В колонках `cellphone_in_use`, `intersection` заменим отсутствующие значения на нули: если нет информации, значит, скорей всего, нет и телефона в машине, или событие произошло не на перекрестке."
   ]
  },
  {
   "cell_type": "code",
   "execution_count": 15,
   "id": "3f87fa67",
   "metadata": {},
   "outputs": [],
   "source": [
    "df.loc[:, ['cellphone_in_use', 'intersection']] = df.loc[:, ['cellphone_in_use', 'intersection']].fillna(0.0)"
   ]
  },
  {
   "cell_type": "markdown",
   "id": "5401114e",
   "metadata": {},
   "source": [
    "Объединим колонки `location_type` и `intersection`. Информацию сохраним в колонке `location_type`, колонку `intersection` удалим."
   ]
  },
  {
   "cell_type": "code",
   "execution_count": 16,
   "id": "bdb5fd32",
   "metadata": {},
   "outputs": [],
   "source": [
    "# напишем функцию, которая возвращает новое значение\n",
    "def new_location_type(row):\n",
    "    location_type = 'unknown'\n",
    "    \n",
    "    if row['intersection'] == 1:\n",
    "        united = [row['location_type'], 'intersection']\n",
    "        location_type = [el for el in united if el is not None]\n",
    "        location_type = ', '.join(location_type)\n",
    "    elif row['location_type'] is not None:\n",
    "        location_type = row['location_type']\n",
    "        \n",
    "    if location_type == 'intersection, intersection':\n",
    "        location_type = 'intersection'\n",
    "\n",
    "    return location_type"
   ]
  },
  {
   "cell_type": "code",
   "execution_count": 17,
   "id": "7a6d784e",
   "metadata": {},
   "outputs": [],
   "source": [
    "df['new_location_type'] = df.apply(lambda row: new_location_type(row), axis=1)\n",
    "df['location_type'] = df['new_location_type']\n",
    "df['location_type'].value_counts()\n",
    "df = df.drop(['new_location_type', 'intersection'], axis=1)"
   ]
  },
  {
   "cell_type": "code",
   "execution_count": 18,
   "id": "586dfa70",
   "metadata": {},
   "outputs": [
    {
     "name": "stdout",
     "output_type": "stream",
     "text": [
      "0.0\n"
     ]
    },
    {
     "data": {
      "text/plain": [
       "unknown                  74951\n",
       "highway                  70819\n",
       "intersection             37830\n",
       "ramp                      9711\n",
       "ramp, intersection        1754\n",
       "highway, intersection      833\n",
       "Name: location_type, dtype: int64"
      ]
     },
     "execution_count": 18,
     "metadata": {},
     "output_type": "execute_result"
    }
   ],
   "source": [
    "print(df.location_type.isna().mean())\n",
    "df.location_type.value_counts()"
   ]
  },
  {
   "cell_type": "markdown",
   "id": "58d76d8c",
   "metadata": {},
   "source": [
    "В колонке `insurance_premium`, `vehicle_age` заменим пустые значения медианным (хотя заполнять 70% данных в колонке `vehicle_age` медианными страшно):"
   ]
  },
  {
   "cell_type": "code",
   "execution_count": 19,
   "id": "fe9b4302",
   "metadata": {},
   "outputs": [],
   "source": [
    "df['insurance_premium'] = df['insurance_premium'].fillna(df['insurance_premium'].median())\n",
    "df['vehicle_age'] = df['vehicle_age'].fillna(df['vehicle_age'].median())"
   ]
  },
  {
   "cell_type": "markdown",
   "id": "11f4eeb9",
   "metadata": {},
   "source": [
    "В колонке `party_drug_physical` отсутствует более 87% значений. Объединим эту колонку с колонкой `party_sobriety` в новую колонку `driver_condition`."
   ]
  },
  {
   "cell_type": "code",
   "execution_count": 20,
   "id": "c9151004",
   "metadata": {},
   "outputs": [],
   "source": [
    "# напишем функцию, которая возвращает новое значение\n",
    "def define_driver_condition(row):\n",
    "    united = [row['party_sobriety'], row['party_drug_physical']]\n",
    "    condition = [el for el in united if el is not None]\n",
    "    condition = ', '.join(condition)\n",
    "    if condition is None or condition == '':\n",
    "        # почему-то не работает\n",
    "        condition == 'unknown'\n",
    "    return condition"
   ]
  },
  {
   "cell_type": "code",
   "execution_count": 21,
   "id": "69ca89e8",
   "metadata": {},
   "outputs": [],
   "source": [
    "df['driver_condition'] = df.apply(lambda row: define_driver_condition(row), axis=1)\n",
    "df = df.drop('party_sobriety', axis=1)\n",
    "df = df.drop('party_drug_physical', axis=1)"
   ]
  },
  {
   "cell_type": "code",
   "execution_count": 22,
   "id": "a232337f",
   "metadata": {
    "scrolled": true
   },
   "outputs": [
    {
     "data": {
      "text/plain": [
       "had not been drinking                                            156225\n",
       "impairment unknown, G                                             20365\n",
       "had been drinking, under influence                                 9796\n",
       "                                                                   1982\n",
       "not applicable, not applicable                                     1667\n",
       "had been drinking, impairment unknown                              1652\n",
       "had been drinking, not under influence                             1284\n",
       "under drug influence                                                850\n",
       "had not been drinking, sleepy/fatigued                              508\n",
       "sleepy/fatigued                                                     501\n",
       "had not been drinking, under drug influence                         329\n",
       "had been drinking, under influence, under drug influence            279\n",
       "impairment - physical                                               268\n",
       "had not been drinking, impairment - physical                         63\n",
       "had been drinking, under influence, sleepy/fatigued                  36\n",
       "had been drinking, not under influence, sleepy/fatigued              33\n",
       "had been drinking, impairment unknown, under drug influence          26\n",
       "had been drinking, not under influence, under drug influence         23\n",
       "had been drinking, impairment unknown, sleepy/fatigued                5\n",
       "had been drinking, not under influence, impairment - physical         3\n",
       "had been drinking, under influence, impairment - physical             2\n",
       "had been drinking, impairment unknown, impairment - physical          1\n",
       "Name: driver_condition, dtype: int64"
      ]
     },
     "execution_count": 22,
     "metadata": {},
     "output_type": "execute_result"
    }
   ],
   "source": [
    "df['driver_condition'].value_counts()"
   ]
  },
  {
   "cell_type": "markdown",
   "id": "096c5efd",
   "metadata": {},
   "source": [
    "В других категориальных колонках заменим пустые значения на 'unknown':"
   ]
  },
  {
   "cell_type": "code",
   "execution_count": 23,
   "id": "bcc58d01",
   "metadata": {},
   "outputs": [
    {
     "data": {
      "text/plain": [
       "True"
      ]
     },
     "execution_count": 23,
     "metadata": {},
     "output_type": "execute_result"
    }
   ],
   "source": [
    "categorical_columns = df.select_dtypes(include=['object']).columns\n",
    "numerical_columns = df.select_dtypes(include=['float64', 'int64']).columns\n",
    "(len(categorical_columns) + len(numerical_columns)) == len(df.columns)"
   ]
  },
  {
   "cell_type": "code",
   "execution_count": 24,
   "id": "e79e1eee",
   "metadata": {
    "scrolled": true
   },
   "outputs": [],
   "source": [
    "for column in categorical_columns:\n",
    "    df[column] = df[column].fillna('unknown')"
   ]
  },
  {
   "cell_type": "markdown",
   "id": "6dee48ec",
   "metadata": {},
   "source": [
    "Нужно отметить, что в колонках, связанных с состоянием и конструктивными особенностями автомобиля до заполнения пустых значений было более 70% отсутствующих значений."
   ]
  },
  {
   "cell_type": "code",
   "execution_count": 25,
   "id": "0b53e910",
   "metadata": {},
   "outputs": [
    {
     "data": {
      "text/plain": [
       "distance                      0.0000\n",
       "weather                       0.0000\n",
       "location_type                 0.0000\n",
       "collision_damage              0.0000\n",
       "party_count                   0.0000\n",
       "primary_collision_factor      0.0000\n",
       "pcf_violation_category        0.0000\n",
       "type_of_collision             0.0000\n",
       "motor_vehicle_involved_with   0.0000\n",
       "road_surface                  0.0000\n",
       "road_condition                0.0000\n",
       "lighting                      0.0000\n",
       "control_device                0.0000\n",
       "at_fault                      0.0000\n",
       "insurance_premium             0.0000\n",
       "cellphone_in_use              0.0000\n",
       "vehicle_type                  0.0000\n",
       "vehicle_transmission          0.0000\n",
       "vehicle_age                   0.0000\n",
       "time                          0.0000\n",
       "driver_condition              0.0000\n",
       "dtype: float64"
      ]
     },
     "execution_count": 25,
     "metadata": {},
     "output_type": "execute_result"
    }
   ],
   "source": [
    "df.isna().mean()"
   ]
  },
  {
   "cell_type": "markdown",
   "id": "074420d3",
   "metadata": {},
   "source": [
    "#### Замена типов колонок"
   ]
  },
  {
   "cell_type": "markdown",
   "id": "2c27c2c2",
   "metadata": {},
   "source": [
    "Тип колонок 'party_count', 'insurance_premium', 'vehicle_age' заменим на целочисленный. Тип колонки 'cellphone_in_use' можно заменить на `boolean`, но это сделаем после оценки корреляций, пока переведем ее в целочисленный тип."
   ]
  },
  {
   "cell_type": "code",
   "execution_count": 26,
   "id": "01c1a4d3",
   "metadata": {
    "scrolled": true
   },
   "outputs": [],
   "source": [
    "df.loc[:, ['party_count', \n",
    "           'insurance_premium', \n",
    "           'vehicle_age',  \n",
    "           'cellphone_in_use',\n",
    "           'at_fault']] = df.loc[:,   ['party_count', \n",
    "                                       'insurance_premium', \n",
    "                                       'vehicle_age', \n",
    "                                       'cellphone_in_use',\n",
    "                                       'at_fault']].astype('int32')"
   ]
  },
  {
   "cell_type": "markdown",
   "id": "becd24fe",
   "metadata": {},
   "source": [
    "Сформируем списки колонок по типам данных:"
   ]
  },
  {
   "cell_type": "code",
   "execution_count": 27,
   "id": "30b72916",
   "metadata": {},
   "outputs": [
    {
     "data": {
      "text/plain": [
       "True"
      ]
     },
     "execution_count": 27,
     "metadata": {},
     "output_type": "execute_result"
    }
   ],
   "source": [
    "categorical_columns = df.select_dtypes(include=['object']).columns\n",
    "numerical_columns = df.select_dtypes(include=['float64', 'int64', 'int32']).columns\n",
    "boolean_columns = df.select_dtypes(include=['bool']).columns\n",
    "\n",
    "(len(categorical_columns) + \n",
    "    len(numerical_columns) + \n",
    "    len(boolean_columns)) == len(df.columns)"
   ]
  },
  {
   "cell_type": "code",
   "execution_count": 28,
   "id": "abdb692b",
   "metadata": {},
   "outputs": [
    {
     "name": "stdout",
     "output_type": "stream",
     "text": [
      "Index(['weather', 'location_type', 'collision_damage',\n",
      "       'primary_collision_factor', 'pcf_violation_category',\n",
      "       'type_of_collision', 'motor_vehicle_involved_with', 'road_surface',\n",
      "       'road_condition', 'lighting', 'control_device', 'vehicle_type',\n",
      "       'vehicle_transmission', 'time', 'driver_condition'],\n",
      "      dtype='object')\n",
      "Index(['distance', 'party_count', 'at_fault', 'insurance_premium',\n",
      "       'cellphone_in_use', 'vehicle_age'],\n",
      "      dtype='object')\n",
      "Index([], dtype='object')\n"
     ]
    }
   ],
   "source": [
    "print(categorical_columns)\n",
    "print(numerical_columns)\n",
    "print(boolean_columns)"
   ]
  },
  {
   "cell_type": "markdown",
   "id": "b71249e8",
   "metadata": {},
   "source": [
    "Пока бинарных колонок нет, тип данных изменим позже."
   ]
  },
  {
   "cell_type": "markdown",
   "id": "4ab76ad5",
   "metadata": {},
   "source": [
    "#### Обработка выбросов\n",
    "Проверим численные колонки на выбросы, обработаем их. Явные выбросы есть только в колонке `vehicle_age`. Заменим их на медианное значение по колонке."
   ]
  },
  {
   "cell_type": "code",
   "execution_count": 29,
   "id": "88170d82",
   "metadata": {},
   "outputs": [],
   "source": [
    "sns.set(rc={'figure.figsize':(10,5)})\n",
    "\n",
    "def print_hist_for_one_column(column_name, title='График распределения', bins=50):\n",
    "    ax = df[column_name].hist(bins=bins)\n",
    "    ax.set_title(title)\n",
    "    ax.set_xlabel(column_name)\n",
    "    ax.set_ylabel('Объекты датасета')\n",
    "    plt.show()\n",
    "    plt.clf()\n",
    "\n",
    "def print_boxplot(column_name, title='Ящик с усами'):\n",
    "    sns.boxplot(x=df[column_name])\n",
    "    plt.title(title)\n",
    "    plt.show()\n",
    "    plt.clf()\n",
    "    \n"
   ]
  },
  {
   "cell_type": "raw",
   "id": "a3ecb3ad",
   "metadata": {},
   "source": [
    "for column in numerical_columns:\n",
    "    print_boxplot(column)\n",
    "    print_hist_for_one_column(column)"
   ]
  },
  {
   "cell_type": "code",
   "execution_count": 30,
   "id": "6889256d",
   "metadata": {
    "scrolled": true
   },
   "outputs": [
    {
     "name": "stdout",
     "output_type": "stream",
     "text": [
      "4      148792\n",
      "3       10925\n",
      "2        6007\n",
      "5        5534\n",
      "6        3922\n",
      "7        3814\n",
      "8        3484\n",
      "0        3076\n",
      "9        2748\n",
      "1        2533\n",
      "10       1938\n",
      "11       1369\n",
      "12        877\n",
      "13        549\n",
      "14        281\n",
      "15         37\n",
      "16          6\n",
      "17          3\n",
      "161         2\n",
      "19          1\n",
      "Name: vehicle_age, dtype: int64\n"
     ]
    }
   ],
   "source": [
    "# До замены:\n",
    "print(df.vehicle_age.value_counts())\n",
    "df.loc[df['vehicle_age'] > 20, 'vehicle_age'] = df.vehicle_age.median()"
   ]
  },
  {
   "cell_type": "raw",
   "id": "8ecd8f17",
   "metadata": {},
   "source": [
    "# После замены:\n",
    "print_boxplot('vehicle_age')\n",
    "print_hist_for_one_column('vehicle_age')"
   ]
  },
  {
   "cell_type": "markdown",
   "id": "1ca3f438",
   "metadata": {},
   "source": [
    "#### Укрупнение категорий\n",
    "Проверим значения в категориальных колонках и при необходимости укрупним категории."
   ]
  },
  {
   "cell_type": "code",
   "execution_count": 31,
   "id": "8a6a2509",
   "metadata": {},
   "outputs": [
    {
     "name": "stdout",
     "output_type": "stream",
     "text": [
      "weather\n",
      "Uniq values: 8\n",
      "clear      156523\n",
      "cloudy      29469\n",
      "raining      8110\n",
      "unknown       649\n",
      "fog           492\n",
      "snowing       433\n",
      "other         175\n",
      "wind           47\n",
      "Name: weather, dtype: int64\n",
      "\n",
      "\n",
      "location_type\n",
      "Uniq values: 6\n",
      "unknown                  74951\n",
      "highway                  70819\n",
      "intersection             37830\n",
      "ramp                      9711\n",
      "ramp, intersection        1754\n",
      "highway, intersection      833\n",
      "Name: location_type, dtype: int64\n",
      "\n",
      "\n",
      "collision_damage\n",
      "Uniq values: 4\n",
      "small damage     159383\n",
      "middle damage     27916\n",
      "severe damage      4897\n",
      "fatal              3702\n",
      "Name: collision_damage, dtype: int64\n",
      "\n",
      "\n",
      "primary_collision_factor\n",
      "Uniq values: 5\n",
      "vehicle code violation    186050\n",
      "unknown                     5584\n",
      "other than driver           3356\n",
      "other improper driving       902\n",
      "fell asleep                    6\n",
      "Name: primary_collision_factor, dtype: int64\n",
      "\n",
      "\n",
      "pcf_violation_category\n",
      "Uniq values: 22\n",
      "speeding                             69100\n",
      "improper turning                     28522\n",
      "automobile right of way              20930\n",
      "unsafe lane change                   18347\n",
      "dui                                  14034\n",
      "traffic signals and signs             9115\n",
      "unknown                               8797\n",
      "unsafe starting or backing            7644\n",
      "following too closely                 4550\n",
      "wrong side of road                    3923\n",
      "other than driver (or pedestrian)     3356\n",
      "other hazardous violation             1916\n",
      "improper passing                      1878\n",
      "pedestrian violation                  1374\n",
      "other improper driving                 902\n",
      "pedestrian right of way                883\n",
      "other equipment                        245\n",
      "hazardous parking                      170\n",
      "impeding traffic                       162\n",
      "brakes                                  25\n",
      "lights                                  19\n",
      "fell asleep                              6\n",
      "Name: pcf_violation_category, dtype: int64\n",
      "\n",
      "\n",
      "type_of_collision\n",
      "Uniq values: 8\n",
      "rear end      76375\n",
      "sideswipe     40635\n",
      "broadside     34736\n",
      "hit object    24227\n",
      "head-on        7479\n",
      "other          7282\n",
      "overturned     3622\n",
      "unknown        1542\n",
      "Name: type_of_collision, dtype: int64\n",
      "\n",
      "\n",
      "motor_vehicle_involved_with\n",
      "Uniq values: 10\n",
      "other motor vehicle               146775\n",
      "fixed object                       22681\n",
      "parked motor vehicle               10171\n",
      "other object                        6653\n",
      "non-collision                       3962\n",
      "bicycle                             2731\n",
      "motor vehicle on other roadway      1420\n",
      "unknown                              830\n",
      "animal                               652\n",
      "train                                 23\n",
      "Name: motor_vehicle_involved_with, dtype: int64\n",
      "\n",
      "\n",
      "road_surface\n",
      "Uniq values: 5\n",
      "dry         174690\n",
      "wet          18867\n",
      "unknown       1262\n",
      "snowy          925\n",
      "slippery       154\n",
      "Name: road_surface, dtype: int64\n",
      "\n",
      "\n",
      "road_condition\n",
      "Uniq values: 9\n",
      "normal            188647\n",
      "construction        3348\n",
      "unknown             1135\n",
      "other                787\n",
      "obstruction          729\n",
      "holes                626\n",
      "loose material       305\n",
      "reduced width        216\n",
      "flooded              105\n",
      "Name: road_condition, dtype: int64\n",
      "\n",
      "\n",
      "lighting\n",
      "Uniq values: 6\n",
      "daylight                                   135999\n",
      "dark with street lights                     37705\n",
      "dark with no street lights                  14289\n",
      "dusk or dawn                                 6749\n",
      "unknown                                       714\n",
      "dark with street lights not functioning       442\n",
      "Name: lighting, dtype: int64\n",
      "\n",
      "\n",
      "control_device\n",
      "Uniq values: 5\n",
      "none               132000\n",
      "functioning         62375\n",
      "unknown               964\n",
      "not functioning       443\n",
      "obscured              116\n",
      "Name: control_device, dtype: int64\n",
      "\n",
      "\n",
      "vehicle_type\n",
      "Uniq values: 4\n",
      "unknown    139998\n",
      "sedan       36953\n",
      "coupe       18943\n",
      "other           4\n",
      "Name: vehicle_type, dtype: int64\n",
      "\n",
      "\n",
      "vehicle_transmission\n",
      "Uniq values: 3\n",
      "unknown    140852\n",
      "manual      29146\n",
      "auto        25900\n",
      "Name: vehicle_transmission, dtype: int64\n",
      "\n",
      "\n",
      "time\n",
      "Uniq values: 5\n",
      "day        81122\n",
      "morning    55046\n",
      "evening    42221\n",
      "night      16155\n",
      "unknown     1354\n",
      "Name: time, dtype: int64\n",
      "\n",
      "\n",
      "driver_condition\n",
      "Uniq values: 22\n",
      "had not been drinking                                            156225\n",
      "impairment unknown, G                                             20365\n",
      "had been drinking, under influence                                 9796\n",
      "                                                                   1982\n",
      "not applicable, not applicable                                     1667\n",
      "had been drinking, impairment unknown                              1652\n",
      "had been drinking, not under influence                             1284\n",
      "under drug influence                                                850\n",
      "had not been drinking, sleepy/fatigued                              508\n",
      "sleepy/fatigued                                                     501\n",
      "had not been drinking, under drug influence                         329\n",
      "had been drinking, under influence, under drug influence            279\n",
      "impairment - physical                                               268\n",
      "had not been drinking, impairment - physical                         63\n",
      "had been drinking, under influence, sleepy/fatigued                  36\n",
      "had been drinking, not under influence, sleepy/fatigued              33\n",
      "had been drinking, impairment unknown, under drug influence          26\n",
      "had been drinking, not under influence, under drug influence         23\n",
      "had been drinking, impairment unknown, sleepy/fatigued                5\n",
      "had been drinking, not under influence, impairment - physical         3\n",
      "had been drinking, under influence, impairment - physical             2\n",
      "had been drinking, impairment unknown, impairment - physical          1\n",
      "Name: driver_condition, dtype: int64\n",
      "\n",
      "\n",
      "Всего уникальных категориальных значений: 122\n"
     ]
    }
   ],
   "source": [
    "def print_categorical_columns_info():\n",
    "    all_uniq_categorical_count = 0\n",
    "    for column in categorical_columns:\n",
    "        print(column)\n",
    "        print('Uniq values:', len(df[column].unique()))\n",
    "        all_uniq_categorical_count += len(df[column].unique())\n",
    "        print(df[column].value_counts())\n",
    "        print(); print()\n",
    "\n",
    "    print('Всего уникальных категориальных значений:', all_uniq_categorical_count)\n",
    "    \n",
    "print_categorical_columns_info()"
   ]
  },
  {
   "cell_type": "markdown",
   "id": "89d69a47",
   "metadata": {},
   "source": [
    "Объединять значения unknown и other в колонках не будем. Все же они имеют разное происхождение. Укрупним значения в колонках `pcf_violation_category` и `road_condition`."
   ]
  },
  {
   "cell_type": "code",
   "execution_count": 32,
   "id": "9489cedb",
   "metadata": {},
   "outputs": [],
   "source": [
    "def remove_small_cats(df, column_name, threshold):\n",
    "    aggregated_dict = dict()\n",
    "    for (category, count) in df[column_name].value_counts().to_dict().items():\n",
    "        if count >= threshold:\n",
    "            aggregated_dict[category] = category\n",
    "        else:\n",
    "            aggregated_dict[category] = 'other'\n",
    " \n",
    "    df['new'] = df[column_name].map(aggregated_dict)\n",
    "    df[column_name] = df['new']\n",
    "    df = df.drop('new', axis=1)\n",
    "    print(df[column_name].value_counts())\n",
    "    return df\n",
    "    "
   ]
  },
  {
   "cell_type": "code",
   "execution_count": 33,
   "id": "f79109b5",
   "metadata": {},
   "outputs": [
    {
     "name": "stdout",
     "output_type": "stream",
     "text": [
      "normal          188647\n",
      "other             3903\n",
      "construction      3348\n",
      "Name: road_condition, dtype: int64\n"
     ]
    }
   ],
   "source": [
    "df = remove_small_cats(df, 'road_condition', 2000)"
   ]
  },
  {
   "cell_type": "code",
   "execution_count": 34,
   "id": "4bb1854f",
   "metadata": {},
   "outputs": [
    {
     "name": "stdout",
     "output_type": "stream",
     "text": [
      "speeding                             69100\n",
      "improper turning                     28522\n",
      "automobile right of way              20930\n",
      "unsafe lane change                   18347\n",
      "dui                                  14034\n",
      "traffic signals and signs             9115\n",
      "unknown                               8797\n",
      "unsafe starting or backing            7644\n",
      "other                                 7580\n",
      "following too closely                 4550\n",
      "wrong side of road                    3923\n",
      "other than driver (or pedestrian)     3356\n",
      "Name: pcf_violation_category, dtype: int64\n"
     ]
    }
   ],
   "source": [
    "df = remove_small_cats(df, 'pcf_violation_category', 2000)"
   ]
  },
  {
   "cell_type": "markdown",
   "id": "787d21d1",
   "metadata": {},
   "source": [
    "Укрупним значения в колонке `driver_condition`. Судя по https://tims-test.berkeley.edu/help/SWITRS.php, 'G' соответствует 'impairment unknown', произведем эту замену. Изначально в колонке `driver_condition` 22 уникальных значения. Составим словарь для замены и произведем замену. После замены осталось 12 уникальных значений."
   ]
  },
  {
   "cell_type": "code",
   "execution_count": 35,
   "id": "13481f2b",
   "metadata": {},
   "outputs": [
    {
     "name": "stdout",
     "output_type": "stream",
     "text": [
      "22\n"
     ]
    },
    {
     "data": {
      "text/plain": [
       "had not been drinking                                            156225\n",
       "impairment unknown, G                                             20365\n",
       "had been drinking, under influence                                 9796\n",
       "                                                                   1982\n",
       "not applicable, not applicable                                     1667\n",
       "had been drinking, impairment unknown                              1652\n",
       "had been drinking, not under influence                             1284\n",
       "under drug influence                                                850\n",
       "had not been drinking, sleepy/fatigued                              508\n",
       "sleepy/fatigued                                                     501\n",
       "had not been drinking, under drug influence                         329\n",
       "had been drinking, under influence, under drug influence            279\n",
       "impairment - physical                                               268\n",
       "had not been drinking, impairment - physical                         63\n",
       "had been drinking, under influence, sleepy/fatigued                  36\n",
       "had been drinking, not under influence, sleepy/fatigued              33\n",
       "had been drinking, impairment unknown, under drug influence          26\n",
       "had been drinking, not under influence, under drug influence         23\n",
       "had been drinking, impairment unknown, sleepy/fatigued                5\n",
       "had been drinking, not under influence, impairment - physical         3\n",
       "had been drinking, under influence, impairment - physical             2\n",
       "had been drinking, impairment unknown, impairment - physical          1\n",
       "Name: driver_condition, dtype: int64"
      ]
     },
     "execution_count": 35,
     "metadata": {},
     "output_type": "execute_result"
    }
   ],
   "source": [
    "print(len(df['driver_condition'].unique()))\n",
    "df['driver_condition'].value_counts()"
   ]
  },
  {
   "cell_type": "code",
   "execution_count": 36,
   "id": "126250da",
   "metadata": {},
   "outputs": [
    {
     "name": "stdout",
     "output_type": "stream",
     "text": [
      "12\n"
     ]
    },
    {
     "data": {
      "text/plain": [
       "had not been drinking                       156225\n",
       "unknown                                      22347\n",
       "had been drinking, under influence            9796\n",
       "not applicable                                1667\n",
       "had been drinking, impairment unknown         1652\n",
       "had been drinking, not under influence        1284\n",
       "under drug influence                          1179\n",
       "sleepy/fatigued                               1009\n",
       "impairment - physical                          331\n",
       "had been drinking, under drug influence        328\n",
       "had been drinking, sleepy/fatigued              74\n",
       "had been drinking, impairment - physical         6\n",
       "Name: driver_condition, dtype: int64"
      ]
     },
     "execution_count": 36,
     "metadata": {},
     "output_type": "execute_result"
    }
   ],
   "source": [
    "driver_conditions_dict = {'had not been drinking': 'had not been drinking',\n",
    "\n",
    "                     'had been drinking, under influence':  'had been drinking, under influence',\n",
    "                     'had been drinking, impairment unknown': 'had been drinking, impairment unknown',\n",
    "                     'had been drinking, not under influence': 'had been drinking, not under influence',\n",
    "                        \n",
    "                     'impairment unknown, G': 'unknown', \n",
    "                     '': 'unknown',\n",
    "                     'not applicable, not applicable': 'not applicable',\n",
    "                          \n",
    "\n",
    "                     'under drug influence': 'under drug influence',\n",
    "            \n",
    "                     'sleepy/fatigued': 'sleepy/fatigued',                \n",
    "                     'impairment - physical': 'impairment - physical',\n",
    "                          \n",
    "                     'had not been drinking, impairment - physical': 'impairment - physical',\n",
    "                     'had not been drinking, sleepy/fatigued': 'sleepy/fatigued',\n",
    "                     'had not been drinking, under drug influence':  'under drug influence',\n",
    "                     \n",
    "                     'had been drinking, under influence, under drug influence': 'had been drinking, under drug influence',\n",
    "                     'had been drinking, impairment unknown, under drug influence': 'had been drinking, under drug influence',\n",
    "                     'had been drinking, not under influence, under drug influence': 'had been drinking, under drug influence',\n",
    "                          \n",
    "                     'had been drinking, under influence, sleepy/fatigued': 'had been drinking, sleepy/fatigued',\n",
    "                     'had been drinking, not under influence, sleepy/fatigued': 'had been drinking, sleepy/fatigued',\n",
    "                     'had been drinking, impairment unknown, sleepy/fatigued': 'had been drinking, sleepy/fatigued',\n",
    "                     \n",
    "                     'had been drinking, not under influence, impairment - physical': 'had been drinking, impairment - physical',\n",
    "                     'had been drinking, under influence, impairment - physical': 'had been drinking, impairment - physical',\n",
    "                     'had been drinking, impairment unknown, impairment - physical': 'had been drinking, impairment - physical'}\n",
    "\n",
    "df['driver_condition'] = df['driver_condition'].map(driver_conditions_dict)\n",
    "print(len(df['driver_condition'].unique()))\n",
    "df['driver_condition'].value_counts()"
   ]
  },
  {
   "cell_type": "code",
   "execution_count": 37,
   "id": "1a3e07e9",
   "metadata": {},
   "outputs": [
    {
     "name": "stdout",
     "output_type": "stream",
     "text": [
      "weather\n",
      "Uniq values: 8\n",
      "clear      156523\n",
      "cloudy      29469\n",
      "raining      8110\n",
      "unknown       649\n",
      "fog           492\n",
      "snowing       433\n",
      "other         175\n",
      "wind           47\n",
      "Name: weather, dtype: int64\n",
      "\n",
      "\n",
      "location_type\n",
      "Uniq values: 6\n",
      "unknown                  74951\n",
      "highway                  70819\n",
      "intersection             37830\n",
      "ramp                      9711\n",
      "ramp, intersection        1754\n",
      "highway, intersection      833\n",
      "Name: location_type, dtype: int64\n",
      "\n",
      "\n",
      "collision_damage\n",
      "Uniq values: 4\n",
      "small damage     159383\n",
      "middle damage     27916\n",
      "severe damage      4897\n",
      "fatal              3702\n",
      "Name: collision_damage, dtype: int64\n",
      "\n",
      "\n",
      "primary_collision_factor\n",
      "Uniq values: 5\n",
      "vehicle code violation    186050\n",
      "unknown                     5584\n",
      "other than driver           3356\n",
      "other improper driving       902\n",
      "fell asleep                    6\n",
      "Name: primary_collision_factor, dtype: int64\n",
      "\n",
      "\n",
      "pcf_violation_category\n",
      "Uniq values: 12\n",
      "speeding                             69100\n",
      "improper turning                     28522\n",
      "automobile right of way              20930\n",
      "unsafe lane change                   18347\n",
      "dui                                  14034\n",
      "traffic signals and signs             9115\n",
      "unknown                               8797\n",
      "unsafe starting or backing            7644\n",
      "other                                 7580\n",
      "following too closely                 4550\n",
      "wrong side of road                    3923\n",
      "other than driver (or pedestrian)     3356\n",
      "Name: pcf_violation_category, dtype: int64\n",
      "\n",
      "\n",
      "type_of_collision\n",
      "Uniq values: 8\n",
      "rear end      76375\n",
      "sideswipe     40635\n",
      "broadside     34736\n",
      "hit object    24227\n",
      "head-on        7479\n",
      "other          7282\n",
      "overturned     3622\n",
      "unknown        1542\n",
      "Name: type_of_collision, dtype: int64\n",
      "\n",
      "\n",
      "motor_vehicle_involved_with\n",
      "Uniq values: 10\n",
      "other motor vehicle               146775\n",
      "fixed object                       22681\n",
      "parked motor vehicle               10171\n",
      "other object                        6653\n",
      "non-collision                       3962\n",
      "bicycle                             2731\n",
      "motor vehicle on other roadway      1420\n",
      "unknown                              830\n",
      "animal                               652\n",
      "train                                 23\n",
      "Name: motor_vehicle_involved_with, dtype: int64\n",
      "\n",
      "\n",
      "road_surface\n",
      "Uniq values: 5\n",
      "dry         174690\n",
      "wet          18867\n",
      "unknown       1262\n",
      "snowy          925\n",
      "slippery       154\n",
      "Name: road_surface, dtype: int64\n",
      "\n",
      "\n",
      "road_condition\n",
      "Uniq values: 3\n",
      "normal          188647\n",
      "other             3903\n",
      "construction      3348\n",
      "Name: road_condition, dtype: int64\n",
      "\n",
      "\n",
      "lighting\n",
      "Uniq values: 6\n",
      "daylight                                   135999\n",
      "dark with street lights                     37705\n",
      "dark with no street lights                  14289\n",
      "dusk or dawn                                 6749\n",
      "unknown                                       714\n",
      "dark with street lights not functioning       442\n",
      "Name: lighting, dtype: int64\n",
      "\n",
      "\n",
      "control_device\n",
      "Uniq values: 5\n",
      "none               132000\n",
      "functioning         62375\n",
      "unknown               964\n",
      "not functioning       443\n",
      "obscured              116\n",
      "Name: control_device, dtype: int64\n",
      "\n",
      "\n",
      "vehicle_type\n",
      "Uniq values: 4\n",
      "unknown    139998\n",
      "sedan       36953\n",
      "coupe       18943\n",
      "other           4\n",
      "Name: vehicle_type, dtype: int64\n",
      "\n",
      "\n",
      "vehicle_transmission\n",
      "Uniq values: 3\n",
      "unknown    140852\n",
      "manual      29146\n",
      "auto        25900\n",
      "Name: vehicle_transmission, dtype: int64\n",
      "\n",
      "\n",
      "time\n",
      "Uniq values: 5\n",
      "day        81122\n",
      "morning    55046\n",
      "evening    42221\n",
      "night      16155\n",
      "unknown     1354\n",
      "Name: time, dtype: int64\n",
      "\n",
      "\n",
      "driver_condition\n",
      "Uniq values: 12\n",
      "had not been drinking                       156225\n",
      "unknown                                      22347\n",
      "had been drinking, under influence            9796\n",
      "not applicable                                1667\n",
      "had been drinking, impairment unknown         1652\n",
      "had been drinking, not under influence        1284\n",
      "under drug influence                          1179\n",
      "sleepy/fatigued                               1009\n",
      "impairment - physical                          331\n",
      "had been drinking, under drug influence        328\n",
      "had been drinking, sleepy/fatigued              74\n",
      "had been drinking, impairment - physical         6\n",
      "Name: driver_condition, dtype: int64\n",
      "\n",
      "\n",
      "Всего уникальных категориальных значений: 96\n"
     ]
    }
   ],
   "source": [
    "print_categorical_columns_info()"
   ]
  },
  {
   "cell_type": "markdown",
   "id": "793ee34c",
   "metadata": {},
   "source": [
    "По результатам укрупнения категорий, осталось 96 уникальных значений в категориальных колонках."
   ]
  },
  {
   "cell_type": "markdown",
   "id": "f253dbe2",
   "metadata": {},
   "source": [
    "### Оценка предобработанного датасета\n",
    "В ходе предобработки данных было проведено переименование колонок, заполнение пустых значений, изменение типов колонок на ниболее подходящие, очистка числовых данных от выбросов (колонка 'vehicle_age') и укрупнение категорий в категориальных колонках.\n",
    "\n",
    "В итоге предобработки получился датасет на 196_320 строк и 21 колонку. В категориальных колонках осталось 96 уникальных значений, возможно, что-то из этого впоследствии нужно будет укрупнить или удалить. \n",
    "\n",
    "Матрица корреляций не показывает никаких значимых линейных корреляций целевого признака с обучающими.\n",
    "\n",
    "Корреляция Спирмена в основном повторяет результат корреляции Пирсона, указывая на слабую отрицательную корреляцию целевого признака 'at_fault' с 'party_count' (Kspearman = -0.28, Kpearson = -0.26) и еще более слабую корреляцию с крупной суммой страховки ('insurance_premium'): Kspearman = -0.14, Kpearson = -0.12. \n",
    "\n",
    "Кроме того есть положительная корреляция между суммой страховки и возрастом ТС (Kspearman = 0.32, Kpearson = 0.34)."
   ]
  },
  {
   "cell_type": "raw",
   "id": "8b648383",
   "metadata": {},
   "source": [
    "overall_info(df)"
   ]
  },
  {
   "cell_type": "code",
   "execution_count": 38,
   "id": "79302575",
   "metadata": {},
   "outputs": [],
   "source": [
    "# функция печати матрицы диаграмм рассеяния\n",
    "def scatter_matrix(dataframe):\n",
    "    pd.plotting.scatter_matrix(\n",
    "        dataframe, \n",
    "        figsize=(12, 12)\n",
    "    )"
   ]
  },
  {
   "cell_type": "raw",
   "id": "e1756a47",
   "metadata": {},
   "source": [
    "scatter_matrix(df[numerical_columns])"
   ]
  },
  {
   "cell_type": "code",
   "execution_count": 39,
   "id": "3a15c7e7",
   "metadata": {},
   "outputs": [],
   "source": [
    "# функция печати тепловой карты коэффициентов корреляции\n",
    "def correlation_heatmap(dataframe):\n",
    "    plt.figure(figsize=(18, 7))\n",
    "\n",
    "    sns.heatmap(dataframe, annot=True, fmt=\".5f\", linewidths=.1, cmap='RdYlGn')\n",
    "    plt.title('Матрица коэффициентов корреляции', fontsize=15)\n",
    "    plt.ylabel('Признак', fontsize=15)\n",
    "    plt.xlabel('Признак', fontsize=15)"
   ]
  },
  {
   "cell_type": "raw",
   "id": "887f68b7",
   "metadata": {},
   "source": [
    "display(df.corr(method='pearson'))\n",
    "correlation_heatmap(df.corr(method='pearson'))"
   ]
  },
  {
   "cell_type": "raw",
   "id": "10916965",
   "metadata": {},
   "source": [
    "display(df.corr(method='spearman'))\n",
    "correlation_heatmap(df.corr(method='spearman'))"
   ]
  },
  {
   "cell_type": "markdown",
   "id": "bce1488f",
   "metadata": {},
   "source": [
    "### Замена типа колонок на boolean в колонке `cellphone_in_use`\n",
    "А теперь заменим тип колонок на boolean в колонке `cellphone_in_use`."
   ]
  },
  {
   "cell_type": "code",
   "execution_count": 40,
   "id": "55fa4663",
   "metadata": {},
   "outputs": [],
   "source": [
    "df.loc[:, ['cellphone_in_use']] = df.loc[:, ['cellphone_in_use']].astype('bool')"
   ]
  },
  {
   "cell_type": "code",
   "execution_count": 41,
   "id": "5659be03",
   "metadata": {},
   "outputs": [
    {
     "data": {
      "text/plain": [
       "True"
      ]
     },
     "execution_count": 41,
     "metadata": {},
     "output_type": "execute_result"
    }
   ],
   "source": [
    "categorical_columns = df.select_dtypes(include=['object']).columns\n",
    "numerical_columns = df.select_dtypes(include=['float64', 'int64', 'int32']).columns\n",
    "boolean_columns = df.select_dtypes(include=['bool']).columns\n",
    "\n",
    "(len(categorical_columns) + \n",
    "    len(numerical_columns) + \n",
    "    len(boolean_columns)) == len(df.columns)"
   ]
  },
  {
   "cell_type": "code",
   "execution_count": 42,
   "id": "397252f4",
   "metadata": {
    "scrolled": true
   },
   "outputs": [
    {
     "name": "stdout",
     "output_type": "stream",
     "text": [
      "Index(['weather', 'location_type', 'collision_damage',\n",
      "       'primary_collision_factor', 'pcf_violation_category',\n",
      "       'type_of_collision', 'motor_vehicle_involved_with', 'road_surface',\n",
      "       'road_condition', 'lighting', 'control_device', 'vehicle_type',\n",
      "       'vehicle_transmission', 'time', 'driver_condition'],\n",
      "      dtype='object')\n",
      "Index(['distance', 'party_count', 'at_fault', 'insurance_premium',\n",
      "       'vehicle_age'],\n",
      "      dtype='object')\n",
      "Index(['cellphone_in_use'], dtype='object')\n"
     ]
    }
   ],
   "source": [
    "print(categorical_columns)\n",
    "print(numerical_columns)\n",
    "print(boolean_columns)"
   ]
  },
  {
   "cell_type": "markdown",
   "id": "c6a53ce7",
   "metadata": {},
   "source": [
    "## Подготовка датасетов для обучения моделей\n",
    "Подготовим датасеты для обучения моделей. Существенного дисбаланса классов в исходном датасете нет."
   ]
  },
  {
   "cell_type": "code",
   "execution_count": 43,
   "id": "96fc0ca7",
   "metadata": {},
   "outputs": [
    {
     "data": {
      "text/plain": [
       "1    102453\n",
       "0     93445\n",
       "Name: at_fault, dtype: int64"
      ]
     },
     "execution_count": 43,
     "metadata": {},
     "output_type": "execute_result"
    }
   ],
   "source": [
    "df['at_fault'].value_counts()"
   ]
  },
  {
   "cell_type": "markdown",
   "id": "355a39aa",
   "metadata": {},
   "source": [
    "### Разделение на тренировочный, тестовый, валидационный датасеты\n",
    "Разделим датасет на тренировочный, валидационный и тестовый. Выделим обучающие и целевой признаки."
   ]
  },
  {
   "cell_type": "code",
   "execution_count": 44,
   "id": "fd5ec0e1",
   "metadata": {},
   "outputs": [],
   "source": [
    "def make_train_test_valid_dfs(df, target):\n",
    "    features = df.drop([target], axis=1)\n",
    "    target = df[target]\n",
    "\n",
    "    features_train, features_test_and_valid, target_train, target_test_and_valid = train_test_split(\n",
    "        features, target, test_size=0.4, random_state=666)\n",
    "\n",
    "    features_valid, features_test, target_valid, target_test = train_test_split(\n",
    "        features_test_and_valid, target_test_and_valid, test_size=0.5, random_state=666)\n",
    "\n",
    "    print('Количество объектов в features_train:', len(features_train))\n",
    "    print('Количество объектов в target_train:', len(target_train))\n",
    "\n",
    "    print('Количество объектов в features_valid:', len(features_valid))\n",
    "    print('Количество объектов в target_valid:', len(target_valid))\n",
    "\n",
    "    print('Количество объектов в features_test:', len(features_test))\n",
    "    print('Количество объектов в target_test:', len(target_test))\n",
    "    \n",
    "    return features_train, target_train, features_valid, target_valid, features_test, target_test"
   ]
  },
  {
   "cell_type": "code",
   "execution_count": 45,
   "id": "51950e33",
   "metadata": {
    "scrolled": false
   },
   "outputs": [
    {
     "name": "stdout",
     "output_type": "stream",
     "text": [
      "Количество объектов в features_train: 117538\n",
      "Количество объектов в target_train: 117538\n",
      "Количество объектов в features_valid: 39180\n",
      "Количество объектов в target_valid: 39180\n",
      "Количество объектов в features_test: 39180\n",
      "Количество объектов в target_test: 39180\n"
     ]
    }
   ],
   "source": [
    "target = 'at_fault'\n",
    "features_train, target_train, features_valid, target_valid, features_test, target_test = make_train_test_valid_dfs(df, target)"
   ]
  },
  {
   "cell_type": "markdown",
   "id": "5f77dd41",
   "metadata": {},
   "source": [
    "### Масштабирование численных признаков\n",
    "Масштабируем численные признаки."
   ]
  },
  {
   "cell_type": "code",
   "execution_count": 46,
   "id": "37e55343",
   "metadata": {},
   "outputs": [
    {
     "data": {
      "text/plain": [
       "Index(['distance', 'party_count', 'insurance_premium', 'vehicle_age'], dtype='object')"
      ]
     },
     "execution_count": 46,
     "metadata": {},
     "output_type": "execute_result"
    }
   ],
   "source": [
    "numerical_columns = features_train.select_dtypes(include=['float64', 'int64', 'int32']).columns\n",
    "numerical_columns"
   ]
  },
  {
   "cell_type": "code",
   "execution_count": 47,
   "id": "82c9048a",
   "metadata": {},
   "outputs": [
    {
     "data": {
      "text/html": [
       "<div>\n",
       "<style scoped>\n",
       "    .dataframe tbody tr th:only-of-type {\n",
       "        vertical-align: middle;\n",
       "    }\n",
       "\n",
       "    .dataframe tbody tr th {\n",
       "        vertical-align: top;\n",
       "    }\n",
       "\n",
       "    .dataframe thead th {\n",
       "        text-align: right;\n",
       "    }\n",
       "</style>\n",
       "<table border=\"1\" class=\"dataframe\">\n",
       "  <thead>\n",
       "    <tr style=\"text-align: right;\">\n",
       "      <th></th>\n",
       "      <th>distance</th>\n",
       "      <th>weather</th>\n",
       "      <th>location_type</th>\n",
       "      <th>collision_damage</th>\n",
       "      <th>party_count</th>\n",
       "      <th>primary_collision_factor</th>\n",
       "      <th>pcf_violation_category</th>\n",
       "      <th>type_of_collision</th>\n",
       "      <th>motor_vehicle_involved_with</th>\n",
       "      <th>road_surface</th>\n",
       "      <th>road_condition</th>\n",
       "      <th>lighting</th>\n",
       "      <th>control_device</th>\n",
       "      <th>insurance_premium</th>\n",
       "      <th>cellphone_in_use</th>\n",
       "      <th>vehicle_type</th>\n",
       "      <th>vehicle_transmission</th>\n",
       "      <th>vehicle_age</th>\n",
       "      <th>time</th>\n",
       "      <th>driver_condition</th>\n",
       "    </tr>\n",
       "  </thead>\n",
       "  <tbody>\n",
       "    <tr>\n",
       "      <th>159669</th>\n",
       "      <td>-0.0702</td>\n",
       "      <td>clear</td>\n",
       "      <td>highway</td>\n",
       "      <td>small damage</td>\n",
       "      <td>3.9828</td>\n",
       "      <td>vehicle code violation</td>\n",
       "      <td>dui</td>\n",
       "      <td>rear end</td>\n",
       "      <td>other motor vehicle</td>\n",
       "      <td>dry</td>\n",
       "      <td>normal</td>\n",
       "      <td>daylight</td>\n",
       "      <td>none</td>\n",
       "      <td>0.9332</td>\n",
       "      <td>False</td>\n",
       "      <td>unknown</td>\n",
       "      <td>unknown</td>\n",
       "      <td>-0.1424</td>\n",
       "      <td>morning</td>\n",
       "      <td>had not been drinking</td>\n",
       "    </tr>\n",
       "    <tr>\n",
       "      <th>161449</th>\n",
       "      <td>-0.0707</td>\n",
       "      <td>clear</td>\n",
       "      <td>intersection</td>\n",
       "      <td>small damage</td>\n",
       "      <td>-0.1487</td>\n",
       "      <td>vehicle code violation</td>\n",
       "      <td>automobile right of way</td>\n",
       "      <td>rear end</td>\n",
       "      <td>other motor vehicle</td>\n",
       "      <td>dry</td>\n",
       "      <td>normal</td>\n",
       "      <td>daylight</td>\n",
       "      <td>functioning</td>\n",
       "      <td>-1.3395</td>\n",
       "      <td>False</td>\n",
       "      <td>unknown</td>\n",
       "      <td>unknown</td>\n",
       "      <td>-0.1424</td>\n",
       "      <td>day</td>\n",
       "      <td>had not been drinking</td>\n",
       "    </tr>\n",
       "    <tr>\n",
       "      <th>193846</th>\n",
       "      <td>0.8221</td>\n",
       "      <td>clear</td>\n",
       "      <td>highway</td>\n",
       "      <td>fatal</td>\n",
       "      <td>-0.1487</td>\n",
       "      <td>vehicle code violation</td>\n",
       "      <td>improper turning</td>\n",
       "      <td>broadside</td>\n",
       "      <td>motor vehicle on other roadway</td>\n",
       "      <td>dry</td>\n",
       "      <td>normal</td>\n",
       "      <td>daylight</td>\n",
       "      <td>none</td>\n",
       "      <td>-0.2356</td>\n",
       "      <td>False</td>\n",
       "      <td>coupe</td>\n",
       "      <td>auto</td>\n",
       "      <td>0.4520</td>\n",
       "      <td>morning</td>\n",
       "      <td>had not been drinking</td>\n",
       "    </tr>\n",
       "    <tr>\n",
       "      <th>192471</th>\n",
       "      <td>-0.0596</td>\n",
       "      <td>clear</td>\n",
       "      <td>unknown</td>\n",
       "      <td>small damage</td>\n",
       "      <td>1.2285</td>\n",
       "      <td>vehicle code violation</td>\n",
       "      <td>speeding</td>\n",
       "      <td>rear end</td>\n",
       "      <td>other motor vehicle</td>\n",
       "      <td>dry</td>\n",
       "      <td>normal</td>\n",
       "      <td>daylight</td>\n",
       "      <td>none</td>\n",
       "      <td>-0.1707</td>\n",
       "      <td>False</td>\n",
       "      <td>unknown</td>\n",
       "      <td>unknown</td>\n",
       "      <td>-0.1424</td>\n",
       "      <td>evening</td>\n",
       "      <td>unknown</td>\n",
       "    </tr>\n",
       "    <tr>\n",
       "      <th>55423</th>\n",
       "      <td>-0.0628</td>\n",
       "      <td>raining</td>\n",
       "      <td>unknown</td>\n",
       "      <td>small damage</td>\n",
       "      <td>-0.1487</td>\n",
       "      <td>vehicle code violation</td>\n",
       "      <td>improper turning</td>\n",
       "      <td>sideswipe</td>\n",
       "      <td>other motor vehicle</td>\n",
       "      <td>wet</td>\n",
       "      <td>normal</td>\n",
       "      <td>daylight</td>\n",
       "      <td>none</td>\n",
       "      <td>0.4787</td>\n",
       "      <td>False</td>\n",
       "      <td>unknown</td>\n",
       "      <td>unknown</td>\n",
       "      <td>-0.1424</td>\n",
       "      <td>morning</td>\n",
       "      <td>had not been drinking</td>\n",
       "    </tr>\n",
       "  </tbody>\n",
       "</table>\n",
       "</div>"
      ],
      "text/plain": [
       "        distance  weather location_type collision_damage  party_count  \\\n",
       "159669   -0.0702    clear       highway     small damage       3.9828   \n",
       "161449   -0.0707    clear  intersection     small damage      -0.1487   \n",
       "193846    0.8221    clear       highway            fatal      -0.1487   \n",
       "192471   -0.0596    clear       unknown     small damage       1.2285   \n",
       "55423    -0.0628  raining       unknown     small damage      -0.1487   \n",
       "\n",
       "       primary_collision_factor   pcf_violation_category type_of_collision  \\\n",
       "159669   vehicle code violation                      dui          rear end   \n",
       "161449   vehicle code violation  automobile right of way          rear end   \n",
       "193846   vehicle code violation         improper turning         broadside   \n",
       "192471   vehicle code violation                 speeding          rear end   \n",
       "55423    vehicle code violation         improper turning         sideswipe   \n",
       "\n",
       "           motor_vehicle_involved_with road_surface road_condition  lighting  \\\n",
       "159669             other motor vehicle          dry         normal  daylight   \n",
       "161449             other motor vehicle          dry         normal  daylight   \n",
       "193846  motor vehicle on other roadway          dry         normal  daylight   \n",
       "192471             other motor vehicle          dry         normal  daylight   \n",
       "55423              other motor vehicle          wet         normal  daylight   \n",
       "\n",
       "       control_device  insurance_premium  cellphone_in_use vehicle_type  \\\n",
       "159669           none             0.9332             False      unknown   \n",
       "161449    functioning            -1.3395             False      unknown   \n",
       "193846           none            -0.2356             False        coupe   \n",
       "192471           none            -0.1707             False      unknown   \n",
       "55423            none             0.4787             False      unknown   \n",
       "\n",
       "       vehicle_transmission  vehicle_age     time       driver_condition  \n",
       "159669              unknown      -0.1424  morning  had not been drinking  \n",
       "161449              unknown      -0.1424      day  had not been drinking  \n",
       "193846                 auto       0.4520  morning  had not been drinking  \n",
       "192471              unknown      -0.1424  evening                unknown  \n",
       "55423               unknown      -0.1424  morning  had not been drinking  "
      ]
     },
     "execution_count": 47,
     "metadata": {},
     "output_type": "execute_result"
    }
   ],
   "source": [
    "scaler = StandardScaler()\n",
    "scaler.fit(features_train[numerical_columns])\n",
    "\n",
    "for dataset in [features_train, features_valid, features_test]:\n",
    "    dataset[numerical_columns] = scaler.transform(dataset[numerical_columns])\n",
    "\n",
    "features_train.head()"
   ]
  },
  {
   "cell_type": "markdown",
   "id": "93269a28",
   "metadata": {},
   "source": [
    "### Изменение типа категориальных колонок для LightGBM\n",
    "CatBoost способен работать с категориальными данными напрямую благодаря встроенному преобразованию данных. А для LightGBM нужно заменить тип категориальных колонок с 'object' на 'category'. \n"
   ]
  },
  {
   "cell_type": "code",
   "execution_count": 48,
   "id": "78b3d437",
   "metadata": {},
   "outputs": [],
   "source": [
    "features_train_lgb = features_train\n",
    "features_valid_lgb = features_valid\n",
    "features_test_lgb = features_test\n",
    "\n",
    "for column in categorical_columns:\n",
    "    features_train_lgb[column] = features_train_lgb[column].astype('category')\n",
    "    features_valid_lgb[column] = features_valid_lgb[column].astype('category')\n",
    "    features_test_lgb[column] = features_test_lgb[column].astype('category')"
   ]
  },
  {
   "cell_type": "code",
   "execution_count": 49,
   "id": "d3dc35b8",
   "metadata": {},
   "outputs": [
    {
     "name": "stdout",
     "output_type": "stream",
     "text": [
      "<class 'pandas.core.frame.DataFrame'>\n",
      "Int64Index: 117538 entries, 159669 to 75650\n",
      "Data columns (total 20 columns):\n",
      " #   Column                       Non-Null Count   Dtype   \n",
      "---  ------                       --------------   -----   \n",
      " 0   distance                     117538 non-null  float64 \n",
      " 1   weather                      117538 non-null  category\n",
      " 2   location_type                117538 non-null  category\n",
      " 3   collision_damage             117538 non-null  category\n",
      " 4   party_count                  117538 non-null  float64 \n",
      " 5   primary_collision_factor     117538 non-null  category\n",
      " 6   pcf_violation_category       117538 non-null  category\n",
      " 7   type_of_collision            117538 non-null  category\n",
      " 8   motor_vehicle_involved_with  117538 non-null  category\n",
      " 9   road_surface                 117538 non-null  category\n",
      " 10  road_condition               117538 non-null  category\n",
      " 11  lighting                     117538 non-null  category\n",
      " 12  control_device               117538 non-null  category\n",
      " 13  insurance_premium            117538 non-null  float64 \n",
      " 14  cellphone_in_use             117538 non-null  bool    \n",
      " 15  vehicle_type                 117538 non-null  category\n",
      " 16  vehicle_transmission         117538 non-null  category\n",
      " 17  vehicle_age                  117538 non-null  float64 \n",
      " 18  time                         117538 non-null  category\n",
      " 19  driver_condition             117538 non-null  category\n",
      "dtypes: bool(1), category(15), float64(4)\n",
      "memory usage: 6.3 MB\n"
     ]
    }
   ],
   "source": [
    "features_train_lgb.info()"
   ]
  },
  {
   "cell_type": "markdown",
   "id": "915f48a2",
   "metadata": {},
   "source": [
    "### Подготовка датасетов с кодированием категориальных признаков для логистической регрессии\n",
    "Для логистической регрессии нужно будет кодировать категориальные признаки. Сделаем это методом OHE, как наиболее универсальным."
   ]
  },
  {
   "cell_type": "code",
   "execution_count": 50,
   "id": "b482fdea",
   "metadata": {},
   "outputs": [],
   "source": [
    "ohe = OneHotEncoder(drop='first', handle_unknown='ignore', sparse=False, dtype='int32')\n",
    "ohe.fit(features_train[categorical_columns])\n",
    "\n",
    "def get_ohe(dataset):\n",
    "    temp_dataset = pd.DataFrame(\n",
    "        data=ohe.transform(dataset[categorical_columns]), \n",
    "        columns=ohe.get_feature_names_out())\n",
    " \n",
    "    dataset.drop(columns=categorical_columns, axis=1, inplace=True)\n",
    "    \n",
    "    dataset = pd.concat([dataset.reset_index(drop=True), temp_dataset], axis=1)\n",
    "    return dataset"
   ]
  },
  {
   "cell_type": "code",
   "execution_count": 51,
   "id": "cc059ca8",
   "metadata": {},
   "outputs": [],
   "source": [
    "features_train_ohe = features_train.copy()\n",
    "features_valid_ohe = features_valid.copy()\n",
    "features_test_ohe = features_test.copy()\n",
    "\n",
    "features_train_ohe = get_ohe(features_train_ohe)\n",
    "features_valid_ohe = get_ohe(features_valid_ohe)\n",
    "features_test_ohe = get_ohe(features_test_ohe)"
   ]
  },
  {
   "cell_type": "code",
   "execution_count": 52,
   "id": "aeeec0a0",
   "metadata": {},
   "outputs": [
    {
     "data": {
      "text/html": [
       "<div>\n",
       "<style scoped>\n",
       "    .dataframe tbody tr th:only-of-type {\n",
       "        vertical-align: middle;\n",
       "    }\n",
       "\n",
       "    .dataframe tbody tr th {\n",
       "        vertical-align: top;\n",
       "    }\n",
       "\n",
       "    .dataframe thead th {\n",
       "        text-align: right;\n",
       "    }\n",
       "</style>\n",
       "<table border=\"1\" class=\"dataframe\">\n",
       "  <thead>\n",
       "    <tr style=\"text-align: right;\">\n",
       "      <th></th>\n",
       "      <th>distance</th>\n",
       "      <th>party_count</th>\n",
       "      <th>insurance_premium</th>\n",
       "      <th>cellphone_in_use</th>\n",
       "      <th>vehicle_age</th>\n",
       "      <th>weather_cloudy</th>\n",
       "      <th>weather_fog</th>\n",
       "      <th>weather_other</th>\n",
       "      <th>weather_raining</th>\n",
       "      <th>weather_snowing</th>\n",
       "      <th>...</th>\n",
       "      <th>driver_condition_had been drinking, not under influence</th>\n",
       "      <th>driver_condition_had been drinking, sleepy/fatigued</th>\n",
       "      <th>driver_condition_had been drinking, under drug influence</th>\n",
       "      <th>driver_condition_had been drinking, under influence</th>\n",
       "      <th>driver_condition_had not been drinking</th>\n",
       "      <th>driver_condition_impairment - physical</th>\n",
       "      <th>driver_condition_not applicable</th>\n",
       "      <th>driver_condition_sleepy/fatigued</th>\n",
       "      <th>driver_condition_under drug influence</th>\n",
       "      <th>driver_condition_unknown</th>\n",
       "    </tr>\n",
       "  </thead>\n",
       "  <tbody>\n",
       "    <tr>\n",
       "      <th>0</th>\n",
       "      <td>-0.0702</td>\n",
       "      <td>3.9828</td>\n",
       "      <td>0.9332</td>\n",
       "      <td>False</td>\n",
       "      <td>-0.1424</td>\n",
       "      <td>0</td>\n",
       "      <td>0</td>\n",
       "      <td>0</td>\n",
       "      <td>0</td>\n",
       "      <td>0</td>\n",
       "      <td>...</td>\n",
       "      <td>0</td>\n",
       "      <td>0</td>\n",
       "      <td>0</td>\n",
       "      <td>0</td>\n",
       "      <td>1</td>\n",
       "      <td>0</td>\n",
       "      <td>0</td>\n",
       "      <td>0</td>\n",
       "      <td>0</td>\n",
       "      <td>0</td>\n",
       "    </tr>\n",
       "    <tr>\n",
       "      <th>1</th>\n",
       "      <td>-0.0707</td>\n",
       "      <td>-0.1487</td>\n",
       "      <td>-1.3395</td>\n",
       "      <td>False</td>\n",
       "      <td>-0.1424</td>\n",
       "      <td>0</td>\n",
       "      <td>0</td>\n",
       "      <td>0</td>\n",
       "      <td>0</td>\n",
       "      <td>0</td>\n",
       "      <td>...</td>\n",
       "      <td>0</td>\n",
       "      <td>0</td>\n",
       "      <td>0</td>\n",
       "      <td>0</td>\n",
       "      <td>1</td>\n",
       "      <td>0</td>\n",
       "      <td>0</td>\n",
       "      <td>0</td>\n",
       "      <td>0</td>\n",
       "      <td>0</td>\n",
       "    </tr>\n",
       "    <tr>\n",
       "      <th>2</th>\n",
       "      <td>0.8221</td>\n",
       "      <td>-0.1487</td>\n",
       "      <td>-0.2356</td>\n",
       "      <td>False</td>\n",
       "      <td>0.4520</td>\n",
       "      <td>0</td>\n",
       "      <td>0</td>\n",
       "      <td>0</td>\n",
       "      <td>0</td>\n",
       "      <td>0</td>\n",
       "      <td>...</td>\n",
       "      <td>0</td>\n",
       "      <td>0</td>\n",
       "      <td>0</td>\n",
       "      <td>0</td>\n",
       "      <td>1</td>\n",
       "      <td>0</td>\n",
       "      <td>0</td>\n",
       "      <td>0</td>\n",
       "      <td>0</td>\n",
       "      <td>0</td>\n",
       "    </tr>\n",
       "    <tr>\n",
       "      <th>3</th>\n",
       "      <td>-0.0596</td>\n",
       "      <td>1.2285</td>\n",
       "      <td>-0.1707</td>\n",
       "      <td>False</td>\n",
       "      <td>-0.1424</td>\n",
       "      <td>0</td>\n",
       "      <td>0</td>\n",
       "      <td>0</td>\n",
       "      <td>0</td>\n",
       "      <td>0</td>\n",
       "      <td>...</td>\n",
       "      <td>0</td>\n",
       "      <td>0</td>\n",
       "      <td>0</td>\n",
       "      <td>0</td>\n",
       "      <td>0</td>\n",
       "      <td>0</td>\n",
       "      <td>0</td>\n",
       "      <td>0</td>\n",
       "      <td>0</td>\n",
       "      <td>1</td>\n",
       "    </tr>\n",
       "    <tr>\n",
       "      <th>4</th>\n",
       "      <td>-0.0628</td>\n",
       "      <td>-0.1487</td>\n",
       "      <td>0.4787</td>\n",
       "      <td>False</td>\n",
       "      <td>-0.1424</td>\n",
       "      <td>0</td>\n",
       "      <td>0</td>\n",
       "      <td>0</td>\n",
       "      <td>1</td>\n",
       "      <td>0</td>\n",
       "      <td>...</td>\n",
       "      <td>0</td>\n",
       "      <td>0</td>\n",
       "      <td>0</td>\n",
       "      <td>0</td>\n",
       "      <td>1</td>\n",
       "      <td>0</td>\n",
       "      <td>0</td>\n",
       "      <td>0</td>\n",
       "      <td>0</td>\n",
       "      <td>0</td>\n",
       "    </tr>\n",
       "  </tbody>\n",
       "</table>\n",
       "<p>5 rows × 86 columns</p>\n",
       "</div>"
      ],
      "text/plain": [
       "   distance  party_count  insurance_premium  cellphone_in_use  vehicle_age  \\\n",
       "0   -0.0702       3.9828             0.9332             False      -0.1424   \n",
       "1   -0.0707      -0.1487            -1.3395             False      -0.1424   \n",
       "2    0.8221      -0.1487            -0.2356             False       0.4520   \n",
       "3   -0.0596       1.2285            -0.1707             False      -0.1424   \n",
       "4   -0.0628      -0.1487             0.4787             False      -0.1424   \n",
       "\n",
       "   weather_cloudy  weather_fog  weather_other  weather_raining  \\\n",
       "0               0            0              0                0   \n",
       "1               0            0              0                0   \n",
       "2               0            0              0                0   \n",
       "3               0            0              0                0   \n",
       "4               0            0              0                1   \n",
       "\n",
       "   weather_snowing  ...  \\\n",
       "0                0  ...   \n",
       "1                0  ...   \n",
       "2                0  ...   \n",
       "3                0  ...   \n",
       "4                0  ...   \n",
       "\n",
       "   driver_condition_had been drinking, not under influence  \\\n",
       "0                                                  0         \n",
       "1                                                  0         \n",
       "2                                                  0         \n",
       "3                                                  0         \n",
       "4                                                  0         \n",
       "\n",
       "   driver_condition_had been drinking, sleepy/fatigued  \\\n",
       "0                                                  0     \n",
       "1                                                  0     \n",
       "2                                                  0     \n",
       "3                                                  0     \n",
       "4                                                  0     \n",
       "\n",
       "   driver_condition_had been drinking, under drug influence  \\\n",
       "0                                                  0          \n",
       "1                                                  0          \n",
       "2                                                  0          \n",
       "3                                                  0          \n",
       "4                                                  0          \n",
       "\n",
       "   driver_condition_had been drinking, under influence  \\\n",
       "0                                                  0     \n",
       "1                                                  0     \n",
       "2                                                  0     \n",
       "3                                                  0     \n",
       "4                                                  0     \n",
       "\n",
       "   driver_condition_had not been drinking  \\\n",
       "0                                       1   \n",
       "1                                       1   \n",
       "2                                       1   \n",
       "3                                       0   \n",
       "4                                       1   \n",
       "\n",
       "   driver_condition_impairment - physical  driver_condition_not applicable  \\\n",
       "0                                       0                                0   \n",
       "1                                       0                                0   \n",
       "2                                       0                                0   \n",
       "3                                       0                                0   \n",
       "4                                       0                                0   \n",
       "\n",
       "   driver_condition_sleepy/fatigued  driver_condition_under drug influence  \\\n",
       "0                                 0                                      0   \n",
       "1                                 0                                      0   \n",
       "2                                 0                                      0   \n",
       "3                                 0                                      0   \n",
       "4                                 0                                      0   \n",
       "\n",
       "   driver_condition_unknown  \n",
       "0                         0  \n",
       "1                         0  \n",
       "2                         0  \n",
       "3                         1  \n",
       "4                         0  \n",
       "\n",
       "[5 rows x 86 columns]"
      ]
     },
     "execution_count": 52,
     "metadata": {},
     "output_type": "execute_result"
    }
   ],
   "source": [
    "features_train_ohe.head()"
   ]
  },
  {
   "cell_type": "raw",
   "id": "48e66a83",
   "metadata": {},
   "source": [
    "features_train_ohe = features_train.copy()\n",
    "features_valid_ohe = features_valid.copy()\n",
    "features_test_ohe = features_test.copy()\n",
    "\n",
    "for dataset in [features_train_ohe, features_valid_ohe, features_test_ohe]:\n",
    "    dataset = get_ohe(dataset)    \n",
    "    \n",
    "features_train_ohe.head()"
   ]
  },
  {
   "cell_type": "raw",
   "id": "ec985c7a",
   "metadata": {},
   "source": [
    "# проверим, что колонки совпали\n",
    "print(features_train_ohe.columns == features_valid_ohe.columns)\n",
    "print(features_valid_ohe.columns == features_test_ohe.columns)"
   ]
  },
  {
   "cell_type": "raw",
   "id": "3dcb6e99",
   "metadata": {},
   "source": [
    "features_train_ohe.info()"
   ]
  },
  {
   "cell_type": "markdown",
   "id": "6321bfcc",
   "metadata": {},
   "source": [
    "Для обучения регрессии готов датасет на 86 колонок."
   ]
  },
  {
   "cell_type": "markdown",
   "id": "a1c17691",
   "metadata": {},
   "source": [
    "## Обучение моделей\n",
    "Обучим модели на подготовленных датасетах. \n",
    "\n",
    "В качестве главной метрики будем оценивать F1 метрику. F1 - это среднее гармоническое полноты и точности, то есть она учитывает одновременно долю угаданных объектов положительного класса и долю истинно положительных объектов, среди определенных как положительные. F1 хороша, когда нас интересует в первую очередь положительный класс.\n",
    "\n",
    "Дополнительно будем отслеживать AUC ROC score - площадь под кривой ошибок. Если важна точность определения моделью обоих классов, положительного и отрицательного, то AUC ROC лучше, т.к. ее сложней обмануть, чем F1. В частности она показывает, с какой вероятностью объект положительного класса будет оценен моделью выше, чем объект отрицательного класса."
   ]
  },
  {
   "cell_type": "markdown",
   "id": "70dcb32e",
   "metadata": {},
   "source": [
    "### Dummy Classifier\n",
    "Для проверки на адекватность предскажем целевой признак с помощью DummyClassifier и выведем его метрики. AUC ROC для него равен 0.5."
   ]
  },
  {
   "cell_type": "code",
   "execution_count": 53,
   "id": "82afb1bc",
   "metadata": {},
   "outputs": [
    {
     "name": "stdout",
     "output_type": "stream",
     "text": [
      "f1 = 0.6876350298949907\n",
      "auc_roc =  0.5\n"
     ]
    }
   ],
   "source": [
    "dummy_clf = DummyClassifier(strategy=\"most_frequent\")\n",
    "dummy_clf.fit(features_train_ohe, target_train)\n",
    "dummy_predicted_valid = dummy_clf.predict(features_valid_ohe)\n",
    "dummy_f1 = f1_score(target_valid, dummy_predicted_valid)\n",
    "print('f1 =', dummy_f1)\n",
    "\n",
    "dummy_auc_roc = roc_auc_score(target_valid, dummy_predicted_valid)\n",
    "print('auc_roc = ', dummy_auc_roc)"
   ]
  },
  {
   "cell_type": "markdown",
   "id": "18a07395",
   "metadata": {},
   "source": [
    "### Логистическая регрессия\n",
    "Обучим логистическую регрессию и выведем ее метрики."
   ]
  },
  {
   "cell_type": "code",
   "execution_count": 54,
   "id": "8abf747e",
   "metadata": {},
   "outputs": [
    {
     "name": "stdout",
     "output_type": "stream",
     "text": [
      "f1 = 0.6923410718160121\n",
      "auc_roc =  0.7149306974955095\n"
     ]
    }
   ],
   "source": [
    "regression_model = LogisticRegression(random_state=666, solver='liblinear')\n",
    "regression_model.fit(features_train_ohe, target_train)\n",
    "predicted_valid_ohe = regression_model.predict(features_valid_ohe)\n",
    "\n",
    "regression_f1 = f1_score(target_valid, predicted_valid_ohe)\n",
    "print('f1 =', regression_f1)\n",
    "\n",
    "regression_auc_roc = roc_auc_score(target_valid, predicted_valid_ohe)\n",
    "print('auc_roc = ', regression_auc_roc)"
   ]
  },
  {
   "cell_type": "code",
   "execution_count": 55,
   "id": "e0a145aa",
   "metadata": {},
   "outputs": [],
   "source": [
    "f1_scorer_2 = make_scorer(f1_score, greater_is_better=True)"
   ]
  },
  {
   "cell_type": "code",
   "execution_count": 56,
   "id": "b9c052f8",
   "metadata": {},
   "outputs": [
    {
     "name": "stdout",
     "output_type": "stream",
     "text": [
      "Fitting 3 folds for each of 18 candidates, totalling 54 fits\n"
     ]
    },
    {
     "ename": "KeyboardInterrupt",
     "evalue": "",
     "output_type": "error",
     "traceback": [
      "\u001b[0;31m---------------------------------------------------------------------------\u001b[0m",
      "\u001b[0;31mKeyboardInterrupt\u001b[0m                         Traceback (most recent call last)",
      "\u001b[0;32m<timed exec>\u001b[0m in \u001b[0;36m<module>\u001b[0;34m\u001b[0m\n",
      "\u001b[0;32m/opt/conda/lib/python3.9/site-packages/sklearn/model_selection/_search.py\u001b[0m in \u001b[0;36mfit\u001b[0;34m(self, X, y, groups, **fit_params)\u001b[0m\n\u001b[1;32m    873\u001b[0m                 \u001b[0;32mreturn\u001b[0m \u001b[0mresults\u001b[0m\u001b[0;34m\u001b[0m\u001b[0;34m\u001b[0m\u001b[0m\n\u001b[1;32m    874\u001b[0m \u001b[0;34m\u001b[0m\u001b[0m\n\u001b[0;32m--> 875\u001b[0;31m             \u001b[0mself\u001b[0m\u001b[0;34m.\u001b[0m\u001b[0m_run_search\u001b[0m\u001b[0;34m(\u001b[0m\u001b[0mevaluate_candidates\u001b[0m\u001b[0;34m)\u001b[0m\u001b[0;34m\u001b[0m\u001b[0;34m\u001b[0m\u001b[0m\n\u001b[0m\u001b[1;32m    876\u001b[0m \u001b[0;34m\u001b[0m\u001b[0m\n\u001b[1;32m    877\u001b[0m             \u001b[0;31m# multimetric is determined here because in the case of a callable\u001b[0m\u001b[0;34m\u001b[0m\u001b[0;34m\u001b[0m\u001b[0;34m\u001b[0m\u001b[0m\n",
      "\u001b[0;32m/opt/conda/lib/python3.9/site-packages/sklearn/model_selection/_search.py\u001b[0m in \u001b[0;36m_run_search\u001b[0;34m(self, evaluate_candidates)\u001b[0m\n\u001b[1;32m   1377\u001b[0m     \u001b[0;32mdef\u001b[0m \u001b[0m_run_search\u001b[0m\u001b[0;34m(\u001b[0m\u001b[0mself\u001b[0m\u001b[0;34m,\u001b[0m \u001b[0mevaluate_candidates\u001b[0m\u001b[0;34m)\u001b[0m\u001b[0;34m:\u001b[0m\u001b[0;34m\u001b[0m\u001b[0;34m\u001b[0m\u001b[0m\n\u001b[1;32m   1378\u001b[0m         \u001b[0;34m\"\"\"Search all candidates in param_grid\"\"\"\u001b[0m\u001b[0;34m\u001b[0m\u001b[0;34m\u001b[0m\u001b[0m\n\u001b[0;32m-> 1379\u001b[0;31m         \u001b[0mevaluate_candidates\u001b[0m\u001b[0;34m(\u001b[0m\u001b[0mParameterGrid\u001b[0m\u001b[0;34m(\u001b[0m\u001b[0mself\u001b[0m\u001b[0;34m.\u001b[0m\u001b[0mparam_grid\u001b[0m\u001b[0;34m)\u001b[0m\u001b[0;34m)\u001b[0m\u001b[0;34m\u001b[0m\u001b[0;34m\u001b[0m\u001b[0m\n\u001b[0m\u001b[1;32m   1380\u001b[0m \u001b[0;34m\u001b[0m\u001b[0m\n\u001b[1;32m   1381\u001b[0m \u001b[0;34m\u001b[0m\u001b[0m\n",
      "\u001b[0;32m/opt/conda/lib/python3.9/site-packages/sklearn/model_selection/_search.py\u001b[0m in \u001b[0;36mevaluate_candidates\u001b[0;34m(candidate_params, cv, more_results)\u001b[0m\n\u001b[1;32m    820\u001b[0m                     )\n\u001b[1;32m    821\u001b[0m \u001b[0;34m\u001b[0m\u001b[0m\n\u001b[0;32m--> 822\u001b[0;31m                 out = parallel(\n\u001b[0m\u001b[1;32m    823\u001b[0m                     delayed(_fit_and_score)(\n\u001b[1;32m    824\u001b[0m                         \u001b[0mclone\u001b[0m\u001b[0;34m(\u001b[0m\u001b[0mbase_estimator\u001b[0m\u001b[0;34m)\u001b[0m\u001b[0;34m,\u001b[0m\u001b[0;34m\u001b[0m\u001b[0;34m\u001b[0m\u001b[0m\n",
      "\u001b[0;32m/opt/conda/lib/python3.9/site-packages/joblib/parallel.py\u001b[0m in \u001b[0;36m__call__\u001b[0;34m(self, iterable)\u001b[0m\n\u001b[1;32m   1086\u001b[0m                 \u001b[0mself\u001b[0m\u001b[0;34m.\u001b[0m\u001b[0m_iterating\u001b[0m \u001b[0;34m=\u001b[0m \u001b[0mself\u001b[0m\u001b[0;34m.\u001b[0m\u001b[0m_original_iterator\u001b[0m \u001b[0;32mis\u001b[0m \u001b[0;32mnot\u001b[0m \u001b[0;32mNone\u001b[0m\u001b[0;34m\u001b[0m\u001b[0;34m\u001b[0m\u001b[0m\n\u001b[1;32m   1087\u001b[0m \u001b[0;34m\u001b[0m\u001b[0m\n\u001b[0;32m-> 1088\u001b[0;31m             \u001b[0;32mwhile\u001b[0m \u001b[0mself\u001b[0m\u001b[0;34m.\u001b[0m\u001b[0mdispatch_one_batch\u001b[0m\u001b[0;34m(\u001b[0m\u001b[0miterator\u001b[0m\u001b[0;34m)\u001b[0m\u001b[0;34m:\u001b[0m\u001b[0;34m\u001b[0m\u001b[0;34m\u001b[0m\u001b[0m\n\u001b[0m\u001b[1;32m   1089\u001b[0m                 \u001b[0;32mpass\u001b[0m\u001b[0;34m\u001b[0m\u001b[0;34m\u001b[0m\u001b[0m\n\u001b[1;32m   1090\u001b[0m \u001b[0;34m\u001b[0m\u001b[0m\n",
      "\u001b[0;32m/opt/conda/lib/python3.9/site-packages/joblib/parallel.py\u001b[0m in \u001b[0;36mdispatch_one_batch\u001b[0;34m(self, iterator)\u001b[0m\n\u001b[1;32m    899\u001b[0m                 \u001b[0;32mreturn\u001b[0m \u001b[0;32mFalse\u001b[0m\u001b[0;34m\u001b[0m\u001b[0;34m\u001b[0m\u001b[0m\n\u001b[1;32m    900\u001b[0m             \u001b[0;32melse\u001b[0m\u001b[0;34m:\u001b[0m\u001b[0;34m\u001b[0m\u001b[0;34m\u001b[0m\u001b[0m\n\u001b[0;32m--> 901\u001b[0;31m                 \u001b[0mself\u001b[0m\u001b[0;34m.\u001b[0m\u001b[0m_dispatch\u001b[0m\u001b[0;34m(\u001b[0m\u001b[0mtasks\u001b[0m\u001b[0;34m)\u001b[0m\u001b[0;34m\u001b[0m\u001b[0;34m\u001b[0m\u001b[0m\n\u001b[0m\u001b[1;32m    902\u001b[0m                 \u001b[0;32mreturn\u001b[0m \u001b[0;32mTrue\u001b[0m\u001b[0;34m\u001b[0m\u001b[0;34m\u001b[0m\u001b[0m\n\u001b[1;32m    903\u001b[0m \u001b[0;34m\u001b[0m\u001b[0m\n",
      "\u001b[0;32m/opt/conda/lib/python3.9/site-packages/joblib/parallel.py\u001b[0m in \u001b[0;36m_dispatch\u001b[0;34m(self, batch)\u001b[0m\n\u001b[1;32m    817\u001b[0m         \u001b[0;32mwith\u001b[0m \u001b[0mself\u001b[0m\u001b[0;34m.\u001b[0m\u001b[0m_lock\u001b[0m\u001b[0;34m:\u001b[0m\u001b[0;34m\u001b[0m\u001b[0;34m\u001b[0m\u001b[0m\n\u001b[1;32m    818\u001b[0m             \u001b[0mjob_idx\u001b[0m \u001b[0;34m=\u001b[0m \u001b[0mlen\u001b[0m\u001b[0;34m(\u001b[0m\u001b[0mself\u001b[0m\u001b[0;34m.\u001b[0m\u001b[0m_jobs\u001b[0m\u001b[0;34m)\u001b[0m\u001b[0;34m\u001b[0m\u001b[0;34m\u001b[0m\u001b[0m\n\u001b[0;32m--> 819\u001b[0;31m             \u001b[0mjob\u001b[0m \u001b[0;34m=\u001b[0m \u001b[0mself\u001b[0m\u001b[0;34m.\u001b[0m\u001b[0m_backend\u001b[0m\u001b[0;34m.\u001b[0m\u001b[0mapply_async\u001b[0m\u001b[0;34m(\u001b[0m\u001b[0mbatch\u001b[0m\u001b[0;34m,\u001b[0m \u001b[0mcallback\u001b[0m\u001b[0;34m=\u001b[0m\u001b[0mcb\u001b[0m\u001b[0;34m)\u001b[0m\u001b[0;34m\u001b[0m\u001b[0;34m\u001b[0m\u001b[0m\n\u001b[0m\u001b[1;32m    820\u001b[0m             \u001b[0;31m# A job can complete so quickly than its callback is\u001b[0m\u001b[0;34m\u001b[0m\u001b[0;34m\u001b[0m\u001b[0;34m\u001b[0m\u001b[0m\n\u001b[1;32m    821\u001b[0m             \u001b[0;31m# called before we get here, causing self._jobs to\u001b[0m\u001b[0;34m\u001b[0m\u001b[0;34m\u001b[0m\u001b[0;34m\u001b[0m\u001b[0m\n",
      "\u001b[0;32m/opt/conda/lib/python3.9/site-packages/joblib/_parallel_backends.py\u001b[0m in \u001b[0;36mapply_async\u001b[0;34m(self, func, callback)\u001b[0m\n\u001b[1;32m    206\u001b[0m     \u001b[0;32mdef\u001b[0m \u001b[0mapply_async\u001b[0m\u001b[0;34m(\u001b[0m\u001b[0mself\u001b[0m\u001b[0;34m,\u001b[0m \u001b[0mfunc\u001b[0m\u001b[0;34m,\u001b[0m \u001b[0mcallback\u001b[0m\u001b[0;34m=\u001b[0m\u001b[0;32mNone\u001b[0m\u001b[0;34m)\u001b[0m\u001b[0;34m:\u001b[0m\u001b[0;34m\u001b[0m\u001b[0;34m\u001b[0m\u001b[0m\n\u001b[1;32m    207\u001b[0m         \u001b[0;34m\"\"\"Schedule a func to be run\"\"\"\u001b[0m\u001b[0;34m\u001b[0m\u001b[0;34m\u001b[0m\u001b[0m\n\u001b[0;32m--> 208\u001b[0;31m         \u001b[0mresult\u001b[0m \u001b[0;34m=\u001b[0m \u001b[0mImmediateResult\u001b[0m\u001b[0;34m(\u001b[0m\u001b[0mfunc\u001b[0m\u001b[0;34m)\u001b[0m\u001b[0;34m\u001b[0m\u001b[0;34m\u001b[0m\u001b[0m\n\u001b[0m\u001b[1;32m    209\u001b[0m         \u001b[0;32mif\u001b[0m \u001b[0mcallback\u001b[0m\u001b[0;34m:\u001b[0m\u001b[0;34m\u001b[0m\u001b[0;34m\u001b[0m\u001b[0m\n\u001b[1;32m    210\u001b[0m             \u001b[0mcallback\u001b[0m\u001b[0;34m(\u001b[0m\u001b[0mresult\u001b[0m\u001b[0;34m)\u001b[0m\u001b[0;34m\u001b[0m\u001b[0;34m\u001b[0m\u001b[0m\n",
      "\u001b[0;32m/opt/conda/lib/python3.9/site-packages/joblib/_parallel_backends.py\u001b[0m in \u001b[0;36m__init__\u001b[0;34m(self, batch)\u001b[0m\n\u001b[1;32m    595\u001b[0m         \u001b[0;31m# Don't delay the application, to avoid keeping the input\u001b[0m\u001b[0;34m\u001b[0m\u001b[0;34m\u001b[0m\u001b[0;34m\u001b[0m\u001b[0m\n\u001b[1;32m    596\u001b[0m         \u001b[0;31m# arguments in memory\u001b[0m\u001b[0;34m\u001b[0m\u001b[0;34m\u001b[0m\u001b[0;34m\u001b[0m\u001b[0m\n\u001b[0;32m--> 597\u001b[0;31m         \u001b[0mself\u001b[0m\u001b[0;34m.\u001b[0m\u001b[0mresults\u001b[0m \u001b[0;34m=\u001b[0m \u001b[0mbatch\u001b[0m\u001b[0;34m(\u001b[0m\u001b[0;34m)\u001b[0m\u001b[0;34m\u001b[0m\u001b[0;34m\u001b[0m\u001b[0m\n\u001b[0m\u001b[1;32m    598\u001b[0m \u001b[0;34m\u001b[0m\u001b[0m\n\u001b[1;32m    599\u001b[0m     \u001b[0;32mdef\u001b[0m \u001b[0mget\u001b[0m\u001b[0;34m(\u001b[0m\u001b[0mself\u001b[0m\u001b[0;34m)\u001b[0m\u001b[0;34m:\u001b[0m\u001b[0;34m\u001b[0m\u001b[0;34m\u001b[0m\u001b[0m\n",
      "\u001b[0;32m/opt/conda/lib/python3.9/site-packages/joblib/parallel.py\u001b[0m in \u001b[0;36m__call__\u001b[0;34m(self)\u001b[0m\n\u001b[1;32m    286\u001b[0m         \u001b[0;31m# change the default number of processes to -1\u001b[0m\u001b[0;34m\u001b[0m\u001b[0;34m\u001b[0m\u001b[0;34m\u001b[0m\u001b[0m\n\u001b[1;32m    287\u001b[0m         \u001b[0;32mwith\u001b[0m \u001b[0mparallel_backend\u001b[0m\u001b[0;34m(\u001b[0m\u001b[0mself\u001b[0m\u001b[0;34m.\u001b[0m\u001b[0m_backend\u001b[0m\u001b[0;34m,\u001b[0m \u001b[0mn_jobs\u001b[0m\u001b[0;34m=\u001b[0m\u001b[0mself\u001b[0m\u001b[0;34m.\u001b[0m\u001b[0m_n_jobs\u001b[0m\u001b[0;34m)\u001b[0m\u001b[0;34m:\u001b[0m\u001b[0;34m\u001b[0m\u001b[0;34m\u001b[0m\u001b[0m\n\u001b[0;32m--> 288\u001b[0;31m             return [func(*args, **kwargs)\n\u001b[0m\u001b[1;32m    289\u001b[0m                     for func, args, kwargs in self.items]\n\u001b[1;32m    290\u001b[0m \u001b[0;34m\u001b[0m\u001b[0m\n",
      "\u001b[0;32m/opt/conda/lib/python3.9/site-packages/joblib/parallel.py\u001b[0m in \u001b[0;36m<listcomp>\u001b[0;34m(.0)\u001b[0m\n\u001b[1;32m    286\u001b[0m         \u001b[0;31m# change the default number of processes to -1\u001b[0m\u001b[0;34m\u001b[0m\u001b[0;34m\u001b[0m\u001b[0;34m\u001b[0m\u001b[0m\n\u001b[1;32m    287\u001b[0m         \u001b[0;32mwith\u001b[0m \u001b[0mparallel_backend\u001b[0m\u001b[0;34m(\u001b[0m\u001b[0mself\u001b[0m\u001b[0;34m.\u001b[0m\u001b[0m_backend\u001b[0m\u001b[0;34m,\u001b[0m \u001b[0mn_jobs\u001b[0m\u001b[0;34m=\u001b[0m\u001b[0mself\u001b[0m\u001b[0;34m.\u001b[0m\u001b[0m_n_jobs\u001b[0m\u001b[0;34m)\u001b[0m\u001b[0;34m:\u001b[0m\u001b[0;34m\u001b[0m\u001b[0;34m\u001b[0m\u001b[0m\n\u001b[0;32m--> 288\u001b[0;31m             return [func(*args, **kwargs)\n\u001b[0m\u001b[1;32m    289\u001b[0m                     for func, args, kwargs in self.items]\n\u001b[1;32m    290\u001b[0m \u001b[0;34m\u001b[0m\u001b[0m\n",
      "\u001b[0;32m/opt/conda/lib/python3.9/site-packages/sklearn/utils/fixes.py\u001b[0m in \u001b[0;36m__call__\u001b[0;34m(self, *args, **kwargs)\u001b[0m\n\u001b[1;32m    115\u001b[0m     \u001b[0;32mdef\u001b[0m \u001b[0m__call__\u001b[0m\u001b[0;34m(\u001b[0m\u001b[0mself\u001b[0m\u001b[0;34m,\u001b[0m \u001b[0;34m*\u001b[0m\u001b[0margs\u001b[0m\u001b[0;34m,\u001b[0m \u001b[0;34m**\u001b[0m\u001b[0mkwargs\u001b[0m\u001b[0;34m)\u001b[0m\u001b[0;34m:\u001b[0m\u001b[0;34m\u001b[0m\u001b[0;34m\u001b[0m\u001b[0m\n\u001b[1;32m    116\u001b[0m         \u001b[0;32mwith\u001b[0m \u001b[0mconfig_context\u001b[0m\u001b[0;34m(\u001b[0m\u001b[0;34m**\u001b[0m\u001b[0mself\u001b[0m\u001b[0;34m.\u001b[0m\u001b[0mconfig\u001b[0m\u001b[0;34m)\u001b[0m\u001b[0;34m:\u001b[0m\u001b[0;34m\u001b[0m\u001b[0;34m\u001b[0m\u001b[0m\n\u001b[0;32m--> 117\u001b[0;31m             \u001b[0;32mreturn\u001b[0m \u001b[0mself\u001b[0m\u001b[0;34m.\u001b[0m\u001b[0mfunction\u001b[0m\u001b[0;34m(\u001b[0m\u001b[0;34m*\u001b[0m\u001b[0margs\u001b[0m\u001b[0;34m,\u001b[0m \u001b[0;34m**\u001b[0m\u001b[0mkwargs\u001b[0m\u001b[0;34m)\u001b[0m\u001b[0;34m\u001b[0m\u001b[0;34m\u001b[0m\u001b[0m\n\u001b[0m\u001b[1;32m    118\u001b[0m \u001b[0;34m\u001b[0m\u001b[0m\n\u001b[1;32m    119\u001b[0m \u001b[0;34m\u001b[0m\u001b[0m\n",
      "\u001b[0;32m/opt/conda/lib/python3.9/site-packages/sklearn/model_selection/_validation.py\u001b[0m in \u001b[0;36m_fit_and_score\u001b[0;34m(estimator, X, y, scorer, train, test, verbose, parameters, fit_params, return_train_score, return_parameters, return_n_test_samples, return_times, return_estimator, split_progress, candidate_progress, error_score)\u001b[0m\n\u001b[1;32m    684\u001b[0m             \u001b[0mestimator\u001b[0m\u001b[0;34m.\u001b[0m\u001b[0mfit\u001b[0m\u001b[0;34m(\u001b[0m\u001b[0mX_train\u001b[0m\u001b[0;34m,\u001b[0m \u001b[0;34m**\u001b[0m\u001b[0mfit_params\u001b[0m\u001b[0;34m)\u001b[0m\u001b[0;34m\u001b[0m\u001b[0;34m\u001b[0m\u001b[0m\n\u001b[1;32m    685\u001b[0m         \u001b[0;32melse\u001b[0m\u001b[0;34m:\u001b[0m\u001b[0;34m\u001b[0m\u001b[0;34m\u001b[0m\u001b[0m\n\u001b[0;32m--> 686\u001b[0;31m             \u001b[0mestimator\u001b[0m\u001b[0;34m.\u001b[0m\u001b[0mfit\u001b[0m\u001b[0;34m(\u001b[0m\u001b[0mX_train\u001b[0m\u001b[0;34m,\u001b[0m \u001b[0my_train\u001b[0m\u001b[0;34m,\u001b[0m \u001b[0;34m**\u001b[0m\u001b[0mfit_params\u001b[0m\u001b[0;34m)\u001b[0m\u001b[0;34m\u001b[0m\u001b[0;34m\u001b[0m\u001b[0m\n\u001b[0m\u001b[1;32m    687\u001b[0m \u001b[0;34m\u001b[0m\u001b[0m\n\u001b[1;32m    688\u001b[0m     \u001b[0;32mexcept\u001b[0m \u001b[0mException\u001b[0m\u001b[0;34m:\u001b[0m\u001b[0;34m\u001b[0m\u001b[0;34m\u001b[0m\u001b[0m\n",
      "\u001b[0;32m/opt/conda/lib/python3.9/site-packages/sklearn/linear_model/_logistic.py\u001b[0m in \u001b[0;36mfit\u001b[0;34m(self, X, y, sample_weight)\u001b[0m\n\u001b[1;32m   1231\u001b[0m             \u001b[0mn_threads\u001b[0m \u001b[0;34m=\u001b[0m \u001b[0;36m1\u001b[0m\u001b[0;34m\u001b[0m\u001b[0;34m\u001b[0m\u001b[0m\n\u001b[1;32m   1232\u001b[0m \u001b[0;34m\u001b[0m\u001b[0m\n\u001b[0;32m-> 1233\u001b[0;31m         fold_coefs_ = Parallel(n_jobs=self.n_jobs, verbose=self.verbose, prefer=prefer)(\n\u001b[0m\u001b[1;32m   1234\u001b[0m             path_func(\n\u001b[1;32m   1235\u001b[0m                 \u001b[0mX\u001b[0m\u001b[0;34m,\u001b[0m\u001b[0;34m\u001b[0m\u001b[0;34m\u001b[0m\u001b[0m\n",
      "\u001b[0;32m/opt/conda/lib/python3.9/site-packages/joblib/parallel.py\u001b[0m in \u001b[0;36m__call__\u001b[0;34m(self, iterable)\u001b[0m\n\u001b[1;32m   1083\u001b[0m             \u001b[0;31m# remaining jobs.\u001b[0m\u001b[0;34m\u001b[0m\u001b[0;34m\u001b[0m\u001b[0;34m\u001b[0m\u001b[0m\n\u001b[1;32m   1084\u001b[0m             \u001b[0mself\u001b[0m\u001b[0;34m.\u001b[0m\u001b[0m_iterating\u001b[0m \u001b[0;34m=\u001b[0m \u001b[0;32mFalse\u001b[0m\u001b[0;34m\u001b[0m\u001b[0;34m\u001b[0m\u001b[0m\n\u001b[0;32m-> 1085\u001b[0;31m             \u001b[0;32mif\u001b[0m \u001b[0mself\u001b[0m\u001b[0;34m.\u001b[0m\u001b[0mdispatch_one_batch\u001b[0m\u001b[0;34m(\u001b[0m\u001b[0miterator\u001b[0m\u001b[0;34m)\u001b[0m\u001b[0;34m:\u001b[0m\u001b[0;34m\u001b[0m\u001b[0;34m\u001b[0m\u001b[0m\n\u001b[0m\u001b[1;32m   1086\u001b[0m                 \u001b[0mself\u001b[0m\u001b[0;34m.\u001b[0m\u001b[0m_iterating\u001b[0m \u001b[0;34m=\u001b[0m \u001b[0mself\u001b[0m\u001b[0;34m.\u001b[0m\u001b[0m_original_iterator\u001b[0m \u001b[0;32mis\u001b[0m \u001b[0;32mnot\u001b[0m \u001b[0;32mNone\u001b[0m\u001b[0;34m\u001b[0m\u001b[0;34m\u001b[0m\u001b[0m\n\u001b[1;32m   1087\u001b[0m \u001b[0;34m\u001b[0m\u001b[0m\n",
      "\u001b[0;32m/opt/conda/lib/python3.9/site-packages/joblib/parallel.py\u001b[0m in \u001b[0;36mdispatch_one_batch\u001b[0;34m(self, iterator)\u001b[0m\n\u001b[1;32m    899\u001b[0m                 \u001b[0;32mreturn\u001b[0m \u001b[0;32mFalse\u001b[0m\u001b[0;34m\u001b[0m\u001b[0;34m\u001b[0m\u001b[0m\n\u001b[1;32m    900\u001b[0m             \u001b[0;32melse\u001b[0m\u001b[0;34m:\u001b[0m\u001b[0;34m\u001b[0m\u001b[0;34m\u001b[0m\u001b[0m\n\u001b[0;32m--> 901\u001b[0;31m                 \u001b[0mself\u001b[0m\u001b[0;34m.\u001b[0m\u001b[0m_dispatch\u001b[0m\u001b[0;34m(\u001b[0m\u001b[0mtasks\u001b[0m\u001b[0;34m)\u001b[0m\u001b[0;34m\u001b[0m\u001b[0;34m\u001b[0m\u001b[0m\n\u001b[0m\u001b[1;32m    902\u001b[0m                 \u001b[0;32mreturn\u001b[0m \u001b[0;32mTrue\u001b[0m\u001b[0;34m\u001b[0m\u001b[0;34m\u001b[0m\u001b[0m\n\u001b[1;32m    903\u001b[0m \u001b[0;34m\u001b[0m\u001b[0m\n",
      "\u001b[0;32m/opt/conda/lib/python3.9/site-packages/joblib/parallel.py\u001b[0m in \u001b[0;36m_dispatch\u001b[0;34m(self, batch)\u001b[0m\n\u001b[1;32m    817\u001b[0m         \u001b[0;32mwith\u001b[0m \u001b[0mself\u001b[0m\u001b[0;34m.\u001b[0m\u001b[0m_lock\u001b[0m\u001b[0;34m:\u001b[0m\u001b[0;34m\u001b[0m\u001b[0;34m\u001b[0m\u001b[0m\n\u001b[1;32m    818\u001b[0m             \u001b[0mjob_idx\u001b[0m \u001b[0;34m=\u001b[0m \u001b[0mlen\u001b[0m\u001b[0;34m(\u001b[0m\u001b[0mself\u001b[0m\u001b[0;34m.\u001b[0m\u001b[0m_jobs\u001b[0m\u001b[0;34m)\u001b[0m\u001b[0;34m\u001b[0m\u001b[0;34m\u001b[0m\u001b[0m\n\u001b[0;32m--> 819\u001b[0;31m             \u001b[0mjob\u001b[0m \u001b[0;34m=\u001b[0m \u001b[0mself\u001b[0m\u001b[0;34m.\u001b[0m\u001b[0m_backend\u001b[0m\u001b[0;34m.\u001b[0m\u001b[0mapply_async\u001b[0m\u001b[0;34m(\u001b[0m\u001b[0mbatch\u001b[0m\u001b[0;34m,\u001b[0m \u001b[0mcallback\u001b[0m\u001b[0;34m=\u001b[0m\u001b[0mcb\u001b[0m\u001b[0;34m)\u001b[0m\u001b[0;34m\u001b[0m\u001b[0;34m\u001b[0m\u001b[0m\n\u001b[0m\u001b[1;32m    820\u001b[0m             \u001b[0;31m# A job can complete so quickly than its callback is\u001b[0m\u001b[0;34m\u001b[0m\u001b[0;34m\u001b[0m\u001b[0;34m\u001b[0m\u001b[0m\n\u001b[1;32m    821\u001b[0m             \u001b[0;31m# called before we get here, causing self._jobs to\u001b[0m\u001b[0;34m\u001b[0m\u001b[0;34m\u001b[0m\u001b[0;34m\u001b[0m\u001b[0m\n",
      "\u001b[0;32m/opt/conda/lib/python3.9/site-packages/joblib/_parallel_backends.py\u001b[0m in \u001b[0;36mapply_async\u001b[0;34m(self, func, callback)\u001b[0m\n\u001b[1;32m    206\u001b[0m     \u001b[0;32mdef\u001b[0m \u001b[0mapply_async\u001b[0m\u001b[0;34m(\u001b[0m\u001b[0mself\u001b[0m\u001b[0;34m,\u001b[0m \u001b[0mfunc\u001b[0m\u001b[0;34m,\u001b[0m \u001b[0mcallback\u001b[0m\u001b[0;34m=\u001b[0m\u001b[0;32mNone\u001b[0m\u001b[0;34m)\u001b[0m\u001b[0;34m:\u001b[0m\u001b[0;34m\u001b[0m\u001b[0;34m\u001b[0m\u001b[0m\n\u001b[1;32m    207\u001b[0m         \u001b[0;34m\"\"\"Schedule a func to be run\"\"\"\u001b[0m\u001b[0;34m\u001b[0m\u001b[0;34m\u001b[0m\u001b[0m\n\u001b[0;32m--> 208\u001b[0;31m         \u001b[0mresult\u001b[0m \u001b[0;34m=\u001b[0m \u001b[0mImmediateResult\u001b[0m\u001b[0;34m(\u001b[0m\u001b[0mfunc\u001b[0m\u001b[0;34m)\u001b[0m\u001b[0;34m\u001b[0m\u001b[0;34m\u001b[0m\u001b[0m\n\u001b[0m\u001b[1;32m    209\u001b[0m         \u001b[0;32mif\u001b[0m \u001b[0mcallback\u001b[0m\u001b[0;34m:\u001b[0m\u001b[0;34m\u001b[0m\u001b[0;34m\u001b[0m\u001b[0m\n\u001b[1;32m    210\u001b[0m             \u001b[0mcallback\u001b[0m\u001b[0;34m(\u001b[0m\u001b[0mresult\u001b[0m\u001b[0;34m)\u001b[0m\u001b[0;34m\u001b[0m\u001b[0;34m\u001b[0m\u001b[0m\n",
      "\u001b[0;32m/opt/conda/lib/python3.9/site-packages/joblib/_parallel_backends.py\u001b[0m in \u001b[0;36m__init__\u001b[0;34m(self, batch)\u001b[0m\n\u001b[1;32m    595\u001b[0m         \u001b[0;31m# Don't delay the application, to avoid keeping the input\u001b[0m\u001b[0;34m\u001b[0m\u001b[0;34m\u001b[0m\u001b[0;34m\u001b[0m\u001b[0m\n\u001b[1;32m    596\u001b[0m         \u001b[0;31m# arguments in memory\u001b[0m\u001b[0;34m\u001b[0m\u001b[0;34m\u001b[0m\u001b[0;34m\u001b[0m\u001b[0m\n\u001b[0;32m--> 597\u001b[0;31m         \u001b[0mself\u001b[0m\u001b[0;34m.\u001b[0m\u001b[0mresults\u001b[0m \u001b[0;34m=\u001b[0m \u001b[0mbatch\u001b[0m\u001b[0;34m(\u001b[0m\u001b[0;34m)\u001b[0m\u001b[0;34m\u001b[0m\u001b[0;34m\u001b[0m\u001b[0m\n\u001b[0m\u001b[1;32m    598\u001b[0m \u001b[0;34m\u001b[0m\u001b[0m\n\u001b[1;32m    599\u001b[0m     \u001b[0;32mdef\u001b[0m \u001b[0mget\u001b[0m\u001b[0;34m(\u001b[0m\u001b[0mself\u001b[0m\u001b[0;34m)\u001b[0m\u001b[0;34m:\u001b[0m\u001b[0;34m\u001b[0m\u001b[0;34m\u001b[0m\u001b[0m\n",
      "\u001b[0;32m/opt/conda/lib/python3.9/site-packages/joblib/parallel.py\u001b[0m in \u001b[0;36m__call__\u001b[0;34m(self)\u001b[0m\n\u001b[1;32m    286\u001b[0m         \u001b[0;31m# change the default number of processes to -1\u001b[0m\u001b[0;34m\u001b[0m\u001b[0;34m\u001b[0m\u001b[0;34m\u001b[0m\u001b[0m\n\u001b[1;32m    287\u001b[0m         \u001b[0;32mwith\u001b[0m \u001b[0mparallel_backend\u001b[0m\u001b[0;34m(\u001b[0m\u001b[0mself\u001b[0m\u001b[0;34m.\u001b[0m\u001b[0m_backend\u001b[0m\u001b[0;34m,\u001b[0m \u001b[0mn_jobs\u001b[0m\u001b[0;34m=\u001b[0m\u001b[0mself\u001b[0m\u001b[0;34m.\u001b[0m\u001b[0m_n_jobs\u001b[0m\u001b[0;34m)\u001b[0m\u001b[0;34m:\u001b[0m\u001b[0;34m\u001b[0m\u001b[0;34m\u001b[0m\u001b[0m\n\u001b[0;32m--> 288\u001b[0;31m             return [func(*args, **kwargs)\n\u001b[0m\u001b[1;32m    289\u001b[0m                     for func, args, kwargs in self.items]\n\u001b[1;32m    290\u001b[0m \u001b[0;34m\u001b[0m\u001b[0m\n",
      "\u001b[0;32m/opt/conda/lib/python3.9/site-packages/joblib/parallel.py\u001b[0m in \u001b[0;36m<listcomp>\u001b[0;34m(.0)\u001b[0m\n\u001b[1;32m    286\u001b[0m         \u001b[0;31m# change the default number of processes to -1\u001b[0m\u001b[0;34m\u001b[0m\u001b[0;34m\u001b[0m\u001b[0;34m\u001b[0m\u001b[0m\n\u001b[1;32m    287\u001b[0m         \u001b[0;32mwith\u001b[0m \u001b[0mparallel_backend\u001b[0m\u001b[0;34m(\u001b[0m\u001b[0mself\u001b[0m\u001b[0;34m.\u001b[0m\u001b[0m_backend\u001b[0m\u001b[0;34m,\u001b[0m \u001b[0mn_jobs\u001b[0m\u001b[0;34m=\u001b[0m\u001b[0mself\u001b[0m\u001b[0;34m.\u001b[0m\u001b[0m_n_jobs\u001b[0m\u001b[0;34m)\u001b[0m\u001b[0;34m:\u001b[0m\u001b[0;34m\u001b[0m\u001b[0;34m\u001b[0m\u001b[0m\n\u001b[0;32m--> 288\u001b[0;31m             return [func(*args, **kwargs)\n\u001b[0m\u001b[1;32m    289\u001b[0m                     for func, args, kwargs in self.items]\n\u001b[1;32m    290\u001b[0m \u001b[0;34m\u001b[0m\u001b[0m\n",
      "\u001b[0;32m/opt/conda/lib/python3.9/site-packages/sklearn/utils/fixes.py\u001b[0m in \u001b[0;36m__call__\u001b[0;34m(self, *args, **kwargs)\u001b[0m\n\u001b[1;32m    115\u001b[0m     \u001b[0;32mdef\u001b[0m \u001b[0m__call__\u001b[0m\u001b[0;34m(\u001b[0m\u001b[0mself\u001b[0m\u001b[0;34m,\u001b[0m \u001b[0;34m*\u001b[0m\u001b[0margs\u001b[0m\u001b[0;34m,\u001b[0m \u001b[0;34m**\u001b[0m\u001b[0mkwargs\u001b[0m\u001b[0;34m)\u001b[0m\u001b[0;34m:\u001b[0m\u001b[0;34m\u001b[0m\u001b[0;34m\u001b[0m\u001b[0m\n\u001b[1;32m    116\u001b[0m         \u001b[0;32mwith\u001b[0m \u001b[0mconfig_context\u001b[0m\u001b[0;34m(\u001b[0m\u001b[0;34m**\u001b[0m\u001b[0mself\u001b[0m\u001b[0;34m.\u001b[0m\u001b[0mconfig\u001b[0m\u001b[0;34m)\u001b[0m\u001b[0;34m:\u001b[0m\u001b[0;34m\u001b[0m\u001b[0;34m\u001b[0m\u001b[0m\n\u001b[0;32m--> 117\u001b[0;31m             \u001b[0;32mreturn\u001b[0m \u001b[0mself\u001b[0m\u001b[0;34m.\u001b[0m\u001b[0mfunction\u001b[0m\u001b[0;34m(\u001b[0m\u001b[0;34m*\u001b[0m\u001b[0margs\u001b[0m\u001b[0;34m,\u001b[0m \u001b[0;34m**\u001b[0m\u001b[0mkwargs\u001b[0m\u001b[0;34m)\u001b[0m\u001b[0;34m\u001b[0m\u001b[0;34m\u001b[0m\u001b[0m\n\u001b[0m\u001b[1;32m    118\u001b[0m \u001b[0;34m\u001b[0m\u001b[0m\n\u001b[1;32m    119\u001b[0m \u001b[0;34m\u001b[0m\u001b[0m\n",
      "\u001b[0;32m/opt/conda/lib/python3.9/site-packages/sklearn/linear_model/_logistic.py\u001b[0m in \u001b[0;36m_logistic_regression_path\u001b[0;34m(X, y, pos_class, Cs, fit_intercept, max_iter, tol, verbose, solver, coef, class_weight, dual, penalty, intercept_scaling, multi_class, random_state, check_input, max_squared_sum, sample_weight, l1_ratio, n_threads)\u001b[0m\n\u001b[1;32m    493\u001b[0m                 \u001b[0mbeta\u001b[0m \u001b[0;34m=\u001b[0m \u001b[0;34m(\u001b[0m\u001b[0;36m1.0\u001b[0m \u001b[0;34m/\u001b[0m \u001b[0mC\u001b[0m\u001b[0;34m)\u001b[0m \u001b[0;34m*\u001b[0m \u001b[0ml1_ratio\u001b[0m\u001b[0;34m\u001b[0m\u001b[0;34m\u001b[0m\u001b[0m\n\u001b[1;32m    494\u001b[0m \u001b[0;34m\u001b[0m\u001b[0m\n\u001b[0;32m--> 495\u001b[0;31m             w0, n_iter_i, warm_start_sag = sag_solver(\n\u001b[0m\u001b[1;32m    496\u001b[0m                 \u001b[0mX\u001b[0m\u001b[0;34m,\u001b[0m\u001b[0;34m\u001b[0m\u001b[0;34m\u001b[0m\u001b[0m\n\u001b[1;32m    497\u001b[0m                 \u001b[0mtarget\u001b[0m\u001b[0;34m,\u001b[0m\u001b[0;34m\u001b[0m\u001b[0;34m\u001b[0m\u001b[0m\n",
      "\u001b[0;32m/opt/conda/lib/python3.9/site-packages/sklearn/linear_model/_sag.py\u001b[0m in \u001b[0;36msag_solver\u001b[0;34m(X, y, sample_weight, loss, alpha, beta, max_iter, tol, verbose, random_state, check_input, max_squared_sum, warm_start_mem, is_saga)\u001b[0m\n\u001b[1;32m    323\u001b[0m \u001b[0;34m\u001b[0m\u001b[0m\n\u001b[1;32m    324\u001b[0m     \u001b[0msag\u001b[0m \u001b[0;34m=\u001b[0m \u001b[0msag64\u001b[0m \u001b[0;32mif\u001b[0m \u001b[0mX\u001b[0m\u001b[0;34m.\u001b[0m\u001b[0mdtype\u001b[0m \u001b[0;34m==\u001b[0m \u001b[0mnp\u001b[0m\u001b[0;34m.\u001b[0m\u001b[0mfloat64\u001b[0m \u001b[0;32melse\u001b[0m \u001b[0msag32\u001b[0m\u001b[0;34m\u001b[0m\u001b[0;34m\u001b[0m\u001b[0m\n\u001b[0;32m--> 325\u001b[0;31m     num_seen, n_iter_ = sag(\n\u001b[0m\u001b[1;32m    326\u001b[0m         \u001b[0mdataset\u001b[0m\u001b[0;34m,\u001b[0m\u001b[0;34m\u001b[0m\u001b[0;34m\u001b[0m\u001b[0m\n\u001b[1;32m    327\u001b[0m         \u001b[0mcoef_init\u001b[0m\u001b[0;34m,\u001b[0m\u001b[0;34m\u001b[0m\u001b[0;34m\u001b[0m\u001b[0m\n",
      "\u001b[0;31mKeyboardInterrupt\u001b[0m: "
     ]
    }
   ],
   "source": [
    "%%time\n",
    "estimator = LogisticRegression(random_state=666)\n",
    "\n",
    "params = {  'solver': ['lbfgs', 'liblinear', 'newton-cg', 'newton-cholesky', 'sag', 'saga'],\n",
    "            'max_iter': [50, 100, 500]\n",
    "         }\n",
    "\n",
    "grid_2 = GridSearchCV(estimator, \n",
    "                    params,\n",
    "                    scoring=f1_scorer_2,\n",
    "                    refit='F1',\n",
    "                    cv=3, \n",
    "                    verbose=1,\n",
    "                    n_jobs=-1) \n",
    "\n",
    "grid_2.fit(features_train_ohe, target_train) "
   ]
  },
  {
   "cell_type": "code",
   "execution_count": 57,
   "id": "1fd30d46",
   "metadata": {},
   "outputs": [
    {
     "ename": "AttributeError",
     "evalue": "'GridSearchCV' object has no attribute 'best_params_'",
     "output_type": "error",
     "traceback": [
      "\u001b[0;31m---------------------------------------------------------------------------\u001b[0m",
      "\u001b[0;31mAttributeError\u001b[0m                            Traceback (most recent call last)",
      "\u001b[0;32m/tmp/ipykernel_562/3592313215.py\u001b[0m in \u001b[0;36m<module>\u001b[0;34m\u001b[0m\n\u001b[0;32m----> 1\u001b[0;31m \u001b[0mprint\u001b[0m\u001b[0;34m(\u001b[0m\u001b[0mgrid_2\u001b[0m\u001b[0;34m.\u001b[0m\u001b[0mbest_params_\u001b[0m\u001b[0;34m)\u001b[0m\u001b[0;34m\u001b[0m\u001b[0;34m\u001b[0m\u001b[0m\n\u001b[0m\u001b[1;32m      2\u001b[0m \u001b[0mprint\u001b[0m\u001b[0;34m(\u001b[0m\u001b[0mgrid_2\u001b[0m\u001b[0;34m.\u001b[0m\u001b[0mbest_score_\u001b[0m\u001b[0;34m)\u001b[0m\u001b[0;34m\u001b[0m\u001b[0;34m\u001b[0m\u001b[0m\n\u001b[1;32m      3\u001b[0m \u001b[0mprint\u001b[0m\u001b[0;34m(\u001b[0m\u001b[0mf1_score\u001b[0m\u001b[0;34m(\u001b[0m\u001b[0mtarget_valid\u001b[0m\u001b[0;34m,\u001b[0m \u001b[0mgrid_2\u001b[0m\u001b[0;34m.\u001b[0m\u001b[0mpredict\u001b[0m\u001b[0;34m(\u001b[0m\u001b[0mfeatures_valid_ohe\u001b[0m\u001b[0;34m)\u001b[0m\u001b[0;34m)\u001b[0m\u001b[0;34m)\u001b[0m\u001b[0;34m\u001b[0m\u001b[0;34m\u001b[0m\u001b[0m\n\u001b[1;32m      4\u001b[0m \u001b[0mprint\u001b[0m\u001b[0;34m(\u001b[0m\u001b[0mroc_auc_score\u001b[0m\u001b[0;34m(\u001b[0m\u001b[0mtarget_valid\u001b[0m\u001b[0;34m,\u001b[0m \u001b[0mgrid_2\u001b[0m\u001b[0;34m.\u001b[0m\u001b[0mpredict\u001b[0m\u001b[0;34m(\u001b[0m\u001b[0mfeatures_valid_ohe\u001b[0m\u001b[0;34m)\u001b[0m\u001b[0;34m)\u001b[0m\u001b[0;34m)\u001b[0m\u001b[0;34m\u001b[0m\u001b[0;34m\u001b[0m\u001b[0m\n",
      "\u001b[0;31mAttributeError\u001b[0m: 'GridSearchCV' object has no attribute 'best_params_'"
     ]
    }
   ],
   "source": [
    "print(grid_2.best_params_)\n",
    "print(grid_2.best_score_)\n",
    "print(f1_score(target_valid, grid_2.predict(features_valid_ohe)))\n",
    "print(roc_auc_score(target_valid, grid_2.predict(features_valid_ohe)))"
   ]
  },
  {
   "cell_type": "markdown",
   "id": "2040840d",
   "metadata": {},
   "source": [
    "Инициализируем модель с параметрами, подобранными GridSearchCV и посчитаем ее метрики. Результат практически идентичный тому, что был."
   ]
  },
  {
   "cell_type": "code",
   "execution_count": null,
   "id": "411eccfa",
   "metadata": {},
   "outputs": [],
   "source": [
    "regression_model_1 = LogisticRegression(random_state=666, solver='saga', max_iter=500)\n",
    "regression_model_1.fit(features_train_ohe, target_train)\n",
    "predicted_valid_ohe = regression_model_1.predict(features_valid_ohe)\n",
    "\n",
    "regression_1_f1 = f1_score(target_valid, predicted_valid_ohe)\n",
    "print('f1 =', regression_1_f1)\n",
    "\n",
    "regression_1_auc_roc = roc_auc_score(target_valid, predicted_valid_ohe)\n",
    "print('auc_roc = ', regression_1_auc_roc)"
   ]
  },
  {
   "cell_type": "markdown",
   "id": "aa4209af",
   "metadata": {},
   "source": [
    "### CatBoostClassifier\n",
    "#### CatBoostClassifier с дефолтными параметрами\n",
    "\n",
    "Инициализируем модель с дефолтными параметрами и рассчитаем ее метрики."
   ]
  },
  {
   "cell_type": "code",
   "execution_count": null,
   "id": "c245e3ca",
   "metadata": {},
   "outputs": [],
   "source": [
    "%%time\n",
    "# обучаем на датасете с не кодированными методом OHE категориями\n",
    "catboost_model = CatBoostClassifier(verbose=0, random_seed=69)\n",
    "catboost_model.fit(features_train, target_train, cat_features=list(categorical_columns))"
   ]
  },
  {
   "cell_type": "code",
   "execution_count": null,
   "id": "e7160e82",
   "metadata": {},
   "outputs": [],
   "source": [
    "print(catboost_model.get_all_params()['iterations'])\n",
    "print(catboost_model.get_all_params()['depth'])\n",
    "print(catboost_model.get_all_params()['max_leaves'])\n",
    "print(catboost_model.get_all_params()['learning_rate'])"
   ]
  },
  {
   "cell_type": "markdown",
   "id": "eb186bf3",
   "metadata": {},
   "source": [
    "Выведем предсказания, сделанные с помощью стандартного метода model.predict(). Результат получился лучше, чем у регрессии."
   ]
  },
  {
   "cell_type": "code",
   "execution_count": null,
   "id": "b8416cbe",
   "metadata": {},
   "outputs": [],
   "source": [
    "catboost_predicted_valid = catboost_model.predict(features_valid).astype('bool')\n",
    "\n",
    "catboost_f1 = f1_score(target_valid, catboost_predicted_valid)\n",
    "print('f1 =', catboost_f1)\n",
    "\n",
    "catboost_auc_roc = roc_auc_score(target_valid, catboost_predicted_valid)\n",
    "print('auc_roc = ', catboost_auc_roc)"
   ]
  },
  {
   "cell_type": "markdown",
   "id": "9184f146",
   "metadata": {},
   "source": [
    "Выведем предсказания методом model.predict_proba() и рассчитаем метрики. Лучший порог положительного класса - дефолтный 0.4.\n"
   ]
  },
  {
   "cell_type": "code",
   "execution_count": null,
   "id": "a2c530dd",
   "metadata": {},
   "outputs": [],
   "source": [
    "def predict_with_threshold(model, threshold, features):\n",
    "    probabilities = model.predict_proba(features)\n",
    "    probabilities_ones = probabilities[:, 1]\n",
    "    predictions = [(x > threshold) for x in probabilities_ones]\n",
    "    return predictions"
   ]
  },
  {
   "cell_type": "code",
   "execution_count": null,
   "id": "fec1164d",
   "metadata": {},
   "outputs": [],
   "source": [
    "def choose_threshold(model, features, target, main_metric_name='F1', verbose=False):\n",
    "    main_metric = 0\n",
    "    \n",
    "    for threshold in range(2, 10, 1):\n",
    "        predictions = predict_with_threshold(model, (threshold*0.1), features)\n",
    "        this_auc_roc = roc_auc_score(target, predictions)\n",
    "        this_f1 = f1_score(target, predictions)\n",
    "        \n",
    "        if verbose:\n",
    "            print('Treshold:', threshold*0.1)\n",
    "            print('F1:', this_f1)\n",
    "            print('AUC ROC:', this_auc_roc)\n",
    "            print(); print()\n",
    "\n",
    "        if main_metric_name == 'AUC_ROC':\n",
    "            if this_auc_roc > main_metric:\n",
    "                main_metric = this_auc_roc\n",
    "                best_threshold = threshold\n",
    "                secondary_metric_name = 'F1'\n",
    "                secondary_metric = this_f1\n",
    "        elif main_metric_name == 'F1':\n",
    "            if this_f1 > main_metric:\n",
    "                main_metric = this_f1\n",
    "                best_threshold = threshold\n",
    "                secondary_metric_name = 'AUC_ROC'\n",
    "                secondary_metric = this_auc_roc\n",
    "        else:\n",
    "            print('Two main metric names available: \"AUC_ROC\" or \"F1\", try again')\n",
    "    \n",
    "    print('Best_result:')\n",
    "    print(main_metric_name, ': ', main_metric)\n",
    "    print(secondary_metric_name, ': ', secondary_metric)\n",
    "    print('Best threshold:', best_threshold*0.1)\n",
    "   \n",
    "    return(main_metric_name, main_metric, secondary_metric_name, secondary_metric, best_threshold*0.1)\n"
   ]
  },
  {
   "cell_type": "code",
   "execution_count": null,
   "id": "28abf50d",
   "metadata": {
    "scrolled": true
   },
   "outputs": [],
   "source": [
    "#catboost_predicted_valid = predict_with_threshold(catboost_model, 0.5, features_train)\n",
    "(catboost_1_main_metric_name,\n",
    "catboost_1_main_metric,\n",
    "catboost_1_secondary_metric_name,\n",
    "catboost_1_secondary_metric,\n",
    "catboost_1_best_threshold) = choose_threshold(catboost_model, features_valid, target_valid, main_metric_name='F1')"
   ]
  },
  {
   "cell_type": "markdown",
   "id": "28cf95cd",
   "metadata": {},
   "source": [
    "#### Подбор параметров через RandomizedSearchCV\n",
    "Попробуем подобрать параметры через RandomizedSearchCV. В результате подбора лучшими из рассмотренных оказались параметры: {'learning_rate': 0.05, 'iterations': 100, 'depth': 4}\n",
    "\n",
    "Результат этой модели несколько хуже, чем модели catboost_model_2."
   ]
  },
  {
   "cell_type": "code",
   "execution_count": null,
   "id": "234bc16c",
   "metadata": {},
   "outputs": [],
   "source": [
    "# передадим f1_scorer_2 без needs_thresholds=True\n",
    "#%%time\n",
    "estimator = CatBoostClassifier(random_state=666,\n",
    "                              verbose=0,\n",
    "                              )\n",
    "                              \n",
    "params = {'iterations': [100, 200, 1_000, 2_000],\n",
    "          #'l2_leaf_reg': [3, 5, 9],\n",
    "          'depth': [4, 10, 20],\n",
    "          'learning_rate': [0.05, 0.1, 0.5]}\n",
    "                              \n",
    "grid = RandomizedSearchCV(estimator, \n",
    "                    params,\n",
    "                    scoring = f1_scorer_2,\n",
    "                    refit='F1',\n",
    "                    cv=2, \n",
    "                    verbose=3, \n",
    "                    n_jobs=-1) \n",
    "\n",
    "grid.fit(features_train_ohe, target_train, eval_set=(features_valid_ohe, target_valid)) "
   ]
  },
  {
   "cell_type": "code",
   "execution_count": null,
   "id": "63590be6",
   "metadata": {},
   "outputs": [],
   "source": [
    "print(grid.best_params_)\n",
    "print(grid.best_score_)\n",
    "print(f1_score(target_valid, grid.predict(features_valid_ohe)))\n",
    "print(roc_auc_score(target_valid, grid.predict(features_valid_ohe)))"
   ]
  },
  {
   "cell_type": "markdown",
   "id": "999c2f14",
   "metadata": {},
   "source": [
    "Инициализируем и обучим модель с параметрами, подобранными RandomizedSearchCV (iterations возьмем с запасом). \n",
    "\n",
    "RandomizedSearchCV предложил следующие параметры: {'learning_rate': 0.05, 'iterations': 1000, 'depth': 10}\n",
    "\n",
    "f1 = 0.7140837079942497"
   ]
  },
  {
   "cell_type": "markdown",
   "id": "a5a255ea",
   "metadata": {},
   "source": [
    "Обучать будем на датасете с категориальными признаками, кодированными методом OHE. Параметр iterations возьмем с запасом."
   ]
  },
  {
   "cell_type": "code",
   "execution_count": null,
   "id": "715022c7",
   "metadata": {},
   "outputs": [],
   "source": [
    "%%time\n",
    "catboost_model_4 = CatBoostClassifier(loss_function='Logloss',\n",
    "                                      eval_metric='F1',\n",
    "                                      custom_loss=['AUC', 'F1'],\n",
    "                                      random_seed=666,  \n",
    "                                      iterations=1500,\n",
    "                                      learning_rate=0.05,\n",
    "                                      max_depth=10,\n",
    "                                      verbose=0)\n",
    "\n",
    "catboost_model_4.fit(features_train_ohe, target_train, \n",
    "                     #cat_features=list(categorical_columns),\n",
    "                     eval_set=(features_valid_ohe, target_valid),\n",
    "                     verbose=False,\n",
    "                     plot=True)"
   ]
  },
  {
   "cell_type": "markdown",
   "id": "47774ef3",
   "metadata": {},
   "source": [
    "Видим, что переобучение началось примерно на 400й итерации. Метрики, рассчитанные по предсказаниям обученной модели, ниже:"
   ]
  },
  {
   "cell_type": "code",
   "execution_count": null,
   "id": "6d934d90",
   "metadata": {},
   "outputs": [],
   "source": [
    "(catboost_4_main_metric_name,\n",
    "catboost_4_main_metric,\n",
    "catboost_4_secondary_metric_name,\n",
    "catboost_4_secondary_metric,\n",
    "catboost_4_best_threshold) = choose_threshold(catboost_model_4, features_valid_ohe, target_valid)"
   ]
  },
  {
   "cell_type": "code",
   "execution_count": null,
   "id": "df059d8b",
   "metadata": {},
   "outputs": [],
   "source": [
    "# посчитали другим методом, без учета трешхолда\n",
    "catboost_predicted_valid = catboost_model_4.predict(features_valid_ohe)\n",
    "\n",
    "catboost_auc_roc = roc_auc_score(target_valid, catboost_predicted_valid)\n",
    "print('auc_roc = ', catboost_auc_roc)\n",
    "\n",
    "catboost_f1 = f1_score(target_valid, catboost_predicted_valid)\n",
    "print('f1 =', catboost_f1)"
   ]
  },
  {
   "cell_type": "code",
   "execution_count": null,
   "id": "9f4cf19a",
   "metadata": {},
   "outputs": [],
   "source": [
    "catboost_model_4.get_all_params()"
   ]
  },
  {
   "cell_type": "markdown",
   "id": "d3e7ac7f",
   "metadata": {},
   "source": [
    "#### CatBoost модель без eval_metric='F1'\n",
    "Инициализируем модель с этими же параметрами, не передавая ей `eval_metric='F1'`. Можно сделать вывод, что модель отработала чуть хуже."
   ]
  },
  {
   "cell_type": "code",
   "execution_count": null,
   "id": "a9d0d91b",
   "metadata": {},
   "outputs": [],
   "source": [
    "%%time\n",
    "catboost_model_5 = CatBoostClassifier(loss_function='Logloss',\n",
    "                                      #eval_metric='F1',\n",
    "                                      custom_loss=['AUC', 'F1'],\n",
    "                                      random_seed=666,  \n",
    "                                      iterations=1500,\n",
    "                                      learning_rate=0.05,\n",
    "                                      max_depth=10,\n",
    "                                      verbose=0)\n",
    "\n",
    "catboost_model_5.fit(features_train_ohe, target_train, \n",
    "                     #cat_features=list(categorical_columns),\n",
    "                     #eval_set=(features_valid_ohe, target_valid),\n",
    "                     verbose=False,\n",
    "                     plot=True)"
   ]
  },
  {
   "cell_type": "code",
   "execution_count": null,
   "id": "52bde5a7",
   "metadata": {},
   "outputs": [],
   "source": [
    "(catboost_5_main_metric_name,\n",
    "catboost_5_main_metric,\n",
    "catboost_5_secondary_metric_name,\n",
    "catboost_5_secondary_metric,\n",
    "catboost_5_best_threshold) = choose_threshold(catboost_model_5, features_valid_ohe, target_valid)"
   ]
  },
  {
   "cell_type": "code",
   "execution_count": null,
   "id": "1b47909e",
   "metadata": {},
   "outputs": [],
   "source": [
    "(catboost_5_main_metric_name,\n",
    "catboost_5_main_metric,\n",
    "catboost_5_secondary_metric_name,\n",
    "catboost_5_secondary_metric,\n",
    "catboost_5_best_threshold) = choose_threshold(catboost_model_5, features_test_ohe, target_test)"
   ]
  },
  {
   "cell_type": "markdown",
   "id": "a3f2163b",
   "metadata": {},
   "source": [
    "### LightGBM\n",
    "#### LightGBM с дефолтными параметрами\n",
    "Инициализируем модель LightGBM, обучим ее и оценим результат."
   ]
  },
  {
   "cell_type": "code",
   "execution_count": null,
   "id": "d5758c24",
   "metadata": {},
   "outputs": [],
   "source": [
    "lgb_model = lgb.LGBMClassifier(random_state=666)\n",
    "lgb_model.fit(features_train_lgb, target_train, categorical_feature=list(categorical_columns))"
   ]
  },
  {
   "cell_type": "markdown",
   "id": "4ccd61d2",
   "metadata": {},
   "source": [
    "Выведем предсказания стандартным методом model.predict() и оценим метрику."
   ]
  },
  {
   "cell_type": "code",
   "execution_count": null,
   "id": "18f146e4",
   "metadata": {
    "scrolled": true
   },
   "outputs": [],
   "source": [
    "predictions_with_predict_lgb_valid = lgb_model.predict(features_valid_lgb)\n",
    "lgb_f1 = f1_score(target_valid, predictions_with_predict_lgb_valid)\n",
    "print('f1 =', lgb_f1)\n",
    "\n",
    "lgb_auc_roc = roc_auc_score(target_valid, predictions_with_predict_lgb_valid)\n",
    "print('auc_roc = ', lgb_auc_roc)"
   ]
  },
  {
   "cell_type": "markdown",
   "id": "2e6c3abc",
   "metadata": {},
   "source": [
    "Выведем предсказания методом model.predict_proba() и рассчитаем метрики. Результат получился чуть выше."
   ]
  },
  {
   "cell_type": "code",
   "execution_count": null,
   "id": "ff7933e4",
   "metadata": {
    "scrolled": true
   },
   "outputs": [],
   "source": [
    "lgb_model.predict_proba(features_valid_lgb)"
   ]
  },
  {
   "cell_type": "code",
   "execution_count": null,
   "id": "7790fbcb",
   "metadata": {},
   "outputs": [],
   "source": [
    "(lgb_main_metric_name,\n",
    "lgb_main_metric,\n",
    "lgb_secondary_metric_name,\n",
    "lgb_secondary_metric,\n",
    "lgb_best_threshold) = choose_threshold(lgb_model, features_valid_lgb, target_valid)"
   ]
  },
  {
   "cell_type": "markdown",
   "id": "d09ea1c3",
   "metadata": {},
   "source": [
    "Выведем параметры модели."
   ]
  },
  {
   "cell_type": "code",
   "execution_count": null,
   "id": "a43970eb",
   "metadata": {},
   "outputs": [],
   "source": [
    "lgb_model.get_params()"
   ]
  },
  {
   "cell_type": "markdown",
   "id": "ae551f38",
   "metadata": {},
   "source": [
    "#### Подбор параметров LightGBM через RandomizedSearchCV\n",
    "Попробуем подобрать более оптимальные параметры через RandomizedSearchCV."
   ]
  },
  {
   "cell_type": "code",
   "execution_count": null,
   "id": "e8d1f995",
   "metadata": {},
   "outputs": [],
   "source": [
    "# передадим roc_auc_scorer_2 без needs_thresholds=True\n",
    "# %%time\n",
    "estimator = lgb.LGBMClassifier(random_state=666,\n",
    "                               verbose=0,\n",
    "                               eval_metric='F1',\n",
    "                               categorical_feature=list(categorical_columns)\n",
    "                               )\n",
    "                              \n",
    "params = {#'iterations': [100, 200],\n",
    "          #'l2_leaf_reg': [3, 5, 9],\n",
    "          'n_estimators': [10, 20, 100, 200],\n",
    "          'min_data_in_leaf': [50, 100, 200],\n",
    "          'max_depth': [4, 10, 20],\n",
    "          'num_iterations': [50, 100, 200, 500, 1000, 1500, 2000, 2500],\n",
    "          #'learning_rate': [0.05, 0.1, 0.5]\n",
    "          }\n",
    "                              \n",
    "grid = RandomizedSearchCV(estimator, \n",
    "                          params,\n",
    "                          scoring=f1_scorer_2,\n",
    "                          refit='F1',\n",
    "                          cv=2, \n",
    "                          verbose=0, \n",
    "                          n_jobs=12,\n",
    "                          #learning_rate=increase_it?\n",
    "                         ) \n",
    "\n",
    "grid.fit(features_train_lgb, target_train, eval_metric='f1', eval_set=(features_valid_lgb, target_valid)) "
   ]
  },
  {
   "cell_type": "code",
   "execution_count": null,
   "id": "937c9859",
   "metadata": {
    "scrolled": true
   },
   "outputs": [],
   "source": [
    "print(grid.best_score_)\n",
    "print(grid.best_params_)\n",
    "print(f1_score(target_valid, grid.predict(features_valid_lgb)))\n",
    "print(roc_auc_score(target_valid, grid.predict(features_valid_lgb)))"
   ]
  },
  {
   "cell_type": "markdown",
   "id": "3bcaf498",
   "metadata": {},
   "source": [
    "Инициализируем модель с параметрами, предложенными RandomizedSearchCV, обучим ее и оценим метрику. Параметр num_iterations возьмем с запасом."
   ]
  },
  {
   "cell_type": "code",
   "execution_count": null,
   "id": "f8313ff7",
   "metadata": {},
   "outputs": [],
   "source": [
    "lgb_model_2 = lgb.LGBMClassifier(random_state=666,\n",
    "                              num_iterations=500,\n",
    "                              n_estimators=20, \n",
    "                              min_data_in_leaf=50,\n",
    "                              max_depth=4,\n",
    "                              verbose=0)\n",
    "lgb_model_2.fit(features_train_lgb, target_train, categorical_feature=list(categorical_columns))"
   ]
  },
  {
   "cell_type": "code",
   "execution_count": null,
   "id": "729d2d3f",
   "metadata": {},
   "outputs": [],
   "source": [
    "(lgb_2_main_metric_name,\n",
    "lgb_2_main_metric,\n",
    "lgb_2_secondary_metric_name,\n",
    "lgb_2_secondary_metric,\n",
    "lgb_2_best_threshold) = choose_threshold(lgb_model_2, features_valid, target_valid)"
   ]
  },
  {
   "cell_type": "code",
   "execution_count": null,
   "id": "269845ee",
   "metadata": {
    "scrolled": true
   },
   "outputs": [],
   "source": [
    "lgb_model_2.get_params()"
   ]
  },
  {
   "cell_type": "markdown",
   "id": "d7f0fc99",
   "metadata": {},
   "source": [
    "## Выбор и оценка моделей\n",
    "### Сводная таблица результатов\n",
    "Сведем метрики моделей на валидационном датасете в одну таблицу. Лучшие результаты показали модели catboost_model_4 и lgb_model_2, параметры для которых подобраны на RandomGridSearch."
   ]
  },
  {
   "cell_type": "code",
   "execution_count": null,
   "id": "d68f228e",
   "metadata": {
    "scrolled": true
   },
   "outputs": [],
   "source": [
    "data = {'models': ['regression_model',\n",
    "                   'regression_model_1',\n",
    "                   'catboost_model', \n",
    "                   'catboost_model_4',\n",
    "                   'catboost_model_5',\n",
    "                   'lgb_model',\n",
    "                   'lgb_model_2'],\n",
    "        'F1':     [regression_auc_roc, \n",
    "                    regression_1_auc_roc,\n",
    "                    catboost_1_main_metric,\n",
    "                    catboost_4_main_metric,\n",
    "                    catboost_5_main_metric,\n",
    "                    lgb_main_metric,\n",
    "                    lgb_2_main_metric],\n",
    "        'AUC ROC':  [regression_f1,\n",
    "                    regression_1_f1,\n",
    "                    catboost_1_secondary_metric,\n",
    "                    catboost_4_secondary_metric,\n",
    "                    catboost_5_secondary_metric,\n",
    "                    lgb_secondary_metric,\n",
    "                    lgb_2_secondary_metric]}\n",
    "results = pd.DataFrame(data=data)\n",
    "results"
   ]
  },
  {
   "cell_type": "markdown",
   "id": "8169a18c",
   "metadata": {},
   "source": [
    "### Проверка ВСЕХ моделей на тесте\n",
    "Проверим, какие результаты модели дадут на тестовых данных. "
   ]
  },
  {
   "cell_type": "code",
   "execution_count": null,
   "id": "a0d6bbc3",
   "metadata": {},
   "outputs": [],
   "source": [
    "print('regression_model:')\n",
    "print(choose_threshold(regression_model, features_test_ohe, target_test, main_metric_name='F1'))\n",
    "print(); print()\n",
    "\n",
    "print('regression_model_1:')\n",
    "print(choose_threshold(regression_model_1, features_test_ohe, target_test, main_metric_name='F1'))\n",
    "print(); print()\n",
    "\n",
    "print('catboost_model:')\n",
    "print(choose_threshold(catboost_model, features_test, target_test, main_metric_name='F1'))\n",
    "print(); print()\n",
    "\n",
    "print('catboost_model_4:')\n",
    "print(choose_threshold(catboost_model_4, features_test_ohe, target_test, main_metric_name='F1'))\n",
    "print(); print()\n",
    "\n",
    "print('catboost_model_5:')\n",
    "print(choose_threshold(catboost_model_5, features_test_ohe, target_test, main_metric_name='F1'))\n",
    "print(); print()\n",
    "\n",
    "print('lgb_model:')\n",
    "print(choose_threshold(lgb_model, features_test_lgb, target_test, main_metric_name='F1'))\n",
    "print(); print()\n",
    "\n",
    "print('lgb_model_2:')\n",
    "print(choose_threshold(lgb_model_2, features_test_lgb, target_test, main_metric_name='F1'))\n",
    "print(); print()"
   ]
  },
  {
   "cell_type": "markdown",
   "id": "72012b27",
   "metadata": {},
   "source": [
    "### Выбор модели\n",
    "Лучшая модель выбирается исходя из метрик, полученных на валидационном датасете.\n",
    "\n",
    "Лучшая из получившихся моделей - catboost_model_4, обученная с настройками, подобранными через RandomizedSearchCV. \n",
    "\n",
    "Параметры, заданные модели:\n",
    "* num_iterations=1500,\n",
    "* learning_rate=0.05\n",
    "* max_depth=10\n",
    "* eval_metric='F1'\n",
    "\n",
    "Все параметры модели:"
   ]
  },
  {
   "cell_type": "code",
   "execution_count": null,
   "id": "07299bb0",
   "metadata": {
    "scrolled": true
   },
   "outputs": [],
   "source": [
    "catboost_model_4.get_params()"
   ]
  },
  {
   "cell_type": "code",
   "execution_count": null,
   "id": "dd948a66",
   "metadata": {},
   "outputs": [],
   "source": [
    "best_model = catboost_model_4"
   ]
  },
  {
   "cell_type": "markdown",
   "id": "22260b72",
   "metadata": {},
   "source": [
    "Метрики модели на валидационных данных:\n",
    "* F1 :  0.7431756663761068\n",
    "* AUC_ROC :  0.7105323707217235\n",
    "* Best threshold: 0.4\n",
    "\n",
    "При запуске модели на тестовых данных метрика получилась примерно такая же:\n",
    "\n",
    "* F1 :  0.7388942595405791\n",
    "* AUC_ROC :  0.7071206946239839\n",
    "* Best threshold: 0.4\n",
    "\n",
    "Другие модели на тесте дают похожий результат. "
   ]
  },
  {
   "cell_type": "code",
   "execution_count": null,
   "id": "9188bce2",
   "metadata": {},
   "outputs": [],
   "source": [
    "choose_threshold(best_model, features_test_ohe, target_test, verbose=True)"
   ]
  },
  {
   "cell_type": "code",
   "execution_count": null,
   "id": "ad428ceb",
   "metadata": {
    "scrolled": false
   },
   "outputs": [],
   "source": [
    "test_preds = best_model.predict(features_test_ohe)\n",
    "print('F1:', f1_score(test_preds, target_test))\n",
    "print('AUC ROC:', roc_auc_score(test_preds, target_test))"
   ]
  },
  {
   "cell_type": "code",
   "execution_count": null,
   "id": "02b656d5",
   "metadata": {},
   "outputs": [],
   "source": [
    "#  проверим, что это не ошибка типов данных\n",
    "def predict_with_threshold_int(model, threshold, features):\n",
    "    probabilities = model.predict_proba(features)\n",
    "    probabilities_ones = probabilities[:, 1]\n",
    "    predictions = [int(x > threshold) for x in probabilities_ones]\n",
    "    return predictions\n",
    "\n",
    "\n",
    "test_preds_int = predict_with_threshold_int(best_model, 0.5, features_test_ohe)\n",
    "target_test_int = target_test.astype('int')\n",
    "\n",
    "print('F1:', f1_score(test_preds_int, target_test_int))\n",
    "print('AUC ROC:', roc_auc_score(test_preds_int, target_test_int))"
   ]
  },
  {
   "cell_type": "markdown",
   "id": "1ad05b96",
   "metadata": {},
   "source": [
    "Классы сбалансированы, вряд ли проблема была в этом:"
   ]
  },
  {
   "cell_type": "code",
   "execution_count": null,
   "id": "30ff288e",
   "metadata": {},
   "outputs": [],
   "source": [
    "print(pd.Series(target_train).value_counts())\n",
    "print(pd.Series(target_valid).value_counts())\n",
    "print(pd.Series(target_test).value_counts())"
   ]
  },
  {
   "cell_type": "markdown",
   "id": "184b4caa",
   "metadata": {},
   "source": [
    "### Матрица ошибок, полнота, точность\n",
    "Выведем матрицу ошибок по результатам предсказаний модели. \n",
    "\n",
    "На валидационной выборке: "
   ]
  },
  {
   "cell_type": "code",
   "execution_count": null,
   "id": "ccd11772",
   "metadata": {},
   "outputs": [],
   "source": [
    "predictions_valid = predict_with_threshold(best_model, 0.4, features_valid_ohe)\n",
    "print(confusion_matrix(target_valid, predictions_valid))"
   ]
  },
  {
   "cell_type": "markdown",
   "id": "5f0a9c5a",
   "metadata": {},
   "source": [
    "Как видно из матрицы ошибок, на тестовой выборке модель неверно отнесла объект к отрицательному классу 7_376 раз, а неверно отнесла к положительному - 3_229 раз. "
   ]
  },
  {
   "cell_type": "code",
   "execution_count": null,
   "id": "eae1675a",
   "metadata": {},
   "outputs": [],
   "source": [
    "predictions_test = predict_with_threshold(best_model, 0.5, features_test_ohe)\n",
    "print(confusion_matrix(target_test, predictions_test))"
   ]
  },
  {
   "cell_type": "markdown",
   "id": "49cba075",
   "metadata": {},
   "source": [
    "Выведем полноту и точность на валидационной выборке:"
   ]
  },
  {
   "cell_type": "code",
   "execution_count": null,
   "id": "cd4a9e18",
   "metadata": {},
   "outputs": [],
   "source": [
    "print('Полнота:', recall_score(target_valid, predictions_valid))\n",
    "print('Точность:', precision_score(target_valid, predictions_valid))"
   ]
  },
  {
   "cell_type": "markdown",
   "id": "62c1b8c8",
   "metadata": {},
   "source": [
    "Выведем полноту и точность на тестовой выборке. Модель стала хуже определять объекты положительного класса."
   ]
  },
  {
   "cell_type": "code",
   "execution_count": null,
   "id": "c6a3f746",
   "metadata": {
    "scrolled": true
   },
   "outputs": [],
   "source": [
    "print('Полнота:', recall_score(target_test, predictions_test))\n",
    "print('Точность:', precision_score(target_test, predictions_test))"
   ]
  },
  {
   "cell_type": "markdown",
   "id": "be12569d",
   "metadata": {},
   "source": [
    "### Анализ важности основных факторов\n",
    "Проанализируем, как модель определила важность основных факторов."
   ]
  },
  {
   "cell_type": "code",
   "execution_count": null,
   "id": "4335386c",
   "metadata": {
    "scrolled": true
   },
   "outputs": [],
   "source": [
    "# For lgb_model:\n",
    "feature_importances = pd.DataFrame(data=sorted(zip(lgb_model.feature_importances_, features_train_lgb.columns)), \n",
    "                                   columns=['Value','Feature'])\n",
    "print(feature_importances)\n",
    "\n",
    "plt.figure(figsize=(25, 15))\n",
    "sns.barplot(x=\"Value\", y=\"Feature\", data=feature_importances.sort_values(by=\"Value\", ascending=False))\n",
    "plt.title('LightGBM Features (avg over folds)')\n",
    "plt.tight_layout()\n",
    "plt.show()\n",
    "plt.savefig('lgbm_importances-01.png')"
   ]
  },
  {
   "cell_type": "markdown",
   "id": "5822b320",
   "metadata": {},
   "source": [
    "Таким образом, модель LGB определила как наиболее важные следующие факторы: 'insurance_premium', 'pcf_violation_category', 'distance' (расстояние от главное дороги). Менее важными показались факторы: 'party_count', 'motor_vehicle_involved_with', 'driver_condition'.\n",
    "\n",
    "Неважными для модели оказались конструктивные особенности автомобиля и его состояние, погода, освещенность и состояние дороги, время суток, время года, а также тип местности, где произошло ДТП. Неважной оказалась также колонка 'party_drug_physical', в которой отражено состояние водителя, не связанное с АО."
   ]
  },
  {
   "cell_type": "markdown",
   "id": "f694450d",
   "metadata": {},
   "source": [
    "Для сравнения выведем фичи, которые показались самыми важными модели CatBoost."
   ]
  },
  {
   "cell_type": "code",
   "execution_count": null,
   "id": "315f06fa",
   "metadata": {},
   "outputs": [],
   "source": [
    "# For catboost_model:\n",
    "feature_importances = dict(zip(list(features_train_ohe.columns), list(catboost_model_4.get_feature_importance())))\n",
    "feature_importances"
   ]
  },
  {
   "cell_type": "code",
   "execution_count": null,
   "id": "e7e50f29",
   "metadata": {},
   "outputs": [],
   "source": [
    "feature_importance = catboost_model_4.feature_importances_\n",
    "sorted_idx = np.argsort(feature_importance)\n",
    "fig = plt.figure(figsize=(12, 20))\n",
    "plt.barh(range(len(sorted_idx)), feature_importance[sorted_idx], align='center')\n",
    "plt.yticks(range(len(sorted_idx)), np.array(features_train_ohe.columns)[sorted_idx])\n",
    "plt.title('Feature Importance')"
   ]
  },
  {
   "cell_type": "markdown",
   "id": "aa5fed7d",
   "metadata": {},
   "source": [
    "Таким образом, модель CatBoost определила как наиболее важные следующие факторы: `primary_collision_factor`, `party_count`, `driver_condition`, `pcf_violation_category`. Важными также показались `motor_vehicle_incolved_with` и `insurance_premium`. Все это факторы, описывающие поведение водителя, а также взаимодействие водителя с другими участниками ДТП (колонки `party_count`, `motor_vehicle_involved_with`). \n",
    "\n",
    "Неважными для модели оказались конструктивные особенности автомобиля и его состояние, погода, освещенность и состояние дороги, время суток и сезон год, а также тип местности, где произошло ДТП."
   ]
  },
  {
   "cell_type": "markdown",
   "id": "7f1092f3",
   "metadata": {},
   "source": [
    "### Дополнительное исследование факторов `party_count`, `insurance_premium`, `distance` \n",
    "Корреляция `distance` (расстояние от главной дороги) с целевым признаком почти отсутствует, однако этот фактор был выделен моделью LGB как важный.\n",
    "\n",
    "Исследуем влияние фактора `party_count` на целевой признак дополнительно. \n",
    "\n",
    "Корреляция 'party_count' с целевым признаком была самой сильной в исходном датасете, и действительно, этот признак был выбран моделью CatBoost как важный. Корреляция обратная: чем меньше сторон в ДТП, тем выше риск оказаться виновником. При этом нужно ли убрать эту колонку из датасета, неочевидно.\n",
    "\n",
    "Можно объяснить обратную корреляцию риска стать виновником ДТП с суммой страховки так: более ответственные водители могут быть склонны страховать автомобиль на более крупные суммы. Эта корреляция, скорей всего, не сбивает модель с толку.\n",
    "\n",
    "К сожалению, для каршеринга информация о наличии у клиента дорогой страховки на его личный автомобиль может быть недоступна. Хотя можно запрашивать эту информацию на этапе регистрации в системе."
   ]
  },
  {
   "cell_type": "code",
   "execution_count": null,
   "id": "02237549",
   "metadata": {},
   "outputs": [],
   "source": [
    "display(df.loc[:, ['at_fault', 'party_count', 'insurance_premium', 'distance']].corr(method='spearman'))\n",
    "correlation_heatmap(df.loc[:, ['at_fault', 'party_count', 'insurance_premium', 'distance']].corr(method='spearman'))"
   ]
  },
  {
   "cell_type": "code",
   "execution_count": null,
   "id": "776ec52e",
   "metadata": {},
   "outputs": [],
   "source": [
    "median_insurance_of_faulty_drivers = df.query('at_fault == 1')['insurance_premium'].median()\n",
    "median_insurance_of_not_faulty_drivers = df.query('at_fault == 0')['insurance_premium'].median()\n",
    "mean_insurance_of_faulty_drivers = df.query('at_fault == 1')['insurance_premium'].mean()\n",
    "mean_insurance_of_not_faulty_drivers = df.query('at_fault == 0')['insurance_premium'].mean()"
   ]
  },
  {
   "cell_type": "code",
   "execution_count": null,
   "id": "aa669d3b",
   "metadata": {},
   "outputs": [],
   "source": [
    "data = {'sum_of_insurance':   [mean_insurance_of_faulty_drivers,\n",
    "                               mean_insurance_of_not_faulty_drivers,\n",
    "                               median_insurance_of_faulty_drivers,\n",
    "                               median_insurance_of_not_faulty_drivers],\n",
    "        'at_fault':            ['mean_for_faulty',\n",
    "                               'mean_for_not_faulty',\n",
    "                               'median_for_faulty',\n",
    "                               'median_for_not_faulty']\n",
    "       }\n",
    "\n",
    "temp_df = pd.DataFrame(data=data)\n",
    "temp_df"
   ]
  },
  {
   "cell_type": "code",
   "execution_count": null,
   "id": "094f4388",
   "metadata": {
    "scrolled": true
   },
   "outputs": [],
   "source": [
    "print_barplot(temp_df, column_x='at_fault', column_y='sum_of_insurance')"
   ]
  },
  {
   "cell_type": "markdown",
   "id": "6943c82a",
   "metadata": {},
   "source": [
    "Как видно из графика, сумма страховки для водителей, ставших виновниками ДТП, совсем чуть-чуть ниже, чем для остальных водителей. Причем медианные показатели отличаются еще меньше, чем средние. Возможно, картина отчасти искажена тем, что отсутствующие данные - порядка 10% - были заполнены медианными.\n",
    "\n",
    "Тем не менее, водителей, с более высокой суммой страховки собственного автомобиля можно считать более надежными."
   ]
  },
  {
   "cell_type": "markdown",
   "id": "107bf050",
   "metadata": {},
   "source": [
    "## Вывод по работе\n",
    "### Постановка задачи\n",
    "На основании датасета о ДТП в отдельном регионе нужно разработать модель, которая будет предсказывать риск водителя оказаться виновником ДТП. Заказчик исследования - каршеринговая компания, модель планируется использовать в бизнесе.\n",
    "\n",
    "### Исходные данные\n",
    "Исходные данные представляют собой SQL базу данных из трех таблиц. Данные содержат ошибки, пропуски, однако датасет большой, в главной таблице 1_400_000 записей, соответствующих различным ДТП. Поля для связи таблиц есть, данные можно успешно объединить. В целом датасет пригоден для дальнейшей работы. \n",
    "\n",
    "### Статистический анализ факторов ДТП\n",
    "Был проведен статистический анализ факторов ДТП. Была проверена зависимость количества ДТП от времени года (явная - отсутствует), выявлены наиболее типичные обстоятельства самых серьезных ДТП. Кроме того, были поставлены дополнительные задачи для дальнейшего исследования.\n",
    "\n",
    "Также была выявлена неполнота исходных данных: данные за 2012 год условно полные только за 5 месяцев, начиная с июня данные неполные или отсутствуют.\n",
    "\n",
    "### Формирование датасета для обучения моделей\n",
    "На основании исходной базы данных был сформирован датасет для обучения моделей. Для этого были оставлены:\n",
    "* все данные начиная с 2012 года (как более свежие)\n",
    "* все происшествия, в которых стороной ДТП является водитель машины\n",
    "* все происшествия с значимыми последствиями (кроме типа 'scratch')\n",
    "\n",
    "### Предобработка данных\n",
    "В ходе предобработки данных были удалены лишние колонки `case_id`, `id`, `party_number` (служебные колонки), `county_city_location`, `county_location` (поскольку данные из одного региона, а задача не выявить зависимость риска от локации внутри региона, а экстраполировать данные региона на любой другой регион), `direction` (направление движения предположительно имеет значение только внутри заданного региона). \n",
    "\n",
    "Колонки `collision_date` и `collision_time` были удалены. Данные из колонки `collision_time` были перенесены в колонку `time` (категориальные значения: утро, день, ночь, вечер) на этапе выгрузки данных. \n",
    "\n",
    "В датасете были для удобства переименованы некоторые колонки, изменен тип данных для некоторых колонок, заполнены пропуски, устранены выбросы (в колонке `vehicle_age`). В результате в категориальных колонках осталось 95 уникальных значений.\n",
    "\n",
    "В готовом к обучению моделей датасете 195_898 строк и 23 колонки.\n",
    "\n",
    "### Исследование корреляций в исходном датасете\n",
    "Корреляции целевого признака с обучающими в исходном датасете слабые. Наиболее сильные две обратные корреляции (рассчитаны по Спирмену); виновность водителя коррелирует с:\n",
    "* `party_count` - количеством сторон-участников ДТП (К = -0.28)\n",
    "* `insurance_premium` - суммой страховки (К = -0.13)\n",
    "\n",
    "### Обучение моделей\n",
    "На датасете обучено три вида моделей: линейная регрессия, CatBoost и LightGBM. Гиперпараметры для CatBoost и LightGBM подобраны на RandomizedSearchCV, для линейной регрессии - на GridSearchCV. \n",
    "\n",
    "В качестве ключевой метрики выбрана F1 score - среднее гармоническое полноты и точности.\n",
    "\n",
    "Метрики моделей на валидации:\n",
    "\n"
   ]
  },
  {
   "cell_type": "code",
   "execution_count": null,
   "id": "9b30b765",
   "metadata": {},
   "outputs": [],
   "source": [
    "results"
   ]
  },
  {
   "cell_type": "markdown",
   "id": "f53fc22a",
   "metadata": {},
   "source": [
    "### Выбор лучшей модели\n",
    "Лучшая из получившихся моделей - catboost_model_4, обученная с настройками, подобранными на RandomizedSearchCV. Это разработка компании Яндекс.\n",
    "Параметры модели:"
   ]
  },
  {
   "cell_type": "code",
   "execution_count": null,
   "id": "51a21325",
   "metadata": {},
   "outputs": [],
   "source": [
    "best_model.get_params()"
   ]
  },
  {
   "cell_type": "markdown",
   "id": "6ec31344",
   "metadata": {},
   "source": [
    "Метрики модели на валидационных данных:\n",
    "\n",
    "* F1 : 0.7431756663761068\n",
    "* AUC_ROC : 0.7105323707217235\n",
    "* Best threshold: 0.4\n",
    "\n",
    "При запуске модели на тестовых данных метрика получилась примерно такая же:\n",
    "\n",
    "* F1 : 0.7388942595405791\n",
    "* AUC_ROC : 0.7071206946239839\n",
    "* Best threshold: 0.4\n",
    "\n",
    "Другие модели на тесте дают похожий результат."
   ]
  },
  {
   "cell_type": "markdown",
   "id": "9ba075f7",
   "metadata": {},
   "source": [
    "### Анализ основных факторов на основании анализа весов модели\n",
    "\n",
    "Выделение моделью важнейших факторов представляет особый интерес при условии слабой корреляции целевого признака с обучающими, которую мы выявили на этапе оценки датасета.\n",
    "\n",
    "Поскольку модель CatBoost обучалась на датасете, кодированном методом OHE, то в качестве важных она выделила отдельные варианты перечисленных ниже факторов.\n",
    "\n",
    "Модель определила как наиболее важные следующие факторы: `primary_collision_factor`, `party_count`, `pcf_violation_category`, `party_sobriety`. Важными также показались `motor_vehicle_incolved_with` и `insurance_premium`. Все это факторы, описывающие поведение водителя, а также взаимодействие водителя с другими участниками ДТП.\n",
    "\n",
    "Неважными для модели оказались конструктивные особенности автомобиля и его состояние, погода, освещенность и состояние дороги, а также тип местности, где произошло ДТП.\n"
   ]
  },
  {
   "cell_type": "markdown",
   "id": "fe653422",
   "metadata": {},
   "source": [
    "#### Сопоставление с результатами модели LGB\n",
    "Модель LGB определила как наиболее важные следующие факторы: 'insurance_premium', 'pcf_violation_category', 'distance' (расстояние от главное дороги). Менее важными показались факторы: 'party_count', 'motor_vehicle_involved_with', 'driver_condition'.\n",
    "\n",
    "Неважными для модели оказались конструктивные особенности автомобиля и его состояние, погода, освещенность и состояние дороги, время суток, время года, а также тип местности, где произошло ДТП."
   ]
  },
  {
   "cell_type": "markdown",
   "id": "fbad0759",
   "metadata": {},
   "source": [
    "### Предложения по дальнейшей доработке модели\n",
    "Имеет смысл обучить модель на всем датасете, не только на данных за 2012 год, и посмотреть результат.\n",
    "\n",
    "Обучить модель, предсказывающую риск того, что водитель станет виновником ДТП, на этих данных можно, но стоит дообучить модель, чтобы повысить полноту предсказаний."
   ]
  }
 ],
 "metadata": {
  "ExecuteTimeLog": [
   {
    "duration": 1794,
    "start_time": "2023-02-08T12:06:06.987Z"
   },
   {
    "duration": 4,
    "start_time": "2023-02-08T12:06:08.783Z"
   },
   {
    "duration": 6602,
    "start_time": "2023-02-08T12:06:08.789Z"
   },
   {
    "duration": 16626,
    "start_time": "2023-02-08T12:06:15.394Z"
   },
   {
    "duration": 4,
    "start_time": "2023-02-08T12:06:32.021Z"
   },
   {
    "duration": 6078,
    "start_time": "2023-02-08T12:06:32.027Z"
   },
   {
    "duration": 5,
    "start_time": "2023-02-08T12:06:38.107Z"
   },
   {
    "duration": 32,
    "start_time": "2023-02-08T12:06:38.114Z"
   },
   {
    "duration": 5406,
    "start_time": "2023-02-08T12:06:38.148Z"
   },
   {
    "duration": 4,
    "start_time": "2023-02-08T12:06:43.557Z"
   },
   {
    "duration": 168,
    "start_time": "2023-02-08T12:06:43.562Z"
   },
   {
    "duration": 0,
    "start_time": "2023-02-08T12:06:43.734Z"
   },
   {
    "duration": 0,
    "start_time": "2023-02-08T12:06:43.735Z"
   },
   {
    "duration": 0,
    "start_time": "2023-02-08T12:06:43.736Z"
   },
   {
    "duration": 0,
    "start_time": "2023-02-08T12:06:43.737Z"
   },
   {
    "duration": 0,
    "start_time": "2023-02-08T12:06:43.738Z"
   },
   {
    "duration": 0,
    "start_time": "2023-02-08T12:06:43.740Z"
   },
   {
    "duration": 0,
    "start_time": "2023-02-08T12:06:43.740Z"
   },
   {
    "duration": 0,
    "start_time": "2023-02-08T12:06:43.742Z"
   },
   {
    "duration": 0,
    "start_time": "2023-02-08T12:06:43.743Z"
   },
   {
    "duration": 0,
    "start_time": "2023-02-08T12:06:43.744Z"
   },
   {
    "duration": 0,
    "start_time": "2023-02-08T12:06:43.745Z"
   },
   {
    "duration": 0,
    "start_time": "2023-02-08T12:06:43.746Z"
   },
   {
    "duration": 0,
    "start_time": "2023-02-08T12:06:43.747Z"
   },
   {
    "duration": 0,
    "start_time": "2023-02-08T12:06:43.748Z"
   },
   {
    "duration": 0,
    "start_time": "2023-02-08T12:06:43.749Z"
   },
   {
    "duration": 0,
    "start_time": "2023-02-08T12:06:43.750Z"
   },
   {
    "duration": 0,
    "start_time": "2023-02-08T12:06:43.751Z"
   },
   {
    "duration": 0,
    "start_time": "2023-02-08T12:06:43.752Z"
   },
   {
    "duration": 0,
    "start_time": "2023-02-08T12:06:43.754Z"
   },
   {
    "duration": 0,
    "start_time": "2023-02-08T12:06:43.755Z"
   },
   {
    "duration": 0,
    "start_time": "2023-02-08T12:06:43.782Z"
   },
   {
    "duration": 0,
    "start_time": "2023-02-08T12:06:43.783Z"
   },
   {
    "duration": 0,
    "start_time": "2023-02-08T12:06:43.784Z"
   },
   {
    "duration": 0,
    "start_time": "2023-02-08T12:06:43.785Z"
   },
   {
    "duration": 0,
    "start_time": "2023-02-08T12:06:43.786Z"
   },
   {
    "duration": 0,
    "start_time": "2023-02-08T12:06:43.787Z"
   },
   {
    "duration": 0,
    "start_time": "2023-02-08T12:06:43.788Z"
   },
   {
    "duration": 0,
    "start_time": "2023-02-08T12:06:43.789Z"
   },
   {
    "duration": 0,
    "start_time": "2023-02-08T12:06:43.790Z"
   },
   {
    "duration": 0,
    "start_time": "2023-02-08T12:06:43.791Z"
   },
   {
    "duration": 0,
    "start_time": "2023-02-08T12:06:43.792Z"
   },
   {
    "duration": 0,
    "start_time": "2023-02-08T12:06:43.793Z"
   },
   {
    "duration": 0,
    "start_time": "2023-02-08T12:06:43.794Z"
   },
   {
    "duration": 0,
    "start_time": "2023-02-08T12:06:43.794Z"
   },
   {
    "duration": 0,
    "start_time": "2023-02-08T12:06:43.795Z"
   },
   {
    "duration": 0,
    "start_time": "2023-02-08T12:06:43.796Z"
   },
   {
    "duration": 0,
    "start_time": "2023-02-08T12:06:43.797Z"
   },
   {
    "duration": 0,
    "start_time": "2023-02-08T12:06:43.798Z"
   },
   {
    "duration": 0,
    "start_time": "2023-02-08T12:06:43.799Z"
   },
   {
    "duration": 0,
    "start_time": "2023-02-08T12:06:43.800Z"
   },
   {
    "duration": 0,
    "start_time": "2023-02-08T12:06:43.801Z"
   },
   {
    "duration": 0,
    "start_time": "2023-02-08T12:06:43.801Z"
   },
   {
    "duration": 0,
    "start_time": "2023-02-08T12:06:43.802Z"
   },
   {
    "duration": 0,
    "start_time": "2023-02-08T12:06:43.804Z"
   },
   {
    "duration": 0,
    "start_time": "2023-02-08T12:06:43.805Z"
   },
   {
    "duration": 0,
    "start_time": "2023-02-08T12:06:43.805Z"
   },
   {
    "duration": 0,
    "start_time": "2023-02-08T12:06:43.807Z"
   },
   {
    "duration": 0,
    "start_time": "2023-02-08T12:06:43.808Z"
   },
   {
    "duration": 0,
    "start_time": "2023-02-08T12:06:43.809Z"
   },
   {
    "duration": 0,
    "start_time": "2023-02-08T12:06:43.810Z"
   },
   {
    "duration": 0,
    "start_time": "2023-02-08T12:06:43.811Z"
   },
   {
    "duration": 0,
    "start_time": "2023-02-08T12:06:43.812Z"
   },
   {
    "duration": 0,
    "start_time": "2023-02-08T12:06:43.813Z"
   },
   {
    "duration": 0,
    "start_time": "2023-02-08T12:06:43.814Z"
   },
   {
    "duration": 0,
    "start_time": "2023-02-08T12:06:43.815Z"
   },
   {
    "duration": 0,
    "start_time": "2023-02-08T12:06:43.816Z"
   },
   {
    "duration": 0,
    "start_time": "2023-02-08T12:06:43.817Z"
   },
   {
    "duration": 0,
    "start_time": "2023-02-08T12:06:43.818Z"
   },
   {
    "duration": 0,
    "start_time": "2023-02-08T12:06:43.818Z"
   },
   {
    "duration": 0,
    "start_time": "2023-02-08T12:06:43.882Z"
   },
   {
    "duration": 0,
    "start_time": "2023-02-08T12:06:43.883Z"
   },
   {
    "duration": 0,
    "start_time": "2023-02-08T12:06:43.884Z"
   },
   {
    "duration": 0,
    "start_time": "2023-02-08T12:06:43.885Z"
   },
   {
    "duration": 0,
    "start_time": "2023-02-08T12:06:43.886Z"
   },
   {
    "duration": 0,
    "start_time": "2023-02-08T12:06:43.887Z"
   },
   {
    "duration": 0,
    "start_time": "2023-02-08T12:06:43.888Z"
   },
   {
    "duration": 0,
    "start_time": "2023-02-08T12:06:43.889Z"
   },
   {
    "duration": 0,
    "start_time": "2023-02-08T12:06:43.891Z"
   },
   {
    "duration": 0,
    "start_time": "2023-02-08T12:06:43.891Z"
   },
   {
    "duration": 0,
    "start_time": "2023-02-08T12:06:43.892Z"
   },
   {
    "duration": 0,
    "start_time": "2023-02-08T12:06:43.893Z"
   },
   {
    "duration": 0,
    "start_time": "2023-02-08T12:06:43.895Z"
   },
   {
    "duration": 0,
    "start_time": "2023-02-08T12:06:43.896Z"
   },
   {
    "duration": 0,
    "start_time": "2023-02-08T12:06:43.897Z"
   },
   {
    "duration": 0,
    "start_time": "2023-02-08T12:06:43.897Z"
   },
   {
    "duration": 0,
    "start_time": "2023-02-08T12:06:43.899Z"
   },
   {
    "duration": 0,
    "start_time": "2023-02-08T12:06:43.900Z"
   },
   {
    "duration": 0,
    "start_time": "2023-02-08T12:06:43.901Z"
   },
   {
    "duration": 0,
    "start_time": "2023-02-08T12:06:43.902Z"
   },
   {
    "duration": 0,
    "start_time": "2023-02-08T12:06:43.903Z"
   },
   {
    "duration": 0,
    "start_time": "2023-02-08T12:06:43.904Z"
   },
   {
    "duration": 0,
    "start_time": "2023-02-08T12:06:43.905Z"
   },
   {
    "duration": 0,
    "start_time": "2023-02-08T12:06:43.906Z"
   },
   {
    "duration": 0,
    "start_time": "2023-02-08T12:06:43.907Z"
   },
   {
    "duration": 0,
    "start_time": "2023-02-08T12:06:43.908Z"
   },
   {
    "duration": 0,
    "start_time": "2023-02-08T12:06:43.909Z"
   },
   {
    "duration": 0,
    "start_time": "2023-02-08T12:06:43.910Z"
   },
   {
    "duration": 0,
    "start_time": "2023-02-08T12:06:43.911Z"
   },
   {
    "duration": 0,
    "start_time": "2023-02-08T12:06:43.912Z"
   },
   {
    "duration": 0,
    "start_time": "2023-02-08T12:06:43.913Z"
   },
   {
    "duration": 0,
    "start_time": "2023-02-08T12:06:43.914Z"
   },
   {
    "duration": 1,
    "start_time": "2023-02-08T12:06:43.915Z"
   },
   {
    "duration": 0,
    "start_time": "2023-02-08T12:06:43.916Z"
   },
   {
    "duration": 0,
    "start_time": "2023-02-08T12:06:43.982Z"
   },
   {
    "duration": 0,
    "start_time": "2023-02-08T12:06:43.983Z"
   },
   {
    "duration": 0,
    "start_time": "2023-02-08T12:06:43.984Z"
   },
   {
    "duration": 0,
    "start_time": "2023-02-08T12:06:43.985Z"
   },
   {
    "duration": 0,
    "start_time": "2023-02-08T12:06:43.986Z"
   },
   {
    "duration": 0,
    "start_time": "2023-02-08T12:06:43.987Z"
   },
   {
    "duration": 0,
    "start_time": "2023-02-08T12:06:43.988Z"
   },
   {
    "duration": 0,
    "start_time": "2023-02-08T12:06:43.989Z"
   },
   {
    "duration": 0,
    "start_time": "2023-02-08T12:06:43.989Z"
   },
   {
    "duration": 0,
    "start_time": "2023-02-08T12:06:43.990Z"
   },
   {
    "duration": 0,
    "start_time": "2023-02-08T12:06:43.992Z"
   },
   {
    "duration": 0,
    "start_time": "2023-02-08T12:06:43.993Z"
   },
   {
    "duration": 0,
    "start_time": "2023-02-08T12:06:43.994Z"
   },
   {
    "duration": 0,
    "start_time": "2023-02-08T12:06:43.994Z"
   },
   {
    "duration": 0,
    "start_time": "2023-02-08T12:06:43.995Z"
   },
   {
    "duration": 0,
    "start_time": "2023-02-08T12:06:43.996Z"
   },
   {
    "duration": 0,
    "start_time": "2023-02-08T12:06:43.997Z"
   },
   {
    "duration": 0,
    "start_time": "2023-02-08T12:06:43.998Z"
   },
   {
    "duration": 0,
    "start_time": "2023-02-08T12:06:43.999Z"
   },
   {
    "duration": 0,
    "start_time": "2023-02-08T12:06:44.000Z"
   },
   {
    "duration": 0,
    "start_time": "2023-02-08T12:06:44.001Z"
   },
   {
    "duration": 0,
    "start_time": "2023-02-08T12:06:44.002Z"
   },
   {
    "duration": 0,
    "start_time": "2023-02-08T12:06:44.003Z"
   },
   {
    "duration": 0,
    "start_time": "2023-02-08T12:06:44.004Z"
   },
   {
    "duration": 0,
    "start_time": "2023-02-08T12:06:44.005Z"
   },
   {
    "duration": 0,
    "start_time": "2023-02-08T12:06:44.006Z"
   },
   {
    "duration": 0,
    "start_time": "2023-02-08T12:06:44.007Z"
   },
   {
    "duration": 0,
    "start_time": "2023-02-08T12:06:44.008Z"
   },
   {
    "duration": 0,
    "start_time": "2023-02-08T12:06:44.009Z"
   },
   {
    "duration": 0,
    "start_time": "2023-02-08T12:06:44.010Z"
   },
   {
    "duration": 0,
    "start_time": "2023-02-08T12:06:44.011Z"
   },
   {
    "duration": 0,
    "start_time": "2023-02-08T12:06:44.012Z"
   },
   {
    "duration": 2248,
    "start_time": "2023-02-10T13:19:57.151Z"
   },
   {
    "duration": 8,
    "start_time": "2023-02-10T13:19:59.401Z"
   },
   {
    "duration": 11096,
    "start_time": "2023-02-10T13:19:59.411Z"
   },
   {
    "duration": 16129,
    "start_time": "2023-02-10T13:20:10.515Z"
   },
   {
    "duration": 7,
    "start_time": "2023-02-10T13:20:26.646Z"
   },
   {
    "duration": 7176,
    "start_time": "2023-02-10T13:20:26.655Z"
   },
   {
    "duration": 12,
    "start_time": "2023-02-10T13:20:33.835Z"
   },
   {
    "duration": 8,
    "start_time": "2023-02-10T13:20:33.850Z"
   },
   {
    "duration": 6594,
    "start_time": "2023-02-10T13:20:33.861Z"
   },
   {
    "duration": 5,
    "start_time": "2023-02-10T13:20:40.459Z"
   },
   {
    "duration": 98,
    "start_time": "2023-02-10T13:20:40.466Z"
   },
   {
    "duration": 15993,
    "start_time": "2023-02-10T13:20:40.565Z"
   },
   {
    "duration": 3502,
    "start_time": "2023-02-10T13:20:56.560Z"
   },
   {
    "duration": 1583,
    "start_time": "2023-02-10T13:21:00.064Z"
   },
   {
    "duration": 36,
    "start_time": "2023-02-10T13:21:01.649Z"
   },
   {
    "duration": 4633,
    "start_time": "2023-02-10T13:21:01.688Z"
   },
   {
    "duration": 1390,
    "start_time": "2023-02-10T13:21:06.325Z"
   },
   {
    "duration": 480,
    "start_time": "2023-02-10T13:21:07.717Z"
   },
   {
    "duration": 37,
    "start_time": "2023-02-10T13:21:08.199Z"
   },
   {
    "duration": 17807,
    "start_time": "2023-02-10T13:21:08.238Z"
   },
   {
    "duration": 13366,
    "start_time": "2023-02-10T13:21:26.049Z"
   },
   {
    "duration": 398,
    "start_time": "2023-02-10T13:21:39.418Z"
   },
   {
    "duration": 5,
    "start_time": "2023-02-10T13:21:39.818Z"
   },
   {
    "duration": 487,
    "start_time": "2023-02-10T13:21:39.826Z"
   },
   {
    "duration": 368,
    "start_time": "2023-02-10T13:21:40.315Z"
   },
   {
    "duration": 1621,
    "start_time": "2023-02-10T13:21:40.685Z"
   },
   {
    "duration": 444,
    "start_time": "2023-02-10T13:21:42.309Z"
   },
   {
    "duration": 427,
    "start_time": "2023-02-10T13:21:42.759Z"
   },
   {
    "duration": 210,
    "start_time": "2023-02-10T13:21:43.188Z"
   },
   {
    "duration": 4916,
    "start_time": "2023-02-10T13:21:43.400Z"
   },
   {
    "duration": 192,
    "start_time": "2023-02-10T13:21:48.318Z"
   },
   {
    "duration": 911,
    "start_time": "2023-02-10T13:21:48.514Z"
   },
   {
    "duration": 1036,
    "start_time": "2023-02-10T13:21:49.427Z"
   },
   {
    "duration": 355,
    "start_time": "2023-02-10T13:21:50.465Z"
   },
   {
    "duration": 15741,
    "start_time": "2023-02-10T13:21:50.823Z"
   },
   {
    "duration": 7,
    "start_time": "2023-02-10T13:22:06.566Z"
   },
   {
    "duration": 1680,
    "start_time": "2023-02-10T13:22:06.575Z"
   },
   {
    "duration": 3,
    "start_time": "2023-02-10T13:22:08.257Z"
   },
   {
    "duration": 115,
    "start_time": "2023-02-10T13:22:08.262Z"
   },
   {
    "duration": 36,
    "start_time": "2023-02-10T13:22:08.379Z"
   },
   {
    "duration": 85,
    "start_time": "2023-02-10T13:22:08.417Z"
   },
   {
    "duration": 2054,
    "start_time": "2023-02-10T13:22:08.504Z"
   },
   {
    "duration": 776,
    "start_time": "2023-02-10T13:22:10.560Z"
   },
   {
    "duration": 103,
    "start_time": "2023-02-10T13:22:11.337Z"
   },
   {
    "duration": 10,
    "start_time": "2023-02-10T13:22:11.443Z"
   },
   {
    "duration": 6,
    "start_time": "2023-02-10T13:22:11.455Z"
   },
   {
    "duration": 4956,
    "start_time": "2023-02-10T13:22:11.463Z"
   },
   {
    "duration": 99,
    "start_time": "2023-02-10T13:22:16.421Z"
   },
   {
    "duration": 22,
    "start_time": "2023-02-10T13:22:16.523Z"
   },
   {
    "duration": 5,
    "start_time": "2023-02-10T13:22:16.548Z"
   },
   {
    "duration": 4126,
    "start_time": "2023-02-10T13:22:16.557Z"
   },
   {
    "duration": 64,
    "start_time": "2023-02-10T13:22:20.686Z"
   },
   {
    "duration": 195,
    "start_time": "2023-02-10T13:22:20.752Z"
   },
   {
    "duration": 911,
    "start_time": "2023-02-10T13:22:20.949Z"
   },
   {
    "duration": 528,
    "start_time": "2023-02-10T13:22:21.862Z"
   },
   {
    "duration": 29,
    "start_time": "2023-02-10T13:22:22.392Z"
   },
   {
    "duration": 211,
    "start_time": "2023-02-10T13:22:22.426Z"
   },
   {
    "duration": 6,
    "start_time": "2023-02-10T13:22:22.639Z"
   },
   {
    "duration": 22,
    "start_time": "2023-02-10T13:22:22.647Z"
   },
   {
    "duration": 3756,
    "start_time": "2023-02-10T13:22:22.672Z"
   },
   {
    "duration": 17,
    "start_time": "2023-02-10T13:22:26.430Z"
   },
   {
    "duration": 715,
    "start_time": "2023-02-10T13:22:26.449Z"
   },
   {
    "duration": 3174,
    "start_time": "2023-02-10T13:22:27.166Z"
   },
   {
    "duration": 6,
    "start_time": "2023-02-10T13:22:30.342Z"
   },
   {
    "duration": 694,
    "start_time": "2023-02-10T13:22:30.351Z"
   },
   {
    "duration": 718,
    "start_time": "2023-02-10T13:22:31.047Z"
   },
   {
    "duration": 119,
    "start_time": "2023-02-10T13:22:31.768Z"
   },
   {
    "duration": 149,
    "start_time": "2023-02-10T13:22:31.889Z"
   },
   {
    "duration": 2420,
    "start_time": "2023-02-10T13:22:32.040Z"
   },
   {
    "duration": 1842,
    "start_time": "2023-02-10T13:22:34.462Z"
   },
   {
    "duration": 4,
    "start_time": "2023-02-10T13:22:36.313Z"
   },
   {
    "duration": 26677,
    "start_time": "2023-02-10T13:22:36.318Z"
   },
   {
    "duration": 7,
    "start_time": "2023-02-10T13:23:02.997Z"
   },
   {
    "duration": 1012,
    "start_time": "2023-02-10T13:23:03.007Z"
   },
   {
    "duration": 1164,
    "start_time": "2023-02-10T13:23:04.021Z"
   },
   {
    "duration": 12,
    "start_time": "2023-02-10T13:23:05.187Z"
   },
   {
    "duration": 196,
    "start_time": "2023-02-10T13:23:05.200Z"
   },
   {
    "duration": 6,
    "start_time": "2023-02-10T13:23:05.397Z"
   },
   {
    "duration": 18,
    "start_time": "2023-02-10T13:23:05.405Z"
   },
   {
    "duration": 8,
    "start_time": "2023-02-10T13:23:05.425Z"
   },
   {
    "duration": 583,
    "start_time": "2023-02-10T13:23:05.435Z"
   },
   {
    "duration": 15,
    "start_time": "2023-02-10T13:23:06.031Z"
   },
   {
    "duration": 311,
    "start_time": "2023-02-10T13:23:06.049Z"
   },
   {
    "duration": 2489,
    "start_time": "2023-02-10T13:23:06.363Z"
   },
   {
    "duration": 40,
    "start_time": "2023-02-10T13:23:08.853Z"
   },
   {
    "duration": 200,
    "start_time": "2023-02-10T13:23:08.895Z"
   },
   {
    "duration": 0,
    "start_time": "2023-02-10T13:23:09.098Z"
   },
   {
    "duration": 0,
    "start_time": "2023-02-10T13:23:09.100Z"
   },
   {
    "duration": 0,
    "start_time": "2023-02-10T13:23:09.101Z"
   },
   {
    "duration": 0,
    "start_time": "2023-02-10T13:23:09.103Z"
   },
   {
    "duration": 0,
    "start_time": "2023-02-10T13:23:09.103Z"
   },
   {
    "duration": 0,
    "start_time": "2023-02-10T13:23:09.109Z"
   },
   {
    "duration": 0,
    "start_time": "2023-02-10T13:23:09.111Z"
   },
   {
    "duration": 0,
    "start_time": "2023-02-10T13:23:09.113Z"
   },
   {
    "duration": 0,
    "start_time": "2023-02-10T13:23:09.113Z"
   },
   {
    "duration": 0,
    "start_time": "2023-02-10T13:23:09.115Z"
   },
   {
    "duration": 0,
    "start_time": "2023-02-10T13:23:09.116Z"
   },
   {
    "duration": 0,
    "start_time": "2023-02-10T13:23:09.117Z"
   },
   {
    "duration": 0,
    "start_time": "2023-02-10T13:23:09.118Z"
   },
   {
    "duration": 0,
    "start_time": "2023-02-10T13:23:09.119Z"
   },
   {
    "duration": 0,
    "start_time": "2023-02-10T13:23:09.120Z"
   },
   {
    "duration": 0,
    "start_time": "2023-02-10T13:23:09.121Z"
   },
   {
    "duration": 0,
    "start_time": "2023-02-10T13:23:09.122Z"
   },
   {
    "duration": 0,
    "start_time": "2023-02-10T13:23:09.132Z"
   },
   {
    "duration": 0,
    "start_time": "2023-02-10T13:23:09.134Z"
   },
   {
    "duration": 0,
    "start_time": "2023-02-10T13:23:09.135Z"
   },
   {
    "duration": 0,
    "start_time": "2023-02-10T13:23:09.136Z"
   },
   {
    "duration": 0,
    "start_time": "2023-02-10T13:23:09.139Z"
   },
   {
    "duration": 0,
    "start_time": "2023-02-10T13:23:09.139Z"
   },
   {
    "duration": 0,
    "start_time": "2023-02-10T13:23:09.141Z"
   },
   {
    "duration": 0,
    "start_time": "2023-02-10T13:23:09.142Z"
   },
   {
    "duration": 0,
    "start_time": "2023-02-10T13:23:09.144Z"
   },
   {
    "duration": 0,
    "start_time": "2023-02-10T13:23:09.145Z"
   },
   {
    "duration": 0,
    "start_time": "2023-02-10T13:23:09.146Z"
   },
   {
    "duration": 0,
    "start_time": "2023-02-10T13:23:09.147Z"
   },
   {
    "duration": 0,
    "start_time": "2023-02-10T13:23:09.149Z"
   },
   {
    "duration": 0,
    "start_time": "2023-02-10T13:23:09.150Z"
   },
   {
    "duration": 0,
    "start_time": "2023-02-10T13:23:09.154Z"
   },
   {
    "duration": 1,
    "start_time": "2023-02-10T13:23:09.210Z"
   },
   {
    "duration": 0,
    "start_time": "2023-02-10T13:23:09.212Z"
   },
   {
    "duration": 0,
    "start_time": "2023-02-10T13:23:09.213Z"
   },
   {
    "duration": 0,
    "start_time": "2023-02-10T13:23:09.215Z"
   },
   {
    "duration": 0,
    "start_time": "2023-02-10T13:23:09.216Z"
   },
   {
    "duration": 0,
    "start_time": "2023-02-10T13:23:09.217Z"
   },
   {
    "duration": 0,
    "start_time": "2023-02-10T13:23:09.218Z"
   },
   {
    "duration": 0,
    "start_time": "2023-02-10T13:23:09.220Z"
   },
   {
    "duration": 0,
    "start_time": "2023-02-10T13:23:09.221Z"
   },
   {
    "duration": 0,
    "start_time": "2023-02-10T13:23:09.224Z"
   },
   {
    "duration": 0,
    "start_time": "2023-02-10T13:23:09.226Z"
   },
   {
    "duration": 0,
    "start_time": "2023-02-10T13:23:09.227Z"
   },
   {
    "duration": 0,
    "start_time": "2023-02-10T13:23:09.231Z"
   },
   {
    "duration": 0,
    "start_time": "2023-02-10T13:23:09.232Z"
   },
   {
    "duration": 0,
    "start_time": "2023-02-10T13:23:09.233Z"
   },
   {
    "duration": 0,
    "start_time": "2023-02-10T13:23:09.235Z"
   },
   {
    "duration": 0,
    "start_time": "2023-02-10T13:23:09.236Z"
   },
   {
    "duration": 1,
    "start_time": "2023-02-10T13:23:09.237Z"
   },
   {
    "duration": 0,
    "start_time": "2023-02-10T13:23:09.239Z"
   },
   {
    "duration": 0,
    "start_time": "2023-02-10T13:23:09.240Z"
   },
   {
    "duration": 0,
    "start_time": "2023-02-10T13:23:09.243Z"
   },
   {
    "duration": 12202,
    "start_time": "2023-02-10T14:01:28.361Z"
   },
   {
    "duration": 1489,
    "start_time": "2023-02-10T14:01:40.566Z"
   },
   {
    "duration": 5,
    "start_time": "2023-02-10T14:01:42.057Z"
   },
   {
    "duration": 8067,
    "start_time": "2023-02-10T14:01:42.065Z"
   },
   {
    "duration": 12651,
    "start_time": "2023-02-10T14:01:50.134Z"
   },
   {
    "duration": 5,
    "start_time": "2023-02-10T14:02:02.787Z"
   },
   {
    "duration": 5634,
    "start_time": "2023-02-10T14:02:02.794Z"
   },
   {
    "duration": 5,
    "start_time": "2023-02-10T14:02:08.429Z"
   },
   {
    "duration": 1031,
    "start_time": "2023-02-10T14:02:08.436Z"
   },
   {
    "duration": 5829,
    "start_time": "2023-02-10T14:02:09.470Z"
   },
   {
    "duration": 4,
    "start_time": "2023-02-10T14:02:15.301Z"
   },
   {
    "duration": 41,
    "start_time": "2023-02-10T14:02:15.311Z"
   },
   {
    "duration": 10576,
    "start_time": "2023-02-10T14:02:15.353Z"
   },
   {
    "duration": 1999,
    "start_time": "2023-02-10T14:02:25.931Z"
   },
   {
    "duration": 930,
    "start_time": "2023-02-10T14:02:27.932Z"
   },
   {
    "duration": 37,
    "start_time": "2023-02-10T14:02:28.864Z"
   },
   {
    "duration": 3014,
    "start_time": "2023-02-10T14:02:28.904Z"
   },
   {
    "duration": 978,
    "start_time": "2023-02-10T14:02:31.920Z"
   },
   {
    "duration": 338,
    "start_time": "2023-02-10T14:02:32.900Z"
   },
   {
    "duration": 38,
    "start_time": "2023-02-10T14:02:33.240Z"
   },
   {
    "duration": 14818,
    "start_time": "2023-02-10T14:02:33.280Z"
   },
   {
    "duration": 14781,
    "start_time": "2023-02-10T14:02:48.099Z"
   },
   {
    "duration": 374,
    "start_time": "2023-02-10T14:03:02.881Z"
   },
   {
    "duration": 4,
    "start_time": "2023-02-10T14:03:03.256Z"
   },
   {
    "duration": 200,
    "start_time": "2023-02-10T14:03:03.261Z"
   },
   {
    "duration": 365,
    "start_time": "2023-02-10T14:03:03.462Z"
   },
   {
    "duration": 889,
    "start_time": "2023-02-10T14:03:03.829Z"
   },
   {
    "duration": 468,
    "start_time": "2023-02-10T14:03:04.723Z"
   },
   {
    "duration": 449,
    "start_time": "2023-02-10T14:03:05.193Z"
   },
   {
    "duration": 131,
    "start_time": "2023-02-10T14:03:05.644Z"
   },
   {
    "duration": 4392,
    "start_time": "2023-02-10T14:03:05.776Z"
   },
   {
    "duration": 121,
    "start_time": "2023-02-10T14:03:10.169Z"
   },
   {
    "duration": 933,
    "start_time": "2023-02-10T14:03:10.291Z"
   },
   {
    "duration": 1063,
    "start_time": "2023-02-10T14:03:11.225Z"
   },
   {
    "duration": 249,
    "start_time": "2023-02-10T14:03:12.289Z"
   },
   {
    "duration": 13392,
    "start_time": "2023-02-10T14:03:12.540Z"
   },
   {
    "duration": 3,
    "start_time": "2023-02-10T14:03:25.935Z"
   },
   {
    "duration": 1413,
    "start_time": "2023-02-10T14:03:25.939Z"
   },
   {
    "duration": 2,
    "start_time": "2023-02-10T14:03:27.353Z"
   },
   {
    "duration": 95,
    "start_time": "2023-02-10T14:03:27.357Z"
   },
   {
    "duration": 20,
    "start_time": "2023-02-10T14:03:27.453Z"
   },
   {
    "duration": 76,
    "start_time": "2023-02-10T14:03:27.475Z"
   },
   {
    "duration": 1650,
    "start_time": "2023-02-10T14:03:27.553Z"
   },
   {
    "duration": 726,
    "start_time": "2023-02-10T14:03:29.205Z"
   },
   {
    "duration": 97,
    "start_time": "2023-02-10T14:03:29.932Z"
   },
   {
    "duration": 8,
    "start_time": "2023-02-10T14:03:30.031Z"
   },
   {
    "duration": 12,
    "start_time": "2023-02-10T14:03:30.041Z"
   },
   {
    "duration": 2834,
    "start_time": "2023-02-10T14:03:30.055Z"
   },
   {
    "duration": 66,
    "start_time": "2023-02-10T14:03:32.890Z"
   },
   {
    "duration": 16,
    "start_time": "2023-02-10T14:03:32.959Z"
   },
   {
    "duration": 4,
    "start_time": "2023-02-10T14:03:32.977Z"
   },
   {
    "duration": 2639,
    "start_time": "2023-02-10T14:03:32.983Z"
   },
   {
    "duration": 40,
    "start_time": "2023-02-10T14:03:35.624Z"
   },
   {
    "duration": 121,
    "start_time": "2023-02-10T14:03:35.666Z"
   },
   {
    "duration": 558,
    "start_time": "2023-02-10T14:03:35.788Z"
   },
   {
    "duration": 397,
    "start_time": "2023-02-10T14:03:36.348Z"
   },
   {
    "duration": 12,
    "start_time": "2023-02-10T14:03:36.746Z"
   },
   {
    "duration": 127,
    "start_time": "2023-02-10T14:03:36.760Z"
   },
   {
    "duration": 4,
    "start_time": "2023-02-10T14:03:36.890Z"
   },
   {
    "duration": 30,
    "start_time": "2023-02-10T14:03:36.896Z"
   },
   {
    "duration": 2484,
    "start_time": "2023-02-10T14:03:36.928Z"
   },
   {
    "duration": 11,
    "start_time": "2023-02-10T14:03:39.413Z"
   },
   {
    "duration": 499,
    "start_time": "2023-02-10T14:03:39.426Z"
   },
   {
    "duration": 2467,
    "start_time": "2023-02-10T14:03:39.926Z"
   },
   {
    "duration": 5,
    "start_time": "2023-02-10T14:03:42.395Z"
   },
   {
    "duration": 469,
    "start_time": "2023-02-10T14:03:42.401Z"
   },
   {
    "duration": 462,
    "start_time": "2023-02-10T14:03:42.872Z"
   },
   {
    "duration": 80,
    "start_time": "2023-02-10T14:03:43.336Z"
   },
   {
    "duration": 198,
    "start_time": "2023-02-10T14:03:43.419Z"
   },
   {
    "duration": 1886,
    "start_time": "2023-02-10T14:03:43.618Z"
   },
   {
    "duration": 1641,
    "start_time": "2023-02-10T14:03:45.505Z"
   },
   {
    "duration": 3,
    "start_time": "2023-02-10T14:03:47.148Z"
   },
   {
    "duration": 20419,
    "start_time": "2023-02-10T14:03:47.153Z"
   },
   {
    "duration": 5,
    "start_time": "2023-02-10T14:04:07.575Z"
   },
   {
    "duration": 617,
    "start_time": "2023-02-10T14:04:07.582Z"
   },
   {
    "duration": 763,
    "start_time": "2023-02-10T14:04:08.201Z"
   },
   {
    "duration": 6,
    "start_time": "2023-02-10T14:04:08.966Z"
   },
   {
    "duration": 109,
    "start_time": "2023-02-10T14:04:08.973Z"
   },
   {
    "duration": 4,
    "start_time": "2023-02-10T14:04:09.083Z"
   },
   {
    "duration": 8,
    "start_time": "2023-02-10T14:04:09.088Z"
   },
   {
    "duration": 4,
    "start_time": "2023-02-10T14:04:09.110Z"
   },
   {
    "duration": 335,
    "start_time": "2023-02-10T14:04:09.120Z"
   },
   {
    "duration": 7,
    "start_time": "2023-02-10T14:04:09.456Z"
   },
   {
    "duration": 179,
    "start_time": "2023-02-10T14:04:09.465Z"
   },
   {
    "duration": 1874,
    "start_time": "2023-02-10T14:04:09.645Z"
   },
   {
    "duration": 29,
    "start_time": "2023-02-10T14:04:11.521Z"
   },
   {
    "duration": 70,
    "start_time": "2023-02-10T14:04:11.551Z"
   },
   {
    "duration": 827,
    "start_time": "2023-02-10T14:04:11.623Z"
   },
   {
    "duration": 17,
    "start_time": "2023-02-10T14:04:12.451Z"
   },
   {
    "duration": 12,
    "start_time": "2023-02-10T14:04:12.470Z"
   },
   {
    "duration": 39,
    "start_time": "2023-02-10T14:04:12.484Z"
   },
   {
    "duration": 27,
    "start_time": "2023-02-10T14:04:12.525Z"
   },
   {
    "duration": 3662,
    "start_time": "2023-02-10T14:04:12.554Z"
   },
   {
    "duration": 922396,
    "start_time": "2023-02-10T14:04:16.218Z"
   },
   {
    "duration": 7,
    "start_time": "2023-02-10T14:19:38.619Z"
   },
   {
    "duration": 16686,
    "start_time": "2023-02-10T14:19:38.628Z"
   },
   {
    "duration": 388697,
    "start_time": "2023-02-10T14:19:55.316Z"
   },
   {
    "duration": 7,
    "start_time": "2023-02-10T14:26:24.015Z"
   },
   {
    "duration": 407,
    "start_time": "2023-02-10T14:26:24.024Z"
   },
   {
    "duration": 3,
    "start_time": "2023-02-10T14:26:24.433Z"
   },
   {
    "duration": 6,
    "start_time": "2023-02-10T14:26:24.438Z"
   },
   {
    "duration": 3323,
    "start_time": "2023-02-10T14:26:24.446Z"
   },
   {
    "duration": 260077,
    "start_time": "2023-02-10T14:26:27.771Z"
   },
   {
    "duration": 1970,
    "start_time": "2023-02-10T14:30:47.849Z"
   },
   {
    "duration": 11992,
    "start_time": "2023-02-11T14:59:36.154Z"
   },
   {
    "duration": 2511,
    "start_time": "2023-02-11T14:59:48.149Z"
   },
   {
    "duration": 4,
    "start_time": "2023-02-11T14:59:50.661Z"
   },
   {
    "duration": 5412,
    "start_time": "2023-02-11T14:59:50.668Z"
   },
   {
    "duration": 5,
    "start_time": "2023-02-11T14:59:56.082Z"
   },
   {
    "duration": 5,
    "start_time": "2023-02-11T14:59:56.120Z"
   },
   {
    "duration": 7,
    "start_time": "2023-02-11T14:59:56.127Z"
   },
   {
    "duration": 10,
    "start_time": "2023-02-11T14:59:56.135Z"
   },
   {
    "duration": 19719,
    "start_time": "2023-02-11T14:59:56.146Z"
   },
   {
    "duration": 2,
    "start_time": "2023-02-11T15:00:15.923Z"
   },
   {
    "duration": 2494,
    "start_time": "2023-02-11T15:00:15.927Z"
   },
   {
    "duration": 2,
    "start_time": "2023-02-11T15:00:18.423Z"
   },
   {
    "duration": 517,
    "start_time": "2023-02-11T15:00:18.427Z"
   },
   {
    "duration": 77,
    "start_time": "2023-02-11T15:00:18.946Z"
   },
   {
    "duration": 53,
    "start_time": "2023-02-11T15:00:19.025Z"
   },
   {
    "duration": 1342,
    "start_time": "2023-02-11T15:00:19.080Z"
   },
   {
    "duration": 126,
    "start_time": "2023-02-11T15:00:20.424Z"
   },
   {
    "duration": 9,
    "start_time": "2023-02-11T15:00:20.552Z"
   },
   {
    "duration": 59,
    "start_time": "2023-02-11T15:00:20.563Z"
   },
   {
    "duration": 5327,
    "start_time": "2023-02-11T15:00:20.624Z"
   },
   {
    "duration": 172,
    "start_time": "2023-02-11T15:00:25.953Z"
   },
   {
    "duration": 15,
    "start_time": "2023-02-11T15:00:26.128Z"
   },
   {
    "duration": 4,
    "start_time": "2023-02-11T15:00:26.145Z"
   },
   {
    "duration": 5380,
    "start_time": "2023-02-11T15:00:26.150Z"
   },
   {
    "duration": 102,
    "start_time": "2023-02-11T15:00:31.532Z"
   },
   {
    "duration": 305,
    "start_time": "2023-02-11T15:00:31.637Z"
   },
   {
    "duration": 1321,
    "start_time": "2023-02-11T15:00:31.944Z"
   },
   {
    "duration": 727,
    "start_time": "2023-02-11T15:00:33.320Z"
   },
   {
    "duration": 14,
    "start_time": "2023-02-11T15:00:34.049Z"
   },
   {
    "duration": 242,
    "start_time": "2023-02-11T15:00:34.121Z"
   },
   {
    "duration": 62,
    "start_time": "2023-02-11T15:00:34.365Z"
   },
   {
    "duration": 28,
    "start_time": "2023-02-11T15:00:34.429Z"
   },
   {
    "duration": 68,
    "start_time": "2023-02-11T15:00:34.463Z"
   },
   {
    "duration": 4219,
    "start_time": "2023-02-11T15:00:34.533Z"
   },
   {
    "duration": 5,
    "start_time": "2023-02-11T15:00:38.753Z"
   },
   {
    "duration": 1075,
    "start_time": "2023-02-11T15:00:38.759Z"
   },
   {
    "duration": 928,
    "start_time": "2023-02-11T15:00:39.836Z"
   },
   {
    "duration": 192,
    "start_time": "2023-02-11T15:00:40.765Z"
   },
   {
    "duration": 266,
    "start_time": "2023-02-11T15:00:40.959Z"
   },
   {
    "duration": 3495,
    "start_time": "2023-02-11T15:00:41.226Z"
   },
   {
    "duration": 3,
    "start_time": "2023-02-11T15:00:44.723Z"
   },
   {
    "duration": 8,
    "start_time": "2023-02-11T15:00:44.728Z"
   },
   {
    "duration": 12,
    "start_time": "2023-02-11T15:00:44.738Z"
   },
   {
    "duration": 294,
    "start_time": "2023-02-11T15:00:44.752Z"
   },
   {
    "duration": 5,
    "start_time": "2023-02-11T15:00:45.048Z"
   },
   {
    "duration": 74,
    "start_time": "2023-02-11T15:00:45.055Z"
   },
   {
    "duration": 5,
    "start_time": "2023-02-11T15:00:45.131Z"
   },
   {
    "duration": 896,
    "start_time": "2023-02-11T15:00:45.138Z"
   },
   {
    "duration": 7,
    "start_time": "2023-02-11T15:00:46.036Z"
   },
   {
    "duration": 376,
    "start_time": "2023-02-11T15:00:46.045Z"
   },
   {
    "duration": 4134,
    "start_time": "2023-02-11T15:00:46.423Z"
   },
   {
    "duration": 90,
    "start_time": "2023-02-11T15:00:50.559Z"
   },
   {
    "duration": 111,
    "start_time": "2023-02-11T15:00:50.651Z"
   },
   {
    "duration": 1797,
    "start_time": "2023-02-11T15:00:50.764Z"
   },
   {
    "duration": 71,
    "start_time": "2023-02-11T15:00:52.563Z"
   },
   {
    "duration": 85,
    "start_time": "2023-02-11T15:00:52.636Z"
   },
   {
    "duration": 11698,
    "start_time": "2023-02-11T15:00:52.723Z"
   },
   {
    "duration": 472500,
    "start_time": "2023-02-11T15:01:04.423Z"
   },
   {
    "duration": 11,
    "start_time": "2023-02-11T15:08:56.925Z"
   },
   {
    "duration": 0,
    "start_time": "2023-02-11T15:08:56.939Z"
   },
   {
    "duration": 0,
    "start_time": "2023-02-11T15:08:56.940Z"
   },
   {
    "duration": 0,
    "start_time": "2023-02-11T15:08:56.942Z"
   },
   {
    "duration": 0,
    "start_time": "2023-02-11T15:08:56.944Z"
   },
   {
    "duration": 0,
    "start_time": "2023-02-11T15:08:56.944Z"
   },
   {
    "duration": 0,
    "start_time": "2023-02-11T15:08:56.945Z"
   },
   {
    "duration": 0,
    "start_time": "2023-02-11T15:08:56.947Z"
   },
   {
    "duration": 0,
    "start_time": "2023-02-11T15:08:56.948Z"
   },
   {
    "duration": 0,
    "start_time": "2023-02-11T15:08:56.950Z"
   },
   {
    "duration": 0,
    "start_time": "2023-02-11T15:08:56.952Z"
   },
   {
    "duration": 0,
    "start_time": "2023-02-11T15:08:56.954Z"
   },
   {
    "duration": 0,
    "start_time": "2023-02-11T15:08:57.020Z"
   },
   {
    "duration": 0,
    "start_time": "2023-02-11T15:08:57.023Z"
   },
   {
    "duration": 0,
    "start_time": "2023-02-11T15:08:57.024Z"
   },
   {
    "duration": 0,
    "start_time": "2023-02-11T15:08:57.025Z"
   },
   {
    "duration": 0,
    "start_time": "2023-02-11T15:08:57.026Z"
   },
   {
    "duration": 0,
    "start_time": "2023-02-11T15:08:57.027Z"
   },
   {
    "duration": 0,
    "start_time": "2023-02-11T15:08:57.029Z"
   },
   {
    "duration": 0,
    "start_time": "2023-02-11T15:08:57.030Z"
   },
   {
    "duration": 0,
    "start_time": "2023-02-11T15:08:57.031Z"
   },
   {
    "duration": 0,
    "start_time": "2023-02-11T15:08:57.032Z"
   },
   {
    "duration": 0,
    "start_time": "2023-02-11T15:08:57.033Z"
   },
   {
    "duration": 0,
    "start_time": "2023-02-11T15:08:57.034Z"
   },
   {
    "duration": 0,
    "start_time": "2023-02-11T15:08:57.035Z"
   },
   {
    "duration": 0,
    "start_time": "2023-02-11T15:08:57.036Z"
   },
   {
    "duration": 1,
    "start_time": "2023-02-11T15:08:57.037Z"
   },
   {
    "duration": 0,
    "start_time": "2023-02-11T15:08:57.039Z"
   },
   {
    "duration": 0,
    "start_time": "2023-02-11T15:08:57.040Z"
   },
   {
    "duration": 0,
    "start_time": "2023-02-11T15:08:57.040Z"
   },
   {
    "duration": 0,
    "start_time": "2023-02-11T15:08:57.042Z"
   },
   {
    "duration": 0,
    "start_time": "2023-02-11T15:08:57.043Z"
   },
   {
    "duration": 0,
    "start_time": "2023-02-11T15:08:57.044Z"
   },
   {
    "duration": 0,
    "start_time": "2023-02-11T15:08:57.045Z"
   },
   {
    "duration": 0,
    "start_time": "2023-02-11T15:08:57.046Z"
   },
   {
    "duration": 0,
    "start_time": "2023-02-11T15:08:57.122Z"
   },
   {
    "duration": 0,
    "start_time": "2023-02-11T15:08:57.123Z"
   },
   {
    "duration": 0,
    "start_time": "2023-02-11T15:08:57.124Z"
   },
   {
    "duration": 0,
    "start_time": "2023-02-11T15:08:57.125Z"
   },
   {
    "duration": 0,
    "start_time": "2023-02-11T15:08:57.126Z"
   },
   {
    "duration": 0,
    "start_time": "2023-02-11T15:08:57.126Z"
   },
   {
    "duration": 0,
    "start_time": "2023-02-11T15:08:57.128Z"
   },
   {
    "duration": 6,
    "start_time": "2023-02-11T17:05:24.341Z"
   },
   {
    "duration": 8787,
    "start_time": "2023-02-12T18:38:27.413Z"
   },
   {
    "duration": 1514,
    "start_time": "2023-02-12T18:38:36.202Z"
   },
   {
    "duration": 4,
    "start_time": "2023-02-12T18:38:37.718Z"
   },
   {
    "duration": 7621,
    "start_time": "2023-02-12T18:38:37.724Z"
   },
   {
    "duration": 3,
    "start_time": "2023-02-12T18:38:45.347Z"
   },
   {
    "duration": 7,
    "start_time": "2023-02-12T18:38:45.352Z"
   },
   {
    "duration": 10,
    "start_time": "2023-02-12T18:38:45.361Z"
   },
   {
    "duration": 7,
    "start_time": "2023-02-12T18:38:45.373Z"
   },
   {
    "duration": 15561,
    "start_time": "2023-02-12T18:38:45.382Z"
   },
   {
    "duration": 3,
    "start_time": "2023-02-12T18:39:00.952Z"
   },
   {
    "duration": 1246,
    "start_time": "2023-02-12T18:39:00.957Z"
   },
   {
    "duration": 3,
    "start_time": "2023-02-12T18:39:02.205Z"
   },
   {
    "duration": 107,
    "start_time": "2023-02-12T18:39:02.209Z"
   },
   {
    "duration": 20,
    "start_time": "2023-02-12T18:39:02.318Z"
   },
   {
    "duration": 96,
    "start_time": "2023-02-12T18:39:02.339Z"
   },
   {
    "duration": 641,
    "start_time": "2023-02-12T18:39:02.436Z"
   },
   {
    "duration": 81,
    "start_time": "2023-02-12T18:39:03.080Z"
   },
   {
    "duration": 10,
    "start_time": "2023-02-12T18:39:03.163Z"
   },
   {
    "duration": 4,
    "start_time": "2023-02-12T18:39:03.174Z"
   },
   {
    "duration": 2641,
    "start_time": "2023-02-12T18:39:03.180Z"
   },
   {
    "duration": 72,
    "start_time": "2023-02-12T18:39:05.823Z"
   },
   {
    "duration": 1154,
    "start_time": "2023-02-12T18:39:05.897Z"
   },
   {
    "duration": 329,
    "start_time": "2023-02-12T18:39:07.053Z"
   },
   {
    "duration": 2505,
    "start_time": "2023-02-12T18:39:07.383Z"
   },
   {
    "duration": 44,
    "start_time": "2023-02-12T18:39:09.890Z"
   },
   {
    "duration": 138,
    "start_time": "2023-02-12T18:39:09.936Z"
   },
   {
    "duration": 610,
    "start_time": "2023-02-12T18:39:10.075Z"
   },
   {
    "duration": 355,
    "start_time": "2023-02-12T18:39:10.689Z"
   },
   {
    "duration": 17,
    "start_time": "2023-02-12T18:39:11.046Z"
   },
   {
    "duration": 165,
    "start_time": "2023-02-12T18:39:11.065Z"
   },
   {
    "duration": 5,
    "start_time": "2023-02-12T18:39:11.231Z"
   },
   {
    "duration": 17,
    "start_time": "2023-02-12T18:39:11.237Z"
   },
   {
    "duration": 17,
    "start_time": "2023-02-12T18:39:11.256Z"
   },
   {
    "duration": 2091,
    "start_time": "2023-02-12T18:39:11.274Z"
   },
   {
    "duration": 4,
    "start_time": "2023-02-12T18:39:13.367Z"
   },
   {
    "duration": 497,
    "start_time": "2023-02-12T18:39:13.373Z"
   },
   {
    "duration": 447,
    "start_time": "2023-02-12T18:39:13.872Z"
   },
   {
    "duration": 96,
    "start_time": "2023-02-12T18:39:14.320Z"
   },
   {
    "duration": 102,
    "start_time": "2023-02-12T18:39:14.418Z"
   },
   {
    "duration": 1803,
    "start_time": "2023-02-12T18:39:14.522Z"
   },
   {
    "duration": 2,
    "start_time": "2023-02-12T18:39:16.327Z"
   },
   {
    "duration": 5,
    "start_time": "2023-02-12T18:39:16.331Z"
   },
   {
    "duration": 19,
    "start_time": "2023-02-12T18:39:16.338Z"
   },
   {
    "duration": 137,
    "start_time": "2023-02-12T18:39:16.359Z"
   },
   {
    "duration": 3,
    "start_time": "2023-02-12T18:39:16.498Z"
   },
   {
    "duration": 11,
    "start_time": "2023-02-12T18:39:16.503Z"
   },
   {
    "duration": 6,
    "start_time": "2023-02-12T18:39:16.516Z"
   },
   {
    "duration": 457,
    "start_time": "2023-02-12T18:39:16.524Z"
   },
   {
    "duration": 7,
    "start_time": "2023-02-12T18:39:16.983Z"
   },
   {
    "duration": 156,
    "start_time": "2023-02-12T18:39:16.991Z"
   },
   {
    "duration": 1960,
    "start_time": "2023-02-12T18:39:17.149Z"
   },
   {
    "duration": 27,
    "start_time": "2023-02-12T18:39:19.110Z"
   },
   {
    "duration": 64,
    "start_time": "2023-02-12T18:39:19.139Z"
   },
   {
    "duration": 894,
    "start_time": "2023-02-12T18:39:19.204Z"
   },
   {
    "duration": 15,
    "start_time": "2023-02-12T18:39:20.100Z"
   },
   {
    "duration": 41,
    "start_time": "2023-02-12T18:39:20.117Z"
   },
   {
    "duration": 3906,
    "start_time": "2023-02-12T18:39:20.160Z"
   },
   {
    "duration": 3,
    "start_time": "2023-02-12T18:39:24.068Z"
   },
   {
    "duration": 401542,
    "start_time": "2023-02-12T18:39:24.072Z"
   },
   {
    "duration": 11,
    "start_time": "2023-02-12T18:46:05.616Z"
   },
   {
    "duration": 0,
    "start_time": "2023-02-12T18:46:05.629Z"
   },
   {
    "duration": 0,
    "start_time": "2023-02-12T18:46:05.631Z"
   },
   {
    "duration": 0,
    "start_time": "2023-02-12T18:46:05.632Z"
   },
   {
    "duration": 0,
    "start_time": "2023-02-12T18:46:05.636Z"
   },
   {
    "duration": 0,
    "start_time": "2023-02-12T18:46:05.637Z"
   },
   {
    "duration": 0,
    "start_time": "2023-02-12T18:46:05.638Z"
   },
   {
    "duration": 0,
    "start_time": "2023-02-12T18:46:05.639Z"
   },
   {
    "duration": 1,
    "start_time": "2023-02-12T18:46:05.640Z"
   },
   {
    "duration": 0,
    "start_time": "2023-02-12T18:46:05.642Z"
   },
   {
    "duration": 0,
    "start_time": "2023-02-12T18:46:05.643Z"
   },
   {
    "duration": 0,
    "start_time": "2023-02-12T18:46:05.644Z"
   },
   {
    "duration": 0,
    "start_time": "2023-02-12T18:46:05.645Z"
   },
   {
    "duration": 0,
    "start_time": "2023-02-12T18:46:05.653Z"
   },
   {
    "duration": 0,
    "start_time": "2023-02-12T18:46:05.654Z"
   },
   {
    "duration": 0,
    "start_time": "2023-02-12T18:46:05.655Z"
   },
   {
    "duration": 0,
    "start_time": "2023-02-12T18:46:05.657Z"
   },
   {
    "duration": 0,
    "start_time": "2023-02-12T18:46:05.657Z"
   },
   {
    "duration": 0,
    "start_time": "2023-02-12T18:46:05.658Z"
   },
   {
    "duration": 0,
    "start_time": "2023-02-12T18:46:05.659Z"
   },
   {
    "duration": 0,
    "start_time": "2023-02-12T18:46:05.660Z"
   },
   {
    "duration": 0,
    "start_time": "2023-02-12T18:46:05.661Z"
   },
   {
    "duration": 0,
    "start_time": "2023-02-12T18:46:05.663Z"
   },
   {
    "duration": 0,
    "start_time": "2023-02-12T18:46:05.664Z"
   },
   {
    "duration": 0,
    "start_time": "2023-02-12T18:46:05.665Z"
   },
   {
    "duration": 0,
    "start_time": "2023-02-12T18:46:05.666Z"
   },
   {
    "duration": 0,
    "start_time": "2023-02-12T18:46:05.668Z"
   },
   {
    "duration": 0,
    "start_time": "2023-02-12T18:46:05.669Z"
   },
   {
    "duration": 0,
    "start_time": "2023-02-12T18:46:05.670Z"
   },
   {
    "duration": 0,
    "start_time": "2023-02-12T18:46:05.672Z"
   },
   {
    "duration": 0,
    "start_time": "2023-02-12T18:46:05.674Z"
   },
   {
    "duration": 0,
    "start_time": "2023-02-12T18:46:05.675Z"
   },
   {
    "duration": 0,
    "start_time": "2023-02-12T18:46:05.676Z"
   },
   {
    "duration": 0,
    "start_time": "2023-02-12T18:46:05.678Z"
   },
   {
    "duration": 0,
    "start_time": "2023-02-12T18:46:05.680Z"
   },
   {
    "duration": 0,
    "start_time": "2023-02-12T18:46:05.681Z"
   },
   {
    "duration": 0,
    "start_time": "2023-02-12T18:46:05.682Z"
   },
   {
    "duration": 0,
    "start_time": "2023-02-12T18:46:05.684Z"
   },
   {
    "duration": 0,
    "start_time": "2023-02-12T18:46:05.685Z"
   },
   {
    "duration": 0,
    "start_time": "2023-02-12T18:46:05.687Z"
   },
   {
    "duration": 0,
    "start_time": "2023-02-12T18:46:05.688Z"
   },
   {
    "duration": 0,
    "start_time": "2023-02-12T18:46:05.689Z"
   },
   {
    "duration": 0,
    "start_time": "2023-02-12T18:46:05.690Z"
   },
   {
    "duration": 0,
    "start_time": "2023-02-12T18:46:05.691Z"
   },
   {
    "duration": 0,
    "start_time": "2023-02-12T18:46:05.692Z"
   },
   {
    "duration": 0,
    "start_time": "2023-02-12T18:46:05.754Z"
   },
   {
    "duration": 0,
    "start_time": "2023-02-12T18:46:05.756Z"
   },
   {
    "duration": 0,
    "start_time": "2023-02-12T18:46:05.757Z"
   },
   {
    "duration": 2078,
    "start_time": "2023-02-14T07:38:00.527Z"
   },
   {
    "duration": 1058,
    "start_time": "2023-02-14T07:38:02.608Z"
   },
   {
    "duration": 3,
    "start_time": "2023-02-14T07:38:03.668Z"
   },
   {
    "duration": 6192,
    "start_time": "2023-02-14T07:38:03.674Z"
   },
   {
    "duration": 3,
    "start_time": "2023-02-14T07:38:09.868Z"
   },
   {
    "duration": 10,
    "start_time": "2023-02-14T07:38:09.873Z"
   },
   {
    "duration": 8,
    "start_time": "2023-02-14T07:38:09.885Z"
   },
   {
    "duration": 6,
    "start_time": "2023-02-14T07:38:09.894Z"
   },
   {
    "duration": 15817,
    "start_time": "2023-02-14T07:38:09.902Z"
   },
   {
    "duration": 2,
    "start_time": "2023-02-14T07:38:25.721Z"
   },
   {
    "duration": 18,
    "start_time": "2023-02-14T07:38:25.724Z"
   },
   {
    "duration": 94,
    "start_time": "2023-02-14T07:38:25.744Z"
   },
   {
    "duration": 775,
    "start_time": "2023-02-14T07:38:25.840Z"
   },
   {
    "duration": 141,
    "start_time": "2023-02-14T07:38:26.617Z"
   },
   {
    "duration": 10,
    "start_time": "2023-02-14T07:38:26.760Z"
   },
   {
    "duration": 8,
    "start_time": "2023-02-14T07:38:26.771Z"
   },
   {
    "duration": 2462,
    "start_time": "2023-02-14T07:38:26.791Z"
   },
   {
    "duration": 67,
    "start_time": "2023-02-14T07:38:29.255Z"
   },
   {
    "duration": 15,
    "start_time": "2023-02-14T07:38:29.324Z"
   },
   {
    "duration": 4,
    "start_time": "2023-02-14T07:38:29.341Z"
   },
   {
    "duration": 2394,
    "start_time": "2023-02-14T07:38:29.347Z"
   },
   {
    "duration": 50,
    "start_time": "2023-02-14T07:38:31.743Z"
   },
   {
    "duration": 155,
    "start_time": "2023-02-14T07:38:31.795Z"
   },
   {
    "duration": 600,
    "start_time": "2023-02-14T07:38:31.952Z"
   },
   {
    "duration": 368,
    "start_time": "2023-02-14T07:38:32.554Z"
   },
   {
    "duration": 12,
    "start_time": "2023-02-14T07:38:32.924Z"
   },
   {
    "duration": 148,
    "start_time": "2023-02-14T07:38:32.937Z"
   },
   {
    "duration": 4,
    "start_time": "2023-02-14T07:38:33.090Z"
   },
   {
    "duration": 6,
    "start_time": "2023-02-14T07:38:33.095Z"
   },
   {
    "duration": 15,
    "start_time": "2023-02-14T07:38:33.102Z"
   },
   {
    "duration": 2076,
    "start_time": "2023-02-14T07:38:33.119Z"
   },
   {
    "duration": 4,
    "start_time": "2023-02-14T07:38:35.196Z"
   },
   {
    "duration": 480,
    "start_time": "2023-02-14T07:38:35.202Z"
   },
   {
    "duration": 421,
    "start_time": "2023-02-14T07:38:35.691Z"
   },
   {
    "duration": 85,
    "start_time": "2023-02-14T07:38:36.113Z"
   },
   {
    "duration": 93,
    "start_time": "2023-02-14T07:38:36.200Z"
   },
   {
    "duration": 1806,
    "start_time": "2023-02-14T07:38:36.295Z"
   },
   {
    "duration": 3,
    "start_time": "2023-02-14T07:38:38.102Z"
   },
   {
    "duration": 7,
    "start_time": "2023-02-14T07:38:38.106Z"
   },
   {
    "duration": 25,
    "start_time": "2023-02-14T07:38:38.114Z"
   },
   {
    "duration": 114,
    "start_time": "2023-02-14T07:38:38.141Z"
   },
   {
    "duration": 4,
    "start_time": "2023-02-14T07:38:38.256Z"
   },
   {
    "duration": 16,
    "start_time": "2023-02-14T07:38:38.261Z"
   },
   {
    "duration": 9,
    "start_time": "2023-02-14T07:38:38.278Z"
   },
   {
    "duration": 421,
    "start_time": "2023-02-14T07:38:38.288Z"
   },
   {
    "duration": 6,
    "start_time": "2023-02-14T07:38:38.711Z"
   },
   {
    "duration": 142,
    "start_time": "2023-02-14T07:38:38.719Z"
   },
   {
    "duration": 1859,
    "start_time": "2023-02-14T07:38:38.863Z"
   },
   {
    "duration": 26,
    "start_time": "2023-02-14T07:38:40.723Z"
   },
   {
    "duration": 70,
    "start_time": "2023-02-14T07:38:40.751Z"
   },
   {
    "duration": 807,
    "start_time": "2023-02-14T07:38:40.823Z"
   },
   {
    "duration": 17,
    "start_time": "2023-02-14T07:38:41.632Z"
   },
   {
    "duration": 41,
    "start_time": "2023-02-14T07:38:41.650Z"
   },
   {
    "duration": 3811,
    "start_time": "2023-02-14T07:38:41.693Z"
   },
   {
    "duration": 3,
    "start_time": "2023-02-14T07:38:45.505Z"
   },
   {
    "duration": 999739,
    "start_time": "2023-02-14T07:38:45.510Z"
   },
   {
    "duration": 11,
    "start_time": "2023-02-14T07:55:25.250Z"
   },
   {
    "duration": 0,
    "start_time": "2023-02-14T07:55:25.264Z"
   },
   {
    "duration": 0,
    "start_time": "2023-02-14T07:55:25.265Z"
   },
   {
    "duration": 0,
    "start_time": "2023-02-14T07:55:25.266Z"
   },
   {
    "duration": 0,
    "start_time": "2023-02-14T07:55:25.267Z"
   },
   {
    "duration": 0,
    "start_time": "2023-02-14T07:55:25.268Z"
   },
   {
    "duration": 0,
    "start_time": "2023-02-14T07:55:25.269Z"
   },
   {
    "duration": 0,
    "start_time": "2023-02-14T07:55:25.270Z"
   },
   {
    "duration": 0,
    "start_time": "2023-02-14T07:55:25.271Z"
   },
   {
    "duration": 0,
    "start_time": "2023-02-14T07:55:25.272Z"
   },
   {
    "duration": 0,
    "start_time": "2023-02-14T07:55:25.273Z"
   },
   {
    "duration": 0,
    "start_time": "2023-02-14T07:55:25.274Z"
   },
   {
    "duration": 0,
    "start_time": "2023-02-14T07:55:25.275Z"
   },
   {
    "duration": 0,
    "start_time": "2023-02-14T07:55:25.276Z"
   },
   {
    "duration": 0,
    "start_time": "2023-02-14T07:55:25.278Z"
   },
   {
    "duration": 0,
    "start_time": "2023-02-14T07:55:25.279Z"
   },
   {
    "duration": 0,
    "start_time": "2023-02-14T07:55:25.291Z"
   },
   {
    "duration": 0,
    "start_time": "2023-02-14T07:55:25.292Z"
   },
   {
    "duration": 0,
    "start_time": "2023-02-14T07:55:25.294Z"
   },
   {
    "duration": 0,
    "start_time": "2023-02-14T07:55:25.295Z"
   },
   {
    "duration": 0,
    "start_time": "2023-02-14T07:55:25.295Z"
   },
   {
    "duration": 0,
    "start_time": "2023-02-14T07:55:25.296Z"
   },
   {
    "duration": 0,
    "start_time": "2023-02-14T07:55:25.297Z"
   },
   {
    "duration": 0,
    "start_time": "2023-02-14T07:55:25.298Z"
   },
   {
    "duration": 0,
    "start_time": "2023-02-14T07:55:25.299Z"
   },
   {
    "duration": 0,
    "start_time": "2023-02-14T07:55:25.300Z"
   },
   {
    "duration": 0,
    "start_time": "2023-02-14T07:55:25.301Z"
   },
   {
    "duration": 0,
    "start_time": "2023-02-14T07:55:25.302Z"
   },
   {
    "duration": 0,
    "start_time": "2023-02-14T07:55:25.303Z"
   },
   {
    "duration": 0,
    "start_time": "2023-02-14T07:55:25.304Z"
   },
   {
    "duration": 0,
    "start_time": "2023-02-14T07:55:25.305Z"
   },
   {
    "duration": 0,
    "start_time": "2023-02-14T07:55:25.306Z"
   },
   {
    "duration": 0,
    "start_time": "2023-02-14T07:55:25.307Z"
   },
   {
    "duration": 0,
    "start_time": "2023-02-14T07:55:25.308Z"
   },
   {
    "duration": 0,
    "start_time": "2023-02-14T07:55:25.309Z"
   },
   {
    "duration": 0,
    "start_time": "2023-02-14T07:55:25.310Z"
   },
   {
    "duration": 0,
    "start_time": "2023-02-14T07:55:25.311Z"
   },
   {
    "duration": 0,
    "start_time": "2023-02-14T07:55:25.312Z"
   },
   {
    "duration": 0,
    "start_time": "2023-02-14T07:55:25.313Z"
   },
   {
    "duration": 0,
    "start_time": "2023-02-14T07:55:25.314Z"
   },
   {
    "duration": 0,
    "start_time": "2023-02-14T07:55:25.315Z"
   },
   {
    "duration": 0,
    "start_time": "2023-02-14T07:55:25.316Z"
   },
   {
    "duration": 0,
    "start_time": "2023-02-14T07:55:25.317Z"
   },
   {
    "duration": 0,
    "start_time": "2023-02-14T07:55:25.318Z"
   },
   {
    "duration": 0,
    "start_time": "2023-02-14T07:55:25.318Z"
   },
   {
    "duration": 0,
    "start_time": "2023-02-14T07:55:25.319Z"
   },
   {
    "duration": 0,
    "start_time": "2023-02-14T07:55:25.320Z"
   },
   {
    "duration": 0,
    "start_time": "2023-02-14T07:55:25.321Z"
   }
  ],
  "kernelspec": {
   "display_name": "Python 3 (ipykernel)",
   "language": "python",
   "name": "python3"
  },
  "language_info": {
   "codemirror_mode": {
    "name": "ipython",
    "version": 3
   },
   "file_extension": ".py",
   "mimetype": "text/x-python",
   "name": "python",
   "nbconvert_exporter": "python",
   "pygments_lexer": "ipython3",
   "version": "3.8.10"
  },
  "toc": {
   "base_numbering": 1,
   "nav_menu": {},
   "number_sections": true,
   "sideBar": true,
   "skip_h1_title": true,
   "title_cell": "Table of Contents",
   "title_sidebar": "Contents",
   "toc_cell": false,
   "toc_position": {},
   "toc_section_display": true,
   "toc_window_display": false
  }
 },
 "nbformat": 4,
 "nbformat_minor": 5
}
