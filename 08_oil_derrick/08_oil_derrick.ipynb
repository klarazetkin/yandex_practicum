{
 "cells": [
  {
   "cell_type": "markdown",
   "id": "534f37d4",
   "metadata": {},
   "source": [
    "# Выбор локации для скважины \"ГлавРосГосНефть\"\n",
    "## Постановка задачи\n",
    "\n",
    "Заказчик проекта - «ГлавРосГосНефть». Поставленная задача - нужно решить, где бурить новую скважину.\n",
    "\n",
    "Обычно выбор локации происходит так:\n",
    "* В избранном регионе собирают характеристики для скважин: качество нефти и объём её запасов;\n",
    "* Строят модель для предсказания объёма запасов в новых скважинах;\n",
    "* Выбирают скважины с самыми высокими оценками значений;\n",
    "* Определяют регион с максимальной суммарной прибылью отобранных скважин.\n",
    "\n",
    "При разведке региона исследуют 500 точек, из которых с помощью машинного обучения выбирают 200 лучших для разработки.\n",
    "\n",
    "В качестве исходных данных предоставлены пробы нефти в трёх регионах; характеристики для каждой скважины в регионе уже известны. Исходные данные предоставлены в виде трех датасетов одинаковой структуры:\n",
    "\n",
    "* `id` — уникальный идентификатор скважины;\n",
    "* `f0`, `f1`, `f2` — значимые признаки;\n",
    "* `product` — объём запасов в скважине (тыс. баррелей).\n",
    "\n",
    "Данные синтетические: детали контрактов и характеристики месторождений не разглашаются.\n",
    "\n",
    "Нужно построить модель линейной регрессии для определения региона, где добыча принесёт наибольшую прибыль; после этого возможную прибыль и риски техникой Bootstrap. После оценки рисков нужно оставить лишь те регионы, в которых вероятность убытков меньше 2.5%, а затем выбрать среди них регион с наибольшей средней прибылью.\n",
    "\n",
    "Дополнительные условия:\n",
    "* Бюджет на разработку скважин в регионе — 10 млрд рублей.\n",
    "* Текущая цена на баррель сырья - 450 рублей; доход с каждой единицы продукта составляет 450 тыс. рублей, поскольку объём указан в тысячах баррелей."
   ]
  },
  {
   "cell_type": "markdown",
   "id": "6f5ee79d",
   "metadata": {},
   "source": [
    "# Импорт библиотек и данных\n",
    "Импортируем исходные датасеты в переменные df_0, df_1 и df_2 и ознакомимся с данными.\n",
    "\n",
    "Исходные данные представляют собой три идеальных датасета на 100_000 строк и 5 столбцов каждый. Структура всех трех датасетов одинакова: есть столбец с `id` и четыре столбца с численными признаками в формате `float`. Названия и типы столбцов одинаковы. Типы данных адекватны, пропусков нет.\n",
    "\n",
    "Столбцы с `id` неинформативны, их нужно будет удалить. \n",
    "\n",
    "Данные адекватны и пригодны для анализа."
   ]
  },
  {
   "cell_type": "code",
   "execution_count": 155,
   "id": "ae3b76ca",
   "metadata": {},
   "outputs": [],
   "source": [
    "from pathlib import Path\n",
    "\n",
    "import pandas as pd\n",
    "pd.set_option('display.float_format', '{:,.4f}'.format)\n",
    "\n",
    "#import matplotlib.pyplot as plt\n",
    "\n",
    "#import numpy as np\n",
    "from sklearn.model_selection import train_test_split \n",
    "from sklearn.metrics import accuracy_score\n",
    "from sklearn.linear_model import LinearRegression\n",
    "from sklearn.metrics import mean_squared_error\n",
    "from numpy.random import RandomState\n",
    "from scipy import stats as st\n"
   ]
  },
  {
   "cell_type": "code",
   "execution_count": 156,
   "id": "90a26c75",
   "metadata": {},
   "outputs": [],
   "source": [
    "my_path = Path('/home/klarazetkin/Documents/yandex/module_2/project_4')\n",
    "if my_path.is_dir():\n",
    "    df_0 = pd.read_csv('/home/klarazetkin/Documents/yandex/module_2/project_4/geo_data_0.csv')\n",
    "    df_1 = pd.read_csv('/home/klarazetkin/Documents/yandex/module_2/project_4/geo_data_1.csv')\n",
    "    df_2 = pd.read_csv('/home/klarazetkin/Documents/yandex/module_2/project_4/geo_data_2.csv')\n",
    "else:\n",
    "    df_0 = pd.read_csv('/datasets/geo_data_0.csv')\n",
    "    df_1 = pd.read_csv('/datasets/geo_data_1.csv')\n",
    "    df_2 = pd.read_csv('/datasets/geo_data_2.csv')"
   ]
  },
  {
   "cell_type": "code",
   "execution_count": 157,
   "id": "c7cda01c",
   "metadata": {},
   "outputs": [
    {
     "data": {
      "text/html": [
       "<div>\n",
       "<style scoped>\n",
       "    .dataframe tbody tr th:only-of-type {\n",
       "        vertical-align: middle;\n",
       "    }\n",
       "\n",
       "    .dataframe tbody tr th {\n",
       "        vertical-align: top;\n",
       "    }\n",
       "\n",
       "    .dataframe thead th {\n",
       "        text-align: right;\n",
       "    }\n",
       "</style>\n",
       "<table border=\"1\" class=\"dataframe\">\n",
       "  <thead>\n",
       "    <tr style=\"text-align: right;\">\n",
       "      <th></th>\n",
       "      <th>id</th>\n",
       "      <th>f0</th>\n",
       "      <th>f1</th>\n",
       "      <th>f2</th>\n",
       "      <th>product</th>\n",
       "    </tr>\n",
       "  </thead>\n",
       "  <tbody>\n",
       "    <tr>\n",
       "      <td>0</td>\n",
       "      <td>txEyH</td>\n",
       "      <td>0.7057</td>\n",
       "      <td>-0.4978</td>\n",
       "      <td>1.2212</td>\n",
       "      <td>105.2801</td>\n",
       "    </tr>\n",
       "    <tr>\n",
       "      <td>1</td>\n",
       "      <td>2acmU</td>\n",
       "      <td>1.3347</td>\n",
       "      <td>-0.3402</td>\n",
       "      <td>4.3651</td>\n",
       "      <td>73.0378</td>\n",
       "    </tr>\n",
       "    <tr>\n",
       "      <td>2</td>\n",
       "      <td>409Wp</td>\n",
       "      <td>1.0227</td>\n",
       "      <td>0.1520</td>\n",
       "      <td>1.4199</td>\n",
       "      <td>85.2656</td>\n",
       "    </tr>\n",
       "    <tr>\n",
       "      <td>3</td>\n",
       "      <td>iJLyR</td>\n",
       "      <td>-0.0322</td>\n",
       "      <td>0.1390</td>\n",
       "      <td>2.9786</td>\n",
       "      <td>168.6208</td>\n",
       "    </tr>\n",
       "    <tr>\n",
       "      <td>4</td>\n",
       "      <td>Xdl7t</td>\n",
       "      <td>1.9884</td>\n",
       "      <td>0.1554</td>\n",
       "      <td>4.7518</td>\n",
       "      <td>154.0366</td>\n",
       "    </tr>\n",
       "  </tbody>\n",
       "</table>\n",
       "</div>"
      ],
      "text/plain": [
       "      id      f0      f1     f2  product\n",
       "0  txEyH  0.7057 -0.4978 1.2212 105.2801\n",
       "1  2acmU  1.3347 -0.3402 4.3651  73.0378\n",
       "2  409Wp  1.0227  0.1520 1.4199  85.2656\n",
       "3  iJLyR -0.0322  0.1390 2.9786 168.6208\n",
       "4  Xdl7t  1.9884  0.1554 4.7518 154.0366"
      ]
     },
     "metadata": {},
     "output_type": "display_data"
    },
    {
     "data": {
      "text/html": [
       "<div>\n",
       "<style scoped>\n",
       "    .dataframe tbody tr th:only-of-type {\n",
       "        vertical-align: middle;\n",
       "    }\n",
       "\n",
       "    .dataframe tbody tr th {\n",
       "        vertical-align: top;\n",
       "    }\n",
       "\n",
       "    .dataframe thead th {\n",
       "        text-align: right;\n",
       "    }\n",
       "</style>\n",
       "<table border=\"1\" class=\"dataframe\">\n",
       "  <thead>\n",
       "    <tr style=\"text-align: right;\">\n",
       "      <th></th>\n",
       "      <th>id</th>\n",
       "      <th>f0</th>\n",
       "      <th>f1</th>\n",
       "      <th>f2</th>\n",
       "      <th>product</th>\n",
       "    </tr>\n",
       "  </thead>\n",
       "  <tbody>\n",
       "    <tr>\n",
       "      <td>0</td>\n",
       "      <td>kBEdx</td>\n",
       "      <td>-15.0013</td>\n",
       "      <td>-8.2760</td>\n",
       "      <td>-0.0059</td>\n",
       "      <td>3.1791</td>\n",
       "    </tr>\n",
       "    <tr>\n",
       "      <td>1</td>\n",
       "      <td>62mP7</td>\n",
       "      <td>14.2721</td>\n",
       "      <td>-3.4751</td>\n",
       "      <td>0.9992</td>\n",
       "      <td>26.9533</td>\n",
       "    </tr>\n",
       "    <tr>\n",
       "      <td>2</td>\n",
       "      <td>vyE1P</td>\n",
       "      <td>6.2632</td>\n",
       "      <td>-5.9484</td>\n",
       "      <td>5.0012</td>\n",
       "      <td>134.7663</td>\n",
       "    </tr>\n",
       "    <tr>\n",
       "      <td>3</td>\n",
       "      <td>KcrkZ</td>\n",
       "      <td>-13.0812</td>\n",
       "      <td>-11.5061</td>\n",
       "      <td>4.9994</td>\n",
       "      <td>137.9454</td>\n",
       "    </tr>\n",
       "    <tr>\n",
       "      <td>4</td>\n",
       "      <td>AHL4O</td>\n",
       "      <td>12.7022</td>\n",
       "      <td>-8.1474</td>\n",
       "      <td>5.0044</td>\n",
       "      <td>134.7663</td>\n",
       "    </tr>\n",
       "  </tbody>\n",
       "</table>\n",
       "</div>"
      ],
      "text/plain": [
       "      id       f0       f1      f2  product\n",
       "0  kBEdx -15.0013  -8.2760 -0.0059   3.1791\n",
       "1  62mP7  14.2721  -3.4751  0.9992  26.9533\n",
       "2  vyE1P   6.2632  -5.9484  5.0012 134.7663\n",
       "3  KcrkZ -13.0812 -11.5061  4.9994 137.9454\n",
       "4  AHL4O  12.7022  -8.1474  5.0044 134.7663"
      ]
     },
     "metadata": {},
     "output_type": "display_data"
    },
    {
     "data": {
      "text/html": [
       "<div>\n",
       "<style scoped>\n",
       "    .dataframe tbody tr th:only-of-type {\n",
       "        vertical-align: middle;\n",
       "    }\n",
       "\n",
       "    .dataframe tbody tr th {\n",
       "        vertical-align: top;\n",
       "    }\n",
       "\n",
       "    .dataframe thead th {\n",
       "        text-align: right;\n",
       "    }\n",
       "</style>\n",
       "<table border=\"1\" class=\"dataframe\">\n",
       "  <thead>\n",
       "    <tr style=\"text-align: right;\">\n",
       "      <th></th>\n",
       "      <th>id</th>\n",
       "      <th>f0</th>\n",
       "      <th>f1</th>\n",
       "      <th>f2</th>\n",
       "      <th>product</th>\n",
       "    </tr>\n",
       "  </thead>\n",
       "  <tbody>\n",
       "    <tr>\n",
       "      <td>0</td>\n",
       "      <td>fwXo0</td>\n",
       "      <td>-1.1470</td>\n",
       "      <td>0.9633</td>\n",
       "      <td>-0.8290</td>\n",
       "      <td>27.7587</td>\n",
       "    </tr>\n",
       "    <tr>\n",
       "      <td>1</td>\n",
       "      <td>WJtFt</td>\n",
       "      <td>0.2628</td>\n",
       "      <td>0.2698</td>\n",
       "      <td>-2.5302</td>\n",
       "      <td>56.0697</td>\n",
       "    </tr>\n",
       "    <tr>\n",
       "      <td>2</td>\n",
       "      <td>ovLUW</td>\n",
       "      <td>0.1946</td>\n",
       "      <td>0.2890</td>\n",
       "      <td>-5.5864</td>\n",
       "      <td>62.8719</td>\n",
       "    </tr>\n",
       "    <tr>\n",
       "      <td>3</td>\n",
       "      <td>q6cA6</td>\n",
       "      <td>2.2361</td>\n",
       "      <td>-0.5538</td>\n",
       "      <td>0.9300</td>\n",
       "      <td>114.5728</td>\n",
       "    </tr>\n",
       "    <tr>\n",
       "      <td>4</td>\n",
       "      <td>WPMUX</td>\n",
       "      <td>-0.5160</td>\n",
       "      <td>1.7163</td>\n",
       "      <td>5.8990</td>\n",
       "      <td>149.6007</td>\n",
       "    </tr>\n",
       "  </tbody>\n",
       "</table>\n",
       "</div>"
      ],
      "text/plain": [
       "      id      f0      f1      f2  product\n",
       "0  fwXo0 -1.1470  0.9633 -0.8290  27.7587\n",
       "1  WJtFt  0.2628  0.2698 -2.5302  56.0697\n",
       "2  ovLUW  0.1946  0.2890 -5.5864  62.8719\n",
       "3  q6cA6  2.2361 -0.5538  0.9300 114.5728\n",
       "4  WPMUX -0.5160  1.7163  5.8990 149.6007"
      ]
     },
     "metadata": {},
     "output_type": "display_data"
    }
   ],
   "source": [
    "display(df_0.head())\n",
    "display(df_1.head())\n",
    "display(df_2.head())"
   ]
  },
  {
   "cell_type": "code",
   "execution_count": 158,
   "id": "8fe7b9dc",
   "metadata": {},
   "outputs": [
    {
     "name": "stdout",
     "output_type": "stream",
     "text": [
      "(100000, 5)\n",
      "(100000, 5)\n",
      "(100000, 5)\n"
     ]
    }
   ],
   "source": [
    "print(df_0.shape)\n",
    "print(df_1.shape)\n",
    "print(df_2.shape)"
   ]
  },
  {
   "cell_type": "code",
   "execution_count": 159,
   "id": "cee78b25",
   "metadata": {},
   "outputs": [
    {
     "name": "stdout",
     "output_type": "stream",
     "text": [
      "<class 'pandas.core.frame.DataFrame'>\n",
      "RangeIndex: 100000 entries, 0 to 99999\n",
      "Data columns (total 5 columns):\n",
      "id         100000 non-null object\n",
      "f0         100000 non-null float64\n",
      "f1         100000 non-null float64\n",
      "f2         100000 non-null float64\n",
      "product    100000 non-null float64\n",
      "dtypes: float64(4), object(1)\n",
      "memory usage: 3.8+ MB\n",
      "None\n",
      "<class 'pandas.core.frame.DataFrame'>\n",
      "RangeIndex: 100000 entries, 0 to 99999\n",
      "Data columns (total 5 columns):\n",
      "id         100000 non-null object\n",
      "f0         100000 non-null float64\n",
      "f1         100000 non-null float64\n",
      "f2         100000 non-null float64\n",
      "product    100000 non-null float64\n",
      "dtypes: float64(4), object(1)\n",
      "memory usage: 3.8+ MB\n",
      "None\n",
      "<class 'pandas.core.frame.DataFrame'>\n",
      "RangeIndex: 100000 entries, 0 to 99999\n",
      "Data columns (total 5 columns):\n",
      "id         100000 non-null object\n",
      "f0         100000 non-null float64\n",
      "f1         100000 non-null float64\n",
      "f2         100000 non-null float64\n",
      "product    100000 non-null float64\n",
      "dtypes: float64(4), object(1)\n",
      "memory usage: 3.8+ MB\n",
      "None\n"
     ]
    }
   ],
   "source": [
    "print(df_0.info())\n",
    "print(df_1.info())\n",
    "print(df_2.info())"
   ]
  },
  {
   "cell_type": "code",
   "execution_count": 160,
   "id": "aeaa48e4",
   "metadata": {},
   "outputs": [
    {
     "name": "stdout",
     "output_type": "stream",
     "text": [
      "id        0.0000\n",
      "f0        0.0000\n",
      "f1        0.0000\n",
      "f2        0.0000\n",
      "product   0.0000\n",
      "dtype: float64\n",
      "id        0.0000\n",
      "f0        0.0000\n",
      "f1        0.0000\n",
      "f2        0.0000\n",
      "product   0.0000\n",
      "dtype: float64\n",
      "id        0.0000\n",
      "f0        0.0000\n",
      "f1        0.0000\n",
      "f2        0.0000\n",
      "product   0.0000\n",
      "dtype: float64\n"
     ]
    }
   ],
   "source": [
    "print(df_0.isna().mean())\n",
    "print(df_1.isna().mean())\n",
    "print(df_2.isna().mean())"
   ]
  },
  {
   "cell_type": "markdown",
   "id": "99fb95fa",
   "metadata": {},
   "source": [
    "# Подготовка данных\n",
    "## Удаление неинформативных столбцов\n",
    "Столбцы с `id` неинформативны, обучать на них модель не нужно. Удалим их."
   ]
  },
  {
   "cell_type": "code",
   "execution_count": 161,
   "id": "6946405a",
   "metadata": {},
   "outputs": [],
   "source": [
    "df_0 = df_0.drop('id', axis=1)\n",
    "df_1 = df_1.drop('id', axis=1)\n",
    "df_2 = df_2.drop('id', axis=1)"
   ]
  },
  {
   "cell_type": "markdown",
   "id": "fb94ac93",
   "metadata": {},
   "source": [
    "## Выделение обучающей и валидационной выборки\n",
    "Разделим датасет на обучающую и валидационную выборки в соотношении 75 : 25. Укажем параметр `random_state=666` для обеспечения повторяемости результата."
   ]
  },
  {
   "cell_type": "code",
   "execution_count": 162,
   "id": "c5297015",
   "metadata": {},
   "outputs": [],
   "source": [
    "df_0_train, df_0_valid = train_test_split(df_0, test_size=0.25, random_state=666)\n",
    "df_1_train, df_1_valid = train_test_split(df_1, test_size=0.25, random_state=666)\n",
    "df_2_train, df_2_valid = train_test_split(df_2, test_size=0.25, random_state=666)"
   ]
  },
  {
   "cell_type": "markdown",
   "id": "6ba14562",
   "metadata": {},
   "source": [
    "## Определение целевого признака и других признаков\n",
    "Целевой признак - объем запасов в скважине (тыс. баррелей), он находится в колонке `product`. Выделим целевой и обучающие признаки для каждого датасета."
   ]
  },
  {
   "cell_type": "code",
   "execution_count": 163,
   "id": "0551a79b",
   "metadata": {},
   "outputs": [],
   "source": [
    "df_0_features_train = df_0_train.drop('product', axis=1)\n",
    "df_0_target_train = df_0_train['product']\n",
    "df_0_features_valid = df_0_valid.drop('product', axis=1)\n",
    "df_0_target_valid = df_0_valid['product']\n",
    "\n",
    "df_1_features_train = df_1_train.drop('product', axis=1)\n",
    "df_1_target_train = df_1_train['product']\n",
    "df_1_features_valid = df_1_valid.drop('product', axis=1)\n",
    "df_1_target_valid = df_1_valid['product']\n",
    "\n",
    "df_2_features_train = df_2_train.drop('product', axis=1)\n",
    "df_2_target_train = df_2_train['product']\n",
    "df_2_features_valid = df_2_valid.drop('product', axis=1)\n",
    "df_2_target_valid = df_2_valid['product']"
   ]
  },
  {
   "cell_type": "markdown",
   "id": "4f305a44",
   "metadata": {},
   "source": [
    "# Создание и обучение моделей\n",
    "Создадим и обучим модели линейной регрессии.\n",
    "\n",
    "RMSE нулевой и второй модели составляет 40.7% и 41.98% от среднего реального объема сырья. Это очень много. Однако линейная регрессия справилась немного лучше, чем \"модель\", которая всегда предсказывает среднее, продолжаем работать с ней.\n",
    "\n",
    "Намного удачней получилась модель по df_1, ее RMSE составил 0.89 против 46.11 у среднего. Но в первом регионе меньше средний реальный запас сырья."
   ]
  },
  {
   "cell_type": "code",
   "execution_count": 164,
   "id": "205bea9c",
   "metadata": {},
   "outputs": [],
   "source": [
    "def get_dummy_predictions(target_train, features_valid):\n",
    "    mean_value = target_train.mean()\n",
    "    predictions = pd.Series([mean_value] * len(features_valid))\n",
    "    return predictions"
   ]
  },
  {
   "cell_type": "code",
   "execution_count": 165,
   "id": "0248892b",
   "metadata": {},
   "outputs": [],
   "source": [
    "def teach_model(features_train, target_train, features_valid, target_valid):\n",
    "    model = LinearRegression()\n",
    "    model.fit(features_train, target_train)\n",
    "    predictions_valid = pd.Series(model.predict(features_valid))\n",
    "    \n",
    "    mean_predicted_product = predictions_valid.mean()\n",
    "    print(\"Средний предсказанный запас сырья:\", mean_predicted_product)\n",
    "    \n",
    "    mean_real_product = target_valid.mean()\n",
    "    print(\"Средний реальный запас сырья:\", mean_real_product)\n",
    "    \n",
    "    this_rmse = mean_squared_error(target_valid, predictions_valid) ** 0.5 \n",
    "    print(\"RMSE модели линейной регрессии на валидационной выборке:\", this_rmse)\n",
    "    \n",
    "    dummy_predictions = get_dummy_predictions(target_train, features_valid)\n",
    "    rmse_of_dummy_predictions = mean_squared_error(target_valid, dummy_predictions) ** 0.5\n",
    "    print(\"RMSE модели, предсказывающей среднее:\", rmse_of_dummy_predictions)\n",
    "    print()\n",
    "    return model, predictions_valid\n"
   ]
  },
  {
   "cell_type": "code",
   "execution_count": 166,
   "id": "6d28e3a9",
   "metadata": {},
   "outputs": [
    {
     "name": "stdout",
     "output_type": "stream",
     "text": [
      "Средний предсказанный запас сырья: 92.59883747361133\n",
      "Средний реальный запас сырья: 92.7335845019874\n",
      "RMSE модели линейной регрессии на валидационной выборке: 37.78852914975086\n",
      "RMSE модели, предсказывающей среднее: 44.34373355040947\n",
      "\n",
      "Средний предсказанный запас сырья: 69.119604542144\n",
      "Средний реальный запас сырья: 69.12651161786542\n",
      "RMSE модели линейной регрессии на валидационной выборке: 0.8899276270922475\n",
      "RMSE модели, предсказывающей среднее: 46.119134855081626\n",
      "\n",
      "Средний предсказанный запас сырья: 95.05831290258574\n",
      "Средний реальный запас сырья: 95.29994745917732\n",
      "RMSE модели линейной регрессии на валидационной выборке: 40.008583723061925\n",
      "RMSE модели, предсказывающей среднее: 44.54993257842992\n",
      "\n"
     ]
    }
   ],
   "source": [
    "model_0, df_0_predictions_valid = teach_model(\n",
    "    df_0_features_train, df_0_target_train, df_0_features_valid, df_0_target_valid)\n",
    "\n",
    "model_1, df_1_predictions_valid = teach_model(\n",
    "    df_1_features_train, df_1_target_train, df_1_features_valid, df_1_target_valid)\n",
    "\n",
    "model_2, df_2_predictions_valid = teach_model(\n",
    "    df_2_features_train, df_2_target_train, df_2_features_valid, df_2_target_valid)"
   ]
  },
  {
   "cell_type": "markdown",
   "id": "74be18b5",
   "metadata": {},
   "source": [
    "## Расчет прибыли, необходимой для безубыточной разработки\n",
    "Рассчитаем объем запасов сырья, необходмый для безубыточной разработки. \n",
    "\n",
    "Бюджет на разработку скважин в регионе — 10 млрд. рублей. При нынешних ценах один баррель сырья приносит 450 рублей дохода. В датафреймах доход с каждой единицы продукта составляет 450 тыс. рублей, поскольку объём указан в тысячах баррелей. Значения для расчётов сохраним в отдельных переменных.\n",
    "\n",
    "Если считать, что расходы на разработку всех скважин одинаковые, то средний достаточный объём сырья для безубыточной разработки новой скважины составляет 111.11 тысяч баррелей. Это значительно больше, чем доступный средний реальный запас сырья. На самом деле так, скорей всего, не бывает и бюджет определен для всего региона.\n",
    "\n",
    "Чтоб разработка не была убыточной, нужно, чтоб общий объем запасов сырья по 200 крупнейшим скважинам региона был не менее 22222.22 тысяч баррелей. Если хотя бы приблизительно верно выбрать скважины, то разработка окупится в любом регионе.\n",
    "\n",
    "> Объем запасов сырья по нулевому региону (топ 200): 36966.747929072015\n",
    "\n",
    "> Объем запасов сырья по первому региону (топ 200): 27589.081548181137\n",
    "\n",
    "> Объем запасов сырья по второму региону (топ 200): 37910.29539635329"
   ]
  },
  {
   "cell_type": "code",
   "execution_count": 167,
   "id": "44e22c23",
   "metadata": {},
   "outputs": [
    {
     "name": "stdout",
     "output_type": "stream",
     "text": [
      "Необходимый объем с одной скважины: 111.11111111111111\n",
      "Необходимый объем с региона: 22222.222222222223\n"
     ]
    }
   ],
   "source": [
    "TOTAL_BUDGET = 10_000_000 # тысяч рублей\n",
    "PRICE = 450 # тысяч рублей за тысячу баррелей\n",
    "WELLS_NUMBER = 200 # всего нужно разработать 200 скважин\n",
    "WELL_BUDGET = TOTAL_BUDGET / WELLS_NUMBER\n",
    "ONE_WELL_DEMANDED_VOLUME = WELL_BUDGET / PRICE\n",
    "TOTAL_DEMANDED_VOLUME = TOTAL_BUDGET / PRICE \n",
    "\n",
    "print(\"Необходимый объем с одной скважины:\", ONE_WELL_DEMANDED_VOLUME)\n",
    "print(\"Необходимый объем с региона:\", TOTAL_DEMANDED_VOLUME)"
   ]
  },
  {
   "cell_type": "code",
   "execution_count": 168,
   "id": "e91c9c54",
   "metadata": {},
   "outputs": [
    {
     "name": "stdout",
     "output_type": "stream",
     "text": [
      "Объем запасов сырья по нулевому региону (топ 200): 36966.747929072015\n",
      "Объем запасов сырья по первому региону (топ 200): 27589.081548181137\n",
      "Объем запасов сырья по второму региону (топ 200): 37910.29539635329\n"
     ]
    }
   ],
   "source": [
    "# передаем любой датафрейм, считаем объем сырья по 200 наиболее выгодным точкам\n",
    "def biggest_200_product(df):\n",
    "    biggest_200_product = df['product'].sort_values(ascending=False)[:WELLS_NUMBER].sum()\n",
    "    return biggest_200_product\n",
    "\n",
    "print(\"Объем запасов сырья по нулевому региону (топ 200):\", biggest_200_product(df_0))\n",
    "print(\"Объем запасов сырья по первому региону (топ 200):\", biggest_200_product(df_1))\n",
    "print(\"Объем запасов сырья по второму региону (топ 200):\", biggest_200_product(df_2))\n"
   ]
  },
  {
   "cell_type": "code",
   "execution_count": 169,
   "id": "217029dc",
   "metadata": {},
   "outputs": [
    {
     "name": "stdout",
     "output_type": "stream",
     "text": [
      "Объем запасов сырья по нулевому региону (топ 200): 19180.902377384202\n",
      "Объем запасов сырья по первому региону (топ 200): 12735.484948328225\n",
      "Объем запасов сырья по второму региону (топ 200): 18930.103303645927\n"
     ]
    }
   ],
   "source": [
    "def random_200_product(df):\n",
    "    random_200_product = df.sample(n=200, replace=False, random_state=666)['product'].sum()\n",
    "    return random_200_product\n",
    "    \n",
    "print(\"Объем запасов сырья по нулевому региону (топ 200):\", random_200_product(df_0))\n",
    "print(\"Объем запасов сырья по первому региону (топ 200):\", random_200_product(df_1))\n",
    "print(\"Объем запасов сырья по второму региону (топ 200):\", random_200_product(df_2))"
   ]
  },
  {
   "cell_type": "markdown",
   "id": "7a5a0750",
   "metadata": {},
   "source": [
    "## Расчёт прибыли по выбранным скважинам: факт и предсказания модели\n",
    "### Переиндексация\n",
    "Для удобства работы заменим индексы в объектах Series c предсказанным целевым признаком."
   ]
  },
  {
   "cell_type": "code",
   "execution_count": 170,
   "id": "fe3aa145",
   "metadata": {},
   "outputs": [],
   "source": [
    "# actually, I pass Series to the function\n",
    "def set_new_indices(df1, df2):\n",
    "    new = pd.DataFrame(df1)\n",
    "    new['new_index'] = list(df2.index)\n",
    "    new = new.set_index('new_index')\n",
    "    new.columns = ['product']\n",
    "    return new"
   ]
  },
  {
   "cell_type": "code",
   "execution_count": 171,
   "id": "ed1677c0",
   "metadata": {},
   "outputs": [],
   "source": [
    "df_0_predictions_valid = set_new_indices(df_0_predictions_valid, df_0_target_valid)\n",
    "df_1_predictions_valid = set_new_indices(df_1_predictions_valid, df_1_target_valid)\n",
    "df_2_predictions_valid = set_new_indices(df_2_predictions_valid, df_2_target_valid)"
   ]
  },
  {
   "cell_type": "markdown",
   "id": "1986c140",
   "metadata": {},
   "source": [
    "### Функция расчета прибыли по лучшим скважинам\n",
    "Напишем функцию расчета прибыли по лучшим скважинам. На вход она принимает целевой признак и соответствующие ему предсказания модели. \n",
    "\n",
    "Если выбрать скважины, по которым предсказан максимальный объем сырья, то разница между предсказанным и реальным суммарным объемом сырья по 200 лучшим скважинам составляет от 0.6 до 10.5 %. Причем модель завышает цифры, фактические значения меньше."
   ]
  },
  {
   "cell_type": "code",
   "execution_count": 172,
   "id": "6cdb562f",
   "metadata": {},
   "outputs": [],
   "source": [
    "def get_target_revenue(target, predictions):\n",
    "    top_200_predictions = predictions.sort_values(by='product', ascending=False)[:WELLS_NUMBER] \n",
    "    target_product_for_chosen_wells = target.loc[top_200_predictions.index].sum()\n",
    "    predicted_product_for_chosen_wells = top_200_predictions['product'].sum()\n",
    "    difference = (\n",
    "        (target_product_for_chosen_wells - predicted_product_for_chosen_wells) / \n",
    "        predicted_product_for_chosen_wells * 100)\n",
    "    print(\"Предсказанный объем:\", predicted_product_for_chosen_wells)\n",
    "    print(\"Реальный объем:\", target_product_for_chosen_wells)\n",
    "    print(\"Разница в % :\", difference)\n",
    "    target_revenue = target_product_for_chosen_wells * PRICE\n",
    "    print('Реальная выручка:', target_revenue)\n",
    "    return target_revenue"
   ]
  },
  {
   "cell_type": "code",
   "execution_count": 173,
   "id": "0fba3a1f",
   "metadata": {},
   "outputs": [
    {
     "name": "stdout",
     "output_type": "stream",
     "text": [
      "df_0:\n",
      "Предсказанный объем: 30958.987116501394\n",
      "Реальный объем: 29700.236213571203\n",
      "Разница в % : -4.065865908963366\n",
      "Реальная выручка: 13365106.29610704\n",
      "df_1:\n",
      "Предсказанный объем: 27744.859968916986\n",
      "Реальный объем: 27589.081548181137\n",
      "Разница в % : -0.5614676769332054\n",
      "Реальная выручка: 12415086.696681513\n",
      "df_2:\n",
      "Предсказанный объем: 29781.910929229674\n",
      "Реальный объем: 26668.42115931984\n",
      "Разница в % : -10.454298172163545\n",
      "Реальная выручка: 12000789.521693928\n"
     ]
    },
    {
     "data": {
      "text/plain": [
       "12000789.521693928"
      ]
     },
     "execution_count": 173,
     "metadata": {},
     "output_type": "execute_result"
    }
   ],
   "source": [
    "print('df_0:') \n",
    "get_target_revenue(df_0_target_valid, df_0_predictions_valid)\n",
    "\n",
    "print('df_1:') \n",
    "get_target_revenue(df_1_target_valid, df_1_predictions_valid)\n",
    "\n",
    "print('df_2:') \n",
    "get_target_revenue(df_2_target_valid, df_2_predictions_valid)\n"
   ]
  },
  {
   "cell_type": "markdown",
   "id": "37fcbdef",
   "metadata": {},
   "source": [
    "## Расчет рисков и прибыли для каждого региона методом Bootstrap\n",
    "### Функция для расчета прибыли техникой Bootstrap\n",
    "При разведке региона исследуют 500 точек, из которых с помощью машинного обучения выбирают 200 лучших для разработки. Это означает, что при промышленном использовании модели могут попасться 500 любых точек из известного региона, более выгодных или менее выгодных.\n",
    "\n",
    "Чтоб рассчитать возможные риски и прибыль для каждого региона, применим технику Bootstrap:\n",
    "\n",
    "создадим функцию `get_randomized_profits()`, а в ней создадим 1000 случайных выборок из 500 месторождений каждая; из 500 точек выберем 200 лучших и посчитаем реальную выручку от их разработки. \n",
    "\n",
    "Для функции `sample` укажем параметр `replace=True`, чтоб элементы попадали в выборку \"с возвращением\", т.е. совершенно случайно (если указать `replace=False`, то вероятности попадания элементов в выборку будет изменяться с каждым циклом).\n",
    "\n",
    "### Результаты\n",
    "\n",
    "Найдем среднюю прибыль, 95%-й доверительный интервал и риск убытков. Полученные данные такие:\n",
    "\n",
    "**Регион 0:**\n",
    "* Средняя прибыль: 432463.98931010463\n",
    "* Доверительный интервал 95% - от -79795.73523867916 до 933215.6988282925\n",
    "* Риск убытка: 4.1\n",
    "\n",
    "**Регион 1:**\n",
    "* Средняя прибыль: 485311.99327859236\n",
    "* Доверительный интервал 95% - от 78851.63360354537 до 871588.5070965604\n",
    "* Риск убытка: 1.2\n",
    "\n",
    "**Регион 2:**\n",
    "* Средняя прибыль: 356673.2211995138\n",
    "* Доверительный интервал 95% - от -163533.79410967336 до 859354.0850115806\n",
    "* Риск убытка: 7.8\n",
    "\n",
    "\n",
    "По условию задачи, после оценки рисков нужно оставить лишь те регионы, в которых вероятность убытков меньше 2,5 %, и среди них выбрать регион с наибольшей средней прибылью. \n",
    "\n",
    "Единственный регион, где риск убытков меньше 2,5 %, - это первый регион, риск убытков в нем составляет 1.2 %. Средняя прибыль по 200 крупнейшим скважинам из случайных 500 в нем тоже максимальная и составляет 485_311.99 тысяч рублей. В то же время средний объем сырья по всем скважинам региона (а значит и средняя прибыль по всем скважинам региона) в нем минимален и составляет 69.13 тысяч баррелей на одну скважину."
   ]
  },
  {
   "cell_type": "code",
   "execution_count": 174,
   "id": "adee9243",
   "metadata": {},
   "outputs": [],
   "source": [
    "def get_top_200_target_profit(target, predictions):\n",
    "    top_200_predictions = predictions.sort_values(by='product', ascending=False)[:WELLS_NUMBER] \n",
    "    target_product_for_chosen_wells = target.loc[top_200_predictions.index].sum()\n",
    "    target_profit = target_product_for_chosen_wells * PRICE - TOTAL_BUDGET\n",
    "    return target_profit"
   ]
  },
  {
   "cell_type": "code",
   "execution_count": 175,
   "id": "149e7c24",
   "metadata": {},
   "outputs": [],
   "source": [
    "# provide full predictions and full target for a region\n",
    "state = RandomState(666)\n",
    "def get_randomized_profits(target, predictions):\n",
    "    target_profits = [] # here we keep summed target profits for predicted top 200 wells\n",
    "    for i in range(1000):\n",
    "        predictions_subsample = predictions.sample(n=500, replace=True, random_state=state)\n",
    "        target_profit = get_top_200_target_profit(target, predictions_subsample)\n",
    "        target_profits.append(target_profit)\n",
    "    \n",
    "    return pd.DataFrame(target_profits)\n",
    "        \n",
    "    "
   ]
  },
  {
   "cell_type": "code",
   "execution_count": 176,
   "id": "68b2f01a",
   "metadata": {},
   "outputs": [],
   "source": [
    "df_0_random_real_profits = get_randomized_profits(df_0_target_valid, df_0_predictions_valid)\n",
    "df_1_random_real_profits = get_randomized_profits(df_1_target_valid, df_1_predictions_valid)\n",
    "df_2_random_real_profits = get_randomized_profits(df_2_target_valid, df_2_predictions_valid)"
   ]
  },
  {
   "cell_type": "code",
   "execution_count": 181,
   "id": "7e1da764",
   "metadata": {},
   "outputs": [],
   "source": [
    "def count_final_values(profits):\n",
    "    mean_profit = profits.mean()[0]\n",
    "    lower_0025 = float(profits.quantile(0.025))\n",
    "    upper_0025 = float(profits.quantile(0.975))\n",
    "    loss_probability = float(profits[profits[0] < 0].count() / len(profits))\n",
    "    print(\"Средняя прибыль:\", mean_profit)\n",
    "    print(\"Доверительный интервал 95% - от\", lower_0025, \"до\", upper_0025)\n",
    "    print(\"Риск убытка:\", loss_probability * 100)\n",
    "    return mean_profit, loss_probability, lower_0025, upper_0025"
   ]
  },
  {
   "cell_type": "code",
   "execution_count": 182,
   "id": "fae4e353",
   "metadata": {},
   "outputs": [
    {
     "name": "stdout",
     "output_type": "stream",
     "text": [
      "Регион 0:\n",
      "Средняя прибыль: 432463.98931010463\n",
      "Доверительный интервал 95% - от -79795.73523867916 до 933215.6988282925\n",
      "Риск убытка: 4.1000000000000005\n",
      "\n",
      "Регион 1:\n",
      "Средняя прибыль: 485311.99327859236\n",
      "Доверительный интервал 95% - от 78851.63360354537 до 871588.5070965604\n",
      "Риск убытка: 1.2\n",
      "\n",
      "Регион 2:\n",
      "Средняя прибыль: 357729.9431703274\n",
      "Доверительный интервал 95% - от -148545.54286148874 до 860627.8598465608\n",
      "Риск убытка: 7.8\n"
     ]
    }
   ],
   "source": [
    "print(\"Регион 0:\")\n",
    "df_0_mean_profit, df_0_loss_probability, df_0_lower_0025, df_0_upper_0025 = \\\n",
    "    count_final_values(df_0_random_real_profits)\n",
    "print()\n",
    "\n",
    "print(\"Регион 1:\")\n",
    "df_1_mean_profit, df_1_loss_probability, df_1_lower_0025, df_1_upper_0025 = \\\n",
    "    count_final_values(df_1_random_real_profits)\n",
    "print()\n",
    "\n",
    "print(\"Регион 2:\")\n",
    "df_2_mean_profit, df_2_loss_probability, df_2_lower_0025, df_2_upper_0025 = \\\n",
    "    count_final_values(df_2_random_real_profits)"
   ]
  },
  {
   "cell_type": "code",
   "execution_count": 183,
   "id": "01cefe68",
   "metadata": {},
   "outputs": [
    {
     "data": {
      "text/html": [
       "<div>\n",
       "<style scoped>\n",
       "    .dataframe tbody tr th:only-of-type {\n",
       "        vertical-align: middle;\n",
       "    }\n",
       "\n",
       "    .dataframe tbody tr th {\n",
       "        vertical-align: top;\n",
       "    }\n",
       "\n",
       "    .dataframe thead th {\n",
       "        text-align: right;\n",
       "    }\n",
       "</style>\n",
       "<table border=\"1\" class=\"dataframe\">\n",
       "  <thead>\n",
       "    <tr style=\"text-align: right;\">\n",
       "      <th></th>\n",
       "      <th>Регион</th>\n",
       "      <th>Средняя прибыль</th>\n",
       "      <th>Риск убытка, %</th>\n",
       "      <th>Доверительный интервал 95 %</th>\n",
       "    </tr>\n",
       "  </thead>\n",
       "  <tbody>\n",
       "    <tr>\n",
       "      <td>0</td>\n",
       "      <td>Нулевой регион</td>\n",
       "      <td>432,463.9893</td>\n",
       "      <td>4.1000</td>\n",
       "      <td>от  -79795.74  до  933215.7</td>\n",
       "    </tr>\n",
       "    <tr>\n",
       "      <td>1</td>\n",
       "      <td>Первый регион</td>\n",
       "      <td>485,311.9933</td>\n",
       "      <td>1.2000</td>\n",
       "      <td>от  78851.63  до  871588.51</td>\n",
       "    </tr>\n",
       "    <tr>\n",
       "      <td>2</td>\n",
       "      <td>Второй регион</td>\n",
       "      <td>357,729.9432</td>\n",
       "      <td>7.8000</td>\n",
       "      <td>от  -148545.54  до  860627.86</td>\n",
       "    </tr>\n",
       "  </tbody>\n",
       "</table>\n",
       "</div>"
      ],
      "text/plain": [
       "           Регион  Средняя прибыль  Риск убытка, %  \\\n",
       "0  Нулевой регион     432,463.9893          4.1000   \n",
       "1   Первый регион     485,311.9933          1.2000   \n",
       "2   Второй регион     357,729.9432          7.8000   \n",
       "\n",
       "     Доверительный интервал 95 %  \n",
       "0    от  -79795.74  до  933215.7  \n",
       "1    от  78851.63  до  871588.51  \n",
       "2  от  -148545.54  до  860627.86  "
      ]
     },
     "metadata": {},
     "output_type": "display_data"
    }
   ],
   "source": [
    "output_table = pd.DataFrame(\n",
    "    [[\"Нулевой регион\", \n",
    "      df_0_mean_profit, \n",
    "      df_0_loss_probability * 100, \n",
    "      \"от  \" + str(round(df_0_lower_0025,2)) + \"  до  \" + str(round(df_0_upper_0025, 2))],\n",
    "     \n",
    "     [\"Первый регион\", \n",
    "      df_1_mean_profit, \n",
    "      df_1_loss_probability * 100, \n",
    "      \"от  \" + str(round(df_1_lower_0025,2)) + \"  до  \" + str(round(df_1_upper_0025, 2))],\n",
    "     \n",
    "     [\"Второй регион\", \n",
    "      df_2_mean_profit, \n",
    "      df_2_loss_probability * 100, \n",
    "     \"от  \" + str(round(df_2_lower_0025,2)) + \"  до  \" + str(round(df_2_upper_0025, 2))]\n",
    "    ],columns=[\"Регион\", \"Средняя прибыль\", \"Риск убытка, %\", \"Доверительный интервал 95 %\"]\n",
    ")\n",
    "display(output_table)\n"
   ]
  },
  {
   "cell_type": "markdown",
   "id": "7a6b7e8d",
   "metadata": {},
   "source": [
    "## Вывод\n",
    "Для решения задачи выбора региона для разработки нефти на датасетах с данными о месторождениях были обучены модели линейной регрессии. \n",
    "\n",
    "Методом Bootstrap была смоделирована реальная ситуация, когда при разведке региона исследуется 500 точек, из которых с помощью обученной модели выбирается 200 лучших для разработки. Таким образом, была оценена предполагаемая прибыль и риск убытков при выборе 200 лучших точек из 500 случайных точек, принадлежащих региону.\n",
    "\n",
    "Полученные результаты представлены в таблице:"
   ]
  },
  {
   "cell_type": "code",
   "execution_count": 184,
   "id": "c0365d4b",
   "metadata": {},
   "outputs": [
    {
     "data": {
      "text/html": [
       "<div>\n",
       "<style scoped>\n",
       "    .dataframe tbody tr th:only-of-type {\n",
       "        vertical-align: middle;\n",
       "    }\n",
       "\n",
       "    .dataframe tbody tr th {\n",
       "        vertical-align: top;\n",
       "    }\n",
       "\n",
       "    .dataframe thead th {\n",
       "        text-align: right;\n",
       "    }\n",
       "</style>\n",
       "<table border=\"1\" class=\"dataframe\">\n",
       "  <thead>\n",
       "    <tr style=\"text-align: right;\">\n",
       "      <th></th>\n",
       "      <th>Регион</th>\n",
       "      <th>Средняя прибыль</th>\n",
       "      <th>Риск убытка, %</th>\n",
       "      <th>Доверительный интервал 95 %</th>\n",
       "    </tr>\n",
       "  </thead>\n",
       "  <tbody>\n",
       "    <tr>\n",
       "      <td>0</td>\n",
       "      <td>Нулевой регион</td>\n",
       "      <td>432,463.9893</td>\n",
       "      <td>4.1000</td>\n",
       "      <td>от  -79795.74  до  933215.7</td>\n",
       "    </tr>\n",
       "    <tr>\n",
       "      <td>1</td>\n",
       "      <td>Первый регион</td>\n",
       "      <td>485,311.9933</td>\n",
       "      <td>1.2000</td>\n",
       "      <td>от  78851.63  до  871588.51</td>\n",
       "    </tr>\n",
       "    <tr>\n",
       "      <td>2</td>\n",
       "      <td>Второй регион</td>\n",
       "      <td>357,729.9432</td>\n",
       "      <td>7.8000</td>\n",
       "      <td>от  -148545.54  до  860627.86</td>\n",
       "    </tr>\n",
       "  </tbody>\n",
       "</table>\n",
       "</div>"
      ],
      "text/plain": [
       "           Регион  Средняя прибыль  Риск убытка, %  \\\n",
       "0  Нулевой регион     432,463.9893          4.1000   \n",
       "1   Первый регион     485,311.9933          1.2000   \n",
       "2   Второй регион     357,729.9432          7.8000   \n",
       "\n",
       "     Доверительный интервал 95 %  \n",
       "0    от  -79795.74  до  933215.7  \n",
       "1    от  78851.63  до  871588.51  \n",
       "2  от  -148545.54  до  860627.86  "
      ]
     },
     "execution_count": 184,
     "metadata": {},
     "output_type": "execute_result"
    }
   ],
   "source": [
    "output_table"
   ]
  },
  {
   "cell_type": "markdown",
   "id": "3bd9ee12",
   "metadata": {},
   "source": [
    "По условию задачи, после оценки рисков нужно оставить лишь те регионы, в которых вероятность убытков меньше 2,5 %, и среди них выбрать регион с наибольшей средней прибылью. \n",
    "\n",
    "Единственный регион, где риск убытков меньше 2,5 %, - это первый регион, риск убытков в нем составляет 1,2 %. Средняя прибыль по 200 крупнейшим скважинам из случайных 500 в нем тоже максимальная и составляет 485_311.99 тысяч рублей. \n",
    "\n",
    "Модель, обученная по данным первого региона, наиболее точная из всех трех, она показывает наименьшую RMSE на валидационной выборке: \n",
    "\n",
    "> RMSE модели линейной регрессии на валидационной выборке: 0.8899276270922485\n",
    "\n",
    "> RMSE модели, предсказывающей среднее: 46.119134855081626\n",
    "\n",
    "Это значит, что предсказания по этому региону наиболее точны, что снижает риск убытков.\n",
    "\n",
    "В то же время средний объем сырья по всем скважинам региона (а значит и средняя прибыль по всем скважинам региона) в нем минимален и составляет 69.13 тысяч баррелей на скважину. Минимален также и общий запас сырья крупнейших 200 скважин региона - он составляет 27_589.08 тысяч баррелей.\n",
    "\n",
    "К разработке рекомендован первый регион как единственный подходящий под формулировку задачи. "
   ]
  }
 ],
 "metadata": {
  "ExecuteTimeLog": [
   {
    "duration": 98,
    "start_time": "2022-02-14T08:46:33.981Z"
   },
   {
    "duration": 6,
    "start_time": "2022-02-14T08:49:14.269Z"
   },
   {
    "duration": 1344,
    "start_time": "2022-02-14T08:49:19.990Z"
   },
   {
    "duration": 1224,
    "start_time": "2022-02-14T08:49:21.337Z"
   },
   {
    "duration": 37,
    "start_time": "2022-02-14T08:49:22.564Z"
   },
   {
    "duration": 5,
    "start_time": "2022-02-14T08:49:22.604Z"
   },
   {
    "duration": 33,
    "start_time": "2022-02-14T08:49:22.632Z"
   },
   {
    "duration": 25,
    "start_time": "2022-02-14T08:49:22.667Z"
   },
   {
    "duration": 49,
    "start_time": "2022-02-14T08:49:22.694Z"
   },
   {
    "duration": 39,
    "start_time": "2022-02-14T08:49:22.747Z"
   },
   {
    "duration": 18,
    "start_time": "2022-02-14T08:49:22.788Z"
   },
   {
    "duration": 25,
    "start_time": "2022-02-14T08:49:22.809Z"
   },
   {
    "duration": 11,
    "start_time": "2022-02-14T08:49:22.836Z"
   },
   {
    "duration": 390,
    "start_time": "2022-02-14T08:49:22.849Z"
   },
   {
    "duration": 6,
    "start_time": "2022-02-14T08:49:25.939Z"
   },
   {
    "duration": 4,
    "start_time": "2022-02-14T08:50:49.940Z"
   },
   {
    "duration": 6,
    "start_time": "2022-02-14T08:51:33.029Z"
   },
   {
    "duration": 7,
    "start_time": "2022-02-14T08:52:37.575Z"
   },
   {
    "duration": 84,
    "start_time": "2022-02-14T08:55:50.388Z"
   },
   {
    "duration": 4,
    "start_time": "2022-02-14T09:02:27.478Z"
   },
   {
    "duration": 511,
    "start_time": "2022-02-14T09:02:46.691Z"
   },
   {
    "duration": 11,
    "start_time": "2022-02-14T09:03:02.785Z"
   },
   {
    "duration": 10,
    "start_time": "2022-02-14T09:04:09.688Z"
   },
   {
    "duration": 20,
    "start_time": "2022-02-14T09:04:36.625Z"
   },
   {
    "duration": 83,
    "start_time": "2022-02-14T09:05:26.703Z"
   },
   {
    "duration": 4,
    "start_time": "2022-02-14T09:17:06.280Z"
   },
   {
    "duration": 104,
    "start_time": "2022-02-14T09:17:38.484Z"
   },
   {
    "duration": 239,
    "start_time": "2022-02-14T09:22:24.437Z"
   },
   {
    "duration": 7,
    "start_time": "2022-02-14T09:22:27.926Z"
   },
   {
    "duration": 516,
    "start_time": "2022-02-14T09:22:29.545Z"
   },
   {
    "duration": 5,
    "start_time": "2022-02-14T09:23:00.006Z"
   },
   {
    "duration": 454,
    "start_time": "2022-02-14T09:23:00.034Z"
   },
   {
    "duration": 41,
    "start_time": "2022-02-14T09:23:00.491Z"
   },
   {
    "duration": 6,
    "start_time": "2022-02-14T09:23:00.535Z"
   },
   {
    "duration": 49,
    "start_time": "2022-02-14T09:23:00.544Z"
   },
   {
    "duration": 39,
    "start_time": "2022-02-14T09:23:00.596Z"
   },
   {
    "duration": 18,
    "start_time": "2022-02-14T09:23:00.637Z"
   },
   {
    "duration": 54,
    "start_time": "2022-02-14T09:23:00.657Z"
   },
   {
    "duration": 20,
    "start_time": "2022-02-14T09:23:00.715Z"
   },
   {
    "duration": 18,
    "start_time": "2022-02-14T09:23:00.738Z"
   },
   {
    "duration": 8,
    "start_time": "2022-02-14T09:23:00.759Z"
   },
   {
    "duration": 467,
    "start_time": "2022-02-14T09:23:00.769Z"
   },
   {
    "duration": 96,
    "start_time": "2022-02-14T09:23:01.240Z"
   },
   {
    "duration": 65,
    "start_time": "2022-02-14T09:23:01.338Z"
   },
   {
    "duration": 33,
    "start_time": "2022-02-14T09:23:01.405Z"
   },
   {
    "duration": 20,
    "start_time": "2022-02-14T09:23:01.441Z"
   },
   {
    "duration": 50,
    "start_time": "2022-02-14T09:23:01.463Z"
   },
   {
    "duration": 6,
    "start_time": "2022-02-14T09:23:10.048Z"
   },
   {
    "duration": 37,
    "start_time": "2022-02-14T09:23:12.328Z"
   },
   {
    "duration": 110,
    "start_time": "2022-02-14T09:24:31.815Z"
   },
   {
    "duration": 5,
    "start_time": "2022-02-14T09:24:57.720Z"
   },
   {
    "duration": 5,
    "start_time": "2022-02-14T09:25:01.979Z"
   },
   {
    "duration": 5193,
    "start_time": "2022-02-14T09:25:05.033Z"
   },
   {
    "duration": 5,
    "start_time": "2022-02-14T09:25:19.074Z"
   },
   {
    "duration": 24,
    "start_time": "2022-02-14T09:25:24.635Z"
   },
   {
    "duration": 4,
    "start_time": "2022-02-14T09:28:05.948Z"
   },
   {
    "duration": 5313,
    "start_time": "2022-02-14T09:29:31.313Z"
   },
   {
    "duration": 6,
    "start_time": "2022-02-14T09:32:36.218Z"
   },
   {
    "duration": 30,
    "start_time": "2022-02-14T09:32:38.468Z"
   },
   {
    "duration": 16,
    "start_time": "2022-02-14T09:33:07.202Z"
   },
   {
    "duration": 8,
    "start_time": "2022-02-14T09:34:09.090Z"
   },
   {
    "duration": 4786,
    "start_time": "2022-02-14T09:34:32.472Z"
   },
   {
    "duration": 4910,
    "start_time": "2022-02-14T09:34:42.969Z"
   },
   {
    "duration": 4,
    "start_time": "2022-02-14T09:35:03.805Z"
   },
   {
    "duration": 6,
    "start_time": "2022-02-14T09:35:26.678Z"
   },
   {
    "duration": 4897,
    "start_time": "2022-02-14T09:37:07.741Z"
   },
   {
    "duration": 7,
    "start_time": "2022-02-14T09:37:18.779Z"
   },
   {
    "duration": 8,
    "start_time": "2022-02-14T09:38:22.659Z"
   },
   {
    "duration": 8,
    "start_time": "2022-02-14T09:38:32.081Z"
   },
   {
    "duration": 8,
    "start_time": "2022-02-14T09:39:09.006Z"
   },
   {
    "duration": 6,
    "start_time": "2022-02-14T09:39:49.402Z"
   },
   {
    "duration": 27,
    "start_time": "2022-02-14T09:39:51.934Z"
   },
   {
    "duration": 6,
    "start_time": "2022-02-14T09:40:37.939Z"
   },
   {
    "duration": 5,
    "start_time": "2022-02-14T09:40:45.819Z"
   },
   {
    "duration": 78,
    "start_time": "2022-02-14T09:42:12.951Z"
   },
   {
    "duration": 27,
    "start_time": "2022-02-14T09:42:57.652Z"
   },
   {
    "duration": 27,
    "start_time": "2022-02-14T09:43:12.595Z"
   },
   {
    "duration": 6,
    "start_time": "2022-02-14T09:44:01.332Z"
   },
   {
    "duration": 23,
    "start_time": "2022-02-14T09:44:03.191Z"
   },
   {
    "duration": 14,
    "start_time": "2022-02-14T09:44:10.646Z"
   },
   {
    "duration": 25,
    "start_time": "2022-02-14T09:49:00.516Z"
   },
   {
    "duration": 13,
    "start_time": "2022-02-14T09:49:11.533Z"
   },
   {
    "duration": 91,
    "start_time": "2022-02-14T09:49:35.173Z"
   },
   {
    "duration": 10,
    "start_time": "2022-02-14T09:49:44.104Z"
   },
   {
    "duration": 82,
    "start_time": "2022-02-14T09:52:59.528Z"
   },
   {
    "duration": 5,
    "start_time": "2022-02-14T09:54:43.569Z"
   },
   {
    "duration": 499,
    "start_time": "2022-02-14T09:54:43.577Z"
   },
   {
    "duration": 26,
    "start_time": "2022-02-14T09:54:44.079Z"
   },
   {
    "duration": 24,
    "start_time": "2022-02-14T09:54:44.108Z"
   },
   {
    "duration": 33,
    "start_time": "2022-02-14T09:54:44.135Z"
   },
   {
    "duration": 25,
    "start_time": "2022-02-14T09:54:44.171Z"
   },
   {
    "duration": 42,
    "start_time": "2022-02-14T09:54:44.199Z"
   },
   {
    "duration": 46,
    "start_time": "2022-02-14T09:54:44.245Z"
   },
   {
    "duration": 16,
    "start_time": "2022-02-14T09:54:44.294Z"
   },
   {
    "duration": 22,
    "start_time": "2022-02-14T09:54:44.312Z"
   },
   {
    "duration": 14,
    "start_time": "2022-02-14T09:54:44.336Z"
   },
   {
    "duration": 390,
    "start_time": "2022-02-14T09:54:44.352Z"
   },
   {
    "duration": 6,
    "start_time": "2022-02-14T09:54:44.833Z"
   },
   {
    "duration": 52,
    "start_time": "2022-02-14T09:54:44.841Z"
   },
   {
    "duration": 44,
    "start_time": "2022-02-14T09:54:44.895Z"
   },
   {
    "duration": 5,
    "start_time": "2022-02-14T09:54:44.942Z"
   },
   {
    "duration": 40,
    "start_time": "2022-02-14T09:54:44.950Z"
   },
   {
    "duration": 7,
    "start_time": "2022-02-14T09:54:44.992Z"
   },
   {
    "duration": 31,
    "start_time": "2022-02-14T09:54:45.032Z"
   },
   {
    "duration": 5,
    "start_time": "2022-02-14T09:54:45.066Z"
   },
   {
    "duration": 9,
    "start_time": "2022-02-14T09:54:45.074Z"
   },
   {
    "duration": 2045,
    "start_time": "2022-02-14T09:54:45.085Z"
   },
   {
    "duration": -33,
    "start_time": "2022-02-14T09:54:47.167Z"
   },
   {
    "duration": -49,
    "start_time": "2022-02-14T09:54:47.185Z"
   },
   {
    "duration": -53,
    "start_time": "2022-02-14T09:54:47.191Z"
   },
   {
    "duration": -56,
    "start_time": "2022-02-14T09:54:47.197Z"
   },
   {
    "duration": 12,
    "start_time": "2022-02-14T09:55:36.002Z"
   },
   {
    "duration": 5267,
    "start_time": "2022-02-14T09:55:47.535Z"
   },
   {
    "duration": 6,
    "start_time": "2022-02-14T09:55:55.240Z"
   },
   {
    "duration": 26,
    "start_time": "2022-02-14T09:56:00.516Z"
   },
   {
    "duration": 14,
    "start_time": "2022-02-14T09:56:02.775Z"
   },
   {
    "duration": 6,
    "start_time": "2022-02-14T09:57:19.682Z"
   },
   {
    "duration": 5,
    "start_time": "2022-02-14T09:57:28.896Z"
   },
   {
    "duration": 443,
    "start_time": "2022-02-14T09:57:28.903Z"
   },
   {
    "duration": 24,
    "start_time": "2022-02-14T09:57:29.349Z"
   },
   {
    "duration": 4,
    "start_time": "2022-02-14T09:57:29.376Z"
   },
   {
    "duration": 64,
    "start_time": "2022-02-14T09:57:29.382Z"
   },
   {
    "duration": 26,
    "start_time": "2022-02-14T09:57:29.448Z"
   },
   {
    "duration": 17,
    "start_time": "2022-02-14T09:57:29.476Z"
   },
   {
    "duration": 62,
    "start_time": "2022-02-14T09:57:29.496Z"
   },
   {
    "duration": 17,
    "start_time": "2022-02-14T09:57:29.564Z"
   },
   {
    "duration": 5,
    "start_time": "2022-02-14T09:57:29.585Z"
   },
   {
    "duration": 8,
    "start_time": "2022-02-14T09:57:29.592Z"
   },
   {
    "duration": 503,
    "start_time": "2022-02-14T09:57:29.634Z"
   },
   {
    "duration": -61,
    "start_time": "2022-02-14T09:57:30.200Z"
   },
   {
    "duration": -66,
    "start_time": "2022-02-14T09:57:30.206Z"
   },
   {
    "duration": -69,
    "start_time": "2022-02-14T09:57:30.211Z"
   },
   {
    "duration": -73,
    "start_time": "2022-02-14T09:57:30.216Z"
   },
   {
    "duration": -77,
    "start_time": "2022-02-14T09:57:30.221Z"
   },
   {
    "duration": -78,
    "start_time": "2022-02-14T09:57:30.224Z"
   },
   {
    "duration": -80,
    "start_time": "2022-02-14T09:57:30.228Z"
   },
   {
    "duration": -81,
    "start_time": "2022-02-14T09:57:30.232Z"
   },
   {
    "duration": -82,
    "start_time": "2022-02-14T09:57:30.234Z"
   },
   {
    "duration": -84,
    "start_time": "2022-02-14T09:57:30.238Z"
   },
   {
    "duration": -94,
    "start_time": "2022-02-14T09:57:30.249Z"
   },
   {
    "duration": -98,
    "start_time": "2022-02-14T09:57:30.254Z"
   },
   {
    "duration": -100,
    "start_time": "2022-02-14T09:57:30.258Z"
   },
   {
    "duration": -104,
    "start_time": "2022-02-14T09:57:30.263Z"
   },
   {
    "duration": 7,
    "start_time": "2022-02-14T09:59:07.193Z"
   },
   {
    "duration": 234,
    "start_time": "2022-02-14T09:59:11.499Z"
   },
   {
    "duration": 6,
    "start_time": "2022-02-14T09:59:39.076Z"
   },
   {
    "duration": 434,
    "start_time": "2022-02-14T09:59:39.084Z"
   },
   {
    "duration": 33,
    "start_time": "2022-02-14T09:59:39.521Z"
   },
   {
    "duration": 6,
    "start_time": "2022-02-14T09:59:39.557Z"
   },
   {
    "duration": 42,
    "start_time": "2022-02-14T09:59:39.565Z"
   },
   {
    "duration": 45,
    "start_time": "2022-02-14T09:59:39.609Z"
   },
   {
    "duration": 17,
    "start_time": "2022-02-14T09:59:39.657Z"
   },
   {
    "duration": 60,
    "start_time": "2022-02-14T09:59:39.677Z"
   },
   {
    "duration": 15,
    "start_time": "2022-02-14T09:59:39.744Z"
   },
   {
    "duration": 13,
    "start_time": "2022-02-14T09:59:39.762Z"
   },
   {
    "duration": 9,
    "start_time": "2022-02-14T09:59:39.777Z"
   },
   {
    "duration": 346,
    "start_time": "2022-02-14T09:59:39.788Z"
   },
   {
    "duration": 98,
    "start_time": "2022-02-14T09:59:40.138Z"
   },
   {
    "duration": 51,
    "start_time": "2022-02-14T09:59:40.239Z"
   },
   {
    "duration": 49,
    "start_time": "2022-02-14T09:59:40.292Z"
   },
   {
    "duration": 4,
    "start_time": "2022-02-14T09:59:40.344Z"
   },
   {
    "duration": 39,
    "start_time": "2022-02-14T09:59:40.351Z"
   },
   {
    "duration": 5,
    "start_time": "2022-02-14T09:59:40.392Z"
   },
   {
    "duration": 58,
    "start_time": "2022-02-14T09:59:40.400Z"
   },
   {
    "duration": 4,
    "start_time": "2022-02-14T09:59:40.461Z"
   },
   {
    "duration": 8,
    "start_time": "2022-02-14T09:59:40.467Z"
   },
   {
    "duration": 5419,
    "start_time": "2022-02-14T09:59:40.477Z"
   },
   {
    "duration": 5,
    "start_time": "2022-02-14T09:59:45.899Z"
   },
   {
    "duration": 34,
    "start_time": "2022-02-14T09:59:45.907Z"
   },
   {
    "duration": 16,
    "start_time": "2022-02-14T09:59:45.943Z"
   },
   {
    "duration": 16,
    "start_time": "2022-02-14T09:59:45.961Z"
   },
   {
    "duration": 5,
    "start_time": "2022-02-14T09:59:58.464Z"
   },
   {
    "duration": 450,
    "start_time": "2022-02-14T09:59:58.472Z"
   },
   {
    "duration": 30,
    "start_time": "2022-02-14T09:59:58.925Z"
   },
   {
    "duration": 5,
    "start_time": "2022-02-14T09:59:58.957Z"
   },
   {
    "duration": 39,
    "start_time": "2022-02-14T09:59:58.964Z"
   },
   {
    "duration": 27,
    "start_time": "2022-02-14T09:59:59.033Z"
   },
   {
    "duration": 17,
    "start_time": "2022-02-14T09:59:59.063Z"
   },
   {
    "duration": 59,
    "start_time": "2022-02-14T09:59:59.083Z"
   },
   {
    "duration": 16,
    "start_time": "2022-02-14T09:59:59.146Z"
   },
   {
    "duration": 8,
    "start_time": "2022-02-14T09:59:59.166Z"
   },
   {
    "duration": 15,
    "start_time": "2022-02-14T09:59:59.176Z"
   },
   {
    "duration": 446,
    "start_time": "2022-02-14T09:59:59.193Z"
   },
   {
    "duration": 92,
    "start_time": "2022-02-14T09:59:59.642Z"
   },
   {
    "duration": 52,
    "start_time": "2022-02-14T09:59:59.737Z"
   },
   {
    "duration": 42,
    "start_time": "2022-02-14T09:59:59.791Z"
   },
   {
    "duration": 7,
    "start_time": "2022-02-14T09:59:59.836Z"
   },
   {
    "duration": 44,
    "start_time": "2022-02-14T09:59:59.845Z"
   },
   {
    "duration": 5,
    "start_time": "2022-02-14T09:59:59.892Z"
   },
   {
    "duration": 53,
    "start_time": "2022-02-14T09:59:59.899Z"
   },
   {
    "duration": 4,
    "start_time": "2022-02-14T09:59:59.954Z"
   },
   {
    "duration": 17,
    "start_time": "2022-02-14T09:59:59.960Z"
   },
   {
    "duration": 5329,
    "start_time": "2022-02-14T09:59:59.979Z"
   },
   {
    "duration": 5,
    "start_time": "2022-02-14T10:00:05.310Z"
   },
   {
    "duration": 38,
    "start_time": "2022-02-14T10:00:05.318Z"
   },
   {
    "duration": 14,
    "start_time": "2022-02-14T10:00:05.358Z"
   },
   {
    "duration": 16,
    "start_time": "2022-02-14T10:00:05.374Z"
   },
   {
    "duration": 6,
    "start_time": "2022-02-14T10:05:47.192Z"
   },
   {
    "duration": 28,
    "start_time": "2022-02-14T10:05:49.448Z"
   },
   {
    "duration": 14,
    "start_time": "2022-02-14T10:05:56.640Z"
   },
   {
    "duration": 13,
    "start_time": "2022-02-14T10:06:04.701Z"
   }
  ],
  "kernelspec": {
   "display_name": "Python 3 (ipykernel)",
   "language": "python",
   "name": "python3"
  },
  "language_info": {
   "codemirror_mode": {
    "name": "ipython",
    "version": 3
   },
   "file_extension": ".py",
   "mimetype": "text/x-python",
   "name": "python",
   "nbconvert_exporter": "python",
   "pygments_lexer": "ipython3",
   "version": "3.8.10"
  },
  "toc": {
   "base_numbering": 1,
   "nav_menu": {},
   "number_sections": true,
   "sideBar": true,
   "skip_h1_title": true,
   "title_cell": "Table of Contents",
   "title_sidebar": "Contents",
   "toc_cell": false,
   "toc_position": {},
   "toc_section_display": true,
   "toc_window_display": false
  }
 },
 "nbformat": 4,
 "nbformat_minor": 5
}
