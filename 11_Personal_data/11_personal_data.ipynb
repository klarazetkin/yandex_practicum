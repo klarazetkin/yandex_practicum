{
 "cells": [
  {
   "cell_type": "markdown",
   "id": "8548e3f6",
   "metadata": {},
   "source": [
    "# Защита персональных данных клиентов\n",
    "## Постановка задачи\n",
    "Необходимо защитить данные клиентов страховой компании «Хоть потоп». Нужно разработать такой метод преобразования данных, чтобы по ним было сложно восстановить персональную информацию. После этого нужно обосновать корректность его работы и проверить на практике.\n",
    "\n",
    "Нужно защитить данные так, чтобы при преобразовании качество моделей машинного обучения не ухудшилось. "
   ]
  },
  {
   "cell_type": "markdown",
   "id": "43a6686e",
   "metadata": {},
   "source": [
    "## Импорт библиотек"
   ]
  },
  {
   "cell_type": "code",
   "execution_count": 344,
   "id": "3bacf9fc",
   "metadata": {},
   "outputs": [],
   "source": [
    "from pathlib import Path\n",
    "\n",
    "import pandas as pd\n",
    "pd.set_option('display.float_format', '{:,.4f}'.format)\n",
    "\n",
    "import matplotlib.pyplot as plt\n",
    "import seaborn as sns\n",
    "from scipy import stats\n",
    "\n",
    "import numpy as np\n",
    "from sklearn.model_selection import train_test_split \n",
    "from sklearn.metrics import r2_score\n",
    "from sklearn.linear_model import LinearRegression"
   ]
  },
  {
   "cell_type": "markdown",
   "id": "5248e7a9",
   "metadata": {},
   "source": [
    "## Загрузка и первичное исследование данных\n",
    "### Загрузка данных\n",
    "Загрузим датасет с данными клиентов компании и ознакомимся с данными. Датасет содержит 5 тысяч строк. Пропусков нет. \n",
    "\n",
    "Обучающие признаки: \n",
    "* пол, \n",
    "* возраст, \n",
    "* зарплата застрахованного, \n",
    "* количество членов его семьи.\n",
    "\n",
    "Целевой признак: \n",
    "* количество страховых выплат клиенту за последние 5 лет.\n",
    "\n",
    "Страховыми выплатами пользуется порядка 7.04% клиентов. \n",
    "\n",
    "Данные пригодны для дальнейшего исследования."
   ]
  },
  {
   "cell_type": "code",
   "execution_count": 345,
   "id": "5af28a9b",
   "metadata": {},
   "outputs": [],
   "source": [
    "my_path = Path('/home/klarazetkin/Documents/yandex/module_4/project_1')\n",
    "file_name = str(my_path) + '/' + 'insurance.csv'\n",
    "if my_path.is_dir():\n",
    "    df = pd.read_csv(file_name)\n",
    "else:\n",
    "    df = pd.read_csv('/datasets/insurance.csv')"
   ]
  },
  {
   "cell_type": "markdown",
   "id": "5f9a2e98",
   "metadata": {},
   "source": [
    "### Первичное исследование данных\n",
    "#### Структура и диапазон значений"
   ]
  },
  {
   "cell_type": "code",
   "execution_count": 346,
   "id": "12172af8",
   "metadata": {
    "scrolled": true
   },
   "outputs": [
    {
     "data": {
      "text/html": [
       "<div>\n",
       "<style scoped>\n",
       "    .dataframe tbody tr th:only-of-type {\n",
       "        vertical-align: middle;\n",
       "    }\n",
       "\n",
       "    .dataframe tbody tr th {\n",
       "        vertical-align: top;\n",
       "    }\n",
       "\n",
       "    .dataframe thead th {\n",
       "        text-align: right;\n",
       "    }\n",
       "</style>\n",
       "<table border=\"1\" class=\"dataframe\">\n",
       "  <thead>\n",
       "    <tr style=\"text-align: right;\">\n",
       "      <th></th>\n",
       "      <th>Пол</th>\n",
       "      <th>Возраст</th>\n",
       "      <th>Зарплата</th>\n",
       "      <th>Члены семьи</th>\n",
       "      <th>Страховые выплаты</th>\n",
       "    </tr>\n",
       "  </thead>\n",
       "  <tbody>\n",
       "    <tr>\n",
       "      <th>0</th>\n",
       "      <td>1</td>\n",
       "      <td>41.0000</td>\n",
       "      <td>49,600.0000</td>\n",
       "      <td>1</td>\n",
       "      <td>0</td>\n",
       "    </tr>\n",
       "    <tr>\n",
       "      <th>1</th>\n",
       "      <td>0</td>\n",
       "      <td>46.0000</td>\n",
       "      <td>38,000.0000</td>\n",
       "      <td>1</td>\n",
       "      <td>1</td>\n",
       "    </tr>\n",
       "    <tr>\n",
       "      <th>2</th>\n",
       "      <td>0</td>\n",
       "      <td>29.0000</td>\n",
       "      <td>21,000.0000</td>\n",
       "      <td>0</td>\n",
       "      <td>0</td>\n",
       "    </tr>\n",
       "    <tr>\n",
       "      <th>3</th>\n",
       "      <td>0</td>\n",
       "      <td>21.0000</td>\n",
       "      <td>41,700.0000</td>\n",
       "      <td>2</td>\n",
       "      <td>0</td>\n",
       "    </tr>\n",
       "    <tr>\n",
       "      <th>4</th>\n",
       "      <td>1</td>\n",
       "      <td>28.0000</td>\n",
       "      <td>26,100.0000</td>\n",
       "      <td>0</td>\n",
       "      <td>0</td>\n",
       "    </tr>\n",
       "  </tbody>\n",
       "</table>\n",
       "</div>"
      ],
      "text/plain": [
       "   Пол  Возраст    Зарплата  Члены семьи  Страховые выплаты\n",
       "0    1  41.0000 49,600.0000            1                  0\n",
       "1    0  46.0000 38,000.0000            1                  1\n",
       "2    0  29.0000 21,000.0000            0                  0\n",
       "3    0  21.0000 41,700.0000            2                  0\n",
       "4    1  28.0000 26,100.0000            0                  0"
      ]
     },
     "execution_count": 346,
     "metadata": {},
     "output_type": "execute_result"
    }
   ],
   "source": [
    "df.head()"
   ]
  },
  {
   "cell_type": "code",
   "execution_count": 347,
   "id": "a85f6b4e",
   "metadata": {},
   "outputs": [
    {
     "data": {
      "text/html": [
       "<div>\n",
       "<style scoped>\n",
       "    .dataframe tbody tr th:only-of-type {\n",
       "        vertical-align: middle;\n",
       "    }\n",
       "\n",
       "    .dataframe tbody tr th {\n",
       "        vertical-align: top;\n",
       "    }\n",
       "\n",
       "    .dataframe thead th {\n",
       "        text-align: right;\n",
       "    }\n",
       "</style>\n",
       "<table border=\"1\" class=\"dataframe\">\n",
       "  <thead>\n",
       "    <tr style=\"text-align: right;\">\n",
       "      <th></th>\n",
       "      <th>Пол</th>\n",
       "      <th>Возраст</th>\n",
       "      <th>Зарплата</th>\n",
       "      <th>Члены семьи</th>\n",
       "      <th>Страховые выплаты</th>\n",
       "    </tr>\n",
       "  </thead>\n",
       "  <tbody>\n",
       "    <tr>\n",
       "      <th>count</th>\n",
       "      <td>5,000.0000</td>\n",
       "      <td>5,000.0000</td>\n",
       "      <td>5,000.0000</td>\n",
       "      <td>5,000.0000</td>\n",
       "      <td>5,000.0000</td>\n",
       "    </tr>\n",
       "    <tr>\n",
       "      <th>mean</th>\n",
       "      <td>0.4990</td>\n",
       "      <td>30.9528</td>\n",
       "      <td>39,916.3600</td>\n",
       "      <td>1.1942</td>\n",
       "      <td>0.1480</td>\n",
       "    </tr>\n",
       "    <tr>\n",
       "      <th>std</th>\n",
       "      <td>0.5000</td>\n",
       "      <td>8.4408</td>\n",
       "      <td>9,900.0836</td>\n",
       "      <td>1.0914</td>\n",
       "      <td>0.4632</td>\n",
       "    </tr>\n",
       "    <tr>\n",
       "      <th>min</th>\n",
       "      <td>0.0000</td>\n",
       "      <td>18.0000</td>\n",
       "      <td>5,300.0000</td>\n",
       "      <td>0.0000</td>\n",
       "      <td>0.0000</td>\n",
       "    </tr>\n",
       "    <tr>\n",
       "      <th>25%</th>\n",
       "      <td>0.0000</td>\n",
       "      <td>24.0000</td>\n",
       "      <td>33,300.0000</td>\n",
       "      <td>0.0000</td>\n",
       "      <td>0.0000</td>\n",
       "    </tr>\n",
       "    <tr>\n",
       "      <th>50%</th>\n",
       "      <td>0.0000</td>\n",
       "      <td>30.0000</td>\n",
       "      <td>40,200.0000</td>\n",
       "      <td>1.0000</td>\n",
       "      <td>0.0000</td>\n",
       "    </tr>\n",
       "    <tr>\n",
       "      <th>75%</th>\n",
       "      <td>1.0000</td>\n",
       "      <td>37.0000</td>\n",
       "      <td>46,600.0000</td>\n",
       "      <td>2.0000</td>\n",
       "      <td>0.0000</td>\n",
       "    </tr>\n",
       "    <tr>\n",
       "      <th>max</th>\n",
       "      <td>1.0000</td>\n",
       "      <td>65.0000</td>\n",
       "      <td>79,000.0000</td>\n",
       "      <td>6.0000</td>\n",
       "      <td>5.0000</td>\n",
       "    </tr>\n",
       "  </tbody>\n",
       "</table>\n",
       "</div>"
      ],
      "text/plain": [
       "             Пол    Возраст    Зарплата  Члены семьи  Страховые выплаты\n",
       "count 5,000.0000 5,000.0000  5,000.0000   5,000.0000         5,000.0000\n",
       "mean      0.4990    30.9528 39,916.3600       1.1942             0.1480\n",
       "std       0.5000     8.4408  9,900.0836       1.0914             0.4632\n",
       "min       0.0000    18.0000  5,300.0000       0.0000             0.0000\n",
       "25%       0.0000    24.0000 33,300.0000       0.0000             0.0000\n",
       "50%       0.0000    30.0000 40,200.0000       1.0000             0.0000\n",
       "75%       1.0000    37.0000 46,600.0000       2.0000             0.0000\n",
       "max       1.0000    65.0000 79,000.0000       6.0000             5.0000"
      ]
     },
     "execution_count": 347,
     "metadata": {},
     "output_type": "execute_result"
    }
   ],
   "source": [
    "df.describe()"
   ]
  },
  {
   "cell_type": "code",
   "execution_count": 348,
   "id": "43eaea4e",
   "metadata": {},
   "outputs": [
    {
     "name": "stdout",
     "output_type": "stream",
     "text": [
      "Процентиль, с которого начинаются страховые выплаты:  92.96\n",
      "Выплаты получают:  7.04\n"
     ]
    }
   ],
   "source": [
    "payout_starts_procentile = stats.percentileofscore(df['Страховые выплаты'], 1)\n",
    "\n",
    "print('Процентиль, с которого начинаются страховые выплаты: ', \n",
    "      round(payout_starts_procentile, 2))\n",
    "\n",
    "print('Выплаты получают: ', round((100 - payout_starts_procentile), 2))"
   ]
  },
  {
   "cell_type": "markdown",
   "id": "b1bd0c70",
   "metadata": {},
   "source": [
    "#### Проверка корреляции признаков\n",
    "Проверим корреляцию признаков в датафрейме. Наблюдается сильная положительная корреляция целевого признака (количества страховых выплат) с возрастом клиента. Коэффициент корреляции 0.65. Других значимых корреляций не выявлено."
   ]
  },
  {
   "cell_type": "code",
   "execution_count": 349,
   "id": "b013d00b",
   "metadata": {},
   "outputs": [],
   "source": [
    "# функция печати тепловой карты коэффициентов корреляции\n",
    "def correlation_heatmap(dataframe):\n",
    "    plt.figure(figsize=(18, 7))\n",
    "\n",
    "    sns.heatmap(dataframe, annot=True, fmt=\".5f\", linewidths=.1, cmap= 'coolwarm')\n",
    "    plt.title('Матрица коэффициентов корреляции', fontsize=15)\n",
    "    plt.ylabel('Признак', fontsize=15)\n",
    "    plt.xlabel('Признак', fontsize=15)"
   ]
  },
  {
   "cell_type": "code",
   "execution_count": 350,
   "id": "9cce8d5b",
   "metadata": {},
   "outputs": [
    {
     "data": {
      "text/html": [
       "<div>\n",
       "<style scoped>\n",
       "    .dataframe tbody tr th:only-of-type {\n",
       "        vertical-align: middle;\n",
       "    }\n",
       "\n",
       "    .dataframe tbody tr th {\n",
       "        vertical-align: top;\n",
       "    }\n",
       "\n",
       "    .dataframe thead th {\n",
       "        text-align: right;\n",
       "    }\n",
       "</style>\n",
       "<table border=\"1\" class=\"dataframe\">\n",
       "  <thead>\n",
       "    <tr style=\"text-align: right;\">\n",
       "      <th></th>\n",
       "      <th>Пол</th>\n",
       "      <th>Возраст</th>\n",
       "      <th>Зарплата</th>\n",
       "      <th>Члены семьи</th>\n",
       "      <th>Страховые выплаты</th>\n",
       "    </tr>\n",
       "  </thead>\n",
       "  <tbody>\n",
       "    <tr>\n",
       "      <th>Пол</th>\n",
       "      <td>1.0000</td>\n",
       "      <td>0.0021</td>\n",
       "      <td>0.0149</td>\n",
       "      <td>-0.0090</td>\n",
       "      <td>0.0101</td>\n",
       "    </tr>\n",
       "    <tr>\n",
       "      <th>Возраст</th>\n",
       "      <td>0.0021</td>\n",
       "      <td>1.0000</td>\n",
       "      <td>-0.0191</td>\n",
       "      <td>-0.0067</td>\n",
       "      <td>0.6510</td>\n",
       "    </tr>\n",
       "    <tr>\n",
       "      <th>Зарплата</th>\n",
       "      <td>0.0149</td>\n",
       "      <td>-0.0191</td>\n",
       "      <td>1.0000</td>\n",
       "      <td>-0.0303</td>\n",
       "      <td>-0.0150</td>\n",
       "    </tr>\n",
       "    <tr>\n",
       "      <th>Члены семьи</th>\n",
       "      <td>-0.0090</td>\n",
       "      <td>-0.0067</td>\n",
       "      <td>-0.0303</td>\n",
       "      <td>1.0000</td>\n",
       "      <td>-0.0363</td>\n",
       "    </tr>\n",
       "    <tr>\n",
       "      <th>Страховые выплаты</th>\n",
       "      <td>0.0101</td>\n",
       "      <td>0.6510</td>\n",
       "      <td>-0.0150</td>\n",
       "      <td>-0.0363</td>\n",
       "      <td>1.0000</td>\n",
       "    </tr>\n",
       "  </tbody>\n",
       "</table>\n",
       "</div>"
      ],
      "text/plain": [
       "                      Пол  Возраст  Зарплата  Члены семьи  Страховые выплаты\n",
       "Пол                1.0000   0.0021    0.0149      -0.0090             0.0101\n",
       "Возраст            0.0021   1.0000   -0.0191      -0.0067             0.6510\n",
       "Зарплата           0.0149  -0.0191    1.0000      -0.0303            -0.0150\n",
       "Члены семьи       -0.0090  -0.0067   -0.0303       1.0000            -0.0363\n",
       "Страховые выплаты  0.0101   0.6510   -0.0150      -0.0363             1.0000"
      ]
     },
     "metadata": {},
     "output_type": "display_data"
    },
    {
     "data": {
      "image/png": "[encoded data removed]",
      "text/plain": [
       "<Figure size 1296x504 with 2 Axes>"
      ]
     },
     "metadata": {
      "needs_background": "light"
     },
     "output_type": "display_data"
    }
   ],
   "source": [
    "display(df.corr())\n",
    "correlation_heatmap(df.corr())"
   ]
  },
  {
   "cell_type": "code",
   "execution_count": 351,
   "id": "006d2ddc",
   "metadata": {},
   "outputs": [],
   "source": [
    "# функция печати матрицы диаграмм рассеяния\n",
    "def scatter_matrix(dataframe):\n",
    "    pd.plotting.scatter_matrix(\n",
    "        dataframe, \n",
    "        figsize=(12, 12)\n",
    "    )"
   ]
  },
  {
   "cell_type": "code",
   "execution_count": 352,
   "id": "f73d6dc9",
   "metadata": {},
   "outputs": [
    {
     "data": {
      "image/png": "[encoded data removed]",
      "text/plain": [
       "<Figure size 864x864 with 25 Axes>"
      ]
     },
     "metadata": {
      "needs_background": "light"
     },
     "output_type": "display_data"
    }
   ],
   "source": [
    "scatter_matrix(df)"
   ]
  },
  {
   "cell_type": "markdown",
   "id": "45a5fbb0",
   "metadata": {},
   "source": [
    "## Подготовка данных\n",
    "### Переименование столбцов\n",
    "Приведем названия столбцов в стандартный вид."
   ]
  },
  {
   "cell_type": "code",
   "execution_count": 353,
   "id": "cf03c7a2",
   "metadata": {},
   "outputs": [],
   "source": [
    "df = df.rename(\n",
    "    columns={'Пол': 'gender', \n",
    "             'Возраст': 'age', \n",
    "             'Зарплата': 'salary', \n",
    "             'Члены семьи': 'relatives', \n",
    "             'Страховые выплаты': 'payouts_count'})"
   ]
  },
  {
   "cell_type": "markdown",
   "id": "28b57ee5",
   "metadata": {},
   "source": [
    "### Изменение типа столбцов\n",
    "Возраст и зарплата указаны в типе float, эта точность избыточна. Приведем значения к целочисленному типу. Но перед этим проверим, что нет потери данных по зарплате от округления."
   ]
  },
  {
   "cell_type": "code",
   "execution_count": 354,
   "id": "b9ecbca7",
   "metadata": {},
   "outputs": [
    {
     "name": "stdout",
     "output_type": "stream",
     "text": [
      "Зарплаты с дробной частью составляют 0.06 %\n"
     ]
    }
   ],
   "source": [
    "# добавим колонку salary_check, в которую запишем дробную часть из колонки salary\n",
    "df['salary_check'] = df['salary'] % 1\n",
    "# display(df['salary_check'].describe())\n",
    "salary_not_even_procentile = round(100 - stats.percentileofscore(df['salary_check'], 0.01), 2)\n",
    "print('Зарплаты с дробной частью составляют', salary_not_even_procentile, '%')"
   ]
  },
  {
   "cell_type": "code",
   "execution_count": 355,
   "id": "24b99150",
   "metadata": {},
   "outputs": [
    {
     "name": "stdout",
     "output_type": "stream",
     "text": [
      "Всего зарплат с ненулевой дробной частью: 40\n",
      "Всего зарплат с дробной частью > 0.1: 3\n",
      "count       40.0000\n",
      "mean    36,515.0000\n",
      "std     10,799.7994\n",
      "min     32,200.0000\n",
      "25%     32,200.0000\n",
      "50%     32,700.0000\n",
      "75%     32,700.0000\n",
      "max     65,100.0000\n",
      "Name: salary, dtype: float64\n",
      "Делаем вывод, что все зарплаты указаны в рублях,   потери информации от конвертации в тип integer не будет\n"
     ]
    }
   ],
   "source": [
    "print('Всего зарплат с ненулевой дробной частью:', df[df['salary_check'] > 0]['salary'].count())\n",
    "print('Всего зарплат с дробной частью > 0.1:', df[df['salary_check'] > 0.1]['salary'].count())\n",
    "print(df[df['salary_check'] > 0]['salary'].describe())\n",
    "print(\n",
    "  '''Делаем вывод, что все зарплаты указаны в рублях, \\\n",
    "  потери информации от конвертации в тип integer не будет''')"
   ]
  },
  {
   "cell_type": "code",
   "execution_count": 356,
   "id": "819c0c62",
   "metadata": {},
   "outputs": [],
   "source": [
    "# удаляем колонку\n",
    "df = df.drop('salary_check', axis=1)\n",
    "# конвертируем типы\n",
    "df['age'] = df['age'].astype('int')\n",
    "df['salary'] = round(df['salary']).astype('int')"
   ]
  },
  {
   "cell_type": "markdown",
   "id": "ff72f0cd",
   "metadata": {},
   "source": [
    "### Проверка на пустые значения\n",
    "Пустые значения отсутствуют."
   ]
  },
  {
   "cell_type": "code",
   "execution_count": 357,
   "id": "bbc3f6bf",
   "metadata": {},
   "outputs": [
    {
     "data": {
      "text/plain": [
       "gender          0.0000\n",
       "age             0.0000\n",
       "salary          0.0000\n",
       "relatives       0.0000\n",
       "payouts_count   0.0000\n",
       "dtype: float64"
      ]
     },
     "execution_count": 357,
     "metadata": {},
     "output_type": "execute_result"
    }
   ],
   "source": [
    "df.isna().mean()"
   ]
  },
  {
   "cell_type": "markdown",
   "id": "31cbec2b",
   "metadata": {},
   "source": [
    "## Обоснование алгоритма шифрования данных\n",
    "\n",
    "Для шифрования данных предлагается умножить датасет с признаками на обратимую матрицу. Предполагается, что качество предсказаний модели, обученной на зашифрованном датасете, будет таким же, как у модели, обученной на исходном датасете.\n",
    "\n",
    "Исследуемый вопрос: изменится ли качество линейной регрессии? \n",
    "\n",
    "Ответ: качество предсказаний не изменится. \n",
    "\n",
    "Обоснование: воспользуемся свойствами матриц, чтобы доказать предположение."
   ]
  },
  {
   "cell_type": "markdown",
   "id": "a4ba538c",
   "metadata": {},
   "source": [
    "Свойства матриц:\n",
    "\n",
    "$$\n",
    "E A = A E = A\n",
    "$$\n",
    "\n",
    "$$\n",
    "A A^{-1} = A^{-1} A = E\n",
    "$$\n",
    "\n",
    "$$\n",
    "(A B)^T = B^T A^T\n",
    "$$\n",
    "\n",
    "$$\n",
    "(A B)^{-1} = B^{-1} A^{-1}\n",
    "$$\n",
    "\n",
    "$$\n",
    "(A^T)^{-1} = (A^{-1})^T\n",
    "$$"
   ]
  },
  {
   "cell_type": "markdown",
   "id": "6078bda6",
   "metadata": {},
   "source": [
    "Обозначения:\n",
    "\n",
    "𝑋  — матрица признаков (нулевой столбец состоит из единиц)\n",
    "\n",
    "𝑦  — вектор целевого признака\n",
    "\n",
    "𝑃  — матрица, на которую умножаются признаки\n",
    "\n",
    "𝑤  — вектор весов линейной регрессии (нулевой элемент равен сдвигу)"
   ]
  },
  {
   "cell_type": "markdown",
   "id": "64ca786d",
   "metadata": {},
   "source": [
    "Предсказания:\n",
    "\n",
    "$$\n",
    "a = Xw\n",
    "$$\n",
    "\n",
    "Задача обучения:\n",
    "\n",
    "$$\n",
    "w = \\arg\\min_w MSE(Xw, y)\n",
    "$$\n",
    "\n",
    "Формула обучения:\n",
    "\n",
    "$$\n",
    "w = (X^T X)^{-1} X^T y\n",
    "$$\n"
   ]
  },
  {
   "cell_type": "markdown",
   "id": "d8156aeb",
   "metadata": {},
   "source": [
    "Зашифрованная матрица - это исходная матрица, умноженная на обратимую квадратную матрицу $P$:\n",
    "\n",
    "$$\n",
    "Xmod = XP\n",
    "$$\n",
    "\n",
    "Тогда вектор весов $wmod$ будет равен:\n",
    "\n",
    "$$\n",
    "wmod = (Xmod^T Xmod)^{-1} Xmod^T y = \n",
    "$$\n",
    "\n",
    "$$\n",
    "= ((XP)^T (XP))^{-1} (XP)^T y = \n",
    "$$\n",
    "\n",
    "$$\n",
    "= ((P^T X^T X P))^{-1} (X P)^T y = \n",
    "$$\n",
    "\n",
    "$$\n",
    "= P^{-1} (X^T X)^{-1} (P^T)^{-1} (X P)^T y = \n",
    "$$\n",
    "\n",
    "$$\n",
    "= P^{-1} (X^T X)^{-1} (P^{-1})^T (X P)^T y = \n",
    "$$\n",
    "\n",
    "$$\n",
    "= P^{-1} (X^T X)^{-1} (P^{-1})^T P^T X^T y = \n",
    "$$\n",
    "\n",
    "$$\n",
    "= P^{-1} (X^T X)^{-1} (P P^{-1})^T  X^T y = \n",
    "$$\n",
    "\n",
    "$$\n",
    "= P^{-1} (X^T X)^{-1} E X^T y = \n",
    "$$\n",
    "\n",
    "$$\n",
    "= P^{-1} (X^T X)^{-1} X^T y = \n",
    "$$\n",
    "\n",
    "$$\n",
    "= P^{-1} w\n",
    "$$\n",
    "\n",
    "Вектор предсказаний $amod$ будет равен:\n",
    "\n",
    "$$\n",
    "amod = Xmod  wmod = (X P) (P^{-1} w) = X P P^{-1} w = X E w = X w = a\n",
    "$$\n",
    "\n",
    "В итоге преобразований получили, что предсказания $amod$, полученные на основе преобразованной матрицы $Xmod = X P$, будут тождественны предсказаниям $a$, полученным на основе исходных данных в матрице $X$. Следовательно, не изменится и метрика качества модели, обученной на преобразованных данных, по сравнению с метрикой модели, обученной на исходных данных. \n",
    "\n",
    "Стоить отметить, что преобразование не получилось бы, если бы матрица $P$ была необратимой, т.к. в процессе преобразования было использовано свойство обратимых матриц  $𝐴 𝐴^{−1} =𝐴^{−1} 𝐴 = 𝐸$ : при умножении матриц, обратных друг к другу, получается единичная матрица. \n",
    "\n",
    "Матрицы $((𝑃^𝑇 𝑋^𝑇 𝑋 𝑃))^{−1}$ и $(X^T X)^{-1}$ существуют, так как они квадратные."
   ]
  },
  {
   "cell_type": "markdown",
   "id": "01379a87",
   "metadata": {},
   "source": [
    "## Проверка алгоритма\n",
    "### Алгоритм шифрования данных клиентов\n",
    "Для шифрования данных предлагается умножить тренировочный и тестовый датасеты с обучающими признаками (`df_train_target` и `df_test_target`) на случайную обратимую матрицу. Алгоритм преобразования обоснован в предыдущем разделе.\n",
    "\n",
    "Для проверки алгоритма сначала обучим модель на исходных данных, затем новую модель обучим на преобразованных данных и сравним метрики качества двух моделей. Ожидается, что метрика качества останется неизменной.\n"
   ]
  },
  {
   "cell_type": "markdown",
   "id": "b2351ad9",
   "metadata": {},
   "source": [
    "### Подготовка незашифрованных датасетов\n",
    "Подготовим обучающий и тестовый датасеты."
   ]
  },
  {
   "cell_type": "code",
   "execution_count": 358,
   "id": "a0754b0a",
   "metadata": {},
   "outputs": [],
   "source": [
    "df_train, df_test = train_test_split(df, test_size=0.4, random_state=666)\n",
    "target = 'payouts_count'\n",
    "df_train_features = df_train.drop('payouts_count', axis=1)\n",
    "df_train_target = df_train['payouts_count']\n",
    "df_test_features = df_test.drop('payouts_count', axis=1)\n",
    "df_test_target = df_test['payouts_count']"
   ]
  },
  {
   "cell_type": "markdown",
   "id": "f16623be",
   "metadata": {},
   "source": [
    "### Обучение модели на незашифрованных данных\n",
    "Инициируем модель линейной регрессии, обучим ее на исходных данных, вычислим метрику качества."
   ]
  },
  {
   "cell_type": "code",
   "execution_count": 359,
   "id": "ed4a3abe",
   "metadata": {},
   "outputs": [
    {
     "name": "stdout",
     "output_type": "stream",
     "text": [
      "0.4102174267727613\n"
     ]
    }
   ],
   "source": [
    "model_original = LinearRegression()\n",
    "model_original.fit(df_train_features, df_train_target)\n",
    "predictions_original = model_original.predict(df_test_features)\n",
    "# print(type(predictions_original))\n",
    "r2_original = r2_score(df_test_target, predictions_original)\n",
    "print(r2_original)"
   ]
  },
  {
   "cell_type": "code",
   "execution_count": 360,
   "id": "6fda5b80",
   "metadata": {},
   "outputs": [
    {
     "data": {
      "text/plain": [
       "array([ 0.94146553,  0.17966114, -0.17200627, ..., -0.07341957,\n",
       "        0.43099   ,  0.13104485])"
      ]
     },
     "execution_count": 360,
     "metadata": {},
     "output_type": "execute_result"
    }
   ],
   "source": [
    "predictions_original"
   ]
  },
  {
   "cell_type": "markdown",
   "id": "d22b47e1",
   "metadata": {},
   "source": [
    "### Обучение модели на преобразованных данных\n",
    "Зашифруем исходные данные: умножим обучающую и тестовую матрицы с нецелевыми признаками (`df_train_features`, `df_test_features`) на обратимую матрицу. \n",
    "\n",
    "Для этого создадим обратимую матрицу с длиной строки/столбца, равной длине строки исходной матрицы.\n",
    "\n",
    "Заново обучим модель на основании зашифрованных данных, сравним ее метрику качества с метрикой качества модели, обученной на исходных данных."
   ]
  },
  {
   "cell_type": "code",
   "execution_count": 361,
   "id": "858f8d3c",
   "metadata": {},
   "outputs": [
    {
     "name": "stdout",
     "output_type": "stream",
     "text": [
      "Сгенерирована матрица:\n"
     ]
    },
    {
     "data": {
      "text/plain": [
       "array([[ 0.82418808,  0.479966  ,  1.17346801,  0.90904807],\n",
       "       [-0.57172145, -0.10949727,  0.01902826, -0.94376106],\n",
       "       [ 0.64057315, -0.78644317,  0.60886999, -0.93101185],\n",
       "       [ 0.97822225, -0.73691806, -0.29873262, -0.46058737]])"
      ]
     },
     "metadata": {},
     "output_type": "display_data"
    },
    {
     "name": "stdout",
     "output_type": "stream",
     "text": [
      "Результат обращения этой матрицы:\n"
     ]
    },
    {
     "data": {
      "text/plain": [
       "array([[ 0.98823887,  1.25423142, -1.12854185,  1.66167752],\n",
       "       [ 1.79627512,  3.24637076, -2.55435929,  2.05659322],\n",
       "       [ 0.04784622, -0.49971764,  1.06163179, -1.02756444],\n",
       "       [-0.80610885, -2.20611824,  1.00142716, -1.26595686]])"
      ]
     },
     "metadata": {},
     "output_type": "display_data"
    },
    {
     "name": "stdout",
     "output_type": "stream",
     "text": [
      "Результат перемножения двух матриц:\n"
     ]
    },
    {
     "data": {
      "text/plain": [
       "array([[ 1., -0.,  0., -0.],\n",
       "       [ 0.,  1.,  0.,  0.],\n",
       "       [-0., -0.,  1., -0.],\n",
       "       [-0., -0., -0.,  1.]])"
      ]
     },
     "execution_count": 361,
     "metadata": {},
     "output_type": "execute_result"
    }
   ],
   "source": [
    "np.random.seed(666)\n",
    "# функция для генерации обратимой матрицы заданного размера\n",
    "def generate_invertable_matrix_of_size(size):\n",
    "    random_matrix = np.random.normal(loc=0.0, scale=1.0, size=(size, size))\n",
    "    try: \n",
    "        inverted_random_matrix = np.linalg.inv(random_matrix)\n",
    "        return random_matrix\n",
    "    except:\n",
    "        return generate_invertable_matrix_of_size(size)\n",
    "\n",
    "# сгенерируем обратимую матрицу заданного размера\n",
    "random_matrix = generate_invertable_matrix_of_size(len(df_train_features.columns))\n",
    "print('Сгенерирована матрица:')\n",
    "display(random_matrix)\n",
    "\n",
    "# проверим, что полученная матрица действительно обратима\n",
    "inverted_random_matrix = np.linalg.inv(random_matrix)\n",
    "print('Результат обращения этой матрицы:')\n",
    "display(inverted_random_matrix)\n",
    "\n",
    "# проверим, что при перемножении получается единичная матрица\n",
    "multiplied = random_matrix.dot(inverted_random_matrix)\n",
    "print('Результат перемножения двух матриц:')\n",
    "np.around(multiplied)"
   ]
  },
  {
   "cell_type": "code",
   "execution_count": 362,
   "id": "1e1522f2",
   "metadata": {},
   "outputs": [
    {
     "data": {
      "text/html": [
       "<div>\n",
       "<style scoped>\n",
       "    .dataframe tbody tr th:only-of-type {\n",
       "        vertical-align: middle;\n",
       "    }\n",
       "\n",
       "    .dataframe tbody tr th {\n",
       "        vertical-align: top;\n",
       "    }\n",
       "\n",
       "    .dataframe thead th {\n",
       "        text-align: right;\n",
       "    }\n",
       "</style>\n",
       "<table border=\"1\" class=\"dataframe\">\n",
       "  <thead>\n",
       "    <tr style=\"text-align: right;\">\n",
       "      <th></th>\n",
       "      <th>0</th>\n",
       "      <th>1</th>\n",
       "      <th>2</th>\n",
       "      <th>3</th>\n",
       "    </tr>\n",
       "  </thead>\n",
       "  <tbody>\n",
       "    <tr>\n",
       "      <th>4690</th>\n",
       "      <td>29,387.5190</td>\n",
       "      <td>-36,103.3467</td>\n",
       "      <td>27,946.8264</td>\n",
       "      <td>-42,764.0822</td>\n",
       "    </tr>\n",
       "    <tr>\n",
       "      <th>2483</th>\n",
       "      <td>33,933.3127</td>\n",
       "      <td>-41,685.3585</td>\n",
       "      <td>32,271.6123</td>\n",
       "      <td>-49,374.3236</td>\n",
       "    </tr>\n",
       "    <tr>\n",
       "      <th>2912</th>\n",
       "      <td>30,019.6928</td>\n",
       "      <td>-36,888.3037</td>\n",
       "      <td>28,557.9753</td>\n",
       "      <td>-43,703.1846</td>\n",
       "    </tr>\n",
       "    <tr>\n",
       "      <th>4503</th>\n",
       "      <td>23,609.1350</td>\n",
       "      <td>-29,025.1184</td>\n",
       "      <td>22,468.2351</td>\n",
       "      <td>-34,400.5815</td>\n",
       "    </tr>\n",
       "    <tr>\n",
       "      <th>4864</th>\n",
       "      <td>27,727.9113</td>\n",
       "      <td>-34,056.5436</td>\n",
       "      <td>26,363.8348</td>\n",
       "      <td>-40,331.6657</td>\n",
       "    </tr>\n",
       "  </tbody>\n",
       "</table>\n",
       "</div>"
      ],
      "text/plain": [
       "               0            1           2            3\n",
       "4690 29,387.5190 -36,103.3467 27,946.8264 -42,764.0822\n",
       "2483 33,933.3127 -41,685.3585 32,271.6123 -49,374.3236\n",
       "2912 30,019.6928 -36,888.3037 28,557.9753 -43,703.1846\n",
       "4503 23,609.1350 -29,025.1184 22,468.2351 -34,400.5815\n",
       "4864 27,727.9113 -34,056.5436 26,363.8348 -40,331.6657"
      ]
     },
     "metadata": {},
     "output_type": "display_data"
    },
    {
     "data": {
      "text/html": [
       "<div>\n",
       "<style scoped>\n",
       "    .dataframe tbody tr th:only-of-type {\n",
       "        vertical-align: middle;\n",
       "    }\n",
       "\n",
       "    .dataframe tbody tr th {\n",
       "        vertical-align: top;\n",
       "    }\n",
       "\n",
       "    .dataframe thead th {\n",
       "        text-align: right;\n",
       "    }\n",
       "</style>\n",
       "<table border=\"1\" class=\"dataframe\">\n",
       "  <thead>\n",
       "    <tr style=\"text-align: right;\">\n",
       "      <th></th>\n",
       "      <th>0</th>\n",
       "      <th>1</th>\n",
       "      <th>2</th>\n",
       "      <th>3</th>\n",
       "    </tr>\n",
       "  </thead>\n",
       "  <tbody>\n",
       "    <tr>\n",
       "      <th>1778</th>\n",
       "      <td>21,430.8558</td>\n",
       "      <td>-26,353.1234</td>\n",
       "      <td>20,397.5558</td>\n",
       "      <td>-31,239.8374</td>\n",
       "    </tr>\n",
       "    <tr>\n",
       "      <th>4083</th>\n",
       "      <td>22,852.9471</td>\n",
       "      <td>-28,080.5190</td>\n",
       "      <td>21,737.8437</td>\n",
       "      <td>-33,267.3355</td>\n",
       "    </tr>\n",
       "    <tr>\n",
       "      <th>4613</th>\n",
       "      <td>30,993.1192</td>\n",
       "      <td>-38,067.7323</td>\n",
       "      <td>29,469.1288</td>\n",
       "      <td>-45,082.6574</td>\n",
       "    </tr>\n",
       "    <tr>\n",
       "      <th>1221</th>\n",
       "      <td>31,947.8552</td>\n",
       "      <td>-39,247.6456</td>\n",
       "      <td>30,382.9038</td>\n",
       "      <td>-46,487.2084</td>\n",
       "    </tr>\n",
       "    <tr>\n",
       "      <th>1320</th>\n",
       "      <td>20,674.2615</td>\n",
       "      <td>-25,407.6776</td>\n",
       "      <td>19,667.4440</td>\n",
       "      <td>-30,105.1871</td>\n",
       "    </tr>\n",
       "  </tbody>\n",
       "</table>\n",
       "</div>"
      ],
      "text/plain": [
       "               0            1           2            3\n",
       "1778 21,430.8558 -26,353.1234 20,397.5558 -31,239.8374\n",
       "4083 22,852.9471 -28,080.5190 21,737.8437 -33,267.3355\n",
       "4613 30,993.1192 -38,067.7323 29,469.1288 -45,082.6574\n",
       "1221 31,947.8552 -39,247.6456 30,382.9038 -46,487.2084\n",
       "1320 20,674.2615 -25,407.6776 19,667.4440 -30,105.1871"
      ]
     },
     "metadata": {},
     "output_type": "display_data"
    },
    {
     "name": "stdout",
     "output_type": "stream",
     "text": [
      "Размерность исходной матрицы df_train_features: (3000, 4)\n",
      "Размерность зашифрованной матрицы cyphered_df_train_features: (3000, 4)\n",
      "Размерность исходной матрицы df_test_features: (2000, 4)\n",
      "Размерность зашифрованной матрицы cyphered_df_test_features: (2000, 4)\n"
     ]
    }
   ],
   "source": [
    "# преобразуем датасеты путем умножения на случайную матрицу\n",
    "cyphered_df_train_features = df_train_features.dot(random_matrix)\n",
    "cyphered_df_test_features = df_test_features.dot(random_matrix)\n",
    "display(cyphered_df_train_features.head())\n",
    "display(cyphered_df_test_features.head())\n",
    "\n",
    "# размерность зашифрованных матриц соответствует размерности исходных матриц\n",
    "print('Размерность исходной матрицы df_train_features:', df_train_features.shape)\n",
    "print('Размерность зашифрованной матрицы cyphered_df_train_features:', cyphered_df_train_features.shape)\n",
    "print('Размерность исходной матрицы df_test_features:', df_test_features.shape)\n",
    "print('Размерность зашифрованной матрицы cyphered_df_test_features:', cyphered_df_test_features.shape)"
   ]
  },
  {
   "cell_type": "code",
   "execution_count": 363,
   "id": "5fc999d8",
   "metadata": {},
   "outputs": [
    {
     "name": "stdout",
     "output_type": "stream",
     "text": [
      "0.41021742677198336\n"
     ]
    }
   ],
   "source": [
    "# обучим новую модель на зашифрованных данных\n",
    "model_cyphered = LinearRegression()\n",
    "model_cyphered.fit(cyphered_df_train_features, df_train_target)\n",
    "predictions_cyphered = model_cyphered.predict(cyphered_df_test_features)\n",
    "r2_cyphered = r2_score(df_test_target, predictions_cyphered)\n",
    "print(r2_cyphered)"
   ]
  },
  {
   "cell_type": "markdown",
   "id": "e66a1e2c",
   "metadata": {},
   "source": [
    "### Вывод по практической проверке алгоритма\n",
    "Шифрование данных путем умножения на рандомную обратимую матрицу не сказалось на качестве предсказаний модели. Метрика `r2` для обеих моделей совпадает с точностью до 10го знака после запятой."
   ]
  },
  {
   "cell_type": "code",
   "execution_count": 364,
   "id": "9685f036",
   "metadata": {},
   "outputs": [
    {
     "name": "stdout",
     "output_type": "stream",
     "text": [
      "Точное сравнение метрик:  False\n",
      "Сравнение округленных метрик:  True\n",
      "R2 модели, обученной на оригинальных данных:  0.4102174267727613\n",
      "R2 модели, обученной на зашифрованных данных:  0.41021742677198336\n"
     ]
    }
   ],
   "source": [
    "print('Точное сравнение метрик: ', r2_original == r2_cyphered)\n",
    "print('Сравнение округленных метрик: ', (round(r2_original, 10) == round(r2_cyphered, 10)))\n",
    "print('R2 модели, обученной на оригинальных данных: ', r2_original)\n",
    "print('R2 модели, обученной на зашифрованных данных: ', r2_cyphered)\n"
   ]
  },
  {
   "cell_type": "markdown",
   "id": "c852bfa6",
   "metadata": {},
   "source": [
    "## Возможность дешифровки закодированного датасета\n",
    "При наличии ключа не составит труда декодировать зашифрованный датасет $X$. Из свойств матриц следует, что для расшифровки закодированный датасет $Xmod = X P$ нужно домножить на матрицу, обратную матрице P, которая использовалась для кодирования. \n",
    "    \n",
    "$$\n",
    "X E = X\n",
    "$$\n",
    "\n",
    "$$\n",
    "P P^{-1} = E\n",
    "$$\n",
    "\n",
    "$$\n",
    "X P P^{-1} = X E = X\n",
    "$$\n",
    "\n",
    "Реализуем эту возможность в виде класса. \n",
    "\n",
    "Класс CypherDecypher может зашифровать и дешифровать переданный ему при инициализации датасет по ключу, сгенерированному внутри класса. Кроме того, может декодировать произвольный датасет по произвольному ключу, при условии что ключ является обратимой матрицей, а его размерность позволяет провести умножение на него датасета."
   ]
  },
  {
   "cell_type": "code",
   "execution_count": 368,
   "id": "45dc4066",
   "metadata": {},
   "outputs": [],
   "source": [
    "class CypherDecypher:\n",
    "    def __init__(self, original_df=None, my_random=666):\n",
    "        self.original_df = original_df\n",
    "        np.random.seed(my_random)\n",
    "        \n",
    "    def generate_invertable_matrix(self):\n",
    "        size = len(self.original_df.columns)\n",
    "        self.random_matrix = np.random.normal(loc=0.0, scale=1.0, size=(size, size))\n",
    "        try: \n",
    "            self.inverted_random_matrix = np.linalg.inv(self.random_matrix)\n",
    "            return self.random_matrix\n",
    "        except:\n",
    "            return generate_invertable_matrix(self)\n",
    "            \n",
    "    def cypher_default_df(self):\n",
    "        self.cyphered_df = self.original_df.dot(self.random_matrix)\n",
    "        return self.original_df.dot(self.random_matrix)\n",
    "    \n",
    "    def decypher_default_df(self):\n",
    "        self.decyphered_default_df = self.cyphered_df.dot(self.inverted_random_matrix)\n",
    "        self.decyphered_default_df.columns = self.original_df.columns\n",
    "        return self.decyphered_default_df\n",
    "    \n",
    "    def decypher_any_df_by_any_key(self, df=None, key_df=None):\n",
    "        # here you provide a cyphered df and a key and try to decypher df by key\n",
    "        try:\n",
    "            inverted_key = np.linalg.inv(key_df)\n",
    "            self.decyphered_any_df = df.dot(inverted_key)\n",
    "            return self.decyphered_any_df\n",
    "        except:\n",
    "            message = \"Keep trying\"\n",
    "            return message"
   ]
  },
  {
   "cell_type": "code",
   "execution_count": 369,
   "id": "fb128c35",
   "metadata": {},
   "outputs": [
    {
     "name": "stdout",
     "output_type": "stream",
     "text": [
      "Сгенерированный ключ (обратимая матрица):\n"
     ]
    },
    {
     "data": {
      "text/plain": [
       "array([[ 0.82418808,  0.479966  ,  1.17346801,  0.90904807],\n",
       "       [-0.57172145, -0.10949727,  0.01902826, -0.94376106],\n",
       "       [ 0.64057315, -0.78644317,  0.60886999, -0.93101185],\n",
       "       [ 0.97822225, -0.73691806, -0.29873262, -0.46058737]])"
      ]
     },
     "metadata": {},
     "output_type": "display_data"
    },
    {
     "name": "stdout",
     "output_type": "stream",
     "text": [
      "Зашифрованный датасет:\n"
     ]
    },
    {
     "data": {
      "text/html": [
       "<div>\n",
       "<style scoped>\n",
       "    .dataframe tbody tr th:only-of-type {\n",
       "        vertical-align: middle;\n",
       "    }\n",
       "\n",
       "    .dataframe tbody tr th {\n",
       "        vertical-align: top;\n",
       "    }\n",
       "\n",
       "    .dataframe thead th {\n",
       "        text-align: right;\n",
       "    }\n",
       "</style>\n",
       "<table border=\"1\" class=\"dataframe\">\n",
       "  <thead>\n",
       "    <tr style=\"text-align: right;\">\n",
       "      <th></th>\n",
       "      <th>0</th>\n",
       "      <th>1</th>\n",
       "      <th>2</th>\n",
       "      <th>3</th>\n",
       "    </tr>\n",
       "  </thead>\n",
       "  <tbody>\n",
       "    <tr>\n",
       "      <th>4690</th>\n",
       "      <td>29,387.5190</td>\n",
       "      <td>-36,103.3467</td>\n",
       "      <td>27,946.8264</td>\n",
       "      <td>-42,764.0822</td>\n",
       "    </tr>\n",
       "    <tr>\n",
       "      <th>2483</th>\n",
       "      <td>33,933.3127</td>\n",
       "      <td>-41,685.3585</td>\n",
       "      <td>32,271.6123</td>\n",
       "      <td>-49,374.3236</td>\n",
       "    </tr>\n",
       "    <tr>\n",
       "      <th>2912</th>\n",
       "      <td>30,019.6928</td>\n",
       "      <td>-36,888.3037</td>\n",
       "      <td>28,557.9753</td>\n",
       "      <td>-43,703.1846</td>\n",
       "    </tr>\n",
       "    <tr>\n",
       "      <th>4503</th>\n",
       "      <td>23,609.1350</td>\n",
       "      <td>-29,025.1184</td>\n",
       "      <td>22,468.2351</td>\n",
       "      <td>-34,400.5815</td>\n",
       "    </tr>\n",
       "    <tr>\n",
       "      <th>4864</th>\n",
       "      <td>27,727.9113</td>\n",
       "      <td>-34,056.5436</td>\n",
       "      <td>26,363.8348</td>\n",
       "      <td>-40,331.6657</td>\n",
       "    </tr>\n",
       "  </tbody>\n",
       "</table>\n",
       "</div>"
      ],
      "text/plain": [
       "               0            1           2            3\n",
       "4690 29,387.5190 -36,103.3467 27,946.8264 -42,764.0822\n",
       "2483 33,933.3127 -41,685.3585 32,271.6123 -49,374.3236\n",
       "2912 30,019.6928 -36,888.3037 28,557.9753 -43,703.1846\n",
       "4503 23,609.1350 -29,025.1184 22,468.2351 -34,400.5815\n",
       "4864 27,727.9113 -34,056.5436 26,363.8348 -40,331.6657"
      ]
     },
     "metadata": {},
     "output_type": "display_data"
    },
    {
     "name": "stdout",
     "output_type": "stream",
     "text": [
      "Дешифрованный исходный датасет:\n"
     ]
    },
    {
     "data": {
      "text/html": [
       "<div>\n",
       "<style scoped>\n",
       "    .dataframe tbody tr th:only-of-type {\n",
       "        vertical-align: middle;\n",
       "    }\n",
       "\n",
       "    .dataframe tbody tr th {\n",
       "        vertical-align: top;\n",
       "    }\n",
       "\n",
       "    .dataframe thead th {\n",
       "        text-align: right;\n",
       "    }\n",
       "</style>\n",
       "<table border=\"1\" class=\"dataframe\">\n",
       "  <thead>\n",
       "    <tr style=\"text-align: right;\">\n",
       "      <th></th>\n",
       "      <th>gender</th>\n",
       "      <th>age</th>\n",
       "      <th>salary</th>\n",
       "      <th>relatives</th>\n",
       "    </tr>\n",
       "  </thead>\n",
       "  <tbody>\n",
       "    <tr>\n",
       "      <th>4690</th>\n",
       "      <td>-0.0000</td>\n",
       "      <td>31.0000</td>\n",
       "      <td>45,900.0000</td>\n",
       "      <td>3.0000</td>\n",
       "    </tr>\n",
       "    <tr>\n",
       "      <th>2483</th>\n",
       "      <td>1.0000</td>\n",
       "      <td>33.0000</td>\n",
       "      <td>53,000.0000</td>\n",
       "      <td>1.0000</td>\n",
       "    </tr>\n",
       "    <tr>\n",
       "      <th>2912</th>\n",
       "      <td>1.0000</td>\n",
       "      <td>42.0000</td>\n",
       "      <td>46,900.0000</td>\n",
       "      <td>-0.0000</td>\n",
       "    </tr>\n",
       "    <tr>\n",
       "      <th>4503</th>\n",
       "      <td>0.0000</td>\n",
       "      <td>49.0000</td>\n",
       "      <td>36,900.0000</td>\n",
       "      <td>-0.0000</td>\n",
       "    </tr>\n",
       "    <tr>\n",
       "      <th>4864</th>\n",
       "      <td>0.0000</td>\n",
       "      <td>19.0000</td>\n",
       "      <td>43,300.0000</td>\n",
       "      <td>2.0000</td>\n",
       "    </tr>\n",
       "  </tbody>\n",
       "</table>\n",
       "</div>"
      ],
      "text/plain": [
       "      gender     age      salary  relatives\n",
       "4690 -0.0000 31.0000 45,900.0000     3.0000\n",
       "2483  1.0000 33.0000 53,000.0000     1.0000\n",
       "2912  1.0000 42.0000 46,900.0000    -0.0000\n",
       "4503  0.0000 49.0000 36,900.0000    -0.0000\n",
       "4864  0.0000 19.0000 43,300.0000     2.0000"
      ]
     },
     "metadata": {},
     "output_type": "display_data"
    },
    {
     "name": "stdout",
     "output_type": "stream",
     "text": [
      "Исходный датасет:\n"
     ]
    },
    {
     "data": {
      "text/html": [
       "<div>\n",
       "<style scoped>\n",
       "    .dataframe tbody tr th:only-of-type {\n",
       "        vertical-align: middle;\n",
       "    }\n",
       "\n",
       "    .dataframe tbody tr th {\n",
       "        vertical-align: top;\n",
       "    }\n",
       "\n",
       "    .dataframe thead th {\n",
       "        text-align: right;\n",
       "    }\n",
       "</style>\n",
       "<table border=\"1\" class=\"dataframe\">\n",
       "  <thead>\n",
       "    <tr style=\"text-align: right;\">\n",
       "      <th></th>\n",
       "      <th>gender</th>\n",
       "      <th>age</th>\n",
       "      <th>salary</th>\n",
       "      <th>relatives</th>\n",
       "    </tr>\n",
       "  </thead>\n",
       "  <tbody>\n",
       "    <tr>\n",
       "      <th>4690</th>\n",
       "      <td>0</td>\n",
       "      <td>31</td>\n",
       "      <td>45900</td>\n",
       "      <td>3</td>\n",
       "    </tr>\n",
       "    <tr>\n",
       "      <th>2483</th>\n",
       "      <td>1</td>\n",
       "      <td>33</td>\n",
       "      <td>53000</td>\n",
       "      <td>1</td>\n",
       "    </tr>\n",
       "    <tr>\n",
       "      <th>2912</th>\n",
       "      <td>1</td>\n",
       "      <td>42</td>\n",
       "      <td>46900</td>\n",
       "      <td>0</td>\n",
       "    </tr>\n",
       "    <tr>\n",
       "      <th>4503</th>\n",
       "      <td>0</td>\n",
       "      <td>49</td>\n",
       "      <td>36900</td>\n",
       "      <td>0</td>\n",
       "    </tr>\n",
       "    <tr>\n",
       "      <th>4864</th>\n",
       "      <td>0</td>\n",
       "      <td>19</td>\n",
       "      <td>43300</td>\n",
       "      <td>2</td>\n",
       "    </tr>\n",
       "  </tbody>\n",
       "</table>\n",
       "</div>"
      ],
      "text/plain": [
       "      gender  age  salary  relatives\n",
       "4690       0   31   45900          3\n",
       "2483       1   33   53000          1\n",
       "2912       1   42   46900          0\n",
       "4503       0   49   36900          0\n",
       "4864       0   19   43300          2"
      ]
     },
     "metadata": {},
     "output_type": "display_data"
    }
   ],
   "source": [
    "worker = CypherDecypher(df_train_features)\n",
    "random_matrix = worker.generate_invertable_matrix()\n",
    "cyphered_df = worker.cypher_default_df()\n",
    "decyphered_original_df = worker.decypher_default_df()\n",
    "\n",
    "print('Сгенерированный ключ (обратимая матрица):')\n",
    "display(random_matrix)\n",
    "print('Зашифрованный датасет:')\n",
    "display(cyphered_df.head())\n",
    "print('Дешифрованный исходный датасет:')\n",
    "display(decyphered_original_df.head())\n",
    "print('Исходный датасет:')\n",
    "display(df_train_features.head())"
   ]
  },
  {
   "cell_type": "code",
   "execution_count": 370,
   "id": "837585d7",
   "metadata": {},
   "outputs": [
    {
     "data": {
      "text/html": [
       "<div>\n",
       "<style scoped>\n",
       "    .dataframe tbody tr th:only-of-type {\n",
       "        vertical-align: middle;\n",
       "    }\n",
       "\n",
       "    .dataframe tbody tr th {\n",
       "        vertical-align: top;\n",
       "    }\n",
       "\n",
       "    .dataframe thead tr th {\n",
       "        text-align: left;\n",
       "    }\n",
       "</style>\n",
       "<table border=\"1\" class=\"dataframe\">\n",
       "  <thead>\n",
       "    <tr>\n",
       "      <th></th>\n",
       "      <th colspan=\"2\" halign=\"left\">gender</th>\n",
       "      <th colspan=\"2\" halign=\"left\">age</th>\n",
       "      <th colspan=\"2\" halign=\"left\">salary</th>\n",
       "      <th colspan=\"2\" halign=\"left\">relatives</th>\n",
       "    </tr>\n",
       "    <tr>\n",
       "      <th></th>\n",
       "      <th>self</th>\n",
       "      <th>other</th>\n",
       "      <th>self</th>\n",
       "      <th>other</th>\n",
       "      <th>self</th>\n",
       "      <th>other</th>\n",
       "      <th>self</th>\n",
       "      <th>other</th>\n",
       "    </tr>\n",
       "  </thead>\n",
       "  <tbody>\n",
       "    <tr>\n",
       "      <th>4690</th>\n",
       "      <td>-0.0000</td>\n",
       "      <td>0</td>\n",
       "      <td>31.0000</td>\n",
       "      <td>31</td>\n",
       "      <td>45,900.0000</td>\n",
       "      <td>45900</td>\n",
       "      <td>3.0000</td>\n",
       "      <td>3</td>\n",
       "    </tr>\n",
       "    <tr>\n",
       "      <th>2483</th>\n",
       "      <td>1.0000</td>\n",
       "      <td>1</td>\n",
       "      <td>33.0000</td>\n",
       "      <td>33</td>\n",
       "      <td>53,000.0000</td>\n",
       "      <td>53000</td>\n",
       "      <td>1.0000</td>\n",
       "      <td>1</td>\n",
       "    </tr>\n",
       "    <tr>\n",
       "      <th>2912</th>\n",
       "      <td>1.0000</td>\n",
       "      <td>1</td>\n",
       "      <td>42.0000</td>\n",
       "      <td>42</td>\n",
       "      <td>46,900.0000</td>\n",
       "      <td>46900</td>\n",
       "      <td>-0.0000</td>\n",
       "      <td>0</td>\n",
       "    </tr>\n",
       "    <tr>\n",
       "      <th>4503</th>\n",
       "      <td>0.0000</td>\n",
       "      <td>0</td>\n",
       "      <td>49.0000</td>\n",
       "      <td>49</td>\n",
       "      <td>36,900.0000</td>\n",
       "      <td>36900</td>\n",
       "      <td>-0.0000</td>\n",
       "      <td>0</td>\n",
       "    </tr>\n",
       "    <tr>\n",
       "      <th>4864</th>\n",
       "      <td>0.0000</td>\n",
       "      <td>0</td>\n",
       "      <td>19.0000</td>\n",
       "      <td>19</td>\n",
       "      <td>43,300.0000</td>\n",
       "      <td>43300</td>\n",
       "      <td>2.0000</td>\n",
       "      <td>2</td>\n",
       "    </tr>\n",
       "    <tr>\n",
       "      <th>...</th>\n",
       "      <td>...</td>\n",
       "      <td>...</td>\n",
       "      <td>...</td>\n",
       "      <td>...</td>\n",
       "      <td>...</td>\n",
       "      <td>...</td>\n",
       "      <td>...</td>\n",
       "      <td>...</td>\n",
       "    </tr>\n",
       "    <tr>\n",
       "      <th>1993</th>\n",
       "      <td>0.0000</td>\n",
       "      <td>0</td>\n",
       "      <td>23.0000</td>\n",
       "      <td>23</td>\n",
       "      <td>31,200.0000</td>\n",
       "      <td>31200</td>\n",
       "      <td>1.0000</td>\n",
       "      <td>1</td>\n",
       "    </tr>\n",
       "    <tr>\n",
       "      <th>70</th>\n",
       "      <td>1.0000</td>\n",
       "      <td>1</td>\n",
       "      <td>42.0000</td>\n",
       "      <td>42</td>\n",
       "      <td>33,700.0000</td>\n",
       "      <td>33700</td>\n",
       "      <td>1.0000</td>\n",
       "      <td>1</td>\n",
       "    </tr>\n",
       "    <tr>\n",
       "      <th>2878</th>\n",
       "      <td>0.0000</td>\n",
       "      <td>0</td>\n",
       "      <td>20.0000</td>\n",
       "      <td>20</td>\n",
       "      <td>40,300.0000</td>\n",
       "      <td>40300</td>\n",
       "      <td>-0.0000</td>\n",
       "      <td>0</td>\n",
       "    </tr>\n",
       "    <tr>\n",
       "      <th>1950</th>\n",
       "      <td>1.0000</td>\n",
       "      <td>1</td>\n",
       "      <td>43.0000</td>\n",
       "      <td>43</td>\n",
       "      <td>24,700.0000</td>\n",
       "      <td>24700</td>\n",
       "      <td>1.0000</td>\n",
       "      <td>1</td>\n",
       "    </tr>\n",
       "    <tr>\n",
       "      <th>1922</th>\n",
       "      <td>-0.0000</td>\n",
       "      <td>0</td>\n",
       "      <td>18.0000</td>\n",
       "      <td>18</td>\n",
       "      <td>42,900.0000</td>\n",
       "      <td>42900</td>\n",
       "      <td>1.0000</td>\n",
       "      <td>1</td>\n",
       "    </tr>\n",
       "  </tbody>\n",
       "</table>\n",
       "<p>3000 rows × 8 columns</p>\n",
       "</div>"
      ],
      "text/plain": [
       "      gender           age            salary        relatives      \n",
       "        self other    self other        self  other      self other\n",
       "4690 -0.0000     0 31.0000    31 45,900.0000  45900    3.0000     3\n",
       "2483  1.0000     1 33.0000    33 53,000.0000  53000    1.0000     1\n",
       "2912  1.0000     1 42.0000    42 46,900.0000  46900   -0.0000     0\n",
       "4503  0.0000     0 49.0000    49 36,900.0000  36900   -0.0000     0\n",
       "4864  0.0000     0 19.0000    19 43,300.0000  43300    2.0000     2\n",
       "...      ...   ...     ...   ...         ...    ...       ...   ...\n",
       "1993  0.0000     0 23.0000    23 31,200.0000  31200    1.0000     1\n",
       "70    1.0000     1 42.0000    42 33,700.0000  33700    1.0000     1\n",
       "2878  0.0000     0 20.0000    20 40,300.0000  40300   -0.0000     0\n",
       "1950  1.0000     1 43.0000    43 24,700.0000  24700    1.0000     1\n",
       "1922 -0.0000     0 18.0000    18 42,900.0000  42900    1.0000     1\n",
       "\n",
       "[3000 rows x 8 columns]"
      ]
     },
     "metadata": {},
     "output_type": "display_data"
    }
   ],
   "source": [
    "# сравним два датасета\n",
    "decyphered_original_df = np.around(decyphered_original_df)\n",
    "display(decyphered_original_df.compare(df_train_features, keep_shape=True, keep_equal=True))"
   ]
  },
  {
   "cell_type": "code",
   "execution_count": 371,
   "id": "4baa1802",
   "metadata": {},
   "outputs": [
    {
     "name": "stdout",
     "output_type": "stream",
     "text": [
      "Сгенерированный ключ (обратимая матрица):\n"
     ]
    },
    {
     "data": {
      "text/plain": [
       "array([[ 0.82418808,  0.479966  ,  1.17346801,  0.90904807],\n",
       "       [-0.57172145, -0.10949727,  0.01902826, -0.94376106],\n",
       "       [ 0.64057315, -0.78644317,  0.60886999, -0.93101185],\n",
       "       [ 0.97822225, -0.73691806, -0.29873262, -0.46058737]])"
      ]
     },
     "metadata": {},
     "output_type": "display_data"
    },
    {
     "name": "stdout",
     "output_type": "stream",
     "text": [
      "Зашифрованный датасет:\n"
     ]
    },
    {
     "data": {
      "text/html": [
       "<div>\n",
       "<style scoped>\n",
       "    .dataframe tbody tr th:only-of-type {\n",
       "        vertical-align: middle;\n",
       "    }\n",
       "\n",
       "    .dataframe tbody tr th {\n",
       "        vertical-align: top;\n",
       "    }\n",
       "\n",
       "    .dataframe thead th {\n",
       "        text-align: right;\n",
       "    }\n",
       "</style>\n",
       "<table border=\"1\" class=\"dataframe\">\n",
       "  <thead>\n",
       "    <tr style=\"text-align: right;\">\n",
       "      <th></th>\n",
       "      <th>0</th>\n",
       "      <th>1</th>\n",
       "      <th>2</th>\n",
       "      <th>3</th>\n",
       "    </tr>\n",
       "  </thead>\n",
       "  <tbody>\n",
       "    <tr>\n",
       "      <th>1778</th>\n",
       "      <td>21,430.8558</td>\n",
       "      <td>-26,353.1234</td>\n",
       "      <td>20,397.5558</td>\n",
       "      <td>-31,239.8374</td>\n",
       "    </tr>\n",
       "    <tr>\n",
       "      <th>4083</th>\n",
       "      <td>22,852.9471</td>\n",
       "      <td>-28,080.5190</td>\n",
       "      <td>21,737.8437</td>\n",
       "      <td>-33,267.3355</td>\n",
       "    </tr>\n",
       "  </tbody>\n",
       "</table>\n",
       "</div>"
      ],
      "text/plain": [
       "               0            1           2            3\n",
       "1778 21,430.8558 -26,353.1234 20,397.5558 -31,239.8374\n",
       "4083 22,852.9471 -28,080.5190 21,737.8437 -33,267.3355"
      ]
     },
     "metadata": {},
     "output_type": "display_data"
    },
    {
     "name": "stdout",
     "output_type": "stream",
     "text": [
      "Дешифрованный датасет:\n"
     ]
    },
    {
     "data": {
      "text/html": [
       "<div>\n",
       "<style scoped>\n",
       "    .dataframe tbody tr th:only-of-type {\n",
       "        vertical-align: middle;\n",
       "    }\n",
       "\n",
       "    .dataframe tbody tr th {\n",
       "        vertical-align: top;\n",
       "    }\n",
       "\n",
       "    .dataframe thead th {\n",
       "        text-align: right;\n",
       "    }\n",
       "</style>\n",
       "<table border=\"1\" class=\"dataframe\">\n",
       "  <thead>\n",
       "    <tr style=\"text-align: right;\">\n",
       "      <th></th>\n",
       "      <th>0</th>\n",
       "      <th>1</th>\n",
       "      <th>2</th>\n",
       "      <th>3</th>\n",
       "    </tr>\n",
       "  </thead>\n",
       "  <tbody>\n",
       "    <tr>\n",
       "      <th>1778</th>\n",
       "      <td>0.0000</td>\n",
       "      <td>53.0000</td>\n",
       "      <td>33,500.0000</td>\n",
       "      <td>2.0000</td>\n",
       "    </tr>\n",
       "    <tr>\n",
       "      <th>4083</th>\n",
       "      <td>1.0000</td>\n",
       "      <td>32.0000</td>\n",
       "      <td>35,700.0000</td>\n",
       "      <td>2.0000</td>\n",
       "    </tr>\n",
       "  </tbody>\n",
       "</table>\n",
       "</div>"
      ],
      "text/plain": [
       "          0       1           2      3\n",
       "1778 0.0000 53.0000 33,500.0000 2.0000\n",
       "4083 1.0000 32.0000 35,700.0000 2.0000"
      ]
     },
     "metadata": {},
     "output_type": "display_data"
    },
    {
     "name": "stdout",
     "output_type": "stream",
     "text": [
      "Исходный датасет:\n"
     ]
    },
    {
     "data": {
      "text/html": [
       "<div>\n",
       "<style scoped>\n",
       "    .dataframe tbody tr th:only-of-type {\n",
       "        vertical-align: middle;\n",
       "    }\n",
       "\n",
       "    .dataframe tbody tr th {\n",
       "        vertical-align: top;\n",
       "    }\n",
       "\n",
       "    .dataframe thead th {\n",
       "        text-align: right;\n",
       "    }\n",
       "</style>\n",
       "<table border=\"1\" class=\"dataframe\">\n",
       "  <thead>\n",
       "    <tr style=\"text-align: right;\">\n",
       "      <th></th>\n",
       "      <th>gender</th>\n",
       "      <th>age</th>\n",
       "      <th>salary</th>\n",
       "      <th>relatives</th>\n",
       "    </tr>\n",
       "  </thead>\n",
       "  <tbody>\n",
       "    <tr>\n",
       "      <th>1778</th>\n",
       "      <td>0</td>\n",
       "      <td>53</td>\n",
       "      <td>33500</td>\n",
       "      <td>2</td>\n",
       "    </tr>\n",
       "    <tr>\n",
       "      <th>4083</th>\n",
       "      <td>1</td>\n",
       "      <td>32</td>\n",
       "      <td>35700</td>\n",
       "      <td>2</td>\n",
       "    </tr>\n",
       "  </tbody>\n",
       "</table>\n",
       "</div>"
      ],
      "text/plain": [
       "      gender  age  salary  relatives\n",
       "1778       0   53   33500          2\n",
       "4083       1   32   35700          2"
      ]
     },
     "metadata": {},
     "output_type": "display_data"
    }
   ],
   "source": [
    "# испытаем метод декодирования произвольной матрицы по произвольному ключу\n",
    "# он будет работать при условии, что матрица-ключ обратима, и может быть умножена на матрицу для дешифровки\n",
    "\n",
    "worker2 = CypherDecypher()\n",
    "# для чистоты эксперимента создадим произвольную матрицу и ключ, \n",
    "# произведем шифрование без применения методов класса\n",
    "sample_df = df_test_features[:2]\n",
    "sample_key = generate_invertable_matrix_of_size(len(sample_df.columns))\n",
    "sample_cyphered_df = sample_df.dot(sample_key)\n",
    "sample_decyphered_df = worker2.decypher_any_df_by_any_key(sample_cyphered_df, sample_key)\n",
    "\n",
    "print('Сгенерированный ключ (обратимая матрица):')\n",
    "display(sample_key)\n",
    "print('Зашифрованный датасет:')\n",
    "display(sample_cyphered_df)\n",
    "print('Дешифрованный датасет:')\n",
    "display(sample_decyphered_df)\n",
    "print('Исходный датасет:')\n",
    "display(sample_df)"
   ]
  },
  {
   "cell_type": "code",
   "execution_count": 372,
   "id": "5f6103d9",
   "metadata": {},
   "outputs": [
    {
     "name": "stdout",
     "output_type": "stream",
     "text": [
      "Keep trying\n",
      "Keep trying\n",
      "Keep trying\n"
     ]
    }
   ],
   "source": [
    "# передадим в метод заведомо нерабочие данные\n",
    "print(worker2.decypher_any_df_by_any_key())\n",
    "print(worker2.decypher_any_df_by_any_key(sample_key))\n",
    "print(worker2.decypher_any_df_by_any_key(sample_key, df))"
   ]
  },
  {
   "cell_type": "markdown",
   "id": "8aca687e",
   "metadata": {},
   "source": [
    "## Общий вывод\n",
    "\n",
    "В данном исследовании решается задача о шифровании клиентской базы страховой компании без ухудшения качества предсказаний модели, обученной на зашифрованных данных, по сравнению с моделью, обученной на исходных данных.\n",
    "\n",
    "Предложен алгоритм решения задачи: для шифрования датасеты с обучающими признаками должны быть умножены на случайную обратимую матрицу, а затем на них должна быть обучена модель линейной регрессии.\n",
    "\n",
    "Предложенный алгоритм обосновывается математически с использованием свойств матриц, а также доказывается практически на материале конкретного датасета. \n",
    "\n",
    "При необходимости зашифрованный датасет может быть декодирован. Для получения исходных данных необходим ключ - обратимая матрица, по которой был зашифрован исходный датасет. Возможность кодирования-декодирования реализована в виде класса.\n",
    "\n",
    "Датасет, на котором проведено исследование, состоит из 5_000 строк, он используется после предварительного изучения и предобработки.\n",
    "\n",
    "Исследование подтверждает применимость данного метода шифрования при решении бизнес-задач."
   ]
  }
 ],
 "metadata": {
  "ExecuteTimeLog": [
   {
    "duration": 1560,
    "start_time": "2022-11-27T15:52:51.515Z"
   },
   {
    "duration": 182,
    "start_time": "2022-11-27T15:52:56.835Z"
   },
   {
    "duration": 14,
    "start_time": "2022-11-27T15:52:59.156Z"
   },
   {
    "duration": 91,
    "start_time": "2022-11-27T15:55:39.913Z"
   },
   {
    "duration": 7,
    "start_time": "2022-11-27T15:55:44.923Z"
   },
   {
    "duration": 26,
    "start_time": "2022-11-27T15:55:54.475Z"
   },
   {
    "duration": 5,
    "start_time": "2022-11-27T15:56:01.910Z"
   },
   {
    "duration": 77,
    "start_time": "2022-11-27T15:56:30.266Z"
   },
   {
    "duration": 5,
    "start_time": "2022-11-27T15:56:36.510Z"
   },
   {
    "duration": 3,
    "start_time": "2022-11-27T15:56:42.811Z"
   },
   {
    "duration": 8,
    "start_time": "2022-11-27T15:57:04.148Z"
   },
   {
    "duration": 5,
    "start_time": "2022-11-27T15:57:33.468Z"
   },
   {
    "duration": 5,
    "start_time": "2022-11-27T15:57:48.417Z"
   },
   {
    "duration": 6,
    "start_time": "2022-11-27T15:58:12.556Z"
   },
   {
    "duration": 8,
    "start_time": "2022-11-27T15:58:22.958Z"
   },
   {
    "duration": 6,
    "start_time": "2022-11-27T16:00:12.857Z"
   },
   {
    "duration": 5,
    "start_time": "2022-11-27T16:00:19.957Z"
   },
   {
    "duration": 5,
    "start_time": "2022-11-27T16:00:33.202Z"
   },
   {
    "duration": 7,
    "start_time": "2022-11-27T16:01:15.740Z"
   },
   {
    "duration": 4,
    "start_time": "2022-11-27T16:01:43.802Z"
   },
   {
    "duration": 5,
    "start_time": "2022-11-27T16:01:46.220Z"
   },
   {
    "duration": 7,
    "start_time": "2022-11-27T16:01:55.722Z"
   },
   {
    "duration": 118,
    "start_time": "2022-11-27T16:02:04.564Z"
   },
   {
    "duration": 9,
    "start_time": "2022-11-27T16:02:09.718Z"
   },
   {
    "duration": 9,
    "start_time": "2022-11-27T16:03:02.378Z"
   },
   {
    "duration": 9,
    "start_time": "2022-11-27T16:03:12.303Z"
   },
   {
    "duration": 6,
    "start_time": "2022-11-27T16:04:11.605Z"
   },
   {
    "duration": 4,
    "start_time": "2022-11-27T16:07:09.543Z"
   },
   {
    "duration": 5,
    "start_time": "2022-11-27T16:07:17.311Z"
   },
   {
    "duration": 6,
    "start_time": "2022-11-27T16:07:28.107Z"
   },
   {
    "duration": 13,
    "start_time": "2022-11-27T16:08:31.795Z"
   },
   {
    "duration": 8,
    "start_time": "2022-11-27T16:08:42.380Z"
   },
   {
    "duration": 11,
    "start_time": "2022-11-27T16:09:00.172Z"
   },
   {
    "duration": 5,
    "start_time": "2022-11-27T16:09:13.134Z"
   },
   {
    "duration": 7,
    "start_time": "2022-11-27T16:09:46.801Z"
   },
   {
    "duration": 12,
    "start_time": "2022-11-27T16:10:22.548Z"
   },
   {
    "duration": 80,
    "start_time": "2022-11-27T16:10:35.308Z"
   },
   {
    "duration": 6,
    "start_time": "2022-11-27T16:11:00.739Z"
   },
   {
    "duration": 4,
    "start_time": "2022-11-27T16:11:40.827Z"
   },
   {
    "duration": 9,
    "start_time": "2022-11-27T16:11:52.947Z"
   },
   {
    "duration": 11,
    "start_time": "2022-11-27T16:12:38.869Z"
   },
   {
    "duration": 12,
    "start_time": "2022-11-27T16:13:01.972Z"
   },
   {
    "duration": 11,
    "start_time": "2022-11-27T16:13:15.072Z"
   },
   {
    "duration": 4,
    "start_time": "2022-11-27T16:13:28.335Z"
   },
   {
    "duration": 6,
    "start_time": "2022-11-27T16:14:12.266Z"
   },
   {
    "duration": 7,
    "start_time": "2022-11-27T16:14:47.524Z"
   },
   {
    "duration": 8,
    "start_time": "2022-11-27T16:14:58.872Z"
   },
   {
    "duration": 4,
    "start_time": "2022-11-27T16:15:40.691Z"
   },
   {
    "duration": 13,
    "start_time": "2022-11-27T16:16:50.141Z"
   },
   {
    "duration": 10,
    "start_time": "2022-11-27T16:17:00.224Z"
   },
   {
    "duration": 9,
    "start_time": "2022-11-27T16:17:10.067Z"
   },
   {
    "duration": 8,
    "start_time": "2022-11-27T16:21:02.571Z"
   },
   {
    "duration": 8,
    "start_time": "2022-11-27T16:21:05.926Z"
   },
   {
    "duration": 7,
    "start_time": "2022-11-27T16:21:16.701Z"
   },
   {
    "duration": 13,
    "start_time": "2022-11-27T16:21:55.274Z"
   },
   {
    "duration": 11,
    "start_time": "2022-11-27T16:22:20.130Z"
   },
   {
    "duration": 12,
    "start_time": "2022-11-27T16:22:31.574Z"
   },
   {
    "duration": 10,
    "start_time": "2022-11-27T16:22:49.110Z"
   },
   {
    "duration": 11,
    "start_time": "2022-11-27T16:23:06.268Z"
   },
   {
    "duration": 6,
    "start_time": "2022-11-27T16:23:49.035Z"
   },
   {
    "duration": 6,
    "start_time": "2022-11-27T16:24:22.910Z"
   },
   {
    "duration": 11,
    "start_time": "2022-11-27T16:24:27.369Z"
   },
   {
    "duration": 13,
    "start_time": "2022-11-27T16:24:55.379Z"
   },
   {
    "duration": 4,
    "start_time": "2022-11-27T16:26:28.420Z"
   },
   {
    "duration": 66,
    "start_time": "2022-11-27T16:26:36.691Z"
   },
   {
    "duration": 3,
    "start_time": "2022-11-27T16:26:44.734Z"
   },
   {
    "duration": 4,
    "start_time": "2022-11-27T16:26:50.321Z"
   },
   {
    "duration": 7,
    "start_time": "2022-11-27T16:27:04.350Z"
   },
   {
    "duration": 12,
    "start_time": "2022-11-27T16:27:59.923Z"
   },
   {
    "duration": 70,
    "start_time": "2022-11-27T16:30:42.516Z"
   },
   {
    "duration": 90,
    "start_time": "2022-11-27T16:31:28.918Z"
   },
   {
    "duration": 2,
    "start_time": "2022-11-27T16:43:13.490Z"
   },
   {
    "duration": 3,
    "start_time": "2022-11-27T16:43:14.569Z"
   },
   {
    "duration": 2,
    "start_time": "2022-11-27T16:43:37.559Z"
   },
   {
    "duration": 4,
    "start_time": "2022-11-27T16:43:45.936Z"
   },
   {
    "duration": 4,
    "start_time": "2022-11-27T16:44:06.996Z"
   },
   {
    "duration": 8,
    "start_time": "2022-11-27T16:44:21.867Z"
   },
   {
    "duration": 8,
    "start_time": "2022-11-27T16:44:39.534Z"
   },
   {
    "duration": 26,
    "start_time": "2022-11-27T16:44:50.390Z"
   },
   {
    "duration": 58,
    "start_time": "2022-11-27T16:46:05.759Z"
   },
   {
    "duration": 2575,
    "start_time": "2022-11-27T16:46:10.363Z"
   },
   {
    "duration": 5,
    "start_time": "2022-11-27T16:51:11.230Z"
   },
   {
    "duration": 2606,
    "start_time": "2022-11-27T16:51:14.255Z"
   },
   {
    "duration": 5,
    "start_time": "2022-11-27T16:51:46.521Z"
   },
   {
    "duration": 2615,
    "start_time": "2022-11-27T16:51:50.594Z"
   },
   {
    "duration": 4,
    "start_time": "2022-11-27T16:52:47.243Z"
   },
   {
    "duration": 2610,
    "start_time": "2022-11-27T16:52:52.827Z"
   },
   {
    "duration": 4,
    "start_time": "2022-11-27T16:55:44.411Z"
   },
   {
    "duration": 2541,
    "start_time": "2022-11-27T16:55:48.197Z"
   },
   {
    "duration": 4,
    "start_time": "2022-11-27T16:56:22.758Z"
   },
   {
    "duration": 2418,
    "start_time": "2022-11-27T16:56:24.907Z"
   },
   {
    "duration": 4,
    "start_time": "2022-11-27T16:56:35.975Z"
   },
   {
    "duration": 2480,
    "start_time": "2022-11-27T16:56:38.875Z"
   },
   {
    "duration": 4,
    "start_time": "2022-11-27T16:59:05.538Z"
   },
   {
    "duration": 42,
    "start_time": "2022-11-27T16:59:08.111Z"
   },
   {
    "duration": 5,
    "start_time": "2022-11-27T16:59:20.635Z"
   },
   {
    "duration": 35,
    "start_time": "2022-11-27T16:59:32.370Z"
   },
   {
    "duration": 4,
    "start_time": "2022-11-27T17:00:18.630Z"
   },
   {
    "duration": 3,
    "start_time": "2022-11-27T17:00:22.313Z"
   },
   {
    "duration": 32,
    "start_time": "2022-11-27T17:00:25.648Z"
   },
   {
    "duration": 5,
    "start_time": "2022-11-27T17:00:35.736Z"
   },
   {
    "duration": 150414,
    "start_time": "2022-11-27T17:00:39.594Z"
   },
   {
    "duration": 3,
    "start_time": "2022-11-27T17:03:10.010Z"
   },
   {
    "duration": 10,
    "start_time": "2022-11-27T17:06:20.859Z"
   },
   {
    "duration": 69,
    "start_time": "2022-11-27T17:08:29.204Z"
   },
   {
    "duration": 576,
    "start_time": "2022-11-27T17:09:00.245Z"
   },
   {
    "duration": 5,
    "start_time": "2022-11-27T17:09:21.292Z"
   },
   {
    "duration": 539,
    "start_time": "2022-11-27T17:09:26.971Z"
   },
   {
    "duration": 526,
    "start_time": "2022-11-27T17:09:51.401Z"
   },
   {
    "duration": 3,
    "start_time": "2022-11-27T17:10:42.256Z"
   },
   {
    "duration": 1949,
    "start_time": "2022-11-27T17:10:55.952Z"
   },
   {
    "duration": 4,
    "start_time": "2022-11-27T17:12:02.094Z"
   },
   {
    "duration": 577,
    "start_time": "2022-11-27T17:12:04.547Z"
   },
   {
    "duration": 3,
    "start_time": "2022-11-27T17:13:42.850Z"
   },
   {
    "duration": 4,
    "start_time": "2022-11-27T17:13:57.594Z"
   },
   {
    "duration": 3,
    "start_time": "2022-11-27T17:15:50.591Z"
   },
   {
    "duration": 2022,
    "start_time": "2022-11-27T17:15:53.427Z"
   },
   {
    "duration": 4,
    "start_time": "2022-11-27T17:16:39.366Z"
   },
   {
    "duration": 1973,
    "start_time": "2022-11-27T17:16:41.790Z"
   },
   {
    "duration": 2,
    "start_time": "2022-11-27T17:17:09.611Z"
   },
   {
    "duration": 2021,
    "start_time": "2022-11-27T17:17:12.375Z"
   },
   {
    "duration": 2,
    "start_time": "2022-11-27T17:18:34.660Z"
   },
   {
    "duration": 4957,
    "start_time": "2022-11-27T17:18:36.651Z"
   },
   {
    "duration": 3,
    "start_time": "2022-11-27T17:19:31.000Z"
   },
   {
    "duration": 29,
    "start_time": "2022-11-27T17:19:36.019Z"
   },
   {
    "duration": 7,
    "start_time": "2022-11-27T17:19:39.339Z"
   },
   {
    "duration": 19,
    "start_time": "2022-11-27T17:19:42.632Z"
   },
   {
    "duration": 5,
    "start_time": "2022-11-27T17:19:45.707Z"
   },
   {
    "duration": 4,
    "start_time": "2022-11-27T17:19:47.948Z"
   },
   {
    "duration": 384,
    "start_time": "2022-11-27T17:19:50.619Z"
   },
   {
    "duration": 3,
    "start_time": "2022-11-27T17:19:56.365Z"
   },
   {
    "duration": 1617,
    "start_time": "2022-11-27T17:19:59.401Z"
   },
   {
    "duration": 3,
    "start_time": "2022-11-27T17:20:13.092Z"
   },
   {
    "duration": 6,
    "start_time": "2022-11-27T17:20:16.349Z"
   },
   {
    "duration": 12,
    "start_time": "2022-11-27T17:20:19.221Z"
   },
   {
    "duration": 10,
    "start_time": "2022-11-27T17:20:40.298Z"
   },
   {
    "duration": 9,
    "start_time": "2022-11-27T17:20:46.054Z"
   },
   {
    "duration": 11,
    "start_time": "2022-11-27T17:20:57.572Z"
   },
   {
    "duration": 10,
    "start_time": "2022-11-27T17:21:15.719Z"
   },
   {
    "duration": 4,
    "start_time": "2022-11-27T17:21:27.241Z"
   },
   {
    "duration": 4,
    "start_time": "2022-11-27T17:22:26.869Z"
   },
   {
    "duration": 5,
    "start_time": "2022-11-27T17:23:05.248Z"
   },
   {
    "duration": 4,
    "start_time": "2022-11-27T17:23:14.624Z"
   },
   {
    "duration": 102,
    "start_time": "2022-11-27T20:17:44.960Z"
   },
   {
    "duration": 102,
    "start_time": "2022-11-27T20:17:51.914Z"
   },
   {
    "duration": 9,
    "start_time": "2022-11-27T20:32:51.882Z"
   },
   {
    "duration": 3,
    "start_time": "2022-11-27T20:33:10.699Z"
   },
   {
    "duration": 6,
    "start_time": "2022-11-27T20:33:12.810Z"
   },
   {
    "duration": 10,
    "start_time": "2022-11-27T20:33:14.941Z"
   },
   {
    "duration": 6,
    "start_time": "2022-11-27T20:33:18.106Z"
   },
   {
    "duration": 6,
    "start_time": "2022-11-27T20:33:20.740Z"
   },
   {
    "duration": 8,
    "start_time": "2022-11-27T20:33:28.343Z"
   },
   {
    "duration": 11,
    "start_time": "2022-11-27T20:33:31.173Z"
   },
   {
    "duration": 6,
    "start_time": "2022-11-27T20:33:36.357Z"
   },
   {
    "duration": 10,
    "start_time": "2022-11-27T20:33:40.636Z"
   },
   {
    "duration": 11,
    "start_time": "2022-11-27T20:33:43.219Z"
   },
   {
    "duration": 11,
    "start_time": "2022-11-27T20:33:44.674Z"
   },
   {
    "duration": 9,
    "start_time": "2022-11-27T20:33:46.500Z"
   },
   {
    "duration": 5,
    "start_time": "2022-11-27T20:34:59.897Z"
   },
   {
    "duration": 5,
    "start_time": "2022-11-27T20:35:06.478Z"
   },
   {
    "duration": 10,
    "start_time": "2022-11-27T20:35:10.517Z"
   },
   {
    "duration": 12,
    "start_time": "2022-11-27T20:35:15.967Z"
   },
   {
    "duration": 11,
    "start_time": "2022-11-27T20:45:04.878Z"
   },
   {
    "duration": 13,
    "start_time": "2022-11-27T20:45:30.973Z"
   },
   {
    "duration": 11,
    "start_time": "2022-11-27T20:45:48.635Z"
   },
   {
    "duration": 13,
    "start_time": "2022-11-27T20:46:07.709Z"
   },
   {
    "duration": 8,
    "start_time": "2022-11-27T20:55:01.305Z"
   },
   {
    "duration": 10,
    "start_time": "2022-11-27T20:55:08.599Z"
   },
   {
    "duration": 8,
    "start_time": "2022-11-27T20:55:18.951Z"
   },
   {
    "duration": 25,
    "start_time": "2022-11-27T20:56:16.694Z"
   },
   {
    "duration": 9,
    "start_time": "2022-11-27T20:57:06.852Z"
   },
   {
    "duration": 9,
    "start_time": "2022-11-27T20:59:42.412Z"
   },
   {
    "duration": 10,
    "start_time": "2022-11-27T21:00:29.041Z"
   },
   {
    "duration": 15,
    "start_time": "2022-11-27T21:00:44.031Z"
   },
   {
    "duration": 74,
    "start_time": "2022-11-27T21:04:06.268Z"
   },
   {
    "duration": 3,
    "start_time": "2022-11-27T21:15:55.268Z"
   },
   {
    "duration": 2,
    "start_time": "2022-11-27T21:16:07.972Z"
   },
   {
    "duration": 4,
    "start_time": "2022-11-27T21:16:34.138Z"
   },
   {
    "duration": 11,
    "start_time": "2022-11-27T21:21:09.762Z"
   },
   {
    "duration": 9,
    "start_time": "2022-11-27T21:21:25.492Z"
   },
   {
    "duration": 12,
    "start_time": "2022-11-27T21:21:44.466Z"
   },
   {
    "duration": 5,
    "start_time": "2022-11-27T21:22:24.617Z"
   },
   {
    "duration": 4,
    "start_time": "2022-11-27T21:22:34.666Z"
   },
   {
    "duration": 7,
    "start_time": "2022-11-27T21:22:48.395Z"
   },
   {
    "duration": 7,
    "start_time": "2022-11-27T21:23:15.591Z"
   },
   {
    "duration": 8,
    "start_time": "2022-11-27T21:23:40.170Z"
   },
   {
    "duration": 7,
    "start_time": "2022-11-27T21:24:18.300Z"
   },
   {
    "duration": 12,
    "start_time": "2022-11-27T21:26:18.613Z"
   },
   {
    "duration": 9,
    "start_time": "2022-11-27T21:26:29.067Z"
   },
   {
    "duration": 13,
    "start_time": "2022-11-27T21:26:43.587Z"
   },
   {
    "duration": 10,
    "start_time": "2022-11-27T21:33:45.610Z"
   },
   {
    "duration": 14,
    "start_time": "2022-11-27T21:34:35.191Z"
   },
   {
    "duration": 19,
    "start_time": "2022-11-27T21:35:49.689Z"
   },
   {
    "duration": 14,
    "start_time": "2022-11-27T21:36:31.658Z"
   },
   {
    "duration": 5,
    "start_time": "2022-11-27T21:37:10.850Z"
   },
   {
    "duration": 6,
    "start_time": "2022-11-27T21:37:13.975Z"
   },
   {
    "duration": 11,
    "start_time": "2022-11-27T21:38:11.054Z"
   },
   {
    "duration": 74,
    "start_time": "2022-11-27T21:40:14.525Z"
   },
   {
    "duration": 3,
    "start_time": "2022-11-27T21:40:31.260Z"
   },
   {
    "duration": 33,
    "start_time": "2022-11-27T21:40:31.265Z"
   },
   {
    "duration": 7,
    "start_time": "2022-11-27T21:40:31.300Z"
   },
   {
    "duration": 21,
    "start_time": "2022-11-27T21:40:31.309Z"
   },
   {
    "duration": 5,
    "start_time": "2022-11-27T21:40:31.332Z"
   },
   {
    "duration": 7,
    "start_time": "2022-11-27T21:40:31.338Z"
   },
   {
    "duration": 403,
    "start_time": "2022-11-27T21:40:31.346Z"
   },
   {
    "duration": 3,
    "start_time": "2022-11-27T21:40:31.750Z"
   },
   {
    "duration": 1505,
    "start_time": "2022-11-27T21:40:31.755Z"
   },
   {
    "duration": 3,
    "start_time": "2022-11-27T21:40:33.261Z"
   },
   {
    "duration": 13,
    "start_time": "2022-11-27T21:40:33.266Z"
   },
   {
    "duration": 10,
    "start_time": "2022-11-27T21:40:33.280Z"
   },
   {
    "duration": 8,
    "start_time": "2022-11-27T21:40:33.292Z"
   },
   {
    "duration": 6,
    "start_time": "2022-11-27T21:40:33.302Z"
   },
   {
    "duration": 6,
    "start_time": "2022-11-27T21:40:33.310Z"
   },
   {
    "duration": 9,
    "start_time": "2022-11-27T21:40:33.317Z"
   },
   {
    "duration": 3,
    "start_time": "2022-11-27T21:40:33.327Z"
   },
   {
    "duration": 58,
    "start_time": "2022-11-27T21:40:33.332Z"
   },
   {
    "duration": 99,
    "start_time": "2022-11-27T21:40:33.392Z"
   },
   {
    "duration": 89,
    "start_time": "2022-11-27T21:40:33.494Z"
   },
   {
    "duration": 6,
    "start_time": "2022-11-27T21:40:33.584Z"
   },
   {
    "duration": 16,
    "start_time": "2022-11-27T22:00:36.301Z"
   },
   {
    "duration": 15,
    "start_time": "2022-11-27T22:01:36.181Z"
   },
   {
    "duration": 17,
    "start_time": "2022-11-27T22:02:19.572Z"
   },
   {
    "duration": 15,
    "start_time": "2022-11-27T22:03:03.843Z"
   },
   {
    "duration": 14,
    "start_time": "2022-11-27T22:03:38.438Z"
   },
   {
    "duration": 4,
    "start_time": "2022-11-27T22:12:57.162Z"
   },
   {
    "duration": 48,
    "start_time": "2022-11-27T22:12:57.168Z"
   },
   {
    "duration": 7,
    "start_time": "2022-11-27T22:12:57.218Z"
   },
   {
    "duration": 22,
    "start_time": "2022-11-27T22:12:57.227Z"
   },
   {
    "duration": 5,
    "start_time": "2022-11-27T22:12:57.251Z"
   },
   {
    "duration": 6,
    "start_time": "2022-11-27T22:12:57.257Z"
   },
   {
    "duration": 407,
    "start_time": "2022-11-27T22:12:57.265Z"
   },
   {
    "duration": 14,
    "start_time": "2022-11-27T22:12:57.673Z"
   },
   {
    "duration": 1678,
    "start_time": "2022-11-27T22:12:57.694Z"
   },
   {
    "duration": 8,
    "start_time": "2022-11-27T22:12:59.377Z"
   },
   {
    "duration": 25,
    "start_time": "2022-11-27T22:12:59.387Z"
   },
   {
    "duration": 12,
    "start_time": "2022-11-27T22:12:59.414Z"
   },
   {
    "duration": 5,
    "start_time": "2022-11-27T22:12:59.428Z"
   },
   {
    "duration": 13,
    "start_time": "2022-11-27T22:12:59.434Z"
   },
   {
    "duration": 6,
    "start_time": "2022-11-27T22:12:59.449Z"
   },
   {
    "duration": 7,
    "start_time": "2022-11-27T22:12:59.457Z"
   },
   {
    "duration": 14,
    "start_time": "2022-11-27T22:12:59.466Z"
   },
   {
    "duration": 18,
    "start_time": "2022-11-27T22:12:59.481Z"
   },
   {
    "duration": 181,
    "start_time": "2022-11-27T22:12:59.503Z"
   },
   {
    "duration": 14,
    "start_time": "2022-11-27T22:12:59.685Z"
   },
   {
    "duration": 12,
    "start_time": "2022-11-27T22:12:59.704Z"
   },
   {
    "duration": 146,
    "start_time": "2022-11-27T22:20:05.086Z"
   },
   {
    "duration": 98,
    "start_time": "2022-11-27T22:22:38.246Z"
   },
   {
    "duration": 3,
    "start_time": "2022-11-27T22:28:46.541Z"
   },
   {
    "duration": 9,
    "start_time": "2022-11-27T22:29:17.051Z"
   },
   {
    "duration": 4,
    "start_time": "2022-11-27T22:29:50.868Z"
   },
   {
    "duration": 3,
    "start_time": "2022-11-27T22:29:59.640Z"
   },
   {
    "duration": 7,
    "start_time": "2022-11-27T22:30:02.074Z"
   },
   {
    "duration": 3,
    "start_time": "2022-11-27T22:30:12.690Z"
   },
   {
    "duration": 4,
    "start_time": "2022-11-27T22:30:58.992Z"
   },
   {
    "duration": 3,
    "start_time": "2022-11-27T22:31:04.126Z"
   },
   {
    "duration": 4,
    "start_time": "2022-11-27T22:31:30.834Z"
   },
   {
    "duration": 3,
    "start_time": "2022-11-27T22:31:33.000Z"
   },
   {
    "duration": 3,
    "start_time": "2022-11-27T22:32:43.723Z"
   },
   {
    "duration": 7,
    "start_time": "2022-11-27T22:32:52.675Z"
   },
   {
    "duration": 4,
    "start_time": "2022-11-27T22:35:00.998Z"
   },
   {
    "duration": 9,
    "start_time": "2022-11-27T22:35:17.089Z"
   },
   {
    "duration": 8,
    "start_time": "2022-11-27T22:35:32.710Z"
   },
   {
    "duration": 14,
    "start_time": "2022-11-27T22:36:27.674Z"
   },
   {
    "duration": 8,
    "start_time": "2022-11-27T22:37:04.591Z"
   },
   {
    "duration": 4,
    "start_time": "2022-11-27T22:37:48.851Z"
   },
   {
    "duration": 8,
    "start_time": "2022-11-27T22:37:50.892Z"
   },
   {
    "duration": 5,
    "start_time": "2022-11-27T22:38:37.988Z"
   },
   {
    "duration": 11,
    "start_time": "2022-11-27T22:38:42.391Z"
   },
   {
    "duration": 4,
    "start_time": "2022-11-27T22:39:14.993Z"
   },
   {
    "duration": 12,
    "start_time": "2022-11-27T22:39:17.830Z"
   },
   {
    "duration": 4,
    "start_time": "2022-11-27T22:40:54.139Z"
   },
   {
    "duration": 12,
    "start_time": "2022-11-27T22:41:05.942Z"
   },
   {
    "duration": 4,
    "start_time": "2022-11-27T22:41:36.050Z"
   },
   {
    "duration": 8,
    "start_time": "2022-11-27T22:41:40.169Z"
   },
   {
    "duration": 14,
    "start_time": "2022-11-27T22:42:14.361Z"
   },
   {
    "duration": 5,
    "start_time": "2022-11-27T22:42:30.303Z"
   },
   {
    "duration": 10,
    "start_time": "2022-11-27T22:42:32.253Z"
   },
   {
    "duration": 5,
    "start_time": "2022-11-27T22:44:07.041Z"
   },
   {
    "duration": 9,
    "start_time": "2022-11-27T22:44:33.104Z"
   },
   {
    "duration": 14,
    "start_time": "2022-11-27T22:44:42.734Z"
   },
   {
    "duration": 14,
    "start_time": "2022-11-27T22:44:53.395Z"
   },
   {
    "duration": 4,
    "start_time": "2022-11-27T22:46:37.306Z"
   },
   {
    "duration": 14,
    "start_time": "2022-11-27T22:46:45.149Z"
   },
   {
    "duration": 4,
    "start_time": "2022-11-27T22:47:57.438Z"
   },
   {
    "duration": 23,
    "start_time": "2022-11-27T22:48:00.403Z"
   },
   {
    "duration": 7,
    "start_time": "2022-11-27T22:53:43.972Z"
   },
   {
    "duration": 18,
    "start_time": "2022-11-27T22:54:25.025Z"
   },
   {
    "duration": 22,
    "start_time": "2022-11-27T22:54:48.360Z"
   },
   {
    "duration": 7,
    "start_time": "2022-11-27T22:58:13.947Z"
   },
   {
    "duration": 22,
    "start_time": "2022-11-27T22:58:17.372Z"
   },
   {
    "duration": 5,
    "start_time": "2022-11-27T23:03:49.847Z"
   },
   {
    "duration": 25,
    "start_time": "2022-11-27T23:03:52.878Z"
   },
   {
    "duration": 22,
    "start_time": "2022-11-27T23:04:06.620Z"
   },
   {
    "duration": 14,
    "start_time": "2022-11-27T23:11:16.112Z"
   },
   {
    "duration": 6,
    "start_time": "2022-11-27T23:11:43.452Z"
   },
   {
    "duration": 19,
    "start_time": "2022-11-27T23:11:45.724Z"
   },
   {
    "duration": 99,
    "start_time": "2022-11-27T23:12:32.282Z"
   },
   {
    "duration": 170,
    "start_time": "2022-11-27T23:12:54.908Z"
   },
   {
    "duration": 70,
    "start_time": "2022-11-27T23:13:16.610Z"
   },
   {
    "duration": 14,
    "start_time": "2022-11-27T23:16:16.196Z"
   },
   {
    "duration": 11,
    "start_time": "2022-11-27T23:18:31.083Z"
   },
   {
    "duration": 13,
    "start_time": "2022-11-27T23:18:43.403Z"
   },
   {
    "duration": 13,
    "start_time": "2022-11-27T23:19:51.226Z"
   },
   {
    "duration": 13,
    "start_time": "2022-11-27T23:20:37.364Z"
   },
   {
    "duration": 19,
    "start_time": "2022-11-27T23:20:59.052Z"
   },
   {
    "duration": 18,
    "start_time": "2022-11-27T23:21:25.445Z"
   },
   {
    "duration": 10,
    "start_time": "2022-11-27T23:22:52.308Z"
   },
   {
    "duration": 5,
    "start_time": "2022-11-27T23:22:54.816Z"
   },
   {
    "duration": 84,
    "start_time": "2022-11-27T23:22:56.595Z"
   },
   {
    "duration": 64,
    "start_time": "2022-11-27T23:24:29.915Z"
   },
   {
    "duration": 36,
    "start_time": "2022-11-27T23:24:38.043Z"
   },
   {
    "duration": 7,
    "start_time": "2022-11-27T23:26:58.911Z"
   },
   {
    "duration": 7,
    "start_time": "2022-11-27T23:28:28.615Z"
   },
   {
    "duration": 101,
    "start_time": "2022-11-27T23:28:31.577Z"
   },
   {
    "duration": 9,
    "start_time": "2022-11-27T23:28:54.115Z"
   },
   {
    "duration": 13,
    "start_time": "2022-11-27T23:29:04.509Z"
   },
   {
    "duration": 6,
    "start_time": "2022-11-27T23:29:35.068Z"
   },
   {
    "duration": 9,
    "start_time": "2022-11-27T23:29:43.693Z"
   },
   {
    "duration": 5,
    "start_time": "2022-11-27T23:29:53.339Z"
   },
   {
    "duration": 8,
    "start_time": "2022-11-27T23:30:02.699Z"
   },
   {
    "duration": 4,
    "start_time": "2022-11-27T23:30:19.861Z"
   },
   {
    "duration": 12,
    "start_time": "2022-11-27T23:32:51.183Z"
   },
   {
    "duration": 11,
    "start_time": "2022-11-27T23:33:42.029Z"
   },
   {
    "duration": 8,
    "start_time": "2022-11-27T23:33:57.498Z"
   },
   {
    "duration": 13,
    "start_time": "2022-11-27T23:34:11.936Z"
   },
   {
    "duration": 17,
    "start_time": "2022-11-27T23:34:19.468Z"
   },
   {
    "duration": 23,
    "start_time": "2022-11-27T23:34:53.264Z"
   },
   {
    "duration": 20,
    "start_time": "2022-11-27T23:37:42.500Z"
   },
   {
    "duration": 106,
    "start_time": "2022-11-27T23:39:43.377Z"
   },
   {
    "duration": 77,
    "start_time": "2022-11-27T23:40:26.355Z"
   },
   {
    "duration": 7,
    "start_time": "2022-11-27T23:47:37.587Z"
   },
   {
    "duration": 54,
    "start_time": "2022-11-27T23:47:41.029Z"
   },
   {
    "duration": 24,
    "start_time": "2022-11-27T23:48:13.613Z"
   },
   {
    "duration": 34,
    "start_time": "2022-11-27T23:48:46.244Z"
   },
   {
    "duration": 3,
    "start_time": "2022-11-27T23:50:13.316Z"
   },
   {
    "duration": 4,
    "start_time": "2022-11-27T23:50:18.662Z"
   },
   {
    "duration": 4,
    "start_time": "2022-11-27T23:50:52.485Z"
   },
   {
    "duration": 4,
    "start_time": "2022-11-27T23:51:03.620Z"
   },
   {
    "duration": 4,
    "start_time": "2022-11-27T23:51:06.989Z"
   },
   {
    "duration": 3,
    "start_time": "2022-11-27T23:51:14.944Z"
   },
   {
    "duration": 4,
    "start_time": "2022-11-27T23:51:26.783Z"
   },
   {
    "duration": 4,
    "start_time": "2022-11-27T23:51:49.770Z"
   },
   {
    "duration": 3,
    "start_time": "2022-11-27T23:53:22.298Z"
   },
   {
    "duration": 38,
    "start_time": "2022-11-27T23:53:22.303Z"
   },
   {
    "duration": 9,
    "start_time": "2022-11-27T23:53:22.342Z"
   },
   {
    "duration": 20,
    "start_time": "2022-11-27T23:53:22.353Z"
   },
   {
    "duration": 4,
    "start_time": "2022-11-27T23:53:22.374Z"
   },
   {
    "duration": 6,
    "start_time": "2022-11-27T23:53:22.380Z"
   },
   {
    "duration": 378,
    "start_time": "2022-11-27T23:53:22.387Z"
   },
   {
    "duration": 3,
    "start_time": "2022-11-27T23:53:22.766Z"
   },
   {
    "duration": 1547,
    "start_time": "2022-11-27T23:53:22.778Z"
   },
   {
    "duration": 3,
    "start_time": "2022-11-27T23:53:24.328Z"
   },
   {
    "duration": 9,
    "start_time": "2022-11-27T23:53:24.333Z"
   },
   {
    "duration": 13,
    "start_time": "2022-11-27T23:53:24.344Z"
   },
   {
    "duration": 21,
    "start_time": "2022-11-27T23:53:24.358Z"
   },
   {
    "duration": 6,
    "start_time": "2022-11-27T23:53:24.381Z"
   },
   {
    "duration": 7,
    "start_time": "2022-11-27T23:53:24.388Z"
   },
   {
    "duration": 7,
    "start_time": "2022-11-27T23:53:24.397Z"
   },
   {
    "duration": 3,
    "start_time": "2022-11-27T23:53:24.406Z"
   },
   {
    "duration": 75,
    "start_time": "2022-11-27T23:53:24.410Z"
   },
   {
    "duration": 96,
    "start_time": "2022-11-27T23:53:24.487Z"
   },
   {
    "duration": 8,
    "start_time": "2022-11-27T23:53:24.585Z"
   },
   {
    "duration": 5,
    "start_time": "2022-11-27T23:53:24.594Z"
   },
   {
    "duration": 5,
    "start_time": "2022-11-27T23:53:24.601Z"
   },
   {
    "duration": 76,
    "start_time": "2022-11-27T23:53:24.608Z"
   },
   {
    "duration": 16,
    "start_time": "2022-11-27T23:53:24.685Z"
   },
   {
    "duration": 0,
    "start_time": "2022-11-27T23:53:24.778Z"
   },
   {
    "duration": 0,
    "start_time": "2022-11-27T23:53:24.780Z"
   },
   {
    "duration": 6,
    "start_time": "2022-11-27T23:55:20.987Z"
   },
   {
    "duration": 110,
    "start_time": "2022-11-27T23:55:23.375Z"
   },
   {
    "duration": 20,
    "start_time": "2022-11-27T23:55:28.795Z"
   },
   {
    "duration": 28,
    "start_time": "2022-11-27T23:55:33.672Z"
   },
   {
    "duration": 4,
    "start_time": "2022-11-27T23:55:40.881Z"
   }
  ],
  "kernelspec": {
   "display_name": "Python 3 (ipykernel)",
   "language": "python",
   "name": "python3"
  },
  "language_info": {
   "codemirror_mode": {
    "name": "ipython",
    "version": 3
   },
   "file_extension": ".py",
   "mimetype": "text/x-python",
   "name": "python",
   "nbconvert_exporter": "python",
   "pygments_lexer": "ipython3",
   "version": "3.8.10"
  },
  "toc": {
   "base_numbering": 1,
   "nav_menu": {},
   "number_sections": true,
   "sideBar": true,
   "skip_h1_title": true,
   "title_cell": "Table of Contents",
   "title_sidebar": "Contents",
   "toc_cell": false,
   "toc_position": {},
   "toc_section_display": true,
   "toc_window_display": false
  }
 },
 "nbformat": 4,
 "nbformat_minor": 5
}
