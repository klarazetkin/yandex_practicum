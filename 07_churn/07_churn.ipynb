{
 "cells": [
  {
   "cell_type": "markdown",
   "id": "69f33f58",
   "metadata": {},
   "source": [
    "# Предсказание ухода клиента для банка \"Бета-Банк\"\n",
    "## Постановка задачи\n",
    "\n",
    "\"Бета-Банк\" решает проблему оттока клиентов. Согласно расчетов маркетологов банка, сохранять текущих клиентов дешевле, чем привлекать новых. \n",
    "\n",
    "Нужно научиться прогнозировать, уйдёт клиент из банка в ближайшее время или нет. Исходные данные для анализа - исторические данные о поведении клиентов и расторжении договоров с банком.\n",
    "\n",
    "Нужно построить прогнозирующую модель с предельно большим значением F1-меры (не менее 0.59), затем проверить F1-меру на тестовой выборке. Дополнительно нужно измерять метрику AUC-ROC и сравнить её значения с F1-мерой.\n"
   ]
  },
  {
   "cell_type": "markdown",
   "id": "b46268b1",
   "metadata": {},
   "source": [
    "## Импорт библиотек и данных\n",
    "Импортируем датасет в переменную `df` и ознакомимся с данными. \n",
    "\n",
    "Исходные данные представляют собой датасет на 10_000 строк и 14 столбцов. Названия столбцов в CamelCase. Три столбца (`RowNumber`, `CustomerId`, `Surname`) неинформативны, их нужно будет удалить. Типы данных адекватны, но можно преобразовать колонки `HasCrCard` и `IsActiveMember` из численного типа в логический. В колонке `Tenure` есть пустые значения, от которых нужно будет избавиться.\n",
    "\n",
    "В целом данные адекватны и пригодны для анализа после предобработки."
   ]
  },
  {
   "cell_type": "code",
   "execution_count": null,
   "id": "20dffad4",
   "metadata": {},
   "outputs": [],
   "source": [
    "from pathlib import Path\n",
    "\n",
    "import pandas as pd\n",
    "pd.set_option('display.float_format', '{:,.4f}'.format)\n",
    "\n",
    "import matplotlib.pyplot as plt\n",
    "\n",
    "import numpy as np\n",
    "from sklearn.model_selection import train_test_split \n",
    "from sklearn.tree import DecisionTreeClassifier\n",
    "from sklearn.metrics import accuracy_score\n",
    "from sklearn.ensemble import RandomForestClassifier\n",
    "from sklearn.linear_model import LogisticRegression\n",
    "from sklearn.preprocessing import StandardScaler \n",
    "from sklearn.metrics import f1_score\n",
    "from sklearn.metrics import roc_curve\n",
    "from sklearn.metrics import roc_auc_score\n",
    "from sklearn.utils import shuffle"
   ]
  },
  {
   "cell_type": "code",
   "execution_count": null,
   "id": "c593b391",
   "metadata": {},
   "outputs": [],
   "source": [
    "my_path = Path('/home/klarazetkin/Documents/yandex/module_2/project_3')\n",
    "if my_path.is_dir():\n",
    "    df = pd.read_csv('/home/klarazetkin/Documents/yandex/module_2/project_3/Churn.csv')\n",
    "else:\n",
    "    df = pd.read_csv('/datasets/Churn.csv')"
   ]
  },
  {
   "cell_type": "code",
   "execution_count": null,
   "id": "432714aa",
   "metadata": {},
   "outputs": [],
   "source": [
    "df.head()"
   ]
  },
  {
   "cell_type": "code",
   "execution_count": null,
   "id": "029f7372",
   "metadata": {},
   "outputs": [],
   "source": [
    "df.shape"
   ]
  },
  {
   "cell_type": "code",
   "execution_count": null,
   "id": "a7c979c4",
   "metadata": {},
   "outputs": [],
   "source": [
    "df.isna().mean()"
   ]
  },
  {
   "cell_type": "code",
   "execution_count": null,
   "id": "d792fb06",
   "metadata": {
    "scrolled": false
   },
   "outputs": [],
   "source": [
    "df.info()"
   ]
  },
  {
   "cell_type": "markdown",
   "id": "d23eb69d",
   "metadata": {},
   "source": [
    "## Подготовка данных\n",
    "### Переименование столбцов\n",
    "Названия столбцов переведем из CamelCase в более привычный snake_case."
   ]
  },
  {
   "cell_type": "code",
   "execution_count": null,
   "id": "451414cc",
   "metadata": {},
   "outputs": [],
   "source": [
    "df = df.rename(columns={\"RowNumber\": \"row_number\", \"CustomerId\": \"customer_id\", \"Surname\": \"surname\", \"CreditScore\": \"credit_score\", \"Geography\": \"geography\", \"Gender\": \"gender\", \"Age\": \"age\", \"Tenure\": \"tenure\", \"Balance\": \"balance\", \"NumOfProducts\": \"number_of_products\", \"HasCrCard\": \"has_credit_card\", \"IsActiveMember\": \"is_active_member\", \"EstimatedSalary\": \"estimated_salary\", \"Exited\": \"exited\"})"
   ]
  },
  {
   "cell_type": "code",
   "execution_count": null,
   "id": "02b2a53a",
   "metadata": {},
   "outputs": [],
   "source": [
    "df.columns"
   ]
  },
  {
   "cell_type": "markdown",
   "id": "57406d4b",
   "metadata": {},
   "source": [
    "### Замена типов столбцов\n",
    "Заменим тип столбцов `has_credit_card` и `is_active_member` на логический."
   ]
  },
  {
   "cell_type": "code",
   "execution_count": null,
   "id": "1b9f7f3f",
   "metadata": {},
   "outputs": [],
   "source": [
    "df['has_credit_card'] = df['has_credit_card'].astype('bool')\n",
    "df['is_active_member'] = df['is_active_member'].astype('bool')"
   ]
  },
  {
   "cell_type": "markdown",
   "id": "ff48c34b",
   "metadata": {},
   "source": [
    "### Удаление лишних столбцов\n",
    "Скорей всего, информация об имении и id клиента, а также `row_number` ничего не даст модели и будет мешать обучению. Уберем эти столбцы."
   ]
  },
  {
   "cell_type": "code",
   "execution_count": null,
   "id": "0485dd5e",
   "metadata": {},
   "outputs": [],
   "source": [
    "print(df.shape)\n",
    "df = df.drop(['surname', 'customer_id', 'row_number'], axis=1)\n",
    "print(df.shape)"
   ]
  },
  {
   "cell_type": "markdown",
   "id": "a6d33566",
   "metadata": {},
   "source": [
    "### Заполнение NaN\n",
    "Столбец `tenure` содержит пустые значения. Заполним их медианными."
   ]
  },
  {
   "cell_type": "code",
   "execution_count": null,
   "id": "0948a40f",
   "metadata": {},
   "outputs": [],
   "source": [
    "print(df['tenure'].isna().sum())\n",
    "df['tenure'] = df['tenure'].fillna(df['tenure'].median())\n",
    "print(df['tenure'].isna().sum())"
   ]
  },
  {
   "cell_type": "markdown",
   "id": "398ff798",
   "metadata": {},
   "source": [
    "### Кодирование категориальных признаков техникой OHE\n",
    "В колонках `gender` и `geography` содержатся категориальные признаки. Кодируем их техникой One-Hot Encoding, т.к. она подходит для всех моделей."
   ]
  },
  {
   "cell_type": "code",
   "execution_count": null,
   "id": "3fe21f86",
   "metadata": {},
   "outputs": [],
   "source": [
    "df.head()"
   ]
  },
  {
   "cell_type": "code",
   "execution_count": null,
   "id": "6c4ff24a",
   "metadata": {},
   "outputs": [],
   "source": [
    "print(df['geography'].unique())\n",
    "print(df['gender'].unique())"
   ]
  },
  {
   "cell_type": "code",
   "execution_count": null,
   "id": "84438777",
   "metadata": {},
   "outputs": [],
   "source": [
    "df = pd.get_dummies(df, drop_first=True)"
   ]
  },
  {
   "cell_type": "code",
   "execution_count": null,
   "id": "5ec3ff2a",
   "metadata": {},
   "outputs": [],
   "source": [
    "df.shape"
   ]
  },
  {
   "cell_type": "code",
   "execution_count": null,
   "id": "696f9eb2",
   "metadata": {},
   "outputs": [],
   "source": [
    "df.columns"
   ]
  },
  {
   "cell_type": "markdown",
   "id": "a7681102",
   "metadata": {},
   "source": [
    "### Масштабирование данных\n",
    "Численные значения в колонках `balance` и `estimated_salary` на два порядка превышают значения в других численных колонках. Чтоб модель не считала эти данные более важными, масштабируем численные данные."
   ]
  },
  {
   "cell_type": "code",
   "execution_count": null,
   "id": "77f085ea",
   "metadata": {},
   "outputs": [],
   "source": [
    "numeric = ['credit_score', 'age', 'tenure', 'balance', 'number_of_products', 'estimated_salary']\n",
    "\n",
    "scaler = StandardScaler()\n",
    "scaler.fit(df[numeric]) \n",
    "\n",
    "df[numeric] = scaler.transform(df[numeric])"
   ]
  },
  {
   "cell_type": "code",
   "execution_count": null,
   "id": "3f5211f4",
   "metadata": {
    "scrolled": false
   },
   "outputs": [],
   "source": [
    "df.head()"
   ]
  },
  {
   "cell_type": "markdown",
   "id": "03dc9a68",
   "metadata": {},
   "source": [
    "### Выделение обучающей, валидационной и тестовой выборок\n",
    "Разделим имеющийся датасет на три части: обучающую (60%), валидационную (20%) и тестовую (20%) выборки. Укажем параметр `random_state=666` для обеспечения повторяемости результата."
   ]
  },
  {
   "cell_type": "code",
   "execution_count": null,
   "id": "ca61426d",
   "metadata": {},
   "outputs": [],
   "source": [
    "df_train, df_valid_and_test = train_test_split(df, test_size=0.4, stratify=df['exited'], random_state=666)"
   ]
  },
  {
   "cell_type": "code",
   "execution_count": null,
   "id": "ead68ef6",
   "metadata": {},
   "outputs": [],
   "source": [
    "df_valid, df_test = train_test_split(df_valid_and_test, test_size=0.5, stratify=df_valid_and_test['exited'], random_state=666)"
   ]
  },
  {
   "cell_type": "code",
   "execution_count": null,
   "id": "9087bd80",
   "metadata": {
    "scrolled": false
   },
   "outputs": [],
   "source": [
    "# проверим размеры выборок\n",
    "print(len(df_train))\n",
    "print(len(df_valid))\n",
    "print(len(df_test))"
   ]
  },
  {
   "cell_type": "code",
   "execution_count": null,
   "id": "99107a46",
   "metadata": {},
   "outputs": [],
   "source": [
    "# проверим, что % положительного класса целевого параметра представлены в выборках пропорционально\n",
    "print(df_train['exited'].mean())\n",
    "print(df_valid['exited'].mean())\n",
    "print(df_test['exited'].mean())"
   ]
  },
  {
   "cell_type": "markdown",
   "id": "1fca9974",
   "metadata": {},
   "source": [
    "### Определение целевого признака и других признаков\n",
    "Целевой признак - факт ухода клиента, отраженный в колонке `df['exited']`."
   ]
  },
  {
   "cell_type": "code",
   "execution_count": null,
   "id": "52f21a30",
   "metadata": {},
   "outputs": [],
   "source": [
    "features_train = df_train.drop('exited', axis=1)\n",
    "target_train = df_train['exited']\n",
    "features_valid = df_valid.drop('exited', axis=1)\n",
    "target_valid = df_valid['exited']\n",
    "features_test = df_test.drop('exited', axis=1)\n",
    "target_test = df_test['exited']"
   ]
  },
  {
   "cell_type": "markdown",
   "id": "0d819b2e",
   "metadata": {},
   "source": [
    "## Создание и обучение моделей предсказания"
   ]
  },
  {
   "cell_type": "markdown",
   "id": "c8d0749f",
   "metadata": {},
   "source": [
    "### Исследование баланса классов\n",
    "Целевой признак - факт ухода клиента. Исследуем баланс классов. Соотношение позитивного и негативного классов приблизительно 1 : 4, что довольно далеко от баланса 1 : 1. Попробуем обучить модели без учета дисбаланса, проверим их результаты и при необходимости переобучим с учетом дисбаланса."
   ]
  },
  {
   "cell_type": "code",
   "execution_count": null,
   "id": "6ed5dce4",
   "metadata": {},
   "outputs": [],
   "source": [
    "df['exited'].value_counts()"
   ]
  },
  {
   "cell_type": "code",
   "execution_count": null,
   "id": "be7b43b0",
   "metadata": {
    "scrolled": true
   },
   "outputs": [],
   "source": [
    "df['exited'].mean()"
   ]
  },
  {
   "cell_type": "markdown",
   "id": "44c151b8",
   "metadata": {},
   "source": [
    "### Создание и обучение моделей без учета дисбаланса классов\n",
    "#### Логистическая регрессия\n",
    "Логистическая регрессия, обученная без учета дисбаланса классов, показала результат `f1 = 0.3309608540925267`. Значение меры `AUC-ROC = 0.7454167282490886`. Значение целевого признака очень далеко от минимально приемлемого `f1 = 0.59`.\n",
    "\n",
    "Создадим хэш `metrics` с финальными значениями метрик, куда будем записывать все значения метрик обученных моделей."
   ]
  },
  {
   "cell_type": "code",
   "execution_count": null,
   "id": "0e80045b",
   "metadata": {},
   "outputs": [],
   "source": [
    "model = LogisticRegression(random_state=666, solver='liblinear')\n",
    "model.fit(features_train, target_train)\n",
    "predicted_valid = model.predict(features_valid)\n",
    "f1_of_model = f1_score(target_valid, predicted_valid)\n",
    "print('f1 =', f1_of_model)"
   ]
  },
  {
   "cell_type": "code",
   "execution_count": null,
   "id": "48c8ec73",
   "metadata": {},
   "outputs": [],
   "source": [
    "probabilities_valid = model.predict_proba(features_valid)\n",
    "probabilities_one_valid = probabilities_valid[:, 1]\n",
    "auc_roc = roc_auc_score(target_valid, probabilities_one_valid)\n",
    "print('AUC-ROC =', auc_roc)"
   ]
  },
  {
   "cell_type": "code",
   "execution_count": null,
   "id": "9f483173",
   "metadata": {},
   "outputs": [],
   "source": [
    "metrics = {'logistic_regression_unbalanced': {'f1': f1_of_model, 'auc_roc': auc_roc}}"
   ]
  },
  {
   "cell_type": "markdown",
   "id": "67d1cff2",
   "metadata": {},
   "source": [
    "#### Решающее дерево\n",
    "\n",
    "У решающего дерева, обученного без учета дисбаланса классов, результат лучше: максимальное значение `f1 = 0.5796269727403156`и `auc_roc = 0.8185935806483398`. Лучшая модель имеет глубину 8 уровней."
   ]
  },
  {
   "cell_type": "code",
   "execution_count": null,
   "id": "e71e533f",
   "metadata": {},
   "outputs": [],
   "source": [
    "best_model = None\n",
    "best_f1 = 0\n",
    "best_auc_roc = 0\n",
    "tree_metrics = []\n",
    "\n",
    "for depth in range(2, 21):\n",
    "    model = DecisionTreeClassifier(max_depth=depth, random_state=666)\n",
    "    model.fit(features_train, target_train)\n",
    "    predicted_valid = model.predict(features_valid)\n",
    "    f1_of_model = f1_score(target_valid, predicted_valid)\n",
    "    \n",
    "    probabilities_valid = model.predict_proba(features_valid)\n",
    "    probabilities_one_valid = probabilities_valid[:, 1]\n",
    "    auc_roc_of_model = roc_auc_score(target_valid, probabilities_one_valid)\n",
    "    \n",
    "    print(\"max_depth =\", depth, \": \", end='  ')\n",
    "    print('f1 =', f1_of_model, end='  ') \n",
    "    print('auc_roc =', auc_roc_of_model)\n",
    "    \n",
    "    tree_metrics.append([depth, f1_of_model, auc_roc_of_model])\n",
    "    if f1_of_model > best_f1:\n",
    "        best_f1 = f1_of_model\n",
    "        best_model = model\n",
    "    if auc_roc_of_model > best_auc_roc:\n",
    "        best_auc_roc = auc_roc_of_model\n",
    "        \n",
    "\n",
    "print()        \n",
    "print('best_model:', best_model)\n",
    "print('best_f1:', best_f1)\n",
    "print('best_auc_roc:', best_auc_roc)"
   ]
  },
  {
   "cell_type": "code",
   "execution_count": null,
   "id": "3b419177",
   "metadata": {},
   "outputs": [],
   "source": [
    "metrics['tree_unbalanced'] = {'f1': best_f1,  'auc_roc': 0.8185935806483398}"
   ]
  },
  {
   "cell_type": "markdown",
   "id": "2f13667a",
   "metadata": {},
   "source": [
    "#### Случайный лес\n",
    "Без учета дисбаланса классов лучший результат получился у модели случайного леса с 20 деревьями и глубиной 15: \n",
    "`f1 = 0.564885496183206` и `auc_roc = 0.8324888843728446`. "
   ]
  },
  {
   "cell_type": "code",
   "execution_count": null,
   "id": "02ca3b5d",
   "metadata": {},
   "outputs": [],
   "source": [
    "best_depth = 1\n",
    "best_model = None\n",
    "best_f1 = 0\n",
    "best_auc_roc = 0\n",
    "forest_metrics = []\n",
    "\n",
    "# Сначала обучим лес с 20 деревьями-оценщиками и найдем оптимальную глубину\n",
    "\n",
    "for depth in range(2, 21):\n",
    "    model = RandomForestClassifier(n_estimators=20, max_depth=depth, random_state=666)\n",
    "    model.fit(features_train, target_train)\n",
    "    predicted_valid = model.predict(features_valid)\n",
    "    \n",
    "    f1_of_model = f1_score(target_valid, predicted_valid)\n",
    "    \n",
    "    probabilities_valid = model.predict_proba(features_valid)\n",
    "    probabilities_one_valid = probabilities_valid[:, 1]\n",
    "    auc_roc_of_model = roc_auc_score(target_valid, probabilities_one_valid)\n",
    "    \n",
    "    print(\"max_depth =\", depth, \": \", end='  ')\n",
    "    print('f1 =', f1_of_model, end='  ') \n",
    "    print('auc_roc =', auc_roc_of_model)\n",
    "    \n",
    "    forest_metrics.append([depth, f1_of_model, auc_roc_of_model])\n",
    "    if f1_of_model > best_f1:\n",
    "        best_depth = depth\n",
    "        best_model = model\n",
    "        best_f1 = f1_of_model\n",
    "    if auc_roc_of_model > best_auc_roc:\n",
    "        best_auc_roc = auc_roc_of_model\n",
    "    \n",
    "print()        \n",
    "print('best_depth:', best_depth)\n",
    "print('best_model:', best_model)\n",
    "print('best_f1:', best_f1)\n",
    "print('best_auc_roc:', best_auc_roc)"
   ]
  },
  {
   "cell_type": "code",
   "execution_count": null,
   "id": "5231d560",
   "metadata": {},
   "outputs": [],
   "source": [
    "# Теперь подберем оптимальное количество деревьев-оценщиков\n",
    "forest_metrics_2 = []\n",
    "best_trees = 20\n",
    "\n",
    "for trees in range (20, 250, 10):\n",
    "    model = RandomForestClassifier(n_estimators = trees, \n",
    "                                  max_depth=best_depth, random_state=666)\n",
    "    model.fit(features_train, target_train)\n",
    "    predicted_valid = model.predict(features_valid)\n",
    "    \n",
    "    f1_of_model = f1_score(target_valid, predicted_valid)\n",
    "    \n",
    "    probabilities_valid = model.predict_proba(features_valid)\n",
    "    probabilities_one_valid = probabilities_valid[:, 1]\n",
    "    auc_roc_of_model = roc_auc_score(target_valid, probabilities_one_valid)\n",
    "    \n",
    "    print(\"trees =\", trees, \": \", end='  ')\n",
    "    print('f1 =', f1_of_model, end='  ') \n",
    "    print('auc_roc =', auc_roc_of_model)\n",
    "    forest_metrics_2.append([trees, f1_of_model, auc_roc_of_model])\n",
    "    if f1_of_model > best_f1:\n",
    "        best_trees = trees\n",
    "        best_model = model\n",
    "        best_f1 = f1_of_model\n",
    "    if auc_roc_of_model > best_auc_roc:\n",
    "        best_auc_roc = auc_roc_of_model\n",
    "        \n",
    "\n",
    "        \n",
    "print()    \n",
    "print('best_depth:', best_depth)\n",
    "print('best_trees:', best_trees)\n",
    "print('best_model:', best_model)\n",
    "print('best_f1:', best_f1)\n",
    "print('best_auc_roc:', best_auc_roc)"
   ]
  },
  {
   "cell_type": "code",
   "execution_count": null,
   "id": "086d9c75",
   "metadata": {},
   "outputs": [],
   "source": [
    "metrics['forest_unbalanced'] = {'f1': best_f1, 'auc_roc': 0.8324888843728446}"
   ]
  },
  {
   "cell_type": "markdown",
   "id": "f59dc1fb",
   "metadata": {},
   "source": [
    "### Обучение моделей с учетом дисбаланса классов: весовая балансировка\n",
    "Воспользуемся весовой балансировкой для снижения влияния дисбаланса классов. Укажем для моделей параметр `class_weight='balanced'`, обучим их и оценим результаты. "
   ]
  },
  {
   "cell_type": "markdown",
   "id": "8d75a46f",
   "metadata": {},
   "source": [
    "#### Логистическая регрессия\n",
    "\n",
    "Обучим модель логистической регрессии, указав в гиперпараметрах `class_weight='balanced'`. У новой модели `f1 = 0.4716981132075472` и `AUC-ROC = 0.7508960242388412`. \n",
    "\n",
    "Это выше, чем у модели, обученной без учета дисбаланса, но метрики все равно далеки от приемлемых."
   ]
  },
  {
   "cell_type": "code",
   "execution_count": null,
   "id": "d167862b",
   "metadata": {},
   "outputs": [],
   "source": [
    "model = LogisticRegression(random_state=666, solver='liblinear', class_weight='balanced')\n",
    "model.fit(features_train, target_train)\n",
    "predicted_valid = model.predict(features_valid)\n",
    "f1_of_model = f1_score(target_valid, predicted_valid)\n",
    "print('f1 =', f1_of_model)"
   ]
  },
  {
   "cell_type": "code",
   "execution_count": null,
   "id": "f0f87395",
   "metadata": {},
   "outputs": [],
   "source": [
    "probabilities_valid = model.predict_proba(features_valid)\n",
    "probabilities_one_valid = probabilities_valid[:, 1]\n",
    "auc_roc = roc_auc_score(target_valid, probabilities_one_valid)\n",
    "print('AUC-ROC =', auc_roc)"
   ]
  },
  {
   "cell_type": "code",
   "execution_count": null,
   "id": "1bd8c871",
   "metadata": {},
   "outputs": [],
   "source": [
    "metrics['logistic_regression_class_weight_balanced'] = {'f1': f1_of_model, 'auc_roc': auc_roc}"
   ]
  },
  {
   "cell_type": "markdown",
   "id": "13f1fd9e",
   "metadata": {},
   "source": [
    "#### Решающее дерево\n",
    "Обучим модель решающего дерева, указав в гиперпараметрах `class_weight='balanced'`. Наиболее удачная модель имеет глубину 6 уровней.\n",
    "\n",
    "Эта модель показала лучшие результаты, по сравнению с моделью, обученной без учета дисбаланса классов: у новой модели `f1 = 0.5695970695970696` и `auc_roc = 0.8309500936052814`. Целевой показатель `f1` стал хуже, чем  у модели, обученной без учета дисбаланса (`f1 = 0.5796269727403156`).\n"
   ]
  },
  {
   "cell_type": "code",
   "execution_count": null,
   "id": "07cc46a6",
   "metadata": {},
   "outputs": [],
   "source": [
    "best_model = None\n",
    "best_f1 = 0\n",
    "best_auc_roc = 0\n",
    "tree_metrics = []\n",
    "\n",
    "for depth in range(2, 21):\n",
    "    model = DecisionTreeClassifier(max_depth=depth, random_state=666, class_weight='balanced')\n",
    "    model.fit(features_train, target_train)\n",
    "    predicted_valid = model.predict(features_valid)\n",
    "    f1_of_model = f1_score(target_valid, predicted_valid)\n",
    "    \n",
    "    probabilities_valid = model.predict_proba(features_valid)\n",
    "    probabilities_one_valid = probabilities_valid[:, 1]\n",
    "    auc_roc_of_model = roc_auc_score(target_valid, probabilities_one_valid)\n",
    "    \n",
    "    print(\"max_depth =\", depth, \": \", end='  ')\n",
    "    print('f1 =', f1_of_model, end='  ') \n",
    "    print('auc_roc =', auc_roc_of_model)\n",
    "    \n",
    "    tree_metrics.append([depth, f1_of_model, auc_roc_of_model])\n",
    "    if f1_of_model > best_f1:\n",
    "        best_f1 = f1_of_model\n",
    "        best_model = model\n",
    "    if auc_roc_of_model > best_auc_roc:\n",
    "        best_auc_roc = auc_roc_of_model\n",
    "        \n",
    "\n",
    "print()        \n",
    "print('best_model:', best_model)\n",
    "print('best_f1:', best_f1)\n",
    "print('best_auc_roc:', best_auc_roc)"
   ]
  },
  {
   "cell_type": "code",
   "execution_count": null,
   "id": "d04528a1",
   "metadata": {},
   "outputs": [],
   "source": [
    "metrics['tree_class_weight_balanced'] = {'f1': best_f1, 'auc_roc': 0.8309500936052814}"
   ]
  },
  {
   "cell_type": "code",
   "execution_count": null,
   "id": "cc71b670",
   "metadata": {},
   "outputs": [],
   "source": [
    "metrics"
   ]
  },
  {
   "cell_type": "markdown",
   "id": "93d32afa",
   "metadata": {},
   "source": [
    "#### Случайный лес\n",
    "Обучим модель случайного леса, указав в гиперпараметрах `class_weight='balanced'`. \n",
    "\n",
    "Лучше всего себя показала модель случайного леса с 8 уровнями глубины и 80 деревьями-оценщиками. Ее метрики `f1 = 0.6148571428571429`  и `auc_roc = 0.855629249187112` - значения лучше, чем у лучшей модели леса, обученной без учета дисбаланса. "
   ]
  },
  {
   "cell_type": "code",
   "execution_count": null,
   "id": "46d0d8f3",
   "metadata": {},
   "outputs": [],
   "source": [
    "best_depth = 1\n",
    "best_model = None\n",
    "best_f1 = 0\n",
    "best_auc_roc = 0\n",
    "forest_metrics = []\n",
    "\n",
    "# Сначала обучим лес с 20 деревьями-оценщиками и найдем оптимальную глубину\n",
    "\n",
    "for depth in range(2, 21):\n",
    "    model = RandomForestClassifier(n_estimators=20, max_depth=depth, class_weight='balanced', random_state=666)\n",
    "    model.fit(features_train, target_train)\n",
    "    predicted_valid = model.predict(features_valid)\n",
    "    \n",
    "    f1_of_model = f1_score(target_valid, predicted_valid)\n",
    "    \n",
    "    probabilities_valid = model.predict_proba(features_valid)\n",
    "    probabilities_one_valid = probabilities_valid[:, 1]\n",
    "    auc_roc_of_model = roc_auc_score(target_valid, probabilities_one_valid)\n",
    "    \n",
    "    print(\"max_depth =\", depth, \": \", end='  ')\n",
    "    print('f1 =', f1_of_model, end='  ') \n",
    "    print('auc_roc =', auc_roc_of_model)\n",
    "    \n",
    "    forest_metrics.append([depth, f1_of_model, auc_roc_of_model])\n",
    "    if f1_of_model > best_f1:\n",
    "        best_depth = depth\n",
    "        best_model = model\n",
    "        best_f1 = f1_of_model\n",
    "    if auc_roc_of_model > best_auc_roc:\n",
    "        best_auc_roc = auc_roc_of_model\n",
    "    \n",
    "print()        \n",
    "print('best_depth:', best_depth)\n",
    "print('best_model:', best_model)\n",
    "print('best_f1:', best_f1)\n",
    "print('best_auc_roc:', best_auc_roc)"
   ]
  },
  {
   "cell_type": "code",
   "execution_count": null,
   "id": "03a807ea",
   "metadata": {},
   "outputs": [],
   "source": [
    "# Теперь подберем оптимальное количество деревьев-оценщиков\n",
    "forest_metrics_2 = []\n",
    "best_trees = 1\n",
    "\n",
    "for trees in range (20, 250, 10):\n",
    "    model = RandomForestClassifier(n_estimators = trees, \n",
    "                                  max_depth=best_depth, class_weight='balanced', random_state=666)\n",
    "    model.fit(features_train, target_train)\n",
    "    predicted_valid = model.predict(features_valid)\n",
    "    \n",
    "    f1_of_model = f1_score(target_valid, predicted_valid)\n",
    "    \n",
    "    probabilities_valid = model.predict_proba(features_valid)\n",
    "    probabilities_one_valid = probabilities_valid[:, 1]\n",
    "    auc_roc_of_model = roc_auc_score(target_valid, probabilities_one_valid)\n",
    "    \n",
    "    print(\"trees =\", trees, \": \", end='  ')\n",
    "    print('f1 =', f1_of_model, end='  ') \n",
    "    print('auc_roc =', auc_roc_of_model)\n",
    "    forest_metrics_2.append([trees, f1_of_model, auc_roc_of_model])\n",
    "    if f1_of_model > best_f1:\n",
    "        best_trees = trees\n",
    "        best_model = model\n",
    "        best_f1 = f1_of_model\n",
    "    if auc_roc_of_model > best_auc_roc:\n",
    "        best_auc_roc = auc_roc_of_model\n",
    "        \n",
    "\n",
    "        \n",
    "print()    \n",
    "print('best_depth:', best_depth)\n",
    "print('best_trees:', best_trees)\n",
    "print('best_model:', best_model)\n",
    "print('best_f1:', best_f1)\n",
    "print('best_auc_roc:', best_auc_roc)"
   ]
  },
  {
   "cell_type": "code",
   "execution_count": null,
   "id": "81433230",
   "metadata": {},
   "outputs": [],
   "source": [
    "metrics['forest_class_weight_balanced'] = {'f1': best_f1, 'auc_roc': 0.855629249187112}"
   ]
  },
  {
   "cell_type": "code",
   "execution_count": null,
   "id": "285cef2d",
   "metadata": {},
   "outputs": [],
   "source": [
    "metrics"
   ]
  },
  {
   "cell_type": "markdown",
   "id": "f6c47abc",
   "metadata": {},
   "source": [
    "### Обучение моделей с учетом дисбаланса классов: метод upsampling\n"
   ]
  },
  {
   "cell_type": "markdown",
   "id": "eeef7e7e",
   "metadata": {},
   "source": [
    "#### Увеличение выборки методом upsampling\n",
    "Воспользуемся альтернативным методом снижения влияния дисбаланса классов - увеличим выборку методом `upsampling`. Для этого определим функцию `upsample()` и передадим ей обучающую выборку. Баланс классов доведем примерно до 1 : 1."
   ]
  },
  {
   "cell_type": "code",
   "execution_count": null,
   "id": "dd956b1a",
   "metadata": {},
   "outputs": [],
   "source": [
    "def upsample(features, target, repeat):\n",
    "    features_zeros = features_train[target_train == 0]\n",
    "    features_ones = features_train[target_train == 1]\n",
    "    target_zeros = target_train[target_train == 0]\n",
    "    target_ones = target_train[target_train == 1]\n",
    "    \n",
    "    features_upsampled = pd.concat([features_zeros] + [features_ones] * repeat)\n",
    "    target_upsampled = pd.concat([target_zeros] + [target_ones] * repeat)\n",
    "    features_upsampled, target_upsampled = shuffle(features_upsampled, target_upsampled, random_state=12345)\n",
    "    \n",
    "    return features_upsampled, target_upsampled\n",
    "    \n",
    "\n",
    "features_upsampled, target_upsampled = upsample(features_train, target_train, 4)"
   ]
  },
  {
   "cell_type": "code",
   "execution_count": null,
   "id": "eeedc25d",
   "metadata": {},
   "outputs": [],
   "source": [
    "print(target_upsampled.shape)\n",
    "print(target_upsampled.mean())"
   ]
  },
  {
   "cell_type": "markdown",
   "id": "72a77c52",
   "metadata": {},
   "source": [
    "#### Логистическая регрессия\n",
    "\n",
    "Обучим модель логистической регрессии на увеличенной выборке. У новой модели `f1 = 0.4731914893617022` и `AUC-ROC = 0.750965304463494`. Эта модель показала лучшие результаты, по сравнению с моделью, обученной без учета дисбаланса классов, и с моделью, обученной с учетом весовой балансировки. Целевой показатель по-прежнему далек от приемлемого `f1 = 0.59`."
   ]
  },
  {
   "cell_type": "code",
   "execution_count": null,
   "id": "83106621",
   "metadata": {},
   "outputs": [],
   "source": [
    "model = LogisticRegression(random_state=666, solver='liblinear')\n",
    "model.fit(features_upsampled, target_upsampled)\n",
    "predicted_valid = model.predict(features_valid)\n",
    "f1_of_model = f1_score(target_valid, predicted_valid)\n",
    "print('f1 =', f1_of_model)"
   ]
  },
  {
   "cell_type": "code",
   "execution_count": null,
   "id": "577b0b16",
   "metadata": {
    "scrolled": true
   },
   "outputs": [],
   "source": [
    "probabilities_valid = model.predict_proba(features_valid)\n",
    "probabilities_one_valid = probabilities_valid[:, 1]\n",
    "auc_roc = roc_auc_score(target_valid, probabilities_one_valid)\n",
    "print('AUC-ROC =', auc_roc)"
   ]
  },
  {
   "cell_type": "code",
   "execution_count": null,
   "id": "2ec1c852",
   "metadata": {},
   "outputs": [],
   "source": [
    "metrics['logistic_regression_upsampled'] = {'f1': f1_of_model, 'auc_roc': auc_roc}\n",
    "metrics"
   ]
  },
  {
   "cell_type": "markdown",
   "id": "99ce4bd1",
   "metadata": {},
   "source": [
    "#### Решающее дерево\n",
    "\n",
    "Обучим модель решающего дерева на увеличенной выборке. Наиболее удачная модель имеет глубину 6 уровней.\n",
    "\n",
    "У новой модели `f1 = 0.5693296602387511` и  `auc_roc = 0.8294428638289487`. Целевой показатель `f1` немного хуже, чем у модели, обученной с весовой балансировкой (`f1 = 0.5695970695970696`), и значительно хуже, чем у модели, обученной без учета дисбаланса (`f1 = 0.5796269727403156`).\n"
   ]
  },
  {
   "cell_type": "code",
   "execution_count": null,
   "id": "6cf90e7f",
   "metadata": {
    "scrolled": true
   },
   "outputs": [],
   "source": [
    "best_model = None\n",
    "best_f1 = 0\n",
    "best_auc_roc = 0\n",
    "tree_metrics = []\n",
    "\n",
    "for depth in range(2, 21):\n",
    "    model = DecisionTreeClassifier(max_depth=depth, random_state=666)\n",
    "    model.fit(features_upsampled, target_upsampled)\n",
    "              \n",
    "    predicted_valid = model.predict(features_valid)\n",
    "    f1_of_model = f1_score(target_valid, predicted_valid)\n",
    "    \n",
    "    probabilities_valid = model.predict_proba(features_valid)\n",
    "    probabilities_one_valid = probabilities_valid[:, 1]\n",
    "    auc_roc_of_model = roc_auc_score(target_valid, probabilities_one_valid)\n",
    "    \n",
    "    print(\"max_depth =\", depth, \": \", end='  ')\n",
    "    print('f1 =', f1_of_model, end='  ') \n",
    "    print('auc_roc =', auc_roc_of_model)\n",
    "    \n",
    "    tree_metrics.append([depth, f1_of_model, auc_roc_of_model])\n",
    "    if f1_of_model > best_f1:\n",
    "        best_f1 = f1_of_model\n",
    "        best_model = model\n",
    "    if auc_roc_of_model > best_auc_roc:\n",
    "        best_auc_roc = auc_roc_of_model\n",
    "        \n",
    "\n",
    "print()        \n",
    "print('best_model:', best_model)\n",
    "print('best_f1:', best_f1)\n",
    "print('best_auc_roc:', best_auc_roc)"
   ]
  },
  {
   "cell_type": "code",
   "execution_count": null,
   "id": "7a30a0cb",
   "metadata": {},
   "outputs": [],
   "source": [
    "metrics['tree_upsampled'] = {'f1': best_f1, 'auc_roc': 0.8294428638289487}\n",
    "metrics"
   ]
  },
  {
   "cell_type": "markdown",
   "id": "885997c9",
   "metadata": {},
   "source": [
    "#### Случайный лес\n",
    "Обучим модель случайного леса на увеличенной выборке. Наиболее точной из обученных этим методом моделей является модель случайного леса с 8 уровнями глубины и 20 деревьями-оценщиками.  \n",
    "\n",
    "Ее метрики `f1 = 0.607621009268795` и `auc_roc = 0.8568809119125038`. Значение `f1` хуже, чем у лучшей модели леса с весовой балансировкой (`f1 = 0.6148571428571429`); значение `auc_roc` новой модели лучше, но этот показатель не целевой."
   ]
  },
  {
   "cell_type": "code",
   "execution_count": null,
   "id": "1d896194",
   "metadata": {},
   "outputs": [],
   "source": [
    "best_depth = 1\n",
    "best_model = None\n",
    "best_f1 = 0\n",
    "best_auc_roc = 0\n",
    "forest_metrics = []\n",
    "\n",
    "# Сначала обучим лес с 20 деревьями-оценщиками и найдем оптимальную глубину\n",
    "\n",
    "for depth in range(2, 21):\n",
    "    model = RandomForestClassifier(n_estimators=20, max_depth=depth, random_state=666)\n",
    "    model.fit(features_upsampled, target_upsampled)\n",
    "    predicted_valid = model.predict(features_valid)\n",
    "    \n",
    "    f1_of_model = f1_score(target_valid, predicted_valid)\n",
    "    \n",
    "    probabilities_valid = model.predict_proba(features_valid)\n",
    "    probabilities_one_valid = probabilities_valid[:, 1]\n",
    "    auc_roc_of_model = roc_auc_score(target_valid, probabilities_one_valid)\n",
    "    \n",
    "    print(\"max_depth =\", depth, \": \", end='  ')\n",
    "    print('f1 =', f1_of_model, end='  ') \n",
    "    print('auc_roc =', auc_roc_of_model)\n",
    "    \n",
    "    forest_metrics.append([depth, f1_of_model, auc_roc_of_model])\n",
    "    if f1_of_model > best_f1:\n",
    "        best_depth = depth\n",
    "        best_model = model\n",
    "        best_f1 = f1_of_model\n",
    "    if auc_roc_of_model > best_auc_roc:\n",
    "        best_auc_roc = auc_roc_of_model\n",
    "    \n",
    "print()        \n",
    "print('best_depth:', best_depth)\n",
    "print('best_model:', best_model)\n",
    "print('best_f1:', best_f1)\n",
    "print('best_auc_roc:', best_auc_roc)"
   ]
  },
  {
   "cell_type": "code",
   "execution_count": null,
   "id": "b385ecaf",
   "metadata": {
    "scrolled": false
   },
   "outputs": [],
   "source": [
    "# Теперь подберем оптимальное количество деревьев-оценщиков\n",
    "forest_metrics_2 = []\n",
    "best_trees = 20\n",
    "\n",
    "for trees in range (20, 250, 10):\n",
    "    model = RandomForestClassifier(n_estimators = trees, \n",
    "                                  max_depth=best_depth, random_state=666)\n",
    "    model.fit(features_upsampled, target_upsampled)\n",
    "    predicted_valid = model.predict(features_valid)\n",
    "    \n",
    "    f1_of_model = f1_score(target_valid, predicted_valid)\n",
    "    \n",
    "    probabilities_valid = model.predict_proba(features_valid)\n",
    "    probabilities_one_valid = probabilities_valid[:, 1]\n",
    "    auc_roc_of_model = roc_auc_score(target_valid, probabilities_one_valid)\n",
    "    \n",
    "    print(\"trees =\", trees, \": \", end='  ')\n",
    "    print('f1 =', f1_of_model, end='  ') \n",
    "    print('auc_roc =', auc_roc_of_model)\n",
    "    forest_metrics_2.append([trees, f1_of_model, auc_roc_of_model])\n",
    "    if f1_of_model > best_f1:\n",
    "        best_trees = trees\n",
    "        best_model = model\n",
    "        best_f1 = f1_of_model\n",
    "    if auc_roc_of_model > best_auc_roc:\n",
    "        best_auc_roc = auc_roc_of_model\n",
    "        \n",
    "\n",
    "        \n",
    "print()    \n",
    "print('best_depth:', best_depth)\n",
    "print('best_trees:', best_trees)\n",
    "print('best_model:', best_model)\n",
    "print('best_f1:', best_f1)\n",
    "print('best_auc_roc:', best_auc_roc)"
   ]
  },
  {
   "cell_type": "code",
   "execution_count": null,
   "id": "e9758169",
   "metadata": {},
   "outputs": [],
   "source": [
    "metrics['forest_upsampled'] = {'f1': best_f1, 'auc_roc': 0.8568809119125038}\n",
    "metrics"
   ]
  },
  {
   "cell_type": "markdown",
   "id": "065e8769",
   "metadata": {},
   "source": [
    "### Выбор и финальное тестирование лучшей модели\n",
    "#### Выбор лучшей модели\n",
    "Рассмотрим характеристики лучших из обученных каждым методом моделей и выберем самую лучшую. Лучший целевой показатель у модели случайного леса, обученного с учетом балансировки классов. Вот эта модель:\n",
    "> RandomForestClassifier(bootstrap=True, class_weight='balanced',\n",
    "                       criterion='gini', max_depth=8, max_features='auto',\n",
    "                       max_leaf_nodes=None, min_impurity_decrease=0.0,\n",
    "                       min_impurity_split=None, min_samples_leaf=1,\n",
    "                       min_samples_split=2, min_weight_fraction_leaf=0.0,\n",
    "                       n_estimators=80, n_jobs=None, oob_score=False,\n",
    "                       random_state=666, verbose=0, warm_start=False)"
   ]
  },
  {
   "cell_type": "code",
   "execution_count": null,
   "id": "3b084534",
   "metadata": {},
   "outputs": [],
   "source": [
    "metrics"
   ]
  },
  {
   "cell_type": "code",
   "execution_count": null,
   "id": "20dd5bb5",
   "metadata": {},
   "outputs": [],
   "source": [
    "best_f1 = 0\n",
    "best_model_name = None\n",
    "\n",
    "for item in metrics.items():\n",
    "    if item[1]['f1'] > best_f1:\n",
    "        best_f1 = item[1]['f1']\n",
    "        best_model_name = item[0]\n",
    "        \n",
    "print(best_model_name, metrics[best_model_name])"
   ]
  },
  {
   "cell_type": "markdown",
   "id": "98e7c822",
   "metadata": {},
   "source": [
    "#### Финальное тестирование\n",
    "Проведем финальное тестирование лучшей модели - модели случайного леса:\n",
    "\n",
    "> best_model: RandomForestClassifier(class_weight='balanced', max_depth=8, n_estimators=80, random_state=666)\n",
    "\n",
    "Модель показала удовлетворительные результаты на тестовой и валидационной выборках:\n",
    "\n",
    "f1 на обучающей выборке:  0.7182569496619083\n",
    "\n",
    "f1 на валидационной выборке:  0.6148571428571429\n",
    "\n",
    "f1 на тестовой выборке:  0.6131549609810478\n",
    "\n",
    "AUC-ROC на обучающей выборке:  0.9313193174663743\n",
    "\n",
    "AUC-ROC на валидационной выборке:  0.855629249187112\n",
    "\n",
    "AUC-ROC на тестовой выборке:  0.8506395455547998"
   ]
  },
  {
   "cell_type": "code",
   "execution_count": null,
   "id": "7fab2858",
   "metadata": {},
   "outputs": [],
   "source": [
    "best_model = RandomForestClassifier(n_estimators = 80, \n",
    "                                  max_depth=8, class_weight='balanced', random_state=666)\n",
    "print(best_model)\n",
    "best_model.fit(features_train, target_train)\n",
    "predicted_train = best_model.predict(features_train) \n",
    "predicted_valid = best_model.predict(features_valid)\n",
    "predicted_test = best_model.predict(features_test)\n",
    "f1_train = f1_score(target_train, predicted_train)\n",
    "f1_valid = f1_score(target_valid, predicted_valid)\n",
    "f1_test = f1_score(target_test, predicted_test)\n",
    "\n",
    "\n",
    "probabilities_train = best_model.predict_proba(features_train)\n",
    "probabilities_one_train = probabilities_train[:, 1]\n",
    "auc_roc_train = roc_auc_score(target_train, probabilities_one_train)\n",
    "\n",
    "probabilities_valid = best_model.predict_proba(features_valid)\n",
    "probabilities_one_valid = probabilities_valid[:, 1]\n",
    "auc_roc_valid = roc_auc_score(target_valid, probabilities_one_valid)\n",
    "\n",
    "probabilities_test = best_model.predict_proba(features_test)\n",
    "probabilities_one_test = probabilities_test[:, 1]\n",
    "auc_roc_test = roc_auc_score(target_test, probabilities_one_test)\n",
    "\n",
    "print(\"Наилучшая модель\")\n",
    "print(\"f1 на обучающей выборке: \", f1_train)\n",
    "print(\"f1 на валидационной выборке: \", f1_valid)\n",
    "print(\"f1 на тестовой выборке: \", f1_test)\n",
    "\n",
    "print(\"AUC-ROC на обучающей выборке: \", auc_roc_train)\n",
    "print(\"AUC-ROC на валидационной выборке: \", auc_roc_valid)\n",
    "print(\"AUC-ROC на тестовой выборке: \", auc_roc_test)\n"
   ]
  },
  {
   "cell_type": "code",
   "execution_count": null,
   "id": "7b748ccf",
   "metadata": {
    "scrolled": true
   },
   "outputs": [],
   "source": [
    "output_table = pd.DataFrame(\n",
    "    [['Обучающая выборка', f1_train, auc_roc_train],\n",
    "    ['Валидационная выборка', f1_valid, auc_roc_valid],\n",
    "    ['Тестовая выборка', f1_test, auc_roc_test]],\n",
    "    columns=['Выборка', 'F1-мера', 'AUC-ROC мера']\n",
    ")\n",
    "display(output_table)"
   ]
  },
  {
   "cell_type": "markdown",
   "id": "6b05d678",
   "metadata": {},
   "source": [
    "## Вывод\n",
    "Для решения задачи предсказания ухода клиента банка были построены и обучены модели трех типов: решающее дерево, случайный лес и логистическая регрессия. Был произведен подбор гиперпараметров моделей и выбрана лучшая модель для каждого типа. \n",
    "\n",
    "Модели были обучены сначала без учета дисбаланса классов в датасете, а после с учетом этого дисбаланса. Для того, чтоб исправить дисбаланс, были испробованы два метода: \n",
    "\n",
    "* обучающая выборка была увеличена методом `upsampling`, доля положительного (редкого) класса до ведена до 50%;\n",
    "* модели были обучены с весовой балансировкой (при инициализации модели указан гиперпараметр `class_weight='balanced'`).\n",
    "\n",
    "Модели, обученные с учетом дисбаланса, показали лучшие результаты в сравнении с моделями, обученными без учета дисбаланса классов, хотя апсамплинг улучшил целевой показатель только для логистической регрессии. \n",
    "\n",
    "Лучше всего себя показала модель решающего леса с гиперпараметрами: `max_depth=8`, `n_estimators=80`, `class_weight='balanced'`, обученная на валидационной выборке, не измененной методом `upsampling`.\n",
    "\n",
    "Метрики этой модели приведены в таблице:"
   ]
  },
  {
   "cell_type": "code",
   "execution_count": null,
   "id": "c6893afe",
   "metadata": {},
   "outputs": [],
   "source": [
    "display(output_table)"
   ]
  },
  {
   "cell_type": "markdown",
   "id": "f5614fe2",
   "metadata": {},
   "source": [
    "Модель рекомендуется дообучить и начать использовать в бизнесе."
   ]
  }
 ],
 "metadata": {
  "ExecuteTimeLog": [
   {
    "duration": 1281,
    "start_time": "2022-02-04T04:33:10.921Z"
   },
   {
    "duration": 37,
    "start_time": "2022-02-04T04:33:12.208Z"
   },
   {
    "duration": 22,
    "start_time": "2022-02-04T04:33:12.247Z"
   },
   {
    "duration": 14,
    "start_time": "2022-02-04T04:33:12.271Z"
   },
   {
    "duration": 26,
    "start_time": "2022-02-04T04:33:12.287Z"
   },
   {
    "duration": 24,
    "start_time": "2022-02-04T04:33:12.316Z"
   },
   {
    "duration": 13,
    "start_time": "2022-02-04T04:33:12.343Z"
   },
   {
    "duration": 17,
    "start_time": "2022-02-04T04:33:12.357Z"
   },
   {
    "duration": 5,
    "start_time": "2022-02-04T04:33:12.379Z"
   },
   {
    "duration": 9,
    "start_time": "2022-02-04T04:33:12.387Z"
   },
   {
    "duration": 16,
    "start_time": "2022-02-04T04:33:12.399Z"
   },
   {
    "duration": 21,
    "start_time": "2022-02-04T04:33:12.417Z"
   },
   {
    "duration": 7,
    "start_time": "2022-02-04T04:33:12.441Z"
   },
   {
    "duration": 35,
    "start_time": "2022-02-04T04:33:12.450Z"
   },
   {
    "duration": 4,
    "start_time": "2022-02-04T04:33:12.488Z"
   },
   {
    "duration": 17,
    "start_time": "2022-02-04T04:33:12.495Z"
   },
   {
    "duration": 30,
    "start_time": "2022-02-04T04:33:12.515Z"
   },
   {
    "duration": 12,
    "start_time": "2022-02-04T04:33:12.547Z"
   },
   {
    "duration": 9,
    "start_time": "2022-02-04T04:33:12.561Z"
   },
   {
    "duration": 13,
    "start_time": "2022-02-04T04:33:12.572Z"
   },
   {
    "duration": 7,
    "start_time": "2022-02-04T04:33:12.612Z"
   },
   {
    "duration": 17,
    "start_time": "2022-02-04T04:33:12.621Z"
   },
   {
    "duration": 11,
    "start_time": "2022-02-04T04:33:12.640Z"
   },
   {
    "duration": 8,
    "start_time": "2022-02-04T04:33:12.653Z"
   },
   {
    "duration": 63,
    "start_time": "2022-02-04T04:33:12.663Z"
   },
   {
    "duration": 83,
    "start_time": "2022-02-04T04:33:12.736Z"
   },
   {
    "duration": 823,
    "start_time": "2022-02-04T04:33:12.822Z"
   },
   {
    "duration": 5,
    "start_time": "2022-02-04T04:33:13.646Z"
   },
   {
    "duration": 2673,
    "start_time": "2022-02-04T04:33:13.653Z"
   },
   {
    "duration": 22947,
    "start_time": "2022-02-04T04:33:16.327Z"
   },
   {
    "duration": 53,
    "start_time": "2022-02-04T04:33:39.276Z"
   },
   {
    "duration": 92,
    "start_time": "2022-02-04T04:33:39.331Z"
   },
   {
    "duration": 839,
    "start_time": "2022-02-04T04:33:39.425Z"
   },
   {
    "duration": 2659,
    "start_time": "2022-02-04T04:33:40.266Z"
   },
   {
    "duration": 18175,
    "start_time": "2022-02-04T04:33:42.927Z"
   },
   {
    "duration": 327,
    "start_time": "2022-02-04T04:34:01.108Z"
   },
   {
    "duration": 9,
    "start_time": "2022-02-04T04:34:01.437Z"
   },
   {
    "duration": 28,
    "start_time": "2022-02-04T04:34:01.448Z"
   },
   {
    "duration": 82,
    "start_time": "2022-02-04T04:42:29.170Z"
   },
   {
    "duration": 81,
    "start_time": "2022-02-04T04:45:03.192Z"
   },
   {
    "duration": 97,
    "start_time": "2022-02-04T04:47:09.982Z"
   },
   {
    "duration": 79,
    "start_time": "2022-02-04T06:13:07.756Z"
   },
   {
    "duration": 81,
    "start_time": "2022-02-04T06:43:17.286Z"
   },
   {
    "duration": 93,
    "start_time": "2022-02-04T06:46:24.150Z"
   },
   {
    "duration": 86,
    "start_time": "2022-02-04T07:14:05.842Z"
   },
   {
    "duration": 105,
    "start_time": "2022-02-04T07:22:47.972Z"
   },
   {
    "duration": 147,
    "start_time": "2022-02-04T08:13:24.768Z"
   },
   {
    "duration": 151,
    "start_time": "2022-02-04T18:46:57.455Z"
   },
   {
    "duration": 93,
    "start_time": "2022-02-04T19:20:20.975Z"
   },
   {
    "duration": 190,
    "start_time": "2022-02-04T19:35:18.293Z"
   },
   {
    "duration": 379,
    "start_time": "2022-02-04T19:45:13.410Z"
   },
   {
    "duration": 1410,
    "start_time": "2022-02-04T19:45:35.052Z"
   },
   {
    "duration": 37,
    "start_time": "2022-02-04T19:45:36.464Z"
   },
   {
    "duration": 20,
    "start_time": "2022-02-04T19:45:36.504Z"
   },
   {
    "duration": 9,
    "start_time": "2022-02-04T19:45:36.526Z"
   },
   {
    "duration": 18,
    "start_time": "2022-02-04T19:45:36.537Z"
   },
   {
    "duration": 13,
    "start_time": "2022-02-04T19:45:36.557Z"
   },
   {
    "duration": 7,
    "start_time": "2022-02-04T19:45:36.572Z"
   },
   {
    "duration": 11,
    "start_time": "2022-02-04T19:45:36.582Z"
   },
   {
    "duration": 10,
    "start_time": "2022-02-04T19:45:36.595Z"
   },
   {
    "duration": 43,
    "start_time": "2022-02-04T19:45:36.607Z"
   },
   {
    "duration": 11,
    "start_time": "2022-02-04T19:45:36.653Z"
   },
   {
    "duration": 17,
    "start_time": "2022-02-04T19:45:36.666Z"
   },
   {
    "duration": 8,
    "start_time": "2022-02-04T19:45:36.687Z"
   },
   {
    "duration": 67,
    "start_time": "2022-02-04T19:45:36.698Z"
   },
   {
    "duration": 6,
    "start_time": "2022-02-04T19:45:36.767Z"
   },
   {
    "duration": 9,
    "start_time": "2022-02-04T19:45:36.776Z"
   },
   {
    "duration": 23,
    "start_time": "2022-02-04T19:45:36.788Z"
   },
   {
    "duration": 49,
    "start_time": "2022-02-04T19:45:36.813Z"
   },
   {
    "duration": 9,
    "start_time": "2022-02-04T19:45:40.869Z"
   },
   {
    "duration": 13,
    "start_time": "2022-02-04T19:46:28.611Z"
   },
   {
    "duration": 12,
    "start_time": "2022-02-04T19:46:37.001Z"
   },
   {
    "duration": 14,
    "start_time": "2022-02-04T19:48:32.017Z"
   },
   {
    "duration": 20,
    "start_time": "2022-02-04T19:48:36.830Z"
   },
   {
    "duration": 8,
    "start_time": "2022-02-04T19:48:52.849Z"
   },
   {
    "duration": 11,
    "start_time": "2022-02-04T19:49:19.338Z"
   },
   {
    "duration": 399,
    "start_time": "2022-02-04T19:49:45.648Z"
   },
   {
    "duration": 413,
    "start_time": "2022-02-04T19:50:00.010Z"
   },
   {
    "duration": 10,
    "start_time": "2022-02-04T19:50:36.369Z"
   },
   {
    "duration": 6,
    "start_time": "2022-02-04T19:52:36.206Z"
   },
   {
    "duration": 177,
    "start_time": "2022-02-04T19:53:52.790Z"
   },
   {
    "duration": 10,
    "start_time": "2022-02-04T20:04:08.945Z"
   },
   {
    "duration": 9,
    "start_time": "2022-02-04T20:06:48.226Z"
   },
   {
    "duration": 7,
    "start_time": "2022-02-04T20:06:53.603Z"
   },
   {
    "duration": 7,
    "start_time": "2022-02-04T20:07:02.066Z"
   },
   {
    "duration": 39,
    "start_time": "2022-02-04T20:07:07.917Z"
   },
   {
    "duration": 14,
    "start_time": "2022-02-04T20:07:10.957Z"
   },
   {
    "duration": 763,
    "start_time": "2022-02-04T20:07:39.048Z"
   },
   {
    "duration": 388,
    "start_time": "2022-02-04T20:13:08.744Z"
   },
   {
    "duration": 3432,
    "start_time": "2022-02-04T20:17:40.516Z"
   },
   {
    "duration": 28776,
    "start_time": "2022-02-04T20:17:50.212Z"
   },
   {
    "duration": 60382,
    "start_time": "2022-02-04T20:20:45.429Z"
   },
   {
    "duration": 3274,
    "start_time": "2022-02-04T20:34:41.010Z"
   },
   {
    "duration": 1802,
    "start_time": "2022-02-04T20:34:58.534Z"
   },
   {
    "duration": 3241,
    "start_time": "2022-02-04T20:35:22.830Z"
   },
   {
    "duration": 3486,
    "start_time": "2022-02-04T20:36:02.054Z"
   },
   {
    "duration": 3259,
    "start_time": "2022-02-04T20:37:28.990Z"
   },
   {
    "duration": 3379,
    "start_time": "2022-02-04T20:37:49.529Z"
   },
   {
    "duration": 3324,
    "start_time": "2022-02-04T20:38:49.749Z"
   },
   {
    "duration": 59267,
    "start_time": "2022-02-04T20:39:36.929Z"
   },
   {
    "duration": 61433,
    "start_time": "2022-02-04T20:40:49.428Z"
   },
   {
    "duration": 145,
    "start_time": "2022-02-04T20:43:04.609Z"
   },
   {
    "duration": 44,
    "start_time": "2022-02-04T20:43:43.728Z"
   },
   {
    "duration": 14,
    "start_time": "2022-02-04T20:43:49.908Z"
   },
   {
    "duration": 960,
    "start_time": "2022-02-04T20:46:00.090Z"
   },
   {
    "duration": 3366,
    "start_time": "2022-02-04T20:46:53.900Z"
   },
   {
    "duration": 22044,
    "start_time": "2022-02-04T20:47:07.149Z"
   },
   {
    "duration": 781,
    "start_time": "2022-02-04T20:47:49.289Z"
   },
   {
    "duration": 164,
    "start_time": "2022-02-04T20:55:12.763Z"
   },
   {
    "duration": 3380,
    "start_time": "2022-02-04T20:55:40.950Z"
   },
   {
    "duration": 27401,
    "start_time": "2022-02-04T20:56:49.750Z"
   },
   {
    "duration": 21905,
    "start_time": "2022-02-04T20:57:18.829Z"
   },
   {
    "duration": 102,
    "start_time": "2022-02-04T21:02:09.109Z"
   },
   {
    "duration": 98,
    "start_time": "2022-02-04T21:02:57.409Z"
   },
   {
    "duration": 139,
    "start_time": "2022-02-04T21:43:30.416Z"
   },
   {
    "duration": 800,
    "start_time": "2022-02-04T21:44:52.088Z"
   },
   {
    "duration": 6,
    "start_time": "2022-02-04T21:45:37.275Z"
   },
   {
    "duration": 22,
    "start_time": "2022-02-04T21:45:52.135Z"
   },
   {
    "duration": 23,
    "start_time": "2022-02-04T21:47:24.657Z"
   },
   {
    "duration": 32,
    "start_time": "2022-02-04T21:50:59.535Z"
   },
   {
    "duration": 76,
    "start_time": "2022-02-04T21:51:08.015Z"
   },
   {
    "duration": 4,
    "start_time": "2022-02-04T21:51:34.987Z"
   },
   {
    "duration": 4,
    "start_time": "2022-02-04T21:52:03.336Z"
   },
   {
    "duration": 5,
    "start_time": "2022-02-04T21:52:50.057Z"
   },
   {
    "duration": 37,
    "start_time": "2022-02-04T21:52:50.065Z"
   },
   {
    "duration": 16,
    "start_time": "2022-02-04T21:52:50.105Z"
   },
   {
    "duration": 9,
    "start_time": "2022-02-04T21:52:50.123Z"
   },
   {
    "duration": 19,
    "start_time": "2022-02-04T21:52:50.134Z"
   },
   {
    "duration": 11,
    "start_time": "2022-02-04T21:52:50.155Z"
   },
   {
    "duration": 6,
    "start_time": "2022-02-04T21:52:50.169Z"
   },
   {
    "duration": 7,
    "start_time": "2022-02-04T21:52:50.177Z"
   },
   {
    "duration": 9,
    "start_time": "2022-02-04T21:52:50.187Z"
   },
   {
    "duration": 8,
    "start_time": "2022-02-04T21:52:50.199Z"
   },
   {
    "duration": 8,
    "start_time": "2022-02-04T21:52:50.256Z"
   },
   {
    "duration": 21,
    "start_time": "2022-02-04T21:52:50.266Z"
   },
   {
    "duration": 7,
    "start_time": "2022-02-04T21:52:50.290Z"
   },
   {
    "duration": 54,
    "start_time": "2022-02-04T21:52:50.300Z"
   },
   {
    "duration": 5,
    "start_time": "2022-02-04T21:52:50.357Z"
   },
   {
    "duration": 15,
    "start_time": "2022-02-04T21:52:50.364Z"
   },
   {
    "duration": 27,
    "start_time": "2022-02-04T21:52:50.382Z"
   },
   {
    "duration": 16,
    "start_time": "2022-02-04T21:52:50.411Z"
   },
   {
    "duration": 16,
    "start_time": "2022-02-04T21:52:50.453Z"
   },
   {
    "duration": 9,
    "start_time": "2022-02-04T21:52:50.472Z"
   },
   {
    "duration": 7,
    "start_time": "2022-02-04T21:52:50.483Z"
   },
   {
    "duration": 7,
    "start_time": "2022-02-04T21:52:50.493Z"
   },
   {
    "duration": 54,
    "start_time": "2022-02-04T21:52:50.502Z"
   },
   {
    "duration": 10,
    "start_time": "2022-02-04T21:52:50.559Z"
   },
   {
    "duration": 6,
    "start_time": "2022-02-04T21:52:50.572Z"
   },
   {
    "duration": 167,
    "start_time": "2022-02-04T21:52:50.580Z"
   },
   {
    "duration": 14,
    "start_time": "2022-02-04T21:52:50.750Z"
   },
   {
    "duration": 843,
    "start_time": "2022-02-04T21:52:50.851Z"
   },
   {
    "duration": 7,
    "start_time": "2022-02-04T21:52:51.697Z"
   },
   {
    "duration": 3378,
    "start_time": "2022-02-04T21:52:51.707Z"
   },
   {
    "duration": 28611,
    "start_time": "2022-02-04T21:52:55.087Z"
   },
   {
    "duration": 20,
    "start_time": "2022-02-04T21:53:46.404Z"
   },
   {
    "duration": 5,
    "start_time": "2022-02-04T21:53:51.127Z"
   },
   {
    "duration": 54,
    "start_time": "2022-02-04T22:00:36.495Z"
   },
   {
    "duration": 14,
    "start_time": "2022-02-04T22:00:46.255Z"
   },
   {
    "duration": 6,
    "start_time": "2022-02-04T22:05:29.398Z"
   },
   {
    "duration": 45,
    "start_time": "2022-02-04T22:05:29.409Z"
   },
   {
    "duration": 15,
    "start_time": "2022-02-04T22:05:29.457Z"
   },
   {
    "duration": 9,
    "start_time": "2022-02-04T22:05:29.476Z"
   },
   {
    "duration": 10,
    "start_time": "2022-02-04T22:05:29.487Z"
   },
   {
    "duration": 51,
    "start_time": "2022-02-04T22:05:29.499Z"
   },
   {
    "duration": 6,
    "start_time": "2022-02-04T22:05:29.553Z"
   },
   {
    "duration": 7,
    "start_time": "2022-02-04T22:05:29.561Z"
   },
   {
    "duration": 7,
    "start_time": "2022-02-04T22:05:29.570Z"
   },
   {
    "duration": 7,
    "start_time": "2022-02-04T22:05:29.581Z"
   },
   {
    "duration": 11,
    "start_time": "2022-02-04T22:05:29.591Z"
   },
   {
    "duration": 57,
    "start_time": "2022-02-04T22:05:29.604Z"
   },
   {
    "duration": 11,
    "start_time": "2022-02-04T22:05:29.663Z"
   },
   {
    "duration": 18,
    "start_time": "2022-02-04T22:05:29.677Z"
   },
   {
    "duration": 5,
    "start_time": "2022-02-04T22:05:29.697Z"
   },
   {
    "duration": 8,
    "start_time": "2022-02-04T22:05:29.704Z"
   },
   {
    "duration": 23,
    "start_time": "2022-02-04T22:05:29.750Z"
   },
   {
    "duration": 15,
    "start_time": "2022-02-04T22:05:29.775Z"
   },
   {
    "duration": 16,
    "start_time": "2022-02-04T22:05:29.792Z"
   },
   {
    "duration": 38,
    "start_time": "2022-02-04T22:05:29.810Z"
   },
   {
    "duration": 5,
    "start_time": "2022-02-04T22:05:29.851Z"
   },
   {
    "duration": 10,
    "start_time": "2022-02-04T22:05:29.859Z"
   },
   {
    "duration": 9,
    "start_time": "2022-02-04T22:05:29.871Z"
   },
   {
    "duration": 10,
    "start_time": "2022-02-04T22:05:29.882Z"
   },
   {
    "duration": 19,
    "start_time": "2022-02-04T22:05:29.894Z"
   },
   {
    "duration": 137,
    "start_time": "2022-02-04T22:05:29.916Z"
   },
   {
    "duration": 104,
    "start_time": "2022-02-04T22:05:30.056Z"
   },
   {
    "duration": 926,
    "start_time": "2022-02-04T22:05:30.167Z"
   },
   {
    "duration": 6,
    "start_time": "2022-02-04T22:05:31.095Z"
   },
   {
    "duration": 3418,
    "start_time": "2022-02-04T22:05:31.103Z"
   },
   {
    "duration": 29069,
    "start_time": "2022-02-04T22:05:34.524Z"
   },
   {
    "duration": 18,
    "start_time": "2022-02-04T22:06:39.538Z"
   },
   {
    "duration": 5,
    "start_time": "2022-02-04T22:06:44.790Z"
   },
   {
    "duration": 57,
    "start_time": "2022-02-04T22:06:48.916Z"
   },
   {
    "duration": 15,
    "start_time": "2022-02-04T22:07:02.180Z"
   },
   {
    "duration": 1065,
    "start_time": "2022-02-04T22:07:52.617Z"
   },
   {
    "duration": 4808,
    "start_time": "2022-02-04T22:09:48.043Z"
   },
   {
    "duration": 30997,
    "start_time": "2022-02-04T22:10:44.183Z"
   },
   {
    "duration": 712,
    "start_time": "2022-02-04T22:22:06.322Z"
   },
   {
    "duration": 12,
    "start_time": "2022-02-04T22:25:49.011Z"
   },
   {
    "duration": 18,
    "start_time": "2022-02-04T22:37:54.315Z"
   },
   {
    "duration": 6,
    "start_time": "2022-02-04T22:38:02.288Z"
   },
   {
    "duration": 43,
    "start_time": "2022-02-04T22:38:02.303Z"
   },
   {
    "duration": 24,
    "start_time": "2022-02-04T22:38:02.350Z"
   },
   {
    "duration": 5,
    "start_time": "2022-02-04T22:38:02.377Z"
   },
   {
    "duration": 12,
    "start_time": "2022-02-04T22:38:02.385Z"
   },
   {
    "duration": 57,
    "start_time": "2022-02-04T22:38:02.400Z"
   },
   {
    "duration": 8,
    "start_time": "2022-02-04T22:38:02.459Z"
   },
   {
    "duration": 10,
    "start_time": "2022-02-04T22:38:02.469Z"
   },
   {
    "duration": 6,
    "start_time": "2022-02-04T22:38:02.483Z"
   },
   {
    "duration": 14,
    "start_time": "2022-02-04T22:38:02.492Z"
   },
   {
    "duration": 46,
    "start_time": "2022-02-04T22:38:02.509Z"
   },
   {
    "duration": 22,
    "start_time": "2022-02-04T22:38:02.557Z"
   },
   {
    "duration": 10,
    "start_time": "2022-02-04T22:38:02.582Z"
   },
   {
    "duration": 56,
    "start_time": "2022-02-04T22:38:02.595Z"
   },
   {
    "duration": 6,
    "start_time": "2022-02-04T22:38:02.653Z"
   },
   {
    "duration": 8,
    "start_time": "2022-02-04T22:38:02.661Z"
   },
   {
    "duration": 23,
    "start_time": "2022-02-04T22:38:02.671Z"
   },
   {
    "duration": 51,
    "start_time": "2022-02-04T22:38:02.697Z"
   },
   {
    "duration": 13,
    "start_time": "2022-02-04T22:38:02.750Z"
   },
   {
    "duration": 10,
    "start_time": "2022-02-04T22:38:02.765Z"
   },
   {
    "duration": 6,
    "start_time": "2022-02-04T22:38:02.777Z"
   },
   {
    "duration": 9,
    "start_time": "2022-02-04T22:38:02.786Z"
   },
   {
    "duration": 55,
    "start_time": "2022-02-04T22:38:02.797Z"
   },
   {
    "duration": 8,
    "start_time": "2022-02-04T22:38:02.857Z"
   },
   {
    "duration": 6,
    "start_time": "2022-02-04T22:38:02.867Z"
   },
   {
    "duration": 83,
    "start_time": "2022-02-04T22:38:02.875Z"
   },
   {
    "duration": 14,
    "start_time": "2022-02-04T22:38:03.049Z"
   },
   {
    "duration": 905,
    "start_time": "2022-02-04T22:38:03.151Z"
   },
   {
    "duration": 7,
    "start_time": "2022-02-04T22:38:04.058Z"
   },
   {
    "duration": 3454,
    "start_time": "2022-02-04T22:38:04.067Z"
   },
   {
    "duration": 28406,
    "start_time": "2022-02-04T22:38:07.524Z"
   },
   {
    "duration": 18,
    "start_time": "2022-02-04T22:39:03.384Z"
   },
   {
    "duration": 5,
    "start_time": "2022-02-04T22:39:06.373Z"
   },
   {
    "duration": 53,
    "start_time": "2022-02-04T22:39:11.214Z"
   },
   {
    "duration": 14,
    "start_time": "2022-02-04T22:39:17.997Z"
   },
   {
    "duration": 882,
    "start_time": "2022-02-04T22:39:28.254Z"
   },
   {
    "duration": 3928,
    "start_time": "2022-02-04T22:42:31.733Z"
   },
   {
    "duration": 31276,
    "start_time": "2022-02-04T22:42:50.615Z"
   },
   {
    "duration": 562,
    "start_time": "2022-02-04T22:43:44.152Z"
   },
   {
    "duration": 7,
    "start_time": "2022-02-04T22:47:36.152Z"
   },
   {
    "duration": 7,
    "start_time": "2022-02-04T22:47:51.535Z"
   },
   {
    "duration": 5,
    "start_time": "2022-02-04T22:48:01.038Z"
   },
   {
    "duration": 80,
    "start_time": "2022-02-04T22:51:02.273Z"
   },
   {
    "duration": 12,
    "start_time": "2022-02-04T22:51:04.976Z"
   },
   {
    "duration": 887,
    "start_time": "2022-02-04T22:51:37.331Z"
   },
   {
    "duration": 3937,
    "start_time": "2022-02-04T22:52:18.720Z"
   },
   {
    "duration": 31233,
    "start_time": "2022-02-04T22:52:29.631Z"
   },
   {
    "duration": 751,
    "start_time": "2022-02-04T22:56:12.925Z"
   },
   {
    "duration": 11,
    "start_time": "2022-02-04T23:02:00.864Z"
   },
   {
    "duration": 9,
    "start_time": "2022-02-04T23:02:26.976Z"
   },
   {
    "duration": 6,
    "start_time": "2022-02-04T23:03:27.055Z"
   },
   {
    "duration": 51,
    "start_time": "2022-02-04T23:03:27.068Z"
   },
   {
    "duration": 30,
    "start_time": "2022-02-04T23:03:27.122Z"
   },
   {
    "duration": 6,
    "start_time": "2022-02-04T23:03:27.156Z"
   },
   {
    "duration": 14,
    "start_time": "2022-02-04T23:03:27.165Z"
   },
   {
    "duration": 14,
    "start_time": "2022-02-04T23:03:27.182Z"
   },
   {
    "duration": 54,
    "start_time": "2022-02-04T23:03:27.199Z"
   },
   {
    "duration": 9,
    "start_time": "2022-02-04T23:03:27.256Z"
   },
   {
    "duration": 10,
    "start_time": "2022-02-04T23:03:27.270Z"
   },
   {
    "duration": 13,
    "start_time": "2022-02-04T23:03:27.284Z"
   },
   {
    "duration": 11,
    "start_time": "2022-02-04T23:03:27.300Z"
   },
   {
    "duration": 49,
    "start_time": "2022-02-04T23:03:27.314Z"
   },
   {
    "duration": 7,
    "start_time": "2022-02-04T23:03:27.366Z"
   },
   {
    "duration": 19,
    "start_time": "2022-02-04T23:03:27.375Z"
   },
   {
    "duration": 5,
    "start_time": "2022-02-04T23:03:27.397Z"
   },
   {
    "duration": 46,
    "start_time": "2022-02-04T23:03:27.404Z"
   },
   {
    "duration": 29,
    "start_time": "2022-02-04T23:03:27.453Z"
   },
   {
    "duration": 23,
    "start_time": "2022-02-04T23:03:27.485Z"
   },
   {
    "duration": 17,
    "start_time": "2022-02-04T23:03:27.511Z"
   },
   {
    "duration": 12,
    "start_time": "2022-02-04T23:03:27.549Z"
   },
   {
    "duration": 14,
    "start_time": "2022-02-04T23:03:27.564Z"
   },
   {
    "duration": 12,
    "start_time": "2022-02-04T23:03:27.581Z"
   },
   {
    "duration": 13,
    "start_time": "2022-02-04T23:03:27.596Z"
   },
   {
    "duration": 35,
    "start_time": "2022-02-04T23:03:27.615Z"
   },
   {
    "duration": 7,
    "start_time": "2022-02-04T23:03:27.653Z"
   },
   {
    "duration": 93,
    "start_time": "2022-02-04T23:03:27.662Z"
   },
   {
    "duration": 102,
    "start_time": "2022-02-04T23:03:27.758Z"
   },
   {
    "duration": 917,
    "start_time": "2022-02-04T23:03:27.863Z"
   },
   {
    "duration": 7,
    "start_time": "2022-02-04T23:03:28.782Z"
   },
   {
    "duration": 3346,
    "start_time": "2022-02-04T23:03:28.792Z"
   },
   {
    "duration": 28623,
    "start_time": "2022-02-04T23:03:32.150Z"
   },
   {
    "duration": 16,
    "start_time": "2022-02-04T23:04:00.775Z"
   },
   {
    "duration": 5,
    "start_time": "2022-02-04T23:04:00.794Z"
   },
   {
    "duration": 146,
    "start_time": "2022-02-04T23:04:00.801Z"
   },
   {
    "duration": 200,
    "start_time": "2022-02-04T23:04:00.951Z"
   },
   {
    "duration": 988,
    "start_time": "2022-02-04T23:04:01.154Z"
   },
   {
    "duration": 3708,
    "start_time": "2022-02-04T23:04:02.149Z"
   },
   {
    "duration": 31315,
    "start_time": "2022-02-04T23:04:05.859Z"
   },
   {
    "duration": 762,
    "start_time": "2022-02-04T23:04:37.176Z"
   },
   {
    "duration": 15,
    "start_time": "2022-02-04T23:04:37.941Z"
   },
   {
    "duration": 12,
    "start_time": "2022-02-04T23:04:37.958Z"
   },
   {
    "duration": 112,
    "start_time": "2022-02-04T23:21:59.871Z"
   },
   {
    "duration": 133,
    "start_time": "2022-02-05T04:07:04.766Z"
   },
   {
    "duration": 1483,
    "start_time": "2022-02-05T05:15:56.254Z"
   },
   {
    "duration": 36,
    "start_time": "2022-02-05T05:15:57.740Z"
   },
   {
    "duration": 22,
    "start_time": "2022-02-05T05:15:57.780Z"
   },
   {
    "duration": 24,
    "start_time": "2022-02-05T05:15:57.805Z"
   },
   {
    "duration": 11,
    "start_time": "2022-02-05T05:15:57.832Z"
   },
   {
    "duration": 14,
    "start_time": "2022-02-05T05:15:57.846Z"
   },
   {
    "duration": 9,
    "start_time": "2022-02-05T05:15:57.862Z"
   },
   {
    "duration": 50,
    "start_time": "2022-02-05T05:15:57.875Z"
   },
   {
    "duration": 6,
    "start_time": "2022-02-05T05:15:57.929Z"
   },
   {
    "duration": 8,
    "start_time": "2022-02-05T05:15:57.938Z"
   },
   {
    "duration": 8,
    "start_time": "2022-02-05T05:15:57.948Z"
   },
   {
    "duration": 14,
    "start_time": "2022-02-05T05:15:57.959Z"
   },
   {
    "duration": 7,
    "start_time": "2022-02-05T05:15:58.024Z"
   },
   {
    "duration": 19,
    "start_time": "2022-02-05T05:15:58.034Z"
   },
   {
    "duration": 5,
    "start_time": "2022-02-05T05:15:58.056Z"
   },
   {
    "duration": 7,
    "start_time": "2022-02-05T05:15:58.064Z"
   },
   {
    "duration": 68,
    "start_time": "2022-02-05T05:15:58.073Z"
   },
   {
    "duration": 20,
    "start_time": "2022-02-05T05:15:58.144Z"
   },
   {
    "duration": 16,
    "start_time": "2022-02-05T05:15:58.167Z"
   },
   {
    "duration": 10,
    "start_time": "2022-02-05T05:15:58.185Z"
   },
   {
    "duration": 6,
    "start_time": "2022-02-05T05:15:58.224Z"
   },
   {
    "duration": 10,
    "start_time": "2022-02-05T05:15:58.233Z"
   },
   {
    "duration": 11,
    "start_time": "2022-02-05T05:15:58.248Z"
   },
   {
    "duration": 9,
    "start_time": "2022-02-05T05:15:58.262Z"
   },
   {
    "duration": 7,
    "start_time": "2022-02-05T05:15:58.273Z"
   },
   {
    "duration": 102,
    "start_time": "2022-02-05T05:15:58.324Z"
   },
   {
    "duration": 103,
    "start_time": "2022-02-05T05:15:58.429Z"
   },
   {
    "duration": 945,
    "start_time": "2022-02-05T05:15:58.534Z"
   },
   {
    "duration": 6,
    "start_time": "2022-02-05T05:15:59.482Z"
   },
   {
    "duration": 3322,
    "start_time": "2022-02-05T05:15:59.490Z"
   },
   {
    "duration": 28669,
    "start_time": "2022-02-05T05:16:02.814Z"
   },
   {
    "duration": 19,
    "start_time": "2022-02-05T05:16:31.486Z"
   },
   {
    "duration": 7,
    "start_time": "2022-02-05T05:16:31.524Z"
   },
   {
    "duration": 93,
    "start_time": "2022-02-05T05:16:31.533Z"
   },
   {
    "duration": 104,
    "start_time": "2022-02-05T05:16:31.629Z"
   },
   {
    "duration": 1082,
    "start_time": "2022-02-05T05:16:31.736Z"
   },
   {
    "duration": 3764,
    "start_time": "2022-02-05T05:16:32.825Z"
   },
   {
    "duration": 31691,
    "start_time": "2022-02-05T05:16:36.592Z"
   },
   {
    "duration": 759,
    "start_time": "2022-02-05T05:17:08.286Z"
   },
   {
    "duration": 11,
    "start_time": "2022-02-05T05:17:09.047Z"
   },
   {
    "duration": 10,
    "start_time": "2022-02-05T05:17:09.060Z"
   },
   {
    "duration": 1252,
    "start_time": "2022-02-06T00:29:01.613Z"
   },
   {
    "duration": 133,
    "start_time": "2022-02-06T00:29:08.273Z"
   },
   {
    "duration": 2,
    "start_time": "2022-02-06T00:30:55.521Z"
   },
   {
    "duration": 119,
    "start_time": "2022-02-06T00:33:16.325Z"
   },
   {
    "duration": 3011,
    "start_time": "2022-02-06T00:35:07.886Z"
   },
   {
    "duration": 1051,
    "start_time": "2022-02-06T00:35:49.062Z"
   },
   {
    "duration": 4,
    "start_time": "2022-02-06T00:36:11.002Z"
   },
   {
    "duration": 28,
    "start_time": "2022-02-06T00:36:11.008Z"
   },
   {
    "duration": 13,
    "start_time": "2022-02-06T00:36:11.038Z"
   },
   {
    "duration": 5,
    "start_time": "2022-02-06T00:36:11.053Z"
   },
   {
    "duration": 10,
    "start_time": "2022-02-06T00:36:11.059Z"
   },
   {
    "duration": 7,
    "start_time": "2022-02-06T00:36:11.070Z"
   },
   {
    "duration": 4,
    "start_time": "2022-02-06T00:36:11.079Z"
   },
   {
    "duration": 8,
    "start_time": "2022-02-06T00:36:11.084Z"
   },
   {
    "duration": 34,
    "start_time": "2022-02-06T00:36:11.095Z"
   },
   {
    "duration": 6,
    "start_time": "2022-02-06T00:36:11.131Z"
   },
   {
    "duration": 6,
    "start_time": "2022-02-06T00:36:11.138Z"
   },
   {
    "duration": 9,
    "start_time": "2022-02-06T00:36:11.145Z"
   },
   {
    "duration": 5,
    "start_time": "2022-02-06T00:36:11.155Z"
   },
   {
    "duration": 11,
    "start_time": "2022-02-06T00:36:11.161Z"
   },
   {
    "duration": 3,
    "start_time": "2022-02-06T00:36:11.173Z"
   },
   {
    "duration": 4,
    "start_time": "2022-02-06T00:36:11.178Z"
   },
   {
    "duration": 53,
    "start_time": "2022-02-06T00:36:11.183Z"
   },
   {
    "duration": 9,
    "start_time": "2022-02-06T00:36:11.237Z"
   },
   {
    "duration": 10,
    "start_time": "2022-02-06T00:36:11.248Z"
   },
   {
    "duration": 5,
    "start_time": "2022-02-06T00:36:11.259Z"
   },
   {
    "duration": 3,
    "start_time": "2022-02-06T00:36:11.266Z"
   },
   {
    "duration": 5,
    "start_time": "2022-02-06T00:36:11.270Z"
   },
   {
    "duration": 7,
    "start_time": "2022-02-06T00:36:11.276Z"
   },
   {
    "duration": 7,
    "start_time": "2022-02-06T00:36:11.284Z"
   },
   {
    "duration": 37,
    "start_time": "2022-02-06T00:36:11.292Z"
   },
   {
    "duration": 100,
    "start_time": "2022-02-06T00:36:11.330Z"
   },
   {
    "duration": 99,
    "start_time": "2022-02-06T00:36:11.434Z"
   },
   {
    "duration": 663,
    "start_time": "2022-02-06T00:36:11.535Z"
   },
   {
    "duration": 4,
    "start_time": "2022-02-06T00:36:12.200Z"
   },
   {
    "duration": 2069,
    "start_time": "2022-02-06T00:36:12.205Z"
   },
   {
    "duration": 17982,
    "start_time": "2022-02-06T00:36:14.275Z"
   },
   {
    "duration": 24,
    "start_time": "2022-02-06T00:37:27.829Z"
   },
   {
    "duration": 121,
    "start_time": "2022-02-06T00:37:30.642Z"
   },
   {
    "duration": 11,
    "start_time": "2022-02-06T00:37:46.161Z"
   },
   {
    "duration": 9,
    "start_time": "2022-02-06T00:38:21.560Z"
   },
   {
    "duration": 12,
    "start_time": "2022-02-06T00:39:52.844Z"
   },
   {
    "duration": 2,
    "start_time": "2022-02-06T00:40:11.053Z"
   },
   {
    "duration": 112,
    "start_time": "2022-02-06T00:41:07.968Z"
   },
   {
    "duration": 510,
    "start_time": "2022-02-06T00:41:31.670Z"
   },
   {
    "duration": 104,
    "start_time": "2022-02-06T00:45:14.391Z"
   },
   {
    "duration": 2025,
    "start_time": "2022-02-06T00:46:52.088Z"
   },
   {
    "duration": 14246,
    "start_time": "2022-02-06T00:48:08.481Z"
   },
   {
    "duration": 2219,
    "start_time": "2022-02-06T00:48:52.265Z"
   },
   {
    "duration": 13115,
    "start_time": "2022-02-06T00:49:05.081Z"
   },
   {
    "duration": 12,
    "start_time": "2022-02-06T00:54:40.383Z"
   },
   {
    "duration": 3,
    "start_time": "2022-02-06T00:55:22.202Z"
   },
   {
    "duration": 32,
    "start_time": "2022-02-06T00:56:07.542Z"
   },
   {
    "duration": 11,
    "start_time": "2022-02-06T00:56:35.201Z"
   },
   {
    "duration": 548,
    "start_time": "2022-02-06T01:00:06.567Z"
   },
   {
    "duration": 541,
    "start_time": "2022-02-06T01:04:03.515Z"
   },
   {
    "duration": 15150,
    "start_time": "2022-02-06T01:09:07.882Z"
   },
   {
    "duration": 2326,
    "start_time": "2022-02-06T01:09:35.010Z"
   },
   {
    "duration": 20170,
    "start_time": "2022-02-06T01:09:45.259Z"
   },
   {
    "duration": 2437,
    "start_time": "2022-02-06T01:13:54.731Z"
   },
   {
    "duration": 14023,
    "start_time": "2022-02-06T01:14:32.109Z"
   },
   {
    "duration": 12224,
    "start_time": "2022-02-06T01:18:32.451Z"
   },
   {
    "duration": 2342,
    "start_time": "2022-02-06T01:20:02.250Z"
   },
   {
    "duration": 13753,
    "start_time": "2022-02-06T01:20:14.856Z"
   },
   {
    "duration": 13873,
    "start_time": "2022-02-06T01:20:39.379Z"
   },
   {
    "duration": 1145,
    "start_time": "2022-02-06T07:30:50.720Z"
   },
   {
    "duration": 29,
    "start_time": "2022-02-06T07:30:59.399Z"
   },
   {
    "duration": 15,
    "start_time": "2022-02-06T07:31:10.556Z"
   },
   {
    "duration": 4,
    "start_time": "2022-02-06T07:31:18.078Z"
   },
   {
    "duration": 8,
    "start_time": "2022-02-06T07:31:21.126Z"
   },
   {
    "duration": 9,
    "start_time": "2022-02-06T07:31:27.838Z"
   },
   {
    "duration": 7,
    "start_time": "2022-02-06T07:31:35.246Z"
   },
   {
    "duration": 4,
    "start_time": "2022-02-06T07:31:41.318Z"
   },
   {
    "duration": 5,
    "start_time": "2022-02-06T07:33:31.119Z"
   },
   {
    "duration": 6,
    "start_time": "2022-02-06T07:33:39.587Z"
   },
   {
    "duration": 6,
    "start_time": "2022-02-06T07:33:42.517Z"
   },
   {
    "duration": 10,
    "start_time": "2022-02-06T07:33:54.308Z"
   },
   {
    "duration": 5,
    "start_time": "2022-02-06T07:34:01.397Z"
   },
   {
    "duration": 14,
    "start_time": "2022-02-06T07:34:07.428Z"
   },
   {
    "duration": 3,
    "start_time": "2022-02-06T07:34:14.708Z"
   },
   {
    "duration": 4,
    "start_time": "2022-02-06T07:34:20.748Z"
   },
   {
    "duration": 19,
    "start_time": "2022-02-06T07:34:29.635Z"
   },
   {
    "duration": 11,
    "start_time": "2022-02-06T07:34:33.278Z"
   },
   {
    "duration": 10,
    "start_time": "2022-02-06T07:34:56.475Z"
   },
   {
    "duration": 7,
    "start_time": "2022-02-06T07:34:59.156Z"
   },
   {
    "duration": 4,
    "start_time": "2022-02-06T07:35:01.200Z"
   },
   {
    "duration": 4,
    "start_time": "2022-02-06T07:35:03.917Z"
   },
   {
    "duration": 6,
    "start_time": "2022-02-06T07:35:07.636Z"
   },
   {
    "duration": 7,
    "start_time": "2022-02-06T07:35:15.068Z"
   },
   {
    "duration": 4,
    "start_time": "2022-02-06T07:35:31.796Z"
   },
   {
    "duration": 83,
    "start_time": "2022-02-06T07:35:36.235Z"
   },
   {
    "duration": 10,
    "start_time": "2022-02-06T07:36:23.196Z"
   },
   {
    "duration": 28,
    "start_time": "2022-02-06T07:36:25.916Z"
   },
   {
    "duration": 10,
    "start_time": "2022-02-06T07:36:29.556Z"
   },
   {
    "duration": 560,
    "start_time": "2022-02-06T07:37:13.476Z"
   },
   {
    "duration": 5,
    "start_time": "2022-02-06T07:38:58.388Z"
   },
   {
    "duration": 2365,
    "start_time": "2022-02-06T07:39:14.799Z"
   },
   {
    "duration": 20289,
    "start_time": "2022-02-06T07:39:25.678Z"
   },
   {
    "duration": 2439,
    "start_time": "2022-02-06T07:42:28.765Z"
   },
   {
    "duration": 101,
    "start_time": "2022-02-06T07:44:11.317Z"
   },
   {
    "duration": 10,
    "start_time": "2022-02-06T07:44:14.843Z"
   },
   {
    "duration": 29,
    "start_time": "2022-02-06T07:44:25.241Z"
   },
   {
    "duration": 9,
    "start_time": "2022-02-06T07:44:31.854Z"
   },
   {
    "duration": 3,
    "start_time": "2022-02-06T07:48:11.479Z"
   },
   {
    "duration": 3,
    "start_time": "2022-02-06T07:51:18.200Z"
   },
   {
    "duration": 4,
    "start_time": "2022-02-06T07:51:36.402Z"
   },
   {
    "duration": 81,
    "start_time": "2022-02-06T07:53:57.434Z"
   },
   {
    "duration": 4,
    "start_time": "2022-02-06T07:54:11.034Z"
   },
   {
    "duration": 4,
    "start_time": "2022-02-06T07:54:17.661Z"
   },
   {
    "duration": 3,
    "start_time": "2022-02-06T07:54:30.314Z"
   },
   {
    "duration": 3,
    "start_time": "2022-02-06T07:56:07.881Z"
   },
   {
    "duration": 4,
    "start_time": "2022-02-06T07:56:25.101Z"
   },
   {
    "duration": 4,
    "start_time": "2022-02-06T07:56:56.453Z"
   },
   {
    "duration": 29,
    "start_time": "2022-02-06T07:56:56.460Z"
   },
   {
    "duration": 10,
    "start_time": "2022-02-06T07:56:56.491Z"
   },
   {
    "duration": 5,
    "start_time": "2022-02-06T07:56:56.503Z"
   },
   {
    "duration": 8,
    "start_time": "2022-02-06T07:56:56.510Z"
   },
   {
    "duration": 12,
    "start_time": "2022-02-06T07:56:56.519Z"
   },
   {
    "duration": 7,
    "start_time": "2022-02-06T07:56:56.532Z"
   },
   {
    "duration": 7,
    "start_time": "2022-02-06T07:56:56.541Z"
   },
   {
    "duration": 11,
    "start_time": "2022-02-06T07:56:56.550Z"
   },
   {
    "duration": 9,
    "start_time": "2022-02-06T07:56:56.563Z"
   },
   {
    "duration": 8,
    "start_time": "2022-02-06T07:56:56.574Z"
   },
   {
    "duration": 12,
    "start_time": "2022-02-06T07:56:56.583Z"
   },
   {
    "duration": 26,
    "start_time": "2022-02-06T07:56:56.597Z"
   },
   {
    "duration": 13,
    "start_time": "2022-02-06T07:56:56.625Z"
   },
   {
    "duration": 5,
    "start_time": "2022-02-06T07:56:56.639Z"
   },
   {
    "duration": 11,
    "start_time": "2022-02-06T07:56:56.645Z"
   },
   {
    "duration": 18,
    "start_time": "2022-02-06T07:56:56.658Z"
   },
   {
    "duration": 11,
    "start_time": "2022-02-06T07:56:56.678Z"
   },
   {
    "duration": 30,
    "start_time": "2022-02-06T07:56:56.690Z"
   },
   {
    "duration": 7,
    "start_time": "2022-02-06T07:56:56.723Z"
   },
   {
    "duration": 5,
    "start_time": "2022-02-06T07:56:56.732Z"
   },
   {
    "duration": 7,
    "start_time": "2022-02-06T07:56:56.739Z"
   },
   {
    "duration": 7,
    "start_time": "2022-02-06T07:56:56.748Z"
   },
   {
    "duration": 11,
    "start_time": "2022-02-06T07:56:56.757Z"
   },
   {
    "duration": 7,
    "start_time": "2022-02-06T07:56:56.770Z"
   },
   {
    "duration": 66,
    "start_time": "2022-02-06T07:56:56.778Z"
   },
   {
    "duration": 105,
    "start_time": "2022-02-06T07:56:56.921Z"
   },
   {
    "duration": 5,
    "start_time": "2022-02-06T07:56:57.118Z"
   },
   {
    "duration": 654,
    "start_time": "2022-02-06T07:56:57.125Z"
   },
   {
    "duration": 3,
    "start_time": "2022-02-06T07:56:57.780Z"
   },
   {
    "duration": 3,
    "start_time": "2022-02-06T07:57:03.592Z"
   },
   {
    "duration": 4,
    "start_time": "2022-02-06T07:57:07.460Z"
   },
   {
    "duration": 109,
    "start_time": "2022-02-06T07:58:22.759Z"
   },
   {
    "duration": 2,
    "start_time": "2022-02-06T07:58:27.928Z"
   },
   {
    "duration": 61,
    "start_time": "2022-02-06T07:59:03.259Z"
   },
   {
    "duration": 11,
    "start_time": "2022-02-06T07:59:06.080Z"
   },
   {
    "duration": 3,
    "start_time": "2022-02-06T08:00:19.881Z"
   },
   {
    "duration": 566,
    "start_time": "2022-02-06T08:01:07.100Z"
   },
   {
    "duration": 3,
    "start_time": "2022-02-06T08:02:13.740Z"
   },
   {
    "duration": 4,
    "start_time": "2022-02-06T08:02:21.138Z"
   },
   {
    "duration": 3,
    "start_time": "2022-02-06T08:05:57.629Z"
   },
   {
    "duration": 4,
    "start_time": "2022-02-06T08:06:14.270Z"
   },
   {
    "duration": 2332,
    "start_time": "2022-02-06T08:06:38.212Z"
   },
   {
    "duration": 15048,
    "start_time": "2022-02-06T08:06:51.072Z"
   },
   {
    "duration": 3,
    "start_time": "2022-02-06T08:08:41.703Z"
   },
   {
    "duration": 5,
    "start_time": "2022-02-06T08:08:45.411Z"
   },
   {
    "duration": 12,
    "start_time": "2022-02-06T08:11:16.113Z"
   },
   {
    "duration": 4,
    "start_time": "2022-02-06T08:11:25.102Z"
   },
   {
    "duration": 70,
    "start_time": "2022-02-06T08:12:49.291Z"
   },
   {
    "duration": 50,
    "start_time": "2022-02-06T08:12:51.571Z"
   },
   {
    "duration": 14,
    "start_time": "2022-02-06T08:12:55.931Z"
   },
   {
    "duration": 3,
    "start_time": "2022-02-06T08:14:26.690Z"
   },
   {
    "duration": 4,
    "start_time": "2022-02-06T08:14:51.851Z"
   },
   {
    "duration": 639,
    "start_time": "2022-02-06T08:18:03.651Z"
   },
   {
    "duration": 2,
    "start_time": "2022-02-06T08:19:26.072Z"
   },
   {
    "duration": 4,
    "start_time": "2022-02-06T08:19:34.771Z"
   },
   {
    "duration": 5,
    "start_time": "2022-02-06T08:22:23.171Z"
   },
   {
    "duration": 2824,
    "start_time": "2022-02-06T08:24:00.215Z"
   },
   {
    "duration": 16318,
    "start_time": "2022-02-06T08:24:09.411Z"
   },
   {
    "duration": 84,
    "start_time": "2022-02-06T08:25:49.331Z"
   },
   {
    "duration": 88,
    "start_time": "2022-02-06T08:25:57.242Z"
   },
   {
    "duration": 2,
    "start_time": "2022-02-06T08:26:05.851Z"
   },
   {
    "duration": 6,
    "start_time": "2022-02-06T08:26:18.109Z"
   },
   {
    "duration": 12,
    "start_time": "2022-02-06T08:32:25.472Z"
   },
   {
    "duration": 3,
    "start_time": "2022-02-06T08:32:29.170Z"
   },
   {
    "duration": 37,
    "start_time": "2022-02-06T08:32:37.090Z"
   },
   {
    "duration": 9,
    "start_time": "2022-02-06T08:32:40.970Z"
   },
   {
    "duration": 6,
    "start_time": "2022-02-06T08:32:45.570Z"
   },
   {
    "duration": 5,
    "start_time": "2022-02-06T08:33:45.730Z"
   },
   {
    "duration": 732,
    "start_time": "2022-02-06T08:36:06.833Z"
   },
   {
    "duration": 5,
    "start_time": "2022-02-06T08:38:51.171Z"
   },
   {
    "duration": 5,
    "start_time": "2022-02-06T08:39:04.282Z"
   },
   {
    "duration": 3161,
    "start_time": "2022-02-06T08:43:21.251Z"
   },
   {
    "duration": 20981,
    "start_time": "2022-02-06T08:43:32.611Z"
   },
   {
    "duration": 4,
    "start_time": "2022-02-06T08:48:40.451Z"
   },
   {
    "duration": 86,
    "start_time": "2022-02-06T08:49:51.634Z"
   },
   {
    "duration": 5,
    "start_time": "2022-02-06T08:50:58.491Z"
   },
   {
    "duration": 5,
    "start_time": "2022-02-06T08:52:18.452Z"
   },
   {
    "duration": 328,
    "start_time": "2022-02-06T08:52:36.452Z"
   },
   {
    "duration": 252,
    "start_time": "2022-02-06T08:52:41.623Z"
   },
   {
    "duration": 5,
    "start_time": "2022-02-06T08:52:54.709Z"
   },
   {
    "duration": 5,
    "start_time": "2022-02-06T08:53:06.050Z"
   },
   {
    "duration": 5,
    "start_time": "2022-02-06T08:53:22.048Z"
   },
   {
    "duration": 3,
    "start_time": "2022-02-06T08:54:40.932Z"
   },
   {
    "duration": 4,
    "start_time": "2022-02-06T08:55:23.291Z"
   },
   {
    "duration": 5,
    "start_time": "2022-02-06T08:55:40.692Z"
   },
   {
    "duration": 5,
    "start_time": "2022-02-06T08:56:03.463Z"
   },
   {
    "duration": 515,
    "start_time": "2022-02-06T09:01:56.920Z"
   },
   {
    "duration": 167,
    "start_time": "2022-02-06T09:02:37.815Z"
   },
   {
    "duration": 2377,
    "start_time": "2022-02-06T09:04:16.392Z"
   },
   {
    "duration": 15377,
    "start_time": "2022-02-06T09:04:34.471Z"
   },
   {
    "duration": 592,
    "start_time": "2022-02-06T09:05:54.971Z"
   },
   {
    "duration": 8,
    "start_time": "2022-02-06T09:09:01.471Z"
   },
   {
    "duration": 8,
    "start_time": "2022-02-06T09:16:03.349Z"
   },
   {
    "duration": 5,
    "start_time": "2022-02-06T09:16:37.039Z"
   },
   {
    "duration": 36,
    "start_time": "2022-02-06T09:16:37.046Z"
   },
   {
    "duration": 12,
    "start_time": "2022-02-06T09:16:37.084Z"
   },
   {
    "duration": 8,
    "start_time": "2022-02-06T09:16:37.099Z"
   },
   {
    "duration": 10,
    "start_time": "2022-02-06T09:16:37.109Z"
   },
   {
    "duration": 8,
    "start_time": "2022-02-06T09:16:37.121Z"
   },
   {
    "duration": 6,
    "start_time": "2022-02-06T09:16:37.131Z"
   },
   {
    "duration": 11,
    "start_time": "2022-02-06T09:16:37.139Z"
   },
   {
    "duration": 5,
    "start_time": "2022-02-06T09:16:37.152Z"
   },
   {
    "duration": 9,
    "start_time": "2022-02-06T09:16:37.159Z"
   },
   {
    "duration": 6,
    "start_time": "2022-02-06T09:16:37.170Z"
   },
   {
    "duration": 45,
    "start_time": "2022-02-06T09:16:37.178Z"
   },
   {
    "duration": 8,
    "start_time": "2022-02-06T09:16:37.224Z"
   },
   {
    "duration": 13,
    "start_time": "2022-02-06T09:16:37.233Z"
   },
   {
    "duration": 4,
    "start_time": "2022-02-06T09:16:37.247Z"
   },
   {
    "duration": 6,
    "start_time": "2022-02-06T09:16:37.252Z"
   },
   {
    "duration": 20,
    "start_time": "2022-02-06T09:16:37.259Z"
   },
   {
    "duration": 39,
    "start_time": "2022-02-06T09:16:37.280Z"
   },
   {
    "duration": 9,
    "start_time": "2022-02-06T09:16:37.321Z"
   },
   {
    "duration": 7,
    "start_time": "2022-02-06T09:16:37.332Z"
   },
   {
    "duration": 7,
    "start_time": "2022-02-06T09:16:37.340Z"
   },
   {
    "duration": 18,
    "start_time": "2022-02-06T09:16:37.348Z"
   },
   {
    "duration": 10,
    "start_time": "2022-02-06T09:16:37.367Z"
   },
   {
    "duration": 8,
    "start_time": "2022-02-06T09:16:37.379Z"
   },
   {
    "duration": 14,
    "start_time": "2022-02-06T09:16:37.389Z"
   },
   {
    "duration": 38,
    "start_time": "2022-02-06T09:16:37.405Z"
   },
   {
    "duration": 78,
    "start_time": "2022-02-06T09:16:37.449Z"
   },
   {
    "duration": 102,
    "start_time": "2022-02-06T09:16:37.621Z"
   },
   {
    "duration": 597,
    "start_time": "2022-02-06T09:16:37.725Z"
   },
   {
    "duration": 3,
    "start_time": "2022-02-06T09:16:38.324Z"
   },
   {
    "duration": 2419,
    "start_time": "2022-02-06T09:16:38.328Z"
   },
   {
    "duration": 21282,
    "start_time": "2022-02-06T09:16:40.749Z"
   },
   {
    "duration": 2,
    "start_time": "2022-02-06T09:17:02.033Z"
   },
   {
    "duration": 86,
    "start_time": "2022-02-06T09:17:02.037Z"
   },
   {
    "duration": 102,
    "start_time": "2022-02-06T09:17:02.126Z"
   },
   {
    "duration": 187,
    "start_time": "2022-02-06T09:17:02.230Z"
   },
   {
    "duration": 633,
    "start_time": "2022-02-06T09:17:02.419Z"
   },
   {
    "duration": 3,
    "start_time": "2022-02-06T09:17:03.054Z"
   },
   {
    "duration": 2590,
    "start_time": "2022-02-06T09:17:03.059Z"
   },
   {
    "duration": 15443,
    "start_time": "2022-02-06T09:17:05.651Z"
   },
   {
    "duration": 3,
    "start_time": "2022-02-06T09:17:21.096Z"
   },
   {
    "duration": 7,
    "start_time": "2022-02-06T09:17:21.101Z"
   },
   {
    "duration": 13,
    "start_time": "2022-02-06T09:17:21.118Z"
   },
   {
    "duration": 3,
    "start_time": "2022-02-06T09:17:21.133Z"
   },
   {
    "duration": 90,
    "start_time": "2022-02-06T09:17:21.138Z"
   },
   {
    "duration": 11,
    "start_time": "2022-02-06T09:17:21.319Z"
   },
   {
    "duration": 194,
    "start_time": "2022-02-06T09:17:21.332Z"
   },
   {
    "duration": 772,
    "start_time": "2022-02-06T09:17:21.527Z"
   },
   {
    "duration": 4,
    "start_time": "2022-02-06T09:17:22.300Z"
   },
   {
    "duration": 3340,
    "start_time": "2022-02-06T09:17:22.305Z"
   },
   {
    "duration": 21406,
    "start_time": "2022-02-06T09:17:25.647Z"
   },
   {
    "duration": 5,
    "start_time": "2022-02-06T09:17:47.055Z"
   },
   {
    "duration": 10,
    "start_time": "2022-02-06T09:17:47.061Z"
   },
   {
    "duration": 8,
    "start_time": "2022-02-06T09:17:47.073Z"
   },
   {
    "duration": 601,
    "start_time": "2022-02-06T09:17:47.083Z"
   },
   {
    "duration": 8,
    "start_time": "2022-02-06T09:17:47.685Z"
   },
   {
    "duration": 8,
    "start_time": "2022-02-06T09:17:47.695Z"
   },
   {
    "duration": 5,
    "start_time": "2022-02-06T09:25:02.648Z"
   },
   {
    "duration": 113,
    "start_time": "2022-02-06T09:35:35.614Z"
   },
   {
    "duration": 84,
    "start_time": "2022-02-06T09:36:59.330Z"
   },
   {
    "duration": 80,
    "start_time": "2022-02-06T09:39:32.490Z"
   },
   {
    "duration": 1163,
    "start_time": "2022-02-06T16:31:01.364Z"
   },
   {
    "duration": 29,
    "start_time": "2022-02-06T16:31:02.529Z"
   },
   {
    "duration": 14,
    "start_time": "2022-02-06T16:31:02.560Z"
   },
   {
    "duration": 16,
    "start_time": "2022-02-06T16:31:02.576Z"
   },
   {
    "duration": 15,
    "start_time": "2022-02-06T16:31:02.594Z"
   },
   {
    "duration": 11,
    "start_time": "2022-02-06T16:31:02.611Z"
   },
   {
    "duration": 10,
    "start_time": "2022-02-06T16:31:02.624Z"
   },
   {
    "duration": 8,
    "start_time": "2022-02-06T16:31:02.637Z"
   },
   {
    "duration": 11,
    "start_time": "2022-02-06T16:31:02.648Z"
   },
   {
    "duration": 15,
    "start_time": "2022-02-06T16:31:02.661Z"
   },
   {
    "duration": 8,
    "start_time": "2022-02-06T16:31:02.678Z"
   },
   {
    "duration": 16,
    "start_time": "2022-02-06T16:31:02.688Z"
   },
   {
    "duration": 7,
    "start_time": "2022-02-06T16:31:02.706Z"
   },
   {
    "duration": 16,
    "start_time": "2022-02-06T16:31:02.715Z"
   },
   {
    "duration": 8,
    "start_time": "2022-02-06T16:31:02.733Z"
   },
   {
    "duration": 17,
    "start_time": "2022-02-06T16:31:02.743Z"
   },
   {
    "duration": 27,
    "start_time": "2022-02-06T16:31:02.761Z"
   },
   {
    "duration": 17,
    "start_time": "2022-02-06T16:31:02.789Z"
   },
   {
    "duration": 14,
    "start_time": "2022-02-06T16:31:02.808Z"
   },
   {
    "duration": 19,
    "start_time": "2022-02-06T16:31:02.824Z"
   },
   {
    "duration": 39,
    "start_time": "2022-02-06T16:31:02.844Z"
   },
   {
    "duration": 8,
    "start_time": "2022-02-06T16:31:02.885Z"
   },
   {
    "duration": 6,
    "start_time": "2022-02-06T16:31:02.897Z"
   },
   {
    "duration": 8,
    "start_time": "2022-02-06T16:31:02.905Z"
   },
   {
    "duration": 5,
    "start_time": "2022-02-06T16:31:02.915Z"
   },
   {
    "duration": 41,
    "start_time": "2022-02-06T16:31:02.921Z"
   },
   {
    "duration": 94,
    "start_time": "2022-02-06T16:31:02.964Z"
   },
   {
    "duration": 13,
    "start_time": "2022-02-06T16:31:03.060Z"
   },
   {
    "duration": 559,
    "start_time": "2022-02-06T16:31:03.160Z"
   },
   {
    "duration": 2,
    "start_time": "2022-02-06T16:31:03.721Z"
   },
   {
    "duration": 2307,
    "start_time": "2022-02-06T16:31:03.725Z"
   },
   {
    "duration": 19087,
    "start_time": "2022-02-06T16:31:06.034Z"
   },
   {
    "duration": 3,
    "start_time": "2022-02-06T16:31:25.122Z"
   },
   {
    "duration": 136,
    "start_time": "2022-02-06T16:31:25.127Z"
   },
   {
    "duration": 104,
    "start_time": "2022-02-06T16:31:25.265Z"
   },
   {
    "duration": 191,
    "start_time": "2022-02-06T16:31:25.372Z"
   },
   {
    "duration": 553,
    "start_time": "2022-02-06T16:31:25.565Z"
   },
   {
    "duration": 2,
    "start_time": "2022-02-06T16:31:26.119Z"
   },
   {
    "duration": 6,
    "start_time": "2022-02-06T16:31:26.123Z"
   },
   {
    "duration": 2206,
    "start_time": "2022-02-06T16:31:26.130Z"
   },
   {
    "duration": 14114,
    "start_time": "2022-02-06T16:31:28.337Z"
   },
   {
    "duration": 6,
    "start_time": "2022-02-06T16:31:42.453Z"
   },
   {
    "duration": 8,
    "start_time": "2022-02-06T16:31:42.460Z"
   },
   {
    "duration": 16,
    "start_time": "2022-02-06T16:31:42.470Z"
   },
   {
    "duration": 6,
    "start_time": "2022-02-06T16:31:42.488Z"
   },
   {
    "duration": 66,
    "start_time": "2022-02-06T16:31:42.496Z"
   },
   {
    "duration": 99,
    "start_time": "2022-02-06T16:31:42.564Z"
   },
   {
    "duration": 96,
    "start_time": "2022-02-06T16:31:42.665Z"
   },
   {
    "duration": 720,
    "start_time": "2022-02-06T16:31:42.763Z"
   },
   {
    "duration": 4,
    "start_time": "2022-02-06T16:31:43.485Z"
   },
   {
    "duration": 3057,
    "start_time": "2022-02-06T16:31:43.491Z"
   },
   {
    "duration": 19590,
    "start_time": "2022-02-06T16:31:46.549Z"
   },
   {
    "duration": 4,
    "start_time": "2022-02-06T16:32:06.141Z"
   },
   {
    "duration": 12,
    "start_time": "2022-02-06T16:32:06.147Z"
   },
   {
    "duration": 7,
    "start_time": "2022-02-06T16:32:06.161Z"
   },
   {
    "duration": 536,
    "start_time": "2022-02-06T16:32:06.170Z"
   },
   {
    "duration": 9,
    "start_time": "2022-02-06T16:32:06.707Z"
   },
   {
    "duration": 12,
    "start_time": "2022-02-06T16:32:06.718Z"
   }
  ],
  "kernelspec": {
   "display_name": "Python 3 (ipykernel)",
   "language": "python",
   "name": "python3"
  },
  "language_info": {
   "codemirror_mode": {
    "name": "ipython",
    "version": 3
   },
   "file_extension": ".py",
   "mimetype": "text/x-python",
   "name": "python",
   "nbconvert_exporter": "python",
   "pygments_lexer": "ipython3",
   "version": "3.8.10"
  },
  "toc": {
   "base_numbering": 1,
   "nav_menu": {},
   "number_sections": true,
   "sideBar": true,
   "skip_h1_title": true,
   "title_cell": "Table of Contents",
   "title_sidebar": "Contents",
   "toc_cell": false,
   "toc_position": {
    "height": "calc(100% - 180px)",
    "left": "10px",
    "top": "150px",
    "width": "255.198px"
   },
   "toc_section_display": true,
   "toc_window_display": true
  }
 },
 "nbformat": 4,
 "nbformat_minor": 5
}
