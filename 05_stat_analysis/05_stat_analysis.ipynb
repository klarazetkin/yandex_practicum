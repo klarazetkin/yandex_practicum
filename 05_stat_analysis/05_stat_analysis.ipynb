{
 "cells": [
  {
   "cell_type": "markdown",
   "id": "d085d4ca",
   "metadata": {},
   "source": [
    "# Определение перспективного тарифа для телеком-компании"
   ]
  },
  {
   "cell_type": "markdown",
   "id": "142e68a7",
   "metadata": {},
   "source": [
    "## Описание проекта\n",
    "### Обзор\n",
    "Проект представляет собой исследование поведения клиентов федерального оператора сотовой связи. Заказчик исследования - компания «Мегалайн». Компания предлагает клиентам два тарифных плана: \"Smart\" и \"Ultra\". Нужно определить,  какой тариф приносит больше денег, чтобы скорректировать рекламный бюджет.\n",
    "\n",
    "Материал для анализа - выборка данных по 500 клиентам опсоса за 2018 год. Имеется следующая информация о пользователях: кто они, откуда, каким тарифом пользуются, количество звонков, сообщений, Мб интернет-трафика за 2018 год. Нужно проанализировать поведение клиентов и сделать вывод, какой тариф выгодней для заказчика.\n",
    "\n",
    "### Описание тарифов\n",
    "#### Тариф \"Smart\"\n",
    "* Ежемесячная плата: 550 рублей\n",
    "* Включено 500 минут разговора, 50 сообщений и 15 Гб интернет-трафика\n",
    "* Стоимость услуг сверх тарифного пакета: \n",
    "    * 1 минута разговора: 3 рубля;\n",
    "    * 1 сообщение: 3 рубля; \n",
    "    * 1 Гб интернет-трафика: 200 рублей.\n",
    "#### Тариф \"Ultra\"\n",
    "* Ежемесячная плата: 1950 рублей\n",
    "* Включено 3000 минут разговора, 1000 сообщений и 30 Гб интернет-трафика\n",
    "* Стоимость услуг сверх тарифного пакета: \n",
    "    * 1 минута разговора: 1 рубль; \n",
    "    * 1 сообщение: 1 рубль; \n",
    "    * 1 Гб интернет-трафика: 150 рублей.\n",
    "\n",
    "#### Примечание:\n",
    "«Мегалайн» всегда округляет секунды до минут, а мегабайты — до гигабайт. Каждый звонок округляется отдельно: даже если он длился всего 1 секунду, он будет засчитан как 1 минута.\n",
    "Для веб-трафика отдельные сессии не считаются. Вместо этого общая сумма за месяц округляется в бо́льшую сторону. Если абонент использует 1025 мегабайт в этом месяце, с него возьмут плату за 2 гигабайта."
   ]
  },
  {
   "cell_type": "markdown",
   "id": "3f18a18c",
   "metadata": {},
   "source": [
    "## Подготовка данных\n",
    "### Импорт данных из файлов\n",
    "Сохраняем данные из исходных файлов во временных переменных `calls`, `internet`, `messages`, `tariffs`, `users`. Предварительно оценим информацию в получившихся таблицах."
   ]
  },
  {
   "cell_type": "code",
   "execution_count": 71,
   "id": "75a6261a",
   "metadata": {},
   "outputs": [],
   "source": [
    "from pathlib import Path\n",
    "import pandas as pd\n",
    "pd.set_option('display.float_format', '{:,.2f}'.format)\n",
    "\n",
    "\n",
    "my_path = Path('/home/klarazetkin/Documents/yandex/module_2/project_1')\n",
    "if my_path.is_dir():\n",
    "    calls = pd.read_csv('/home/klarazetkin/Documents/yandex/module_2/project_1/calls.csv')\n",
    "    internet = pd.read_csv('/home/klarazetkin/Documents/yandex/module_2/project_1/internet.csv')\n",
    "    messages = pd.read_csv('/home/klarazetkin/Documents/yandex/module_2/project_1/messages.csv')\n",
    "    tariffs = pd.read_csv('/home/klarazetkin/Documents/yandex/module_2/project_1/tariffs.csv')\n",
    "    users = pd.read_csv('/home/klarazetkin/Documents/yandex/module_2/project_1/users.csv')\n",
    "else:\n",
    "    calls = pd.read_csv('/datasets/calls.csv')\n",
    "    internet = pd.read_csv('/datasets/internet.csv')\n",
    "    messages = pd.read_csv('/datasets/messages.csv')\n",
    "    tariffs = pd.read_csv('/datasets/tariffs.csv')\n",
    "    users = pd.read_csv('/datasets/users.csv')\n",
    "\n"
   ]
  },
  {
   "cell_type": "code",
   "execution_count": 72,
   "id": "98729d76",
   "metadata": {},
   "outputs": [
    {
     "data": {
      "text/html": [
       "<div>\n",
       "<style scoped>\n",
       "    .dataframe tbody tr th:only-of-type {\n",
       "        vertical-align: middle;\n",
       "    }\n",
       "\n",
       "    .dataframe tbody tr th {\n",
       "        vertical-align: top;\n",
       "    }\n",
       "\n",
       "    .dataframe thead th {\n",
       "        text-align: right;\n",
       "    }\n",
       "</style>\n",
       "<table border=\"1\" class=\"dataframe\">\n",
       "  <thead>\n",
       "    <tr style=\"text-align: right;\">\n",
       "      <th></th>\n",
       "      <th>id</th>\n",
       "      <th>call_date</th>\n",
       "      <th>duration</th>\n",
       "      <th>user_id</th>\n",
       "    </tr>\n",
       "  </thead>\n",
       "  <tbody>\n",
       "    <tr>\n",
       "      <td>0</td>\n",
       "      <td>1000_0</td>\n",
       "      <td>2018-07-25</td>\n",
       "      <td>0.00</td>\n",
       "      <td>1000</td>\n",
       "    </tr>\n",
       "    <tr>\n",
       "      <td>1</td>\n",
       "      <td>1000_1</td>\n",
       "      <td>2018-08-17</td>\n",
       "      <td>0.00</td>\n",
       "      <td>1000</td>\n",
       "    </tr>\n",
       "    <tr>\n",
       "      <td>2</td>\n",
       "      <td>1000_2</td>\n",
       "      <td>2018-06-11</td>\n",
       "      <td>2.85</td>\n",
       "      <td>1000</td>\n",
       "    </tr>\n",
       "    <tr>\n",
       "      <td>3</td>\n",
       "      <td>1000_3</td>\n",
       "      <td>2018-09-21</td>\n",
       "      <td>13.80</td>\n",
       "      <td>1000</td>\n",
       "    </tr>\n",
       "    <tr>\n",
       "      <td>4</td>\n",
       "      <td>1000_4</td>\n",
       "      <td>2018-12-15</td>\n",
       "      <td>5.18</td>\n",
       "      <td>1000</td>\n",
       "    </tr>\n",
       "  </tbody>\n",
       "</table>\n",
       "</div>"
      ],
      "text/plain": [
       "       id   call_date  duration  user_id\n",
       "0  1000_0  2018-07-25      0.00     1000\n",
       "1  1000_1  2018-08-17      0.00     1000\n",
       "2  1000_2  2018-06-11      2.85     1000\n",
       "3  1000_3  2018-09-21     13.80     1000\n",
       "4  1000_4  2018-12-15      5.18     1000"
      ]
     },
     "metadata": {},
     "output_type": "display_data"
    },
    {
     "name": "stdout",
     "output_type": "stream",
     "text": [
      "<class 'pandas.core.frame.DataFrame'>\n",
      "RangeIndex: 202607 entries, 0 to 202606\n",
      "Data columns (total 4 columns):\n",
      "id           202607 non-null object\n",
      "call_date    202607 non-null object\n",
      "duration     202607 non-null float64\n",
      "user_id      202607 non-null int64\n",
      "dtypes: float64(1), int64(1), object(2)\n",
      "memory usage: 6.2+ MB\n"
     ]
    }
   ],
   "source": [
    "display(calls.head())\n",
    "calls.info()\n",
    "# call_date заменить на DateTime"
   ]
  },
  {
   "cell_type": "code",
   "execution_count": 73,
   "id": "2fe35a95",
   "metadata": {},
   "outputs": [
    {
     "data": {
      "text/html": [
       "<div>\n",
       "<style scoped>\n",
       "    .dataframe tbody tr th:only-of-type {\n",
       "        vertical-align: middle;\n",
       "    }\n",
       "\n",
       "    .dataframe tbody tr th {\n",
       "        vertical-align: top;\n",
       "    }\n",
       "\n",
       "    .dataframe thead th {\n",
       "        text-align: right;\n",
       "    }\n",
       "</style>\n",
       "<table border=\"1\" class=\"dataframe\">\n",
       "  <thead>\n",
       "    <tr style=\"text-align: right;\">\n",
       "      <th></th>\n",
       "      <th>Unnamed: 0</th>\n",
       "      <th>id</th>\n",
       "      <th>mb_used</th>\n",
       "      <th>session_date</th>\n",
       "      <th>user_id</th>\n",
       "    </tr>\n",
       "  </thead>\n",
       "  <tbody>\n",
       "    <tr>\n",
       "      <td>0</td>\n",
       "      <td>0</td>\n",
       "      <td>1000_0</td>\n",
       "      <td>112.95</td>\n",
       "      <td>2018-11-25</td>\n",
       "      <td>1000</td>\n",
       "    </tr>\n",
       "    <tr>\n",
       "      <td>1</td>\n",
       "      <td>1</td>\n",
       "      <td>1000_1</td>\n",
       "      <td>1,052.81</td>\n",
       "      <td>2018-09-07</td>\n",
       "      <td>1000</td>\n",
       "    </tr>\n",
       "    <tr>\n",
       "      <td>2</td>\n",
       "      <td>2</td>\n",
       "      <td>1000_2</td>\n",
       "      <td>1,197.26</td>\n",
       "      <td>2018-06-25</td>\n",
       "      <td>1000</td>\n",
       "    </tr>\n",
       "    <tr>\n",
       "      <td>3</td>\n",
       "      <td>3</td>\n",
       "      <td>1000_3</td>\n",
       "      <td>550.27</td>\n",
       "      <td>2018-08-22</td>\n",
       "      <td>1000</td>\n",
       "    </tr>\n",
       "    <tr>\n",
       "      <td>4</td>\n",
       "      <td>4</td>\n",
       "      <td>1000_4</td>\n",
       "      <td>302.56</td>\n",
       "      <td>2018-09-24</td>\n",
       "      <td>1000</td>\n",
       "    </tr>\n",
       "  </tbody>\n",
       "</table>\n",
       "</div>"
      ],
      "text/plain": [
       "   Unnamed: 0      id  mb_used session_date  user_id\n",
       "0           0  1000_0   112.95   2018-11-25     1000\n",
       "1           1  1000_1 1,052.81   2018-09-07     1000\n",
       "2           2  1000_2 1,197.26   2018-06-25     1000\n",
       "3           3  1000_3   550.27   2018-08-22     1000\n",
       "4           4  1000_4   302.56   2018-09-24     1000"
      ]
     },
     "metadata": {},
     "output_type": "display_data"
    },
    {
     "name": "stdout",
     "output_type": "stream",
     "text": [
      "<class 'pandas.core.frame.DataFrame'>\n",
      "RangeIndex: 149396 entries, 0 to 149395\n",
      "Data columns (total 5 columns):\n",
      "Unnamed: 0      149396 non-null int64\n",
      "id              149396 non-null object\n",
      "mb_used         149396 non-null float64\n",
      "session_date    149396 non-null object\n",
      "user_id         149396 non-null int64\n",
      "dtypes: float64(1), int64(2), object(2)\n",
      "memory usage: 5.7+ MB\n"
     ]
    }
   ],
   "source": [
    "display(internet.head())\n",
    "internet.info()\n",
    "# session_date заменить на DateTime"
   ]
  },
  {
   "cell_type": "code",
   "execution_count": 74,
   "id": "0e114ebc",
   "metadata": {},
   "outputs": [
    {
     "data": {
      "text/html": [
       "<div>\n",
       "<style scoped>\n",
       "    .dataframe tbody tr th:only-of-type {\n",
       "        vertical-align: middle;\n",
       "    }\n",
       "\n",
       "    .dataframe tbody tr th {\n",
       "        vertical-align: top;\n",
       "    }\n",
       "\n",
       "    .dataframe thead th {\n",
       "        text-align: right;\n",
       "    }\n",
       "</style>\n",
       "<table border=\"1\" class=\"dataframe\">\n",
       "  <thead>\n",
       "    <tr style=\"text-align: right;\">\n",
       "      <th></th>\n",
       "      <th>id</th>\n",
       "      <th>message_date</th>\n",
       "      <th>user_id</th>\n",
       "    </tr>\n",
       "  </thead>\n",
       "  <tbody>\n",
       "    <tr>\n",
       "      <td>0</td>\n",
       "      <td>1000_0</td>\n",
       "      <td>2018-06-27</td>\n",
       "      <td>1000</td>\n",
       "    </tr>\n",
       "    <tr>\n",
       "      <td>1</td>\n",
       "      <td>1000_1</td>\n",
       "      <td>2018-10-08</td>\n",
       "      <td>1000</td>\n",
       "    </tr>\n",
       "    <tr>\n",
       "      <td>2</td>\n",
       "      <td>1000_2</td>\n",
       "      <td>2018-08-04</td>\n",
       "      <td>1000</td>\n",
       "    </tr>\n",
       "    <tr>\n",
       "      <td>3</td>\n",
       "      <td>1000_3</td>\n",
       "      <td>2018-06-16</td>\n",
       "      <td>1000</td>\n",
       "    </tr>\n",
       "    <tr>\n",
       "      <td>4</td>\n",
       "      <td>1000_4</td>\n",
       "      <td>2018-12-05</td>\n",
       "      <td>1000</td>\n",
       "    </tr>\n",
       "  </tbody>\n",
       "</table>\n",
       "</div>"
      ],
      "text/plain": [
       "       id message_date  user_id\n",
       "0  1000_0   2018-06-27     1000\n",
       "1  1000_1   2018-10-08     1000\n",
       "2  1000_2   2018-08-04     1000\n",
       "3  1000_3   2018-06-16     1000\n",
       "4  1000_4   2018-12-05     1000"
      ]
     },
     "metadata": {},
     "output_type": "display_data"
    },
    {
     "name": "stdout",
     "output_type": "stream",
     "text": [
      "<class 'pandas.core.frame.DataFrame'>\n",
      "RangeIndex: 123036 entries, 0 to 123035\n",
      "Data columns (total 3 columns):\n",
      "id              123036 non-null object\n",
      "message_date    123036 non-null object\n",
      "user_id         123036 non-null int64\n",
      "dtypes: int64(1), object(2)\n",
      "memory usage: 2.8+ MB\n"
     ]
    }
   ],
   "source": [
    "display(messages.head())\n",
    "messages.info()\n",
    "# message_date заменить на DateTime"
   ]
  },
  {
   "cell_type": "code",
   "execution_count": 75,
   "id": "ae17ae83",
   "metadata": {},
   "outputs": [
    {
     "data": {
      "text/html": [
       "<div>\n",
       "<style scoped>\n",
       "    .dataframe tbody tr th:only-of-type {\n",
       "        vertical-align: middle;\n",
       "    }\n",
       "\n",
       "    .dataframe tbody tr th {\n",
       "        vertical-align: top;\n",
       "    }\n",
       "\n",
       "    .dataframe thead th {\n",
       "        text-align: right;\n",
       "    }\n",
       "</style>\n",
       "<table border=\"1\" class=\"dataframe\">\n",
       "  <thead>\n",
       "    <tr style=\"text-align: right;\">\n",
       "      <th></th>\n",
       "      <th>messages_included</th>\n",
       "      <th>mb_per_month_included</th>\n",
       "      <th>minutes_included</th>\n",
       "      <th>rub_monthly_fee</th>\n",
       "      <th>rub_per_gb</th>\n",
       "      <th>rub_per_message</th>\n",
       "      <th>rub_per_minute</th>\n",
       "      <th>tariff_name</th>\n",
       "    </tr>\n",
       "  </thead>\n",
       "  <tbody>\n",
       "    <tr>\n",
       "      <td>0</td>\n",
       "      <td>50</td>\n",
       "      <td>15360</td>\n",
       "      <td>500</td>\n",
       "      <td>550</td>\n",
       "      <td>200</td>\n",
       "      <td>3</td>\n",
       "      <td>3</td>\n",
       "      <td>smart</td>\n",
       "    </tr>\n",
       "    <tr>\n",
       "      <td>1</td>\n",
       "      <td>1000</td>\n",
       "      <td>30720</td>\n",
       "      <td>3000</td>\n",
       "      <td>1950</td>\n",
       "      <td>150</td>\n",
       "      <td>1</td>\n",
       "      <td>1</td>\n",
       "      <td>ultra</td>\n",
       "    </tr>\n",
       "  </tbody>\n",
       "</table>\n",
       "</div>"
      ],
      "text/plain": [
       "   messages_included  mb_per_month_included  minutes_included  \\\n",
       "0                 50                  15360               500   \n",
       "1               1000                  30720              3000   \n",
       "\n",
       "   rub_monthly_fee  rub_per_gb  rub_per_message  rub_per_minute tariff_name  \n",
       "0              550         200                3               3       smart  \n",
       "1             1950         150                1               1       ultra  "
      ]
     },
     "metadata": {},
     "output_type": "display_data"
    },
    {
     "name": "stdout",
     "output_type": "stream",
     "text": [
      "<class 'pandas.core.frame.DataFrame'>\n",
      "RangeIndex: 2 entries, 0 to 1\n",
      "Data columns (total 8 columns):\n",
      "messages_included        2 non-null int64\n",
      "mb_per_month_included    2 non-null int64\n",
      "minutes_included         2 non-null int64\n",
      "rub_monthly_fee          2 non-null int64\n",
      "rub_per_gb               2 non-null int64\n",
      "rub_per_message          2 non-null int64\n",
      "rub_per_minute           2 non-null int64\n",
      "tariff_name              2 non-null object\n",
      "dtypes: int64(7), object(1)\n",
      "memory usage: 256.0+ bytes\n"
     ]
    }
   ],
   "source": [
    "display(tariffs.head())\n",
    "tariffs.info()\n",
    "# нет претензий к типам данных"
   ]
  },
  {
   "cell_type": "code",
   "execution_count": 76,
   "id": "4027176b",
   "metadata": {},
   "outputs": [
    {
     "data": {
      "text/html": [
       "<div>\n",
       "<style scoped>\n",
       "    .dataframe tbody tr th:only-of-type {\n",
       "        vertical-align: middle;\n",
       "    }\n",
       "\n",
       "    .dataframe tbody tr th {\n",
       "        vertical-align: top;\n",
       "    }\n",
       "\n",
       "    .dataframe thead th {\n",
       "        text-align: right;\n",
       "    }\n",
       "</style>\n",
       "<table border=\"1\" class=\"dataframe\">\n",
       "  <thead>\n",
       "    <tr style=\"text-align: right;\">\n",
       "      <th></th>\n",
       "      <th>user_id</th>\n",
       "      <th>age</th>\n",
       "      <th>churn_date</th>\n",
       "      <th>city</th>\n",
       "      <th>first_name</th>\n",
       "      <th>last_name</th>\n",
       "      <th>reg_date</th>\n",
       "      <th>tariff</th>\n",
       "    </tr>\n",
       "  </thead>\n",
       "  <tbody>\n",
       "    <tr>\n",
       "      <td>0</td>\n",
       "      <td>1000</td>\n",
       "      <td>52</td>\n",
       "      <td>NaN</td>\n",
       "      <td>Краснодар</td>\n",
       "      <td>Рафаил</td>\n",
       "      <td>Верещагин</td>\n",
       "      <td>2018-05-25</td>\n",
       "      <td>ultra</td>\n",
       "    </tr>\n",
       "    <tr>\n",
       "      <td>1</td>\n",
       "      <td>1001</td>\n",
       "      <td>41</td>\n",
       "      <td>NaN</td>\n",
       "      <td>Москва</td>\n",
       "      <td>Иван</td>\n",
       "      <td>Ежов</td>\n",
       "      <td>2018-11-01</td>\n",
       "      <td>smart</td>\n",
       "    </tr>\n",
       "    <tr>\n",
       "      <td>2</td>\n",
       "      <td>1002</td>\n",
       "      <td>59</td>\n",
       "      <td>NaN</td>\n",
       "      <td>Стерлитамак</td>\n",
       "      <td>Евгений</td>\n",
       "      <td>Абрамович</td>\n",
       "      <td>2018-06-17</td>\n",
       "      <td>smart</td>\n",
       "    </tr>\n",
       "    <tr>\n",
       "      <td>3</td>\n",
       "      <td>1003</td>\n",
       "      <td>23</td>\n",
       "      <td>NaN</td>\n",
       "      <td>Москва</td>\n",
       "      <td>Белла</td>\n",
       "      <td>Белякова</td>\n",
       "      <td>2018-08-17</td>\n",
       "      <td>ultra</td>\n",
       "    </tr>\n",
       "    <tr>\n",
       "      <td>4</td>\n",
       "      <td>1004</td>\n",
       "      <td>68</td>\n",
       "      <td>NaN</td>\n",
       "      <td>Новокузнецк</td>\n",
       "      <td>Татьяна</td>\n",
       "      <td>Авдеенко</td>\n",
       "      <td>2018-05-14</td>\n",
       "      <td>ultra</td>\n",
       "    </tr>\n",
       "  </tbody>\n",
       "</table>\n",
       "</div>"
      ],
      "text/plain": [
       "   user_id  age churn_date         city first_name  last_name    reg_date  \\\n",
       "0     1000   52        NaN    Краснодар     Рафаил  Верещагин  2018-05-25   \n",
       "1     1001   41        NaN       Москва       Иван       Ежов  2018-11-01   \n",
       "2     1002   59        NaN  Стерлитамак    Евгений  Абрамович  2018-06-17   \n",
       "3     1003   23        NaN       Москва      Белла   Белякова  2018-08-17   \n",
       "4     1004   68        NaN  Новокузнецк    Татьяна   Авдеенко  2018-05-14   \n",
       "\n",
       "  tariff  \n",
       "0  ultra  \n",
       "1  smart  \n",
       "2  smart  \n",
       "3  ultra  \n",
       "4  ultra  "
      ]
     },
     "metadata": {},
     "output_type": "display_data"
    },
    {
     "name": "stdout",
     "output_type": "stream",
     "text": [
      "<class 'pandas.core.frame.DataFrame'>\n",
      "RangeIndex: 500 entries, 0 to 499\n",
      "Data columns (total 8 columns):\n",
      "user_id       500 non-null int64\n",
      "age           500 non-null int64\n",
      "churn_date    38 non-null object\n",
      "city          500 non-null object\n",
      "first_name    500 non-null object\n",
      "last_name     500 non-null object\n",
      "reg_date      500 non-null object\n",
      "tariff        500 non-null object\n",
      "dtypes: int64(2), object(6)\n",
      "memory usage: 31.4+ KB\n"
     ]
    }
   ],
   "source": [
    "display(users.head())\n",
    "users.info()\n",
    "# reg_date, churn_date заменить на DateTime"
   ]
  },
  {
   "cell_type": "markdown",
   "id": "860e223b",
   "metadata": {},
   "source": [
    "### Проверка типов данных\n",
    "Типы данных в основном адекватны, нужно заменить тип данных для дат на `DateTime`. Заменить тип данных для `id`, там, где это `object` малой кровью не получится, оставим так."
   ]
  },
  {
   "cell_type": "code",
   "execution_count": 77,
   "id": "23868d0f",
   "metadata": {},
   "outputs": [],
   "source": [
    "calls['call_date'] = pd.to_datetime(calls['call_date'], format='%Y.%m.%d')\n",
    "internet['session_date'] = pd.to_datetime(internet['session_date'], format='%Y.%m.%d')\n",
    "messages['message_date'] = pd.to_datetime(messages['message_date'], format='%Y.%m.%d')\n",
    "users['reg_date'] = pd.to_datetime(users['reg_date'], format='%Y.%m.%d')\n",
    "users['churn_date'] = pd.to_datetime(users['churn_date'], format='%Y.%m.%d')"
   ]
  },
  {
   "cell_type": "markdown",
   "id": "6231b3bf",
   "metadata": {},
   "source": [
    "### Пропуски в данных\n",
    "Пропусков в данных, которые бы требовали заполнения, нет. Есть null значения в колонке `churn_date` датасета `users`, но заполнять их не нужно: пустые значения означают, что тариф действовал на момент составления выборки.\n",
    "\n",
    "### Ошибки в данных\n",
    "Проверка минимальных, максимальных значений данных показывает, что они адекватны. Явных ошибок в данных нет."
   ]
  },
  {
   "cell_type": "code",
   "execution_count": 78,
   "id": "7ecc7a2d",
   "metadata": {},
   "outputs": [
    {
     "data": {
      "text/html": [
       "<div>\n",
       "<style scoped>\n",
       "    .dataframe tbody tr th:only-of-type {\n",
       "        vertical-align: middle;\n",
       "    }\n",
       "\n",
       "    .dataframe tbody tr th {\n",
       "        vertical-align: top;\n",
       "    }\n",
       "\n",
       "    .dataframe thead th {\n",
       "        text-align: right;\n",
       "    }\n",
       "</style>\n",
       "<table border=\"1\" class=\"dataframe\">\n",
       "  <thead>\n",
       "    <tr style=\"text-align: right;\">\n",
       "      <th></th>\n",
       "      <th>duration</th>\n",
       "      <th>user_id</th>\n",
       "    </tr>\n",
       "  </thead>\n",
       "  <tbody>\n",
       "    <tr>\n",
       "      <td>count</td>\n",
       "      <td>202,607.00</td>\n",
       "      <td>202,607.00</td>\n",
       "    </tr>\n",
       "    <tr>\n",
       "      <td>mean</td>\n",
       "      <td>6.76</td>\n",
       "      <td>1,253.94</td>\n",
       "    </tr>\n",
       "    <tr>\n",
       "      <td>std</td>\n",
       "      <td>5.84</td>\n",
       "      <td>144.72</td>\n",
       "    </tr>\n",
       "    <tr>\n",
       "      <td>min</td>\n",
       "      <td>0.00</td>\n",
       "      <td>1,000.00</td>\n",
       "    </tr>\n",
       "    <tr>\n",
       "      <td>25%</td>\n",
       "      <td>1.30</td>\n",
       "      <td>1,126.00</td>\n",
       "    </tr>\n",
       "    <tr>\n",
       "      <td>50%</td>\n",
       "      <td>6.00</td>\n",
       "      <td>1,260.00</td>\n",
       "    </tr>\n",
       "    <tr>\n",
       "      <td>75%</td>\n",
       "      <td>10.70</td>\n",
       "      <td>1,379.00</td>\n",
       "    </tr>\n",
       "    <tr>\n",
       "      <td>max</td>\n",
       "      <td>38.00</td>\n",
       "      <td>1,499.00</td>\n",
       "    </tr>\n",
       "  </tbody>\n",
       "</table>\n",
       "</div>"
      ],
      "text/plain": [
       "        duration    user_id\n",
       "count 202,607.00 202,607.00\n",
       "mean        6.76   1,253.94\n",
       "std         5.84     144.72\n",
       "min         0.00   1,000.00\n",
       "25%         1.30   1,126.00\n",
       "50%         6.00   1,260.00\n",
       "75%        10.70   1,379.00\n",
       "max        38.00   1,499.00"
      ]
     },
     "metadata": {},
     "output_type": "display_data"
    },
    {
     "data": {
      "text/html": [
       "<div>\n",
       "<style scoped>\n",
       "    .dataframe tbody tr th:only-of-type {\n",
       "        vertical-align: middle;\n",
       "    }\n",
       "\n",
       "    .dataframe tbody tr th {\n",
       "        vertical-align: top;\n",
       "    }\n",
       "\n",
       "    .dataframe thead th {\n",
       "        text-align: right;\n",
       "    }\n",
       "</style>\n",
       "<table border=\"1\" class=\"dataframe\">\n",
       "  <thead>\n",
       "    <tr style=\"text-align: right;\">\n",
       "      <th></th>\n",
       "      <th>Unnamed: 0</th>\n",
       "      <th>mb_used</th>\n",
       "      <th>user_id</th>\n",
       "    </tr>\n",
       "  </thead>\n",
       "  <tbody>\n",
       "    <tr>\n",
       "      <td>count</td>\n",
       "      <td>149,396.00</td>\n",
       "      <td>149,396.00</td>\n",
       "      <td>149,396.00</td>\n",
       "    </tr>\n",
       "    <tr>\n",
       "      <td>mean</td>\n",
       "      <td>74,697.50</td>\n",
       "      <td>370.19</td>\n",
       "      <td>1,252.10</td>\n",
       "    </tr>\n",
       "    <tr>\n",
       "      <td>std</td>\n",
       "      <td>43,127.05</td>\n",
       "      <td>278.30</td>\n",
       "      <td>144.05</td>\n",
       "    </tr>\n",
       "    <tr>\n",
       "      <td>min</td>\n",
       "      <td>0.00</td>\n",
       "      <td>0.00</td>\n",
       "      <td>1,000.00</td>\n",
       "    </tr>\n",
       "    <tr>\n",
       "      <td>25%</td>\n",
       "      <td>37,348.75</td>\n",
       "      <td>138.19</td>\n",
       "      <td>1,130.00</td>\n",
       "    </tr>\n",
       "    <tr>\n",
       "      <td>50%</td>\n",
       "      <td>74,697.50</td>\n",
       "      <td>348.01</td>\n",
       "      <td>1,251.00</td>\n",
       "    </tr>\n",
       "    <tr>\n",
       "      <td>75%</td>\n",
       "      <td>112,046.25</td>\n",
       "      <td>559.55</td>\n",
       "      <td>1,380.00</td>\n",
       "    </tr>\n",
       "    <tr>\n",
       "      <td>max</td>\n",
       "      <td>149,395.00</td>\n",
       "      <td>1,724.83</td>\n",
       "      <td>1,499.00</td>\n",
       "    </tr>\n",
       "  </tbody>\n",
       "</table>\n",
       "</div>"
      ],
      "text/plain": [
       "       Unnamed: 0    mb_used    user_id\n",
       "count  149,396.00 149,396.00 149,396.00\n",
       "mean    74,697.50     370.19   1,252.10\n",
       "std     43,127.05     278.30     144.05\n",
       "min          0.00       0.00   1,000.00\n",
       "25%     37,348.75     138.19   1,130.00\n",
       "50%     74,697.50     348.01   1,251.00\n",
       "75%    112,046.25     559.55   1,380.00\n",
       "max    149,395.00   1,724.83   1,499.00"
      ]
     },
     "metadata": {},
     "output_type": "display_data"
    },
    {
     "data": {
      "text/html": [
       "<div>\n",
       "<style scoped>\n",
       "    .dataframe tbody tr th:only-of-type {\n",
       "        vertical-align: middle;\n",
       "    }\n",
       "\n",
       "    .dataframe tbody tr th {\n",
       "        vertical-align: top;\n",
       "    }\n",
       "\n",
       "    .dataframe thead th {\n",
       "        text-align: right;\n",
       "    }\n",
       "</style>\n",
       "<table border=\"1\" class=\"dataframe\">\n",
       "  <thead>\n",
       "    <tr style=\"text-align: right;\">\n",
       "      <th></th>\n",
       "      <th>user_id</th>\n",
       "    </tr>\n",
       "  </thead>\n",
       "  <tbody>\n",
       "    <tr>\n",
       "      <td>count</td>\n",
       "      <td>123,036.00</td>\n",
       "    </tr>\n",
       "    <tr>\n",
       "      <td>mean</td>\n",
       "      <td>1,256.99</td>\n",
       "    </tr>\n",
       "    <tr>\n",
       "      <td>std</td>\n",
       "      <td>143.52</td>\n",
       "    </tr>\n",
       "    <tr>\n",
       "      <td>min</td>\n",
       "      <td>1,000.00</td>\n",
       "    </tr>\n",
       "    <tr>\n",
       "      <td>25%</td>\n",
       "      <td>1,134.00</td>\n",
       "    </tr>\n",
       "    <tr>\n",
       "      <td>50%</td>\n",
       "      <td>1,271.00</td>\n",
       "    </tr>\n",
       "    <tr>\n",
       "      <td>75%</td>\n",
       "      <td>1,381.00</td>\n",
       "    </tr>\n",
       "    <tr>\n",
       "      <td>max</td>\n",
       "      <td>1,499.00</td>\n",
       "    </tr>\n",
       "  </tbody>\n",
       "</table>\n",
       "</div>"
      ],
      "text/plain": [
       "         user_id\n",
       "count 123,036.00\n",
       "mean    1,256.99\n",
       "std       143.52\n",
       "min     1,000.00\n",
       "25%     1,134.00\n",
       "50%     1,271.00\n",
       "75%     1,381.00\n",
       "max     1,499.00"
      ]
     },
     "metadata": {},
     "output_type": "display_data"
    },
    {
     "data": {
      "text/html": [
       "<div>\n",
       "<style scoped>\n",
       "    .dataframe tbody tr th:only-of-type {\n",
       "        vertical-align: middle;\n",
       "    }\n",
       "\n",
       "    .dataframe tbody tr th {\n",
       "        vertical-align: top;\n",
       "    }\n",
       "\n",
       "    .dataframe thead th {\n",
       "        text-align: right;\n",
       "    }\n",
       "</style>\n",
       "<table border=\"1\" class=\"dataframe\">\n",
       "  <thead>\n",
       "    <tr style=\"text-align: right;\">\n",
       "      <th></th>\n",
       "      <th>user_id</th>\n",
       "      <th>age</th>\n",
       "    </tr>\n",
       "  </thead>\n",
       "  <tbody>\n",
       "    <tr>\n",
       "      <td>count</td>\n",
       "      <td>500.00</td>\n",
       "      <td>500.00</td>\n",
       "    </tr>\n",
       "    <tr>\n",
       "      <td>mean</td>\n",
       "      <td>1,249.50</td>\n",
       "      <td>46.59</td>\n",
       "    </tr>\n",
       "    <tr>\n",
       "      <td>std</td>\n",
       "      <td>144.48</td>\n",
       "      <td>16.67</td>\n",
       "    </tr>\n",
       "    <tr>\n",
       "      <td>min</td>\n",
       "      <td>1,000.00</td>\n",
       "      <td>18.00</td>\n",
       "    </tr>\n",
       "    <tr>\n",
       "      <td>25%</td>\n",
       "      <td>1,124.75</td>\n",
       "      <td>32.00</td>\n",
       "    </tr>\n",
       "    <tr>\n",
       "      <td>50%</td>\n",
       "      <td>1,249.50</td>\n",
       "      <td>46.00</td>\n",
       "    </tr>\n",
       "    <tr>\n",
       "      <td>75%</td>\n",
       "      <td>1,374.25</td>\n",
       "      <td>62.00</td>\n",
       "    </tr>\n",
       "    <tr>\n",
       "      <td>max</td>\n",
       "      <td>1,499.00</td>\n",
       "      <td>75.00</td>\n",
       "    </tr>\n",
       "  </tbody>\n",
       "</table>\n",
       "</div>"
      ],
      "text/plain": [
       "       user_id    age\n",
       "count   500.00 500.00\n",
       "mean  1,249.50  46.59\n",
       "std     144.48  16.67\n",
       "min   1,000.00  18.00\n",
       "25%   1,124.75  32.00\n",
       "50%   1,249.50  46.00\n",
       "75%   1,374.25  62.00\n",
       "max   1,499.00  75.00"
      ]
     },
     "metadata": {},
     "output_type": "display_data"
    }
   ],
   "source": [
    "display(calls.describe())\n",
    "display(internet.describe())\n",
    "display(messages.describe())\n",
    "display(users.describe())"
   ]
  },
  {
   "cell_type": "markdown",
   "id": "f5744ded",
   "metadata": {},
   "source": [
    "### Проверка дубликатов\n",
    "Явных дубликатов в данных не обнаружено."
   ]
  },
  {
   "cell_type": "code",
   "execution_count": 79,
   "id": "56ec4720",
   "metadata": {},
   "outputs": [
    {
     "name": "stdout",
     "output_type": "stream",
     "text": [
      "0\n",
      "0\n",
      "0\n",
      "0\n"
     ]
    }
   ],
   "source": [
    "print(calls.duplicated().sum())\n",
    "print(internet.duplicated().sum())\n",
    "print(messages.duplicated().sum())\n",
    "print(users.duplicated().sum())"
   ]
  },
  {
   "cell_type": "markdown",
   "id": "f01d2086",
   "metadata": {},
   "source": [
    "### Вывод\n",
    "Данные пригодны для анализа."
   ]
  },
  {
   "cell_type": "markdown",
   "id": "826b4877",
   "metadata": {},
   "source": [
    "## Подготовка пользовательских данных\n",
    "Сгруппируем данные по пользователям: \n",
    "* количество сделанных звонков и израсходованных минут разговора по месяцам;\n",
    "* количество отправленных сообщений по месяцам;\n",
    "* объем израсходованного интернет-трафика по месяцам;\n",
    "* помесячную выручку с каждого пользователя "
   ]
  },
  {
   "cell_type": "code",
   "execution_count": 80,
   "id": "895d59e2",
   "metadata": {},
   "outputs": [
    {
     "data": {
      "text/html": [
       "<div>\n",
       "<style scoped>\n",
       "    .dataframe tbody tr th:only-of-type {\n",
       "        vertical-align: middle;\n",
       "    }\n",
       "\n",
       "    .dataframe tbody tr th {\n",
       "        vertical-align: top;\n",
       "    }\n",
       "\n",
       "    .dataframe thead th {\n",
       "        text-align: right;\n",
       "    }\n",
       "</style>\n",
       "<table border=\"1\" class=\"dataframe\">\n",
       "  <thead>\n",
       "    <tr style=\"text-align: right;\">\n",
       "      <th></th>\n",
       "      <th>id</th>\n",
       "      <th>call_date</th>\n",
       "      <th>duration</th>\n",
       "      <th>user_id</th>\n",
       "      <th>rounded_duration</th>\n",
       "    </tr>\n",
       "  </thead>\n",
       "  <tbody>\n",
       "    <tr>\n",
       "      <td>0</td>\n",
       "      <td>1000_0</td>\n",
       "      <td>2018-07-25</td>\n",
       "      <td>0.00</td>\n",
       "      <td>1000</td>\n",
       "      <td>0</td>\n",
       "    </tr>\n",
       "    <tr>\n",
       "      <td>1</td>\n",
       "      <td>1000_1</td>\n",
       "      <td>2018-08-17</td>\n",
       "      <td>0.00</td>\n",
       "      <td>1000</td>\n",
       "      <td>0</td>\n",
       "    </tr>\n",
       "    <tr>\n",
       "      <td>2</td>\n",
       "      <td>1000_2</td>\n",
       "      <td>2018-06-11</td>\n",
       "      <td>2.85</td>\n",
       "      <td>1000</td>\n",
       "      <td>3</td>\n",
       "    </tr>\n",
       "    <tr>\n",
       "      <td>3</td>\n",
       "      <td>1000_3</td>\n",
       "      <td>2018-09-21</td>\n",
       "      <td>13.80</td>\n",
       "      <td>1000</td>\n",
       "      <td>14</td>\n",
       "    </tr>\n",
       "    <tr>\n",
       "      <td>4</td>\n",
       "      <td>1000_4</td>\n",
       "      <td>2018-12-15</td>\n",
       "      <td>5.18</td>\n",
       "      <td>1000</td>\n",
       "      <td>6</td>\n",
       "    </tr>\n",
       "    <tr>\n",
       "      <td>5</td>\n",
       "      <td>1000_5</td>\n",
       "      <td>2018-11-02</td>\n",
       "      <td>0.00</td>\n",
       "      <td>1000</td>\n",
       "      <td>0</td>\n",
       "    </tr>\n",
       "    <tr>\n",
       "      <td>6</td>\n",
       "      <td>1000_6</td>\n",
       "      <td>2018-10-18</td>\n",
       "      <td>0.00</td>\n",
       "      <td>1000</td>\n",
       "      <td>0</td>\n",
       "    </tr>\n",
       "    <tr>\n",
       "      <td>7</td>\n",
       "      <td>1000_7</td>\n",
       "      <td>2018-08-22</td>\n",
       "      <td>18.31</td>\n",
       "      <td>1000</td>\n",
       "      <td>19</td>\n",
       "    </tr>\n",
       "    <tr>\n",
       "      <td>8</td>\n",
       "      <td>1000_8</td>\n",
       "      <td>2018-09-15</td>\n",
       "      <td>18.44</td>\n",
       "      <td>1000</td>\n",
       "      <td>19</td>\n",
       "    </tr>\n",
       "    <tr>\n",
       "      <td>9</td>\n",
       "      <td>1000_9</td>\n",
       "      <td>2018-08-15</td>\n",
       "      <td>0.00</td>\n",
       "      <td>1000</td>\n",
       "      <td>0</td>\n",
       "    </tr>\n",
       "  </tbody>\n",
       "</table>\n",
       "</div>"
      ],
      "text/plain": [
       "       id  call_date  duration  user_id  rounded_duration\n",
       "0  1000_0 2018-07-25      0.00     1000                 0\n",
       "1  1000_1 2018-08-17      0.00     1000                 0\n",
       "2  1000_2 2018-06-11      2.85     1000                 3\n",
       "3  1000_3 2018-09-21     13.80     1000                14\n",
       "4  1000_4 2018-12-15      5.18     1000                 6\n",
       "5  1000_5 2018-11-02      0.00     1000                 0\n",
       "6  1000_6 2018-10-18      0.00     1000                 0\n",
       "7  1000_7 2018-08-22     18.31     1000                19\n",
       "8  1000_8 2018-09-15     18.44     1000                19\n",
       "9  1000_9 2018-08-15      0.00     1000                 0"
      ]
     },
     "execution_count": 80,
     "metadata": {},
     "output_type": "execute_result"
    }
   ],
   "source": [
    "# Сначала добавим в таблицу `calls` колонку `rounded duration`, \n",
    "# в которую запишем продолжительность звонков, округленных в верхнюю сторону.\n",
    "\n",
    "import math\n",
    "\n",
    "def ceiler(el):\n",
    "    return math.ceil(el)\n",
    "\n",
    "calls['rounded_duration'] = calls['duration'].apply(ceiler)\n",
    "calls.head(10)"
   ]
  },
  {
   "cell_type": "code",
   "execution_count": 81,
   "id": "2eeb5471",
   "metadata": {},
   "outputs": [
    {
     "name": "stdout",
     "output_type": "stream",
     "text": [
      "       id  call_date  duration  user_id  rounded_duration  rounded_duration_2\n",
      "0  1000_0 2018-07-25      0.00     1000                 0                0.00\n",
      "1  1000_1 2018-08-17      0.00     1000                 0                0.00\n",
      "2  1000_2 2018-06-11      2.85     1000                 3                3.00\n",
      "3  1000_3 2018-09-21     13.80     1000                14               14.00\n",
      "4  1000_4 2018-12-15      5.18     1000                 6                6.00\n"
     ]
    }
   ],
   "source": [
    "# Проверила: метод np.ceil() сработал, хотя до этого - нет\n",
    "import numpy as np\n",
    "calls['rounded_duration_2'] = np.ceil(calls['duration'])\n",
    "print(calls.head())"
   ]
  },
  {
   "cell_type": "code",
   "execution_count": 82,
   "id": "e0836bc0",
   "metadata": {},
   "outputs": [],
   "source": [
    "# Теперь добавим колонку `month` в таблицы `calls`, `internet`, `messages`\n",
    "calls['month'] = calls['call_date'].dt.month\n",
    "internet['month'] = internet['session_date'].dt.month\n",
    "messages['month'] = messages['message_date'].dt.month"
   ]
  },
  {
   "cell_type": "code",
   "execution_count": 83,
   "id": "75848891",
   "metadata": {},
   "outputs": [
    {
     "name": "stdout",
     "output_type": "stream",
     "text": [
      "<class 'pandas.core.frame.DataFrame'>\n",
      "<class 'pandas.core.series.Series'>\n",
      "<class 'pandas.core.series.Series'>\n"
     ]
    },
    {
     "data": {
      "text/html": [
       "<div>\n",
       "<style scoped>\n",
       "    .dataframe tbody tr th:only-of-type {\n",
       "        vertical-align: middle;\n",
       "    }\n",
       "\n",
       "    .dataframe tbody tr th {\n",
       "        vertical-align: top;\n",
       "    }\n",
       "\n",
       "    .dataframe thead th {\n",
       "        text-align: right;\n",
       "    }\n",
       "</style>\n",
       "<table border=\"1\" class=\"dataframe\">\n",
       "  <thead>\n",
       "    <tr style=\"text-align: right;\">\n",
       "      <th></th>\n",
       "      <th></th>\n",
       "      <th>minutes_sum</th>\n",
       "      <th>calls_count</th>\n",
       "    </tr>\n",
       "    <tr>\n",
       "      <th>user_id</th>\n",
       "      <th>month</th>\n",
       "      <th></th>\n",
       "      <th></th>\n",
       "    </tr>\n",
       "  </thead>\n",
       "  <tbody>\n",
       "    <tr>\n",
       "      <td rowspan=\"5\" valign=\"top\">1000</td>\n",
       "      <td>5</td>\n",
       "      <td>159</td>\n",
       "      <td>22</td>\n",
       "    </tr>\n",
       "    <tr>\n",
       "      <td>6</td>\n",
       "      <td>172</td>\n",
       "      <td>43</td>\n",
       "    </tr>\n",
       "    <tr>\n",
       "      <td>7</td>\n",
       "      <td>340</td>\n",
       "      <td>47</td>\n",
       "    </tr>\n",
       "    <tr>\n",
       "      <td>8</td>\n",
       "      <td>408</td>\n",
       "      <td>52</td>\n",
       "    </tr>\n",
       "    <tr>\n",
       "      <td>9</td>\n",
       "      <td>466</td>\n",
       "      <td>58</td>\n",
       "    </tr>\n",
       "  </tbody>\n",
       "</table>\n",
       "</div>"
      ],
      "text/plain": [
       "               minutes_sum  calls_count\n",
       "user_id month                          \n",
       "1000    5              159           22\n",
       "        6              172           43\n",
       "        7              340           47\n",
       "        8              408           52\n",
       "        9              466           58"
      ]
     },
     "metadata": {},
     "output_type": "display_data"
    },
    {
     "data": {
      "text/plain": [
       "user_id  month\n",
       "1000     5        22\n",
       "         6        60\n",
       "         7        75\n",
       "         8        81\n",
       "         9        57\n",
       "Name: id, dtype: int64"
      ]
     },
     "metadata": {},
     "output_type": "display_data"
    },
    {
     "data": {
      "text/plain": [
       "user_id  month\n",
       "1000     5        2,253.49\n",
       "         6       23,233.77\n",
       "         7       14,003.64\n",
       "         8       14,055.93\n",
       "         9       14,568.91\n",
       "Name: mb_used, dtype: float64"
      ]
     },
     "metadata": {},
     "output_type": "display_data"
    }
   ],
   "source": [
    "# Сгруппируем данные в таблицах `calls`, `internet`, `messages` по `user_id` и `month`, \n",
    "# результат сохраним в промежуточных таблицах\n",
    "user_stats_calls = calls.groupby(['user_id', 'month'])['rounded_duration'].agg(['sum', 'count'])\n",
    "user_stats_calls = user_stats_calls.rename(columns={'sum': 'minutes_sum', 'count': 'calls_count'})\n",
    "print(type(user_stats_calls))\n",
    "\n",
    "user_stats_messages = messages.groupby(['user_id', 'month'])['id'].agg('count')\n",
    "print(type(user_stats_messages))\n",
    "\n",
    "user_stats_internet = internet.groupby(['user_id', 'month'])['mb_used'].agg('sum')\n",
    "print(type(user_stats_internet))\n",
    "\n",
    "display(user_stats_calls.head())\n",
    "display(user_stats_messages.head())\n",
    "display(user_stats_internet.head())"
   ]
  },
  {
   "cell_type": "code",
   "execution_count": 84,
   "id": "65456dfb",
   "metadata": {},
   "outputs": [
    {
     "data": {
      "text/html": [
       "<div>\n",
       "<style scoped>\n",
       "    .dataframe tbody tr th:only-of-type {\n",
       "        vertical-align: middle;\n",
       "    }\n",
       "\n",
       "    .dataframe tbody tr th {\n",
       "        vertical-align: top;\n",
       "    }\n",
       "\n",
       "    .dataframe thead th {\n",
       "        text-align: right;\n",
       "    }\n",
       "</style>\n",
       "<table border=\"1\" class=\"dataframe\">\n",
       "  <thead>\n",
       "    <tr style=\"text-align: right;\">\n",
       "      <th></th>\n",
       "      <th></th>\n",
       "      <th>minutes_sum</th>\n",
       "      <th>calls_count</th>\n",
       "      <th>messages_count</th>\n",
       "    </tr>\n",
       "    <tr>\n",
       "      <th>user_id</th>\n",
       "      <th>month</th>\n",
       "      <th></th>\n",
       "      <th></th>\n",
       "      <th></th>\n",
       "    </tr>\n",
       "  </thead>\n",
       "  <tbody>\n",
       "    <tr>\n",
       "      <td rowspan=\"5\" valign=\"top\">1000</td>\n",
       "      <td>5</td>\n",
       "      <td>159.00</td>\n",
       "      <td>22.00</td>\n",
       "      <td>22.00</td>\n",
       "    </tr>\n",
       "    <tr>\n",
       "      <td>6</td>\n",
       "      <td>172.00</td>\n",
       "      <td>43.00</td>\n",
       "      <td>60.00</td>\n",
       "    </tr>\n",
       "    <tr>\n",
       "      <td>7</td>\n",
       "      <td>340.00</td>\n",
       "      <td>47.00</td>\n",
       "      <td>75.00</td>\n",
       "    </tr>\n",
       "    <tr>\n",
       "      <td>8</td>\n",
       "      <td>408.00</td>\n",
       "      <td>52.00</td>\n",
       "      <td>81.00</td>\n",
       "    </tr>\n",
       "    <tr>\n",
       "      <td>9</td>\n",
       "      <td>466.00</td>\n",
       "      <td>58.00</td>\n",
       "      <td>57.00</td>\n",
       "    </tr>\n",
       "  </tbody>\n",
       "</table>\n",
       "</div>"
      ],
      "text/plain": [
       "               minutes_sum  calls_count  messages_count\n",
       "user_id month                                          \n",
       "1000    5           159.00        22.00           22.00\n",
       "        6           172.00        43.00           60.00\n",
       "        7           340.00        47.00           75.00\n",
       "        8           408.00        52.00           81.00\n",
       "        9           466.00        58.00           57.00"
      ]
     },
     "metadata": {},
     "output_type": "display_data"
    },
    {
     "data": {
      "text/html": [
       "<div>\n",
       "<style scoped>\n",
       "    .dataframe tbody tr th:only-of-type {\n",
       "        vertical-align: middle;\n",
       "    }\n",
       "\n",
       "    .dataframe tbody tr th {\n",
       "        vertical-align: top;\n",
       "    }\n",
       "\n",
       "    .dataframe thead th {\n",
       "        text-align: right;\n",
       "    }\n",
       "</style>\n",
       "<table border=\"1\" class=\"dataframe\">\n",
       "  <thead>\n",
       "    <tr style=\"text-align: right;\">\n",
       "      <th></th>\n",
       "      <th></th>\n",
       "      <th>minutes_sum</th>\n",
       "      <th>calls_count</th>\n",
       "      <th>messages_count</th>\n",
       "      <th>mb_used</th>\n",
       "    </tr>\n",
       "    <tr>\n",
       "      <th>user_id</th>\n",
       "      <th>month</th>\n",
       "      <th></th>\n",
       "      <th></th>\n",
       "      <th></th>\n",
       "      <th></th>\n",
       "    </tr>\n",
       "  </thead>\n",
       "  <tbody>\n",
       "    <tr>\n",
       "      <td rowspan=\"5\" valign=\"top\">1000</td>\n",
       "      <td>5</td>\n",
       "      <td>159.00</td>\n",
       "      <td>22.00</td>\n",
       "      <td>22.00</td>\n",
       "      <td>2,253.49</td>\n",
       "    </tr>\n",
       "    <tr>\n",
       "      <td>6</td>\n",
       "      <td>172.00</td>\n",
       "      <td>43.00</td>\n",
       "      <td>60.00</td>\n",
       "      <td>23,233.77</td>\n",
       "    </tr>\n",
       "    <tr>\n",
       "      <td>7</td>\n",
       "      <td>340.00</td>\n",
       "      <td>47.00</td>\n",
       "      <td>75.00</td>\n",
       "      <td>14,003.64</td>\n",
       "    </tr>\n",
       "    <tr>\n",
       "      <td>8</td>\n",
       "      <td>408.00</td>\n",
       "      <td>52.00</td>\n",
       "      <td>81.00</td>\n",
       "      <td>14,055.93</td>\n",
       "    </tr>\n",
       "    <tr>\n",
       "      <td>9</td>\n",
       "      <td>466.00</td>\n",
       "      <td>58.00</td>\n",
       "      <td>57.00</td>\n",
       "      <td>14,568.91</td>\n",
       "    </tr>\n",
       "  </tbody>\n",
       "</table>\n",
       "</div>"
      ],
      "text/plain": [
       "               minutes_sum  calls_count  messages_count   mb_used\n",
       "user_id month                                                    \n",
       "1000    5           159.00        22.00           22.00  2,253.49\n",
       "        6           172.00        43.00           60.00 23,233.77\n",
       "        7           340.00        47.00           75.00 14,003.64\n",
       "        8           408.00        52.00           81.00 14,055.93\n",
       "        9           466.00        58.00           57.00 14,568.91"
      ]
     },
     "metadata": {},
     "output_type": "display_data"
    }
   ],
   "source": [
    "# Объединим информацию по пользователям, сгруппированную по месяцам, в таблице user_stats\n",
    "user_stats = user_stats_calls.merge(user_stats_messages, on=['user_id', 'month'], how='outer') \n",
    "user_stats = user_stats.rename(columns={'id': 'messages_count'})\n",
    "display(user_stats.head())\n",
    "\n",
    "user_stats = user_stats.merge(user_stats_internet, on=['user_id', 'month'], how='outer')\n",
    "display(user_stats.head())"
   ]
  },
  {
   "cell_type": "markdown",
   "id": "b2eee3ae",
   "metadata": {},
   "source": [
    "Проверим информацию в полученной таблице `user_stats` на наличие пропусков. Пропуски есть во всех колонках, их можно заменить на нули: они означают, что в данном месяце пользователь не использовал услугу."
   ]
  },
  {
   "cell_type": "code",
   "execution_count": 85,
   "id": "188e4dd7",
   "metadata": {},
   "outputs": [
    {
     "data": {
      "text/plain": [
       "minutes_sum       1.24\n",
       "calls_count       1.24\n",
       "messages_count   15.46\n",
       "mb_used           0.34\n",
       "dtype: float64"
      ]
     },
     "metadata": {},
     "output_type": "display_data"
    },
    {
     "data": {
      "text/plain": [
       "minutes_sum      0.00\n",
       "calls_count      0.00\n",
       "messages_count   0.00\n",
       "mb_used          0.00\n",
       "dtype: float64"
      ]
     },
     "metadata": {},
     "output_type": "display_data"
    }
   ],
   "source": [
    "display(user_stats.isna().mean() * 100)\n",
    "# display(user_stats.head(50))\n",
    "\n",
    "user_stats = user_stats.fillna(0)\n",
    "display(user_stats.isna().mean() * 100)"
   ]
  },
  {
   "cell_type": "markdown",
   "id": "6464b628",
   "metadata": {},
   "source": [
    "Рассчитаем помесячную выручку с каждого пользователя, результат запишем в колонку `amount_to_pay` таблицы `user_stats`. \n",
    "\n",
    "Для расчета помесячной выручки нужно вычесть бесплатный лимит из суммарного количества звонков, сообщений и интернет-трафика, остатки умножить на значения из тарифного плана и прибавить абонентскую плату, соответствующую тарифному плану."
   ]
  },
  {
   "cell_type": "code",
   "execution_count": 86,
   "id": "cae48869",
   "metadata": {},
   "outputs": [
    {
     "data": {
      "text/html": [
       "<div>\n",
       "<style scoped>\n",
       "    .dataframe tbody tr th:only-of-type {\n",
       "        vertical-align: middle;\n",
       "    }\n",
       "\n",
       "    .dataframe tbody tr th {\n",
       "        vertical-align: top;\n",
       "    }\n",
       "\n",
       "    .dataframe thead th {\n",
       "        text-align: right;\n",
       "    }\n",
       "</style>\n",
       "<table border=\"1\" class=\"dataframe\">\n",
       "  <thead>\n",
       "    <tr style=\"text-align: right;\">\n",
       "      <th></th>\n",
       "      <th>user_id</th>\n",
       "      <th>month</th>\n",
       "      <th>minutes_sum</th>\n",
       "      <th>calls_count</th>\n",
       "      <th>messages_count</th>\n",
       "      <th>mb_used</th>\n",
       "    </tr>\n",
       "  </thead>\n",
       "  <tbody>\n",
       "    <tr>\n",
       "      <td>0</td>\n",
       "      <td>1000</td>\n",
       "      <td>5</td>\n",
       "      <td>159.00</td>\n",
       "      <td>22.00</td>\n",
       "      <td>22.00</td>\n",
       "      <td>2,253.49</td>\n",
       "    </tr>\n",
       "    <tr>\n",
       "      <td>1</td>\n",
       "      <td>1000</td>\n",
       "      <td>6</td>\n",
       "      <td>172.00</td>\n",
       "      <td>43.00</td>\n",
       "      <td>60.00</td>\n",
       "      <td>23,233.77</td>\n",
       "    </tr>\n",
       "    <tr>\n",
       "      <td>2</td>\n",
       "      <td>1000</td>\n",
       "      <td>7</td>\n",
       "      <td>340.00</td>\n",
       "      <td>47.00</td>\n",
       "      <td>75.00</td>\n",
       "      <td>14,003.64</td>\n",
       "    </tr>\n",
       "    <tr>\n",
       "      <td>3</td>\n",
       "      <td>1000</td>\n",
       "      <td>8</td>\n",
       "      <td>408.00</td>\n",
       "      <td>52.00</td>\n",
       "      <td>81.00</td>\n",
       "      <td>14,055.93</td>\n",
       "    </tr>\n",
       "    <tr>\n",
       "      <td>4</td>\n",
       "      <td>1000</td>\n",
       "      <td>9</td>\n",
       "      <td>466.00</td>\n",
       "      <td>58.00</td>\n",
       "      <td>57.00</td>\n",
       "      <td>14,568.91</td>\n",
       "    </tr>\n",
       "  </tbody>\n",
       "</table>\n",
       "</div>"
      ],
      "text/plain": [
       "   user_id  month  minutes_sum  calls_count  messages_count   mb_used\n",
       "0     1000      5       159.00        22.00           22.00  2,253.49\n",
       "1     1000      6       172.00        43.00           60.00 23,233.77\n",
       "2     1000      7       340.00        47.00           75.00 14,003.64\n",
       "3     1000      8       408.00        52.00           81.00 14,055.93\n",
       "4     1000      9       466.00        58.00           57.00 14,568.91"
      ]
     },
     "metadata": {},
     "output_type": "display_data"
    }
   ],
   "source": [
    "# Сделаем `reset_index` в таблице `user_stats`\n",
    "user_stats = user_stats.reset_index()\n",
    "display(user_stats.head())\n",
    "# user_stats.columns"
   ]
  },
  {
   "cell_type": "code",
   "execution_count": 87,
   "id": "5e20308a",
   "metadata": {},
   "outputs": [
    {
     "data": {
      "text/html": [
       "<div>\n",
       "<style scoped>\n",
       "    .dataframe tbody tr th:only-of-type {\n",
       "        vertical-align: middle;\n",
       "    }\n",
       "\n",
       "    .dataframe tbody tr th {\n",
       "        vertical-align: top;\n",
       "    }\n",
       "\n",
       "    .dataframe thead th {\n",
       "        text-align: right;\n",
       "    }\n",
       "</style>\n",
       "<table border=\"1\" class=\"dataframe\">\n",
       "  <thead>\n",
       "    <tr style=\"text-align: right;\">\n",
       "      <th></th>\n",
       "      <th>user_id</th>\n",
       "      <th>tariff</th>\n",
       "    </tr>\n",
       "  </thead>\n",
       "  <tbody>\n",
       "    <tr>\n",
       "      <td>0</td>\n",
       "      <td>1000</td>\n",
       "      <td>ultra</td>\n",
       "    </tr>\n",
       "    <tr>\n",
       "      <td>1</td>\n",
       "      <td>1001</td>\n",
       "      <td>smart</td>\n",
       "    </tr>\n",
       "    <tr>\n",
       "      <td>2</td>\n",
       "      <td>1002</td>\n",
       "      <td>smart</td>\n",
       "    </tr>\n",
       "    <tr>\n",
       "      <td>3</td>\n",
       "      <td>1003</td>\n",
       "      <td>ultra</td>\n",
       "    </tr>\n",
       "    <tr>\n",
       "      <td>4</td>\n",
       "      <td>1004</td>\n",
       "      <td>ultra</td>\n",
       "    </tr>\n",
       "  </tbody>\n",
       "</table>\n",
       "</div>"
      ],
      "text/plain": [
       "   user_id tariff\n",
       "0     1000  ultra\n",
       "1     1001  smart\n",
       "2     1002  smart\n",
       "3     1003  ultra\n",
       "4     1004  ultra"
      ]
     },
     "metadata": {},
     "output_type": "display_data"
    },
    {
     "data": {
      "text/html": [
       "<div>\n",
       "<style scoped>\n",
       "    .dataframe tbody tr th:only-of-type {\n",
       "        vertical-align: middle;\n",
       "    }\n",
       "\n",
       "    .dataframe tbody tr th {\n",
       "        vertical-align: top;\n",
       "    }\n",
       "\n",
       "    .dataframe thead th {\n",
       "        text-align: right;\n",
       "    }\n",
       "</style>\n",
       "<table border=\"1\" class=\"dataframe\">\n",
       "  <thead>\n",
       "    <tr style=\"text-align: right;\">\n",
       "      <th></th>\n",
       "      <th>user_id</th>\n",
       "      <th>month</th>\n",
       "      <th>minutes_sum</th>\n",
       "      <th>calls_count</th>\n",
       "      <th>messages_count</th>\n",
       "      <th>mb_used</th>\n",
       "      <th>tariff</th>\n",
       "    </tr>\n",
       "  </thead>\n",
       "  <tbody>\n",
       "    <tr>\n",
       "      <td>0</td>\n",
       "      <td>1000</td>\n",
       "      <td>5</td>\n",
       "      <td>159.00</td>\n",
       "      <td>22.00</td>\n",
       "      <td>22.00</td>\n",
       "      <td>2,253.49</td>\n",
       "      <td>ultra</td>\n",
       "    </tr>\n",
       "    <tr>\n",
       "      <td>1</td>\n",
       "      <td>1000</td>\n",
       "      <td>6</td>\n",
       "      <td>172.00</td>\n",
       "      <td>43.00</td>\n",
       "      <td>60.00</td>\n",
       "      <td>23,233.77</td>\n",
       "      <td>ultra</td>\n",
       "    </tr>\n",
       "    <tr>\n",
       "      <td>2</td>\n",
       "      <td>1000</td>\n",
       "      <td>7</td>\n",
       "      <td>340.00</td>\n",
       "      <td>47.00</td>\n",
       "      <td>75.00</td>\n",
       "      <td>14,003.64</td>\n",
       "      <td>ultra</td>\n",
       "    </tr>\n",
       "    <tr>\n",
       "      <td>3</td>\n",
       "      <td>1000</td>\n",
       "      <td>8</td>\n",
       "      <td>408.00</td>\n",
       "      <td>52.00</td>\n",
       "      <td>81.00</td>\n",
       "      <td>14,055.93</td>\n",
       "      <td>ultra</td>\n",
       "    </tr>\n",
       "    <tr>\n",
       "      <td>4</td>\n",
       "      <td>1000</td>\n",
       "      <td>9</td>\n",
       "      <td>466.00</td>\n",
       "      <td>58.00</td>\n",
       "      <td>57.00</td>\n",
       "      <td>14,568.91</td>\n",
       "      <td>ultra</td>\n",
       "    </tr>\n",
       "  </tbody>\n",
       "</table>\n",
       "</div>"
      ],
      "text/plain": [
       "   user_id  month  minutes_sum  calls_count  messages_count   mb_used tariff\n",
       "0     1000      5       159.00        22.00           22.00  2,253.49  ultra\n",
       "1     1000      6       172.00        43.00           60.00 23,233.77  ultra\n",
       "2     1000      7       340.00        47.00           75.00 14,003.64  ultra\n",
       "3     1000      8       408.00        52.00           81.00 14,055.93  ultra\n",
       "4     1000      9       466.00        58.00           57.00 14,568.91  ultra"
      ]
     },
     "metadata": {},
     "output_type": "display_data"
    }
   ],
   "source": [
    "# Добавим колонку `tariff` в таблицу `user_stats`\n",
    "\n",
    "user_tariffs = users.loc[:, ['user_id', 'tariff']]\n",
    "display(user_tariffs.head())\n",
    "\n",
    "user_stats = user_stats.merge(user_tariffs, on='user_id', how='left')\n",
    "display(user_stats.head())"
   ]
  },
  {
   "cell_type": "code",
   "execution_count": 88,
   "id": "c51a6cd9",
   "metadata": {},
   "outputs": [
    {
     "data": {
      "text/html": [
       "<div>\n",
       "<style scoped>\n",
       "    .dataframe tbody tr th:only-of-type {\n",
       "        vertical-align: middle;\n",
       "    }\n",
       "\n",
       "    .dataframe tbody tr th {\n",
       "        vertical-align: top;\n",
       "    }\n",
       "\n",
       "    .dataframe thead th {\n",
       "        text-align: right;\n",
       "    }\n",
       "</style>\n",
       "<table border=\"1\" class=\"dataframe\">\n",
       "  <thead>\n",
       "    <tr style=\"text-align: right;\">\n",
       "      <th></th>\n",
       "      <th>messages_included</th>\n",
       "      <th>mb_per_month_included</th>\n",
       "      <th>minutes_included</th>\n",
       "      <th>rub_monthly_fee</th>\n",
       "      <th>rub_per_gb</th>\n",
       "      <th>rub_per_message</th>\n",
       "      <th>rub_per_minute</th>\n",
       "      <th>tariff_name</th>\n",
       "    </tr>\n",
       "  </thead>\n",
       "  <tbody>\n",
       "    <tr>\n",
       "      <td>0</td>\n",
       "      <td>50</td>\n",
       "      <td>15360</td>\n",
       "      <td>500</td>\n",
       "      <td>550</td>\n",
       "      <td>200</td>\n",
       "      <td>3</td>\n",
       "      <td>3</td>\n",
       "      <td>smart</td>\n",
       "    </tr>\n",
       "    <tr>\n",
       "      <td>1</td>\n",
       "      <td>1000</td>\n",
       "      <td>30720</td>\n",
       "      <td>3000</td>\n",
       "      <td>1950</td>\n",
       "      <td>150</td>\n",
       "      <td>1</td>\n",
       "      <td>1</td>\n",
       "      <td>ultra</td>\n",
       "    </tr>\n",
       "  </tbody>\n",
       "</table>\n",
       "</div>"
      ],
      "text/plain": [
       "   messages_included  mb_per_month_included  minutes_included  \\\n",
       "0                 50                  15360               500   \n",
       "1               1000                  30720              3000   \n",
       "\n",
       "   rub_monthly_fee  rub_per_gb  rub_per_message  rub_per_minute tariff_name  \n",
       "0              550         200                3               3       smart  \n",
       "1             1950         150                1               1       ultra  "
      ]
     },
     "execution_count": 88,
     "metadata": {},
     "output_type": "execute_result"
    }
   ],
   "source": [
    "tariffs.head()"
   ]
  },
  {
   "cell_type": "code",
   "execution_count": 89,
   "id": "3c81c3c2",
   "metadata": {},
   "outputs": [],
   "source": [
    "import math\n",
    "\n",
    "def payment(user_info):\n",
    "    tariff_name = user_info['tariff']\n",
    "    tariff = tariffs.query('tariff_name == @tariff_name')\n",
    "    excessive_minutes = max([float((user_info['minutes_sum'] - tariff['minutes_included'])), 0])\n",
    "    excessive_messages = max([float((user_info['messages_count'] - tariff['messages_included'])), 0])\n",
    "    excessive_gb = math.ceil(max([float((user_info['mb_used'] - tariff['mb_per_month_included'])), 0]) / 1024)\n",
    "\n",
    "    flexible_payment = (\n",
    "        excessive_minutes * tariff['rub_per_minute'] +\n",
    "        excessive_messages * tariff['rub_per_message'] +\n",
    "        excessive_gb * tariff['rub_per_gb']\n",
    "    )          \n",
    "    \n",
    "    amount_to_pay = tariff['rub_monthly_fee'] + flexible_payment\n",
    "    \n",
    "    return(float(amount_to_pay))\n",
    "           \n",
    "    "
   ]
  },
  {
   "cell_type": "code",
   "execution_count": 90,
   "id": "54c33a8e",
   "metadata": {},
   "outputs": [
    {
     "data": {
      "text/plain": [
       "1150.0"
      ]
     },
     "execution_count": 90,
     "metadata": {},
     "output_type": "execute_result"
    }
   ],
   "source": [
    "payment(user_stats.loc[16])"
   ]
  },
  {
   "cell_type": "code",
   "execution_count": 91,
   "id": "38428538",
   "metadata": {},
   "outputs": [],
   "source": [
    "user_stats['amount_to_pay'] = user_stats.apply(lambda row: payment(row), axis=1)"
   ]
  },
  {
   "cell_type": "code",
   "execution_count": 92,
   "id": "33635fea",
   "metadata": {},
   "outputs": [
    {
     "data": {
      "text/html": [
       "<div>\n",
       "<style scoped>\n",
       "    .dataframe tbody tr th:only-of-type {\n",
       "        vertical-align: middle;\n",
       "    }\n",
       "\n",
       "    .dataframe tbody tr th {\n",
       "        vertical-align: top;\n",
       "    }\n",
       "\n",
       "    .dataframe thead th {\n",
       "        text-align: right;\n",
       "    }\n",
       "</style>\n",
       "<table border=\"1\" class=\"dataframe\">\n",
       "  <thead>\n",
       "    <tr style=\"text-align: right;\">\n",
       "      <th></th>\n",
       "      <th>user_id</th>\n",
       "      <th>month</th>\n",
       "      <th>minutes_sum</th>\n",
       "      <th>calls_count</th>\n",
       "      <th>messages_count</th>\n",
       "      <th>mb_used</th>\n",
       "      <th>tariff</th>\n",
       "      <th>amount_to_pay</th>\n",
       "    </tr>\n",
       "  </thead>\n",
       "  <tbody>\n",
       "    <tr>\n",
       "      <td>0</td>\n",
       "      <td>1000</td>\n",
       "      <td>5</td>\n",
       "      <td>159.00</td>\n",
       "      <td>22.00</td>\n",
       "      <td>22.00</td>\n",
       "      <td>2,253.49</td>\n",
       "      <td>ultra</td>\n",
       "      <td>1,950.00</td>\n",
       "    </tr>\n",
       "    <tr>\n",
       "      <td>1</td>\n",
       "      <td>1000</td>\n",
       "      <td>6</td>\n",
       "      <td>172.00</td>\n",
       "      <td>43.00</td>\n",
       "      <td>60.00</td>\n",
       "      <td>23,233.77</td>\n",
       "      <td>ultra</td>\n",
       "      <td>1,950.00</td>\n",
       "    </tr>\n",
       "    <tr>\n",
       "      <td>2</td>\n",
       "      <td>1000</td>\n",
       "      <td>7</td>\n",
       "      <td>340.00</td>\n",
       "      <td>47.00</td>\n",
       "      <td>75.00</td>\n",
       "      <td>14,003.64</td>\n",
       "      <td>ultra</td>\n",
       "      <td>1,950.00</td>\n",
       "    </tr>\n",
       "    <tr>\n",
       "      <td>3</td>\n",
       "      <td>1000</td>\n",
       "      <td>8</td>\n",
       "      <td>408.00</td>\n",
       "      <td>52.00</td>\n",
       "      <td>81.00</td>\n",
       "      <td>14,055.93</td>\n",
       "      <td>ultra</td>\n",
       "      <td>1,950.00</td>\n",
       "    </tr>\n",
       "    <tr>\n",
       "      <td>4</td>\n",
       "      <td>1000</td>\n",
       "      <td>9</td>\n",
       "      <td>466.00</td>\n",
       "      <td>58.00</td>\n",
       "      <td>57.00</td>\n",
       "      <td>14,568.91</td>\n",
       "      <td>ultra</td>\n",
       "      <td>1,950.00</td>\n",
       "    </tr>\n",
       "  </tbody>\n",
       "</table>\n",
       "</div>"
      ],
      "text/plain": [
       "   user_id  month  minutes_sum  calls_count  messages_count   mb_used tariff  \\\n",
       "0     1000      5       159.00        22.00           22.00  2,253.49  ultra   \n",
       "1     1000      6       172.00        43.00           60.00 23,233.77  ultra   \n",
       "2     1000      7       340.00        47.00           75.00 14,003.64  ultra   \n",
       "3     1000      8       408.00        52.00           81.00 14,055.93  ultra   \n",
       "4     1000      9       466.00        58.00           57.00 14,568.91  ultra   \n",
       "\n",
       "   amount_to_pay  \n",
       "0       1,950.00  \n",
       "1       1,950.00  \n",
       "2       1,950.00  \n",
       "3       1,950.00  \n",
       "4       1,950.00  "
      ]
     },
     "execution_count": 92,
     "metadata": {},
     "output_type": "execute_result"
    }
   ],
   "source": [
    "user_stats.head()"
   ]
  },
  {
   "cell_type": "markdown",
   "id": "526ec839",
   "metadata": {},
   "source": [
    "## Анализ данных: описание поведения клиентов\n",
    "\n",
    "Проанализируем поведение клиентов оператора, исходя из выборки. "
   ]
  },
  {
   "cell_type": "markdown",
   "id": "a2a2e2b9",
   "metadata": {},
   "source": [
    "### Вся выборка данных"
   ]
  },
  {
   "cell_type": "code",
   "execution_count": 93,
   "id": "e6bf5269",
   "metadata": {},
   "outputs": [
    {
     "data": {
      "text/html": [
       "<div>\n",
       "<style scoped>\n",
       "    .dataframe tbody tr th:only-of-type {\n",
       "        vertical-align: middle;\n",
       "    }\n",
       "\n",
       "    .dataframe tbody tr th {\n",
       "        vertical-align: top;\n",
       "    }\n",
       "\n",
       "    .dataframe thead th {\n",
       "        text-align: right;\n",
       "    }\n",
       "</style>\n",
       "<table border=\"1\" class=\"dataframe\">\n",
       "  <thead>\n",
       "    <tr style=\"text-align: right;\">\n",
       "      <th></th>\n",
       "      <th>minutes_sum</th>\n",
       "      <th>calls_count</th>\n",
       "      <th>messages_count</th>\n",
       "      <th>mb_used</th>\n",
       "      <th>amount_to_pay</th>\n",
       "    </tr>\n",
       "  </thead>\n",
       "  <tbody>\n",
       "    <tr>\n",
       "      <td>count</td>\n",
       "      <td>3,214.00</td>\n",
       "      <td>3,214.00</td>\n",
       "      <td>3,214.00</td>\n",
       "      <td>3,214.00</td>\n",
       "      <td>3,214.00</td>\n",
       "    </tr>\n",
       "    <tr>\n",
       "      <td>mean</td>\n",
       "      <td>451.24</td>\n",
       "      <td>63.04</td>\n",
       "      <td>38.28</td>\n",
       "      <td>17,207.61</td>\n",
       "      <td>1,529.08</td>\n",
       "    </tr>\n",
       "    <tr>\n",
       "      <td>std</td>\n",
       "      <td>241.91</td>\n",
       "      <td>33.24</td>\n",
       "      <td>36.15</td>\n",
       "      <td>7,570.96</td>\n",
       "      <td>798.25</td>\n",
       "    </tr>\n",
       "    <tr>\n",
       "      <td>min</td>\n",
       "      <td>0.00</td>\n",
       "      <td>0.00</td>\n",
       "      <td>0.00</td>\n",
       "      <td>0.00</td>\n",
       "      <td>550.00</td>\n",
       "    </tr>\n",
       "    <tr>\n",
       "      <td>25%</td>\n",
       "      <td>282.00</td>\n",
       "      <td>40.00</td>\n",
       "      <td>9.00</td>\n",
       "      <td>12,491.89</td>\n",
       "      <td>750.00</td>\n",
       "    </tr>\n",
       "    <tr>\n",
       "      <td>50%</td>\n",
       "      <td>443.00</td>\n",
       "      <td>62.00</td>\n",
       "      <td>30.00</td>\n",
       "      <td>16,943.18</td>\n",
       "      <td>1,653.50</td>\n",
       "    </tr>\n",
       "    <tr>\n",
       "      <td>75%</td>\n",
       "      <td>589.00</td>\n",
       "      <td>82.00</td>\n",
       "      <td>57.00</td>\n",
       "      <td>21,424.62</td>\n",
       "      <td>1,950.00</td>\n",
       "    </tr>\n",
       "    <tr>\n",
       "      <td>max</td>\n",
       "      <td>1,673.00</td>\n",
       "      <td>244.00</td>\n",
       "      <td>224.00</td>\n",
       "      <td>49,745.69</td>\n",
       "      <td>6,770.00</td>\n",
       "    </tr>\n",
       "  </tbody>\n",
       "</table>\n",
       "</div>"
      ],
      "text/plain": [
       "       minutes_sum  calls_count  messages_count   mb_used  amount_to_pay\n",
       "count     3,214.00     3,214.00        3,214.00  3,214.00       3,214.00\n",
       "mean        451.24        63.04           38.28 17,207.61       1,529.08\n",
       "std         241.91        33.24           36.15  7,570.96         798.25\n",
       "min           0.00         0.00            0.00      0.00         550.00\n",
       "25%         282.00        40.00            9.00 12,491.89         750.00\n",
       "50%         443.00        62.00           30.00 16,943.18       1,653.50\n",
       "75%         589.00        82.00           57.00 21,424.62       1,950.00\n",
       "max       1,673.00       244.00          224.00 49,745.69       6,770.00"
      ]
     },
     "metadata": {},
     "output_type": "display_data"
    },
    {
     "name": "stdout",
     "output_type": "stream",
     "text": [
      "Дисперсия:\n"
     ]
    },
    {
     "data": {
      "text/plain": [
       "minutes_sum          58,520.44\n",
       "calls_count           1,104.66\n",
       "messages_count        1,306.70\n",
       "mb_used          57,319,416.72\n",
       "amount_to_pay       637,204.80\n",
       "dtype: float64"
      ]
     },
     "metadata": {},
     "output_type": "display_data"
    },
    {
     "name": "stdout",
     "output_type": "stream",
     "text": [
      "Стандартное отклонение:\n"
     ]
    },
    {
     "data": {
      "text/plain": [
       "minutes_sum        241.91\n",
       "calls_count         33.24\n",
       "messages_count      36.15\n",
       "mb_used          7,570.96\n",
       "amount_to_pay      798.25\n",
       "dtype: float64"
      ]
     },
     "metadata": {},
     "output_type": "display_data"
    }
   ],
   "source": [
    "import numpy as np\n",
    "display(user_stats.loc[:, ['minutes_sum', 'calls_count', 'messages_count', 'mb_used', 'amount_to_pay']].describe())\n",
    "total_variance = np.var(user_stats.loc[:, ['minutes_sum', 'calls_count', 'messages_count', 'mb_used', 'amount_to_pay']], ddof=1)\n",
    "total_std = np.std(user_stats.loc[:, ['minutes_sum', 'calls_count', 'messages_count', 'mb_used', 'amount_to_pay']], ddof=1)\n",
    "print('Дисперсия:')\n",
    "display(total_variance)\n",
    "print('Стандартное отклонение:')\n",
    "display(total_std)"
   ]
  },
  {
   "cell_type": "markdown",
   "id": "b7086974",
   "metadata": {},
   "source": [
    "### Тариф \"Smart\"\n",
    "#### Поведение пользователей\n",
    "В среднем пользователи тарифа \"Smart\" в 2018 году использовали 417.9 минут, 33.4 сообщения и 16208.4 Мб интернет-трафика. Медианные значения - 422 минуты, 28 сообщений, 16506.8 Мб трафика. Лимиты по тарифу - 500 минут, 50 сообщений, 15360 Мб.\n",
    "\n",
    "Обычно пользователи не укладываются в лимиты тарифа и платят за дополнительные услуги. \n",
    "\n",
    "Обычно пользователям не хватает интернет трафика, медианное значение используемого трафика (16506.84 Мб) уже выходит за лимиты тарифа (15360\tМб) - это означает, что даже половина пользователей тарифа не укладывается в лимит. Если лимит повысить, это будет выгодно пользователям, но не будет выгодно \"Мегалайну\".\n",
    "\n",
    "Больше половины пользователей укладывается в лимит по минутам разговора, хотя начиная с третьего квартиля пользователи уже точно не укладываются в лимит. В лимит по смс укладывается чуть меньше 75% пользователей (третий квартиль проходит по границе - 51 сообщение).  \n",
    "\n",
    "Несмотря на превышение лимитов по тарифу, средний (1289.97 рублей) и медианный (1023 рубля) сбор с пользователей тарифа \"Smart\" все равно ниже, чем фиксированная стоимость тарифа \"Ultra\" (1950 рублей). Т.е. даже с учетом выхода за лимиты основной массе пользователей не выгодно переходить на более дорогой тариф."
   ]
  },
  {
   "cell_type": "markdown",
   "id": "eecf0cf6",
   "metadata": {},
   "source": [
    "#### Основные метрики для тарифа \"Smart\": среднее, медиана, дисперсия, стандартное отклонение"
   ]
  },
  {
   "cell_type": "code",
   "execution_count": 94,
   "id": "2c1880e5",
   "metadata": {},
   "outputs": [
    {
     "name": "stdout",
     "output_type": "stream",
     "text": [
      "Общие данные по тарифу:\n"
     ]
    },
    {
     "data": {
      "text/html": [
       "<div>\n",
       "<style scoped>\n",
       "    .dataframe tbody tr th:only-of-type {\n",
       "        vertical-align: middle;\n",
       "    }\n",
       "\n",
       "    .dataframe tbody tr th {\n",
       "        vertical-align: top;\n",
       "    }\n",
       "\n",
       "    .dataframe thead th {\n",
       "        text-align: right;\n",
       "    }\n",
       "</style>\n",
       "<table border=\"1\" class=\"dataframe\">\n",
       "  <thead>\n",
       "    <tr style=\"text-align: right;\">\n",
       "      <th></th>\n",
       "      <th>messages_included</th>\n",
       "      <th>mb_per_month_included</th>\n",
       "      <th>minutes_included</th>\n",
       "      <th>rub_monthly_fee</th>\n",
       "      <th>rub_per_gb</th>\n",
       "      <th>rub_per_message</th>\n",
       "      <th>rub_per_minute</th>\n",
       "      <th>tariff_name</th>\n",
       "    </tr>\n",
       "  </thead>\n",
       "  <tbody>\n",
       "    <tr>\n",
       "      <td>0</td>\n",
       "      <td>50</td>\n",
       "      <td>15360</td>\n",
       "      <td>500</td>\n",
       "      <td>550</td>\n",
       "      <td>200</td>\n",
       "      <td>3</td>\n",
       "      <td>3</td>\n",
       "      <td>smart</td>\n",
       "    </tr>\n",
       "  </tbody>\n",
       "</table>\n",
       "</div>"
      ],
      "text/plain": [
       "   messages_included  mb_per_month_included  minutes_included  \\\n",
       "0                 50                  15360               500   \n",
       "\n",
       "   rub_monthly_fee  rub_per_gb  rub_per_message  rub_per_minute tariff_name  \n",
       "0              550         200                3               3       smart  "
      ]
     },
     "execution_count": 94,
     "metadata": {},
     "output_type": "execute_result"
    }
   ],
   "source": [
    "print('Общие данные по тарифу:')\n",
    "tariffs.query('tariff_name == \"smart\"')"
   ]
  },
  {
   "cell_type": "code",
   "execution_count": 95,
   "id": "953a169e",
   "metadata": {},
   "outputs": [
    {
     "data": {
      "text/html": [
       "<div>\n",
       "<style scoped>\n",
       "    .dataframe tbody tr th:only-of-type {\n",
       "        vertical-align: middle;\n",
       "    }\n",
       "\n",
       "    .dataframe tbody tr th {\n",
       "        vertical-align: top;\n",
       "    }\n",
       "\n",
       "    .dataframe thead th {\n",
       "        text-align: right;\n",
       "    }\n",
       "</style>\n",
       "<table border=\"1\" class=\"dataframe\">\n",
       "  <thead>\n",
       "    <tr style=\"text-align: right;\">\n",
       "      <th></th>\n",
       "      <th>minutes_sum</th>\n",
       "      <th>calls_count</th>\n",
       "      <th>messages_count</th>\n",
       "      <th>mb_used</th>\n",
       "      <th>amount_to_pay</th>\n",
       "    </tr>\n",
       "  </thead>\n",
       "  <tbody>\n",
       "    <tr>\n",
       "      <td>count</td>\n",
       "      <td>2,229.00</td>\n",
       "      <td>2,229.00</td>\n",
       "      <td>2,229.00</td>\n",
       "      <td>2,229.00</td>\n",
       "      <td>2,229.00</td>\n",
       "    </tr>\n",
       "    <tr>\n",
       "      <td>mean</td>\n",
       "      <td>417.93</td>\n",
       "      <td>58.46</td>\n",
       "      <td>33.38</td>\n",
       "      <td>16,208.39</td>\n",
       "      <td>1,289.97</td>\n",
       "    </tr>\n",
       "    <tr>\n",
       "      <td>std</td>\n",
       "      <td>190.31</td>\n",
       "      <td>25.94</td>\n",
       "      <td>28.23</td>\n",
       "      <td>5,870.48</td>\n",
       "      <td>818.40</td>\n",
       "    </tr>\n",
       "    <tr>\n",
       "      <td>min</td>\n",
       "      <td>0.00</td>\n",
       "      <td>0.00</td>\n",
       "      <td>0.00</td>\n",
       "      <td>0.00</td>\n",
       "      <td>550.00</td>\n",
       "    </tr>\n",
       "    <tr>\n",
       "      <td>25%</td>\n",
       "      <td>282.00</td>\n",
       "      <td>40.00</td>\n",
       "      <td>10.00</td>\n",
       "      <td>12,643.01</td>\n",
       "      <td>550.00</td>\n",
       "    </tr>\n",
       "    <tr>\n",
       "      <td>50%</td>\n",
       "      <td>422.00</td>\n",
       "      <td>60.00</td>\n",
       "      <td>28.00</td>\n",
       "      <td>16,506.84</td>\n",
       "      <td>1,023.00</td>\n",
       "    </tr>\n",
       "    <tr>\n",
       "      <td>75%</td>\n",
       "      <td>545.00</td>\n",
       "      <td>76.00</td>\n",
       "      <td>51.00</td>\n",
       "      <td>20,042.93</td>\n",
       "      <td>1,750.00</td>\n",
       "    </tr>\n",
       "    <tr>\n",
       "      <td>max</td>\n",
       "      <td>1,435.00</td>\n",
       "      <td>198.00</td>\n",
       "      <td>143.00</td>\n",
       "      <td>38,552.45</td>\n",
       "      <td>6,770.00</td>\n",
       "    </tr>\n",
       "  </tbody>\n",
       "</table>\n",
       "</div>"
      ],
      "text/plain": [
       "       minutes_sum  calls_count  messages_count   mb_used  amount_to_pay\n",
       "count     2,229.00     2,229.00        2,229.00  2,229.00       2,229.00\n",
       "mean        417.93        58.46           33.38 16,208.39       1,289.97\n",
       "std         190.31        25.94           28.23  5,870.48         818.40\n",
       "min           0.00         0.00            0.00      0.00         550.00\n",
       "25%         282.00        40.00           10.00 12,643.01         550.00\n",
       "50%         422.00        60.00           28.00 16,506.84       1,023.00\n",
       "75%         545.00        76.00           51.00 20,042.93       1,750.00\n",
       "max       1,435.00       198.00          143.00 38,552.45       6,770.00"
      ]
     },
     "metadata": {},
     "output_type": "display_data"
    },
    {
     "name": "stdout",
     "output_type": "stream",
     "text": [
      "Дисперсия:\n"
     ]
    },
    {
     "data": {
      "text/plain": [
       "minutes_sum          36,219.32\n",
       "calls_count             672.88\n",
       "messages_count          796.81\n",
       "mb_used          34,462,496.46\n",
       "amount_to_pay       669,785.71\n",
       "dtype: float64"
      ]
     },
     "metadata": {},
     "output_type": "display_data"
    },
    {
     "name": "stdout",
     "output_type": "stream",
     "text": [
      "Стандартное отклонение:\n"
     ]
    },
    {
     "data": {
      "text/plain": [
       "minutes_sum        190.31\n",
       "calls_count         25.94\n",
       "messages_count      28.23\n",
       "mb_used          5,870.48\n",
       "amount_to_pay      818.40\n",
       "dtype: float64"
      ]
     },
     "metadata": {},
     "output_type": "display_data"
    }
   ],
   "source": [
    "smart_stats = user_stats.query('tariff == \"smart\"')\n",
    "display(smart_stats.loc[:, ['minutes_sum', 'calls_count', 'messages_count', 'mb_used', 'amount_to_pay']].describe())\n",
    "smart_variance = np.var(smart_stats.loc[:, ['minutes_sum', 'calls_count', 'messages_count', 'mb_used', 'amount_to_pay']], ddof=1)\n",
    "smart_std = np.std(smart_stats.loc[:, ['minutes_sum', 'calls_count', 'messages_count', 'mb_used', 'amount_to_pay']], ddof=1)\n",
    "print('Дисперсия:')\n",
    "display(smart_variance)\n",
    "print('Стандартное отклонение:')\n",
    "display(smart_std)"
   ]
  },
  {
   "cell_type": "markdown",
   "id": "26be0070",
   "metadata": {},
   "source": [
    "#### \"Smart\" минуты"
   ]
  },
  {
   "cell_type": "code",
   "execution_count": 96,
   "id": "bb26bfdd",
   "metadata": {},
   "outputs": [
    {
     "ename": "AttributeError",
     "evalue": "'Rectangle' object has no property 'legend'",
     "output_type": "error",
     "traceback": [
      "\u001b[0;31m---------------------------------------------------------------------------\u001b[0m",
      "\u001b[0;31mAttributeError\u001b[0m                            Traceback (most recent call last)",
      "\u001b[0;32m<ipython-input-96-e9509db296b6>\u001b[0m in \u001b[0;36m<module>\u001b[0;34m\u001b[0m\n\u001b[0;32m----> 1\u001b[0;31m \u001b[0msmart_stats\u001b[0m\u001b[0;34m[\u001b[0m\u001b[0;34m'minutes_sum'\u001b[0m\u001b[0;34m]\u001b[0m\u001b[0;34m.\u001b[0m\u001b[0mhist\u001b[0m\u001b[0;34m(\u001b[0m\u001b[0malpha\u001b[0m\u001b[0;34m=\u001b[0m\u001b[0;36m0.5\u001b[0m\u001b[0;34m,\u001b[0m \u001b[0mlegend\u001b[0m\u001b[0;34m=\u001b[0m\u001b[0;32mTrue\u001b[0m\u001b[0;34m)\u001b[0m\u001b[0;34m\u001b[0m\u001b[0;34m\u001b[0m\u001b[0m\n\u001b[0m\u001b[1;32m      2\u001b[0m \u001b[0msmart_stats\u001b[0m\u001b[0;34m[\u001b[0m\u001b[0;34m'minutes_sum'\u001b[0m\u001b[0;34m]\u001b[0m\u001b[0;34m.\u001b[0m\u001b[0mhist\u001b[0m\u001b[0;34m(\u001b[0m\u001b[0mbins\u001b[0m\u001b[0;34m=\u001b[0m\u001b[0;34m[\u001b[0m\u001b[0;36m0\u001b[0m\u001b[0;34m,\u001b[0m \u001b[0;36m500\u001b[0m\u001b[0;34m,\u001b[0m \u001b[0;36m1435\u001b[0m\u001b[0;34m]\u001b[0m\u001b[0;34m,\u001b[0m \u001b[0malpha\u001b[0m\u001b[0;34m=\u001b[0m\u001b[0;36m0.5\u001b[0m\u001b[0;34m,\u001b[0m \u001b[0mlegend\u001b[0m\u001b[0;34m=\u001b[0m\u001b[0;32mTrue\u001b[0m\u001b[0;34m)\u001b[0m\u001b[0;34m\u001b[0m\u001b[0;34m\u001b[0m\u001b[0m\n",
      "\u001b[0;32m/opt/conda/lib/python3.7/site-packages/pandas/plotting/_core.py\u001b[0m in \u001b[0;36mhist_series\u001b[0;34m(self, by, ax, grid, xlabelsize, xrot, ylabelsize, yrot, figsize, bins, **kwds)\u001b[0m\n\u001b[1;32m     83\u001b[0m         \u001b[0mfigsize\u001b[0m\u001b[0;34m=\u001b[0m\u001b[0mfigsize\u001b[0m\u001b[0;34m,\u001b[0m\u001b[0;34m\u001b[0m\u001b[0;34m\u001b[0m\u001b[0m\n\u001b[1;32m     84\u001b[0m         \u001b[0mbins\u001b[0m\u001b[0;34m=\u001b[0m\u001b[0mbins\u001b[0m\u001b[0;34m,\u001b[0m\u001b[0;34m\u001b[0m\u001b[0;34m\u001b[0m\u001b[0m\n\u001b[0;32m---> 85\u001b[0;31m         \u001b[0;34m**\u001b[0m\u001b[0mkwds\u001b[0m\u001b[0;34m\u001b[0m\u001b[0;34m\u001b[0m\u001b[0m\n\u001b[0m\u001b[1;32m     86\u001b[0m     )\n\u001b[1;32m     87\u001b[0m \u001b[0;34m\u001b[0m\u001b[0m\n",
      "\u001b[0;32m/opt/conda/lib/python3.7/site-packages/pandas/plotting/_matplotlib/hist.py\u001b[0m in \u001b[0;36mhist_series\u001b[0;34m(self, by, ax, grid, xlabelsize, xrot, ylabelsize, yrot, figsize, bins, **kwds)\u001b[0m\n\u001b[1;32m    314\u001b[0m         \u001b[0mvalues\u001b[0m \u001b[0;34m=\u001b[0m \u001b[0mself\u001b[0m\u001b[0;34m.\u001b[0m\u001b[0mdropna\u001b[0m\u001b[0;34m(\u001b[0m\u001b[0;34m)\u001b[0m\u001b[0;34m.\u001b[0m\u001b[0mvalues\u001b[0m\u001b[0;34m\u001b[0m\u001b[0;34m\u001b[0m\u001b[0m\n\u001b[1;32m    315\u001b[0m \u001b[0;34m\u001b[0m\u001b[0m\n\u001b[0;32m--> 316\u001b[0;31m         \u001b[0max\u001b[0m\u001b[0;34m.\u001b[0m\u001b[0mhist\u001b[0m\u001b[0;34m(\u001b[0m\u001b[0mvalues\u001b[0m\u001b[0;34m,\u001b[0m \u001b[0mbins\u001b[0m\u001b[0;34m=\u001b[0m\u001b[0mbins\u001b[0m\u001b[0;34m,\u001b[0m \u001b[0;34m**\u001b[0m\u001b[0mkwds\u001b[0m\u001b[0;34m)\u001b[0m\u001b[0;34m\u001b[0m\u001b[0;34m\u001b[0m\u001b[0m\n\u001b[0m\u001b[1;32m    317\u001b[0m         \u001b[0max\u001b[0m\u001b[0;34m.\u001b[0m\u001b[0mgrid\u001b[0m\u001b[0;34m(\u001b[0m\u001b[0mgrid\u001b[0m\u001b[0;34m)\u001b[0m\u001b[0;34m\u001b[0m\u001b[0;34m\u001b[0m\u001b[0m\n\u001b[1;32m    318\u001b[0m         \u001b[0maxes\u001b[0m \u001b[0;34m=\u001b[0m \u001b[0mnp\u001b[0m\u001b[0;34m.\u001b[0m\u001b[0marray\u001b[0m\u001b[0;34m(\u001b[0m\u001b[0;34m[\u001b[0m\u001b[0max\u001b[0m\u001b[0;34m]\u001b[0m\u001b[0;34m)\u001b[0m\u001b[0;34m\u001b[0m\u001b[0;34m\u001b[0m\u001b[0m\n",
      "\u001b[0;32m/opt/conda/lib/python3.7/site-packages/matplotlib/__init__.py\u001b[0m in \u001b[0;36minner\u001b[0;34m(ax, data, *args, **kwargs)\u001b[0m\n\u001b[1;32m   1587\u001b[0m     \u001b[0;32mdef\u001b[0m \u001b[0minner\u001b[0m\u001b[0;34m(\u001b[0m\u001b[0max\u001b[0m\u001b[0;34m,\u001b[0m \u001b[0;34m*\u001b[0m\u001b[0margs\u001b[0m\u001b[0;34m,\u001b[0m \u001b[0mdata\u001b[0m\u001b[0;34m=\u001b[0m\u001b[0;32mNone\u001b[0m\u001b[0;34m,\u001b[0m \u001b[0;34m**\u001b[0m\u001b[0mkwargs\u001b[0m\u001b[0;34m)\u001b[0m\u001b[0;34m:\u001b[0m\u001b[0;34m\u001b[0m\u001b[0;34m\u001b[0m\u001b[0m\n\u001b[1;32m   1588\u001b[0m         \u001b[0;32mif\u001b[0m \u001b[0mdata\u001b[0m \u001b[0;32mis\u001b[0m \u001b[0;32mNone\u001b[0m\u001b[0;34m:\u001b[0m\u001b[0;34m\u001b[0m\u001b[0;34m\u001b[0m\u001b[0m\n\u001b[0;32m-> 1589\u001b[0;31m             \u001b[0;32mreturn\u001b[0m \u001b[0mfunc\u001b[0m\u001b[0;34m(\u001b[0m\u001b[0max\u001b[0m\u001b[0;34m,\u001b[0m \u001b[0;34m*\u001b[0m\u001b[0mmap\u001b[0m\u001b[0;34m(\u001b[0m\u001b[0msanitize_sequence\u001b[0m\u001b[0;34m,\u001b[0m \u001b[0margs\u001b[0m\u001b[0;34m)\u001b[0m\u001b[0;34m,\u001b[0m \u001b[0;34m**\u001b[0m\u001b[0mkwargs\u001b[0m\u001b[0;34m)\u001b[0m\u001b[0;34m\u001b[0m\u001b[0;34m\u001b[0m\u001b[0m\n\u001b[0m\u001b[1;32m   1590\u001b[0m \u001b[0;34m\u001b[0m\u001b[0m\n\u001b[1;32m   1591\u001b[0m         \u001b[0mbound\u001b[0m \u001b[0;34m=\u001b[0m \u001b[0mnew_sig\u001b[0m\u001b[0;34m.\u001b[0m\u001b[0mbind\u001b[0m\u001b[0;34m(\u001b[0m\u001b[0max\u001b[0m\u001b[0;34m,\u001b[0m \u001b[0;34m*\u001b[0m\u001b[0margs\u001b[0m\u001b[0;34m,\u001b[0m \u001b[0;34m**\u001b[0m\u001b[0mkwargs\u001b[0m\u001b[0;34m)\u001b[0m\u001b[0;34m\u001b[0m\u001b[0;34m\u001b[0m\u001b[0m\n",
      "\u001b[0;32m/opt/conda/lib/python3.7/site-packages/matplotlib/axes/_axes.py\u001b[0m in \u001b[0;36mhist\u001b[0;34m(self, x, bins, range, density, weights, cumulative, bottom, histtype, align, orientation, rwidth, log, color, label, stacked, normed, **kwargs)\u001b[0m\n\u001b[1;32m   6941\u001b[0m             \u001b[0;32mif\u001b[0m \u001b[0mpatch\u001b[0m\u001b[0;34m:\u001b[0m\u001b[0;34m\u001b[0m\u001b[0;34m\u001b[0m\u001b[0m\n\u001b[1;32m   6942\u001b[0m                 \u001b[0mp\u001b[0m \u001b[0;34m=\u001b[0m \u001b[0mpatch\u001b[0m\u001b[0;34m[\u001b[0m\u001b[0;36m0\u001b[0m\u001b[0;34m]\u001b[0m\u001b[0;34m\u001b[0m\u001b[0;34m\u001b[0m\u001b[0m\n\u001b[0;32m-> 6943\u001b[0;31m                 \u001b[0mp\u001b[0m\u001b[0;34m.\u001b[0m\u001b[0mupdate\u001b[0m\u001b[0;34m(\u001b[0m\u001b[0mkwargs\u001b[0m\u001b[0;34m)\u001b[0m\u001b[0;34m\u001b[0m\u001b[0;34m\u001b[0m\u001b[0m\n\u001b[0m\u001b[1;32m   6944\u001b[0m                 \u001b[0;32mif\u001b[0m \u001b[0mlbl\u001b[0m \u001b[0;32mis\u001b[0m \u001b[0;32mnot\u001b[0m \u001b[0;32mNone\u001b[0m\u001b[0;34m:\u001b[0m\u001b[0;34m\u001b[0m\u001b[0;34m\u001b[0m\u001b[0m\n\u001b[1;32m   6945\u001b[0m                     \u001b[0mp\u001b[0m\u001b[0;34m.\u001b[0m\u001b[0mset_label\u001b[0m\u001b[0;34m(\u001b[0m\u001b[0mlbl\u001b[0m\u001b[0;34m)\u001b[0m\u001b[0;34m\u001b[0m\u001b[0;34m\u001b[0m\u001b[0m\n",
      "\u001b[0;32m/opt/conda/lib/python3.7/site-packages/matplotlib/artist.py\u001b[0m in \u001b[0;36mupdate\u001b[0;34m(self, props)\u001b[0m\n\u001b[1;32m    955\u001b[0m \u001b[0;34m\u001b[0m\u001b[0m\n\u001b[1;32m    956\u001b[0m         \u001b[0;32mwith\u001b[0m \u001b[0mcbook\u001b[0m\u001b[0;34m.\u001b[0m\u001b[0m_setattr_cm\u001b[0m\u001b[0;34m(\u001b[0m\u001b[0mself\u001b[0m\u001b[0;34m,\u001b[0m \u001b[0meventson\u001b[0m\u001b[0;34m=\u001b[0m\u001b[0;32mFalse\u001b[0m\u001b[0;34m)\u001b[0m\u001b[0;34m:\u001b[0m\u001b[0;34m\u001b[0m\u001b[0;34m\u001b[0m\u001b[0m\n\u001b[0;32m--> 957\u001b[0;31m             \u001b[0mret\u001b[0m \u001b[0;34m=\u001b[0m \u001b[0;34m[\u001b[0m\u001b[0m_update_property\u001b[0m\u001b[0;34m(\u001b[0m\u001b[0mself\u001b[0m\u001b[0;34m,\u001b[0m \u001b[0mk\u001b[0m\u001b[0;34m,\u001b[0m \u001b[0mv\u001b[0m\u001b[0;34m)\u001b[0m \u001b[0;32mfor\u001b[0m \u001b[0mk\u001b[0m\u001b[0;34m,\u001b[0m \u001b[0mv\u001b[0m \u001b[0;32min\u001b[0m \u001b[0mprops\u001b[0m\u001b[0;34m.\u001b[0m\u001b[0mitems\u001b[0m\u001b[0;34m(\u001b[0m\u001b[0;34m)\u001b[0m\u001b[0;34m]\u001b[0m\u001b[0;34m\u001b[0m\u001b[0;34m\u001b[0m\u001b[0m\n\u001b[0m\u001b[1;32m    958\u001b[0m \u001b[0;34m\u001b[0m\u001b[0m\n\u001b[1;32m    959\u001b[0m         \u001b[0;32mif\u001b[0m \u001b[0mlen\u001b[0m\u001b[0;34m(\u001b[0m\u001b[0mret\u001b[0m\u001b[0;34m)\u001b[0m\u001b[0;34m:\u001b[0m\u001b[0;34m\u001b[0m\u001b[0;34m\u001b[0m\u001b[0m\n",
      "\u001b[0;32m/opt/conda/lib/python3.7/site-packages/matplotlib/artist.py\u001b[0m in \u001b[0;36m<listcomp>\u001b[0;34m(.0)\u001b[0m\n\u001b[1;32m    955\u001b[0m \u001b[0;34m\u001b[0m\u001b[0m\n\u001b[1;32m    956\u001b[0m         \u001b[0;32mwith\u001b[0m \u001b[0mcbook\u001b[0m\u001b[0;34m.\u001b[0m\u001b[0m_setattr_cm\u001b[0m\u001b[0;34m(\u001b[0m\u001b[0mself\u001b[0m\u001b[0;34m,\u001b[0m \u001b[0meventson\u001b[0m\u001b[0;34m=\u001b[0m\u001b[0;32mFalse\u001b[0m\u001b[0;34m)\u001b[0m\u001b[0;34m:\u001b[0m\u001b[0;34m\u001b[0m\u001b[0;34m\u001b[0m\u001b[0m\n\u001b[0;32m--> 957\u001b[0;31m             \u001b[0mret\u001b[0m \u001b[0;34m=\u001b[0m \u001b[0;34m[\u001b[0m\u001b[0m_update_property\u001b[0m\u001b[0;34m(\u001b[0m\u001b[0mself\u001b[0m\u001b[0;34m,\u001b[0m \u001b[0mk\u001b[0m\u001b[0;34m,\u001b[0m \u001b[0mv\u001b[0m\u001b[0;34m)\u001b[0m \u001b[0;32mfor\u001b[0m \u001b[0mk\u001b[0m\u001b[0;34m,\u001b[0m \u001b[0mv\u001b[0m \u001b[0;32min\u001b[0m \u001b[0mprops\u001b[0m\u001b[0;34m.\u001b[0m\u001b[0mitems\u001b[0m\u001b[0;34m(\u001b[0m\u001b[0;34m)\u001b[0m\u001b[0;34m]\u001b[0m\u001b[0;34m\u001b[0m\u001b[0;34m\u001b[0m\u001b[0m\n\u001b[0m\u001b[1;32m    958\u001b[0m \u001b[0;34m\u001b[0m\u001b[0m\n\u001b[1;32m    959\u001b[0m         \u001b[0;32mif\u001b[0m \u001b[0mlen\u001b[0m\u001b[0;34m(\u001b[0m\u001b[0mret\u001b[0m\u001b[0;34m)\u001b[0m\u001b[0;34m:\u001b[0m\u001b[0;34m\u001b[0m\u001b[0;34m\u001b[0m\u001b[0m\n",
      "\u001b[0;32m/opt/conda/lib/python3.7/site-packages/matplotlib/artist.py\u001b[0m in \u001b[0;36m_update_property\u001b[0;34m(self, k, v)\u001b[0m\n\u001b[1;32m    951\u001b[0m                 \u001b[0;32mif\u001b[0m \u001b[0;32mnot\u001b[0m \u001b[0mcallable\u001b[0m\u001b[0;34m(\u001b[0m\u001b[0mfunc\u001b[0m\u001b[0;34m)\u001b[0m\u001b[0;34m:\u001b[0m\u001b[0;34m\u001b[0m\u001b[0;34m\u001b[0m\u001b[0m\n\u001b[1;32m    952\u001b[0m                     raise AttributeError('{!r} object has no property {!r}'\n\u001b[0;32m--> 953\u001b[0;31m                                          .format(type(self).__name__, k))\n\u001b[0m\u001b[1;32m    954\u001b[0m                 \u001b[0;32mreturn\u001b[0m \u001b[0mfunc\u001b[0m\u001b[0;34m(\u001b[0m\u001b[0mv\u001b[0m\u001b[0;34m)\u001b[0m\u001b[0;34m\u001b[0m\u001b[0;34m\u001b[0m\u001b[0m\n\u001b[1;32m    955\u001b[0m \u001b[0;34m\u001b[0m\u001b[0m\n",
      "\u001b[0;31mAttributeError\u001b[0m: 'Rectangle' object has no property 'legend'"
     ]
    },
    {
     "data": {
      "image/png": "[encoded data removed]",
      "text/plain": [
       "<Figure size 432x288 with 1 Axes>"
      ]
     },
     "metadata": {
      "needs_background": "light"
     },
     "output_type": "display_data"
    }
   ],
   "source": [
    "smart_stats['minutes_sum'].hist(alpha=0.5, legend=True)\n",
    "smart_stats['minutes_sum'].hist(bins=[0, 500, 1435], alpha=0.5, legend=True)"
   ]
  },
  {
   "cell_type": "code",
   "execution_count": null,
   "id": "a64e57d9",
   "metadata": {},
   "outputs": [],
   "source": [
    "import matplotlib.pyplot as plt\n",
    "import matplotlib\n",
    "matplotlib.style.use('ggplot')\n",
    "plt.xlim(0, 1435)\n",
    "smart_stats['minutes_sum'].plot.kde()"
   ]
  },
  {
   "cell_type": "markdown",
   "id": "0331f5db",
   "metadata": {},
   "source": [
    "Из гистограммы видно, что в лимит по минутам клиенты уложились более, чем в 1400 случаях из 2229. Чуть менее 800 раз клиенты не уложились в лимит. \n",
    "\n",
    "Из гистограммы плотности видно, что наиболее популярное значение минут в месяц в районе 450 - 500. Пик плотности - 300-550 минут.\n",
    "\n",
    "Среднее (417.9) меньше медианы (422). Стандартное отклонение (190.31) вдвое меньше среднего, данные довольно однородны."
   ]
  },
  {
   "cell_type": "markdown",
   "id": "ffa2e8e7",
   "metadata": {},
   "source": [
    "#### \"Smart\" сообщения"
   ]
  },
  {
   "cell_type": "code",
   "execution_count": null,
   "id": "a9d4b6b9",
   "metadata": {},
   "outputs": [],
   "source": [
    "smart_stats['messages_count'].hist(alpha=0.5)\n",
    "smart_stats['messages_count'].hist(bins=[0, 50, 143], alpha=0.5)"
   ]
  },
  {
   "cell_type": "markdown",
   "id": "7d58b133",
   "metadata": {},
   "source": [
    "Из гистограммы видно, что в лимит сообщений клиенты уложились в чуть более, чем 1600 случаях, не уложились - чуть меньше 600 раз."
   ]
  },
  {
   "cell_type": "code",
   "execution_count": null,
   "id": "ed4198a7",
   "metadata": {},
   "outputs": [],
   "source": [
    "matplotlib.style.use('ggplot')\n",
    "plt.xlim(0, 143)\n",
    "smart_stats['messages_count'].plot.kde()"
   ]
  },
  {
   "cell_type": "markdown",
   "id": "a016420d",
   "metadata": {},
   "source": [
    "Из гистограммы видно, что наибольшая плотность приходится на клиентов, которые за месяц отправили около 5 сообщений. \n",
    "\n",
    "Данные скошены вправо, среднее (33.38) больше медианы (28). Стандартное отклонение (28.23) меньше среднего, данные достаточно однородны."
   ]
  },
  {
   "cell_type": "markdown",
   "id": "042c75e6",
   "metadata": {},
   "source": [
    "#### \"Smart\" интернет трафик"
   ]
  },
  {
   "cell_type": "code",
   "execution_count": null,
   "id": "1a84fbd7",
   "metadata": {},
   "outputs": [],
   "source": [
    "smart_stats['mb_used'].hist(alpha=0.5)\n",
    "smart_stats['mb_used'].hist(bins=[0, 15360, 38552], alpha=0.5)"
   ]
  },
  {
   "cell_type": "markdown",
   "id": "bb1edc90",
   "metadata": {},
   "source": [
    "Наиболее популярный сценарий поведения пользователей - превысить использование интернет трафика примерно на четверть лимита. В 900+ случаях из выборки пользователи укладываются в лимит, в то время как около 1300 случаев - нет.  \n",
    "\n",
    "Среднее (16208.39) меньше медианы (16506.84). Стандартное отклонение (5870.48) примерно втрое меньше среднего, данные довольно однородны."
   ]
  },
  {
   "cell_type": "code",
   "execution_count": null,
   "id": "a71d3ffe",
   "metadata": {},
   "outputs": [],
   "source": [
    "matplotlib.style.use('ggplot')\n",
    "plt.xlim(0, 38552)\n",
    "smart_stats['mb_used'].plot.kde()"
   ]
  },
  {
   "cell_type": "markdown",
   "id": "28b24823",
   "metadata": {},
   "source": [
    "Гистограмма плотности подтвержает вывод выше."
   ]
  },
  {
   "cell_type": "markdown",
   "id": "bf51da5d",
   "metadata": {},
   "source": [
    "### Тариф \"Ultra\"\n",
    "#### Поведение пользователей\n",
    "\n",
    "В среднем пользователи тарифа \"Ultra\" в 2018 году использовали 526.6 минут, 49.4 сообщения и 19468.8 Мб интернет-трафика. Медианные значения - 518 минут, 38 сообщений, 19308 Мб трафика. Лимиты по тарифу - 3000 минут, 1000 сообщений, 30720 Мб.\n",
    "\n",
    "В большей части случаев пользователи укладываются в лимиты тарифа. По звонкам и сообщениям ни один пользователь даже не приблизился к лимиту (максимальное количество израсходованных минут - 1673 из 3000 доступных; максимальное количество сообщений - 224 из 1000 доступных). Медианные значения использованных минут разговора и сообщений выше, чем у пользователей тарифа \"Smart\" (518 против 422 минут (+22,7%), 38 сообщений против 28 (+35%)). \n",
    "\n",
    "Обычно пользователи тарифа \"Ultra\" укладываются и в лимиты по интернет трафику. Медианное значение используемого трафика 19308.01 Мб; третий квартиль проходит по границе 26837.69 при лимите 30720 Мб. \n",
    "\n",
    "Выход за пределы лимита был в 134 случаев из 985 (13.6%), соответственно, в этих случаях месячные расходы пользователей превысили фиксированную плату.\n",
    "\n",
    "За счет этих пользователей среднее значение платежа по тарифу выросло до 2070.15 рублей, при том что медианное значение и значение третьего квартиля - 1950 рублей, то есть фиксированная плата по тарифу. Получается, что оплата сверх фиксированной суммы по тарифу \"Ultra\" зафиксирована в 13.6% случаев."
   ]
  },
  {
   "cell_type": "markdown",
   "id": "e901c162",
   "metadata": {},
   "source": [
    "#### Основные метрики для тарифа \"Ultra\": среднее, медиана, дисперсия, стандартное отклонение"
   ]
  },
  {
   "cell_type": "code",
   "execution_count": null,
   "id": "2198ad2a",
   "metadata": {},
   "outputs": [],
   "source": [
    "print('Общие данные по тарифу:')\n",
    "tariffs.query('tariff_name == \"ultra\"')"
   ]
  },
  {
   "cell_type": "code",
   "execution_count": null,
   "id": "1b97c788",
   "metadata": {},
   "outputs": [],
   "source": [
    "ultra_stats = user_stats.query('tariff == \"ultra\"')\n",
    "print('Тариф \"Ultra\":')\n",
    "display(ultra_stats.loc[:, ['minutes_sum', 'calls_count', 'messages_count', 'mb_used', 'amount_to_pay']].describe())\n",
    "ultra_variance = np.var(ultra_stats.loc[:, ['minutes_sum', 'calls_count', 'messages_count', 'mb_used', 'amount_to_pay']], ddof=1)\n",
    "ultra_std = np.std(ultra_stats.loc[:, ['minutes_sum', 'calls_count', 'messages_count', 'mb_used', 'amount_to_pay']], ddof=1)\n",
    "print('Дисперсия:')\n",
    "display(ultra_variance)\n",
    "print('Стандартное отклонение:')\n",
    "display(ultra_std)"
   ]
  },
  {
   "cell_type": "markdown",
   "id": "711e245c",
   "metadata": {},
   "source": [
    "#### \"Ultra\" минуты"
   ]
  },
  {
   "cell_type": "code",
   "execution_count": 3,
   "id": "01fafbcc",
   "metadata": {},
   "outputs": [
    {
     "ename": "NameError",
     "evalue": "name 'ultra_stats' is not defined",
     "output_type": "error",
     "traceback": [
      "\u001b[0;31m---------------------------------------------------------------------------\u001b[0m",
      "\u001b[0;31mNameError\u001b[0m                                 Traceback (most recent call last)",
      "\u001b[0;32m<ipython-input-3-f00c74a75c65>\u001b[0m in \u001b[0;36m<module>\u001b[0;34m\u001b[0m\n\u001b[0;32m----> 1\u001b[0;31m \u001b[0multra_stats\u001b[0m\u001b[0;34m[\u001b[0m\u001b[0;34m'minutes_sum'\u001b[0m\u001b[0;34m]\u001b[0m\u001b[0;34m.\u001b[0m\u001b[0mhist\u001b[0m\u001b[0;34m(\u001b[0m\u001b[0malpha\u001b[0m\u001b[0;34m=\u001b[0m\u001b[0;36m0.5\u001b[0m\u001b[0;34m,\u001b[0m \u001b[0mlegend\u001b[0m\u001b[0;34m=\u001b[0m\u001b[0;32mTrue\u001b[0m\u001b[0;34m)\u001b[0m\u001b[0;34m\u001b[0m\u001b[0;34m\u001b[0m\u001b[0m\n\u001b[0m\u001b[1;32m      2\u001b[0m \u001b[0mplt\u001b[0m\u001b[0;34m.\u001b[0m\u001b[0mxlim\u001b[0m\u001b[0;34m(\u001b[0m\u001b[0;36m0\u001b[0m\u001b[0;34m,\u001b[0m \u001b[0;36m3000\u001b[0m\u001b[0;34m)\u001b[0m\u001b[0;34m\u001b[0m\u001b[0;34m\u001b[0m\u001b[0m\n",
      "\u001b[0;31mNameError\u001b[0m: name 'ultra_stats' is not defined"
     ]
    }
   ],
   "source": [
    "ultra_stats['minutes_sum'].hist(alpha=0.5, legend=True)\n",
    "plt.xlim(0, 3000)"
   ]
  },
  {
   "cell_type": "code",
   "execution_count": null,
   "id": "f9c47915",
   "metadata": {},
   "outputs": [],
   "source": [
    "matplotlib.style.use('ggplot')\n",
    "plt.xlim(0, 3000)\n",
    "ultra_stats['minutes_sum'].plot.kde()"
   ]
  },
  {
   "cell_type": "markdown",
   "id": "f552d75e",
   "metadata": {},
   "source": [
    "Пользователям ни разу не удалось выйти за лимит 3000 минут в месяц (максимум израсходованных минут 1673), поэтому ограничимся одной гистограммой с разбивкой по корзинам и одной гистограммой плотности. Диапазон значений для обеих гистограмм зададим от 0 до 3000 (максимум по тарифу), при этом реальный диапазон значений от 0 до 1673.\n",
    "\n",
    "Наибольшая плотность месячного расхода минут на тарифе \"Ultra\" - около 500 минут в месяц - так же, как и на тарифе \"Smart\". Количество случаев, когда израсходовано больше 1000 минут в месяц, незначительно.\n",
    "\n",
    "Среднее (526.62) незначительно больше медианы (518), данные скошены вправо. Стандартное отклонение (317.61) значительно меньше среднего, данные довольно однородны."
   ]
  },
  {
   "cell_type": "markdown",
   "id": "f2248ef1",
   "metadata": {},
   "source": [
    "#### \"Ultra\" сообщения"
   ]
  },
  {
   "cell_type": "code",
   "execution_count": null,
   "id": "1a0f5ee2",
   "metadata": {},
   "outputs": [],
   "source": [
    "ultra_stats['messages_count'].hist(bins=20, alpha=0.5, legend=True)\n",
    "plt.xlim(0, 250)"
   ]
  },
  {
   "cell_type": "code",
   "execution_count": 39,
   "id": "ec3fb20a",
   "metadata": {},
   "outputs": [
    {
     "data": {
      "text/plain": [
       "<AxesSubplot:ylabel='Density'>"
      ]
     },
     "execution_count": 39,
     "metadata": {},
     "output_type": "execute_result"
    },
    {
     "data": {
      "image/png": "[encoded data removed]",
      "text/plain": [
       "<Figure size 432x288 with 1 Axes>"
      ]
     },
     "metadata": {},
     "output_type": "display_data"
    }
   ],
   "source": [
    "matplotlib.style.use('ggplot')\n",
    "plt.xlim(0, 250)\n",
    "ultra_stats['messages_count'].plot.kde()"
   ]
  },
  {
   "cell_type": "markdown",
   "id": "a105004a",
   "metadata": {},
   "source": [
    "Из графиков видно, что сообщения - не самая популярная услуга. Примерно в 280 случаях за месяц отправляли менее 10 смс (о том же говорит первая квартиль: в 25% случаев за месяц отправили не более 6 сообщений). За месячный лимит по тарифу (1000 смс) ни разу не вышел ни один пользователь. Максимальное значение отправленных сообщений - 244 штуки за месяц. \n",
    "\n",
    "Данные скошены вправо, среднее (49.36) больше медианы (38). Стандартное отклонение (47.8) чуть меньше среднего, данные достаточно однородны."
   ]
  },
  {
   "cell_type": "markdown",
   "id": "d487e992",
   "metadata": {},
   "source": [
    "#### \"Ultra\" интернет трафик"
   ]
  },
  {
   "cell_type": "code",
   "execution_count": 97,
   "id": "1181aee8",
   "metadata": {},
   "outputs": [
    {
     "ename": "NameError",
     "evalue": "name 'ultra_stats' is not defined",
     "output_type": "error",
     "traceback": [
      "\u001b[0;31m---------------------------------------------------------------------------\u001b[0m",
      "\u001b[0;31mNameError\u001b[0m                                 Traceback (most recent call last)",
      "\u001b[0;32m<ipython-input-97-41c5ca76042f>\u001b[0m in \u001b[0;36m<module>\u001b[0;34m\u001b[0m\n\u001b[0;32m----> 1\u001b[0;31m \u001b[0multra_stats\u001b[0m\u001b[0;34m[\u001b[0m\u001b[0;34m'mb_used'\u001b[0m\u001b[0;34m]\u001b[0m\u001b[0;34m.\u001b[0m\u001b[0mhist\u001b[0m\u001b[0;34m(\u001b[0m\u001b[0malpha\u001b[0m\u001b[0;34m=\u001b[0m\u001b[0;36m0.5\u001b[0m\u001b[0;34m)\u001b[0m\u001b[0;34m\u001b[0m\u001b[0;34m\u001b[0m\u001b[0m\n\u001b[0m\u001b[1;32m      2\u001b[0m \u001b[0multra_stats\u001b[0m\u001b[0;34m[\u001b[0m\u001b[0;34m'mb_used'\u001b[0m\u001b[0;34m]\u001b[0m\u001b[0;34m.\u001b[0m\u001b[0mhist\u001b[0m\u001b[0;34m(\u001b[0m\u001b[0mbins\u001b[0m\u001b[0;34m=\u001b[0m\u001b[0;34m[\u001b[0m\u001b[0;36m0\u001b[0m\u001b[0;34m,\u001b[0m \u001b[0;36m30720\u001b[0m\u001b[0;34m,\u001b[0m \u001b[0;36m49746\u001b[0m\u001b[0;34m]\u001b[0m\u001b[0;34m,\u001b[0m \u001b[0malpha\u001b[0m\u001b[0;34m=\u001b[0m\u001b[0;36m0.5\u001b[0m\u001b[0;34m)\u001b[0m\u001b[0;34m\u001b[0m\u001b[0;34m\u001b[0m\u001b[0m\n",
      "\u001b[0;31mNameError\u001b[0m: name 'ultra_stats' is not defined"
     ]
    }
   ],
   "source": [
    "ultra_stats['mb_used'].hist(alpha=0.5)\n",
    "ultra_stats['mb_used'].hist(bins=[0, 30720, 49746], alpha=0.5)"
   ]
  },
  {
   "cell_type": "code",
   "execution_count": 53,
   "id": "03a99053",
   "metadata": {},
   "outputs": [
    {
     "data": {
      "text/plain": [
       "<AxesSubplot:ylabel='Density'>"
      ]
     },
     "execution_count": 53,
     "metadata": {},
     "output_type": "execute_result"
    },
    {
     "data": {
      "image/png": "[encoded data removed]",
      "text/plain": [
       "<Figure size 432x288 with 1 Axes>"
      ]
     },
     "metadata": {},
     "output_type": "display_data"
    }
   ],
   "source": [
    "matplotlib.style.use('ggplot')\n",
    "plt.xlim(0, 49746)\n",
    "ultra_stats['mb_used'].plot.kde()"
   ]
  },
  {
   "cell_type": "code",
   "execution_count": 54,
   "id": "4f315f1d",
   "metadata": {},
   "outputs": [
    {
     "name": "stdout",
     "output_type": "stream",
     "text": [
      "134\n",
      "13.604060913705585\n"
     ]
    }
   ],
   "source": [
    "print(len(ultra_stats.query('mb_used > 30720')))\n",
    "print(len(ultra_stats.query('mb_used > 30720')) / len(ultra_stats) * 100)"
   ]
  },
  {
   "cell_type": "markdown",
   "id": "2b6701c3",
   "metadata": {},
   "source": [
    "Пик графиков приходится примерно на 19500 Мб в месяц (среднее значение - 19468.81, медиана близка к среднему, чуть меньше его - 19308.01). Данные довольно однородны, стандартное отклонение 10087.17, это чуть больше половины среднего. В большей части случаев (около 850) пользователи тарифа уложились в лимит по интернет трафику; только 134 раза клиенты вышли за пределы лимита (это 13.6% случаев); другими словами, пользователи уложились в лимит в более, чем 75% случаев: граница третьего квартиля 26837.69 Мб при месячном лимите 30720 Мб.\n"
   ]
  },
  {
   "cell_type": "markdown",
   "id": "7b46c833",
   "metadata": {},
   "source": [
    "## Проверка гипотез\n",
    "### Гипотеза о различии средней выручки тарифов \"Smart\" и \"Ultra\"\n",
    "\n",
    "Среднее значение выручки с одного клиента по тарифу \"Smart\" - 1289.97 рублей, по тарифу \"Ultra\" - 2070.15 рублей. Является это различие случайностью или тариф \"Ultra\" выгодней для оператора связи?\n",
    "\n",
    "Проверим гипотезу о различии средней выручки с пользователей тарифов \"Smart\" и \"Ultra\". Нулевая гипотеза должна содержать знак равенства, поэтому сформулируем ее так:\n",
    "\n",
    "**H0**: средняя выручка с пользователей тарифа \"Smart\" равна средней выручке с пользователей тарифа \"Ultra\".\n",
    "\n",
    "Альтернативная гипотеза должна быть несовместимой с нулевой, это должны быть взаимоисключающие утверждения. Поэтому сформулируем альтернативную гипотезу так:\n",
    "\n",
    "**H1**: средняя выручка с пользователей тарифа \"Smart\" **не** равна средней выручке с пользователей тарифа \"Ultra\".\n",
    "\n",
    "Пусть альтернативная гипотеза будет двусторонней.\n",
    "\n",
    "Для проверки гипотезы будем использовать t-тест для сравнения средних двух независимых генеральных совокупностей по выборкам из них. Это тест для распределения Стьюдента (для малого количества элементов в выборке), но поскольку при большом количестве степеней свободы его результат будет близок к результату проверки для нормального распределения, то можно использовать его.\n",
    "\n",
    "Будем использовать метод `scipy.stats.ttest_ind()`. Для него будем использовать параметр `equal_var=False`: так нужно сделать, потому что хотя выборки большие, их размеры не равны (2229 элементов в выборке по тарифу \"Smart\" и 985 элементов в выборке по тарифу \"Ultra\").\n",
    "\n",
    "Критический уровень значимости зададим 5% - это самое высокое из стандартных значений.\n",
    "\n",
    "**Вывод:**\n",
    "\n",
    "По результатам t-теста вероятность получить такое же или еще более далекое значение на выборках 4.2606313931076085e-250, это значительно меньше, чем критический уровень значимости. Значит, мы должны отвергнуть нулевую гипотезу о равенстве средних двух генеральных совокупностей - средних выручек по клиентам тарифов \"Smart\" и \"Ultra\". Т.е. разница средних значений выборок по тарифам, скорей всего, не случайна."
   ]
  },
  {
   "cell_type": "code",
   "execution_count": 41,
   "id": "0173b987",
   "metadata": {},
   "outputs": [
    {
     "name": "stdout",
     "output_type": "stream",
     "text": [
      "985\n",
      "2229\n"
     ]
    }
   ],
   "source": [
    "print(len(ultra_stats))\n",
    "print(len(smart_stats))"
   ]
  },
  {
   "cell_type": "code",
   "execution_count": 42,
   "id": "32565525",
   "metadata": {},
   "outputs": [
    {
     "name": "stdout",
     "output_type": "stream",
     "text": [
      "p-значение:  4.2606313931076085e-250\n",
      "Отвергаем нулевую гипотезу\n"
     ]
    }
   ],
   "source": [
    "from scipy import stats as st\n",
    "\n",
    "alpha = 0.05\n",
    "results = st.ttest_ind(\n",
    "    smart_stats['amount_to_pay'], \n",
    "    ultra_stats['amount_to_pay'],\n",
    "    equal_var=False)\n",
    "\n",
    "print('p-значение: ', results.pvalue)\n",
    "\n",
    "if results.pvalue < alpha:\n",
    "    print(\"Отвергаем нулевую гипотезу\")\n",
    "else:\n",
    "    print(\"Не получилось отвергнуть нулевую гипотезу\") "
   ]
  },
  {
   "cell_type": "code",
   "execution_count": 43,
   "id": "74027d11",
   "metadata": {},
   "outputs": [
    {
     "data": {
      "text/html": [
       "<div>\n",
       "<style scoped>\n",
       "    .dataframe tbody tr th:only-of-type {\n",
       "        vertical-align: middle;\n",
       "    }\n",
       "\n",
       "    .dataframe tbody tr th {\n",
       "        vertical-align: top;\n",
       "    }\n",
       "\n",
       "    .dataframe thead th {\n",
       "        text-align: right;\n",
       "    }\n",
       "</style>\n",
       "<table border=\"1\" class=\"dataframe\">\n",
       "  <thead>\n",
       "    <tr style=\"text-align: right;\">\n",
       "      <th></th>\n",
       "      <th>user_id</th>\n",
       "      <th>age</th>\n",
       "      <th>churn_date</th>\n",
       "      <th>city</th>\n",
       "      <th>first_name</th>\n",
       "      <th>last_name</th>\n",
       "      <th>reg_date</th>\n",
       "      <th>tariff</th>\n",
       "    </tr>\n",
       "  </thead>\n",
       "  <tbody>\n",
       "    <tr>\n",
       "      <td>0</td>\n",
       "      <td>1000</td>\n",
       "      <td>52</td>\n",
       "      <td>NaT</td>\n",
       "      <td>Краснодар</td>\n",
       "      <td>Рафаил</td>\n",
       "      <td>Верещагин</td>\n",
       "      <td>2018-05-25</td>\n",
       "      <td>ultra</td>\n",
       "    </tr>\n",
       "    <tr>\n",
       "      <td>1</td>\n",
       "      <td>1001</td>\n",
       "      <td>41</td>\n",
       "      <td>NaT</td>\n",
       "      <td>Москва</td>\n",
       "      <td>Иван</td>\n",
       "      <td>Ежов</td>\n",
       "      <td>2018-11-01</td>\n",
       "      <td>smart</td>\n",
       "    </tr>\n",
       "    <tr>\n",
       "      <td>2</td>\n",
       "      <td>1002</td>\n",
       "      <td>59</td>\n",
       "      <td>NaT</td>\n",
       "      <td>Стерлитамак</td>\n",
       "      <td>Евгений</td>\n",
       "      <td>Абрамович</td>\n",
       "      <td>2018-06-17</td>\n",
       "      <td>smart</td>\n",
       "    </tr>\n",
       "    <tr>\n",
       "      <td>3</td>\n",
       "      <td>1003</td>\n",
       "      <td>23</td>\n",
       "      <td>NaT</td>\n",
       "      <td>Москва</td>\n",
       "      <td>Белла</td>\n",
       "      <td>Белякова</td>\n",
       "      <td>2018-08-17</td>\n",
       "      <td>ultra</td>\n",
       "    </tr>\n",
       "    <tr>\n",
       "      <td>4</td>\n",
       "      <td>1004</td>\n",
       "      <td>68</td>\n",
       "      <td>NaT</td>\n",
       "      <td>Новокузнецк</td>\n",
       "      <td>Татьяна</td>\n",
       "      <td>Авдеенко</td>\n",
       "      <td>2018-05-14</td>\n",
       "      <td>ultra</td>\n",
       "    </tr>\n",
       "  </tbody>\n",
       "</table>\n",
       "</div>"
      ],
      "text/plain": [
       "   user_id  age churn_date         city first_name  last_name   reg_date  \\\n",
       "0     1000   52        NaT    Краснодар     Рафаил  Верещагин 2018-05-25   \n",
       "1     1001   41        NaT       Москва       Иван       Ежов 2018-11-01   \n",
       "2     1002   59        NaT  Стерлитамак    Евгений  Абрамович 2018-06-17   \n",
       "3     1003   23        NaT       Москва      Белла   Белякова 2018-08-17   \n",
       "4     1004   68        NaT  Новокузнецк    Татьяна   Авдеенко 2018-05-14   \n",
       "\n",
       "  tariff  \n",
       "0  ultra  \n",
       "1  smart  \n",
       "2  smart  \n",
       "3  ultra  \n",
       "4  ultra  "
      ]
     },
     "execution_count": 43,
     "metadata": {},
     "output_type": "execute_result"
    }
   ],
   "source": [
    "smart_stats.head()\n",
    "users.head()\n"
   ]
  },
  {
   "cell_type": "markdown",
   "id": "d3906ea0",
   "metadata": {},
   "source": [
    "### Гипотеза о различии средней выручки для пользователей из Москвы и других регионов\n",
    "\n",
    "Предположительно, средняя выручка отличается для пользователей из Москвы и из других регионов. \n",
    "\n",
    "Чтоб проверить это предположение, сначала сформируем датасеты по Москве и регионам отдельно для тарифов \"Smart\" и \"Ultra\". Разницу выручек будем проверять по каждому тарифу отдельно, т.к. может получиться, что в Москве и в регионах популярны разные тарифы, это исказит результаты."
   ]
  },
  {
   "cell_type": "code",
   "execution_count": 44,
   "id": "540ff3eb",
   "metadata": {},
   "outputs": [
    {
     "data": {
      "text/html": [
       "<div>\n",
       "<style scoped>\n",
       "    .dataframe tbody tr th:only-of-type {\n",
       "        vertical-align: middle;\n",
       "    }\n",
       "\n",
       "    .dataframe tbody tr th {\n",
       "        vertical-align: top;\n",
       "    }\n",
       "\n",
       "    .dataframe thead th {\n",
       "        text-align: right;\n",
       "    }\n",
       "</style>\n",
       "<table border=\"1\" class=\"dataframe\">\n",
       "  <thead>\n",
       "    <tr style=\"text-align: right;\">\n",
       "      <th></th>\n",
       "      <th>user_id</th>\n",
       "      <th>month</th>\n",
       "      <th>minutes_sum</th>\n",
       "      <th>calls_count</th>\n",
       "      <th>messages_count</th>\n",
       "      <th>mb_used</th>\n",
       "      <th>tariff</th>\n",
       "      <th>amount_to_pay</th>\n",
       "      <th>city</th>\n",
       "    </tr>\n",
       "  </thead>\n",
       "  <tbody>\n",
       "    <tr>\n",
       "      <td>0</td>\n",
       "      <td>1000</td>\n",
       "      <td>5</td>\n",
       "      <td>159.00</td>\n",
       "      <td>22.00</td>\n",
       "      <td>22.00</td>\n",
       "      <td>2,253.49</td>\n",
       "      <td>ultra</td>\n",
       "      <td>1,950.00</td>\n",
       "      <td>Краснодар</td>\n",
       "    </tr>\n",
       "    <tr>\n",
       "      <td>1</td>\n",
       "      <td>1000</td>\n",
       "      <td>6</td>\n",
       "      <td>172.00</td>\n",
       "      <td>43.00</td>\n",
       "      <td>60.00</td>\n",
       "      <td>23,233.77</td>\n",
       "      <td>ultra</td>\n",
       "      <td>1,950.00</td>\n",
       "      <td>Краснодар</td>\n",
       "    </tr>\n",
       "    <tr>\n",
       "      <td>2</td>\n",
       "      <td>1000</td>\n",
       "      <td>7</td>\n",
       "      <td>340.00</td>\n",
       "      <td>47.00</td>\n",
       "      <td>75.00</td>\n",
       "      <td>14,003.64</td>\n",
       "      <td>ultra</td>\n",
       "      <td>1,950.00</td>\n",
       "      <td>Краснодар</td>\n",
       "    </tr>\n",
       "    <tr>\n",
       "      <td>3</td>\n",
       "      <td>1000</td>\n",
       "      <td>8</td>\n",
       "      <td>408.00</td>\n",
       "      <td>52.00</td>\n",
       "      <td>81.00</td>\n",
       "      <td>14,055.93</td>\n",
       "      <td>ultra</td>\n",
       "      <td>1,950.00</td>\n",
       "      <td>Краснодар</td>\n",
       "    </tr>\n",
       "    <tr>\n",
       "      <td>4</td>\n",
       "      <td>1000</td>\n",
       "      <td>9</td>\n",
       "      <td>466.00</td>\n",
       "      <td>58.00</td>\n",
       "      <td>57.00</td>\n",
       "      <td>14,568.91</td>\n",
       "      <td>ultra</td>\n",
       "      <td>1,950.00</td>\n",
       "      <td>Краснодар</td>\n",
       "    </tr>\n",
       "  </tbody>\n",
       "</table>\n",
       "</div>"
      ],
      "text/plain": [
       "   user_id  month  minutes_sum  calls_count  messages_count   mb_used tariff  \\\n",
       "0     1000      5       159.00        22.00           22.00  2,253.49  ultra   \n",
       "1     1000      6       172.00        43.00           60.00 23,233.77  ultra   \n",
       "2     1000      7       340.00        47.00           75.00 14,003.64  ultra   \n",
       "3     1000      8       408.00        52.00           81.00 14,055.93  ultra   \n",
       "4     1000      9       466.00        58.00           57.00 14,568.91  ultra   \n",
       "\n",
       "   amount_to_pay       city  \n",
       "0       1,950.00  Краснодар  \n",
       "1       1,950.00  Краснодар  \n",
       "2       1,950.00  Краснодар  \n",
       "3       1,950.00  Краснодар  \n",
       "4       1,950.00  Краснодар  "
      ]
     },
     "execution_count": 44,
     "metadata": {},
     "output_type": "execute_result"
    }
   ],
   "source": [
    "# сначала добавим в датасет `user_stats` информацию о городах, \n",
    "# затем на его основе сформируем датасеты для проверки\n",
    "user_stats = user_stats.merge(users.loc[:, ['user_id', 'city']], on='user_id', how='inner')\n",
    "user_stats.head()"
   ]
  },
  {
   "cell_type": "markdown",
   "id": "35a3dc09",
   "metadata": {},
   "source": [
    "#### Гипотеза о различии выручки для Москвы и регионов по тарифу \"Smart\"\n",
    "\n",
    "На основании датасета `user_stats` c добавленными городами сформированы два датасета по пользователям тарифа \"Smart\" из Москвы и регионов. \n",
    "\n",
    "Из описания данных видно, что поведение пользователей в целом похоже, средние и медианные значения по использованным смс, минутам и Мб трафика отличаются мало. Однако для регионов эти значения несколько больше, чем для Москвы. Выше и среднее значение выручки с одного пользователя из регионов - 1300.57 рублей против 1239.36 рублей для Москвы.\n",
    "\n",
    "Проверим гипотезу о том, что средняя выручка по тарифу \"Smart\" для регионов выше, чем для Москвы. Сформулируем нулевую гипотезу:\n",
    "\n",
    "**H0**: средняя выручка для пользователей тарифа \"Smart\" одинакова для Москвы и регионов.\n",
    "\n",
    "Сформулируем альтернативную одностороннюю гипотезу:\n",
    "\n",
    "**H1**: средняя выручка для пользователей тарифа \"Smart\" в регионах выше, чем в Москве.\n",
    "\n",
    "Для проверки гипотезы используем t-тест для двух независимых генеральных совокупностей. Будем использовать метод `scipy.stats.ttest_ind()` с параметром `equal_var=False`: так нужно сделать, потому что хотя выборки большие, их размеры не равны.\n",
    "\n",
    "Критический уровень значимости зададим 5%.\n",
    "\n",
    "**Вывод:**\n",
    "\n",
    "По результатам t-теста вероятность получить такое же или еще более далекое значение на выборках 0.077, это больше, чем критический уровень значимости. Значит, отвергнуть нулевую гипотезу о равенстве средних двух генеральных совокупностей - средних выручек по клиентам из Москвы и регионов - нельзя. Т.е. разница средних значений выборок по тарифам, скорей всего, случайна.\n"
   ]
  },
  {
   "cell_type": "code",
   "execution_count": 45,
   "id": "7ae0b0fd",
   "metadata": {},
   "outputs": [],
   "source": [
    "moscow_smart_stats = user_stats.query('tariff == \"smart\" and city == \"Москва\"')\n",
    "# moscow_smart_stats.head()\n",
    "regions_smart_stats = user_stats.query('tariff == \"smart\" and city != \"Москва\"')\n",
    "# regions_smart_stats.head()"
   ]
  },
  {
   "cell_type": "code",
   "execution_count": 46,
   "id": "9bafc4cc",
   "metadata": {
    "scrolled": true
   },
   "outputs": [
    {
     "data": {
      "text/html": [
       "<div>\n",
       "<style scoped>\n",
       "    .dataframe tbody tr th:only-of-type {\n",
       "        vertical-align: middle;\n",
       "    }\n",
       "\n",
       "    .dataframe tbody tr th {\n",
       "        vertical-align: top;\n",
       "    }\n",
       "\n",
       "    .dataframe thead th {\n",
       "        text-align: right;\n",
       "    }\n",
       "</style>\n",
       "<table border=\"1\" class=\"dataframe\">\n",
       "  <thead>\n",
       "    <tr style=\"text-align: right;\">\n",
       "      <th></th>\n",
       "      <th>minutes_sum</th>\n",
       "      <th>calls_count</th>\n",
       "      <th>messages_count</th>\n",
       "      <th>mb_used</th>\n",
       "      <th>amount_to_pay</th>\n",
       "    </tr>\n",
       "  </thead>\n",
       "  <tbody>\n",
       "    <tr>\n",
       "      <td>count</td>\n",
       "      <td>386.00</td>\n",
       "      <td>386.00</td>\n",
       "      <td>386.00</td>\n",
       "      <td>386.00</td>\n",
       "      <td>386.00</td>\n",
       "    </tr>\n",
       "    <tr>\n",
       "      <td>mean</td>\n",
       "      <td>417.48</td>\n",
       "      <td>58.24</td>\n",
       "      <td>27.77</td>\n",
       "      <td>16,018.11</td>\n",
       "      <td>1,239.36</td>\n",
       "    </tr>\n",
       "    <tr>\n",
       "      <td>std</td>\n",
       "      <td>177.40</td>\n",
       "      <td>24.15</td>\n",
       "      <td>25.96</td>\n",
       "      <td>5,611.90</td>\n",
       "      <td>753.45</td>\n",
       "    </tr>\n",
       "    <tr>\n",
       "      <td>min</td>\n",
       "      <td>12.00</td>\n",
       "      <td>2.00</td>\n",
       "      <td>0.00</td>\n",
       "      <td>372.56</td>\n",
       "      <td>550.00</td>\n",
       "    </tr>\n",
       "    <tr>\n",
       "      <td>25%</td>\n",
       "      <td>290.00</td>\n",
       "      <td>40.00</td>\n",
       "      <td>1.00</td>\n",
       "      <td>12,552.13</td>\n",
       "      <td>550.00</td>\n",
       "    </tr>\n",
       "    <tr>\n",
       "      <td>50%</td>\n",
       "      <td>408.00</td>\n",
       "      <td>57.50</td>\n",
       "      <td>25.00</td>\n",
       "      <td>16,150.33</td>\n",
       "      <td>1,007.50</td>\n",
       "    </tr>\n",
       "    <tr>\n",
       "      <td>75%</td>\n",
       "      <td>544.00</td>\n",
       "      <td>76.00</td>\n",
       "      <td>40.00</td>\n",
       "      <td>19,847.66</td>\n",
       "      <td>1,674.50</td>\n",
       "    </tr>\n",
       "    <tr>\n",
       "      <td>max</td>\n",
       "      <td>1,022.00</td>\n",
       "      <td>128.00</td>\n",
       "      <td>109.00</td>\n",
       "      <td>35,108.07</td>\n",
       "      <td>5,321.00</td>\n",
       "    </tr>\n",
       "  </tbody>\n",
       "</table>\n",
       "</div>"
      ],
      "text/plain": [
       "       minutes_sum  calls_count  messages_count   mb_used  amount_to_pay\n",
       "count       386.00       386.00          386.00    386.00         386.00\n",
       "mean        417.48        58.24           27.77 16,018.11       1,239.36\n",
       "std         177.40        24.15           25.96  5,611.90         753.45\n",
       "min          12.00         2.00            0.00    372.56         550.00\n",
       "25%         290.00        40.00            1.00 12,552.13         550.00\n",
       "50%         408.00        57.50           25.00 16,150.33       1,007.50\n",
       "75%         544.00        76.00           40.00 19,847.66       1,674.50\n",
       "max       1,022.00       128.00          109.00 35,108.07       5,321.00"
      ]
     },
     "execution_count": 46,
     "metadata": {},
     "output_type": "execute_result"
    }
   ],
   "source": [
    "moscow_smart_stats.loc[:, ['minutes_sum', 'calls_count', 'messages_count', 'mb_used', 'amount_to_pay']].describe()"
   ]
  },
  {
   "cell_type": "code",
   "execution_count": 47,
   "id": "46e9de6f",
   "metadata": {},
   "outputs": [
    {
     "data": {
      "text/html": [
       "<div>\n",
       "<style scoped>\n",
       "    .dataframe tbody tr th:only-of-type {\n",
       "        vertical-align: middle;\n",
       "    }\n",
       "\n",
       "    .dataframe tbody tr th {\n",
       "        vertical-align: top;\n",
       "    }\n",
       "\n",
       "    .dataframe thead th {\n",
       "        text-align: right;\n",
       "    }\n",
       "</style>\n",
       "<table border=\"1\" class=\"dataframe\">\n",
       "  <thead>\n",
       "    <tr style=\"text-align: right;\">\n",
       "      <th></th>\n",
       "      <th>minutes_sum</th>\n",
       "      <th>calls_count</th>\n",
       "      <th>messages_count</th>\n",
       "      <th>mb_used</th>\n",
       "      <th>amount_to_pay</th>\n",
       "    </tr>\n",
       "  </thead>\n",
       "  <tbody>\n",
       "    <tr>\n",
       "      <td>count</td>\n",
       "      <td>1,843.00</td>\n",
       "      <td>1,843.00</td>\n",
       "      <td>1,843.00</td>\n",
       "      <td>1,843.00</td>\n",
       "      <td>1,843.00</td>\n",
       "    </tr>\n",
       "    <tr>\n",
       "      <td>mean</td>\n",
       "      <td>418.03</td>\n",
       "      <td>58.51</td>\n",
       "      <td>34.56</td>\n",
       "      <td>16,248.24</td>\n",
       "      <td>1,300.57</td>\n",
       "    </tr>\n",
       "    <tr>\n",
       "      <td>std</td>\n",
       "      <td>192.95</td>\n",
       "      <td>26.30</td>\n",
       "      <td>28.55</td>\n",
       "      <td>5,923.90</td>\n",
       "      <td>831.17</td>\n",
       "    </tr>\n",
       "    <tr>\n",
       "      <td>min</td>\n",
       "      <td>0.00</td>\n",
       "      <td>0.00</td>\n",
       "      <td>0.00</td>\n",
       "      <td>0.00</td>\n",
       "      <td>550.00</td>\n",
       "    </tr>\n",
       "    <tr>\n",
       "      <td>25%</td>\n",
       "      <td>281.50</td>\n",
       "      <td>40.00</td>\n",
       "      <td>11.00</td>\n",
       "      <td>12,706.51</td>\n",
       "      <td>553.00</td>\n",
       "    </tr>\n",
       "    <tr>\n",
       "      <td>50%</td>\n",
       "      <td>427.00</td>\n",
       "      <td>60.00</td>\n",
       "      <td>29.00</td>\n",
       "      <td>16,567.78</td>\n",
       "      <td>1,039.00</td>\n",
       "    </tr>\n",
       "    <tr>\n",
       "      <td>75%</td>\n",
       "      <td>545.50</td>\n",
       "      <td>76.00</td>\n",
       "      <td>52.00</td>\n",
       "      <td>20,066.03</td>\n",
       "      <td>1,750.00</td>\n",
       "    </tr>\n",
       "    <tr>\n",
       "      <td>max</td>\n",
       "      <td>1,435.00</td>\n",
       "      <td>198.00</td>\n",
       "      <td>143.00</td>\n",
       "      <td>38,552.45</td>\n",
       "      <td>6,770.00</td>\n",
       "    </tr>\n",
       "  </tbody>\n",
       "</table>\n",
       "</div>"
      ],
      "text/plain": [
       "       minutes_sum  calls_count  messages_count   mb_used  amount_to_pay\n",
       "count     1,843.00     1,843.00        1,843.00  1,843.00       1,843.00\n",
       "mean        418.03        58.51           34.56 16,248.24       1,300.57\n",
       "std         192.95        26.30           28.55  5,923.90         831.17\n",
       "min           0.00         0.00            0.00      0.00         550.00\n",
       "25%         281.50        40.00           11.00 12,706.51         553.00\n",
       "50%         427.00        60.00           29.00 16,567.78       1,039.00\n",
       "75%         545.50        76.00           52.00 20,066.03       1,750.00\n",
       "max       1,435.00       198.00          143.00 38,552.45       6,770.00"
      ]
     },
     "execution_count": 47,
     "metadata": {},
     "output_type": "execute_result"
    }
   ],
   "source": [
    "regions_smart_stats.loc[:, ['minutes_sum', 'calls_count', 'messages_count', 'mb_used', 'amount_to_pay']].describe()"
   ]
  },
  {
   "cell_type": "code",
   "execution_count": 48,
   "id": "0dd3fad1",
   "metadata": {},
   "outputs": [
    {
     "name": "stdout",
     "output_type": "stream",
     "text": [
      "p-значение:  0.07734171588188334\n",
      "Не получилось отвергнуть нулевую гипотезу\n"
     ]
    }
   ],
   "source": [
    "# проверка гипотезы:\n",
    "alpha = 0.05\n",
    "results = st.ttest_ind(\n",
    "    regions_smart_stats['amount_to_pay'], \n",
    "    moscow_smart_stats['amount_to_pay'],\n",
    "    equal_var=False)\n",
    "\n",
    "print('p-значение: ', str(results.pvalue / 2))\n",
    "\n",
    "if (results.pvalue / 2) < alpha:\n",
    "    print(\"Отвергаем нулевую гипотезу\")\n",
    "else:\n",
    "    print(\"Не получилось отвергнуть нулевую гипотезу\") \n"
   ]
  },
  {
   "cell_type": "markdown",
   "id": "6566f63d",
   "metadata": {},
   "source": [
    "### Гипотеза о различии выручки по Москве и регионам для тарифа \"Ultra\"\n",
    "\n",
    "На основании датасета user_stats c добавленными городами сформированы два датасета по пользователям тарифа \"Ultra\" из Москвы и регионов.\n",
    "\n",
    "Из описания данных видно, что поведение пользователей в целом похоже, средние и медианные значения по использованным смс, минутам и Мб трафика отличаются мало. Для регионов эти значения несколько ниже, чем для Москвы, но подавляющее большинство значений не выходит за пределы лимитов по тарифу, соответственно не влияет на выручку с клиента. \n",
    "\n",
    "Среднее значение выручки с одного пользователя из регионов ниже - 2069.01 рублей против 2074.00 рублей для Москвы.\n",
    "\n",
    "Проверим гипотезу о том, что средняя выручка по тарифу \"Ultra\" для регионов ниже, чем для Москвы. Сформулируем нулевую гипотезу:\n",
    "\n",
    "**H0**: средняя выручка для пользователей тарифа \"Ultra\" одинакова для Москвы и регионов.\n",
    "\n",
    "Сформулируем альтернативную одностороннюю гипотезу:\n",
    "\n",
    "**H1**: средняя выручка для пользователей тарифа \"Ultra\" в регионах ниже, чем в Москве.\n",
    "\n",
    "Для проверки гипотезы используем t-тест для двух независимых генеральных совокупностей. Будем использовать метод `scipy.stats.ttest_ind()` с параметром `equal_var=False`: так нужно сделать, потому что хотя выборки большие, их размеры не равны.\n",
    "\n",
    "Критический уровень значимости зададим 5%.\n",
    "\n",
    "**Вывод**:\n",
    "\n",
    "По результатам t-теста вероятность получить такое же или еще более далекое значение на выборках 0.427, это значительно больше, чем критический уровень значимости. Значит, отвергнуть нулевую гипотезу о равенстве средних двух генеральных совокупностей - нельзя. Т.е. разница средних значений выборок по тарифам, скорей всего, случайна."
   ]
  },
  {
   "cell_type": "code",
   "execution_count": 49,
   "id": "c25974dd",
   "metadata": {},
   "outputs": [],
   "source": [
    "moscow_ultra_stats = user_stats.query('tariff == \"ultra\" and city == \"Москва\"')\n",
    "# moscow_smart_stats.head()\n",
    "regions_ultra_stats = user_stats.query('tariff == \"ultra\" and city != \"Москва\"')\n",
    "# regions_smart_stats.head()"
   ]
  },
  {
   "cell_type": "code",
   "execution_count": 50,
   "id": "26bed863",
   "metadata": {},
   "outputs": [
    {
     "data": {
      "text/html": [
       "<div>\n",
       "<style scoped>\n",
       "    .dataframe tbody tr th:only-of-type {\n",
       "        vertical-align: middle;\n",
       "    }\n",
       "\n",
       "    .dataframe tbody tr th {\n",
       "        vertical-align: top;\n",
       "    }\n",
       "\n",
       "    .dataframe thead th {\n",
       "        text-align: right;\n",
       "    }\n",
       "</style>\n",
       "<table border=\"1\" class=\"dataframe\">\n",
       "  <thead>\n",
       "    <tr style=\"text-align: right;\">\n",
       "      <th></th>\n",
       "      <th>minutes_sum</th>\n",
       "      <th>calls_count</th>\n",
       "      <th>messages_count</th>\n",
       "      <th>mb_used</th>\n",
       "      <th>amount_to_pay</th>\n",
       "    </tr>\n",
       "  </thead>\n",
       "  <tbody>\n",
       "    <tr>\n",
       "      <td>count</td>\n",
       "      <td>225.00</td>\n",
       "      <td>225.00</td>\n",
       "      <td>225.00</td>\n",
       "      <td>225.00</td>\n",
       "      <td>225.00</td>\n",
       "    </tr>\n",
       "    <tr>\n",
       "      <td>mean</td>\n",
       "      <td>557.79</td>\n",
       "      <td>77.79</td>\n",
       "      <td>55.21</td>\n",
       "      <td>21,301.94</td>\n",
       "      <td>2,074.00</td>\n",
       "    </tr>\n",
       "    <tr>\n",
       "      <td>std</td>\n",
       "      <td>303.79</td>\n",
       "      <td>41.88</td>\n",
       "      <td>46.09</td>\n",
       "      <td>9,785.21</td>\n",
       "      <td>350.10</td>\n",
       "    </tr>\n",
       "    <tr>\n",
       "      <td>min</td>\n",
       "      <td>0.00</td>\n",
       "      <td>0.00</td>\n",
       "      <td>0.00</td>\n",
       "      <td>365.09</td>\n",
       "      <td>1,950.00</td>\n",
       "    </tr>\n",
       "    <tr>\n",
       "      <td>25%</td>\n",
       "      <td>356.00</td>\n",
       "      <td>50.00</td>\n",
       "      <td>20.00</td>\n",
       "      <td>13,752.18</td>\n",
       "      <td>1,950.00</td>\n",
       "    </tr>\n",
       "    <tr>\n",
       "      <td>50%</td>\n",
       "      <td>553.00</td>\n",
       "      <td>77.00</td>\n",
       "      <td>43.00</td>\n",
       "      <td>21,470.29</td>\n",
       "      <td>1,950.00</td>\n",
       "    </tr>\n",
       "    <tr>\n",
       "      <td>75%</td>\n",
       "      <td>762.00</td>\n",
       "      <td>105.00</td>\n",
       "      <td>83.00</td>\n",
       "      <td>28,677.68</td>\n",
       "      <td>1,950.00</td>\n",
       "    </tr>\n",
       "    <tr>\n",
       "      <td>max</td>\n",
       "      <td>1,321.00</td>\n",
       "      <td>188.00</td>\n",
       "      <td>191.00</td>\n",
       "      <td>44,296.86</td>\n",
       "      <td>4,050.00</td>\n",
       "    </tr>\n",
       "  </tbody>\n",
       "</table>\n",
       "</div>"
      ],
      "text/plain": [
       "       minutes_sum  calls_count  messages_count   mb_used  amount_to_pay\n",
       "count       225.00       225.00          225.00    225.00         225.00\n",
       "mean        557.79        77.79           55.21 21,301.94       2,074.00\n",
       "std         303.79        41.88           46.09  9,785.21         350.10\n",
       "min           0.00         0.00            0.00    365.09       1,950.00\n",
       "25%         356.00        50.00           20.00 13,752.18       1,950.00\n",
       "50%         553.00        77.00           43.00 21,470.29       1,950.00\n",
       "75%         762.00       105.00           83.00 28,677.68       1,950.00\n",
       "max       1,321.00       188.00          191.00 44,296.86       4,050.00"
      ]
     },
     "execution_count": 50,
     "metadata": {},
     "output_type": "execute_result"
    }
   ],
   "source": [
    "moscow_ultra_stats.loc[:, ['minutes_sum', 'calls_count', 'messages_count', 'mb_used', 'amount_to_pay']].describe()\n"
   ]
  },
  {
   "cell_type": "code",
   "execution_count": 51,
   "id": "9b13381f",
   "metadata": {},
   "outputs": [
    {
     "data": {
      "text/html": [
       "<div>\n",
       "<style scoped>\n",
       "    .dataframe tbody tr th:only-of-type {\n",
       "        vertical-align: middle;\n",
       "    }\n",
       "\n",
       "    .dataframe tbody tr th {\n",
       "        vertical-align: top;\n",
       "    }\n",
       "\n",
       "    .dataframe thead th {\n",
       "        text-align: right;\n",
       "    }\n",
       "</style>\n",
       "<table border=\"1\" class=\"dataframe\">\n",
       "  <thead>\n",
       "    <tr style=\"text-align: right;\">\n",
       "      <th></th>\n",
       "      <th>minutes_sum</th>\n",
       "      <th>calls_count</th>\n",
       "      <th>messages_count</th>\n",
       "      <th>mb_used</th>\n",
       "      <th>amount_to_pay</th>\n",
       "    </tr>\n",
       "  </thead>\n",
       "  <tbody>\n",
       "    <tr>\n",
       "      <td>count</td>\n",
       "      <td>760.00</td>\n",
       "      <td>760.00</td>\n",
       "      <td>760.00</td>\n",
       "      <td>760.00</td>\n",
       "      <td>760.00</td>\n",
       "    </tr>\n",
       "    <tr>\n",
       "      <td>mean</td>\n",
       "      <td>517.40</td>\n",
       "      <td>72.09</td>\n",
       "      <td>47.63</td>\n",
       "      <td>18,926.10</td>\n",
       "      <td>2,069.01</td>\n",
       "    </tr>\n",
       "    <tr>\n",
       "      <td>std</td>\n",
       "      <td>321.20</td>\n",
       "      <td>44.45</td>\n",
       "      <td>48.19</td>\n",
       "      <td>10,117.56</td>\n",
       "      <td>383.78</td>\n",
       "    </tr>\n",
       "    <tr>\n",
       "      <td>min</td>\n",
       "      <td>0.00</td>\n",
       "      <td>0.00</td>\n",
       "      <td>0.00</td>\n",
       "      <td>0.00</td>\n",
       "      <td>1,950.00</td>\n",
       "    </tr>\n",
       "    <tr>\n",
       "      <td>25%</td>\n",
       "      <td>272.75</td>\n",
       "      <td>39.00</td>\n",
       "      <td>4.00</td>\n",
       "      <td>11,486.30</td>\n",
       "      <td>1,950.00</td>\n",
       "    </tr>\n",
       "    <tr>\n",
       "      <td>50%</td>\n",
       "      <td>500.50</td>\n",
       "      <td>70.00</td>\n",
       "      <td>35.00</td>\n",
       "      <td>18,459.78</td>\n",
       "      <td>1,950.00</td>\n",
       "    </tr>\n",
       "    <tr>\n",
       "      <td>75%</td>\n",
       "      <td>746.25</td>\n",
       "      <td>102.25</td>\n",
       "      <td>78.00</td>\n",
       "      <td>25,793.17</td>\n",
       "      <td>1,950.00</td>\n",
       "    </tr>\n",
       "    <tr>\n",
       "      <td>max</td>\n",
       "      <td>1,673.00</td>\n",
       "      <td>244.00</td>\n",
       "      <td>224.00</td>\n",
       "      <td>49,745.69</td>\n",
       "      <td>4,800.00</td>\n",
       "    </tr>\n",
       "  </tbody>\n",
       "</table>\n",
       "</div>"
      ],
      "text/plain": [
       "       minutes_sum  calls_count  messages_count   mb_used  amount_to_pay\n",
       "count       760.00       760.00          760.00    760.00         760.00\n",
       "mean        517.40        72.09           47.63 18,926.10       2,069.01\n",
       "std         321.20        44.45           48.19 10,117.56         383.78\n",
       "min           0.00         0.00            0.00      0.00       1,950.00\n",
       "25%         272.75        39.00            4.00 11,486.30       1,950.00\n",
       "50%         500.50        70.00           35.00 18,459.78       1,950.00\n",
       "75%         746.25       102.25           78.00 25,793.17       1,950.00\n",
       "max       1,673.00       244.00          224.00 49,745.69       4,800.00"
      ]
     },
     "execution_count": 51,
     "metadata": {},
     "output_type": "execute_result"
    }
   ],
   "source": [
    "regions_ultra_stats.loc[:, ['minutes_sum', 'calls_count', 'messages_count', 'mb_used', 'amount_to_pay']].describe()"
   ]
  },
  {
   "cell_type": "code",
   "execution_count": 52,
   "id": "2bec7b0c",
   "metadata": {},
   "outputs": [
    {
     "name": "stdout",
     "output_type": "stream",
     "text": [
      "p-значение:  0.4272498765344952\n",
      "Не получилось отвергнуть нулевую гипотезу\n"
     ]
    }
   ],
   "source": [
    "# проверка гипотезы:\n",
    "alpha = 0.05\n",
    "results = st.ttest_ind(\n",
    "    regions_ultra_stats['amount_to_pay'], \n",
    "    moscow_ultra_stats['amount_to_pay'],\n",
    "    equal_var=False)\n",
    "\n",
    "print('p-значение: ', str(results.pvalue / 2))\n",
    "\n",
    "if (results.pvalue / 2) < alpha:\n",
    "    print(\"Отвергаем нулевую гипотезу\")\n",
    "else:\n",
    "    print(\"Не получилось отвергнуть нулевую гипотезу\") \n"
   ]
  },
  {
   "cell_type": "markdown",
   "id": "3bbd2bf7",
   "metadata": {},
   "source": [
    "## Общий вывод\n",
    "### Описание проекта\n",
    "\n",
    "Проект представляет собой исследование поведения клиентов федерального оператора сотовой связи. Заказчик исследования - компания «Мегалайн». Компания предлагает клиентам два тарифных плана: \"Smart\" и \"Ultra\". Нужно определить,  какой тариф приносит больше денег, чтобы скорректировать рекламный бюджет.\n",
    "\n",
    "Анализ проведен на выборке данных по 500 клиентам опсоса за 2018 год. \n",
    "### Подготовка данных\n",
    "\n",
    "Исходные данные импортированы из пяти исходных файлов, проверены на наличие явных дубликатов, ошибки, пустые значения. Дубликатов и ошибок не выявлено. Для дат тип данных был изменен на `DateTime`. \n",
    "\n",
    "На основании исходных данных сформирован датасет `user_stats` со сводными данными, сгруппированными по пользователям и месяцам. В датасет добавлена колонка `amount_to_pay` с рассчитанной фактической выручкой с клиента за месяц. Анализ проведен на этом датасете.\n",
    "\n",
    "### Анализ данных: описание поведения клиентов\n",
    "#### Поведение пользователей тарифа \"Smart\"\n",
    "\n",
    "В среднем пользователи тарифа \"Smart\" в 2018 году использовали 417.9 минут, 33.4 сообщения и 16208.4 Мб интернет-трафика. Медианные значения - 422 минуты, 28 сообщений, 16506.8 Мб трафика. Лимиты по тарифу - 500 минут, 50 сообщений, 15360 Мб.\n",
    "\n",
    "Обычно пользователи не укладываются в лимиты тарифа и платят за дополнительные услуги.\n",
    "\n",
    "Обычно пользователям не хватает интернет трафика, медианное значение используемого трафика (16506.84 Мб) уже выходит за лимиты тарифа (15360 Мб) - это означает, что даже половина пользователей тарифа не укладывается в лимит. Если лимит повысить, это будет выгодно пользователям, но не будет выгодно \"Мегалайну\".\n",
    "\n",
    "Больше половины пользователей укладывается в лимит по минутам разговора, хотя начиная с третьего квартиля пользователи уже точно не укладываются в лимит. В лимит по смс укладывается чуть меньше 75% пользователей (третий квартиль проходит по границе - 51 сообщение).\n",
    "\n",
    "Несмотря на превышение лимитов по тарифу, средний (1289.97 рублей) и медианный (1023 рубля) сбор с пользователей тарифа \"Smart\" все равно ниже, чем фиксированная стоимость тарифа \"Ultra\" (1950 рублей). Т.е. даже с учетом выхода за лимиты основной массе пользователей не выгодно переходить на более дорогой тариф.\n",
    "\n",
    "#### Поведение пользователей тарифа \"Ultra\"\n",
    "\n",
    "В среднем пользователи тарифа \"Ultra\" в 2018 году использовали 526.6 минут, 49.4 сообщения и 19468.8 Мб интернет-трафика. Медианные значения - 518 минут, 38 сообщений, 19308 Мб трафика. Лимиты по тарифу - 3000 минут, 1000 сообщений, 30720 Мб.\n",
    "\n",
    "В большей части случаев пользователи укладываются в лимиты тарифа. По звонкам и сообщениям ни один пользователь даже не приблизился к лимиту (максимальное количество израсходованных минут - 1673 из 3000 доступных; максимальное количество сообщений - 224 из 1000 доступных). Медианные значения использованных минут разговора и сообщений выше, чем у пользователей тарифа \"Smart\" (518 против 422 минут (+22,7%), 38 сообщений против 28 (+35%)).\n",
    "\n",
    "Обычно пользователи тарифа \"Ultra\" укладываются и в лимиты по интернет трафику. Медианное значение используемого трафика 19308.01 Мб; третий квартиль проходит по границе 26837.69 при лимите 30720 Мб.\n",
    "\n",
    "Выход за пределы лимита был в 134 случаев из 985 (13.6%), соответственно, в этих случаях месячные расходы пользователей превысили фиксированную плату.\n",
    "\n",
    "За счет этих пользователей среднее значение платежа по тарифу выросло до 2070.15 рублей, при том что медианное значение и значение третьего квартиля - 1950 рублей, то есть фиксированная плата по тарифу. Получается, что оплата сверх фиксированной суммы по тарифу \"Ultra\" зафиксирована в 13.6% случаев.\n",
    "\n",
    "### Проверка гипотез\n",
    "\n",
    "В рамках анализа были проверены две гипотезы: гипотеза о различии средней выручки по тарифам и гипотеза о различии средней выручки для Москвы и регионов.\n",
    "\n",
    "#### Гипотеза о различии средней выручки тарифов \"Smart\" и \"Ultra\"\n",
    "\n",
    "На основании выборки, среднее месячное значение выручки с одного клиента по тарифу \"Smart\" - 1289.97 рублей, по тарифу \"Ultra\" - 2070.15 рублей. Чтобы определить, является это различие случайным или оно действительно существует для генеральной совокупности, была проверена гипотеза о различии средней выручки с пользователей тарифов \"Smart\" и \"Ultra\". \n",
    "\n",
    "**Нулевая гипотеза (H0)**:\n",
    "\n",
    "средняя выручка с пользователей тарифа \"Smart\" равна средней выручке с пользователей тарифа \"Ultra\".\n",
    "\n",
    "**Альтернативная гипотеза (H1)**:\n",
    "\n",
    "средняя выручка с пользователей тарифа \"Smart\" не равна средней выручке с пользователей тарифа \"Ultra\".\n",
    "\n",
    "Для проверки гипотезы был использован t-тест для сравнения средних двух независимых генеральных совокупностей по выборкам из них. Это тест для распределения Стьюдента, но при большом количестве степеней свободы его результат близок к результату проверки для нормального распределения, поэтому его использование допустимо.\n",
    "\n",
    "Использовался метод `scipy.stats.ttest_ind()` c параметром `equal_var=False`, поcкольку размеры выборок не равны (2229 элементов в выборке по тарифу \"Smart\" и 985 элементов в выборке по тарифу \"Ultra\").\n",
    "\n",
    "Критический уровень значимости был задан 5%.\n",
    "\n",
    "**Вывод**:\n",
    "\n",
    "По результатам t-теста вероятность получить такое же или еще более далекое значение на выборках из генеральных совокупностей 4.2606313931076085e-250, это значительно меньше, чем критический уровень значимости. Значит, нулевая гипотеза о равенстве средних двух генеральных совокупностей должна быть отвергнута. Т.е. разница средних значений выборок по тарифам \"Smart\" и \"Ultra\", скорей всего, не случайна, она существует и для генеральных совокупностей.\n",
    "\n",
    "Таким образом, нужно сделать вывод о том, что тариф \"Ultra\" приносит оператору больше денег с одного клиента.\n",
    "\n",
    "#### Гипотеза о различии средней выручки для пользователей из Москвы и других регионов\n",
    "\n",
    "В ходе анализа было проверено предположение о том, что средняя выручка отличается для пользователей из Москвы и из других регионов. Гипотеза выручек проверена по каждому тарифу отдельно, т.к. если в Москве и в регионах популярны разные тарифы, это могло бы исказить результаты.\n",
    "\n",
    "Для анализа гипотез в датасет `user_stats` была добавлена информация о городах пользователей. \n",
    "\n",
    "##### Гипотеза о различии выручки по Москве и регионам для тарифа \"Smart\"\n",
    "\n",
    "На основании датасета `user_stats` c добавленными городами сформированы два датасета по пользователям тарифа \"Smart\" из Москвы и регионов.\n",
    "\n",
    "Из описания данных видно, что поведение пользователей в целом похоже, средние и медианные значения по использованным смс, минутам и Мб трафика отличаются мало. Однако для регионов эти значения несколько больше, чем для Москвы. Выше и среднее месячное значение выручки с одного пользователя из регионов - 1300.57 рублей против 1239.36 рублей для Москвы.\n",
    "\n",
    "Чтобы определить, является ли это различие случайным, была проверана гипотеза о том, что средняя выручка по тарифу \"Smart\" для регионов выше, чем для Москвы.\n",
    "\n",
    "**Нулевая гипотеза (H0)**: \n",
    "\n",
    "средняя выручка для пользователей тарифа \"Smart\" одинакова для Москвы и регионов.\n",
    "\n",
    "**Альтернативная односторонняя гипотеза (H1)**: \n",
    "\n",
    "средняя выручка для пользователей тарифа \"Smart\" в регионах выше, чем в Москве.\n",
    "\n",
    "Для проверки гипотезы использовался t-тест для двух независимых генеральных совокупностей. Был использован метод `scipy.stats.ttest_ind()` с параметром `equal_var=False`, потому что хотя выборки большие, их размеры не равны.\n",
    "\n",
    "Критический уровень значимости - 5%.\n",
    "\n",
    "**Вывод**:\n",
    "\n",
    "По результатам t-теста вероятность получить такое же или еще более далекое значение на выборках 0.077, это больше, чем критический уровень значимости. Значит, отвергнуть нулевую гипотезу о равенстве средних двух генеральных совокупностей - средних выручек по клиентам из Москвы и регионов по тарифу \"Smart\" - нельзя. Т.е. разница средних значений выборок по Москве и регионам по тарифу \"Smart\", скорей всего, случайна.\n",
    "\n",
    "##### Гипотеза о различии выручки по Москве и регионам для тарифа \"Ultra\"\n",
    "\n",
    "На основании датасета `user_stats` c добавленными городами сформированы два датасета по пользователям тарифа \"Ultra\" из Москвы и регионов.\n",
    "\n",
    "Из описания данных видно, что поведение пользователей в целом похоже, средние и медианные значения по использованным смс, минутам и Мб трафика отличаются мало. Для регионов эти значения несколько ниже, чем для Москвы, но подавляющее большинство значений не выходит за пределы лимитов по тарифу, соответственно не влияет на выручку с клиента.\n",
    "\n",
    "Среднее значение выручки с одного пользователя из регионов ниже - 2069.01 рублей против 2074.00 рублей для Москвы.\n",
    "\n",
    "Чтобы ответить на вопрос о случайности этого отличия, была проверена гипотеза о том, что средняя выручка по тарифу \"Ultra\" для регионов ниже, чем для Москвы. \n",
    "\n",
    "**Нулевая гипотеза (H0)**: средняя выручка для пользователей тарифа \"Ultra\" одинакова для Москвы и регионов.\n",
    "\n",
    "**Альтернативная односторонняя гипотеза (H1)**: средняя выручка для пользователей тарифа \"Ultra\" в регионах ниже, чем в Москве.\n",
    "\n",
    "Для проверки гипотезы использовался t-тест для двух независимых генеральных совокупностей. Был использован метод `scipy.stats.ttest_ind()` с параметром `equal_var=False`, потому что хотя выборки большие, их размеры не равны.\n",
    "\n",
    "Критический уровень значимости - 5%.\n",
    "\n",
    "**Вывод**:\n",
    "\n",
    "По результатам t-теста вероятность получить такое же или еще более далекое значение на выборках 0.427, это значительно больше, чем критический уровень значимости. Значит, отвергнуть нулевую гипотезу о равенстве средних двух генеральных совокупностей - нельзя. Т.е. разница средних значений выборок по Москве и регионам по тарифy \"Ultra\", скорей всего, случайна.\n",
    "\n",
    "## Заключение\n",
    "\n",
    "По итогам анализа можно заключить следующее. Средняя выручка с клиента по тарифу \"Ultra\" выше, чем по тарифу \"Smart\". Разницы в средней месячной выручке по Москве и регионам не выявлено. Для компании \"Мегалайн\" более выгоден тариф \"Ultra\". "
   ]
  }
 ],
 "metadata": {
  "ExecuteTimeLog": [
   {
    "duration": 1265,
    "start_time": "2021-12-12T17:00:17.936Z"
   },
   {
    "duration": 44,
    "start_time": "2021-12-12T17:00:19.205Z"
   },
   {
    "duration": 29,
    "start_time": "2021-12-12T17:00:19.252Z"
   },
   {
    "duration": 44,
    "start_time": "2021-12-12T17:00:19.284Z"
   },
   {
    "duration": 17,
    "start_time": "2021-12-12T17:00:19.330Z"
   },
   {
    "duration": 18,
    "start_time": "2021-12-12T17:00:19.349Z"
   },
   {
    "duration": 134,
    "start_time": "2021-12-12T17:00:19.370Z"
   },
   {
    "duration": 113,
    "start_time": "2021-12-12T17:00:19.516Z"
   },
   {
    "duration": 279,
    "start_time": "2021-12-12T17:00:19.632Z"
   },
   {
    "duration": 150,
    "start_time": "2021-12-12T17:00:19.916Z"
   },
   {
    "duration": 92,
    "start_time": "2021-12-12T17:00:20.069Z"
   },
   {
    "duration": 85,
    "start_time": "2021-12-12T17:00:20.163Z"
   },
   {
    "duration": 44,
    "start_time": "2021-12-12T17:00:20.250Z"
   },
   {
    "duration": 19,
    "start_time": "2021-12-12T17:00:20.317Z"
   },
   {
    "duration": 13,
    "start_time": "2021-12-12T17:00:20.339Z"
   },
   {
    "duration": 24,
    "start_time": "2021-12-12T17:00:20.355Z"
   },
   {
    "duration": 45,
    "start_time": "2021-12-12T17:00:20.381Z"
   },
   {
    "duration": 7,
    "start_time": "2021-12-12T17:00:20.428Z"
   },
   {
    "duration": 21,
    "start_time": "2021-12-12T17:00:20.438Z"
   },
   {
    "duration": 14737,
    "start_time": "2021-12-12T17:00:20.461Z"
   },
   {
    "duration": 18,
    "start_time": "2021-12-12T17:00:35.200Z"
   },
   {
    "duration": 44,
    "start_time": "2021-12-12T17:00:35.220Z"
   },
   {
    "duration": 13,
    "start_time": "2021-12-12T17:00:35.269Z"
   },
   {
    "duration": 75,
    "start_time": "2021-12-12T17:00:35.285Z"
   },
   {
    "duration": 910,
    "start_time": "2021-12-12T17:00:35.363Z"
   },
   {
    "duration": -35,
    "start_time": "2021-12-12T17:00:36.311Z"
   },
   {
    "duration": -40,
    "start_time": "2021-12-12T17:00:36.317Z"
   },
   {
    "duration": -43,
    "start_time": "2021-12-12T17:00:36.322Z"
   },
   {
    "duration": -96,
    "start_time": "2021-12-12T17:00:36.376Z"
   },
   {
    "duration": -98,
    "start_time": "2021-12-12T17:00:36.380Z"
   },
   {
    "duration": -101,
    "start_time": "2021-12-12T17:00:36.384Z"
   },
   {
    "duration": -103,
    "start_time": "2021-12-12T17:00:36.388Z"
   },
   {
    "duration": -106,
    "start_time": "2021-12-12T17:00:36.392Z"
   },
   {
    "duration": -109,
    "start_time": "2021-12-12T17:00:36.397Z"
   },
   {
    "duration": -84,
    "start_time": "2021-12-12T17:00:36.401Z"
   },
   {
    "duration": -87,
    "start_time": "2021-12-12T17:00:36.405Z"
   },
   {
    "duration": -90,
    "start_time": "2021-12-12T17:00:36.410Z"
   },
   {
    "duration": -92,
    "start_time": "2021-12-12T17:00:36.414Z"
   },
   {
    "duration": -96,
    "start_time": "2021-12-12T17:00:36.419Z"
   },
   {
    "duration": -98,
    "start_time": "2021-12-12T17:00:36.423Z"
   },
   {
    "duration": -102,
    "start_time": "2021-12-12T17:00:36.428Z"
   },
   {
    "duration": -114,
    "start_time": "2021-12-12T17:00:36.442Z"
   },
   {
    "duration": -117,
    "start_time": "2021-12-12T17:00:36.446Z"
   },
   {
    "duration": -119,
    "start_time": "2021-12-12T17:00:36.450Z"
   },
   {
    "duration": -122,
    "start_time": "2021-12-12T17:00:36.454Z"
   },
   {
    "duration": -125,
    "start_time": "2021-12-12T17:00:36.458Z"
   },
   {
    "duration": -128,
    "start_time": "2021-12-12T17:00:36.463Z"
   },
   {
    "duration": -131,
    "start_time": "2021-12-12T17:00:36.467Z"
   },
   {
    "duration": -134,
    "start_time": "2021-12-12T17:00:36.472Z"
   },
   {
    "duration": -138,
    "start_time": "2021-12-12T17:00:36.477Z"
   },
   {
    "duration": -140,
    "start_time": "2021-12-12T17:00:36.481Z"
   },
   {
    "duration": 8,
    "start_time": "2021-12-12T17:05:50.483Z"
   },
   {
    "duration": 17,
    "start_time": "2021-12-12T17:07:27.662Z"
   },
   {
    "duration": 9988,
    "start_time": "2021-12-12T17:09:34.419Z"
   },
   {
    "duration": 2412,
    "start_time": "2021-12-12T17:10:17.391Z"
   },
   {
    "duration": 61,
    "start_time": "2021-12-12T17:10:19.806Z"
   },
   {
    "duration": 55,
    "start_time": "2021-12-12T17:10:19.871Z"
   },
   {
    "duration": 33,
    "start_time": "2021-12-12T17:10:19.929Z"
   },
   {
    "duration": 18,
    "start_time": "2021-12-12T17:10:19.965Z"
   },
   {
    "duration": 30,
    "start_time": "2021-12-12T17:10:20.018Z"
   },
   {
    "duration": 147,
    "start_time": "2021-12-12T17:10:20.052Z"
   },
   {
    "duration": 157,
    "start_time": "2021-12-12T17:10:20.204Z"
   },
   {
    "duration": 336,
    "start_time": "2021-12-12T17:10:20.365Z"
   },
   {
    "duration": 194,
    "start_time": "2021-12-12T17:10:20.704Z"
   },
   {
    "duration": 85,
    "start_time": "2021-12-12T17:10:20.901Z"
   },
   {
    "duration": 102,
    "start_time": "2021-12-12T17:10:20.989Z"
   },
   {
    "duration": 79,
    "start_time": "2021-12-12T17:10:21.094Z"
   },
   {
    "duration": 41,
    "start_time": "2021-12-12T17:10:21.176Z"
   },
   {
    "duration": 19,
    "start_time": "2021-12-12T17:10:21.221Z"
   },
   {
    "duration": 27,
    "start_time": "2021-12-12T17:10:21.243Z"
   },
   {
    "duration": 55,
    "start_time": "2021-12-12T17:10:21.273Z"
   },
   {
    "duration": 12,
    "start_time": "2021-12-12T17:10:21.332Z"
   },
   {
    "duration": 16,
    "start_time": "2021-12-12T17:10:21.347Z"
   },
   {
    "duration": 15524,
    "start_time": "2021-12-12T17:10:21.366Z"
   },
   {
    "duration": 14,
    "start_time": "2021-12-12T17:10:36.892Z"
   },
   {
    "duration": 61,
    "start_time": "2021-12-12T17:10:36.908Z"
   },
   {
    "duration": 43,
    "start_time": "2021-12-12T17:10:36.975Z"
   },
   {
    "duration": 54,
    "start_time": "2021-12-12T17:10:37.022Z"
   },
   {
    "duration": 5012,
    "start_time": "2021-12-12T17:10:37.078Z"
   },
   {
    "duration": 1618,
    "start_time": "2021-12-12T17:10:42.093Z"
   },
   {
    "duration": -33,
    "start_time": "2021-12-12T17:10:43.750Z"
   },
   {
    "duration": -37,
    "start_time": "2021-12-12T17:10:43.756Z"
   },
   {
    "duration": -39,
    "start_time": "2021-12-12T17:10:43.760Z"
   },
   {
    "duration": -42,
    "start_time": "2021-12-12T17:10:43.765Z"
   },
   {
    "duration": -47,
    "start_time": "2021-12-12T17:10:43.771Z"
   },
   {
    "duration": -49,
    "start_time": "2021-12-12T17:10:43.775Z"
   },
   {
    "duration": -51,
    "start_time": "2021-12-12T17:10:43.779Z"
   },
   {
    "duration": -53,
    "start_time": "2021-12-12T17:10:43.783Z"
   },
   {
    "duration": -57,
    "start_time": "2021-12-12T17:10:43.788Z"
   },
   {
    "duration": -68,
    "start_time": "2021-12-12T17:10:43.801Z"
   },
   {
    "duration": -72,
    "start_time": "2021-12-12T17:10:43.807Z"
   },
   {
    "duration": -75,
    "start_time": "2021-12-12T17:10:43.812Z"
   },
   {
    "duration": -79,
    "start_time": "2021-12-12T17:10:43.817Z"
   },
   {
    "duration": -81,
    "start_time": "2021-12-12T17:10:43.821Z"
   },
   {
    "duration": -84,
    "start_time": "2021-12-12T17:10:43.826Z"
   },
   {
    "duration": -86,
    "start_time": "2021-12-12T17:10:43.830Z"
   },
   {
    "duration": -96,
    "start_time": "2021-12-12T17:10:43.842Z"
   },
   {
    "duration": -99,
    "start_time": "2021-12-12T17:10:43.847Z"
   },
   {
    "duration": -103,
    "start_time": "2021-12-12T17:10:43.852Z"
   },
   {
    "duration": -144,
    "start_time": "2021-12-12T17:10:43.894Z"
   },
   {
    "duration": -147,
    "start_time": "2021-12-12T17:10:43.899Z"
   },
   {
    "duration": -150,
    "start_time": "2021-12-12T17:10:43.903Z"
   },
   {
    "duration": -152,
    "start_time": "2021-12-12T17:10:43.907Z"
   },
   {
    "duration": -156,
    "start_time": "2021-12-12T17:10:43.911Z"
   },
   {
    "duration": -158,
    "start_time": "2021-12-12T17:10:43.915Z"
   },
   {
    "duration": -162,
    "start_time": "2021-12-12T17:10:43.920Z"
   },
   {
    "duration": 4,
    "start_time": "2021-12-12T17:11:06.308Z"
   },
   {
    "duration": 645,
    "start_time": "2021-12-12T17:11:07.390Z"
   },
   {
    "duration": 4,
    "start_time": "2021-12-12T17:11:11.046Z"
   },
   {
    "duration": 670,
    "start_time": "2021-12-12T17:11:11.625Z"
   },
   {
    "duration": 847,
    "start_time": "2021-12-12T17:11:40.582Z"
   },
   {
    "duration": 800,
    "start_time": "2021-12-12T17:11:44.517Z"
   },
   {
    "duration": 837,
    "start_time": "2021-12-12T17:11:51.296Z"
   },
   {
    "duration": -86,
    "start_time": "2021-12-12T17:11:52.223Z"
   },
   {
    "duration": -90,
    "start_time": "2021-12-12T17:11:52.228Z"
   },
   {
    "duration": -93,
    "start_time": "2021-12-12T17:11:52.233Z"
   },
   {
    "duration": 661,
    "start_time": "2021-12-12T17:11:58.944Z"
   },
   {
    "duration": 733,
    "start_time": "2021-12-12T17:11:59.838Z"
   },
   {
    "duration": -155,
    "start_time": "2021-12-12T17:12:00.730Z"
   },
   {
    "duration": 16,
    "start_time": "2021-12-12T17:12:01.533Z"
   },
   {
    "duration": 73,
    "start_time": "2021-12-12T17:12:01.711Z"
   },
   {
    "duration": 833,
    "start_time": "2021-12-12T17:12:02.077Z"
   },
   {
    "duration": -125,
    "start_time": "2021-12-12T17:12:03.043Z"
   },
   {
    "duration": -128,
    "start_time": "2021-12-12T17:12:03.048Z"
   },
   {
    "duration": 333,
    "start_time": "2021-12-12T17:12:03.008Z"
   },
   {
    "duration": 743,
    "start_time": "2021-12-12T17:12:03.545Z"
   },
   {
    "duration": -231,
    "start_time": "2021-12-12T17:12:04.523Z"
   },
   {
    "duration": -240,
    "start_time": "2021-12-12T17:12:04.534Z"
   },
   {
    "duration": 5,
    "start_time": "2021-12-12T17:12:04.653Z"
   },
   {
    "duration": 7,
    "start_time": "2021-12-12T17:12:04.847Z"
   },
   {
    "duration": 15,
    "start_time": "2021-12-12T17:12:05.026Z"
   },
   {
    "duration": 22,
    "start_time": "2021-12-12T17:12:05.401Z"
   },
   {
    "duration": 15,
    "start_time": "2021-12-12T17:12:05.760Z"
   },
   {
    "duration": 34,
    "start_time": "2021-12-12T17:12:05.957Z"
   },
   {
    "duration": 33,
    "start_time": "2021-12-12T17:12:06.148Z"
   },
   {
    "duration": 9,
    "start_time": "2021-12-12T17:12:06.345Z"
   },
   {
    "duration": 12,
    "start_time": "2021-12-12T17:12:06.738Z"
   },
   {
    "duration": 33,
    "start_time": "2021-12-12T17:12:06.947Z"
   },
   {
    "duration": 32,
    "start_time": "2021-12-12T17:12:07.196Z"
   },
   {
    "duration": 8,
    "start_time": "2021-12-12T17:12:07.384Z"
   },
   {
    "duration": 370,
    "start_time": "2021-12-12T17:13:57.520Z"
   },
   {
    "duration": 11,
    "start_time": "2021-12-12T17:13:58.312Z"
   },
   {
    "duration": 668,
    "start_time": "2021-12-12T17:14:35.062Z"
   },
   {
    "duration": 306,
    "start_time": "2021-12-12T17:14:39.630Z"
   },
   {
    "duration": 699,
    "start_time": "2021-12-12T17:16:50.263Z"
   },
   {
    "duration": 393,
    "start_time": "2021-12-12T17:20:34.762Z"
   },
   {
    "duration": 366,
    "start_time": "2021-12-12T17:20:48.865Z"
   },
   {
    "duration": 474,
    "start_time": "2021-12-12T17:20:54.098Z"
   },
   {
    "duration": 373,
    "start_time": "2021-12-12T17:21:26.664Z"
   },
   {
    "duration": 92,
    "start_time": "2021-12-14T23:35:34.686Z"
   },
   {
    "duration": 511,
    "start_time": "2021-12-14T23:39:42.080Z"
   },
   {
    "duration": 1258,
    "start_time": "2021-12-14T23:40:08.767Z"
   },
   {
    "duration": 44,
    "start_time": "2021-12-14T23:40:10.028Z"
   },
   {
    "duration": 31,
    "start_time": "2021-12-14T23:40:12.146Z"
   },
   {
    "duration": 25,
    "start_time": "2021-12-14T23:40:14.319Z"
   },
   {
    "duration": 16,
    "start_time": "2021-12-14T23:40:16.735Z"
   },
   {
    "duration": 19,
    "start_time": "2021-12-14T23:40:19.447Z"
   },
   {
    "duration": 97,
    "start_time": "2021-12-14T23:40:23.146Z"
   },
   {
    "duration": 98,
    "start_time": "2021-12-14T23:40:26.546Z"
   },
   {
    "duration": 288,
    "start_time": "2021-12-14T23:40:32.818Z"
   },
   {
    "duration": 268,
    "start_time": "2021-12-14T23:40:39.666Z"
   },
   {
    "duration": 6,
    "start_time": "2021-12-14T23:41:34.098Z"
   },
   {
    "duration": 114,
    "start_time": "2021-12-14T23:41:50.466Z"
   },
   {
    "duration": 12,
    "start_time": "2021-12-14T23:41:56.888Z"
   },
   {
    "duration": 10,
    "start_time": "2021-12-14T23:42:48.446Z"
   },
   {
    "duration": 152,
    "start_time": "2021-12-14T23:44:13.546Z"
   },
   {
    "duration": 247,
    "start_time": "2021-12-14T23:45:01.587Z"
   },
   {
    "duration": 531,
    "start_time": "2021-12-14T23:45:55.029Z"
   },
   {
    "duration": 33,
    "start_time": "2021-12-14T23:45:55.562Z"
   },
   {
    "duration": 29,
    "start_time": "2021-12-14T23:45:55.598Z"
   },
   {
    "duration": 25,
    "start_time": "2021-12-14T23:45:55.630Z"
   },
   {
    "duration": 15,
    "start_time": "2021-12-14T23:45:55.657Z"
   },
   {
    "duration": 47,
    "start_time": "2021-12-14T23:45:55.675Z"
   },
   {
    "duration": 109,
    "start_time": "2021-12-14T23:45:55.725Z"
   },
   {
    "duration": 110,
    "start_time": "2021-12-14T23:45:55.836Z"
   },
   {
    "duration": 278,
    "start_time": "2021-12-14T23:45:55.950Z"
   },
   {
    "duration": 147,
    "start_time": "2021-12-14T23:45:56.231Z"
   },
   {
    "duration": 10,
    "start_time": "2021-12-14T23:45:56.381Z"
   },
   {
    "duration": 89,
    "start_time": "2021-12-14T23:45:56.393Z"
   },
   {
    "duration": 83,
    "start_time": "2021-12-14T23:45:56.484Z"
   },
   {
    "duration": 68,
    "start_time": "2021-12-14T23:45:56.570Z"
   },
   {
    "duration": 18,
    "start_time": "2021-12-14T23:45:56.641Z"
   },
   {
    "duration": 15,
    "start_time": "2021-12-14T23:45:56.661Z"
   },
   {
    "duration": 61,
    "start_time": "2021-12-14T23:45:56.679Z"
   },
   {
    "duration": 13,
    "start_time": "2021-12-14T23:45:56.743Z"
   },
   {
    "duration": 8,
    "start_time": "2021-12-14T23:45:56.759Z"
   },
   {
    "duration": 58,
    "start_time": "2021-12-14T23:45:56.769Z"
   },
   {
    "duration": 14517,
    "start_time": "2021-12-14T23:45:56.830Z"
   },
   {
    "duration": 12,
    "start_time": "2021-12-14T23:46:11.350Z"
   },
   {
    "duration": 522,
    "start_time": "2021-12-14T23:48:57.888Z"
   },
   {
    "duration": 35,
    "start_time": "2021-12-14T23:48:58.412Z"
   },
   {
    "duration": 31,
    "start_time": "2021-12-14T23:48:58.450Z"
   },
   {
    "duration": 45,
    "start_time": "2021-12-14T23:48:58.484Z"
   },
   {
    "duration": 16,
    "start_time": "2021-12-14T23:48:58.532Z"
   },
   {
    "duration": 20,
    "start_time": "2021-12-14T23:48:58.551Z"
   },
   {
    "duration": 129,
    "start_time": "2021-12-14T23:48:58.573Z"
   },
   {
    "duration": 125,
    "start_time": "2021-12-14T23:48:58.705Z"
   },
   {
    "duration": 258,
    "start_time": "2021-12-14T23:48:58.834Z"
   },
   {
    "duration": 156,
    "start_time": "2021-12-14T23:48:59.096Z"
   },
   {
    "duration": 11,
    "start_time": "2021-12-14T23:48:59.255Z"
   },
   {
    "duration": 90,
    "start_time": "2021-12-14T23:48:59.268Z"
   },
   {
    "duration": 84,
    "start_time": "2021-12-14T23:48:59.361Z"
   },
   {
    "duration": 69,
    "start_time": "2021-12-14T23:48:59.447Z"
   },
   {
    "duration": 12,
    "start_time": "2021-12-14T23:48:59.519Z"
   },
   {
    "duration": 13,
    "start_time": "2021-12-14T23:48:59.534Z"
   },
   {
    "duration": 24,
    "start_time": "2021-12-14T23:48:59.549Z"
   },
   {
    "duration": 48,
    "start_time": "2021-12-14T23:48:59.575Z"
   },
   {
    "duration": 16,
    "start_time": "2021-12-14T23:48:59.625Z"
   },
   {
    "duration": 18,
    "start_time": "2021-12-14T23:48:59.643Z"
   },
   {
    "duration": 14204,
    "start_time": "2021-12-14T23:48:59.663Z"
   },
   {
    "duration": 13,
    "start_time": "2021-12-14T23:49:13.869Z"
   },
   {
    "duration": 68,
    "start_time": "2021-12-14T23:49:13.884Z"
   },
   {
    "duration": 16,
    "start_time": "2021-12-14T23:49:13.954Z"
   },
   {
    "duration": 80,
    "start_time": "2021-12-14T23:49:13.973Z"
   },
   {
    "duration": 664,
    "start_time": "2021-12-14T23:49:14.056Z"
   },
   {
    "duration": 583,
    "start_time": "2021-12-14T23:49:41.479Z"
   },
   {
    "duration": 311,
    "start_time": "2021-12-14T23:49:58.234Z"
   },
   {
    "duration": 315,
    "start_time": "2021-12-14T23:51:16.576Z"
   },
   {
    "duration": 239,
    "start_time": "2021-12-14T23:51:37.006Z"
   },
   {
    "duration": 527,
    "start_time": "2021-12-14T23:51:52.449Z"
   },
   {
    "duration": 36,
    "start_time": "2021-12-14T23:51:52.979Z"
   },
   {
    "duration": 32,
    "start_time": "2021-12-14T23:51:53.020Z"
   },
   {
    "duration": 61,
    "start_time": "2021-12-14T23:51:53.056Z"
   },
   {
    "duration": 19,
    "start_time": "2021-12-14T23:51:53.120Z"
   },
   {
    "duration": 21,
    "start_time": "2021-12-14T23:51:53.142Z"
   },
   {
    "duration": 128,
    "start_time": "2021-12-14T23:51:53.165Z"
   },
   {
    "duration": 124,
    "start_time": "2021-12-14T23:51:53.295Z"
   },
   {
    "duration": 251,
    "start_time": "2021-12-14T23:51:53.423Z"
   },
   {
    "duration": 151,
    "start_time": "2021-12-14T23:51:53.678Z"
   },
   {
    "duration": 10,
    "start_time": "2021-12-14T23:51:53.831Z"
   },
   {
    "duration": 86,
    "start_time": "2021-12-14T23:51:53.843Z"
   },
   {
    "duration": 89,
    "start_time": "2021-12-14T23:51:53.931Z"
   },
   {
    "duration": 43,
    "start_time": "2021-12-14T23:51:54.023Z"
   },
   {
    "duration": 13,
    "start_time": "2021-12-14T23:51:54.068Z"
   },
   {
    "duration": 18,
    "start_time": "2021-12-14T23:51:54.116Z"
   },
   {
    "duration": 31,
    "start_time": "2021-12-14T23:51:54.136Z"
   },
   {
    "duration": 48,
    "start_time": "2021-12-14T23:51:54.170Z"
   },
   {
    "duration": 9,
    "start_time": "2021-12-14T23:51:54.222Z"
   },
   {
    "duration": 14,
    "start_time": "2021-12-14T23:51:54.234Z"
   },
   {
    "duration": 14471,
    "start_time": "2021-12-14T23:51:54.251Z"
   },
   {
    "duration": 13,
    "start_time": "2021-12-14T23:52:08.724Z"
   },
   {
    "duration": 78,
    "start_time": "2021-12-14T23:52:08.739Z"
   },
   {
    "duration": 15,
    "start_time": "2021-12-14T23:52:08.819Z"
   },
   {
    "duration": 61,
    "start_time": "2021-12-14T23:52:08.836Z"
   },
   {
    "duration": 577,
    "start_time": "2021-12-14T23:52:08.899Z"
   },
   {
    "duration": -117,
    "start_time": "2021-12-14T23:52:09.596Z"
   },
   {
    "duration": -123,
    "start_time": "2021-12-14T23:52:09.604Z"
   },
   {
    "duration": -126,
    "start_time": "2021-12-14T23:52:09.609Z"
   },
   {
    "duration": -130,
    "start_time": "2021-12-14T23:52:09.615Z"
   },
   {
    "duration": -132,
    "start_time": "2021-12-14T23:52:09.619Z"
   },
   {
    "duration": -135,
    "start_time": "2021-12-14T23:52:09.624Z"
   },
   {
    "duration": -137,
    "start_time": "2021-12-14T23:52:09.629Z"
   },
   {
    "duration": -117,
    "start_time": "2021-12-14T23:52:09.634Z"
   },
   {
    "duration": 236,
    "start_time": "2021-12-14T23:52:12.938Z"
   },
   {
    "duration": 61,
    "start_time": "2021-12-15T17:21:31.977Z"
   },
   {
    "duration": 58,
    "start_time": "2021-12-15T17:21:37.957Z"
   },
   {
    "duration": 234,
    "start_time": "2021-12-15T17:21:47.357Z"
   }
  ],
  "kernelspec": {
   "display_name": "Python 3 (ipykernel)",
   "language": "python",
   "name": "python3"
  },
  "language_info": {
   "codemirror_mode": {
    "name": "ipython",
    "version": 3
   },
   "file_extension": ".py",
   "mimetype": "text/x-python",
   "name": "python",
   "nbconvert_exporter": "python",
   "pygments_lexer": "ipython3",
   "version": "3.8.10"
  },
  "toc": {
   "base_numbering": 1,
   "nav_menu": {},
   "number_sections": true,
   "sideBar": true,
   "skip_h1_title": true,
   "title_cell": "Table of Contents",
   "title_sidebar": "Contents",
   "toc_cell": false,
   "toc_position": {},
   "toc_section_display": true,
   "toc_window_display": false
  }
 },
 "nbformat": 4,
 "nbformat_minor": 5
}
