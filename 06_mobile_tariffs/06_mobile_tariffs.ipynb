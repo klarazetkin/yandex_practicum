{
 "cells": [
  {
   "cell_type": "markdown",
   "id": "c2707022",
   "metadata": {},
   "source": [
    "# Рекомендация тарифов для клиентов оператора связи \"Мегалайн\"\n",
    "## Постановка задачи\n",
    "\n",
    "Согласно данным оператора мобильной связи «Мегалайн», многие клиенты пользуются архивными тарифами. Оператор хочет построить систему, способную проанализировать поведение клиентов и предложить пользователям новый тариф: «Смарт» или «Ультра».\n",
    "\n",
    "На основании данных о поведении клиентов, которые уже перешли на эти тарифы, нужно построить модель для задачи классификации, которая выберет подходящий тариф для каждого нового клиента. Данные готовы к анализу, предобработка данных не нужна.\n",
    "\n",
    "Поставлена задача - на основании данных построить и обучить модель с максимально большим значением accuracy, доля правильных ответов в предсказаниях должна быть по крайней мере 0.75. Затем нужно проверить accuracy на тестовой выборке.\n",
    "\n",
    "Выбрав лучшую из обученных моделей, нужно провести проверку это модели на вменяемость. В случае успешного прохождения проверки модель можно рекомендовать для использования заказчиком."
   ]
  },
  {
   "cell_type": "markdown",
   "id": "2b2ed78b",
   "metadata": {},
   "source": [
    "## Импорт данных"
   ]
  },
  {
   "cell_type": "markdown",
   "id": "23d0a1ff",
   "metadata": {},
   "source": [
    "Импортируем датасет в переменную `df`:"
   ]
  },
  {
   "cell_type": "code",
   "execution_count": 68,
   "id": "68b656af",
   "metadata": {},
   "outputs": [],
   "source": [
    "from pathlib import Path\n",
    "\n",
    "import pandas as pd\n",
    "pd.set_option('display.float_format', '{:,.4f}'.format)\n",
    "\n",
    "import numpy as np\n",
    "from sklearn.model_selection import train_test_split \n",
    "from sklearn.tree import DecisionTreeClassifier\n",
    "from sklearn.metrics import accuracy_score\n",
    "from sklearn.ensemble import RandomForestClassifier\n",
    "from sklearn.linear_model import LogisticRegression"
   ]
  },
  {
   "cell_type": "code",
   "execution_count": 26,
   "id": "2b05be88",
   "metadata": {},
   "outputs": [],
   "source": [
    "my_path = Path('/home/klarazetkin/Documents/yandex/module_2/project_2')\n",
    "if my_path.is_dir():\n",
    "    df = pd.read_csv('/home/klarazetkin/Documents/yandex/module_2/project_2/users_behavior.csv')\n",
    "else:\n",
    "    df = pd.read_csv('/datasets/users_behavior.csv')"
   ]
  },
  {
   "cell_type": "markdown",
   "id": "d21a2c43",
   "metadata": {},
   "source": [
    "## Проверка и предобработка данных"
   ]
  },
  {
   "cell_type": "markdown",
   "id": "4a70406d",
   "metadata": {},
   "source": [
    "Ознакомимся с данными, проверим, что предобработка действительно не нужна:"
   ]
  },
  {
   "cell_type": "code",
   "execution_count": 27,
   "id": "55015fae",
   "metadata": {},
   "outputs": [
    {
     "data": {
      "text/html": [
       "<div>\n",
       "<style scoped>\n",
       "    .dataframe tbody tr th:only-of-type {\n",
       "        vertical-align: middle;\n",
       "    }\n",
       "\n",
       "    .dataframe tbody tr th {\n",
       "        vertical-align: top;\n",
       "    }\n",
       "\n",
       "    .dataframe thead th {\n",
       "        text-align: right;\n",
       "    }\n",
       "</style>\n",
       "<table border=\"1\" class=\"dataframe\">\n",
       "  <thead>\n",
       "    <tr style=\"text-align: right;\">\n",
       "      <th></th>\n",
       "      <th>calls</th>\n",
       "      <th>minutes</th>\n",
       "      <th>messages</th>\n",
       "      <th>mb_used</th>\n",
       "      <th>is_ultra</th>\n",
       "    </tr>\n",
       "  </thead>\n",
       "  <tbody>\n",
       "    <tr>\n",
       "      <td>0</td>\n",
       "      <td>40.0000</td>\n",
       "      <td>311.9000</td>\n",
       "      <td>83.0000</td>\n",
       "      <td>19,915.4200</td>\n",
       "      <td>0</td>\n",
       "    </tr>\n",
       "    <tr>\n",
       "      <td>1</td>\n",
       "      <td>85.0000</td>\n",
       "      <td>516.7500</td>\n",
       "      <td>56.0000</td>\n",
       "      <td>22,696.9600</td>\n",
       "      <td>0</td>\n",
       "    </tr>\n",
       "    <tr>\n",
       "      <td>2</td>\n",
       "      <td>77.0000</td>\n",
       "      <td>467.6600</td>\n",
       "      <td>86.0000</td>\n",
       "      <td>21,060.4500</td>\n",
       "      <td>0</td>\n",
       "    </tr>\n",
       "    <tr>\n",
       "      <td>3</td>\n",
       "      <td>106.0000</td>\n",
       "      <td>745.5300</td>\n",
       "      <td>81.0000</td>\n",
       "      <td>8,437.3900</td>\n",
       "      <td>1</td>\n",
       "    </tr>\n",
       "    <tr>\n",
       "      <td>4</td>\n",
       "      <td>66.0000</td>\n",
       "      <td>418.7400</td>\n",
       "      <td>1.0000</td>\n",
       "      <td>14,502.7500</td>\n",
       "      <td>0</td>\n",
       "    </tr>\n",
       "  </tbody>\n",
       "</table>\n",
       "</div>"
      ],
      "text/plain": [
       "     calls  minutes  messages     mb_used  is_ultra\n",
       "0  40.0000 311.9000   83.0000 19,915.4200         0\n",
       "1  85.0000 516.7500   56.0000 22,696.9600         0\n",
       "2  77.0000 467.6600   86.0000 21,060.4500         0\n",
       "3 106.0000 745.5300   81.0000  8,437.3900         1\n",
       "4  66.0000 418.7400    1.0000 14,502.7500         0"
      ]
     },
     "execution_count": 27,
     "metadata": {},
     "output_type": "execute_result"
    }
   ],
   "source": [
    "df.head()"
   ]
  },
  {
   "cell_type": "code",
   "execution_count": 28,
   "id": "b498ecfc",
   "metadata": {},
   "outputs": [
    {
     "data": {
      "text/plain": [
       "(3214, 5)"
      ]
     },
     "execution_count": 28,
     "metadata": {},
     "output_type": "execute_result"
    }
   ],
   "source": [
    "df.shape"
   ]
  },
  {
   "cell_type": "code",
   "execution_count": 29,
   "id": "cf33efcf",
   "metadata": {},
   "outputs": [
    {
     "data": {
      "text/plain": [
       "calls       3214\n",
       "minutes     3214\n",
       "messages    3214\n",
       "mb_used     3214\n",
       "is_ultra    3214\n",
       "dtype: int64"
      ]
     },
     "execution_count": 29,
     "metadata": {},
     "output_type": "execute_result"
    }
   ],
   "source": [
    "df.isna().count()"
   ]
  },
  {
   "cell_type": "code",
   "execution_count": 30,
   "id": "318cabbb",
   "metadata": {},
   "outputs": [
    {
     "name": "stdout",
     "output_type": "stream",
     "text": [
      "<class 'pandas.core.frame.DataFrame'>\n",
      "RangeIndex: 3214 entries, 0 to 3213\n",
      "Data columns (total 5 columns):\n",
      "calls       3214 non-null float64\n",
      "minutes     3214 non-null float64\n",
      "messages    3214 non-null float64\n",
      "mb_used     3214 non-null float64\n",
      "is_ultra    3214 non-null int64\n",
      "dtypes: float64(4), int64(1)\n",
      "memory usage: 125.7 KB\n"
     ]
    }
   ],
   "source": [
    "df.info()"
   ]
  },
  {
   "cell_type": "markdown",
   "id": "851331f8",
   "metadata": {},
   "source": [
    "Преобразуем данные в колонке `calls` к типу `int`, данные в колонке `is_ultra` к типу `boolean`:"
   ]
  },
  {
   "cell_type": "code",
   "execution_count": 31,
   "id": "0bd7b232",
   "metadata": {},
   "outputs": [],
   "source": [
    "df['calls'] = df['calls'].astype('int')\n",
    "df['is_ultra'] = df['is_ultra'].astype('bool')"
   ]
  },
  {
   "cell_type": "code",
   "execution_count": 32,
   "id": "275627ad",
   "metadata": {},
   "outputs": [
    {
     "name": "stdout",
     "output_type": "stream",
     "text": [
      "<class 'pandas.core.frame.DataFrame'>\n",
      "RangeIndex: 3214 entries, 0 to 3213\n",
      "Data columns (total 5 columns):\n",
      "calls       3214 non-null int64\n",
      "minutes     3214 non-null float64\n",
      "messages    3214 non-null float64\n",
      "mb_used     3214 non-null float64\n",
      "is_ultra    3214 non-null bool\n",
      "dtypes: bool(1), float64(3), int64(1)\n",
      "memory usage: 103.7 KB\n"
     ]
    }
   ],
   "source": [
    "df.info()"
   ]
  },
  {
   "cell_type": "markdown",
   "id": "33176673",
   "metadata": {},
   "source": [
    "Согласно задания, тщательную проверку и предобработку данных делать не надо, поэтому ограничимся сделанным."
   ]
  },
  {
   "cell_type": "markdown",
   "id": "27667c0b",
   "metadata": {},
   "source": [
    "Отдельно учтем, что в исходном датафрейме пользователей тарифа \"Ультра\" 31 %, а пользователей тарифа \"Смарт\" 69%:"
   ]
  },
  {
   "cell_type": "code",
   "execution_count": 33,
   "id": "32ffedb3",
   "metadata": {},
   "outputs": [
    {
     "data": {
      "text/plain": [
       "31"
      ]
     },
     "execution_count": 33,
     "metadata": {},
     "output_type": "execute_result"
    }
   ],
   "source": [
    "round(df['is_ultra'].sum() / len(df) * 100)"
   ]
  },
  {
   "cell_type": "markdown",
   "id": "db43dc41",
   "metadata": {},
   "source": [
    "## Выделение обучающей, валидационной и тестовой выборок"
   ]
  },
  {
   "cell_type": "markdown",
   "id": "6681b182",
   "metadata": {},
   "source": [
    "Разделим имеющийся датасет на три части: обучающую (60%), валидационную (20%) и тестовую (20%) выборки. Укажем параметр `random_state=12345` для обеспечения повторяемости результата."
   ]
  },
  {
   "cell_type": "code",
   "execution_count": 34,
   "id": "ac623039",
   "metadata": {},
   "outputs": [],
   "source": [
    "df_train, df_valid_and_test = train_test_split(df, test_size=0.4, random_state=12345)"
   ]
  },
  {
   "cell_type": "code",
   "execution_count": 35,
   "id": "fb3d8d84",
   "metadata": {},
   "outputs": [],
   "source": [
    "df_valid, df_test = train_test_split(df_valid_and_test, test_size=0.5, random_state=12345)"
   ]
  },
  {
   "cell_type": "code",
   "execution_count": 36,
   "id": "07ff202c",
   "metadata": {},
   "outputs": [
    {
     "name": "stdout",
     "output_type": "stream",
     "text": [
      "1928\n",
      "643\n",
      "643\n"
     ]
    }
   ],
   "source": [
    "# проверим размеры выборок\n",
    "print(len(df_train))\n",
    "print(len(df_valid))\n",
    "print(len(df_test))"
   ]
  },
  {
   "cell_type": "markdown",
   "id": "bd2179a9",
   "metadata": {},
   "source": [
    "## Определение целевого признака и других признаков"
   ]
  },
  {
   "cell_type": "markdown",
   "id": "b108afe6",
   "metadata": {},
   "source": [
    "Целевой признак - подходящий тариф, ему соответствует колонка `is_ultra`. Все остальные признаки попадут в `features`."
   ]
  },
  {
   "cell_type": "code",
   "execution_count": 37,
   "id": "031ab98c",
   "metadata": {},
   "outputs": [],
   "source": [
    "features_train = df_train.drop('is_ultra', axis=1)\n",
    "target_train = df_train['is_ultra']\n",
    "features_valid = df_valid.drop('is_ultra', axis=1)\n",
    "target_valid = df_valid['is_ultra']"
   ]
  },
  {
   "cell_type": "markdown",
   "id": "02286687",
   "metadata": {},
   "source": [
    "Определим целевой и обучающие признаки для тестовой выборки:"
   ]
  },
  {
   "cell_type": "code",
   "execution_count": 38,
   "id": "92a1b008",
   "metadata": {},
   "outputs": [],
   "source": [
    "features_test = df_test.drop('is_ultra', axis=1)\n",
    "target_test = df_test['is_ultra']"
   ]
  },
  {
   "cell_type": "markdown",
   "id": "ead3fb7f",
   "metadata": {},
   "source": [
    "## Построение моделей классификации разных типов и выбор лучшей модели для предсказания целевого признака\n",
    "Построим три модели: дерево решений, случайный лес и  логистическую регрессию, подберем для них оптимальные параметры, затем сравним лучшие показатели моделей между собой."
   ]
  },
  {
   "cell_type": "markdown",
   "id": "52a0085c",
   "metadata": {},
   "source": [
    "### Решающее дерево\n",
    "#### Подбор гиперпараметров и выбор лучшей модели"
   ]
  },
  {
   "cell_type": "markdown",
   "id": "b6b385ff",
   "metadata": {},
   "source": [
    "Построим модель решающего дерева. Поэкспериментируем с параметром `depth`. Лучший показатель `accuracy = 0.7853810264385692` у модели с глубиной `depth = 3`."
   ]
  },
  {
   "cell_type": "code",
   "execution_count": 39,
   "id": "325bfbab",
   "metadata": {},
   "outputs": [
    {
     "name": "stdout",
     "output_type": "stream",
     "text": [
      "max_depth = 1 :   0.7542768273716952\n",
      "max_depth = 2 :   0.7822706065318819\n",
      "max_depth = 3 :   0.7853810264385692\n",
      "max_depth = 4 :   0.7791601866251944\n",
      "max_depth = 5 :   0.7791601866251944\n",
      "max_depth = 6 :   0.7838258164852255\n",
      "max_depth = 7 :   0.7822706065318819\n",
      "max_depth = 8 :   0.7791601866251944\n",
      "max_depth = 9 :   0.7822706065318819\n"
     ]
    }
   ],
   "source": [
    "best_model = None\n",
    "best_accuracy = 0\n",
    "\n",
    "for depth in range(1, 10):\n",
    "    model = DecisionTreeClassifier(max_depth=depth, random_state=12345)\n",
    "    model.fit(features_train, target_train)\n",
    "    predictions_valid = model.predict(features_valid)\n",
    "    print(\"max_depth =\", depth, \": \", end='  ')\n",
    "    print(accuracy_score(target_valid, predictions_valid)) \n",
    "    if accuracy_score(target_valid, predictions_valid) > best_accuracy:\n",
    "        best_accuracy = accuracy_score(target_valid, predictions_valid)\n",
    "        best_model = model"
   ]
  },
  {
   "cell_type": "markdown",
   "id": "d3e5f8e8",
   "metadata": {},
   "source": [
    "Поэкспериментируем с другими показателями  - минимальным количеством объектов в узле `min_samples_split` и минимальным количеством объектов в итоговом листе - `min_samples_leaf`.\n"
   ]
  },
  {
   "cell_type": "code",
   "execution_count": 40,
   "id": "af3c844e",
   "metadata": {},
   "outputs": [
    {
     "name": "stdout",
     "output_type": "stream",
     "text": [
      "max_depth = 1 :   min_samples_split = 2  min_samples_leaf = 2  0.7542768273716952\n",
      "max_depth = 1 :   min_samples_split = 2  min_samples_leaf = 12  0.7542768273716952\n",
      "max_depth = 1 :   min_samples_split = 2  min_samples_leaf = 22  0.7542768273716952\n",
      "max_depth = 1 :   min_samples_split = 2  min_samples_leaf = 32  0.7542768273716952\n",
      "max_depth = 1 :   min_samples_split = 2  min_samples_leaf = 42  0.7542768273716952\n",
      "max_depth = 1 :   min_samples_split = 2  min_samples_leaf = 52  0.7542768273716952\n",
      "max_depth = 1 :   min_samples_split = 2  min_samples_leaf = 62  0.7542768273716952\n",
      "max_depth = 1 :   min_samples_split = 2  min_samples_leaf = 72  0.7542768273716952\n",
      "max_depth = 1 :   min_samples_split = 2  min_samples_leaf = 82  0.7542768273716952\n",
      "max_depth = 1 :   min_samples_split = 2  min_samples_leaf = 92  0.7542768273716952\n",
      "max_depth = 1 :   min_samples_split = 2  min_samples_leaf = 102  0.7542768273716952\n",
      "max_depth = 1 :   min_samples_split = 2  min_samples_leaf = 112  0.7542768273716952\n",
      "max_depth = 1 :   min_samples_split = 12  min_samples_leaf = 2  0.7542768273716952\n",
      "max_depth = 1 :   min_samples_split = 12  min_samples_leaf = 12  0.7542768273716952\n",
      "max_depth = 1 :   min_samples_split = 12  min_samples_leaf = 22  0.7542768273716952\n",
      "max_depth = 1 :   min_samples_split = 12  min_samples_leaf = 32  0.7542768273716952\n",
      "max_depth = 1 :   min_samples_split = 12  min_samples_leaf = 42  0.7542768273716952\n",
      "max_depth = 1 :   min_samples_split = 12  min_samples_leaf = 52  0.7542768273716952\n",
      "max_depth = 1 :   min_samples_split = 12  min_samples_leaf = 62  0.7542768273716952\n",
      "max_depth = 1 :   min_samples_split = 12  min_samples_leaf = 72  0.7542768273716952\n",
      "max_depth = 1 :   min_samples_split = 12  min_samples_leaf = 82  0.7542768273716952\n",
      "max_depth = 1 :   min_samples_split = 12  min_samples_leaf = 92  0.7542768273716952\n",
      "max_depth = 1 :   min_samples_split = 12  min_samples_leaf = 102  0.7542768273716952\n",
      "max_depth = 1 :   min_samples_split = 12  min_samples_leaf = 112  0.7542768273716952\n",
      "max_depth = 1 :   min_samples_split = 22  min_samples_leaf = 2  0.7542768273716952\n",
      "max_depth = 1 :   min_samples_split = 22  min_samples_leaf = 12  0.7542768273716952\n",
      "max_depth = 1 :   min_samples_split = 22  min_samples_leaf = 22  0.7542768273716952\n",
      "max_depth = 1 :   min_samples_split = 22  min_samples_leaf = 32  0.7542768273716952\n",
      "max_depth = 1 :   min_samples_split = 22  min_samples_leaf = 42  0.7542768273716952\n",
      "max_depth = 1 :   min_samples_split = 22  min_samples_leaf = 52  0.7542768273716952\n",
      "max_depth = 1 :   min_samples_split = 22  min_samples_leaf = 62  0.7542768273716952\n",
      "max_depth = 1 :   min_samples_split = 22  min_samples_leaf = 72  0.7542768273716952\n",
      "max_depth = 1 :   min_samples_split = 22  min_samples_leaf = 82  0.7542768273716952\n",
      "max_depth = 1 :   min_samples_split = 22  min_samples_leaf = 92  0.7542768273716952\n",
      "max_depth = 1 :   min_samples_split = 22  min_samples_leaf = 102  0.7542768273716952\n",
      "max_depth = 1 :   min_samples_split = 22  min_samples_leaf = 112  0.7542768273716952\n",
      "max_depth = 1 :   min_samples_split = 32  min_samples_leaf = 2  0.7542768273716952\n",
      "max_depth = 1 :   min_samples_split = 32  min_samples_leaf = 12  0.7542768273716952\n",
      "max_depth = 1 :   min_samples_split = 32  min_samples_leaf = 22  0.7542768273716952\n",
      "max_depth = 1 :   min_samples_split = 32  min_samples_leaf = 32  0.7542768273716952\n",
      "max_depth = 1 :   min_samples_split = 32  min_samples_leaf = 42  0.7542768273716952\n",
      "max_depth = 1 :   min_samples_split = 32  min_samples_leaf = 52  0.7542768273716952\n",
      "max_depth = 1 :   min_samples_split = 32  min_samples_leaf = 62  0.7542768273716952\n",
      "max_depth = 1 :   min_samples_split = 32  min_samples_leaf = 72  0.7542768273716952\n",
      "max_depth = 1 :   min_samples_split = 32  min_samples_leaf = 82  0.7542768273716952\n",
      "max_depth = 1 :   min_samples_split = 32  min_samples_leaf = 92  0.7542768273716952\n",
      "max_depth = 1 :   min_samples_split = 32  min_samples_leaf = 102  0.7542768273716952\n",
      "max_depth = 1 :   min_samples_split = 32  min_samples_leaf = 112  0.7542768273716952\n",
      "max_depth = 1 :   min_samples_split = 42  min_samples_leaf = 2  0.7542768273716952\n",
      "max_depth = 1 :   min_samples_split = 42  min_samples_leaf = 12  0.7542768273716952\n",
      "max_depth = 1 :   min_samples_split = 42  min_samples_leaf = 22  0.7542768273716952\n",
      "max_depth = 1 :   min_samples_split = 42  min_samples_leaf = 32  0.7542768273716952\n",
      "max_depth = 1 :   min_samples_split = 42  min_samples_leaf = 42  0.7542768273716952\n",
      "max_depth = 1 :   min_samples_split = 42  min_samples_leaf = 52  0.7542768273716952\n",
      "max_depth = 1 :   min_samples_split = 42  min_samples_leaf = 62  0.7542768273716952\n",
      "max_depth = 1 :   min_samples_split = 42  min_samples_leaf = 72  0.7542768273716952\n",
      "max_depth = 1 :   min_samples_split = 42  min_samples_leaf = 82  0.7542768273716952\n",
      "max_depth = 1 :   min_samples_split = 42  min_samples_leaf = 92  0.7542768273716952\n",
      "max_depth = 1 :   min_samples_split = 42  min_samples_leaf = 102  0.7542768273716952\n",
      "max_depth = 1 :   min_samples_split = 42  min_samples_leaf = 112  0.7542768273716952\n",
      "max_depth = 1 :   min_samples_split = 52  min_samples_leaf = 2  0.7542768273716952\n",
      "max_depth = 1 :   min_samples_split = 52  min_samples_leaf = 12  0.7542768273716952\n",
      "max_depth = 1 :   min_samples_split = 52  min_samples_leaf = 22  0.7542768273716952\n",
      "max_depth = 1 :   min_samples_split = 52  min_samples_leaf = 32  0.7542768273716952\n",
      "max_depth = 1 :   min_samples_split = 52  min_samples_leaf = 42  0.7542768273716952\n",
      "max_depth = 1 :   min_samples_split = 52  min_samples_leaf = 52  0.7542768273716952\n",
      "max_depth = 1 :   min_samples_split = 52  min_samples_leaf = 62  0.7542768273716952\n",
      "max_depth = 1 :   min_samples_split = 52  min_samples_leaf = 72  0.7542768273716952\n",
      "max_depth = 1 :   min_samples_split = 52  min_samples_leaf = 82  0.7542768273716952\n",
      "max_depth = 1 :   min_samples_split = 52  min_samples_leaf = 92  0.7542768273716952\n",
      "max_depth = 1 :   min_samples_split = 52  min_samples_leaf = 102  0.7542768273716952\n",
      "max_depth = 1 :   min_samples_split = 52  min_samples_leaf = 112  0.7542768273716952\n",
      "max_depth = 1 :   min_samples_split = 62  min_samples_leaf = 2  0.7542768273716952\n",
      "max_depth = 1 :   min_samples_split = 62  min_samples_leaf = 12  0.7542768273716952\n",
      "max_depth = 1 :   min_samples_split = 62  min_samples_leaf = 22  0.7542768273716952\n",
      "max_depth = 1 :   min_samples_split = 62  min_samples_leaf = 32  0.7542768273716952\n",
      "max_depth = 1 :   min_samples_split = 62  min_samples_leaf = 42  0.7542768273716952\n",
      "max_depth = 1 :   min_samples_split = 62  min_samples_leaf = 52  0.7542768273716952\n",
      "max_depth = 1 :   min_samples_split = 62  min_samples_leaf = 62  0.7542768273716952\n",
      "max_depth = 1 :   min_samples_split = 62  min_samples_leaf = 72  0.7542768273716952\n",
      "max_depth = 1 :   min_samples_split = 62  min_samples_leaf = 82  0.7542768273716952\n",
      "max_depth = 1 :   min_samples_split = 62  min_samples_leaf = 92  0.7542768273716952\n",
      "max_depth = 1 :   min_samples_split = 62  min_samples_leaf = 102  0.7542768273716952\n",
      "max_depth = 1 :   min_samples_split = 62  min_samples_leaf = 112  0.7542768273716952\n",
      "max_depth = 1 :   min_samples_split = 72  min_samples_leaf = 2  0.7542768273716952\n",
      "max_depth = 1 :   min_samples_split = 72  min_samples_leaf = 12  0.7542768273716952\n",
      "max_depth = 1 :   min_samples_split = 72  min_samples_leaf = 22  0.7542768273716952\n",
      "max_depth = 1 :   min_samples_split = 72  min_samples_leaf = 32  0.7542768273716952\n",
      "max_depth = 1 :   min_samples_split = 72  min_samples_leaf = 42  0.7542768273716952\n",
      "max_depth = 1 :   min_samples_split = 72  min_samples_leaf = 52  0.7542768273716952\n",
      "max_depth = 1 :   min_samples_split = 72  min_samples_leaf = 62  0.7542768273716952\n",
      "max_depth = 1 :   min_samples_split = 72  min_samples_leaf = 72  0.7542768273716952\n",
      "max_depth = 1 :   min_samples_split = 72  min_samples_leaf = 82  0.7542768273716952\n",
      "max_depth = 1 :   min_samples_split = 72  min_samples_leaf = 92  0.7542768273716952\n",
      "max_depth = 1 :   min_samples_split = 72  min_samples_leaf = 102  0.7542768273716952\n",
      "max_depth = 1 :   min_samples_split = 72  min_samples_leaf = 112  0.7542768273716952\n",
      "max_depth = 1 :   min_samples_split = 82  min_samples_leaf = 2  0.7542768273716952\n",
      "max_depth = 1 :   min_samples_split = 82  min_samples_leaf = 12  0.7542768273716952\n",
      "max_depth = 1 :   min_samples_split = 82  min_samples_leaf = 22  0.7542768273716952\n",
      "max_depth = 1 :   min_samples_split = 82  min_samples_leaf = 32  0.7542768273716952\n",
      "max_depth = 1 :   min_samples_split = 82  min_samples_leaf = 42  0.7542768273716952\n",
      "max_depth = 1 :   min_samples_split = 82  min_samples_leaf = 52  0.7542768273716952\n",
      "max_depth = 1 :   min_samples_split = 82  min_samples_leaf = 62  0.7542768273716952\n",
      "max_depth = 1 :   min_samples_split = 82  min_samples_leaf = 72  0.7542768273716952\n",
      "max_depth = 1 :   min_samples_split = 82  min_samples_leaf = 82  0.7542768273716952\n",
      "max_depth = 1 :   min_samples_split = 82  min_samples_leaf = 92  0.7542768273716952\n",
      "max_depth = 1 :   min_samples_split = 82  min_samples_leaf = 102  0.7542768273716952\n",
      "max_depth = 1 :   min_samples_split = 82  min_samples_leaf = 112  0.7542768273716952\n",
      "max_depth = 1 :   min_samples_split = 92  min_samples_leaf = 2  0.7542768273716952\n",
      "max_depth = 1 :   min_samples_split = 92  min_samples_leaf = 12  0.7542768273716952\n",
      "max_depth = 1 :   min_samples_split = 92  min_samples_leaf = 22  0.7542768273716952\n",
      "max_depth = 1 :   min_samples_split = 92  min_samples_leaf = 32  0.7542768273716952\n",
      "max_depth = 1 :   min_samples_split = 92  min_samples_leaf = 42  0.7542768273716952\n",
      "max_depth = 1 :   min_samples_split = 92  min_samples_leaf = 52  0.7542768273716952\n",
      "max_depth = 1 :   min_samples_split = 92  min_samples_leaf = 62  0.7542768273716952\n",
      "max_depth = 1 :   min_samples_split = 92  min_samples_leaf = 72  0.7542768273716952\n",
      "max_depth = 1 :   min_samples_split = 92  min_samples_leaf = 82  0.7542768273716952\n",
      "max_depth = 1 :   min_samples_split = 92  min_samples_leaf = 92  0.7542768273716952\n",
      "max_depth = 1 :   min_samples_split = 92  min_samples_leaf = 102  0.7542768273716952\n",
      "max_depth = 1 :   min_samples_split = 92  min_samples_leaf = 112  0.7542768273716952\n",
      "max_depth = 1 :   min_samples_split = 102  min_samples_leaf = 2  0.7542768273716952\n",
      "max_depth = 1 :   min_samples_split = 102  min_samples_leaf = 12  0.7542768273716952\n",
      "max_depth = 1 :   min_samples_split = 102  min_samples_leaf = 22  0.7542768273716952\n",
      "max_depth = 1 :   min_samples_split = 102  min_samples_leaf = 32  0.7542768273716952\n",
      "max_depth = 1 :   min_samples_split = 102  min_samples_leaf = 42  0.7542768273716952\n",
      "max_depth = 1 :   min_samples_split = 102  min_samples_leaf = 52  0.7542768273716952\n",
      "max_depth = 1 :   min_samples_split = 102  min_samples_leaf = 62  0.7542768273716952\n",
      "max_depth = 1 :   min_samples_split = 102  min_samples_leaf = 72  0.7542768273716952\n",
      "max_depth = 1 :   min_samples_split = 102  min_samples_leaf = 82  0.7542768273716952\n",
      "max_depth = 1 :   min_samples_split = 102  min_samples_leaf = 92  0.7542768273716952\n",
      "max_depth = 1 :   min_samples_split = 102  min_samples_leaf = 102  0.7542768273716952\n",
      "max_depth = 1 :   min_samples_split = 102  min_samples_leaf = 112  0.7542768273716952\n",
      "max_depth = 1 :   min_samples_split = 112  min_samples_leaf = 2  0.7542768273716952\n",
      "max_depth = 1 :   min_samples_split = 112  min_samples_leaf = 12  0.7542768273716952\n",
      "max_depth = 1 :   min_samples_split = 112  min_samples_leaf = 22  0.7542768273716952\n",
      "max_depth = 1 :   min_samples_split = 112  min_samples_leaf = 32  0.7542768273716952\n",
      "max_depth = 1 :   min_samples_split = 112  min_samples_leaf = 42  0.7542768273716952\n",
      "max_depth = 1 :   min_samples_split = 112  min_samples_leaf = 52  0.7542768273716952\n",
      "max_depth = 1 :   min_samples_split = 112  min_samples_leaf = 62  0.7542768273716952\n",
      "max_depth = 1 :   min_samples_split = 112  min_samples_leaf = 72  0.7542768273716952\n",
      "max_depth = 1 :   min_samples_split = 112  min_samples_leaf = 82  0.7542768273716952\n",
      "max_depth = 1 :   min_samples_split = 112  min_samples_leaf = 92  0.7542768273716952\n",
      "max_depth = 1 :   min_samples_split = 112  min_samples_leaf = 102  0.7542768273716952\n",
      "max_depth = 1 :   min_samples_split = 112  min_samples_leaf = 112  0.7542768273716952\n",
      "max_depth = 2 :   min_samples_split = 2  min_samples_leaf = 2  0.7822706065318819\n",
      "max_depth = 2 :   min_samples_split = 2  min_samples_leaf = 12  0.7822706065318819\n",
      "max_depth = 2 :   min_samples_split = 2  min_samples_leaf = 22  0.7822706065318819\n",
      "max_depth = 2 :   min_samples_split = 2  min_samples_leaf = 32  0.7822706065318819\n",
      "max_depth = 2 :   min_samples_split = 2  min_samples_leaf = 42  0.7822706065318819\n",
      "max_depth = 2 :   min_samples_split = 2  min_samples_leaf = 52  0.7822706065318819\n",
      "max_depth = 2 :   min_samples_split = 2  min_samples_leaf = 62  0.7822706065318819\n",
      "max_depth = 2 :   min_samples_split = 2  min_samples_leaf = 72  0.7822706065318819\n",
      "max_depth = 2 :   min_samples_split = 2  min_samples_leaf = 82  0.7822706065318819\n",
      "max_depth = 2 :   min_samples_split = 2  min_samples_leaf = 92  0.7822706065318819\n",
      "max_depth = 2 :   min_samples_split = 2  min_samples_leaf = 102  0.7822706065318819\n",
      "max_depth = 2 :   min_samples_split = 2  min_samples_leaf = 112  0.7822706065318819\n",
      "max_depth = 2 :   min_samples_split = 12  min_samples_leaf = 2  0.7822706065318819\n",
      "max_depth = 2 :   min_samples_split = 12  min_samples_leaf = 12  0.7822706065318819\n",
      "max_depth = 2 :   min_samples_split = 12  min_samples_leaf = 22  0.7822706065318819\n",
      "max_depth = 2 :   min_samples_split = 12  min_samples_leaf = 32  0.7822706065318819\n",
      "max_depth = 2 :   min_samples_split = 12  min_samples_leaf = 42  0.7822706065318819\n",
      "max_depth = 2 :   min_samples_split = 12  min_samples_leaf = 52  0.7822706065318819\n",
      "max_depth = 2 :   min_samples_split = 12  min_samples_leaf = 62  0.7822706065318819\n",
      "max_depth = 2 :   min_samples_split = 12  min_samples_leaf = 72  0.7822706065318819\n",
      "max_depth = 2 :   min_samples_split = 12  min_samples_leaf = 82  0.7822706065318819\n",
      "max_depth = 2 :   min_samples_split = 12  min_samples_leaf = 92  0.7822706065318819\n",
      "max_depth = 2 :   min_samples_split = 12  min_samples_leaf = 102  0.7822706065318819\n",
      "max_depth = 2 :   min_samples_split = 12  min_samples_leaf = 112  0.7822706065318819\n",
      "max_depth = 2 :   min_samples_split = 22  min_samples_leaf = 2  0.7822706065318819\n",
      "max_depth = 2 :   min_samples_split = 22  min_samples_leaf = 12  0.7822706065318819\n",
      "max_depth = 2 :   min_samples_split = 22  min_samples_leaf = 22  0.7822706065318819\n",
      "max_depth = 2 :   min_samples_split = 22  min_samples_leaf = 32  0.7822706065318819\n",
      "max_depth = 2 :   min_samples_split = 22  min_samples_leaf = 42  0.7822706065318819\n",
      "max_depth = 2 :   min_samples_split = 22  min_samples_leaf = 52  0.7822706065318819\n",
      "max_depth = 2 :   min_samples_split = 22  min_samples_leaf = 62  0.7822706065318819\n",
      "max_depth = 2 :   min_samples_split = 22  min_samples_leaf = 72  0.7822706065318819\n",
      "max_depth = 2 :   min_samples_split = 22  min_samples_leaf = 82  0.7822706065318819\n",
      "max_depth = 2 :   min_samples_split = 22  min_samples_leaf = 92  0.7822706065318819\n",
      "max_depth = 2 :   min_samples_split = 22  min_samples_leaf = 102  0.7822706065318819\n",
      "max_depth = 2 :   min_samples_split = 22  min_samples_leaf = 112  0.7822706065318819\n",
      "max_depth = 2 :   min_samples_split = 32  min_samples_leaf = 2  0.7822706065318819\n",
      "max_depth = 2 :   min_samples_split = 32  min_samples_leaf = 12  0.7822706065318819\n",
      "max_depth = 2 :   min_samples_split = 32  min_samples_leaf = 22  0.7822706065318819\n",
      "max_depth = 2 :   min_samples_split = 32  min_samples_leaf = 32  0.7822706065318819\n",
      "max_depth = 2 :   min_samples_split = 32  min_samples_leaf = 42  0.7822706065318819\n",
      "max_depth = 2 :   min_samples_split = 32  min_samples_leaf = 52  0.7822706065318819\n",
      "max_depth = 2 :   min_samples_split = 32  min_samples_leaf = 62  0.7822706065318819\n",
      "max_depth = 2 :   min_samples_split = 32  min_samples_leaf = 72  0.7822706065318819\n",
      "max_depth = 2 :   min_samples_split = 32  min_samples_leaf = 82  0.7822706065318819\n",
      "max_depth = 2 :   min_samples_split = 32  min_samples_leaf = 92  0.7822706065318819\n",
      "max_depth = 2 :   min_samples_split = 32  min_samples_leaf = 102  0.7822706065318819\n",
      "max_depth = 2 :   min_samples_split = 32  min_samples_leaf = 112  0.7822706065318819\n",
      "max_depth = 2 :   min_samples_split = 42  min_samples_leaf = 2  0.7822706065318819\n",
      "max_depth = 2 :   min_samples_split = 42  min_samples_leaf = 12  0.7822706065318819\n",
      "max_depth = 2 :   min_samples_split = 42  min_samples_leaf = 22  0.7822706065318819\n",
      "max_depth = 2 :   min_samples_split = 42  min_samples_leaf = 32  0.7822706065318819\n",
      "max_depth = 2 :   min_samples_split = 42  min_samples_leaf = 42  0.7822706065318819\n",
      "max_depth = 2 :   min_samples_split = 42  min_samples_leaf = 52  0.7822706065318819\n",
      "max_depth = 2 :   min_samples_split = 42  min_samples_leaf = 62  0.7822706065318819\n",
      "max_depth = 2 :   min_samples_split = 42  min_samples_leaf = 72  0.7822706065318819\n",
      "max_depth = 2 :   min_samples_split = 42  min_samples_leaf = 82  0.7822706065318819\n",
      "max_depth = 2 :   min_samples_split = 42  min_samples_leaf = 92  0.7822706065318819\n",
      "max_depth = 2 :   min_samples_split = 42  min_samples_leaf = 102  0.7822706065318819\n",
      "max_depth = 2 :   min_samples_split = 42  min_samples_leaf = 112  0.7822706065318819\n",
      "max_depth = 2 :   min_samples_split = 52  min_samples_leaf = 2  0.7822706065318819\n",
      "max_depth = 2 :   min_samples_split = 52  min_samples_leaf = 12  0.7822706065318819\n",
      "max_depth = 2 :   min_samples_split = 52  min_samples_leaf = 22  0.7822706065318819\n",
      "max_depth = 2 :   min_samples_split = 52  min_samples_leaf = 32  0.7822706065318819\n",
      "max_depth = 2 :   min_samples_split = 52  min_samples_leaf = 42  0.7822706065318819\n",
      "max_depth = 2 :   min_samples_split = 52  min_samples_leaf = 52  0.7822706065318819\n",
      "max_depth = 2 :   min_samples_split = 52  min_samples_leaf = 62  0.7822706065318819\n",
      "max_depth = 2 :   min_samples_split = 52  min_samples_leaf = 72  0.7822706065318819\n",
      "max_depth = 2 :   min_samples_split = 52  min_samples_leaf = 82  0.7822706065318819\n",
      "max_depth = 2 :   min_samples_split = 52  min_samples_leaf = 92  0.7822706065318819\n",
      "max_depth = 2 :   min_samples_split = 52  min_samples_leaf = 102  0.7822706065318819\n",
      "max_depth = 2 :   min_samples_split = 52  min_samples_leaf = 112  0.7822706065318819\n",
      "max_depth = 2 :   min_samples_split = 62  min_samples_leaf = 2  0.7822706065318819\n",
      "max_depth = 2 :   min_samples_split = 62  min_samples_leaf = 12  0.7822706065318819\n",
      "max_depth = 2 :   min_samples_split = 62  min_samples_leaf = 22  0.7822706065318819\n",
      "max_depth = 2 :   min_samples_split = 62  min_samples_leaf = 32  0.7822706065318819\n",
      "max_depth = 2 :   min_samples_split = 62  min_samples_leaf = 42  0.7822706065318819\n",
      "max_depth = 2 :   min_samples_split = 62  min_samples_leaf = 52  0.7822706065318819\n",
      "max_depth = 2 :   min_samples_split = 62  min_samples_leaf = 62  0.7822706065318819\n",
      "max_depth = 2 :   min_samples_split = 62  min_samples_leaf = 72  0.7822706065318819\n",
      "max_depth = 2 :   min_samples_split = 62  min_samples_leaf = 82  0.7822706065318819\n",
      "max_depth = 2 :   min_samples_split = 62  min_samples_leaf = 92  0.7822706065318819\n",
      "max_depth = 2 :   min_samples_split = 62  min_samples_leaf = 102  0.7822706065318819\n",
      "max_depth = 2 :   min_samples_split = 62  min_samples_leaf = 112  0.7822706065318819\n",
      "max_depth = 2 :   min_samples_split = 72  min_samples_leaf = 2  0.7822706065318819\n",
      "max_depth = 2 :   min_samples_split = 72  min_samples_leaf = 12  0.7822706065318819\n",
      "max_depth = 2 :   min_samples_split = 72  min_samples_leaf = 22  0.7822706065318819\n",
      "max_depth = 2 :   min_samples_split = 72  min_samples_leaf = 32  0.7822706065318819\n",
      "max_depth = 2 :   min_samples_split = 72  min_samples_leaf = 42  0.7822706065318819\n",
      "max_depth = 2 :   min_samples_split = 72  min_samples_leaf = 52  0.7822706065318819\n",
      "max_depth = 2 :   min_samples_split = 72  min_samples_leaf = 62  0.7822706065318819\n",
      "max_depth = 2 :   min_samples_split = 72  min_samples_leaf = 72  0.7822706065318819\n",
      "max_depth = 2 :   min_samples_split = 72  min_samples_leaf = 82  0.7822706065318819\n",
      "max_depth = 2 :   min_samples_split = 72  min_samples_leaf = 92  0.7822706065318819\n",
      "max_depth = 2 :   min_samples_split = 72  min_samples_leaf = 102  0.7822706065318819\n",
      "max_depth = 2 :   min_samples_split = 72  min_samples_leaf = 112  0.7822706065318819\n",
      "max_depth = 2 :   min_samples_split = 82  min_samples_leaf = 2  0.7822706065318819\n",
      "max_depth = 2 :   min_samples_split = 82  min_samples_leaf = 12  0.7822706065318819\n",
      "max_depth = 2 :   min_samples_split = 82  min_samples_leaf = 22  0.7822706065318819\n",
      "max_depth = 2 :   min_samples_split = 82  min_samples_leaf = 32  0.7822706065318819\n",
      "max_depth = 2 :   min_samples_split = 82  min_samples_leaf = 42  0.7822706065318819\n",
      "max_depth = 2 :   min_samples_split = 82  min_samples_leaf = 52  0.7822706065318819\n",
      "max_depth = 2 :   min_samples_split = 82  min_samples_leaf = 62  0.7822706065318819\n",
      "max_depth = 2 :   min_samples_split = 82  min_samples_leaf = 72  0.7822706065318819\n",
      "max_depth = 2 :   min_samples_split = 82  min_samples_leaf = 82  0.7822706065318819\n",
      "max_depth = 2 :   min_samples_split = 82  min_samples_leaf = 92  0.7822706065318819\n",
      "max_depth = 2 :   min_samples_split = 82  min_samples_leaf = 102  0.7822706065318819\n",
      "max_depth = 2 :   min_samples_split = 82  min_samples_leaf = 112  0.7822706065318819\n",
      "max_depth = 2 :   min_samples_split = 92  min_samples_leaf = 2  0.7822706065318819\n",
      "max_depth = 2 :   min_samples_split = 92  min_samples_leaf = 12  0.7822706065318819\n",
      "max_depth = 2 :   min_samples_split = 92  min_samples_leaf = 22  0.7822706065318819\n",
      "max_depth = 2 :   min_samples_split = 92  min_samples_leaf = 32  0.7822706065318819\n",
      "max_depth = 2 :   min_samples_split = 92  min_samples_leaf = 42  0.7822706065318819\n",
      "max_depth = 2 :   min_samples_split = 92  min_samples_leaf = 52  0.7822706065318819\n",
      "max_depth = 2 :   min_samples_split = 92  min_samples_leaf = 62  0.7822706065318819\n",
      "max_depth = 2 :   min_samples_split = 92  min_samples_leaf = 72  0.7822706065318819\n",
      "max_depth = 2 :   min_samples_split = 92  min_samples_leaf = 82  0.7822706065318819\n",
      "max_depth = 2 :   min_samples_split = 92  min_samples_leaf = 92  0.7822706065318819\n",
      "max_depth = 2 :   min_samples_split = 92  min_samples_leaf = 102  0.7822706065318819\n",
      "max_depth = 2 :   min_samples_split = 92  min_samples_leaf = 112  0.7822706065318819\n",
      "max_depth = 2 :   min_samples_split = 102  min_samples_leaf = 2  0.7822706065318819\n",
      "max_depth = 2 :   min_samples_split = 102  min_samples_leaf = 12  0.7822706065318819\n",
      "max_depth = 2 :   min_samples_split = 102  min_samples_leaf = 22  0.7822706065318819\n",
      "max_depth = 2 :   min_samples_split = 102  min_samples_leaf = 32  0.7822706065318819\n",
      "max_depth = 2 :   min_samples_split = 102  min_samples_leaf = 42  0.7822706065318819\n",
      "max_depth = 2 :   min_samples_split = 102  min_samples_leaf = 52  0.7822706065318819\n",
      "max_depth = 2 :   min_samples_split = 102  min_samples_leaf = 62  0.7822706065318819\n",
      "max_depth = 2 :   min_samples_split = 102  min_samples_leaf = 72  0.7822706065318819\n",
      "max_depth = 2 :   min_samples_split = 102  min_samples_leaf = 82  0.7822706065318819\n",
      "max_depth = 2 :   min_samples_split = 102  min_samples_leaf = 92  0.7822706065318819\n",
      "max_depth = 2 :   min_samples_split = 102  min_samples_leaf = 102  0.7822706065318819\n",
      "max_depth = 2 :   min_samples_split = 102  min_samples_leaf = 112  0.7822706065318819\n",
      "max_depth = 2 :   min_samples_split = 112  min_samples_leaf = 2  0.7822706065318819\n",
      "max_depth = 2 :   min_samples_split = 112  min_samples_leaf = 12  0.7822706065318819\n",
      "max_depth = 2 :   min_samples_split = 112  min_samples_leaf = 22  0.7822706065318819\n",
      "max_depth = 2 :   min_samples_split = 112  min_samples_leaf = 32  0.7822706065318819\n",
      "max_depth = 2 :   min_samples_split = 112  min_samples_leaf = 42  0.7822706065318819\n",
      "max_depth = 2 :   min_samples_split = 112  min_samples_leaf = 52  0.7822706065318819\n",
      "max_depth = 2 :   min_samples_split = 112  min_samples_leaf = 62  0.7822706065318819\n",
      "max_depth = 2 :   min_samples_split = 112  min_samples_leaf = 72  0.7822706065318819\n",
      "max_depth = 2 :   min_samples_split = 112  min_samples_leaf = 82  0.7822706065318819\n",
      "max_depth = 2 :   min_samples_split = 112  min_samples_leaf = 92  0.7822706065318819\n",
      "max_depth = 2 :   min_samples_split = 112  min_samples_leaf = 102  0.7822706065318819\n",
      "max_depth = 2 :   min_samples_split = 112  min_samples_leaf = 112  0.7822706065318819\n",
      "max_depth = 3 :   min_samples_split = 2  min_samples_leaf = 2  0.7853810264385692\n",
      "max_depth = 3 :   min_samples_split = 2  min_samples_leaf = 12  0.7853810264385692\n",
      "max_depth = 3 :   min_samples_split = 2  min_samples_leaf = 22  0.7853810264385692\n",
      "max_depth = 3 :   min_samples_split = 2  min_samples_leaf = 32  0.7853810264385692\n",
      "max_depth = 3 :   min_samples_split = 2  min_samples_leaf = 42  0.7853810264385692\n",
      "max_depth = 3 :   min_samples_split = 2  min_samples_leaf = 52  0.7853810264385692\n",
      "max_depth = 3 :   min_samples_split = 2  min_samples_leaf = 62  0.7776049766718507\n",
      "max_depth = 3 :   min_samples_split = 2  min_samples_leaf = 72  0.7776049766718507\n",
      "max_depth = 3 :   min_samples_split = 2  min_samples_leaf = 82  0.7698289269051322\n",
      "max_depth = 3 :   min_samples_split = 2  min_samples_leaf = 92  0.7698289269051322\n",
      "max_depth = 3 :   min_samples_split = 2  min_samples_leaf = 102  0.7698289269051322\n",
      "max_depth = 3 :   min_samples_split = 2  min_samples_leaf = 112  0.7698289269051322\n",
      "max_depth = 3 :   min_samples_split = 12  min_samples_leaf = 2  0.7853810264385692\n",
      "max_depth = 3 :   min_samples_split = 12  min_samples_leaf = 12  0.7853810264385692\n",
      "max_depth = 3 :   min_samples_split = 12  min_samples_leaf = 22  0.7853810264385692\n",
      "max_depth = 3 :   min_samples_split = 12  min_samples_leaf = 32  0.7853810264385692\n",
      "max_depth = 3 :   min_samples_split = 12  min_samples_leaf = 42  0.7853810264385692\n",
      "max_depth = 3 :   min_samples_split = 12  min_samples_leaf = 52  0.7853810264385692\n",
      "max_depth = 3 :   min_samples_split = 12  min_samples_leaf = 62  0.7776049766718507\n",
      "max_depth = 3 :   min_samples_split = 12  min_samples_leaf = 72  0.7776049766718507\n",
      "max_depth = 3 :   min_samples_split = 12  min_samples_leaf = 82  0.7698289269051322\n",
      "max_depth = 3 :   min_samples_split = 12  min_samples_leaf = 92  0.7698289269051322\n",
      "max_depth = 3 :   min_samples_split = 12  min_samples_leaf = 102  0.7698289269051322\n",
      "max_depth = 3 :   min_samples_split = 12  min_samples_leaf = 112  0.7698289269051322\n",
      "max_depth = 3 :   min_samples_split = 22  min_samples_leaf = 2  0.7853810264385692\n",
      "max_depth = 3 :   min_samples_split = 22  min_samples_leaf = 12  0.7853810264385692\n",
      "max_depth = 3 :   min_samples_split = 22  min_samples_leaf = 22  0.7853810264385692\n",
      "max_depth = 3 :   min_samples_split = 22  min_samples_leaf = 32  0.7853810264385692\n",
      "max_depth = 3 :   min_samples_split = 22  min_samples_leaf = 42  0.7853810264385692\n",
      "max_depth = 3 :   min_samples_split = 22  min_samples_leaf = 52  0.7853810264385692\n",
      "max_depth = 3 :   min_samples_split = 22  min_samples_leaf = 62  0.7776049766718507\n",
      "max_depth = 3 :   min_samples_split = 22  min_samples_leaf = 72  0.7776049766718507\n",
      "max_depth = 3 :   min_samples_split = 22  min_samples_leaf = 82  0.7698289269051322\n",
      "max_depth = 3 :   min_samples_split = 22  min_samples_leaf = 92  0.7698289269051322\n",
      "max_depth = 3 :   min_samples_split = 22  min_samples_leaf = 102  0.7698289269051322\n",
      "max_depth = 3 :   min_samples_split = 22  min_samples_leaf = 112  0.7698289269051322\n",
      "max_depth = 3 :   min_samples_split = 32  min_samples_leaf = 2  0.7853810264385692\n",
      "max_depth = 3 :   min_samples_split = 32  min_samples_leaf = 12  0.7853810264385692\n",
      "max_depth = 3 :   min_samples_split = 32  min_samples_leaf = 22  0.7853810264385692\n",
      "max_depth = 3 :   min_samples_split = 32  min_samples_leaf = 32  0.7853810264385692\n",
      "max_depth = 3 :   min_samples_split = 32  min_samples_leaf = 42  0.7853810264385692\n",
      "max_depth = 3 :   min_samples_split = 32  min_samples_leaf = 52  0.7853810264385692\n",
      "max_depth = 3 :   min_samples_split = 32  min_samples_leaf = 62  0.7776049766718507\n",
      "max_depth = 3 :   min_samples_split = 32  min_samples_leaf = 72  0.7776049766718507\n",
      "max_depth = 3 :   min_samples_split = 32  min_samples_leaf = 82  0.7698289269051322\n",
      "max_depth = 3 :   min_samples_split = 32  min_samples_leaf = 92  0.7698289269051322\n",
      "max_depth = 3 :   min_samples_split = 32  min_samples_leaf = 102  0.7698289269051322\n",
      "max_depth = 3 :   min_samples_split = 32  min_samples_leaf = 112  0.7698289269051322\n",
      "max_depth = 3 :   min_samples_split = 42  min_samples_leaf = 2  0.7853810264385692\n",
      "max_depth = 3 :   min_samples_split = 42  min_samples_leaf = 12  0.7853810264385692\n",
      "max_depth = 3 :   min_samples_split = 42  min_samples_leaf = 22  0.7853810264385692\n",
      "max_depth = 3 :   min_samples_split = 42  min_samples_leaf = 32  0.7853810264385692\n",
      "max_depth = 3 :   min_samples_split = 42  min_samples_leaf = 42  0.7853810264385692\n",
      "max_depth = 3 :   min_samples_split = 42  min_samples_leaf = 52  0.7853810264385692\n",
      "max_depth = 3 :   min_samples_split = 42  min_samples_leaf = 62  0.7776049766718507\n",
      "max_depth = 3 :   min_samples_split = 42  min_samples_leaf = 72  0.7776049766718507\n",
      "max_depth = 3 :   min_samples_split = 42  min_samples_leaf = 82  0.7698289269051322\n",
      "max_depth = 3 :   min_samples_split = 42  min_samples_leaf = 92  0.7698289269051322\n",
      "max_depth = 3 :   min_samples_split = 42  min_samples_leaf = 102  0.7698289269051322\n",
      "max_depth = 3 :   min_samples_split = 42  min_samples_leaf = 112  0.7698289269051322\n",
      "max_depth = 3 :   min_samples_split = 52  min_samples_leaf = 2  0.7853810264385692\n",
      "max_depth = 3 :   min_samples_split = 52  min_samples_leaf = 12  0.7853810264385692\n",
      "max_depth = 3 :   min_samples_split = 52  min_samples_leaf = 22  0.7853810264385692\n",
      "max_depth = 3 :   min_samples_split = 52  min_samples_leaf = 32  0.7853810264385692\n",
      "max_depth = 3 :   min_samples_split = 52  min_samples_leaf = 42  0.7853810264385692\n",
      "max_depth = 3 :   min_samples_split = 52  min_samples_leaf = 52  0.7853810264385692\n",
      "max_depth = 3 :   min_samples_split = 52  min_samples_leaf = 62  0.7776049766718507\n",
      "max_depth = 3 :   min_samples_split = 52  min_samples_leaf = 72  0.7776049766718507\n",
      "max_depth = 3 :   min_samples_split = 52  min_samples_leaf = 82  0.7698289269051322\n",
      "max_depth = 3 :   min_samples_split = 52  min_samples_leaf = 92  0.7698289269051322\n",
      "max_depth = 3 :   min_samples_split = 52  min_samples_leaf = 102  0.7698289269051322\n",
      "max_depth = 3 :   min_samples_split = 52  min_samples_leaf = 112  0.7698289269051322\n",
      "max_depth = 3 :   min_samples_split = 62  min_samples_leaf = 2  0.7853810264385692\n",
      "max_depth = 3 :   min_samples_split = 62  min_samples_leaf = 12  0.7853810264385692\n",
      "max_depth = 3 :   min_samples_split = 62  min_samples_leaf = 22  0.7853810264385692\n",
      "max_depth = 3 :   min_samples_split = 62  min_samples_leaf = 32  0.7853810264385692\n",
      "max_depth = 3 :   min_samples_split = 62  min_samples_leaf = 42  0.7853810264385692\n",
      "max_depth = 3 :   min_samples_split = 62  min_samples_leaf = 52  0.7853810264385692\n",
      "max_depth = 3 :   min_samples_split = 62  min_samples_leaf = 62  0.7776049766718507\n",
      "max_depth = 3 :   min_samples_split = 62  min_samples_leaf = 72  0.7776049766718507\n",
      "max_depth = 3 :   min_samples_split = 62  min_samples_leaf = 82  0.7698289269051322\n",
      "max_depth = 3 :   min_samples_split = 62  min_samples_leaf = 92  0.7698289269051322\n",
      "max_depth = 3 :   min_samples_split = 62  min_samples_leaf = 102  0.7698289269051322\n",
      "max_depth = 3 :   min_samples_split = 62  min_samples_leaf = 112  0.7698289269051322\n",
      "max_depth = 3 :   min_samples_split = 72  min_samples_leaf = 2  0.7853810264385692\n",
      "max_depth = 3 :   min_samples_split = 72  min_samples_leaf = 12  0.7853810264385692\n",
      "max_depth = 3 :   min_samples_split = 72  min_samples_leaf = 22  0.7853810264385692\n",
      "max_depth = 3 :   min_samples_split = 72  min_samples_leaf = 32  0.7853810264385692\n",
      "max_depth = 3 :   min_samples_split = 72  min_samples_leaf = 42  0.7853810264385692\n",
      "max_depth = 3 :   min_samples_split = 72  min_samples_leaf = 52  0.7853810264385692\n",
      "max_depth = 3 :   min_samples_split = 72  min_samples_leaf = 62  0.7776049766718507\n",
      "max_depth = 3 :   min_samples_split = 72  min_samples_leaf = 72  0.7776049766718507\n",
      "max_depth = 3 :   min_samples_split = 72  min_samples_leaf = 82  0.7698289269051322\n",
      "max_depth = 3 :   min_samples_split = 72  min_samples_leaf = 92  0.7698289269051322\n",
      "max_depth = 3 :   min_samples_split = 72  min_samples_leaf = 102  0.7698289269051322\n",
      "max_depth = 3 :   min_samples_split = 72  min_samples_leaf = 112  0.7698289269051322\n",
      "max_depth = 3 :   min_samples_split = 82  min_samples_leaf = 2  0.7853810264385692\n",
      "max_depth = 3 :   min_samples_split = 82  min_samples_leaf = 12  0.7853810264385692\n",
      "max_depth = 3 :   min_samples_split = 82  min_samples_leaf = 22  0.7853810264385692\n",
      "max_depth = 3 :   min_samples_split = 82  min_samples_leaf = 32  0.7853810264385692\n",
      "max_depth = 3 :   min_samples_split = 82  min_samples_leaf = 42  0.7853810264385692\n",
      "max_depth = 3 :   min_samples_split = 82  min_samples_leaf = 52  0.7853810264385692\n",
      "max_depth = 3 :   min_samples_split = 82  min_samples_leaf = 62  0.7776049766718507\n",
      "max_depth = 3 :   min_samples_split = 82  min_samples_leaf = 72  0.7776049766718507\n",
      "max_depth = 3 :   min_samples_split = 82  min_samples_leaf = 82  0.7698289269051322\n",
      "max_depth = 3 :   min_samples_split = 82  min_samples_leaf = 92  0.7698289269051322\n",
      "max_depth = 3 :   min_samples_split = 82  min_samples_leaf = 102  0.7698289269051322\n",
      "max_depth = 3 :   min_samples_split = 82  min_samples_leaf = 112  0.7698289269051322\n",
      "max_depth = 3 :   min_samples_split = 92  min_samples_leaf = 2  0.7853810264385692\n",
      "max_depth = 3 :   min_samples_split = 92  min_samples_leaf = 12  0.7853810264385692\n",
      "max_depth = 3 :   min_samples_split = 92  min_samples_leaf = 22  0.7853810264385692\n",
      "max_depth = 3 :   min_samples_split = 92  min_samples_leaf = 32  0.7853810264385692\n",
      "max_depth = 3 :   min_samples_split = 92  min_samples_leaf = 42  0.7853810264385692\n",
      "max_depth = 3 :   min_samples_split = 92  min_samples_leaf = 52  0.7853810264385692\n",
      "max_depth = 3 :   min_samples_split = 92  min_samples_leaf = 62  0.7776049766718507\n",
      "max_depth = 3 :   min_samples_split = 92  min_samples_leaf = 72  0.7776049766718507\n",
      "max_depth = 3 :   min_samples_split = 92  min_samples_leaf = 82  0.7698289269051322\n",
      "max_depth = 3 :   min_samples_split = 92  min_samples_leaf = 92  0.7698289269051322\n",
      "max_depth = 3 :   min_samples_split = 92  min_samples_leaf = 102  0.7698289269051322\n",
      "max_depth = 3 :   min_samples_split = 92  min_samples_leaf = 112  0.7698289269051322\n",
      "max_depth = 3 :   min_samples_split = 102  min_samples_leaf = 2  0.7853810264385692\n",
      "max_depth = 3 :   min_samples_split = 102  min_samples_leaf = 12  0.7853810264385692\n",
      "max_depth = 3 :   min_samples_split = 102  min_samples_leaf = 22  0.7853810264385692\n",
      "max_depth = 3 :   min_samples_split = 102  min_samples_leaf = 32  0.7853810264385692\n",
      "max_depth = 3 :   min_samples_split = 102  min_samples_leaf = 42  0.7853810264385692\n",
      "max_depth = 3 :   min_samples_split = 102  min_samples_leaf = 52  0.7853810264385692\n",
      "max_depth = 3 :   min_samples_split = 102  min_samples_leaf = 62  0.7776049766718507\n",
      "max_depth = 3 :   min_samples_split = 102  min_samples_leaf = 72  0.7776049766718507\n",
      "max_depth = 3 :   min_samples_split = 102  min_samples_leaf = 82  0.7698289269051322\n",
      "max_depth = 3 :   min_samples_split = 102  min_samples_leaf = 92  0.7698289269051322\n",
      "max_depth = 3 :   min_samples_split = 102  min_samples_leaf = 102  0.7698289269051322\n",
      "max_depth = 3 :   min_samples_split = 102  min_samples_leaf = 112  0.7698289269051322\n",
      "max_depth = 3 :   min_samples_split = 112  min_samples_leaf = 2  0.7853810264385692\n",
      "max_depth = 3 :   min_samples_split = 112  min_samples_leaf = 12  0.7853810264385692\n",
      "max_depth = 3 :   min_samples_split = 112  min_samples_leaf = 22  0.7853810264385692\n",
      "max_depth = 3 :   min_samples_split = 112  min_samples_leaf = 32  0.7853810264385692\n",
      "max_depth = 3 :   min_samples_split = 112  min_samples_leaf = 42  0.7853810264385692\n",
      "max_depth = 3 :   min_samples_split = 112  min_samples_leaf = 52  0.7853810264385692\n",
      "max_depth = 3 :   min_samples_split = 112  min_samples_leaf = 62  0.7776049766718507\n",
      "max_depth = 3 :   min_samples_split = 112  min_samples_leaf = 72  0.7776049766718507\n",
      "max_depth = 3 :   min_samples_split = 112  min_samples_leaf = 82  0.7698289269051322\n",
      "max_depth = 3 :   min_samples_split = 112  min_samples_leaf = 92  0.7698289269051322\n",
      "max_depth = 3 :   min_samples_split = 112  min_samples_leaf = 102  0.7698289269051322\n",
      "max_depth = 3 :   min_samples_split = 112  min_samples_leaf = 112  0.7698289269051322\n",
      "max_depth = 4 :   min_samples_split = 2  min_samples_leaf = 2  0.7791601866251944\n",
      "max_depth = 4 :   min_samples_split = 2  min_samples_leaf = 12  0.7807153965785381\n",
      "max_depth = 4 :   min_samples_split = 2  min_samples_leaf = 22  0.7807153965785381\n",
      "max_depth = 4 :   min_samples_split = 2  min_samples_leaf = 32  0.7807153965785381\n",
      "max_depth = 4 :   min_samples_split = 2  min_samples_leaf = 42  0.7853810264385692\n",
      "max_depth = 4 :   min_samples_split = 2  min_samples_leaf = 52  0.7853810264385692\n",
      "max_depth = 4 :   min_samples_split = 2  min_samples_leaf = 62  0.7776049766718507\n",
      "max_depth = 4 :   min_samples_split = 2  min_samples_leaf = 72  0.7776049766718507\n",
      "max_depth = 4 :   min_samples_split = 2  min_samples_leaf = 82  0.7698289269051322\n",
      "max_depth = 4 :   min_samples_split = 2  min_samples_leaf = 92  0.7698289269051322\n",
      "max_depth = 4 :   min_samples_split = 2  min_samples_leaf = 102  0.7698289269051322\n",
      "max_depth = 4 :   min_samples_split = 2  min_samples_leaf = 112  0.7698289269051322\n",
      "max_depth = 4 :   min_samples_split = 12  min_samples_leaf = 2  0.7791601866251944\n",
      "max_depth = 4 :   min_samples_split = 12  min_samples_leaf = 12  0.7807153965785381\n",
      "max_depth = 4 :   min_samples_split = 12  min_samples_leaf = 22  0.7807153965785381\n",
      "max_depth = 4 :   min_samples_split = 12  min_samples_leaf = 32  0.7807153965785381\n",
      "max_depth = 4 :   min_samples_split = 12  min_samples_leaf = 42  0.7853810264385692\n",
      "max_depth = 4 :   min_samples_split = 12  min_samples_leaf = 52  0.7853810264385692\n",
      "max_depth = 4 :   min_samples_split = 12  min_samples_leaf = 62  0.7776049766718507\n",
      "max_depth = 4 :   min_samples_split = 12  min_samples_leaf = 72  0.7776049766718507\n",
      "max_depth = 4 :   min_samples_split = 12  min_samples_leaf = 82  0.7698289269051322\n",
      "max_depth = 4 :   min_samples_split = 12  min_samples_leaf = 92  0.7698289269051322\n",
      "max_depth = 4 :   min_samples_split = 12  min_samples_leaf = 102  0.7698289269051322\n",
      "max_depth = 4 :   min_samples_split = 12  min_samples_leaf = 112  0.7698289269051322\n",
      "max_depth = 4 :   min_samples_split = 22  min_samples_leaf = 2  0.7791601866251944\n",
      "max_depth = 4 :   min_samples_split = 22  min_samples_leaf = 12  0.7807153965785381\n",
      "max_depth = 4 :   min_samples_split = 22  min_samples_leaf = 22  0.7807153965785381\n",
      "max_depth = 4 :   min_samples_split = 22  min_samples_leaf = 32  0.7807153965785381\n",
      "max_depth = 4 :   min_samples_split = 22  min_samples_leaf = 42  0.7853810264385692\n",
      "max_depth = 4 :   min_samples_split = 22  min_samples_leaf = 52  0.7853810264385692\n",
      "max_depth = 4 :   min_samples_split = 22  min_samples_leaf = 62  0.7776049766718507\n",
      "max_depth = 4 :   min_samples_split = 22  min_samples_leaf = 72  0.7776049766718507\n",
      "max_depth = 4 :   min_samples_split = 22  min_samples_leaf = 82  0.7698289269051322\n",
      "max_depth = 4 :   min_samples_split = 22  min_samples_leaf = 92  0.7698289269051322\n",
      "max_depth = 4 :   min_samples_split = 22  min_samples_leaf = 102  0.7698289269051322\n",
      "max_depth = 4 :   min_samples_split = 22  min_samples_leaf = 112  0.7698289269051322\n",
      "max_depth = 4 :   min_samples_split = 32  min_samples_leaf = 2  0.7791601866251944\n",
      "max_depth = 4 :   min_samples_split = 32  min_samples_leaf = 12  0.7807153965785381\n",
      "max_depth = 4 :   min_samples_split = 32  min_samples_leaf = 22  0.7807153965785381\n",
      "max_depth = 4 :   min_samples_split = 32  min_samples_leaf = 32  0.7807153965785381\n",
      "max_depth = 4 :   min_samples_split = 32  min_samples_leaf = 42  0.7853810264385692\n",
      "max_depth = 4 :   min_samples_split = 32  min_samples_leaf = 52  0.7853810264385692\n",
      "max_depth = 4 :   min_samples_split = 32  min_samples_leaf = 62  0.7776049766718507\n",
      "max_depth = 4 :   min_samples_split = 32  min_samples_leaf = 72  0.7776049766718507\n",
      "max_depth = 4 :   min_samples_split = 32  min_samples_leaf = 82  0.7698289269051322\n",
      "max_depth = 4 :   min_samples_split = 32  min_samples_leaf = 92  0.7698289269051322\n",
      "max_depth = 4 :   min_samples_split = 32  min_samples_leaf = 102  0.7698289269051322\n",
      "max_depth = 4 :   min_samples_split = 32  min_samples_leaf = 112  0.7698289269051322\n",
      "max_depth = 4 :   min_samples_split = 42  min_samples_leaf = 2  0.7807153965785381\n",
      "max_depth = 4 :   min_samples_split = 42  min_samples_leaf = 12  0.7807153965785381\n",
      "max_depth = 4 :   min_samples_split = 42  min_samples_leaf = 22  0.7807153965785381\n",
      "max_depth = 4 :   min_samples_split = 42  min_samples_leaf = 32  0.7807153965785381\n",
      "max_depth = 4 :   min_samples_split = 42  min_samples_leaf = 42  0.7853810264385692\n",
      "max_depth = 4 :   min_samples_split = 42  min_samples_leaf = 52  0.7853810264385692\n",
      "max_depth = 4 :   min_samples_split = 42  min_samples_leaf = 62  0.7776049766718507\n",
      "max_depth = 4 :   min_samples_split = 42  min_samples_leaf = 72  0.7776049766718507\n",
      "max_depth = 4 :   min_samples_split = 42  min_samples_leaf = 82  0.7698289269051322\n",
      "max_depth = 4 :   min_samples_split = 42  min_samples_leaf = 92  0.7698289269051322\n",
      "max_depth = 4 :   min_samples_split = 42  min_samples_leaf = 102  0.7698289269051322\n",
      "max_depth = 4 :   min_samples_split = 42  min_samples_leaf = 112  0.7698289269051322\n",
      "max_depth = 4 :   min_samples_split = 52  min_samples_leaf = 2  0.7807153965785381\n",
      "max_depth = 4 :   min_samples_split = 52  min_samples_leaf = 12  0.7807153965785381\n",
      "max_depth = 4 :   min_samples_split = 52  min_samples_leaf = 22  0.7807153965785381\n",
      "max_depth = 4 :   min_samples_split = 52  min_samples_leaf = 32  0.7807153965785381\n",
      "max_depth = 4 :   min_samples_split = 52  min_samples_leaf = 42  0.7853810264385692\n",
      "max_depth = 4 :   min_samples_split = 52  min_samples_leaf = 52  0.7853810264385692\n",
      "max_depth = 4 :   min_samples_split = 52  min_samples_leaf = 62  0.7776049766718507\n",
      "max_depth = 4 :   min_samples_split = 52  min_samples_leaf = 72  0.7776049766718507\n",
      "max_depth = 4 :   min_samples_split = 52  min_samples_leaf = 82  0.7698289269051322\n",
      "max_depth = 4 :   min_samples_split = 52  min_samples_leaf = 92  0.7698289269051322\n",
      "max_depth = 4 :   min_samples_split = 52  min_samples_leaf = 102  0.7698289269051322\n",
      "max_depth = 4 :   min_samples_split = 52  min_samples_leaf = 112  0.7698289269051322\n",
      "max_depth = 4 :   min_samples_split = 62  min_samples_leaf = 2  0.7807153965785381\n",
      "max_depth = 4 :   min_samples_split = 62  min_samples_leaf = 12  0.7807153965785381\n",
      "max_depth = 4 :   min_samples_split = 62  min_samples_leaf = 22  0.7807153965785381\n",
      "max_depth = 4 :   min_samples_split = 62  min_samples_leaf = 32  0.7807153965785381\n",
      "max_depth = 4 :   min_samples_split = 62  min_samples_leaf = 42  0.7853810264385692\n",
      "max_depth = 4 :   min_samples_split = 62  min_samples_leaf = 52  0.7853810264385692\n",
      "max_depth = 4 :   min_samples_split = 62  min_samples_leaf = 62  0.7776049766718507\n",
      "max_depth = 4 :   min_samples_split = 62  min_samples_leaf = 72  0.7776049766718507\n",
      "max_depth = 4 :   min_samples_split = 62  min_samples_leaf = 82  0.7698289269051322\n",
      "max_depth = 4 :   min_samples_split = 62  min_samples_leaf = 92  0.7698289269051322\n",
      "max_depth = 4 :   min_samples_split = 62  min_samples_leaf = 102  0.7698289269051322\n",
      "max_depth = 4 :   min_samples_split = 62  min_samples_leaf = 112  0.7698289269051322\n",
      "max_depth = 4 :   min_samples_split = 72  min_samples_leaf = 2  0.7807153965785381\n",
      "max_depth = 4 :   min_samples_split = 72  min_samples_leaf = 12  0.7807153965785381\n",
      "max_depth = 4 :   min_samples_split = 72  min_samples_leaf = 22  0.7807153965785381\n",
      "max_depth = 4 :   min_samples_split = 72  min_samples_leaf = 32  0.7807153965785381\n",
      "max_depth = 4 :   min_samples_split = 72  min_samples_leaf = 42  0.7853810264385692\n",
      "max_depth = 4 :   min_samples_split = 72  min_samples_leaf = 52  0.7853810264385692\n",
      "max_depth = 4 :   min_samples_split = 72  min_samples_leaf = 62  0.7776049766718507\n",
      "max_depth = 4 :   min_samples_split = 72  min_samples_leaf = 72  0.7776049766718507\n",
      "max_depth = 4 :   min_samples_split = 72  min_samples_leaf = 82  0.7698289269051322\n",
      "max_depth = 4 :   min_samples_split = 72  min_samples_leaf = 92  0.7698289269051322\n",
      "max_depth = 4 :   min_samples_split = 72  min_samples_leaf = 102  0.7698289269051322\n",
      "max_depth = 4 :   min_samples_split = 72  min_samples_leaf = 112  0.7698289269051322\n",
      "max_depth = 4 :   min_samples_split = 82  min_samples_leaf = 2  0.7853810264385692\n",
      "max_depth = 4 :   min_samples_split = 82  min_samples_leaf = 12  0.7853810264385692\n",
      "max_depth = 4 :   min_samples_split = 82  min_samples_leaf = 22  0.7853810264385692\n",
      "max_depth = 4 :   min_samples_split = 82  min_samples_leaf = 32  0.7853810264385692\n",
      "max_depth = 4 :   min_samples_split = 82  min_samples_leaf = 42  0.7853810264385692\n",
      "max_depth = 4 :   min_samples_split = 82  min_samples_leaf = 52  0.7853810264385692\n",
      "max_depth = 4 :   min_samples_split = 82  min_samples_leaf = 62  0.7776049766718507\n",
      "max_depth = 4 :   min_samples_split = 82  min_samples_leaf = 72  0.7776049766718507\n",
      "max_depth = 4 :   min_samples_split = 82  min_samples_leaf = 82  0.7698289269051322\n",
      "max_depth = 4 :   min_samples_split = 82  min_samples_leaf = 92  0.7698289269051322\n",
      "max_depth = 4 :   min_samples_split = 82  min_samples_leaf = 102  0.7698289269051322\n",
      "max_depth = 4 :   min_samples_split = 82  min_samples_leaf = 112  0.7698289269051322\n",
      "max_depth = 4 :   min_samples_split = 92  min_samples_leaf = 2  0.7853810264385692\n",
      "max_depth = 4 :   min_samples_split = 92  min_samples_leaf = 12  0.7853810264385692\n",
      "max_depth = 4 :   min_samples_split = 92  min_samples_leaf = 22  0.7853810264385692\n",
      "max_depth = 4 :   min_samples_split = 92  min_samples_leaf = 32  0.7853810264385692\n",
      "max_depth = 4 :   min_samples_split = 92  min_samples_leaf = 42  0.7853810264385692\n",
      "max_depth = 4 :   min_samples_split = 92  min_samples_leaf = 52  0.7853810264385692\n",
      "max_depth = 4 :   min_samples_split = 92  min_samples_leaf = 62  0.7776049766718507\n",
      "max_depth = 4 :   min_samples_split = 92  min_samples_leaf = 72  0.7776049766718507\n",
      "max_depth = 4 :   min_samples_split = 92  min_samples_leaf = 82  0.7698289269051322\n",
      "max_depth = 4 :   min_samples_split = 92  min_samples_leaf = 92  0.7698289269051322\n",
      "max_depth = 4 :   min_samples_split = 92  min_samples_leaf = 102  0.7698289269051322\n",
      "max_depth = 4 :   min_samples_split = 92  min_samples_leaf = 112  0.7698289269051322\n",
      "max_depth = 4 :   min_samples_split = 102  min_samples_leaf = 2  0.7853810264385692\n",
      "max_depth = 4 :   min_samples_split = 102  min_samples_leaf = 12  0.7853810264385692\n",
      "max_depth = 4 :   min_samples_split = 102  min_samples_leaf = 22  0.7853810264385692\n",
      "max_depth = 4 :   min_samples_split = 102  min_samples_leaf = 32  0.7853810264385692\n",
      "max_depth = 4 :   min_samples_split = 102  min_samples_leaf = 42  0.7853810264385692\n",
      "max_depth = 4 :   min_samples_split = 102  min_samples_leaf = 52  0.7853810264385692\n",
      "max_depth = 4 :   min_samples_split = 102  min_samples_leaf = 62  0.7776049766718507\n",
      "max_depth = 4 :   min_samples_split = 102  min_samples_leaf = 72  0.7776049766718507\n",
      "max_depth = 4 :   min_samples_split = 102  min_samples_leaf = 82  0.7698289269051322\n",
      "max_depth = 4 :   min_samples_split = 102  min_samples_leaf = 92  0.7698289269051322\n",
      "max_depth = 4 :   min_samples_split = 102  min_samples_leaf = 102  0.7698289269051322\n",
      "max_depth = 4 :   min_samples_split = 102  min_samples_leaf = 112  0.7698289269051322\n",
      "max_depth = 4 :   min_samples_split = 112  min_samples_leaf = 2  0.7853810264385692\n",
      "max_depth = 4 :   min_samples_split = 112  min_samples_leaf = 12  0.7853810264385692\n",
      "max_depth = 4 :   min_samples_split = 112  min_samples_leaf = 22  0.7853810264385692\n",
      "max_depth = 4 :   min_samples_split = 112  min_samples_leaf = 32  0.7853810264385692\n",
      "max_depth = 4 :   min_samples_split = 112  min_samples_leaf = 42  0.7853810264385692\n",
      "max_depth = 4 :   min_samples_split = 112  min_samples_leaf = 52  0.7853810264385692\n",
      "max_depth = 4 :   min_samples_split = 112  min_samples_leaf = 62  0.7776049766718507\n",
      "max_depth = 4 :   min_samples_split = 112  min_samples_leaf = 72  0.7776049766718507\n",
      "max_depth = 4 :   min_samples_split = 112  min_samples_leaf = 82  0.7698289269051322\n",
      "max_depth = 4 :   min_samples_split = 112  min_samples_leaf = 92  0.7698289269051322\n",
      "max_depth = 4 :   min_samples_split = 112  min_samples_leaf = 102  0.7698289269051322\n",
      "max_depth = 4 :   min_samples_split = 112  min_samples_leaf = 112  0.7698289269051322\n",
      "max_depth = 5 :   min_samples_split = 2  min_samples_leaf = 2  0.7776049766718507\n",
      "max_depth = 5 :   min_samples_split = 2  min_samples_leaf = 12  0.7807153965785381\n",
      "max_depth = 5 :   min_samples_split = 2  min_samples_leaf = 22  0.7776049766718507\n",
      "max_depth = 5 :   min_samples_split = 2  min_samples_leaf = 32  0.7807153965785381\n",
      "max_depth = 5 :   min_samples_split = 2  min_samples_leaf = 42  0.7853810264385692\n",
      "max_depth = 5 :   min_samples_split = 2  min_samples_leaf = 52  0.7853810264385692\n",
      "max_depth = 5 :   min_samples_split = 2  min_samples_leaf = 62  0.7776049766718507\n",
      "max_depth = 5 :   min_samples_split = 2  min_samples_leaf = 72  0.7776049766718507\n",
      "max_depth = 5 :   min_samples_split = 2  min_samples_leaf = 82  0.7698289269051322\n",
      "max_depth = 5 :   min_samples_split = 2  min_samples_leaf = 92  0.7698289269051322\n",
      "max_depth = 5 :   min_samples_split = 2  min_samples_leaf = 102  0.7698289269051322\n",
      "max_depth = 5 :   min_samples_split = 2  min_samples_leaf = 112  0.7698289269051322\n",
      "max_depth = 5 :   min_samples_split = 12  min_samples_leaf = 2  0.7776049766718507\n",
      "max_depth = 5 :   min_samples_split = 12  min_samples_leaf = 12  0.7807153965785381\n",
      "max_depth = 5 :   min_samples_split = 12  min_samples_leaf = 22  0.7776049766718507\n",
      "max_depth = 5 :   min_samples_split = 12  min_samples_leaf = 32  0.7807153965785381\n",
      "max_depth = 5 :   min_samples_split = 12  min_samples_leaf = 42  0.7853810264385692\n",
      "max_depth = 5 :   min_samples_split = 12  min_samples_leaf = 52  0.7853810264385692\n",
      "max_depth = 5 :   min_samples_split = 12  min_samples_leaf = 62  0.7776049766718507\n",
      "max_depth = 5 :   min_samples_split = 12  min_samples_leaf = 72  0.7776049766718507\n",
      "max_depth = 5 :   min_samples_split = 12  min_samples_leaf = 82  0.7698289269051322\n",
      "max_depth = 5 :   min_samples_split = 12  min_samples_leaf = 92  0.7698289269051322\n",
      "max_depth = 5 :   min_samples_split = 12  min_samples_leaf = 102  0.7698289269051322\n",
      "max_depth = 5 :   min_samples_split = 12  min_samples_leaf = 112  0.7698289269051322\n",
      "max_depth = 5 :   min_samples_split = 22  min_samples_leaf = 2  0.7776049766718507\n",
      "max_depth = 5 :   min_samples_split = 22  min_samples_leaf = 12  0.7807153965785381\n",
      "max_depth = 5 :   min_samples_split = 22  min_samples_leaf = 22  0.7776049766718507\n",
      "max_depth = 5 :   min_samples_split = 22  min_samples_leaf = 32  0.7807153965785381\n",
      "max_depth = 5 :   min_samples_split = 22  min_samples_leaf = 42  0.7853810264385692\n",
      "max_depth = 5 :   min_samples_split = 22  min_samples_leaf = 52  0.7853810264385692\n",
      "max_depth = 5 :   min_samples_split = 22  min_samples_leaf = 62  0.7776049766718507\n",
      "max_depth = 5 :   min_samples_split = 22  min_samples_leaf = 72  0.7776049766718507\n",
      "max_depth = 5 :   min_samples_split = 22  min_samples_leaf = 82  0.7698289269051322\n",
      "max_depth = 5 :   min_samples_split = 22  min_samples_leaf = 92  0.7698289269051322\n",
      "max_depth = 5 :   min_samples_split = 22  min_samples_leaf = 102  0.7698289269051322\n",
      "max_depth = 5 :   min_samples_split = 22  min_samples_leaf = 112  0.7698289269051322\n",
      "max_depth = 5 :   min_samples_split = 32  min_samples_leaf = 2  0.7776049766718507\n",
      "max_depth = 5 :   min_samples_split = 32  min_samples_leaf = 12  0.7807153965785381\n",
      "max_depth = 5 :   min_samples_split = 32  min_samples_leaf = 22  0.7776049766718507\n",
      "max_depth = 5 :   min_samples_split = 32  min_samples_leaf = 32  0.7807153965785381\n",
      "max_depth = 5 :   min_samples_split = 32  min_samples_leaf = 42  0.7853810264385692\n",
      "max_depth = 5 :   min_samples_split = 32  min_samples_leaf = 52  0.7853810264385692\n",
      "max_depth = 5 :   min_samples_split = 32  min_samples_leaf = 62  0.7776049766718507\n",
      "max_depth = 5 :   min_samples_split = 32  min_samples_leaf = 72  0.7776049766718507\n",
      "max_depth = 5 :   min_samples_split = 32  min_samples_leaf = 82  0.7698289269051322\n",
      "max_depth = 5 :   min_samples_split = 32  min_samples_leaf = 92  0.7698289269051322\n",
      "max_depth = 5 :   min_samples_split = 32  min_samples_leaf = 102  0.7698289269051322\n",
      "max_depth = 5 :   min_samples_split = 32  min_samples_leaf = 112  0.7698289269051322\n",
      "max_depth = 5 :   min_samples_split = 42  min_samples_leaf = 2  0.7822706065318819\n",
      "max_depth = 5 :   min_samples_split = 42  min_samples_leaf = 12  0.7822706065318819\n",
      "max_depth = 5 :   min_samples_split = 42  min_samples_leaf = 22  0.7776049766718507\n",
      "max_depth = 5 :   min_samples_split = 42  min_samples_leaf = 32  0.7807153965785381\n",
      "max_depth = 5 :   min_samples_split = 42  min_samples_leaf = 42  0.7853810264385692\n",
      "max_depth = 5 :   min_samples_split = 42  min_samples_leaf = 52  0.7853810264385692\n",
      "max_depth = 5 :   min_samples_split = 42  min_samples_leaf = 62  0.7776049766718507\n",
      "max_depth = 5 :   min_samples_split = 42  min_samples_leaf = 72  0.7776049766718507\n",
      "max_depth = 5 :   min_samples_split = 42  min_samples_leaf = 82  0.7698289269051322\n",
      "max_depth = 5 :   min_samples_split = 42  min_samples_leaf = 92  0.7698289269051322\n",
      "max_depth = 5 :   min_samples_split = 42  min_samples_leaf = 102  0.7698289269051322\n",
      "max_depth = 5 :   min_samples_split = 42  min_samples_leaf = 112  0.7698289269051322\n",
      "max_depth = 5 :   min_samples_split = 52  min_samples_leaf = 2  0.7822706065318819\n",
      "max_depth = 5 :   min_samples_split = 52  min_samples_leaf = 12  0.7822706065318819\n",
      "max_depth = 5 :   min_samples_split = 52  min_samples_leaf = 22  0.7776049766718507\n",
      "max_depth = 5 :   min_samples_split = 52  min_samples_leaf = 32  0.7807153965785381\n",
      "max_depth = 5 :   min_samples_split = 52  min_samples_leaf = 42  0.7853810264385692\n",
      "max_depth = 5 :   min_samples_split = 52  min_samples_leaf = 52  0.7853810264385692\n",
      "max_depth = 5 :   min_samples_split = 52  min_samples_leaf = 62  0.7776049766718507\n",
      "max_depth = 5 :   min_samples_split = 52  min_samples_leaf = 72  0.7776049766718507\n",
      "max_depth = 5 :   min_samples_split = 52  min_samples_leaf = 82  0.7698289269051322\n",
      "max_depth = 5 :   min_samples_split = 52  min_samples_leaf = 92  0.7698289269051322\n",
      "max_depth = 5 :   min_samples_split = 52  min_samples_leaf = 102  0.7698289269051322\n",
      "max_depth = 5 :   min_samples_split = 52  min_samples_leaf = 112  0.7698289269051322\n",
      "max_depth = 5 :   min_samples_split = 62  min_samples_leaf = 2  0.7822706065318819\n",
      "max_depth = 5 :   min_samples_split = 62  min_samples_leaf = 12  0.7822706065318819\n",
      "max_depth = 5 :   min_samples_split = 62  min_samples_leaf = 22  0.7776049766718507\n",
      "max_depth = 5 :   min_samples_split = 62  min_samples_leaf = 32  0.7807153965785381\n",
      "max_depth = 5 :   min_samples_split = 62  min_samples_leaf = 42  0.7853810264385692\n",
      "max_depth = 5 :   min_samples_split = 62  min_samples_leaf = 52  0.7853810264385692\n",
      "max_depth = 5 :   min_samples_split = 62  min_samples_leaf = 62  0.7776049766718507\n",
      "max_depth = 5 :   min_samples_split = 62  min_samples_leaf = 72  0.7776049766718507\n",
      "max_depth = 5 :   min_samples_split = 62  min_samples_leaf = 82  0.7698289269051322\n",
      "max_depth = 5 :   min_samples_split = 62  min_samples_leaf = 92  0.7698289269051322\n",
      "max_depth = 5 :   min_samples_split = 62  min_samples_leaf = 102  0.7698289269051322\n",
      "max_depth = 5 :   min_samples_split = 62  min_samples_leaf = 112  0.7698289269051322\n",
      "max_depth = 5 :   min_samples_split = 72  min_samples_leaf = 2  0.7822706065318819\n",
      "max_depth = 5 :   min_samples_split = 72  min_samples_leaf = 12  0.7822706065318819\n",
      "max_depth = 5 :   min_samples_split = 72  min_samples_leaf = 22  0.7776049766718507\n",
      "max_depth = 5 :   min_samples_split = 72  min_samples_leaf = 32  0.7807153965785381\n",
      "max_depth = 5 :   min_samples_split = 72  min_samples_leaf = 42  0.7853810264385692\n",
      "max_depth = 5 :   min_samples_split = 72  min_samples_leaf = 52  0.7853810264385692\n",
      "max_depth = 5 :   min_samples_split = 72  min_samples_leaf = 62  0.7776049766718507\n",
      "max_depth = 5 :   min_samples_split = 72  min_samples_leaf = 72  0.7776049766718507\n",
      "max_depth = 5 :   min_samples_split = 72  min_samples_leaf = 82  0.7698289269051322\n",
      "max_depth = 5 :   min_samples_split = 72  min_samples_leaf = 92  0.7698289269051322\n",
      "max_depth = 5 :   min_samples_split = 72  min_samples_leaf = 102  0.7698289269051322\n",
      "max_depth = 5 :   min_samples_split = 72  min_samples_leaf = 112  0.7698289269051322\n",
      "max_depth = 5 :   min_samples_split = 82  min_samples_leaf = 2  0.7869362363919129\n",
      "max_depth = 5 :   min_samples_split = 82  min_samples_leaf = 12  0.7869362363919129\n",
      "max_depth = 5 :   min_samples_split = 82  min_samples_leaf = 22  0.7822706065318819\n",
      "max_depth = 5 :   min_samples_split = 82  min_samples_leaf = 32  0.7853810264385692\n",
      "max_depth = 5 :   min_samples_split = 82  min_samples_leaf = 42  0.7853810264385692\n",
      "max_depth = 5 :   min_samples_split = 82  min_samples_leaf = 52  0.7853810264385692\n",
      "max_depth = 5 :   min_samples_split = 82  min_samples_leaf = 62  0.7776049766718507\n",
      "max_depth = 5 :   min_samples_split = 82  min_samples_leaf = 72  0.7776049766718507\n",
      "max_depth = 5 :   min_samples_split = 82  min_samples_leaf = 82  0.7698289269051322\n",
      "max_depth = 5 :   min_samples_split = 82  min_samples_leaf = 92  0.7698289269051322\n",
      "max_depth = 5 :   min_samples_split = 82  min_samples_leaf = 102  0.7698289269051322\n",
      "max_depth = 5 :   min_samples_split = 82  min_samples_leaf = 112  0.7698289269051322\n",
      "max_depth = 5 :   min_samples_split = 92  min_samples_leaf = 2  0.7869362363919129\n",
      "max_depth = 5 :   min_samples_split = 92  min_samples_leaf = 12  0.7869362363919129\n",
      "max_depth = 5 :   min_samples_split = 92  min_samples_leaf = 22  0.7822706065318819\n",
      "max_depth = 5 :   min_samples_split = 92  min_samples_leaf = 32  0.7853810264385692\n",
      "max_depth = 5 :   min_samples_split = 92  min_samples_leaf = 42  0.7853810264385692\n",
      "max_depth = 5 :   min_samples_split = 92  min_samples_leaf = 52  0.7853810264385692\n",
      "max_depth = 5 :   min_samples_split = 92  min_samples_leaf = 62  0.7776049766718507\n",
      "max_depth = 5 :   min_samples_split = 92  min_samples_leaf = 72  0.7776049766718507\n",
      "max_depth = 5 :   min_samples_split = 92  min_samples_leaf = 82  0.7698289269051322\n",
      "max_depth = 5 :   min_samples_split = 92  min_samples_leaf = 92  0.7698289269051322\n",
      "max_depth = 5 :   min_samples_split = 92  min_samples_leaf = 102  0.7698289269051322\n",
      "max_depth = 5 :   min_samples_split = 92  min_samples_leaf = 112  0.7698289269051322\n",
      "max_depth = 5 :   min_samples_split = 102  min_samples_leaf = 2  0.7869362363919129\n",
      "max_depth = 5 :   min_samples_split = 102  min_samples_leaf = 12  0.7869362363919129\n",
      "max_depth = 5 :   min_samples_split = 102  min_samples_leaf = 22  0.7822706065318819\n",
      "max_depth = 5 :   min_samples_split = 102  min_samples_leaf = 32  0.7853810264385692\n",
      "max_depth = 5 :   min_samples_split = 102  min_samples_leaf = 42  0.7853810264385692\n",
      "max_depth = 5 :   min_samples_split = 102  min_samples_leaf = 52  0.7853810264385692\n",
      "max_depth = 5 :   min_samples_split = 102  min_samples_leaf = 62  0.7776049766718507\n",
      "max_depth = 5 :   min_samples_split = 102  min_samples_leaf = 72  0.7776049766718507\n",
      "max_depth = 5 :   min_samples_split = 102  min_samples_leaf = 82  0.7698289269051322\n",
      "max_depth = 5 :   min_samples_split = 102  min_samples_leaf = 92  0.7698289269051322\n",
      "max_depth = 5 :   min_samples_split = 102  min_samples_leaf = 102  0.7698289269051322\n",
      "max_depth = 5 :   min_samples_split = 102  min_samples_leaf = 112  0.7698289269051322\n",
      "max_depth = 5 :   min_samples_split = 112  min_samples_leaf = 2  0.7869362363919129\n",
      "max_depth = 5 :   min_samples_split = 112  min_samples_leaf = 12  0.7869362363919129\n",
      "max_depth = 5 :   min_samples_split = 112  min_samples_leaf = 22  0.7822706065318819\n",
      "max_depth = 5 :   min_samples_split = 112  min_samples_leaf = 32  0.7853810264385692\n",
      "max_depth = 5 :   min_samples_split = 112  min_samples_leaf = 42  0.7853810264385692\n",
      "max_depth = 5 :   min_samples_split = 112  min_samples_leaf = 52  0.7853810264385692\n",
      "max_depth = 5 :   min_samples_split = 112  min_samples_leaf = 62  0.7776049766718507\n",
      "max_depth = 5 :   min_samples_split = 112  min_samples_leaf = 72  0.7776049766718507\n",
      "max_depth = 5 :   min_samples_split = 112  min_samples_leaf = 82  0.7698289269051322\n",
      "max_depth = 5 :   min_samples_split = 112  min_samples_leaf = 92  0.7698289269051322\n",
      "max_depth = 5 :   min_samples_split = 112  min_samples_leaf = 102  0.7698289269051322\n",
      "max_depth = 5 :   min_samples_split = 112  min_samples_leaf = 112  0.7698289269051322\n",
      "max_depth = 6 :   min_samples_split = 2  min_samples_leaf = 2  0.7791601866251944\n",
      "max_depth = 6 :   min_samples_split = 2  min_samples_leaf = 12  0.7807153965785381\n",
      "max_depth = 6 :   min_samples_split = 2  min_samples_leaf = 22  0.7807153965785381\n",
      "max_depth = 6 :   min_samples_split = 2  min_samples_leaf = 32  0.7822706065318819\n",
      "max_depth = 6 :   min_samples_split = 2  min_samples_leaf = 42  0.7869362363919129\n",
      "max_depth = 6 :   min_samples_split = 2  min_samples_leaf = 52  0.7869362363919129\n",
      "max_depth = 6 :   min_samples_split = 2  min_samples_leaf = 62  0.7776049766718507\n",
      "max_depth = 6 :   min_samples_split = 2  min_samples_leaf = 72  0.7776049766718507\n",
      "max_depth = 6 :   min_samples_split = 2  min_samples_leaf = 82  0.7698289269051322\n",
      "max_depth = 6 :   min_samples_split = 2  min_samples_leaf = 92  0.7698289269051322\n",
      "max_depth = 6 :   min_samples_split = 2  min_samples_leaf = 102  0.7698289269051322\n",
      "max_depth = 6 :   min_samples_split = 2  min_samples_leaf = 112  0.7698289269051322\n",
      "max_depth = 6 :   min_samples_split = 12  min_samples_leaf = 2  0.7822706065318819\n",
      "max_depth = 6 :   min_samples_split = 12  min_samples_leaf = 12  0.7807153965785381\n",
      "max_depth = 6 :   min_samples_split = 12  min_samples_leaf = 22  0.7807153965785381\n",
      "max_depth = 6 :   min_samples_split = 12  min_samples_leaf = 32  0.7822706065318819\n",
      "max_depth = 6 :   min_samples_split = 12  min_samples_leaf = 42  0.7869362363919129\n",
      "max_depth = 6 :   min_samples_split = 12  min_samples_leaf = 52  0.7869362363919129\n",
      "max_depth = 6 :   min_samples_split = 12  min_samples_leaf = 62  0.7776049766718507\n",
      "max_depth = 6 :   min_samples_split = 12  min_samples_leaf = 72  0.7776049766718507\n",
      "max_depth = 6 :   min_samples_split = 12  min_samples_leaf = 82  0.7698289269051322\n",
      "max_depth = 6 :   min_samples_split = 12  min_samples_leaf = 92  0.7698289269051322\n",
      "max_depth = 6 :   min_samples_split = 12  min_samples_leaf = 102  0.7698289269051322\n",
      "max_depth = 6 :   min_samples_split = 12  min_samples_leaf = 112  0.7698289269051322\n",
      "max_depth = 6 :   min_samples_split = 22  min_samples_leaf = 2  0.7853810264385692\n",
      "max_depth = 6 :   min_samples_split = 22  min_samples_leaf = 12  0.7807153965785381\n",
      "max_depth = 6 :   min_samples_split = 22  min_samples_leaf = 22  0.7807153965785381\n",
      "max_depth = 6 :   min_samples_split = 22  min_samples_leaf = 32  0.7822706065318819\n",
      "max_depth = 6 :   min_samples_split = 22  min_samples_leaf = 42  0.7869362363919129\n",
      "max_depth = 6 :   min_samples_split = 22  min_samples_leaf = 52  0.7869362363919129\n",
      "max_depth = 6 :   min_samples_split = 22  min_samples_leaf = 62  0.7776049766718507\n",
      "max_depth = 6 :   min_samples_split = 22  min_samples_leaf = 72  0.7776049766718507\n",
      "max_depth = 6 :   min_samples_split = 22  min_samples_leaf = 82  0.7698289269051322\n",
      "max_depth = 6 :   min_samples_split = 22  min_samples_leaf = 92  0.7698289269051322\n",
      "max_depth = 6 :   min_samples_split = 22  min_samples_leaf = 102  0.7698289269051322\n",
      "max_depth = 6 :   min_samples_split = 22  min_samples_leaf = 112  0.7698289269051322\n",
      "max_depth = 6 :   min_samples_split = 32  min_samples_leaf = 2  0.7807153965785381\n",
      "max_depth = 6 :   min_samples_split = 32  min_samples_leaf = 12  0.7807153965785381\n",
      "max_depth = 6 :   min_samples_split = 32  min_samples_leaf = 22  0.7807153965785381\n",
      "max_depth = 6 :   min_samples_split = 32  min_samples_leaf = 32  0.7822706065318819\n",
      "max_depth = 6 :   min_samples_split = 32  min_samples_leaf = 42  0.7869362363919129\n",
      "max_depth = 6 :   min_samples_split = 32  min_samples_leaf = 52  0.7869362363919129\n",
      "max_depth = 6 :   min_samples_split = 32  min_samples_leaf = 62  0.7776049766718507\n",
      "max_depth = 6 :   min_samples_split = 32  min_samples_leaf = 72  0.7776049766718507\n",
      "max_depth = 6 :   min_samples_split = 32  min_samples_leaf = 82  0.7698289269051322\n",
      "max_depth = 6 :   min_samples_split = 32  min_samples_leaf = 92  0.7698289269051322\n",
      "max_depth = 6 :   min_samples_split = 32  min_samples_leaf = 102  0.7698289269051322\n",
      "max_depth = 6 :   min_samples_split = 32  min_samples_leaf = 112  0.7698289269051322\n",
      "max_depth = 6 :   min_samples_split = 42  min_samples_leaf = 2  0.7838258164852255\n",
      "max_depth = 6 :   min_samples_split = 42  min_samples_leaf = 12  0.7822706065318819\n",
      "max_depth = 6 :   min_samples_split = 42  min_samples_leaf = 22  0.7807153965785381\n",
      "max_depth = 6 :   min_samples_split = 42  min_samples_leaf = 32  0.7822706065318819\n",
      "max_depth = 6 :   min_samples_split = 42  min_samples_leaf = 42  0.7869362363919129\n",
      "max_depth = 6 :   min_samples_split = 42  min_samples_leaf = 52  0.7869362363919129\n",
      "max_depth = 6 :   min_samples_split = 42  min_samples_leaf = 62  0.7776049766718507\n",
      "max_depth = 6 :   min_samples_split = 42  min_samples_leaf = 72  0.7776049766718507\n",
      "max_depth = 6 :   min_samples_split = 42  min_samples_leaf = 82  0.7698289269051322\n",
      "max_depth = 6 :   min_samples_split = 42  min_samples_leaf = 92  0.7698289269051322\n",
      "max_depth = 6 :   min_samples_split = 42  min_samples_leaf = 102  0.7698289269051322\n",
      "max_depth = 6 :   min_samples_split = 42  min_samples_leaf = 112  0.7698289269051322\n",
      "max_depth = 6 :   min_samples_split = 52  min_samples_leaf = 2  0.7838258164852255\n",
      "max_depth = 6 :   min_samples_split = 52  min_samples_leaf = 12  0.7822706065318819\n",
      "max_depth = 6 :   min_samples_split = 52  min_samples_leaf = 22  0.7807153965785381\n",
      "max_depth = 6 :   min_samples_split = 52  min_samples_leaf = 32  0.7822706065318819\n",
      "max_depth = 6 :   min_samples_split = 52  min_samples_leaf = 42  0.7869362363919129\n",
      "max_depth = 6 :   min_samples_split = 52  min_samples_leaf = 52  0.7869362363919129\n",
      "max_depth = 6 :   min_samples_split = 52  min_samples_leaf = 62  0.7776049766718507\n",
      "max_depth = 6 :   min_samples_split = 52  min_samples_leaf = 72  0.7776049766718507\n",
      "max_depth = 6 :   min_samples_split = 52  min_samples_leaf = 82  0.7698289269051322\n",
      "max_depth = 6 :   min_samples_split = 52  min_samples_leaf = 92  0.7698289269051322\n",
      "max_depth = 6 :   min_samples_split = 52  min_samples_leaf = 102  0.7698289269051322\n",
      "max_depth = 6 :   min_samples_split = 52  min_samples_leaf = 112  0.7698289269051322\n",
      "max_depth = 6 :   min_samples_split = 62  min_samples_leaf = 2  0.7838258164852255\n",
      "max_depth = 6 :   min_samples_split = 62  min_samples_leaf = 12  0.7822706065318819\n",
      "max_depth = 6 :   min_samples_split = 62  min_samples_leaf = 22  0.7807153965785381\n",
      "max_depth = 6 :   min_samples_split = 62  min_samples_leaf = 32  0.7822706065318819\n",
      "max_depth = 6 :   min_samples_split = 62  min_samples_leaf = 42  0.7869362363919129\n",
      "max_depth = 6 :   min_samples_split = 62  min_samples_leaf = 52  0.7869362363919129\n",
      "max_depth = 6 :   min_samples_split = 62  min_samples_leaf = 62  0.7776049766718507\n",
      "max_depth = 6 :   min_samples_split = 62  min_samples_leaf = 72  0.7776049766718507\n",
      "max_depth = 6 :   min_samples_split = 62  min_samples_leaf = 82  0.7698289269051322\n",
      "max_depth = 6 :   min_samples_split = 62  min_samples_leaf = 92  0.7698289269051322\n",
      "max_depth = 6 :   min_samples_split = 62  min_samples_leaf = 102  0.7698289269051322\n",
      "max_depth = 6 :   min_samples_split = 62  min_samples_leaf = 112  0.7698289269051322\n",
      "max_depth = 6 :   min_samples_split = 72  min_samples_leaf = 2  0.7838258164852255\n",
      "max_depth = 6 :   min_samples_split = 72  min_samples_leaf = 12  0.7822706065318819\n",
      "max_depth = 6 :   min_samples_split = 72  min_samples_leaf = 22  0.7807153965785381\n",
      "max_depth = 6 :   min_samples_split = 72  min_samples_leaf = 32  0.7822706065318819\n",
      "max_depth = 6 :   min_samples_split = 72  min_samples_leaf = 42  0.7869362363919129\n",
      "max_depth = 6 :   min_samples_split = 72  min_samples_leaf = 52  0.7869362363919129\n",
      "max_depth = 6 :   min_samples_split = 72  min_samples_leaf = 62  0.7776049766718507\n",
      "max_depth = 6 :   min_samples_split = 72  min_samples_leaf = 72  0.7776049766718507\n",
      "max_depth = 6 :   min_samples_split = 72  min_samples_leaf = 82  0.7698289269051322\n",
      "max_depth = 6 :   min_samples_split = 72  min_samples_leaf = 92  0.7698289269051322\n",
      "max_depth = 6 :   min_samples_split = 72  min_samples_leaf = 102  0.7698289269051322\n",
      "max_depth = 6 :   min_samples_split = 72  min_samples_leaf = 112  0.7698289269051322\n",
      "max_depth = 6 :   min_samples_split = 82  min_samples_leaf = 2  0.7884914463452566\n",
      "max_depth = 6 :   min_samples_split = 82  min_samples_leaf = 12  0.7869362363919129\n",
      "max_depth = 6 :   min_samples_split = 82  min_samples_leaf = 22  0.7853810264385692\n",
      "max_depth = 6 :   min_samples_split = 82  min_samples_leaf = 32  0.7869362363919129\n",
      "max_depth = 6 :   min_samples_split = 82  min_samples_leaf = 42  0.7869362363919129\n",
      "max_depth = 6 :   min_samples_split = 82  min_samples_leaf = 52  0.7869362363919129\n",
      "max_depth = 6 :   min_samples_split = 82  min_samples_leaf = 62  0.7776049766718507\n",
      "max_depth = 6 :   min_samples_split = 82  min_samples_leaf = 72  0.7776049766718507\n",
      "max_depth = 6 :   min_samples_split = 82  min_samples_leaf = 82  0.7698289269051322\n",
      "max_depth = 6 :   min_samples_split = 82  min_samples_leaf = 92  0.7698289269051322\n",
      "max_depth = 6 :   min_samples_split = 82  min_samples_leaf = 102  0.7698289269051322\n",
      "max_depth = 6 :   min_samples_split = 82  min_samples_leaf = 112  0.7698289269051322\n",
      "max_depth = 6 :   min_samples_split = 92  min_samples_leaf = 2  0.7884914463452566\n",
      "max_depth = 6 :   min_samples_split = 92  min_samples_leaf = 12  0.7869362363919129\n",
      "max_depth = 6 :   min_samples_split = 92  min_samples_leaf = 22  0.7853810264385692\n",
      "max_depth = 6 :   min_samples_split = 92  min_samples_leaf = 32  0.7869362363919129\n",
      "max_depth = 6 :   min_samples_split = 92  min_samples_leaf = 42  0.7869362363919129\n",
      "max_depth = 6 :   min_samples_split = 92  min_samples_leaf = 52  0.7869362363919129\n",
      "max_depth = 6 :   min_samples_split = 92  min_samples_leaf = 62  0.7776049766718507\n",
      "max_depth = 6 :   min_samples_split = 92  min_samples_leaf = 72  0.7776049766718507\n",
      "max_depth = 6 :   min_samples_split = 92  min_samples_leaf = 82  0.7698289269051322\n",
      "max_depth = 6 :   min_samples_split = 92  min_samples_leaf = 92  0.7698289269051322\n",
      "max_depth = 6 :   min_samples_split = 92  min_samples_leaf = 102  0.7698289269051322\n",
      "max_depth = 6 :   min_samples_split = 92  min_samples_leaf = 112  0.7698289269051322\n",
      "max_depth = 6 :   min_samples_split = 102  min_samples_leaf = 2  0.7884914463452566\n",
      "max_depth = 6 :   min_samples_split = 102  min_samples_leaf = 12  0.7869362363919129\n",
      "max_depth = 6 :   min_samples_split = 102  min_samples_leaf = 22  0.7853810264385692\n",
      "max_depth = 6 :   min_samples_split = 102  min_samples_leaf = 32  0.7869362363919129\n",
      "max_depth = 6 :   min_samples_split = 102  min_samples_leaf = 42  0.7869362363919129\n",
      "max_depth = 6 :   min_samples_split = 102  min_samples_leaf = 52  0.7869362363919129\n",
      "max_depth = 6 :   min_samples_split = 102  min_samples_leaf = 62  0.7776049766718507\n",
      "max_depth = 6 :   min_samples_split = 102  min_samples_leaf = 72  0.7776049766718507\n",
      "max_depth = 6 :   min_samples_split = 102  min_samples_leaf = 82  0.7698289269051322\n",
      "max_depth = 6 :   min_samples_split = 102  min_samples_leaf = 92  0.7698289269051322\n",
      "max_depth = 6 :   min_samples_split = 102  min_samples_leaf = 102  0.7698289269051322\n",
      "max_depth = 6 :   min_samples_split = 102  min_samples_leaf = 112  0.7698289269051322\n",
      "max_depth = 6 :   min_samples_split = 112  min_samples_leaf = 2  0.7884914463452566\n",
      "max_depth = 6 :   min_samples_split = 112  min_samples_leaf = 12  0.7869362363919129\n",
      "max_depth = 6 :   min_samples_split = 112  min_samples_leaf = 22  0.7853810264385692\n",
      "max_depth = 6 :   min_samples_split = 112  min_samples_leaf = 32  0.7869362363919129\n",
      "max_depth = 6 :   min_samples_split = 112  min_samples_leaf = 42  0.7869362363919129\n",
      "max_depth = 6 :   min_samples_split = 112  min_samples_leaf = 52  0.7869362363919129\n",
      "max_depth = 6 :   min_samples_split = 112  min_samples_leaf = 62  0.7776049766718507\n",
      "max_depth = 6 :   min_samples_split = 112  min_samples_leaf = 72  0.7776049766718507\n",
      "max_depth = 6 :   min_samples_split = 112  min_samples_leaf = 82  0.7698289269051322\n",
      "max_depth = 6 :   min_samples_split = 112  min_samples_leaf = 92  0.7698289269051322\n",
      "max_depth = 6 :   min_samples_split = 112  min_samples_leaf = 102  0.7698289269051322\n",
      "max_depth = 6 :   min_samples_split = 112  min_samples_leaf = 112  0.7698289269051322\n",
      "max_depth = 7 :   min_samples_split = 2  min_samples_leaf = 2  0.7838258164852255\n",
      "max_depth = 7 :   min_samples_split = 2  min_samples_leaf = 12  0.7791601866251944\n",
      "max_depth = 7 :   min_samples_split = 2  min_samples_leaf = 22  0.7791601866251944\n",
      "max_depth = 7 :   min_samples_split = 2  min_samples_leaf = 32  0.7822706065318819\n",
      "max_depth = 7 :   min_samples_split = 2  min_samples_leaf = 42  0.7869362363919129\n",
      "max_depth = 7 :   min_samples_split = 2  min_samples_leaf = 52  0.7869362363919129\n",
      "max_depth = 7 :   min_samples_split = 2  min_samples_leaf = 62  0.7776049766718507\n",
      "max_depth = 7 :   min_samples_split = 2  min_samples_leaf = 72  0.7776049766718507\n",
      "max_depth = 7 :   min_samples_split = 2  min_samples_leaf = 82  0.7698289269051322\n",
      "max_depth = 7 :   min_samples_split = 2  min_samples_leaf = 92  0.7698289269051322\n",
      "max_depth = 7 :   min_samples_split = 2  min_samples_leaf = 102  0.7698289269051322\n",
      "max_depth = 7 :   min_samples_split = 2  min_samples_leaf = 112  0.7698289269051322\n",
      "max_depth = 7 :   min_samples_split = 12  min_samples_leaf = 2  0.7838258164852255\n",
      "max_depth = 7 :   min_samples_split = 12  min_samples_leaf = 12  0.7791601866251944\n",
      "max_depth = 7 :   min_samples_split = 12  min_samples_leaf = 22  0.7791601866251944\n",
      "max_depth = 7 :   min_samples_split = 12  min_samples_leaf = 32  0.7822706065318819\n",
      "max_depth = 7 :   min_samples_split = 12  min_samples_leaf = 42  0.7869362363919129\n",
      "max_depth = 7 :   min_samples_split = 12  min_samples_leaf = 52  0.7869362363919129\n",
      "max_depth = 7 :   min_samples_split = 12  min_samples_leaf = 62  0.7776049766718507\n",
      "max_depth = 7 :   min_samples_split = 12  min_samples_leaf = 72  0.7776049766718507\n",
      "max_depth = 7 :   min_samples_split = 12  min_samples_leaf = 82  0.7698289269051322\n",
      "max_depth = 7 :   min_samples_split = 12  min_samples_leaf = 92  0.7698289269051322\n",
      "max_depth = 7 :   min_samples_split = 12  min_samples_leaf = 102  0.7698289269051322\n",
      "max_depth = 7 :   min_samples_split = 12  min_samples_leaf = 112  0.7698289269051322\n",
      "max_depth = 7 :   min_samples_split = 22  min_samples_leaf = 2  0.7776049766718507\n",
      "max_depth = 7 :   min_samples_split = 22  min_samples_leaf = 12  0.7791601866251944\n",
      "max_depth = 7 :   min_samples_split = 22  min_samples_leaf = 22  0.7791601866251944\n",
      "max_depth = 7 :   min_samples_split = 22  min_samples_leaf = 32  0.7822706065318819\n",
      "max_depth = 7 :   min_samples_split = 22  min_samples_leaf = 42  0.7869362363919129\n",
      "max_depth = 7 :   min_samples_split = 22  min_samples_leaf = 52  0.7869362363919129\n",
      "max_depth = 7 :   min_samples_split = 22  min_samples_leaf = 62  0.7776049766718507\n",
      "max_depth = 7 :   min_samples_split = 22  min_samples_leaf = 72  0.7776049766718507\n",
      "max_depth = 7 :   min_samples_split = 22  min_samples_leaf = 82  0.7698289269051322\n",
      "max_depth = 7 :   min_samples_split = 22  min_samples_leaf = 92  0.7698289269051322\n",
      "max_depth = 7 :   min_samples_split = 22  min_samples_leaf = 102  0.7698289269051322\n",
      "max_depth = 7 :   min_samples_split = 22  min_samples_leaf = 112  0.7698289269051322\n",
      "max_depth = 7 :   min_samples_split = 32  min_samples_leaf = 2  0.7776049766718507\n",
      "max_depth = 7 :   min_samples_split = 32  min_samples_leaf = 12  0.7791601866251944\n",
      "max_depth = 7 :   min_samples_split = 32  min_samples_leaf = 22  0.7791601866251944\n",
      "max_depth = 7 :   min_samples_split = 32  min_samples_leaf = 32  0.7822706065318819\n",
      "max_depth = 7 :   min_samples_split = 32  min_samples_leaf = 42  0.7869362363919129\n",
      "max_depth = 7 :   min_samples_split = 32  min_samples_leaf = 52  0.7869362363919129\n",
      "max_depth = 7 :   min_samples_split = 32  min_samples_leaf = 62  0.7776049766718507\n",
      "max_depth = 7 :   min_samples_split = 32  min_samples_leaf = 72  0.7776049766718507\n",
      "max_depth = 7 :   min_samples_split = 32  min_samples_leaf = 82  0.7698289269051322\n",
      "max_depth = 7 :   min_samples_split = 32  min_samples_leaf = 92  0.7698289269051322\n",
      "max_depth = 7 :   min_samples_split = 32  min_samples_leaf = 102  0.7698289269051322\n",
      "max_depth = 7 :   min_samples_split = 32  min_samples_leaf = 112  0.7698289269051322\n",
      "max_depth = 7 :   min_samples_split = 42  min_samples_leaf = 2  0.7807153965785381\n",
      "max_depth = 7 :   min_samples_split = 42  min_samples_leaf = 12  0.7807153965785381\n",
      "max_depth = 7 :   min_samples_split = 42  min_samples_leaf = 22  0.7791601866251944\n",
      "max_depth = 7 :   min_samples_split = 42  min_samples_leaf = 32  0.7822706065318819\n",
      "max_depth = 7 :   min_samples_split = 42  min_samples_leaf = 42  0.7869362363919129\n",
      "max_depth = 7 :   min_samples_split = 42  min_samples_leaf = 52  0.7869362363919129\n",
      "max_depth = 7 :   min_samples_split = 42  min_samples_leaf = 62  0.7776049766718507\n",
      "max_depth = 7 :   min_samples_split = 42  min_samples_leaf = 72  0.7776049766718507\n",
      "max_depth = 7 :   min_samples_split = 42  min_samples_leaf = 82  0.7698289269051322\n",
      "max_depth = 7 :   min_samples_split = 42  min_samples_leaf = 92  0.7698289269051322\n",
      "max_depth = 7 :   min_samples_split = 42  min_samples_leaf = 102  0.7698289269051322\n",
      "max_depth = 7 :   min_samples_split = 42  min_samples_leaf = 112  0.7698289269051322\n",
      "max_depth = 7 :   min_samples_split = 52  min_samples_leaf = 2  0.7807153965785381\n",
      "max_depth = 7 :   min_samples_split = 52  min_samples_leaf = 12  0.7807153965785381\n",
      "max_depth = 7 :   min_samples_split = 52  min_samples_leaf = 22  0.7791601866251944\n",
      "max_depth = 7 :   min_samples_split = 52  min_samples_leaf = 32  0.7822706065318819\n",
      "max_depth = 7 :   min_samples_split = 52  min_samples_leaf = 42  0.7869362363919129\n",
      "max_depth = 7 :   min_samples_split = 52  min_samples_leaf = 52  0.7869362363919129\n",
      "max_depth = 7 :   min_samples_split = 52  min_samples_leaf = 62  0.7776049766718507\n",
      "max_depth = 7 :   min_samples_split = 52  min_samples_leaf = 72  0.7776049766718507\n",
      "max_depth = 7 :   min_samples_split = 52  min_samples_leaf = 82  0.7698289269051322\n",
      "max_depth = 7 :   min_samples_split = 52  min_samples_leaf = 92  0.7698289269051322\n",
      "max_depth = 7 :   min_samples_split = 52  min_samples_leaf = 102  0.7698289269051322\n",
      "max_depth = 7 :   min_samples_split = 52  min_samples_leaf = 112  0.7698289269051322\n",
      "max_depth = 7 :   min_samples_split = 62  min_samples_leaf = 2  0.7807153965785381\n",
      "max_depth = 7 :   min_samples_split = 62  min_samples_leaf = 12  0.7807153965785381\n",
      "max_depth = 7 :   min_samples_split = 62  min_samples_leaf = 22  0.7791601866251944\n",
      "max_depth = 7 :   min_samples_split = 62  min_samples_leaf = 32  0.7822706065318819\n",
      "max_depth = 7 :   min_samples_split = 62  min_samples_leaf = 42  0.7869362363919129\n",
      "max_depth = 7 :   min_samples_split = 62  min_samples_leaf = 52  0.7869362363919129\n",
      "max_depth = 7 :   min_samples_split = 62  min_samples_leaf = 62  0.7776049766718507\n",
      "max_depth = 7 :   min_samples_split = 62  min_samples_leaf = 72  0.7776049766718507\n",
      "max_depth = 7 :   min_samples_split = 62  min_samples_leaf = 82  0.7698289269051322\n",
      "max_depth = 7 :   min_samples_split = 62  min_samples_leaf = 92  0.7698289269051322\n",
      "max_depth = 7 :   min_samples_split = 62  min_samples_leaf = 102  0.7698289269051322\n",
      "max_depth = 7 :   min_samples_split = 62  min_samples_leaf = 112  0.7698289269051322\n",
      "max_depth = 7 :   min_samples_split = 72  min_samples_leaf = 2  0.7807153965785381\n",
      "max_depth = 7 :   min_samples_split = 72  min_samples_leaf = 12  0.7807153965785381\n",
      "max_depth = 7 :   min_samples_split = 72  min_samples_leaf = 22  0.7791601866251944\n",
      "max_depth = 7 :   min_samples_split = 72  min_samples_leaf = 32  0.7822706065318819\n",
      "max_depth = 7 :   min_samples_split = 72  min_samples_leaf = 42  0.7869362363919129\n",
      "max_depth = 7 :   min_samples_split = 72  min_samples_leaf = 52  0.7869362363919129\n",
      "max_depth = 7 :   min_samples_split = 72  min_samples_leaf = 62  0.7776049766718507\n",
      "max_depth = 7 :   min_samples_split = 72  min_samples_leaf = 72  0.7776049766718507\n",
      "max_depth = 7 :   min_samples_split = 72  min_samples_leaf = 82  0.7698289269051322\n",
      "max_depth = 7 :   min_samples_split = 72  min_samples_leaf = 92  0.7698289269051322\n",
      "max_depth = 7 :   min_samples_split = 72  min_samples_leaf = 102  0.7698289269051322\n",
      "max_depth = 7 :   min_samples_split = 72  min_samples_leaf = 112  0.7698289269051322\n",
      "max_depth = 7 :   min_samples_split = 82  min_samples_leaf = 2  0.7853810264385692\n",
      "max_depth = 7 :   min_samples_split = 82  min_samples_leaf = 12  0.7853810264385692\n",
      "max_depth = 7 :   min_samples_split = 82  min_samples_leaf = 22  0.7838258164852255\n",
      "max_depth = 7 :   min_samples_split = 82  min_samples_leaf = 32  0.7869362363919129\n",
      "max_depth = 7 :   min_samples_split = 82  min_samples_leaf = 42  0.7869362363919129\n",
      "max_depth = 7 :   min_samples_split = 82  min_samples_leaf = 52  0.7869362363919129\n",
      "max_depth = 7 :   min_samples_split = 82  min_samples_leaf = 62  0.7776049766718507\n",
      "max_depth = 7 :   min_samples_split = 82  min_samples_leaf = 72  0.7776049766718507\n",
      "max_depth = 7 :   min_samples_split = 82  min_samples_leaf = 82  0.7698289269051322\n",
      "max_depth = 7 :   min_samples_split = 82  min_samples_leaf = 92  0.7698289269051322\n",
      "max_depth = 7 :   min_samples_split = 82  min_samples_leaf = 102  0.7698289269051322\n",
      "max_depth = 7 :   min_samples_split = 82  min_samples_leaf = 112  0.7698289269051322\n",
      "max_depth = 7 :   min_samples_split = 92  min_samples_leaf = 2  0.7853810264385692\n",
      "max_depth = 7 :   min_samples_split = 92  min_samples_leaf = 12  0.7853810264385692\n",
      "max_depth = 7 :   min_samples_split = 92  min_samples_leaf = 22  0.7838258164852255\n",
      "max_depth = 7 :   min_samples_split = 92  min_samples_leaf = 32  0.7869362363919129\n",
      "max_depth = 7 :   min_samples_split = 92  min_samples_leaf = 42  0.7869362363919129\n",
      "max_depth = 7 :   min_samples_split = 92  min_samples_leaf = 52  0.7869362363919129\n",
      "max_depth = 7 :   min_samples_split = 92  min_samples_leaf = 62  0.7776049766718507\n",
      "max_depth = 7 :   min_samples_split = 92  min_samples_leaf = 72  0.7776049766718507\n",
      "max_depth = 7 :   min_samples_split = 92  min_samples_leaf = 82  0.7698289269051322\n",
      "max_depth = 7 :   min_samples_split = 92  min_samples_leaf = 92  0.7698289269051322\n",
      "max_depth = 7 :   min_samples_split = 92  min_samples_leaf = 102  0.7698289269051322\n",
      "max_depth = 7 :   min_samples_split = 92  min_samples_leaf = 112  0.7698289269051322\n",
      "max_depth = 7 :   min_samples_split = 102  min_samples_leaf = 2  0.7853810264385692\n",
      "max_depth = 7 :   min_samples_split = 102  min_samples_leaf = 12  0.7853810264385692\n",
      "max_depth = 7 :   min_samples_split = 102  min_samples_leaf = 22  0.7853810264385692\n",
      "max_depth = 7 :   min_samples_split = 102  min_samples_leaf = 32  0.7869362363919129\n",
      "max_depth = 7 :   min_samples_split = 102  min_samples_leaf = 42  0.7869362363919129\n",
      "max_depth = 7 :   min_samples_split = 102  min_samples_leaf = 52  0.7869362363919129\n",
      "max_depth = 7 :   min_samples_split = 102  min_samples_leaf = 62  0.7776049766718507\n",
      "max_depth = 7 :   min_samples_split = 102  min_samples_leaf = 72  0.7776049766718507\n",
      "max_depth = 7 :   min_samples_split = 102  min_samples_leaf = 82  0.7698289269051322\n",
      "max_depth = 7 :   min_samples_split = 102  min_samples_leaf = 92  0.7698289269051322\n",
      "max_depth = 7 :   min_samples_split = 102  min_samples_leaf = 102  0.7698289269051322\n",
      "max_depth = 7 :   min_samples_split = 102  min_samples_leaf = 112  0.7698289269051322\n",
      "max_depth = 7 :   min_samples_split = 112  min_samples_leaf = 2  0.7869362363919129\n",
      "max_depth = 7 :   min_samples_split = 112  min_samples_leaf = 12  0.7869362363919129\n",
      "max_depth = 7 :   min_samples_split = 112  min_samples_leaf = 22  0.7853810264385692\n",
      "max_depth = 7 :   min_samples_split = 112  min_samples_leaf = 32  0.7869362363919129\n",
      "max_depth = 7 :   min_samples_split = 112  min_samples_leaf = 42  0.7869362363919129\n",
      "max_depth = 7 :   min_samples_split = 112  min_samples_leaf = 52  0.7869362363919129\n",
      "max_depth = 7 :   min_samples_split = 112  min_samples_leaf = 62  0.7776049766718507\n",
      "max_depth = 7 :   min_samples_split = 112  min_samples_leaf = 72  0.7776049766718507\n",
      "max_depth = 7 :   min_samples_split = 112  min_samples_leaf = 82  0.7698289269051322\n",
      "max_depth = 7 :   min_samples_split = 112  min_samples_leaf = 92  0.7698289269051322\n",
      "max_depth = 7 :   min_samples_split = 112  min_samples_leaf = 102  0.7698289269051322\n",
      "max_depth = 7 :   min_samples_split = 112  min_samples_leaf = 112  0.7698289269051322\n",
      "max_depth = 8 :   min_samples_split = 2  min_samples_leaf = 2  0.7713841368584758\n",
      "max_depth = 8 :   min_samples_split = 2  min_samples_leaf = 12  0.7744945567651633\n",
      "max_depth = 8 :   min_samples_split = 2  min_samples_leaf = 22  0.7791601866251944\n",
      "max_depth = 8 :   min_samples_split = 2  min_samples_leaf = 32  0.7822706065318819\n",
      "max_depth = 8 :   min_samples_split = 2  min_samples_leaf = 42  0.7869362363919129\n",
      "max_depth = 8 :   min_samples_split = 2  min_samples_leaf = 52  0.7869362363919129\n",
      "max_depth = 8 :   min_samples_split = 2  min_samples_leaf = 62  0.7776049766718507\n",
      "max_depth = 8 :   min_samples_split = 2  min_samples_leaf = 72  0.7776049766718507\n",
      "max_depth = 8 :   min_samples_split = 2  min_samples_leaf = 82  0.7698289269051322\n",
      "max_depth = 8 :   min_samples_split = 2  min_samples_leaf = 92  0.7698289269051322\n",
      "max_depth = 8 :   min_samples_split = 2  min_samples_leaf = 102  0.7698289269051322\n",
      "max_depth = 8 :   min_samples_split = 2  min_samples_leaf = 112  0.7698289269051322\n",
      "max_depth = 8 :   min_samples_split = 12  min_samples_leaf = 2  0.776049766718507\n",
      "max_depth = 8 :   min_samples_split = 12  min_samples_leaf = 12  0.7744945567651633\n",
      "max_depth = 8 :   min_samples_split = 12  min_samples_leaf = 22  0.7791601866251944\n",
      "max_depth = 8 :   min_samples_split = 12  min_samples_leaf = 32  0.7822706065318819\n",
      "max_depth = 8 :   min_samples_split = 12  min_samples_leaf = 42  0.7869362363919129\n",
      "max_depth = 8 :   min_samples_split = 12  min_samples_leaf = 52  0.7869362363919129\n",
      "max_depth = 8 :   min_samples_split = 12  min_samples_leaf = 62  0.7776049766718507\n",
      "max_depth = 8 :   min_samples_split = 12  min_samples_leaf = 72  0.7776049766718507\n",
      "max_depth = 8 :   min_samples_split = 12  min_samples_leaf = 82  0.7698289269051322\n",
      "max_depth = 8 :   min_samples_split = 12  min_samples_leaf = 92  0.7698289269051322\n",
      "max_depth = 8 :   min_samples_split = 12  min_samples_leaf = 102  0.7698289269051322\n",
      "max_depth = 8 :   min_samples_split = 12  min_samples_leaf = 112  0.7698289269051322\n",
      "max_depth = 8 :   min_samples_split = 22  min_samples_leaf = 2  0.7744945567651633\n",
      "max_depth = 8 :   min_samples_split = 22  min_samples_leaf = 12  0.7744945567651633\n",
      "max_depth = 8 :   min_samples_split = 22  min_samples_leaf = 22  0.7791601866251944\n",
      "max_depth = 8 :   min_samples_split = 22  min_samples_leaf = 32  0.7822706065318819\n",
      "max_depth = 8 :   min_samples_split = 22  min_samples_leaf = 42  0.7869362363919129\n",
      "max_depth = 8 :   min_samples_split = 22  min_samples_leaf = 52  0.7869362363919129\n",
      "max_depth = 8 :   min_samples_split = 22  min_samples_leaf = 62  0.7776049766718507\n",
      "max_depth = 8 :   min_samples_split = 22  min_samples_leaf = 72  0.7776049766718507\n",
      "max_depth = 8 :   min_samples_split = 22  min_samples_leaf = 82  0.7698289269051322\n",
      "max_depth = 8 :   min_samples_split = 22  min_samples_leaf = 92  0.7698289269051322\n",
      "max_depth = 8 :   min_samples_split = 22  min_samples_leaf = 102  0.7698289269051322\n",
      "max_depth = 8 :   min_samples_split = 22  min_samples_leaf = 112  0.7698289269051322\n",
      "max_depth = 8 :   min_samples_split = 32  min_samples_leaf = 2  0.7729393468118196\n",
      "max_depth = 8 :   min_samples_split = 32  min_samples_leaf = 12  0.7744945567651633\n",
      "max_depth = 8 :   min_samples_split = 32  min_samples_leaf = 22  0.7791601866251944\n",
      "max_depth = 8 :   min_samples_split = 32  min_samples_leaf = 32  0.7822706065318819\n",
      "max_depth = 8 :   min_samples_split = 32  min_samples_leaf = 42  0.7869362363919129\n",
      "max_depth = 8 :   min_samples_split = 32  min_samples_leaf = 52  0.7869362363919129\n",
      "max_depth = 8 :   min_samples_split = 32  min_samples_leaf = 62  0.7776049766718507\n",
      "max_depth = 8 :   min_samples_split = 32  min_samples_leaf = 72  0.7776049766718507\n",
      "max_depth = 8 :   min_samples_split = 32  min_samples_leaf = 82  0.7698289269051322\n",
      "max_depth = 8 :   min_samples_split = 32  min_samples_leaf = 92  0.7698289269051322\n",
      "max_depth = 8 :   min_samples_split = 32  min_samples_leaf = 102  0.7698289269051322\n",
      "max_depth = 8 :   min_samples_split = 32  min_samples_leaf = 112  0.7698289269051322\n",
      "max_depth = 8 :   min_samples_split = 42  min_samples_leaf = 2  0.7776049766718507\n",
      "max_depth = 8 :   min_samples_split = 42  min_samples_leaf = 12  0.776049766718507\n",
      "max_depth = 8 :   min_samples_split = 42  min_samples_leaf = 22  0.7791601866251944\n",
      "max_depth = 8 :   min_samples_split = 42  min_samples_leaf = 32  0.7822706065318819\n",
      "max_depth = 8 :   min_samples_split = 42  min_samples_leaf = 42  0.7869362363919129\n",
      "max_depth = 8 :   min_samples_split = 42  min_samples_leaf = 52  0.7869362363919129\n",
      "max_depth = 8 :   min_samples_split = 42  min_samples_leaf = 62  0.7776049766718507\n",
      "max_depth = 8 :   min_samples_split = 42  min_samples_leaf = 72  0.7776049766718507\n",
      "max_depth = 8 :   min_samples_split = 42  min_samples_leaf = 82  0.7698289269051322\n",
      "max_depth = 8 :   min_samples_split = 42  min_samples_leaf = 92  0.7698289269051322\n",
      "max_depth = 8 :   min_samples_split = 42  min_samples_leaf = 102  0.7698289269051322\n",
      "max_depth = 8 :   min_samples_split = 42  min_samples_leaf = 112  0.7698289269051322\n",
      "max_depth = 8 :   min_samples_split = 52  min_samples_leaf = 2  0.7776049766718507\n",
      "max_depth = 8 :   min_samples_split = 52  min_samples_leaf = 12  0.776049766718507\n",
      "max_depth = 8 :   min_samples_split = 52  min_samples_leaf = 22  0.7791601866251944\n",
      "max_depth = 8 :   min_samples_split = 52  min_samples_leaf = 32  0.7822706065318819\n",
      "max_depth = 8 :   min_samples_split = 52  min_samples_leaf = 42  0.7869362363919129\n",
      "max_depth = 8 :   min_samples_split = 52  min_samples_leaf = 52  0.7869362363919129\n",
      "max_depth = 8 :   min_samples_split = 52  min_samples_leaf = 62  0.7776049766718507\n",
      "max_depth = 8 :   min_samples_split = 52  min_samples_leaf = 72  0.7776049766718507\n",
      "max_depth = 8 :   min_samples_split = 52  min_samples_leaf = 82  0.7698289269051322\n",
      "max_depth = 8 :   min_samples_split = 52  min_samples_leaf = 92  0.7698289269051322\n",
      "max_depth = 8 :   min_samples_split = 52  min_samples_leaf = 102  0.7698289269051322\n",
      "max_depth = 8 :   min_samples_split = 52  min_samples_leaf = 112  0.7698289269051322\n",
      "max_depth = 8 :   min_samples_split = 62  min_samples_leaf = 2  0.7776049766718507\n",
      "max_depth = 8 :   min_samples_split = 62  min_samples_leaf = 12  0.776049766718507\n",
      "max_depth = 8 :   min_samples_split = 62  min_samples_leaf = 22  0.7791601866251944\n",
      "max_depth = 8 :   min_samples_split = 62  min_samples_leaf = 32  0.7822706065318819\n",
      "max_depth = 8 :   min_samples_split = 62  min_samples_leaf = 42  0.7869362363919129\n",
      "max_depth = 8 :   min_samples_split = 62  min_samples_leaf = 52  0.7869362363919129\n",
      "max_depth = 8 :   min_samples_split = 62  min_samples_leaf = 62  0.7776049766718507\n",
      "max_depth = 8 :   min_samples_split = 62  min_samples_leaf = 72  0.7776049766718507\n",
      "max_depth = 8 :   min_samples_split = 62  min_samples_leaf = 82  0.7698289269051322\n",
      "max_depth = 8 :   min_samples_split = 62  min_samples_leaf = 92  0.7698289269051322\n",
      "max_depth = 8 :   min_samples_split = 62  min_samples_leaf = 102  0.7698289269051322\n",
      "max_depth = 8 :   min_samples_split = 62  min_samples_leaf = 112  0.7698289269051322\n",
      "max_depth = 8 :   min_samples_split = 72  min_samples_leaf = 2  0.7776049766718507\n",
      "max_depth = 8 :   min_samples_split = 72  min_samples_leaf = 12  0.776049766718507\n",
      "max_depth = 8 :   min_samples_split = 72  min_samples_leaf = 22  0.7791601866251944\n",
      "max_depth = 8 :   min_samples_split = 72  min_samples_leaf = 32  0.7822706065318819\n",
      "max_depth = 8 :   min_samples_split = 72  min_samples_leaf = 42  0.7869362363919129\n",
      "max_depth = 8 :   min_samples_split = 72  min_samples_leaf = 52  0.7869362363919129\n",
      "max_depth = 8 :   min_samples_split = 72  min_samples_leaf = 62  0.7776049766718507\n",
      "max_depth = 8 :   min_samples_split = 72  min_samples_leaf = 72  0.7776049766718507\n",
      "max_depth = 8 :   min_samples_split = 72  min_samples_leaf = 82  0.7698289269051322\n",
      "max_depth = 8 :   min_samples_split = 72  min_samples_leaf = 92  0.7698289269051322\n",
      "max_depth = 8 :   min_samples_split = 72  min_samples_leaf = 102  0.7698289269051322\n",
      "max_depth = 8 :   min_samples_split = 72  min_samples_leaf = 112  0.7698289269051322\n",
      "max_depth = 8 :   min_samples_split = 82  min_samples_leaf = 2  0.7822706065318819\n",
      "max_depth = 8 :   min_samples_split = 82  min_samples_leaf = 12  0.7822706065318819\n",
      "max_depth = 8 :   min_samples_split = 82  min_samples_leaf = 22  0.7838258164852255\n",
      "max_depth = 8 :   min_samples_split = 82  min_samples_leaf = 32  0.7869362363919129\n",
      "max_depth = 8 :   min_samples_split = 82  min_samples_leaf = 42  0.7869362363919129\n",
      "max_depth = 8 :   min_samples_split = 82  min_samples_leaf = 52  0.7869362363919129\n",
      "max_depth = 8 :   min_samples_split = 82  min_samples_leaf = 62  0.7776049766718507\n",
      "max_depth = 8 :   min_samples_split = 82  min_samples_leaf = 72  0.7776049766718507\n",
      "max_depth = 8 :   min_samples_split = 82  min_samples_leaf = 82  0.7698289269051322\n",
      "max_depth = 8 :   min_samples_split = 82  min_samples_leaf = 92  0.7698289269051322\n",
      "max_depth = 8 :   min_samples_split = 82  min_samples_leaf = 102  0.7698289269051322\n",
      "max_depth = 8 :   min_samples_split = 82  min_samples_leaf = 112  0.7698289269051322\n",
      "max_depth = 8 :   min_samples_split = 92  min_samples_leaf = 2  0.7853810264385692\n",
      "max_depth = 8 :   min_samples_split = 92  min_samples_leaf = 12  0.7853810264385692\n",
      "max_depth = 8 :   min_samples_split = 92  min_samples_leaf = 22  0.7838258164852255\n",
      "max_depth = 8 :   min_samples_split = 92  min_samples_leaf = 32  0.7869362363919129\n",
      "max_depth = 8 :   min_samples_split = 92  min_samples_leaf = 42  0.7869362363919129\n",
      "max_depth = 8 :   min_samples_split = 92  min_samples_leaf = 52  0.7869362363919129\n",
      "max_depth = 8 :   min_samples_split = 92  min_samples_leaf = 62  0.7776049766718507\n",
      "max_depth = 8 :   min_samples_split = 92  min_samples_leaf = 72  0.7776049766718507\n",
      "max_depth = 8 :   min_samples_split = 92  min_samples_leaf = 82  0.7698289269051322\n",
      "max_depth = 8 :   min_samples_split = 92  min_samples_leaf = 92  0.7698289269051322\n",
      "max_depth = 8 :   min_samples_split = 92  min_samples_leaf = 102  0.7698289269051322\n",
      "max_depth = 8 :   min_samples_split = 92  min_samples_leaf = 112  0.7698289269051322\n",
      "max_depth = 8 :   min_samples_split = 102  min_samples_leaf = 2  0.7853810264385692\n",
      "max_depth = 8 :   min_samples_split = 102  min_samples_leaf = 12  0.7853810264385692\n",
      "max_depth = 8 :   min_samples_split = 102  min_samples_leaf = 22  0.7853810264385692\n",
      "max_depth = 8 :   min_samples_split = 102  min_samples_leaf = 32  0.7869362363919129\n",
      "max_depth = 8 :   min_samples_split = 102  min_samples_leaf = 42  0.7869362363919129\n",
      "max_depth = 8 :   min_samples_split = 102  min_samples_leaf = 52  0.7869362363919129\n",
      "max_depth = 8 :   min_samples_split = 102  min_samples_leaf = 62  0.7776049766718507\n",
      "max_depth = 8 :   min_samples_split = 102  min_samples_leaf = 72  0.7776049766718507\n",
      "max_depth = 8 :   min_samples_split = 102  min_samples_leaf = 82  0.7698289269051322\n",
      "max_depth = 8 :   min_samples_split = 102  min_samples_leaf = 92  0.7698289269051322\n",
      "max_depth = 8 :   min_samples_split = 102  min_samples_leaf = 102  0.7698289269051322\n",
      "max_depth = 8 :   min_samples_split = 102  min_samples_leaf = 112  0.7698289269051322\n",
      "max_depth = 8 :   min_samples_split = 112  min_samples_leaf = 2  0.7869362363919129\n",
      "max_depth = 8 :   min_samples_split = 112  min_samples_leaf = 12  0.7869362363919129\n",
      "max_depth = 8 :   min_samples_split = 112  min_samples_leaf = 22  0.7853810264385692\n",
      "max_depth = 8 :   min_samples_split = 112  min_samples_leaf = 32  0.7869362363919129\n",
      "max_depth = 8 :   min_samples_split = 112  min_samples_leaf = 42  0.7869362363919129\n",
      "max_depth = 8 :   min_samples_split = 112  min_samples_leaf = 52  0.7869362363919129\n",
      "max_depth = 8 :   min_samples_split = 112  min_samples_leaf = 62  0.7776049766718507\n",
      "max_depth = 8 :   min_samples_split = 112  min_samples_leaf = 72  0.7776049766718507\n",
      "max_depth = 8 :   min_samples_split = 112  min_samples_leaf = 82  0.7698289269051322\n",
      "max_depth = 8 :   min_samples_split = 112  min_samples_leaf = 92  0.7698289269051322\n",
      "max_depth = 8 :   min_samples_split = 112  min_samples_leaf = 102  0.7698289269051322\n",
      "max_depth = 8 :   min_samples_split = 112  min_samples_leaf = 112  0.7698289269051322\n",
      "max_depth = 9 :   min_samples_split = 2  min_samples_leaf = 2  0.776049766718507\n",
      "max_depth = 9 :   min_samples_split = 2  min_samples_leaf = 12  0.7713841368584758\n",
      "max_depth = 9 :   min_samples_split = 2  min_samples_leaf = 22  0.776049766718507\n",
      "max_depth = 9 :   min_samples_split = 2  min_samples_leaf = 32  0.7822706065318819\n",
      "max_depth = 9 :   min_samples_split = 2  min_samples_leaf = 42  0.7869362363919129\n",
      "max_depth = 9 :   min_samples_split = 2  min_samples_leaf = 52  0.7869362363919129\n",
      "max_depth = 9 :   min_samples_split = 2  min_samples_leaf = 62  0.7776049766718507\n",
      "max_depth = 9 :   min_samples_split = 2  min_samples_leaf = 72  0.7776049766718507\n",
      "max_depth = 9 :   min_samples_split = 2  min_samples_leaf = 82  0.7698289269051322\n",
      "max_depth = 9 :   min_samples_split = 2  min_samples_leaf = 92  0.7698289269051322\n",
      "max_depth = 9 :   min_samples_split = 2  min_samples_leaf = 102  0.7698289269051322\n",
      "max_depth = 9 :   min_samples_split = 2  min_samples_leaf = 112  0.7698289269051322\n",
      "max_depth = 9 :   min_samples_split = 12  min_samples_leaf = 2  0.7807153965785381\n",
      "max_depth = 9 :   min_samples_split = 12  min_samples_leaf = 12  0.7713841368584758\n",
      "max_depth = 9 :   min_samples_split = 12  min_samples_leaf = 22  0.776049766718507\n",
      "max_depth = 9 :   min_samples_split = 12  min_samples_leaf = 32  0.7822706065318819\n",
      "max_depth = 9 :   min_samples_split = 12  min_samples_leaf = 42  0.7869362363919129\n",
      "max_depth = 9 :   min_samples_split = 12  min_samples_leaf = 52  0.7869362363919129\n",
      "max_depth = 9 :   min_samples_split = 12  min_samples_leaf = 62  0.7776049766718507\n",
      "max_depth = 9 :   min_samples_split = 12  min_samples_leaf = 72  0.7776049766718507\n",
      "max_depth = 9 :   min_samples_split = 12  min_samples_leaf = 82  0.7698289269051322\n",
      "max_depth = 9 :   min_samples_split = 12  min_samples_leaf = 92  0.7698289269051322\n",
      "max_depth = 9 :   min_samples_split = 12  min_samples_leaf = 102  0.7698289269051322\n",
      "max_depth = 9 :   min_samples_split = 12  min_samples_leaf = 112  0.7698289269051322\n",
      "max_depth = 9 :   min_samples_split = 22  min_samples_leaf = 2  0.7807153965785381\n",
      "max_depth = 9 :   min_samples_split = 22  min_samples_leaf = 12  0.7713841368584758\n",
      "max_depth = 9 :   min_samples_split = 22  min_samples_leaf = 22  0.776049766718507\n",
      "max_depth = 9 :   min_samples_split = 22  min_samples_leaf = 32  0.7822706065318819\n",
      "max_depth = 9 :   min_samples_split = 22  min_samples_leaf = 42  0.7869362363919129\n",
      "max_depth = 9 :   min_samples_split = 22  min_samples_leaf = 52  0.7869362363919129\n",
      "max_depth = 9 :   min_samples_split = 22  min_samples_leaf = 62  0.7776049766718507\n",
      "max_depth = 9 :   min_samples_split = 22  min_samples_leaf = 72  0.7776049766718507\n",
      "max_depth = 9 :   min_samples_split = 22  min_samples_leaf = 82  0.7698289269051322\n",
      "max_depth = 9 :   min_samples_split = 22  min_samples_leaf = 92  0.7698289269051322\n",
      "max_depth = 9 :   min_samples_split = 22  min_samples_leaf = 102  0.7698289269051322\n",
      "max_depth = 9 :   min_samples_split = 22  min_samples_leaf = 112  0.7698289269051322\n",
      "max_depth = 9 :   min_samples_split = 32  min_samples_leaf = 2  0.776049766718507\n",
      "max_depth = 9 :   min_samples_split = 32  min_samples_leaf = 12  0.7744945567651633\n",
      "max_depth = 9 :   min_samples_split = 32  min_samples_leaf = 22  0.776049766718507\n",
      "max_depth = 9 :   min_samples_split = 32  min_samples_leaf = 32  0.7822706065318819\n",
      "max_depth = 9 :   min_samples_split = 32  min_samples_leaf = 42  0.7869362363919129\n",
      "max_depth = 9 :   min_samples_split = 32  min_samples_leaf = 52  0.7869362363919129\n",
      "max_depth = 9 :   min_samples_split = 32  min_samples_leaf = 62  0.7776049766718507\n",
      "max_depth = 9 :   min_samples_split = 32  min_samples_leaf = 72  0.7776049766718507\n",
      "max_depth = 9 :   min_samples_split = 32  min_samples_leaf = 82  0.7698289269051322\n",
      "max_depth = 9 :   min_samples_split = 32  min_samples_leaf = 92  0.7698289269051322\n",
      "max_depth = 9 :   min_samples_split = 32  min_samples_leaf = 102  0.7698289269051322\n",
      "max_depth = 9 :   min_samples_split = 32  min_samples_leaf = 112  0.7698289269051322\n",
      "max_depth = 9 :   min_samples_split = 42  min_samples_leaf = 2  0.776049766718507\n",
      "max_depth = 9 :   min_samples_split = 42  min_samples_leaf = 12  0.7729393468118196\n",
      "max_depth = 9 :   min_samples_split = 42  min_samples_leaf = 22  0.776049766718507\n",
      "max_depth = 9 :   min_samples_split = 42  min_samples_leaf = 32  0.7822706065318819\n",
      "max_depth = 9 :   min_samples_split = 42  min_samples_leaf = 42  0.7869362363919129\n",
      "max_depth = 9 :   min_samples_split = 42  min_samples_leaf = 52  0.7869362363919129\n",
      "max_depth = 9 :   min_samples_split = 42  min_samples_leaf = 62  0.7776049766718507\n",
      "max_depth = 9 :   min_samples_split = 42  min_samples_leaf = 72  0.7776049766718507\n",
      "max_depth = 9 :   min_samples_split = 42  min_samples_leaf = 82  0.7698289269051322\n",
      "max_depth = 9 :   min_samples_split = 42  min_samples_leaf = 92  0.7698289269051322\n",
      "max_depth = 9 :   min_samples_split = 42  min_samples_leaf = 102  0.7698289269051322\n",
      "max_depth = 9 :   min_samples_split = 42  min_samples_leaf = 112  0.7698289269051322\n",
      "max_depth = 9 :   min_samples_split = 52  min_samples_leaf = 2  0.776049766718507\n",
      "max_depth = 9 :   min_samples_split = 52  min_samples_leaf = 12  0.7729393468118196\n",
      "max_depth = 9 :   min_samples_split = 52  min_samples_leaf = 22  0.776049766718507\n",
      "max_depth = 9 :   min_samples_split = 52  min_samples_leaf = 32  0.7822706065318819\n",
      "max_depth = 9 :   min_samples_split = 52  min_samples_leaf = 42  0.7869362363919129\n",
      "max_depth = 9 :   min_samples_split = 52  min_samples_leaf = 52  0.7869362363919129\n",
      "max_depth = 9 :   min_samples_split = 52  min_samples_leaf = 62  0.7776049766718507\n",
      "max_depth = 9 :   min_samples_split = 52  min_samples_leaf = 72  0.7776049766718507\n",
      "max_depth = 9 :   min_samples_split = 52  min_samples_leaf = 82  0.7698289269051322\n",
      "max_depth = 9 :   min_samples_split = 52  min_samples_leaf = 92  0.7698289269051322\n",
      "max_depth = 9 :   min_samples_split = 52  min_samples_leaf = 102  0.7698289269051322\n",
      "max_depth = 9 :   min_samples_split = 52  min_samples_leaf = 112  0.7698289269051322\n",
      "max_depth = 9 :   min_samples_split = 62  min_samples_leaf = 2  0.776049766718507\n",
      "max_depth = 9 :   min_samples_split = 62  min_samples_leaf = 12  0.7729393468118196\n",
      "max_depth = 9 :   min_samples_split = 62  min_samples_leaf = 22  0.776049766718507\n",
      "max_depth = 9 :   min_samples_split = 62  min_samples_leaf = 32  0.7822706065318819\n",
      "max_depth = 9 :   min_samples_split = 62  min_samples_leaf = 42  0.7869362363919129\n",
      "max_depth = 9 :   min_samples_split = 62  min_samples_leaf = 52  0.7869362363919129\n",
      "max_depth = 9 :   min_samples_split = 62  min_samples_leaf = 62  0.7776049766718507\n",
      "max_depth = 9 :   min_samples_split = 62  min_samples_leaf = 72  0.7776049766718507\n",
      "max_depth = 9 :   min_samples_split = 62  min_samples_leaf = 82  0.7698289269051322\n",
      "max_depth = 9 :   min_samples_split = 62  min_samples_leaf = 92  0.7698289269051322\n",
      "max_depth = 9 :   min_samples_split = 62  min_samples_leaf = 102  0.7698289269051322\n",
      "max_depth = 9 :   min_samples_split = 62  min_samples_leaf = 112  0.7698289269051322\n",
      "max_depth = 9 :   min_samples_split = 72  min_samples_leaf = 2  0.7791601866251944\n",
      "max_depth = 9 :   min_samples_split = 72  min_samples_leaf = 12  0.776049766718507\n",
      "max_depth = 9 :   min_samples_split = 72  min_samples_leaf = 22  0.7791601866251944\n",
      "max_depth = 9 :   min_samples_split = 72  min_samples_leaf = 32  0.7822706065318819\n",
      "max_depth = 9 :   min_samples_split = 72  min_samples_leaf = 42  0.7869362363919129\n",
      "max_depth = 9 :   min_samples_split = 72  min_samples_leaf = 52  0.7869362363919129\n",
      "max_depth = 9 :   min_samples_split = 72  min_samples_leaf = 62  0.7776049766718507\n",
      "max_depth = 9 :   min_samples_split = 72  min_samples_leaf = 72  0.7776049766718507\n",
      "max_depth = 9 :   min_samples_split = 72  min_samples_leaf = 82  0.7698289269051322\n",
      "max_depth = 9 :   min_samples_split = 72  min_samples_leaf = 92  0.7698289269051322\n",
      "max_depth = 9 :   min_samples_split = 72  min_samples_leaf = 102  0.7698289269051322\n",
      "max_depth = 9 :   min_samples_split = 72  min_samples_leaf = 112  0.7698289269051322\n",
      "max_depth = 9 :   min_samples_split = 82  min_samples_leaf = 2  0.7838258164852255\n",
      "max_depth = 9 :   min_samples_split = 82  min_samples_leaf = 12  0.7822706065318819\n",
      "max_depth = 9 :   min_samples_split = 82  min_samples_leaf = 22  0.7838258164852255\n",
      "max_depth = 9 :   min_samples_split = 82  min_samples_leaf = 32  0.7869362363919129\n",
      "max_depth = 9 :   min_samples_split = 82  min_samples_leaf = 42  0.7869362363919129\n",
      "max_depth = 9 :   min_samples_split = 82  min_samples_leaf = 52  0.7869362363919129\n",
      "max_depth = 9 :   min_samples_split = 82  min_samples_leaf = 62  0.7776049766718507\n",
      "max_depth = 9 :   min_samples_split = 82  min_samples_leaf = 72  0.7776049766718507\n",
      "max_depth = 9 :   min_samples_split = 82  min_samples_leaf = 82  0.7698289269051322\n",
      "max_depth = 9 :   min_samples_split = 82  min_samples_leaf = 92  0.7698289269051322\n",
      "max_depth = 9 :   min_samples_split = 82  min_samples_leaf = 102  0.7698289269051322\n",
      "max_depth = 9 :   min_samples_split = 82  min_samples_leaf = 112  0.7698289269051322\n",
      "max_depth = 9 :   min_samples_split = 92  min_samples_leaf = 2  0.7869362363919129\n",
      "max_depth = 9 :   min_samples_split = 92  min_samples_leaf = 12  0.7853810264385692\n",
      "max_depth = 9 :   min_samples_split = 92  min_samples_leaf = 22  0.7838258164852255\n",
      "max_depth = 9 :   min_samples_split = 92  min_samples_leaf = 32  0.7869362363919129\n",
      "max_depth = 9 :   min_samples_split = 92  min_samples_leaf = 42  0.7869362363919129\n",
      "max_depth = 9 :   min_samples_split = 92  min_samples_leaf = 52  0.7869362363919129\n",
      "max_depth = 9 :   min_samples_split = 92  min_samples_leaf = 62  0.7776049766718507\n",
      "max_depth = 9 :   min_samples_split = 92  min_samples_leaf = 72  0.7776049766718507\n",
      "max_depth = 9 :   min_samples_split = 92  min_samples_leaf = 82  0.7698289269051322\n",
      "max_depth = 9 :   min_samples_split = 92  min_samples_leaf = 92  0.7698289269051322\n",
      "max_depth = 9 :   min_samples_split = 92  min_samples_leaf = 102  0.7698289269051322\n",
      "max_depth = 9 :   min_samples_split = 92  min_samples_leaf = 112  0.7698289269051322\n",
      "max_depth = 9 :   min_samples_split = 102  min_samples_leaf = 2  0.7853810264385692\n",
      "max_depth = 9 :   min_samples_split = 102  min_samples_leaf = 12  0.7853810264385692\n",
      "max_depth = 9 :   min_samples_split = 102  min_samples_leaf = 22  0.7853810264385692\n",
      "max_depth = 9 :   min_samples_split = 102  min_samples_leaf = 32  0.7869362363919129\n",
      "max_depth = 9 :   min_samples_split = 102  min_samples_leaf = 42  0.7869362363919129\n",
      "max_depth = 9 :   min_samples_split = 102  min_samples_leaf = 52  0.7869362363919129\n",
      "max_depth = 9 :   min_samples_split = 102  min_samples_leaf = 62  0.7776049766718507\n",
      "max_depth = 9 :   min_samples_split = 102  min_samples_leaf = 72  0.7776049766718507\n",
      "max_depth = 9 :   min_samples_split = 102  min_samples_leaf = 82  0.7698289269051322\n",
      "max_depth = 9 :   min_samples_split = 102  min_samples_leaf = 92  0.7698289269051322\n",
      "max_depth = 9 :   min_samples_split = 102  min_samples_leaf = 102  0.7698289269051322\n",
      "max_depth = 9 :   min_samples_split = 102  min_samples_leaf = 112  0.7698289269051322\n",
      "max_depth = 9 :   min_samples_split = 112  min_samples_leaf = 2  0.7869362363919129\n",
      "max_depth = 9 :   min_samples_split = 112  min_samples_leaf = 12  0.7869362363919129\n",
      "max_depth = 9 :   min_samples_split = 112  min_samples_leaf = 22  0.7853810264385692\n",
      "max_depth = 9 :   min_samples_split = 112  min_samples_leaf = 32  0.7869362363919129\n",
      "max_depth = 9 :   min_samples_split = 112  min_samples_leaf = 42  0.7869362363919129\n",
      "max_depth = 9 :   min_samples_split = 112  min_samples_leaf = 52  0.7869362363919129\n",
      "max_depth = 9 :   min_samples_split = 112  min_samples_leaf = 62  0.7776049766718507\n",
      "max_depth = 9 :   min_samples_split = 112  min_samples_leaf = 72  0.7776049766718507\n",
      "max_depth = 9 :   min_samples_split = 112  min_samples_leaf = 82  0.7698289269051322\n",
      "max_depth = 9 :   min_samples_split = 112  min_samples_leaf = 92  0.7698289269051322\n",
      "max_depth = 9 :   min_samples_split = 112  min_samples_leaf = 102  0.7698289269051322\n",
      "max_depth = 9 :   min_samples_split = 112  min_samples_leaf = 112  0.7698289269051322\n",
      "Accuracy наилучшей модели дерева на валидационной выборке: 0.7884914463452566\n"
     ]
    }
   ],
   "source": [
    "best_tree_model = None\n",
    "best_tree_accuracy = 0\n",
    "\n",
    "for depth in range(1, 10):\n",
    "    for min_split in range(2, 113, 10):\n",
    "        for min_leaf in range(2, 113, 10):\n",
    "            model = DecisionTreeClassifier(\n",
    "                max_depth=depth, min_samples_split=min_split, min_samples_leaf=min_leaf, random_state=12345)\n",
    "            model.fit(features_train, target_train)\n",
    "            predictions_valid = model.predict(features_valid)\n",
    "            print(\"max_depth =\", depth, \": \", end='  ')\n",
    "            print(\"min_samples_split =\", min_split, end='  ')\n",
    "            print(\"min_samples_leaf =\", min_leaf, end='  ')\n",
    "            print(accuracy_score(target_valid, predictions_valid)) \n",
    "            if accuracy_score(target_valid, predictions_valid) > best_tree_accuracy:\n",
    "                best_tree_accuracy = accuracy_score(target_valid, predictions_valid)\n",
    "                best_tree_model = model\n",
    "                best_depth = depth\n",
    "                best_min_samples_split = min_split\n",
    "                best_min_samples_leaf = min_leaf\n",
    "                \n",
    "print(\"Accuracy наилучшей модели дерева на валидационной выборке:\", best_tree_accuracy)"
   ]
  },
  {
   "cell_type": "markdown",
   "id": "2a254dbf",
   "metadata": {},
   "source": [
    "В результате подбора гиперпараметров `min_samples_leaf` и `min_samples_split` удалось получить модель с более высоким значением `accuracy = 0.7884914463452566` против `accuracy = 0.7853810264385692` у модели, где подобрана только глубина дерева (`depth = 3`). У новой лучшей модели дерева глубина - `depth = 6`."
   ]
  },
  {
   "cell_type": "markdown",
   "id": "a4a4098b",
   "metadata": {},
   "source": [
    "**Вывод:**\n",
    "\n",
    "Лучше всего себя показала модель с глубиной 6, минимальным количеством объектов в узле 82 и минимальным листом в 2 объекта. Однако есть риск, что модель переобучена. Поскольку при глубине меньше четырёх решающее дерево часто недообучается, а при глубине больше — переобучается.\n",
    "\n",
    "Выведем данные по лучшей модели - модели с максимальной `accuracy`. "
   ]
  },
  {
   "cell_type": "code",
   "execution_count": 41,
   "id": "e209de45",
   "metadata": {},
   "outputs": [
    {
     "name": "stdout",
     "output_type": "stream",
     "text": [
      "DecisionTreeClassifier(class_weight=None, criterion='gini', max_depth=6,\n",
      "                       max_features=None, max_leaf_nodes=None,\n",
      "                       min_impurity_decrease=0.0, min_impurity_split=None,\n",
      "                       min_samples_leaf=2, min_samples_split=82,\n",
      "                       min_weight_fraction_leaf=0.0, presort=False,\n",
      "                       random_state=12345, splitter='best')\n"
     ]
    }
   ],
   "source": [
    "print(best_tree_model)"
   ]
  },
  {
   "cell_type": "markdown",
   "id": "62e5e8b1",
   "metadata": {},
   "source": [
    "#### Проверка дерева решений на тестовой выборке"
   ]
  },
  {
   "cell_type": "markdown",
   "id": "f10ff2c2",
   "metadata": {},
   "source": [
    "Проверим лучшую модель дерева решений на тестовой выборке. Получено значение `accuracy = 0.7947122861586314`, что даже выше, чем `accuracy = 0.7884914463452566` на валидационной выборке."
   ]
  },
  {
   "cell_type": "code",
   "execution_count": 42,
   "id": "bd3862da",
   "metadata": {},
   "outputs": [
    {
     "name": "stdout",
     "output_type": "stream",
     "text": [
      "Accuracy наилучшей модели дерева на тестовой выборке: 0.7947122861586314\n"
     ]
    }
   ],
   "source": [
    "predictions_test = best_tree_model.predict(features_test)\n",
    "tree_accuracy_test = accuracy_score(target_test, predictions_test)\n",
    "print(\"Accuracy наилучшей модели дерева на тестовой выборке:\", tree_accuracy_test)"
   ]
  },
  {
   "cell_type": "markdown",
   "id": "c3033fff",
   "metadata": {},
   "source": [
    "### Случайный лес\n",
    "#### Подбор гиперпараметров и выбор лучшей модели случайного леса"
   ]
  },
  {
   "cell_type": "markdown",
   "id": "f334219e",
   "metadata": {},
   "source": [
    "Построим и обучим модель случайного леса, попробуем подобрать гиперпараметры - количество деревьев-оценщиков."
   ]
  },
  {
   "cell_type": "code",
   "execution_count": 43,
   "id": "4b8e01b3",
   "metadata": {},
   "outputs": [
    {
     "name": "stdout",
     "output_type": "stream",
     "text": [
      "estimators = 1 :   0.7107309486780715\n",
      "estimators = 6 :   0.7807153965785381\n",
      "estimators = 11 :   0.7838258164852255\n",
      "estimators = 16 :   0.7869362363919129\n",
      "estimators = 21 :   0.7931570762052877\n",
      "estimators = 26 :   0.7853810264385692\n",
      "estimators = 31 :   0.7822706065318819\n",
      "estimators = 36 :   0.7807153965785381\n",
      "estimators = 41 :   0.7869362363919129\n",
      "estimators = 46 :   0.7884914463452566\n",
      "estimators = 51 :   0.7916018662519441\n",
      "estimators = 56 :   0.7853810264385692\n",
      "estimators = 61 :   0.7807153965785381\n",
      "estimators = 66 :   0.7822706065318819\n",
      "estimators = 71 :   0.7807153965785381\n",
      "estimators = 76 :   0.7838258164852255\n",
      "estimators = 81 :   0.7807153965785381\n",
      "estimators = 86 :   0.7853810264385692\n",
      "estimators = 91 :   0.7838258164852255\n",
      "estimators = 96 :   0.7838258164852255\n",
      "estimators = 101 :   0.7853810264385692\n",
      "estimators = 106 :   0.7869362363919129\n",
      "estimators = 111 :   0.7822706065318819\n",
      "estimators = 116 :   0.7853810264385692\n",
      "estimators = 121 :   0.7869362363919129\n",
      "estimators = 126 :   0.7838258164852255\n",
      "estimators = 131 :   0.7853810264385692\n",
      "estimators = 136 :   0.7884914463452566\n",
      "estimators = 141 :   0.7900466562986003\n",
      "estimators = 146 :   0.7884914463452566\n",
      "estimators = 151 :   0.7869362363919129\n",
      "estimators = 156 :   0.7869362363919129\n",
      "estimators = 161 :   0.7853810264385692\n",
      "estimators = 166 :   0.7869362363919129\n",
      "estimators = 171 :   0.7869362363919129\n",
      "estimators = 176 :   0.7869362363919129\n",
      "estimators = 181 :   0.7869362363919129\n",
      "estimators = 186 :   0.7884914463452566\n",
      "estimators = 191 :   0.7884914463452566\n",
      "estimators = 196 :   0.7869362363919129\n",
      "estimators = 201 :   0.7853810264385692\n",
      "estimators = 206 :   0.7900466562986003\n",
      "Accuracy наилучшей модели леса на валидационной выборке: 0.7931570762052877\n"
     ]
    }
   ],
   "source": [
    "best_forest_model = None\n",
    "best_forest_result = 0\n",
    "for est in range(1, 211, 5):\n",
    "    model = RandomForestClassifier(random_state=12345, n_estimators=est)\n",
    "    model.fit(features_train, target_train)\n",
    "    result = model.score(features_valid, target_valid)\n",
    "    print(\"estimators =\", est, \": \", end='  ')\n",
    "    print(result)\n",
    "    if result > best_forest_result:\n",
    "        best_forest_model = model \n",
    "        best_forest_result = result\n",
    "print(\"Accuracy наилучшей модели леса на валидационной выборке:\", best_forest_result)"
   ]
  },
  {
   "cell_type": "code",
   "execution_count": 370,
   "id": "447100f5",
   "metadata": {},
   "outputs": [
    {
     "name": "stdout",
     "output_type": "stream",
     "text": [
      "RandomForestClassifier(n_estimators=21, random_state=12345)\n"
     ]
    }
   ],
   "source": [
    "print(best_forest_model)"
   ]
  },
  {
   "cell_type": "markdown",
   "id": "91f1953f",
   "metadata": {},
   "source": [
    "Попробуем подобрать другие параметры для деревьев леса: максимальную глубину дерева, минимальное количество объектов в узле и минимальное количество объектов в листе.\n",
    "    \n",
    "Лучше всего себя показала модель RandomForestClassifier(max_depth=6, min_samples_leaf=2, n_estimators=36, random_state=12345). Сохраним эту модель в переменную `best_forest_model_2`."
   ]
  },
  {
   "cell_type": "code",
   "execution_count": 11,
   "id": "1a2a69dc",
   "metadata": {},
   "outputs": [
    {
     "ename": "NameError",
     "evalue": "name 'features_train' is not defined",
     "output_type": "error",
     "traceback": [
      "\u001b[0;31m---------------------------------------------------------------------------\u001b[0m",
      "\u001b[0;31mNameError\u001b[0m                                 Traceback (most recent call last)",
      "\u001b[0;32m<ipython-input-11-b1cb04edda9d>\u001b[0m in \u001b[0;36m<module>\u001b[0;34m\u001b[0m\n\u001b[1;32m     11\u001b[0m                     \u001b[0mmin_samples_split\u001b[0m\u001b[0;34m=\u001b[0m\u001b[0mmin_split\u001b[0m\u001b[0;34m,\u001b[0m\u001b[0;34m\u001b[0m\u001b[0;34m\u001b[0m\u001b[0m\n\u001b[1;32m     12\u001b[0m                     min_samples_leaf=min_leaf)\n\u001b[0;32m---> 13\u001b[0;31m                 \u001b[0mmodel\u001b[0m\u001b[0;34m.\u001b[0m\u001b[0mfit\u001b[0m\u001b[0;34m(\u001b[0m\u001b[0mfeatures_train\u001b[0m\u001b[0;34m,\u001b[0m \u001b[0mtarget_train\u001b[0m\u001b[0;34m)\u001b[0m\u001b[0;34m\u001b[0m\u001b[0;34m\u001b[0m\u001b[0m\n\u001b[0m\u001b[1;32m     14\u001b[0m                 \u001b[0mresult\u001b[0m \u001b[0;34m=\u001b[0m \u001b[0mmodel\u001b[0m\u001b[0;34m.\u001b[0m\u001b[0mscore\u001b[0m\u001b[0;34m(\u001b[0m\u001b[0mfeatures_valid\u001b[0m\u001b[0;34m,\u001b[0m \u001b[0mtarget_valid\u001b[0m\u001b[0;34m)\u001b[0m\u001b[0;34m\u001b[0m\u001b[0;34m\u001b[0m\u001b[0m\n\u001b[1;32m     15\u001b[0m                 \u001b[0mprint\u001b[0m\u001b[0;34m(\u001b[0m\u001b[0;34m\"estimators =\"\u001b[0m\u001b[0;34m,\u001b[0m \u001b[0mest\u001b[0m\u001b[0;34m,\u001b[0m \u001b[0;34m\": \"\u001b[0m\u001b[0;34m,\u001b[0m \u001b[0mend\u001b[0m\u001b[0;34m=\u001b[0m\u001b[0;34m'  '\u001b[0m\u001b[0;34m)\u001b[0m\u001b[0;34m\u001b[0m\u001b[0;34m\u001b[0m\u001b[0m\n",
      "\u001b[0;31mNameError\u001b[0m: name 'features_train' is not defined"
     ]
    }
   ],
   "source": [
    "best_forest_model_2 = None\n",
    "best_forest_result_2 = 0\n",
    "for est in range(1, 140, 5):\n",
    "    for depth in range(1, 8):\n",
    "        for min_split in range(2, 21):\n",
    "            for min_leaf in range(2, 21, 2):\n",
    "                model = RandomForestClassifier(\n",
    "                    random_state=12345, \n",
    "                    n_estimators=est, \n",
    "                    max_depth=depth, \n",
    "                    min_samples_split=min_split, \n",
    "                    min_samples_leaf=min_leaf)\n",
    "                model.fit(features_train, target_train)\n",
    "                result = model.score(features_valid, target_valid)\n",
    "                print(\"estimators =\", est, \": \", end='  ')\n",
    "                print(\"max_depth =\", depth, \": \", end='  ')\n",
    "                print(\"min_samples_split =\", min_split, end='  ')\n",
    "                print(\"min_samples_leaf =\", min_leaf, end='  ')\n",
    "                print(result)\n",
    "                if result > best_forest_result_2:\n",
    "                    best_forest_model_2 = model \n",
    "                    best_forest_result_2 = result\n",
    "                \n",
    "print(\"Accuracy наилучшей модели леса на валидационной выборке:\", best_forest_result_2)\n",
    "                "
   ]
  },
  {
   "cell_type": "code",
   "execution_count": 44,
   "id": "fcbc06a5",
   "metadata": {
    "scrolled": true
   },
   "outputs": [
    {
     "name": "stdout",
     "output_type": "stream",
     "text": [
      "Accuracy кастомизированной модели случайного леса на валидационной выборке: 0.8087091757387247\n"
     ]
    }
   ],
   "source": [
    "best_forest_model_2 = RandomForestClassifier(\n",
    "                        random_state=12345, \n",
    "                        n_estimators=36, \n",
    "                        max_depth=6, \n",
    "                        min_samples_leaf=2)\n",
    "best_forest_model_2.fit(features_train, target_train)\n",
    "result = best_forest_model_2.score(features_valid, target_valid)\n",
    "print(\"Accuracy кастомизированной модели случайного леса на валидационной выборке:\", result)"
   ]
  },
  {
   "cell_type": "code",
   "execution_count": 45,
   "id": "b92a8e62",
   "metadata": {},
   "outputs": [
    {
     "name": "stdout",
     "output_type": "stream",
     "text": [
      "RandomForestClassifier(bootstrap=True, class_weight=None, criterion='gini',\n",
      "                       max_depth=6, max_features='auto', max_leaf_nodes=None,\n",
      "                       min_impurity_decrease=0.0, min_impurity_split=None,\n",
      "                       min_samples_leaf=2, min_samples_split=2,\n",
      "                       min_weight_fraction_leaf=0.0, n_estimators=36,\n",
      "                       n_jobs=None, oob_score=False, random_state=12345,\n",
      "                       verbose=0, warm_start=False)\n"
     ]
    }
   ],
   "source": [
    "print(best_forest_model_2)"
   ]
  },
  {
   "cell_type": "markdown",
   "id": "302f3100",
   "metadata": {},
   "source": [
    "**Вывод:** \n",
    "\n",
    "Получено две лучших модели леса. \n",
    "\n",
    "Первая - `best_forest_model` имеет 21 дерево-оценщик и `accuracy = 0.7931570762052877`. \n",
    "\n",
    "Вторая - `best_forest_model_2` имеет 36 деревьев-оценщиков, максимальную глубину - 6, минимальное количество объектов в листе - 2. Для этой модели `accuracy = 0.8087091757387247`. \n",
    "\n",
    "Однако этот результат вполне может оказаться случайностью, т.к. обычно точность предсказаний растет с количеством деревьев-оценщиков, и маловероятно, что лес из 21 или 36 деревьев будет предсказывать точнее, чем лес с 100+ деревьями. Проверим это предположение на тестовой выборке."
   ]
  },
  {
   "cell_type": "markdown",
   "id": "8499cbcc",
   "metadata": {},
   "source": [
    "#### Проверка случайного леса на тестовой выборке"
   ]
  },
  {
   "cell_type": "markdown",
   "id": "452f01c3",
   "metadata": {},
   "source": [
    "Проверим первую лучшую модель случайного леса (c 21 деревом-оценщиком) на тестовой выборке. Получена `accuracy = 0.776049766718507`, что ниже значения для валидационной выборки `accuracy = 0.7931570762052877`."
   ]
  },
  {
   "cell_type": "code",
   "execution_count": 46,
   "id": "9fd4af77",
   "metadata": {},
   "outputs": [
    {
     "name": "stdout",
     "output_type": "stream",
     "text": [
      "Accuracy первой лучшей модели случайного леса на тестовой выборке: 0.776049766718507\n"
     ]
    }
   ],
   "source": [
    "forest_accuracy_test = best_forest_model.score(features_test, target_test)\n",
    "print(\"Accuracy первой лучшей модели случайного леса на тестовой выборке:\", forest_accuracy_test)"
   ]
  },
  {
   "cell_type": "markdown",
   "id": "ddb97d50",
   "metadata": {},
   "source": [
    "Попробуем еще один вариант - модель с 141 деревом-оценщиком. Возможно, результат на тестовой выборке будет лучше, чем у модели с 21 деревом."
   ]
  },
  {
   "cell_type": "code",
   "execution_count": 47,
   "id": "686a917b",
   "metadata": {},
   "outputs": [
    {
     "name": "stdout",
     "output_type": "stream",
     "text": [
      "Accuracy модели случайного леса с 141 деревом на валидационной выборке: 0.7900466562986003\n"
     ]
    }
   ],
   "source": [
    "forest_model_141_est = RandomForestClassifier(random_state=12345, n_estimators=141)\n",
    "forest_model_141_est.fit(features_train, target_train)\n",
    "result = forest_model_141_est.score(features_valid, target_valid)\n",
    "print(\"Accuracy модели случайного леса с 141 деревом на валидационной выборке:\", result)"
   ]
  },
  {
   "cell_type": "code",
   "execution_count": 48,
   "id": "9b850139",
   "metadata": {},
   "outputs": [
    {
     "name": "stdout",
     "output_type": "stream",
     "text": [
      "Accuracy модели случайного леса c 141 деревом на тестовой выборке: 0.7869362363919129\n"
     ]
    }
   ],
   "source": [
    "forest_accuracy_test = forest_model_141_est.score(features_test, target_test)\n",
    "print(\"Accuracy модели случайного леса c 141 деревом на тестовой выборке:\", forest_accuracy_test)"
   ]
  },
  {
   "cell_type": "markdown",
   "id": "e86fdb0e",
   "metadata": {},
   "source": [
    "`Accuracy` получилась выше, чем для леса с 21 деревом."
   ]
  },
  {
   "cell_type": "markdown",
   "id": "5d946b30",
   "metadata": {},
   "source": [
    "Попробуем еще один вариант с 206 деревьями - на валидационной выборке он показал такой же результат, как и вариант с 141 деревьями, но на тестовой что-то может измениться. Действительно, вариант с 206 деревьями-оценщиками показал более высокое значение `accuracy = 0.7884914463452566` на тестовой выборке. Это значение совпало со значением `accuracy` для леса с 21 деревом. "
   ]
  },
  {
   "cell_type": "code",
   "execution_count": 53,
   "id": "d0061528",
   "metadata": {},
   "outputs": [
    {
     "name": "stdout",
     "output_type": "stream",
     "text": [
      "Accuracy модели случайного леса с 206 деревьями на валидационной выборке: 0.7900466562986003\n"
     ]
    }
   ],
   "source": [
    "forest_model_206_est = RandomForestClassifier(random_state=12345, n_estimators=206)\n",
    "forest_model_206_est.fit(features_train, target_train)\n",
    "result = forest_model_206_est.score(features_valid, target_valid)\n",
    "print(\"Accuracy модели случайного леса с 206 деревьями на валидационной выборке:\", result)"
   ]
  },
  {
   "cell_type": "code",
   "execution_count": 54,
   "id": "80720f7f",
   "metadata": {},
   "outputs": [
    {
     "name": "stdout",
     "output_type": "stream",
     "text": [
      "Accuracy модели случайного леса c 206 деревьями на тестовой выборке: 0.7884914463452566\n"
     ]
    }
   ],
   "source": [
    "forest_accuracy_test = forest_model_206_est.score(features_test, target_test)\n",
    "print(\"Accuracy модели случайного леса c 206 деревьями на тестовой выборке:\", forest_accuracy_test)"
   ]
  },
  {
   "cell_type": "markdown",
   "id": "2993b7ef",
   "metadata": {},
   "source": [
    "Проверим вторую лучшую модель случайного леса с подобранными гиперпараметрами - `best_forest_model_2`:"
   ]
  },
  {
   "cell_type": "code",
   "execution_count": 55,
   "id": "4d02fe3c",
   "metadata": {},
   "outputs": [
    {
     "name": "stdout",
     "output_type": "stream",
     "text": [
      "Accuracy кастомизированной наилучшей модели случайного леса на тестовой выборке: 0.7962674961119751\n"
     ]
    }
   ],
   "source": [
    "forest_accuracy_test_2 = best_forest_model_2.score(features_test, target_test)\n",
    "print(\"Accuracy кастомизированной наилучшей модели случайного леса на тестовой выборке:\", forest_accuracy_test_2)"
   ]
  },
  {
   "cell_type": "markdown",
   "id": "d694a909",
   "metadata": {},
   "source": [
    "Для второй лучшей модели случайного леса значение `accuracy = 0.7962674961119751` выше, чем все ранее полученные значения `accuracy` для моделей случайного леса. \n",
    "\n",
    "Признаем эту модель самой удачной из моделей случайного леса и сохраним ее в переменную `best_forest_model`, а соответствующие ей значения `accuracy` на валидационной и тестовой выборках сохраним в переменные `best_forest_result` и `forest_accuracy_test`. "
   ]
  },
  {
   "cell_type": "code",
   "execution_count": 56,
   "id": "ecd84c2a",
   "metadata": {},
   "outputs": [],
   "source": [
    "best_forest_model = best_forest_model_2\n",
    "best_forest_result = best_forest_model_2.score(features_valid, target_valid)\n",
    "forest_accuracy_test = forest_accuracy_test_2"
   ]
  },
  {
   "cell_type": "markdown",
   "id": "6d5153cd",
   "metadata": {},
   "source": [
    "### Логистическая регрессия\n",
    "#### Подбор гиперпараметров и выбор лучшей модели"
   ]
  },
  {
   "cell_type": "markdown",
   "id": "a11092d5",
   "metadata": {},
   "source": [
    "Построим модель логистической регрессии. Попробуем подобрать гиперпараметры. Модель с гиперпараметрами по умолчанию дает низкую `accuracy = 0.7107309486780715`"
   ]
  },
  {
   "cell_type": "code",
   "execution_count": 71,
   "id": "88e24eaa",
   "metadata": {},
   "outputs": [
    {
     "name": "stdout",
     "output_type": "stream",
     "text": [
      "Accuracy модели логистической регрессии на валидационной выборке: 0.7589424572317263\n"
     ]
    },
    {
     "name": "stderr",
     "output_type": "stream",
     "text": [
      "/opt/conda/lib/python3.7/site-packages/sklearn/linear_model/logistic.py:432: FutureWarning: Default solver will be changed to 'lbfgs' in 0.22. Specify a solver to silence this warning.\n",
      "  FutureWarning)\n"
     ]
    }
   ],
   "source": [
    "regression_model = LogisticRegression(random_state=67890)\n",
    "regression_model.fit(features_train, target_train)\n",
    "result = regression_model.score(features_valid, target_valid)\n",
    "print(\"Accuracy модели логистической регрессии на валидационной выборке:\", result)"
   ]
  },
  {
   "cell_type": "markdown",
   "id": "197f9534",
   "metadata": {},
   "source": [
    "Попробуем указать гиперпараметр `solver='liblinear'` - данный алгоритм оптимизации подходит для небольших датасетов. `Accuracy` модели повысилась и стала `0.7589424572317263`. Этот гиперпараметр ограничивает выбор параметра `multi_class='ovr'`."
   ]
  },
  {
   "cell_type": "code",
   "execution_count": 73,
   "id": "d32f05e6",
   "metadata": {},
   "outputs": [
    {
     "name": "stdout",
     "output_type": "stream",
     "text": [
      "Accuracy модели логистической регрессии на валидационной выборке: 0.7589424572317263\n"
     ]
    }
   ],
   "source": [
    "regression_model = LogisticRegression(random_state=12345, solver='liblinear')\n",
    "regression_model.fit(features_train, target_train)\n",
    "result = regression_model.score(features_valid, target_valid)\n",
    "print(\"Accuracy модели логистической регрессии на валидационной выборке:\", result)"
   ]
  },
  {
   "cell_type": "markdown",
   "id": "219a78ee",
   "metadata": {},
   "source": [
    "Попробуем изменить гиперпараметр толерантности. \n",
    "\n",
    "По умолчанию `tol=1e-4`. По результатам проверки, при этом значении получается самая высокая `accuracy = 0.7589424572317263`. При установке `tol=1e-3` и больше значение accuracy сильно падает, при установке `tol=1e-5` и меньше значение accuracy тоже падает, хотя и менее сильно."
   ]
  },
  {
   "cell_type": "code",
   "execution_count": 74,
   "id": "f9f911e5",
   "metadata": {},
   "outputs": [
    {
     "name": "stdout",
     "output_type": "stream",
     "text": [
      "Accuracy модели логистической регрессии на валидационной выборке: 0.7589424572317263\n"
     ]
    }
   ],
   "source": [
    "regression_model = LogisticRegression(random_state=12345, solver='liblinear', tol=1e-4)\n",
    "regression_model.fit(features_train, target_train)\n",
    "result = regression_model.score(features_valid, target_valid)\n",
    "print(\"Accuracy модели логистической регрессии на валидационной выборке:\", result)"
   ]
  },
  {
   "cell_type": "code",
   "execution_count": 75,
   "id": "c7eb65b3",
   "metadata": {},
   "outputs": [
    {
     "name": "stdout",
     "output_type": "stream",
     "text": [
      "tol = 1e-10 :   0.7573872472783826\n",
      "tol = 1e-09 :   0.7573872472783826\n",
      "tol = 1e-08 :   0.7573872472783826\n",
      "tol = 1e-07 :   0.7573872472783826\n",
      "tol = 1e-06 :   0.7573872472783826\n",
      "tol = 1e-05 :   0.7573872472783826\n",
      "tol = 0.0001 :   0.7589424572317263\n",
      "tol = 0.001 :   0.7076205287713841\n",
      "tol = 0.01 :   0.7060653188180405\n",
      "Accuracy наилучшей модели логистической регрессии на валидационной выборке: 0.7589424572317263\n"
     ]
    }
   ],
   "source": [
    "best_regression_model = None\n",
    "best_regression_result = 0\n",
    "\n",
    "for degree in range(-10, -1):\n",
    "    regression_model = LogisticRegression(random_state=12345, solver='liblinear', tol=10**degree)\n",
    "    regression_model.fit(features_train, target_train)\n",
    "    result = regression_model.score(features_valid, target_valid)\n",
    "    print(\"tol =\", 10**degree, \": \", end='  ')\n",
    "    print(result)\n",
    "    if result > best_regression_result:\n",
    "        best_regression_model = regression_model \n",
    "        best_regression_result = result\n",
    "print(\"Accuracy наилучшей модели логистической регрессии на валидационной выборке:\", best_regression_result)"
   ]
  },
  {
   "cell_type": "markdown",
   "id": "2858b106",
   "metadata": {},
   "source": [
    "Изменение гиперпараметра количества итераций ничего не дало. По дефолту `max_iter=100`. При `max_iter <= 20` accuracy падает. Все значения от 30 и выше дают одну и ту же accuracy; при значениях `max_iter <= 30` сыплются ворнинги:"
   ]
  },
  {
   "cell_type": "code",
   "execution_count": 76,
   "id": "aad09efd",
   "metadata": {
    "scrolled": false
   },
   "outputs": [
    {
     "name": "stdout",
     "output_type": "stream",
     "text": [
      "Accuracy модели логистической регрессии на валидационной выборке: 0.7091757387247278\n"
     ]
    },
    {
     "name": "stderr",
     "output_type": "stream",
     "text": [
      "/opt/conda/lib/python3.7/site-packages/sklearn/svm/base.py:929: ConvergenceWarning: Liblinear failed to converge, increase the number of iterations.\n",
      "  \"the number of iterations.\", ConvergenceWarning)\n"
     ]
    }
   ],
   "source": [
    "regression_model = LogisticRegression(random_state=12345, solver='liblinear', max_iter=20)\n",
    "regression_model.fit(features_train, target_train)\n",
    "result = regression_model.score(features_valid, target_valid)\n",
    "print(\"Accuracy модели логистической регрессии на валидационной выборке:\", result)"
   ]
  },
  {
   "cell_type": "code",
   "execution_count": 77,
   "id": "aaed3e15",
   "metadata": {},
   "outputs": [
    {
     "name": "stdout",
     "output_type": "stream",
     "text": [
      "LogisticRegression(C=1.0, class_weight=None, dual=False, fit_intercept=True,\n",
      "                   intercept_scaling=1, l1_ratio=None, max_iter=100,\n",
      "                   multi_class='warn', n_jobs=None, penalty='l2',\n",
      "                   random_state=12345, solver='liblinear', tol=0.0001,\n",
      "                   verbose=0, warm_start=False)\n"
     ]
    }
   ],
   "source": [
    "print(best_regression_model)"
   ]
  },
  {
   "cell_type": "markdown",
   "id": "4d332d2e",
   "metadata": {},
   "source": [
    "**Вывод:**\n",
    "\n",
    "Лучше всего себя показала модель регрессии с гиперпараметром `solver='liblinear'` и остальными параметрами по умолчанию: `multi_class='ovr', tol=1e-4, max_iter=100`. При заданных гиперпараметрах модель показывает максимальную `accuracy = 0.7589424572317263`."
   ]
  },
  {
   "cell_type": "markdown",
   "id": "67119e2f",
   "metadata": {},
   "source": [
    "#### Проверка логистической регрессии на тестовой выборке"
   ]
  },
  {
   "cell_type": "markdown",
   "id": "b079c0c0",
   "metadata": {},
   "source": [
    "Проверим лучшую модель регрессии на тестовой выборке. Полученный результат `accuracy = 0.7402799377916018`, что значительно ниже, чем на валидационной выборке с `accuracy = 0.7589424572317263`."
   ]
  },
  {
   "cell_type": "code",
   "execution_count": 78,
   "id": "1d5320de",
   "metadata": {},
   "outputs": [
    {
     "name": "stdout",
     "output_type": "stream",
     "text": [
      "Accuracy наилучшей модели логистической регрессии на тестовой выборке: 0.7402799377916018\n"
     ]
    }
   ],
   "source": [
    "regression_accuracy_test = best_regression_model.score(features_test, target_test)\n",
    "print(\"Accuracy наилучшей модели логистической регрессии на тестовой выборке:\", regression_accuracy_test)"
   ]
  },
  {
   "cell_type": "markdown",
   "id": "90400a42",
   "metadata": {},
   "source": [
    "### Сравнение трех моделей\n",
    "\n",
    "Сравним лучшие результаты по трем моделям. На тестовой выборке лучше всего показал себя случайный лес с `accuracy = 0.7963`. Результат у решающего дерева чуть ниже - `accuracy = 0.7947`."
   ]
  },
  {
   "cell_type": "code",
   "execution_count": 79,
   "id": "55e623a2",
   "metadata": {},
   "outputs": [
    {
     "data": {
      "text/html": [
       "<div>\n",
       "<style scoped>\n",
       "    .dataframe tbody tr th:only-of-type {\n",
       "        vertical-align: middle;\n",
       "    }\n",
       "\n",
       "    .dataframe tbody tr th {\n",
       "        vertical-align: top;\n",
       "    }\n",
       "\n",
       "    .dataframe thead th {\n",
       "        text-align: right;\n",
       "    }\n",
       "</style>\n",
       "<table border=\"1\" class=\"dataframe\">\n",
       "  <thead>\n",
       "    <tr style=\"text-align: right;\">\n",
       "      <th></th>\n",
       "      <th>model</th>\n",
       "      <th>valid_accuracy</th>\n",
       "      <th>test_accuracy</th>\n",
       "    </tr>\n",
       "  </thead>\n",
       "  <tbody>\n",
       "    <tr>\n",
       "      <td>0</td>\n",
       "      <td>Decision Tree</td>\n",
       "      <td>0.7885</td>\n",
       "      <td>0.7947</td>\n",
       "    </tr>\n",
       "    <tr>\n",
       "      <td>1</td>\n",
       "      <td>Random Forest</td>\n",
       "      <td>0.8087</td>\n",
       "      <td>0.7963</td>\n",
       "    </tr>\n",
       "    <tr>\n",
       "      <td>2</td>\n",
       "      <td>Logistic Regression</td>\n",
       "      <td>0.7589</td>\n",
       "      <td>0.7403</td>\n",
       "    </tr>\n",
       "  </tbody>\n",
       "</table>\n",
       "</div>"
      ],
      "text/plain": [
       "                 model  valid_accuracy  test_accuracy\n",
       "0        Decision Tree          0.7885         0.7947\n",
       "1        Random Forest          0.8087         0.7963\n",
       "2  Logistic Regression          0.7589         0.7403"
      ]
     },
     "metadata": {},
     "output_type": "display_data"
    }
   ],
   "source": [
    "output_table = pd.DataFrame(\n",
    "    [['Decision Tree', best_tree_accuracy, tree_accuracy_test],\n",
    "    ['Random Forest', best_forest_result, forest_accuracy_test],\n",
    "    ['Logistic Regression', best_regression_result, regression_accuracy_test]],\n",
    "    columns=['model', 'valid_accuracy', 'test_accuracy']\n",
    ")\n",
    "display(output_table)"
   ]
  },
  {
   "cell_type": "markdown",
   "id": "2d7c6604",
   "metadata": {},
   "source": [
    "### Проверка на вменяемость\n",
    "\n",
    "Проверим на вменяемость лучшую из наших моделей - модель случайного леса. Для этого построим простейшую модель, которая всегда будет предсказывать целевой признак `is_ultra = False`. Назовем ее `dummy_predictor`. \n",
    "После этого сравним accuracy для `best_forest_model` и `dummy_predictor`."
   ]
  },
  {
   "cell_type": "code",
   "execution_count": 80,
   "id": "4ad9c003",
   "metadata": {},
   "outputs": [],
   "source": [
    "def dummy_predictor(array_length):\n",
    "    return np.asarray(([False] * array_length), dtype=bool)\n"
   ]
  },
  {
   "cell_type": "code",
   "execution_count": 81,
   "id": "3e8a9475",
   "metadata": {},
   "outputs": [
    {
     "name": "stdout",
     "output_type": "stream",
     "text": [
      "Accuracy для dummy_predictor на тестовой выборке: 0.6842923794712286\n"
     ]
    }
   ],
   "source": [
    "# проверим accuracy для dummy_predictor\n",
    "dummy_predictions_test = dummy_predictor(len(features_test))\n",
    "# print(dummy_predictions_test)\n",
    "\n",
    "dummy_accuracy_test = accuracy_score(target_test, dummy_predictions_test)\n",
    "\n",
    "print(\"Accuracy для dummy_predictor на тестовой выборке:\", dummy_accuracy_test)"
   ]
  },
  {
   "cell_type": "code",
   "execution_count": 82,
   "id": "a6c63a16",
   "metadata": {},
   "outputs": [
    {
     "name": "stdout",
     "output_type": "stream",
     "text": [
      "Accuracy лучшей модели случайного леса на тестовой выборке: 0.7962674961119751\n"
     ]
    }
   ],
   "source": [
    "print(\"Accuracy лучшей модели случайного леса на тестовой выборке:\", forest_accuracy_test)"
   ]
  },
  {
   "cell_type": "markdown",
   "id": "1f11b813",
   "metadata": {},
   "source": [
    "**Вывод:**\n",
    "\n",
    "Лучшая из обученных моделей - модель случайного леса - прошла проверку на вменяемость, показав на тестовой выборке результат `accuracy = 0.7962674961119751`, против  `accuracy = 0.6842923794712286` простейшей модели, которая всегда предсказывает одно и то же."
   ]
  },
  {
   "cell_type": "markdown",
   "id": "9966ed48",
   "metadata": {},
   "source": [
    "## Общий вывод по проекту\n",
    "\n"
   ]
  },
  {
   "cell_type": "markdown",
   "id": "13a16f62",
   "metadata": {},
   "source": [
    "Для решения задачи рекомендации тарифного плана были построены и обучены модели трех типов: решающее дерево, случайный лес и логистическая регрессия. Был произведен подбор гиперпараметров моделей и выбрана лучшая модель для каждого типа.\n",
    "\n",
    "Параметр `accuracy` при работе на валидационной и тестовой выборках для трех лучших моделей приведен в таблице:"
   ]
  },
  {
   "cell_type": "code",
   "execution_count": 396,
   "id": "7328b87c",
   "metadata": {},
   "outputs": [
    {
     "data": {
      "text/html": [
       "<div>\n",
       "<style scoped>\n",
       "    .dataframe tbody tr th:only-of-type {\n",
       "        vertical-align: middle;\n",
       "    }\n",
       "\n",
       "    .dataframe tbody tr th {\n",
       "        vertical-align: top;\n",
       "    }\n",
       "\n",
       "    .dataframe thead th {\n",
       "        text-align: right;\n",
       "    }\n",
       "</style>\n",
       "<table border=\"1\" class=\"dataframe\">\n",
       "  <thead>\n",
       "    <tr style=\"text-align: right;\">\n",
       "      <th></th>\n",
       "      <th>model</th>\n",
       "      <th>valid_accuracy</th>\n",
       "      <th>test_accuracy</th>\n",
       "    </tr>\n",
       "  </thead>\n",
       "  <tbody>\n",
       "    <tr>\n",
       "      <th>0</th>\n",
       "      <td>Decision Tree</td>\n",
       "      <td>0.7885</td>\n",
       "      <td>0.7947</td>\n",
       "    </tr>\n",
       "    <tr>\n",
       "      <th>1</th>\n",
       "      <td>Random Forest</td>\n",
       "      <td>0.8087</td>\n",
       "      <td>0.7963</td>\n",
       "    </tr>\n",
       "    <tr>\n",
       "      <th>2</th>\n",
       "      <td>Logistic Regression</td>\n",
       "      <td>0.7589</td>\n",
       "      <td>0.7403</td>\n",
       "    </tr>\n",
       "  </tbody>\n",
       "</table>\n",
       "</div>"
      ],
      "text/plain": [
       "                 model  valid_accuracy  test_accuracy\n",
       "0        Decision Tree          0.7885         0.7947\n",
       "1        Random Forest          0.8087         0.7963\n",
       "2  Logistic Regression          0.7589         0.7403"
      ]
     },
     "metadata": {},
     "output_type": "display_data"
    }
   ],
   "source": [
    "display(output_table)"
   ]
  },
  {
   "cell_type": "markdown",
   "id": "e03607e0",
   "metadata": {},
   "source": [
    "Лучше всего себя показала модель решающего леса с параметрами: `max_depth=6`, `min_samples_leaf=2`, `n_estimators=36`.\n",
    "\n",
    "Эта модель прошла проверку на вменяемость, показав на тестовой выборке результат `accuracy = 0.7962674961119751`, против `accuracy = 0.6842923794712286` простейшей модели, которая всегда предсказывает одно и то же (`is_ultra = False`). \n",
    "\n",
    "Модель рекомендуется дообучить и начать использовать в бизнесе."
   ]
  }
 ],
 "metadata": {
  "ExecuteTimeLog": [
   {
    "duration": 79,
    "start_time": "2022-01-21T08:01:14.245Z"
   },
   {
    "duration": 769,
    "start_time": "2022-01-21T08:03:22.926Z"
   },
   {
    "duration": 21,
    "start_time": "2022-01-21T08:03:29.646Z"
   },
   {
    "duration": 364,
    "start_time": "2022-01-21T08:03:54.625Z"
   },
   {
    "duration": 255,
    "start_time": "2022-01-21T08:04:03.494Z"
   },
   {
    "duration": 539,
    "start_time": "2022-01-21T08:04:16.685Z"
   },
   {
    "duration": 276,
    "start_time": "2022-01-21T08:04:28.844Z"
   },
   {
    "duration": 38,
    "start_time": "2022-01-21T08:04:36.774Z"
   },
   {
    "duration": 258,
    "start_time": "2022-01-21T08:04:47.746Z"
   },
   {
    "duration": 13,
    "start_time": "2022-01-21T08:05:03.605Z"
   },
   {
    "duration": 340,
    "start_time": "2022-01-21T08:05:16.067Z"
   },
   {
    "duration": 4,
    "start_time": "2022-01-21T08:05:28.165Z"
   },
   {
    "duration": 4,
    "start_time": "2022-01-21T08:05:45.514Z"
   },
   {
    "duration": 88,
    "start_time": "2022-01-21T08:06:03.494Z"
   },
   {
    "duration": 90,
    "start_time": "2022-01-21T08:06:14.505Z"
   },
   {
    "duration": 96,
    "start_time": "2022-01-21T08:06:39.145Z"
   },
   {
    "duration": 6,
    "start_time": "2022-01-21T08:09:15.114Z"
   },
   {
    "duration": 349,
    "start_time": "2022-01-21T08:09:30.143Z"
   },
   {
    "duration": 90,
    "start_time": "2022-01-21T08:09:56.793Z"
   },
   {
    "duration": 82,
    "start_time": "2022-01-21T08:10:09.662Z"
   },
   {
    "duration": 4,
    "start_time": "2022-01-21T08:11:46.034Z"
   },
   {
    "duration": 4,
    "start_time": "2022-01-21T08:11:53.074Z"
   },
   {
    "duration": 113,
    "start_time": "2022-01-21T08:13:54.632Z"
   },
   {
    "duration": 84,
    "start_time": "2022-01-21T08:15:09.303Z"
   },
   {
    "duration": 3,
    "start_time": "2022-01-21T08:15:11.194Z"
   },
   {
    "duration": 21,
    "start_time": "2022-01-21T08:15:15.979Z"
   },
   {
    "duration": 21,
    "start_time": "2022-01-21T08:15:20.333Z"
   },
   {
    "duration": 5,
    "start_time": "2022-01-21T08:15:22.673Z"
   },
   {
    "duration": 8,
    "start_time": "2022-01-21T08:15:24.115Z"
   },
   {
    "duration": 9,
    "start_time": "2022-01-21T08:15:26.962Z"
   },
   {
    "duration": 6,
    "start_time": "2022-01-21T08:15:29.733Z"
   },
   {
    "duration": 10,
    "start_time": "2022-01-21T08:15:31.164Z"
   },
   {
    "duration": 6,
    "start_time": "2022-01-21T08:15:35.433Z"
   },
   {
    "duration": 7,
    "start_time": "2022-01-21T08:15:51.895Z"
   },
   {
    "duration": 8,
    "start_time": "2022-01-21T08:15:54.017Z"
   },
   {
    "duration": 5,
    "start_time": "2022-01-21T08:15:56.177Z"
   },
   {
    "duration": 7,
    "start_time": "2022-01-21T08:16:40.365Z"
   },
   {
    "duration": 5,
    "start_time": "2022-01-21T08:16:43.679Z"
   },
   {
    "duration": 82,
    "start_time": "2022-01-21T08:17:00.246Z"
   },
   {
    "duration": 12453,
    "start_time": "2022-01-21T08:19:45.009Z"
   },
   {
    "duration": 6,
    "start_time": "2022-01-21T08:20:03.308Z"
   },
   {
    "duration": 7,
    "start_time": "2022-01-21T08:20:36.529Z"
   },
   {
    "duration": 22723,
    "start_time": "2022-01-21T08:20:41.637Z"
   },
   {
    "duration": 139,
    "start_time": "2022-01-21T08:21:33.230Z"
   },
   {
    "duration": 5,
    "start_time": "2022-01-21T08:21:38.158Z"
   },
   {
    "duration": 13,
    "start_time": "2022-01-21T08:21:52.038Z"
   },
   {
    "duration": 764,
    "start_time": "2022-01-21T08:21:54.647Z"
   },
   {
    "duration": 42,
    "start_time": "2022-01-21T08:21:59.458Z"
   },
   {
    "duration": 89,
    "start_time": "2022-01-21T08:23:32.148Z"
   },
   {
    "duration": 94,
    "start_time": "2022-01-21T08:25:41.287Z"
   },
   {
    "duration": 83,
    "start_time": "2022-01-21T08:25:59.598Z"
   },
   {
    "duration": 89,
    "start_time": "2022-01-21T08:29:06.838Z"
   },
   {
    "duration": 1619,
    "start_time": "2022-01-21T08:30:52.098Z"
   },
   {
    "duration": 67,
    "start_time": "2022-01-21T08:30:54.827Z"
   },
   {
    "duration": 16,
    "start_time": "2022-01-21T08:30:57.438Z"
   },
   {
    "duration": 14,
    "start_time": "2022-01-21T08:30:59.328Z"
   },
   {
    "duration": 263,
    "start_time": "2022-01-21T08:31:03.248Z"
   },
   {
    "duration": 78,
    "start_time": "2022-01-21T08:31:33.295Z"
   },
   {
    "duration": 278,
    "start_time": "2022-01-21T08:31:50.148Z"
   },
   {
    "duration": 83,
    "start_time": "2022-01-21T08:32:24.808Z"
   },
   {
    "duration": 108,
    "start_time": "2022-01-21T08:32:41.396Z"
   },
   {
    "duration": 3,
    "start_time": "2022-01-21T08:32:45.187Z"
   },
   {
    "duration": 110,
    "start_time": "2022-01-21T08:33:10.928Z"
   },
   {
    "duration": 89,
    "start_time": "2022-01-21T08:33:25.908Z"
   },
   {
    "duration": 4,
    "start_time": "2022-01-21T08:33:40.867Z"
   },
   {
    "duration": 83,
    "start_time": "2022-01-21T08:33:49.797Z"
   },
   {
    "duration": 3,
    "start_time": "2022-01-21T08:33:56.568Z"
   },
   {
    "duration": 5,
    "start_time": "2022-01-21T08:34:06.678Z"
   },
   {
    "duration": 27,
    "start_time": "2022-01-21T08:35:04.028Z"
   },
   {
    "duration": 24,
    "start_time": "2022-01-21T08:35:40.596Z"
   },
   {
    "duration": 25,
    "start_time": "2022-01-21T08:36:18.353Z"
   },
   {
    "duration": 25,
    "start_time": "2022-01-21T08:36:23.645Z"
   },
   {
    "duration": 24,
    "start_time": "2022-01-21T08:36:33.384Z"
   },
   {
    "duration": 26,
    "start_time": "2022-01-21T08:36:40.226Z"
   },
   {
    "duration": 173,
    "start_time": "2022-01-21T08:36:43.930Z"
   },
   {
    "duration": 19,
    "start_time": "2022-01-21T08:36:53.557Z"
   },
   {
    "duration": 5,
    "start_time": "2022-01-21T08:37:02.577Z"
   },
   {
    "duration": 7,
    "start_time": "2022-01-21T08:37:30.346Z"
   },
   {
    "duration": 16,
    "start_time": "2022-01-21T08:37:38.386Z"
   },
   {
    "duration": 4,
    "start_time": "2022-01-21T08:37:49.625Z"
   },
   {
    "duration": 7,
    "start_time": "2022-01-21T08:37:53.165Z"
   },
   {
    "duration": 5,
    "start_time": "2022-01-21T08:37:58.845Z"
   },
   {
    "duration": 92,
    "start_time": "2022-01-21T08:38:46.117Z"
   },
   {
    "duration": 764,
    "start_time": "2022-01-21T08:40:11.745Z"
   },
   {
    "duration": 85,
    "start_time": "2022-01-21T08:41:21.869Z"
   }
  ],
  "kernelspec": {
   "display_name": "Python 3 (ipykernel)",
   "language": "python",
   "name": "python3"
  },
  "language_info": {
   "codemirror_mode": {
    "name": "ipython",
    "version": 3
   },
   "file_extension": ".py",
   "mimetype": "text/x-python",
   "name": "python",
   "nbconvert_exporter": "python",
   "pygments_lexer": "ipython3",
   "version": "3.8.10"
  },
  "toc": {
   "base_numbering": 1,
   "nav_menu": {},
   "number_sections": true,
   "sideBar": true,
   "skip_h1_title": true,
   "title_cell": "Table of Contents",
   "title_sidebar": "Contents",
   "toc_cell": false,
   "toc_position": {},
   "toc_section_display": true,
   "toc_window_display": false
  }
 },
 "nbformat": 4,
 "nbformat_minor": 5
}
