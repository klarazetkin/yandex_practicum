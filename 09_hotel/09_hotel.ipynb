{
 "cells": [
  {
   "cell_type": "markdown",
   "id": "ae99e452",
   "metadata": {},
   "source": [
    "# Разработка модели, определяющей ненадежного клиента для сети отелей\n",
    "## Постановка задачи\n",
    "\n",
    "Заказчик исследования — сеть отелей «Как в гостях». Поставленная задача - разработка модели, определяющей ненадежного клиента, который с высокой вероятностью отменит бронь номера.\n",
    "\n",
    "Чтобы привлечь клиентов, сеть отелей дает возможность забронировать номер без предоплаты. Однако если клиент отменяет бронирование, то компания терпит убытки: это расходы на уборку номера, закупленные продукты, упущенная прибыль от отказа другим клиентам.\n",
    "\n",
    "Чтобы решить эту проблему, нужно разработать модель, которая предсказывает отказ от брони. Модель предполагается использовать следующим образом. \n",
    "\n",
    "В случае если модель предсказывает, что бронь будет отменена, то клиенту будет предложено внести депозит. \n",
    "\n",
    "Размер депозита — 80 % от стоимости номера за одни сутки и затрат на разовую уборку. Деньги будут списаны со счёта клиента, если он отменит бронь.\n",
    "\n",
    "## Описание бизнес метрик и их расчета\n",
    "Основная бизнес-метрика для сети отелей — прибыль. В данной работе бизнес-метрики отеля считаются следующим образом. Прибыль - это разница между выручкой и расходами. Выручка - стоимость номера за все ночи, расходы - затраты на обслуживание при подготовке номера и при проживании постояльца.\n",
    "\n",
    "В отеле есть несколько типов номеров. В зависимости от типа номера назначается стоимость за одну ночь. Есть также затраты на уборку. Если клиент снял номер надолго, то убираются каждые два дня.\n",
    "\n",
    "Стоимость номеров отеля:\n",
    "* категория A: за ночь — 1 000, разовое обслуживание — 400;\n",
    "* категория B: за ночь — 800, разовое обслуживание — 350;\n",
    "* категория C: за ночь — 600, разовое обслуживание — 350;\n",
    "* категория D: за ночь — 550, разовое обслуживание — 150;\n",
    "* категория E: за ночь — 500, разовое обслуживание — 150;\n",
    "* категория F: за ночь — 450, разовое обслуживание — 150;\n",
    "* категория G: за ночь — 350, разовое обслуживание — 150.\n",
    "\n",
    "В ценовой политике отеля используются сезонные коэффициенты: весной и осенью цены повышаются на 20%, летом — на 40%. Сезонные коэффициенты применяются только для стоимости номеров; затраты на уборку одинаковы в течение года.\n",
    "\n",
    "## Требования по окупаемости модели\n",
    "На разработку системы прогнозирования заложен бюджет — 400_000 рублей. Внедрение модели должно окупиться за год. Затраты на разработку должны быть меньше той выручки, которую система принесёт компании."
   ]
  },
  {
   "cell_type": "markdown",
   "id": "6f151592",
   "metadata": {},
   "source": [
    "## Импорт библиотек и данных\n",
    "Импортируем исходные датасеты в переменные train и test и ознакомимся с данными.\n",
    "\n",
    "Исходные данные представляют собой два датасета с одинаковой структурой. Названия и типы столбцов одинаковы. Типы данных адекватны в целом адекватны, пропусков нет. Явные дубликаты отсутствуют.\n",
    "\n",
    "Нужно будет изменить типы данных для столбцов `adults`, `children`, `babies` с `float` на `int`.\n",
    "\n",
    "Столбцы с id неинформативны, их нужно будет удалить. Также удалим столбец с днем месяца `arrival_date_day_of_month`, чтоб модель не нашла ложных взаимосвязей.\n",
    "\n",
    "Данные адекватны и пригодны для анализа.\n",
    "\n",
    "Информацию о ценах на услуги сохраним в датасете `room_prices`. Информацию о коэффициентах сохраним в соответствующих константах."
   ]
  },
  {
   "cell_type": "markdown",
   "id": "9ef5dee8",
   "metadata": {},
   "source": [
    "### Импорт библиотек"
   ]
  },
  {
   "cell_type": "raw",
   "id": "3a631c5b",
   "metadata": {},
   "source": [
    "!pip install -U scikit-learn --upgrade\n",
    "import sklearn\n",
    "sklearn.__version__"
   ]
  },
  {
   "cell_type": "code",
   "execution_count": 1,
   "id": "ad2828eb",
   "metadata": {},
   "outputs": [],
   "source": [
    "from pathlib import Path\n",
    "import math\n",
    "\n",
    "import pandas as pd\n",
    "pd.set_option('display.float_format', '{:,.4f}'.format)\n",
    "\n",
    "from scipy import stats as st\n",
    "\n",
    "from sklearn.preprocessing import StandardScaler\n",
    "from sklearn.model_selection import train_test_split \n",
    "from sklearn.metrics import accuracy_score\n",
    "from sklearn.metrics import f1_score\n",
    "from sklearn.model_selection import cross_val_score\n",
    "\n",
    "from sklearn.tree import DecisionTreeClassifier\n",
    "from sklearn.ensemble import RandomForestClassifier\n",
    "from sklearn.linear_model import LogisticRegression\n",
    "\n",
    "from sklearn.model_selection import GridSearchCV\n",
    "\n",
    "from numpy.random import RandomState\n"
   ]
  },
  {
   "cell_type": "raw",
   "id": "c6e5b3d2",
   "metadata": {},
   "source": [
    "from sklearn.experimental import enable_halving_search_cv  # noqa\n",
    "from sklearn.model_selection import HalvingGridSearchCV"
   ]
  },
  {
   "cell_type": "markdown",
   "id": "7fb764f4",
   "metadata": {},
   "source": [
    "### Импорт датасетов"
   ]
  },
  {
   "cell_type": "code",
   "execution_count": 2,
   "id": "48d91c42",
   "metadata": {},
   "outputs": [],
   "source": [
    "my_path = Path('/home/klarazetkin/Documents/yandex/module_2/integrative_project')\n",
    "if my_path.is_dir():\n",
    "    train = pd.read_csv('/home/klarazetkin/Documents/yandex/module_2/integrative_project/hotel_train.csv')\n",
    "    test = pd.read_csv('/home/klarazetkin/Documents/yandex/module_2/integrative_project/hotel_test.csv')\n",
    "else:\n",
    "    train = pd.read_csv('/datasets/hotel_train.csv')\n",
    "    test = pd.read_csv('/datasets/hotel_test.csv')"
   ]
  },
  {
   "cell_type": "markdown",
   "id": "10439fe5",
   "metadata": {},
   "source": [
    "## Предобработка и исследовательский анализ данных\n",
    "### Ознакомление с данными и проверка структуры данных"
   ]
  },
  {
   "cell_type": "code",
   "execution_count": 3,
   "id": "c0c7a110",
   "metadata": {},
   "outputs": [
    {
     "data": {
      "text/html": [
       "<div>\n",
       "<style scoped>\n",
       "    .dataframe tbody tr th:only-of-type {\n",
       "        vertical-align: middle;\n",
       "    }\n",
       "\n",
       "    .dataframe tbody tr th {\n",
       "        vertical-align: top;\n",
       "    }\n",
       "\n",
       "    .dataframe thead th {\n",
       "        text-align: right;\n",
       "    }\n",
       "</style>\n",
       "<table border=\"1\" class=\"dataframe\">\n",
       "  <thead>\n",
       "    <tr style=\"text-align: right;\">\n",
       "      <th></th>\n",
       "      <th>id</th>\n",
       "      <th>is_canceled</th>\n",
       "      <th>lead_time</th>\n",
       "      <th>arrival_date_year</th>\n",
       "      <th>arrival_date_month</th>\n",
       "      <th>arrival_date_week_number</th>\n",
       "      <th>arrival_date_day_of_month</th>\n",
       "      <th>stays_in_weekend_nights</th>\n",
       "      <th>stays_in_week_nights</th>\n",
       "      <th>adults</th>\n",
       "      <th>...</th>\n",
       "      <th>is_repeated_guest</th>\n",
       "      <th>previous_cancellations</th>\n",
       "      <th>previous_bookings_not_canceled</th>\n",
       "      <th>reserved_room_type</th>\n",
       "      <th>booking_changes</th>\n",
       "      <th>days_in_waiting_list</th>\n",
       "      <th>customer_type</th>\n",
       "      <th>required_car_parking_spaces</th>\n",
       "      <th>total_of_special_requests</th>\n",
       "      <th>total_nights</th>\n",
       "    </tr>\n",
       "  </thead>\n",
       "  <tbody>\n",
       "    <tr>\n",
       "      <td>0</td>\n",
       "      <td>0</td>\n",
       "      <td>0</td>\n",
       "      <td>7.0000</td>\n",
       "      <td>2015</td>\n",
       "      <td>July</td>\n",
       "      <td>27</td>\n",
       "      <td>1</td>\n",
       "      <td>0</td>\n",
       "      <td>1</td>\n",
       "      <td>1.0000</td>\n",
       "      <td>...</td>\n",
       "      <td>0</td>\n",
       "      <td>0</td>\n",
       "      <td>0</td>\n",
       "      <td>A</td>\n",
       "      <td>0</td>\n",
       "      <td>0</td>\n",
       "      <td>Transient</td>\n",
       "      <td>0</td>\n",
       "      <td>0</td>\n",
       "      <td>1</td>\n",
       "    </tr>\n",
       "    <tr>\n",
       "      <td>1</td>\n",
       "      <td>1</td>\n",
       "      <td>0</td>\n",
       "      <td>14.0000</td>\n",
       "      <td>2015</td>\n",
       "      <td>July</td>\n",
       "      <td>27</td>\n",
       "      <td>1</td>\n",
       "      <td>0</td>\n",
       "      <td>2</td>\n",
       "      <td>2.0000</td>\n",
       "      <td>...</td>\n",
       "      <td>0</td>\n",
       "      <td>0</td>\n",
       "      <td>0</td>\n",
       "      <td>A</td>\n",
       "      <td>0</td>\n",
       "      <td>0</td>\n",
       "      <td>Transient</td>\n",
       "      <td>0</td>\n",
       "      <td>1</td>\n",
       "      <td>2</td>\n",
       "    </tr>\n",
       "    <tr>\n",
       "      <td>2</td>\n",
       "      <td>2</td>\n",
       "      <td>0</td>\n",
       "      <td>0.0000</td>\n",
       "      <td>2015</td>\n",
       "      <td>July</td>\n",
       "      <td>27</td>\n",
       "      <td>1</td>\n",
       "      <td>0</td>\n",
       "      <td>2</td>\n",
       "      <td>2.0000</td>\n",
       "      <td>...</td>\n",
       "      <td>0</td>\n",
       "      <td>0</td>\n",
       "      <td>0</td>\n",
       "      <td>C</td>\n",
       "      <td>0</td>\n",
       "      <td>0</td>\n",
       "      <td>Transient</td>\n",
       "      <td>0</td>\n",
       "      <td>0</td>\n",
       "      <td>2</td>\n",
       "    </tr>\n",
       "    <tr>\n",
       "      <td>3</td>\n",
       "      <td>3</td>\n",
       "      <td>0</td>\n",
       "      <td>9.0000</td>\n",
       "      <td>2015</td>\n",
       "      <td>July</td>\n",
       "      <td>27</td>\n",
       "      <td>1</td>\n",
       "      <td>0</td>\n",
       "      <td>2</td>\n",
       "      <td>2.0000</td>\n",
       "      <td>...</td>\n",
       "      <td>0</td>\n",
       "      <td>0</td>\n",
       "      <td>0</td>\n",
       "      <td>C</td>\n",
       "      <td>0</td>\n",
       "      <td>0</td>\n",
       "      <td>Transient</td>\n",
       "      <td>0</td>\n",
       "      <td>1</td>\n",
       "      <td>2</td>\n",
       "    </tr>\n",
       "    <tr>\n",
       "      <td>4</td>\n",
       "      <td>4</td>\n",
       "      <td>1</td>\n",
       "      <td>85.0000</td>\n",
       "      <td>2015</td>\n",
       "      <td>July</td>\n",
       "      <td>27</td>\n",
       "      <td>1</td>\n",
       "      <td>0</td>\n",
       "      <td>3</td>\n",
       "      <td>2.0000</td>\n",
       "      <td>...</td>\n",
       "      <td>0</td>\n",
       "      <td>0</td>\n",
       "      <td>0</td>\n",
       "      <td>A</td>\n",
       "      <td>0</td>\n",
       "      <td>0</td>\n",
       "      <td>Transient</td>\n",
       "      <td>0</td>\n",
       "      <td>1</td>\n",
       "      <td>3</td>\n",
       "    </tr>\n",
       "  </tbody>\n",
       "</table>\n",
       "<p>5 rows × 25 columns</p>\n",
       "</div>"
      ],
      "text/plain": [
       "   id  is_canceled  lead_time  arrival_date_year arrival_date_month  \\\n",
       "0   0            0     7.0000               2015               July   \n",
       "1   1            0    14.0000               2015               July   \n",
       "2   2            0     0.0000               2015               July   \n",
       "3   3            0     9.0000               2015               July   \n",
       "4   4            1    85.0000               2015               July   \n",
       "\n",
       "   arrival_date_week_number  arrival_date_day_of_month  \\\n",
       "0                        27                          1   \n",
       "1                        27                          1   \n",
       "2                        27                          1   \n",
       "3                        27                          1   \n",
       "4                        27                          1   \n",
       "\n",
       "   stays_in_weekend_nights  stays_in_week_nights  adults  ...  \\\n",
       "0                        0                     1  1.0000  ...   \n",
       "1                        0                     2  2.0000  ...   \n",
       "2                        0                     2  2.0000  ...   \n",
       "3                        0                     2  2.0000  ...   \n",
       "4                        0                     3  2.0000  ...   \n",
       "\n",
       "   is_repeated_guest  previous_cancellations previous_bookings_not_canceled  \\\n",
       "0                  0                       0                              0   \n",
       "1                  0                       0                              0   \n",
       "2                  0                       0                              0   \n",
       "3                  0                       0                              0   \n",
       "4                  0                       0                              0   \n",
       "\n",
       "  reserved_room_type booking_changes  days_in_waiting_list  customer_type  \\\n",
       "0   A                              0                     0      Transient   \n",
       "1   A                              0                     0      Transient   \n",
       "2   C                              0                     0      Transient   \n",
       "3   C                              0                     0      Transient   \n",
       "4   A                              0                     0      Transient   \n",
       "\n",
       "   required_car_parking_spaces total_of_special_requests  total_nights  \n",
       "0                            0                         0             1  \n",
       "1                            0                         1             2  \n",
       "2                            0                         0             2  \n",
       "3                            0                         1             2  \n",
       "4                            0                         1             3  \n",
       "\n",
       "[5 rows x 25 columns]"
      ]
     },
     "metadata": {},
     "output_type": "display_data"
    },
    {
     "data": {
      "text/html": [
       "<div>\n",
       "<style scoped>\n",
       "    .dataframe tbody tr th:only-of-type {\n",
       "        vertical-align: middle;\n",
       "    }\n",
       "\n",
       "    .dataframe tbody tr th {\n",
       "        vertical-align: top;\n",
       "    }\n",
       "\n",
       "    .dataframe thead th {\n",
       "        text-align: right;\n",
       "    }\n",
       "</style>\n",
       "<table border=\"1\" class=\"dataframe\">\n",
       "  <thead>\n",
       "    <tr style=\"text-align: right;\">\n",
       "      <th></th>\n",
       "      <th>id</th>\n",
       "      <th>is_canceled</th>\n",
       "      <th>lead_time</th>\n",
       "      <th>arrival_date_year</th>\n",
       "      <th>arrival_date_month</th>\n",
       "      <th>arrival_date_week_number</th>\n",
       "      <th>arrival_date_day_of_month</th>\n",
       "      <th>stays_in_weekend_nights</th>\n",
       "      <th>stays_in_week_nights</th>\n",
       "      <th>adults</th>\n",
       "      <th>...</th>\n",
       "      <th>is_repeated_guest</th>\n",
       "      <th>previous_cancellations</th>\n",
       "      <th>previous_bookings_not_canceled</th>\n",
       "      <th>reserved_room_type</th>\n",
       "      <th>booking_changes</th>\n",
       "      <th>days_in_waiting_list</th>\n",
       "      <th>customer_type</th>\n",
       "      <th>required_car_parking_spaces</th>\n",
       "      <th>total_of_special_requests</th>\n",
       "      <th>total_nights</th>\n",
       "    </tr>\n",
       "  </thead>\n",
       "  <tbody>\n",
       "    <tr>\n",
       "      <td>0</td>\n",
       "      <td>6086</td>\n",
       "      <td>1</td>\n",
       "      <td>74.0000</td>\n",
       "      <td>2017</td>\n",
       "      <td>January</td>\n",
       "      <td>1</td>\n",
       "      <td>1</td>\n",
       "      <td>1</td>\n",
       "      <td>0</td>\n",
       "      <td>2.0000</td>\n",
       "      <td>...</td>\n",
       "      <td>0</td>\n",
       "      <td>0</td>\n",
       "      <td>0</td>\n",
       "      <td>A</td>\n",
       "      <td>0</td>\n",
       "      <td>0</td>\n",
       "      <td>Transient</td>\n",
       "      <td>0</td>\n",
       "      <td>0</td>\n",
       "      <td>1</td>\n",
       "    </tr>\n",
       "    <tr>\n",
       "      <td>1</td>\n",
       "      <td>6087</td>\n",
       "      <td>1</td>\n",
       "      <td>62.0000</td>\n",
       "      <td>2017</td>\n",
       "      <td>January</td>\n",
       "      <td>1</td>\n",
       "      <td>1</td>\n",
       "      <td>2</td>\n",
       "      <td>2</td>\n",
       "      <td>2.0000</td>\n",
       "      <td>...</td>\n",
       "      <td>0</td>\n",
       "      <td>0</td>\n",
       "      <td>0</td>\n",
       "      <td>A</td>\n",
       "      <td>0</td>\n",
       "      <td>0</td>\n",
       "      <td>Transient</td>\n",
       "      <td>0</td>\n",
       "      <td>1</td>\n",
       "      <td>4</td>\n",
       "    </tr>\n",
       "    <tr>\n",
       "      <td>2</td>\n",
       "      <td>6088</td>\n",
       "      <td>1</td>\n",
       "      <td>62.0000</td>\n",
       "      <td>2017</td>\n",
       "      <td>January</td>\n",
       "      <td>1</td>\n",
       "      <td>1</td>\n",
       "      <td>2</td>\n",
       "      <td>2</td>\n",
       "      <td>2.0000</td>\n",
       "      <td>...</td>\n",
       "      <td>0</td>\n",
       "      <td>0</td>\n",
       "      <td>0</td>\n",
       "      <td>A</td>\n",
       "      <td>0</td>\n",
       "      <td>0</td>\n",
       "      <td>Transient</td>\n",
       "      <td>0</td>\n",
       "      <td>1</td>\n",
       "      <td>4</td>\n",
       "    </tr>\n",
       "    <tr>\n",
       "      <td>3</td>\n",
       "      <td>6089</td>\n",
       "      <td>1</td>\n",
       "      <td>71.0000</td>\n",
       "      <td>2017</td>\n",
       "      <td>January</td>\n",
       "      <td>1</td>\n",
       "      <td>1</td>\n",
       "      <td>2</td>\n",
       "      <td>2</td>\n",
       "      <td>1.0000</td>\n",
       "      <td>...</td>\n",
       "      <td>0</td>\n",
       "      <td>0</td>\n",
       "      <td>0</td>\n",
       "      <td>A</td>\n",
       "      <td>0</td>\n",
       "      <td>0</td>\n",
       "      <td>Transient</td>\n",
       "      <td>0</td>\n",
       "      <td>1</td>\n",
       "      <td>4</td>\n",
       "    </tr>\n",
       "    <tr>\n",
       "      <td>4</td>\n",
       "      <td>6090</td>\n",
       "      <td>1</td>\n",
       "      <td>172.0000</td>\n",
       "      <td>2017</td>\n",
       "      <td>January</td>\n",
       "      <td>1</td>\n",
       "      <td>1</td>\n",
       "      <td>2</td>\n",
       "      <td>5</td>\n",
       "      <td>2.0000</td>\n",
       "      <td>...</td>\n",
       "      <td>0</td>\n",
       "      <td>0</td>\n",
       "      <td>0</td>\n",
       "      <td>A</td>\n",
       "      <td>0</td>\n",
       "      <td>0</td>\n",
       "      <td>Transient</td>\n",
       "      <td>0</td>\n",
       "      <td>0</td>\n",
       "      <td>7</td>\n",
       "    </tr>\n",
       "  </tbody>\n",
       "</table>\n",
       "<p>5 rows × 25 columns</p>\n",
       "</div>"
      ],
      "text/plain": [
       "     id  is_canceled  lead_time  arrival_date_year arrival_date_month  \\\n",
       "0  6086            1    74.0000               2017            January   \n",
       "1  6087            1    62.0000               2017            January   \n",
       "2  6088            1    62.0000               2017            January   \n",
       "3  6089            1    71.0000               2017            January   \n",
       "4  6090            1   172.0000               2017            January   \n",
       "\n",
       "   arrival_date_week_number  arrival_date_day_of_month  \\\n",
       "0                         1                          1   \n",
       "1                         1                          1   \n",
       "2                         1                          1   \n",
       "3                         1                          1   \n",
       "4                         1                          1   \n",
       "\n",
       "   stays_in_weekend_nights  stays_in_week_nights  adults  ...  \\\n",
       "0                        1                     0  2.0000  ...   \n",
       "1                        2                     2  2.0000  ...   \n",
       "2                        2                     2  2.0000  ...   \n",
       "3                        2                     2  1.0000  ...   \n",
       "4                        2                     5  2.0000  ...   \n",
       "\n",
       "   is_repeated_guest  previous_cancellations previous_bookings_not_canceled  \\\n",
       "0                  0                       0                              0   \n",
       "1                  0                       0                              0   \n",
       "2                  0                       0                              0   \n",
       "3                  0                       0                              0   \n",
       "4                  0                       0                              0   \n",
       "\n",
       "  reserved_room_type booking_changes  days_in_waiting_list  customer_type  \\\n",
       "0   A                              0                     0      Transient   \n",
       "1   A                              0                     0      Transient   \n",
       "2   A                              0                     0      Transient   \n",
       "3   A                              0                     0      Transient   \n",
       "4   A                              0                     0      Transient   \n",
       "\n",
       "   required_car_parking_spaces total_of_special_requests  total_nights  \n",
       "0                            0                         0             1  \n",
       "1                            0                         1             4  \n",
       "2                            0                         1             4  \n",
       "3                            0                         1             4  \n",
       "4                            0                         0             7  \n",
       "\n",
       "[5 rows x 25 columns]"
      ]
     },
     "metadata": {},
     "output_type": "display_data"
    }
   ],
   "source": [
    "display(train.head())\n",
    "display(test.head())"
   ]
  },
  {
   "cell_type": "code",
   "execution_count": 4,
   "id": "79644c2c",
   "metadata": {},
   "outputs": [
    {
     "data": {
      "text/plain": [
       "array([ True,  True,  True,  True,  True,  True,  True,  True,  True,\n",
       "        True,  True,  True,  True,  True,  True,  True,  True,  True,\n",
       "        True,  True,  True,  True,  True,  True,  True])"
      ]
     },
     "execution_count": 4,
     "metadata": {},
     "output_type": "execute_result"
    }
   ],
   "source": [
    "# Проверим, что колонки совпадают\n",
    "train.columns == test.columns"
   ]
  },
  {
   "cell_type": "code",
   "execution_count": 5,
   "id": "aab770fb",
   "metadata": {},
   "outputs": [
    {
     "name": "stdout",
     "output_type": "stream",
     "text": [
      "(65229, 25)\n",
      "(32412, 25)\n"
     ]
    }
   ],
   "source": [
    "print(train.shape)\n",
    "print(test.shape)"
   ]
  },
  {
   "cell_type": "code",
   "execution_count": 6,
   "id": "eaa50b11",
   "metadata": {
    "scrolled": true
   },
   "outputs": [
    {
     "name": "stdout",
     "output_type": "stream",
     "text": [
      "<class 'pandas.core.frame.DataFrame'>\n",
      "RangeIndex: 65229 entries, 0 to 65228\n",
      "Data columns (total 25 columns):\n",
      "id                                65229 non-null int64\n",
      "is_canceled                       65229 non-null int64\n",
      "lead_time                         65229 non-null float64\n",
      "arrival_date_year                 65229 non-null int64\n",
      "arrival_date_month                65229 non-null object\n",
      "arrival_date_week_number          65229 non-null int64\n",
      "arrival_date_day_of_month         65229 non-null int64\n",
      "stays_in_weekend_nights           65229 non-null int64\n",
      "stays_in_week_nights              65229 non-null int64\n",
      "adults                            65229 non-null float64\n",
      "children                          65229 non-null float64\n",
      "babies                            65229 non-null float64\n",
      "meal                              65229 non-null object\n",
      "country                           65229 non-null object\n",
      "distribution_channel              65229 non-null object\n",
      "is_repeated_guest                 65229 non-null int64\n",
      "previous_cancellations            65229 non-null int64\n",
      "previous_bookings_not_canceled    65229 non-null int64\n",
      "reserved_room_type                65229 non-null object\n",
      "booking_changes                   65229 non-null int64\n",
      "days_in_waiting_list              65229 non-null int64\n",
      "customer_type                     65229 non-null object\n",
      "required_car_parking_spaces       65229 non-null int64\n",
      "total_of_special_requests         65229 non-null int64\n",
      "total_nights                      65229 non-null int64\n",
      "dtypes: float64(4), int64(15), object(6)\n",
      "memory usage: 12.4+ MB\n"
     ]
    },
    {
     "data": {
      "text/plain": [
       "None"
      ]
     },
     "metadata": {},
     "output_type": "display_data"
    },
    {
     "name": "stdout",
     "output_type": "stream",
     "text": [
      "<class 'pandas.core.frame.DataFrame'>\n",
      "RangeIndex: 32412 entries, 0 to 32411\n",
      "Data columns (total 25 columns):\n",
      "id                                32412 non-null int64\n",
      "is_canceled                       32412 non-null int64\n",
      "lead_time                         32412 non-null float64\n",
      "arrival_date_year                 32412 non-null int64\n",
      "arrival_date_month                32412 non-null object\n",
      "arrival_date_week_number          32412 non-null int64\n",
      "arrival_date_day_of_month         32412 non-null int64\n",
      "stays_in_weekend_nights           32412 non-null int64\n",
      "stays_in_week_nights              32412 non-null int64\n",
      "adults                            32412 non-null float64\n",
      "children                          32412 non-null float64\n",
      "babies                            32412 non-null float64\n",
      "meal                              32412 non-null object\n",
      "country                           32412 non-null object\n",
      "distribution_channel              32412 non-null object\n",
      "is_repeated_guest                 32412 non-null int64\n",
      "previous_cancellations            32412 non-null int64\n",
      "previous_bookings_not_canceled    32412 non-null int64\n",
      "reserved_room_type                32412 non-null object\n",
      "booking_changes                   32412 non-null int64\n",
      "days_in_waiting_list              32412 non-null int64\n",
      "customer_type                     32412 non-null object\n",
      "required_car_parking_spaces       32412 non-null int64\n",
      "total_of_special_requests         32412 non-null int64\n",
      "total_nights                      32412 non-null int64\n",
      "dtypes: float64(4), int64(15), object(6)\n",
      "memory usage: 6.2+ MB\n"
     ]
    },
    {
     "data": {
      "text/plain": [
       "None"
      ]
     },
     "metadata": {},
     "output_type": "display_data"
    }
   ],
   "source": [
    "display(train.info())\n",
    "display(test.info())"
   ]
  },
  {
   "cell_type": "markdown",
   "id": "59c0844f",
   "metadata": {},
   "source": [
    "### Замена типов данных"
   ]
  },
  {
   "cell_type": "code",
   "execution_count": 7,
   "id": "964edbf4",
   "metadata": {},
   "outputs": [
    {
     "name": "stdout",
     "output_type": "stream",
     "text": [
      "<class 'pandas.core.frame.DataFrame'>\n",
      "RangeIndex: 65229 entries, 0 to 65228\n",
      "Data columns (total 25 columns):\n",
      "id                                65229 non-null int64\n",
      "is_canceled                       65229 non-null bool\n",
      "lead_time                         65229 non-null float64\n",
      "arrival_date_year                 65229 non-null int64\n",
      "arrival_date_month                65229 non-null object\n",
      "arrival_date_week_number          65229 non-null int64\n",
      "arrival_date_day_of_month         65229 non-null int64\n",
      "stays_in_weekend_nights           65229 non-null int64\n",
      "stays_in_week_nights              65229 non-null int64\n",
      "adults                            65229 non-null int64\n",
      "children                          65229 non-null int64\n",
      "babies                            65229 non-null int64\n",
      "meal                              65229 non-null object\n",
      "country                           65229 non-null object\n",
      "distribution_channel              65229 non-null object\n",
      "is_repeated_guest                 65229 non-null bool\n",
      "previous_cancellations            65229 non-null int64\n",
      "previous_bookings_not_canceled    65229 non-null int64\n",
      "reserved_room_type                65229 non-null object\n",
      "booking_changes                   65229 non-null int64\n",
      "days_in_waiting_list              65229 non-null int64\n",
      "customer_type                     65229 non-null object\n",
      "required_car_parking_spaces       65229 non-null int64\n",
      "total_of_special_requests         65229 non-null int64\n",
      "total_nights                      65229 non-null int64\n",
      "dtypes: bool(2), float64(1), int64(16), object(6)\n",
      "memory usage: 11.6+ MB\n",
      "None\n"
     ]
    }
   ],
   "source": [
    "# Заменим типы данных\n",
    "train['adults'] = train['adults'].astype('int')\n",
    "train['children'] = train['children'].astype('int')\n",
    "train['babies'] = train['babies'].astype('int')\n",
    "train['is_repeated_guest'] = train['is_repeated_guest'].astype('bool')\n",
    "train['is_canceled'] = train['is_canceled'].astype('bool')\n",
    "print(train.info())\n",
    "\n",
    "test['adults'] = test['adults'].astype('int')\n",
    "test['children'] = test['children'].astype('int')\n",
    "test['babies'] = test['babies'].astype('int')\n",
    "test['is_repeated_guest'] = test['is_repeated_guest'].astype('bool')\n",
    "test['is_canceled'] = test['is_canceled'].astype('bool')\n",
    "# print(test.info())"
   ]
  },
  {
   "cell_type": "markdown",
   "id": "e1882d57",
   "metadata": {},
   "source": [
    "### Проверка на дубликаты, отсутствующие значения, некорректные данные"
   ]
  },
  {
   "cell_type": "code",
   "execution_count": 8,
   "id": "fc115843",
   "metadata": {},
   "outputs": [
    {
     "name": "stdout",
     "output_type": "stream",
     "text": [
      "0\n",
      "0\n"
     ]
    }
   ],
   "source": [
    "# проверка на явные дубликаты\n",
    "print(train.duplicated().sum())\n",
    "print(test.duplicated().sum())"
   ]
  },
  {
   "cell_type": "code",
   "execution_count": 9,
   "id": "eba0cb71",
   "metadata": {},
   "outputs": [
    {
     "name": "stdout",
     "output_type": "stream",
     "text": [
      "id                               0.0000\n",
      "is_canceled                      0.0000\n",
      "lead_time                        0.0000\n",
      "arrival_date_year                0.0000\n",
      "arrival_date_month               0.0000\n",
      "arrival_date_week_number         0.0000\n",
      "arrival_date_day_of_month        0.0000\n",
      "stays_in_weekend_nights          0.0000\n",
      "stays_in_week_nights             0.0000\n",
      "adults                           0.0000\n",
      "children                         0.0000\n",
      "babies                           0.0000\n",
      "meal                             0.0000\n",
      "country                          0.0000\n",
      "distribution_channel             0.0000\n",
      "is_repeated_guest                0.0000\n",
      "previous_cancellations           0.0000\n",
      "previous_bookings_not_canceled   0.0000\n",
      "reserved_room_type               0.0000\n",
      "booking_changes                  0.0000\n",
      "days_in_waiting_list             0.0000\n",
      "customer_type                    0.0000\n",
      "required_car_parking_spaces      0.0000\n",
      "total_of_special_requests        0.0000\n",
      "total_nights                     0.0000\n",
      "dtype: float64\n",
      "id                               0.0000\n",
      "is_canceled                      0.0000\n",
      "lead_time                        0.0000\n",
      "arrival_date_year                0.0000\n",
      "arrival_date_month               0.0000\n",
      "arrival_date_week_number         0.0000\n",
      "arrival_date_day_of_month        0.0000\n",
      "stays_in_weekend_nights          0.0000\n",
      "stays_in_week_nights             0.0000\n",
      "adults                           0.0000\n",
      "children                         0.0000\n",
      "babies                           0.0000\n",
      "meal                             0.0000\n",
      "country                          0.0000\n",
      "distribution_channel             0.0000\n",
      "is_repeated_guest                0.0000\n",
      "previous_cancellations           0.0000\n",
      "previous_bookings_not_canceled   0.0000\n",
      "reserved_room_type               0.0000\n",
      "booking_changes                  0.0000\n",
      "days_in_waiting_list             0.0000\n",
      "customer_type                    0.0000\n",
      "required_car_parking_spaces      0.0000\n",
      "total_of_special_requests        0.0000\n",
      "total_nights                     0.0000\n",
      "dtype: float64\n"
     ]
    }
   ],
   "source": [
    "# проверка на NaN\n",
    "print(train.isna().mean())\n",
    "print(test.isna().mean())"
   ]
  },
  {
   "cell_type": "code",
   "execution_count": 10,
   "id": "dd728d07",
   "metadata": {},
   "outputs": [
    {
     "name": "stdout",
     "output_type": "stream",
     "text": [
      "0\n",
      "0\n"
     ]
    }
   ],
   "source": [
    "# Проверим, что общее количество ночей совпадает с суммой ночей в будни и выходные. Совпадает.\n",
    "print(train.query('total_nights != stays_in_weekend_nights + stays_in_week_nights')['id'].count())\n",
    "print(test.query('total_nights != stays_in_weekend_nights + stays_in_week_nights')['id'].count())"
   ]
  },
  {
   "cell_type": "code",
   "execution_count": 11,
   "id": "d8a8e3fd",
   "metadata": {},
   "outputs": [
    {
     "name": "stdout",
     "output_type": "stream",
     "text": [
      "155\n",
      "88\n"
     ]
    }
   ],
   "source": [
    "# Проверим, что в датасетах нет ситуации, когда у повторного гостя нет предыдущих заказов. Такие строки есть. \n",
    "# Это некорректная информация, распределенная по датасетам пропорционально. \n",
    "# Изменить эти строки не представляется возможным. Удалим их.\n",
    "\n",
    "print(train.query(\n",
    "    'is_repeated_guest == 1 & previous_cancellations == 0 & previous_bookings_not_canceled == 0'\n",
    ")['id'].count())\n",
    "\n",
    "print(test.query(\n",
    "    'is_repeated_guest == 1 & previous_cancellations == 0 & previous_bookings_not_canceled == 0'\n",
    ")['id'].count())\n",
    "\n",
    "train_ids_to_drop = train.query(\n",
    "    'is_repeated_guest == 1 & previous_cancellations == 0 & previous_bookings_not_canceled == 0'\n",
    ")['id']\n",
    "\n",
    "test_ids_to_drop = test.query(\n",
    "    'is_repeated_guest == 1 & previous_cancellations == 0 & previous_bookings_not_canceled == 0'\n",
    ")['id']\n",
    "\n",
    "train = train.query('id not in @train_ids_to_drop')\n",
    "test = test.query('id not in @test_ids_to_drop')"
   ]
  },
  {
   "cell_type": "code",
   "execution_count": 12,
   "id": "05f6ed99",
   "metadata": {},
   "outputs": [
    {
     "name": "stdout",
     "output_type": "stream",
     "text": [
      "Train, заказ без взрослых: 166\n",
      "Test, заказ без взрослых: 69\n",
      "Train, неотмененный заказ без взрослых: 118\n",
      "Train, неотмененный заказ без взрослых: 38\n",
      "64908\n",
      "32255\n"
     ]
    }
   ],
   "source": [
    "# Проверим, что в датасетах нет ситуаций, когда число взрослых равно нулю. Такие ситуации есть. \n",
    "# Можно предположить, что дети балуются, бронируют и отменяют заказы. Но это не так:\n",
    "# есть неотмененные заказы без взрослых.\n",
    "# Данные некорректны: в отель не заселяют детей. Лучше удалить эти строки.\n",
    "\n",
    "print('Train, заказ без взрослых:', train.query('adults == 0')['id'].count())\n",
    "print('Test, заказ без взрослых:', test.query('adults == 0')['id'].count())\n",
    "print('Train, неотмененный заказ без взрослых:', train.query('adults == 0 & is_canceled == 0')['id'].count())\n",
    "print('Train, неотмененный заказ без взрослых:', test.query('adults == 0 & is_canceled == 0')['id'].count())\n",
    "\n",
    "train = train.query('adults != 0')\n",
    "test = test.query('adults != 0')\n",
    "\n",
    "print(len(train))\n",
    "print(len(test))\n"
   ]
  },
  {
   "cell_type": "markdown",
   "id": "e2fc0f28",
   "metadata": {},
   "source": [
    "### Проверка количественных значений\n",
    "Обнаружен один выброс, который нужно заменить, - это десять младенцев в `train` при медиане, равной нулю. Скорей всего, там один младенец. Значение заменено. В строке с девятью младенцами, скорей всего, ошибка. Угадать, сколько там младенцев, сложно, поэтому строка удалена.\n",
    "\n",
    "Очень большие значения в днях ожидания подтверждения заказа (`days_in_waiting_list`) и количеством дней между датой бронирования и датой прибытия (`lead_time`) в целом выглядят правдоподобно."
   ]
  },
  {
   "cell_type": "code",
   "execution_count": 13,
   "id": "a19296cf",
   "metadata": {
    "scrolled": true
   },
   "outputs": [
    {
     "data": {
      "text/html": [
       "<div>\n",
       "<style scoped>\n",
       "    .dataframe tbody tr th:only-of-type {\n",
       "        vertical-align: middle;\n",
       "    }\n",
       "\n",
       "    .dataframe tbody tr th {\n",
       "        vertical-align: top;\n",
       "    }\n",
       "\n",
       "    .dataframe thead th {\n",
       "        text-align: right;\n",
       "    }\n",
       "</style>\n",
       "<table border=\"1\" class=\"dataframe\">\n",
       "  <thead>\n",
       "    <tr style=\"text-align: right;\">\n",
       "      <th></th>\n",
       "      <th>id</th>\n",
       "      <th>lead_time</th>\n",
       "      <th>arrival_date_year</th>\n",
       "      <th>arrival_date_week_number</th>\n",
       "      <th>arrival_date_day_of_month</th>\n",
       "      <th>stays_in_weekend_nights</th>\n",
       "      <th>stays_in_week_nights</th>\n",
       "      <th>adults</th>\n",
       "      <th>children</th>\n",
       "      <th>babies</th>\n",
       "      <th>previous_cancellations</th>\n",
       "      <th>previous_bookings_not_canceled</th>\n",
       "      <th>booking_changes</th>\n",
       "      <th>days_in_waiting_list</th>\n",
       "      <th>required_car_parking_spaces</th>\n",
       "      <th>total_of_special_requests</th>\n",
       "      <th>total_nights</th>\n",
       "    </tr>\n",
       "  </thead>\n",
       "  <tbody>\n",
       "    <tr>\n",
       "      <td>count</td>\n",
       "      <td>64,908.0000</td>\n",
       "      <td>64,908.0000</td>\n",
       "      <td>64,908.0000</td>\n",
       "      <td>64,908.0000</td>\n",
       "      <td>64,908.0000</td>\n",
       "      <td>64,908.0000</td>\n",
       "      <td>64,908.0000</td>\n",
       "      <td>64,908.0000</td>\n",
       "      <td>64,908.0000</td>\n",
       "      <td>64,908.0000</td>\n",
       "      <td>64,908.0000</td>\n",
       "      <td>64,908.0000</td>\n",
       "      <td>64,908.0000</td>\n",
       "      <td>64,908.0000</td>\n",
       "      <td>64,908.0000</td>\n",
       "      <td>64,908.0000</td>\n",
       "      <td>64,908.0000</td>\n",
       "    </tr>\n",
       "    <tr>\n",
       "      <td>mean</td>\n",
       "      <td>43,517.9386</td>\n",
       "      <td>96.5414</td>\n",
       "      <td>2,015.7189</td>\n",
       "      <td>31.3419</td>\n",
       "      <td>15.8476</td>\n",
       "      <td>0.8258</td>\n",
       "      <td>2.2260</td>\n",
       "      <td>1.8414</td>\n",
       "      <td>0.0703</td>\n",
       "      <td>0.0072</td>\n",
       "      <td>0.1295</td>\n",
       "      <td>0.1082</td>\n",
       "      <td>0.1930</td>\n",
       "      <td>3.3509</td>\n",
       "      <td>0.0567</td>\n",
       "      <td>0.5120</td>\n",
       "      <td>3.0518</td>\n",
       "    </tr>\n",
       "    <tr>\n",
       "      <td>std</td>\n",
       "      <td>25,619.8900</td>\n",
       "      <td>96.1890</td>\n",
       "      <td>0.4495</td>\n",
       "      <td>13.4531</td>\n",
       "      <td>8.7460</td>\n",
       "      <td>0.8535</td>\n",
       "      <td>1.3553</td>\n",
       "      <td>0.4718</td>\n",
       "      <td>0.3206</td>\n",
       "      <td>0.0987</td>\n",
       "      <td>0.9677</td>\n",
       "      <td>1.3299</td>\n",
       "      <td>0.5917</td>\n",
       "      <td>18.2831</td>\n",
       "      <td>0.2322</td>\n",
       "      <td>0.7518</td>\n",
       "      <td>1.7387</td>\n",
       "    </tr>\n",
       "    <tr>\n",
       "      <td>min</td>\n",
       "      <td>0.0000</td>\n",
       "      <td>0.0000</td>\n",
       "      <td>2,015.0000</td>\n",
       "      <td>1.0000</td>\n",
       "      <td>1.0000</td>\n",
       "      <td>0.0000</td>\n",
       "      <td>0.0000</td>\n",
       "      <td>1.0000</td>\n",
       "      <td>0.0000</td>\n",
       "      <td>0.0000</td>\n",
       "      <td>0.0000</td>\n",
       "      <td>0.0000</td>\n",
       "      <td>0.0000</td>\n",
       "      <td>0.0000</td>\n",
       "      <td>0.0000</td>\n",
       "      <td>0.0000</td>\n",
       "      <td>1.0000</td>\n",
       "    </tr>\n",
       "    <tr>\n",
       "      <td>25%</td>\n",
       "      <td>19,091.7500</td>\n",
       "      <td>17.0000</td>\n",
       "      <td>2,015.0000</td>\n",
       "      <td>21.0000</td>\n",
       "      <td>8.0000</td>\n",
       "      <td>0.0000</td>\n",
       "      <td>1.0000</td>\n",
       "      <td>2.0000</td>\n",
       "      <td>0.0000</td>\n",
       "      <td>0.0000</td>\n",
       "      <td>0.0000</td>\n",
       "      <td>0.0000</td>\n",
       "      <td>0.0000</td>\n",
       "      <td>0.0000</td>\n",
       "      <td>0.0000</td>\n",
       "      <td>0.0000</td>\n",
       "      <td>2.0000</td>\n",
       "    </tr>\n",
       "    <tr>\n",
       "      <td>50%</td>\n",
       "      <td>40,533.5000</td>\n",
       "      <td>64.0000</td>\n",
       "      <td>2,016.0000</td>\n",
       "      <td>34.0000</td>\n",
       "      <td>16.0000</td>\n",
       "      <td>1.0000</td>\n",
       "      <td>2.0000</td>\n",
       "      <td>2.0000</td>\n",
       "      <td>0.0000</td>\n",
       "      <td>0.0000</td>\n",
       "      <td>0.0000</td>\n",
       "      <td>0.0000</td>\n",
       "      <td>0.0000</td>\n",
       "      <td>0.0000</td>\n",
       "      <td>0.0000</td>\n",
       "      <td>0.0000</td>\n",
       "      <td>3.0000</td>\n",
       "    </tr>\n",
       "    <tr>\n",
       "      <td>75%</td>\n",
       "      <td>67,407.2500</td>\n",
       "      <td>151.0000</td>\n",
       "      <td>2,016.0000</td>\n",
       "      <td>42.0000</td>\n",
       "      <td>23.0000</td>\n",
       "      <td>2.0000</td>\n",
       "      <td>3.0000</td>\n",
       "      <td>2.0000</td>\n",
       "      <td>0.0000</td>\n",
       "      <td>0.0000</td>\n",
       "      <td>0.0000</td>\n",
       "      <td>0.0000</td>\n",
       "      <td>0.0000</td>\n",
       "      <td>0.0000</td>\n",
       "      <td>0.0000</td>\n",
       "      <td>1.0000</td>\n",
       "      <td>4.0000</td>\n",
       "    </tr>\n",
       "    <tr>\n",
       "      <td>max</td>\n",
       "      <td>84,121.0000</td>\n",
       "      <td>374.0000</td>\n",
       "      <td>2,016.0000</td>\n",
       "      <td>53.0000</td>\n",
       "      <td>31.0000</td>\n",
       "      <td>4.0000</td>\n",
       "      <td>6.0000</td>\n",
       "      <td>4.0000</td>\n",
       "      <td>3.0000</td>\n",
       "      <td>10.0000</td>\n",
       "      <td>26.0000</td>\n",
       "      <td>58.0000</td>\n",
       "      <td>17.0000</td>\n",
       "      <td>259.0000</td>\n",
       "      <td>3.0000</td>\n",
       "      <td>5.0000</td>\n",
       "      <td>10.0000</td>\n",
       "    </tr>\n",
       "  </tbody>\n",
       "</table>\n",
       "</div>"
      ],
      "text/plain": [
       "               id   lead_time  arrival_date_year  arrival_date_week_number  \\\n",
       "count 64,908.0000 64,908.0000        64,908.0000               64,908.0000   \n",
       "mean  43,517.9386     96.5414         2,015.7189                   31.3419   \n",
       "std   25,619.8900     96.1890             0.4495                   13.4531   \n",
       "min        0.0000      0.0000         2,015.0000                    1.0000   \n",
       "25%   19,091.7500     17.0000         2,015.0000                   21.0000   \n",
       "50%   40,533.5000     64.0000         2,016.0000                   34.0000   \n",
       "75%   67,407.2500    151.0000         2,016.0000                   42.0000   \n",
       "max   84,121.0000    374.0000         2,016.0000                   53.0000   \n",
       "\n",
       "       arrival_date_day_of_month  stays_in_weekend_nights  \\\n",
       "count                64,908.0000              64,908.0000   \n",
       "mean                     15.8476                   0.8258   \n",
       "std                       8.7460                   0.8535   \n",
       "min                       1.0000                   0.0000   \n",
       "25%                       8.0000                   0.0000   \n",
       "50%                      16.0000                   1.0000   \n",
       "75%                      23.0000                   2.0000   \n",
       "max                      31.0000                   4.0000   \n",
       "\n",
       "       stays_in_week_nights      adults    children      babies  \\\n",
       "count           64,908.0000 64,908.0000 64,908.0000 64,908.0000   \n",
       "mean                 2.2260      1.8414      0.0703      0.0072   \n",
       "std                  1.3553      0.4718      0.3206      0.0987   \n",
       "min                  0.0000      1.0000      0.0000      0.0000   \n",
       "25%                  1.0000      2.0000      0.0000      0.0000   \n",
       "50%                  2.0000      2.0000      0.0000      0.0000   \n",
       "75%                  3.0000      2.0000      0.0000      0.0000   \n",
       "max                  6.0000      4.0000      3.0000     10.0000   \n",
       "\n",
       "       previous_cancellations  previous_bookings_not_canceled  \\\n",
       "count             64,908.0000                     64,908.0000   \n",
       "mean                   0.1295                          0.1082   \n",
       "std                    0.9677                          1.3299   \n",
       "min                    0.0000                          0.0000   \n",
       "25%                    0.0000                          0.0000   \n",
       "50%                    0.0000                          0.0000   \n",
       "75%                    0.0000                          0.0000   \n",
       "max                   26.0000                         58.0000   \n",
       "\n",
       "       booking_changes  days_in_waiting_list  required_car_parking_spaces  \\\n",
       "count      64,908.0000           64,908.0000                  64,908.0000   \n",
       "mean            0.1930                3.3509                       0.0567   \n",
       "std             0.5917               18.2831                       0.2322   \n",
       "min             0.0000                0.0000                       0.0000   \n",
       "25%             0.0000                0.0000                       0.0000   \n",
       "50%             0.0000                0.0000                       0.0000   \n",
       "75%             0.0000                0.0000                       0.0000   \n",
       "max            17.0000              259.0000                       3.0000   \n",
       "\n",
       "       total_of_special_requests  total_nights  \n",
       "count                64,908.0000   64,908.0000  \n",
       "mean                      0.5120        3.0518  \n",
       "std                       0.7518        1.7387  \n",
       "min                       0.0000        1.0000  \n",
       "25%                       0.0000        2.0000  \n",
       "50%                       0.0000        3.0000  \n",
       "75%                       1.0000        4.0000  \n",
       "max                       5.0000       10.0000  "
      ]
     },
     "metadata": {},
     "output_type": "display_data"
    },
    {
     "data": {
      "text/html": [
       "<div>\n",
       "<style scoped>\n",
       "    .dataframe tbody tr th:only-of-type {\n",
       "        vertical-align: middle;\n",
       "    }\n",
       "\n",
       "    .dataframe tbody tr th {\n",
       "        vertical-align: top;\n",
       "    }\n",
       "\n",
       "    .dataframe thead th {\n",
       "        text-align: right;\n",
       "    }\n",
       "</style>\n",
       "<table border=\"1\" class=\"dataframe\">\n",
       "  <thead>\n",
       "    <tr style=\"text-align: right;\">\n",
       "      <th></th>\n",
       "      <th>id</th>\n",
       "      <th>lead_time</th>\n",
       "      <th>arrival_date_year</th>\n",
       "      <th>arrival_date_week_number</th>\n",
       "      <th>arrival_date_day_of_month</th>\n",
       "      <th>stays_in_weekend_nights</th>\n",
       "      <th>stays_in_week_nights</th>\n",
       "      <th>adults</th>\n",
       "      <th>children</th>\n",
       "      <th>babies</th>\n",
       "      <th>previous_cancellations</th>\n",
       "      <th>previous_bookings_not_canceled</th>\n",
       "      <th>booking_changes</th>\n",
       "      <th>days_in_waiting_list</th>\n",
       "      <th>required_car_parking_spaces</th>\n",
       "      <th>total_of_special_requests</th>\n",
       "      <th>total_nights</th>\n",
       "    </tr>\n",
       "  </thead>\n",
       "  <tbody>\n",
       "    <tr>\n",
       "      <td>count</td>\n",
       "      <td>32,255.0000</td>\n",
       "      <td>32,255.0000</td>\n",
       "      <td>32,255.0000</td>\n",
       "      <td>32,255.0000</td>\n",
       "      <td>32,255.0000</td>\n",
       "      <td>32,255.0000</td>\n",
       "      <td>32,255.0000</td>\n",
       "      <td>32,255.0000</td>\n",
       "      <td>32,255.0000</td>\n",
       "      <td>32,255.0000</td>\n",
       "      <td>32,255.0000</td>\n",
       "      <td>32,255.0000</td>\n",
       "      <td>32,255.0000</td>\n",
       "      <td>32,255.0000</td>\n",
       "      <td>32,255.0000</td>\n",
       "      <td>32,255.0000</td>\n",
       "      <td>32,255.0000</td>\n",
       "    </tr>\n",
       "    <tr>\n",
       "      <td>mean</td>\n",
       "      <td>60,178.5679</td>\n",
       "      <td>97.6254</td>\n",
       "      <td>2,017.0000</td>\n",
       "      <td>17.8175</td>\n",
       "      <td>15.6557</td>\n",
       "      <td>0.8685</td>\n",
       "      <td>2.3413</td>\n",
       "      <td>1.8626</td>\n",
       "      <td>0.0801</td>\n",
       "      <td>0.0055</td>\n",
       "      <td>0.0116</td>\n",
       "      <td>0.1719</td>\n",
       "      <td>0.2157</td>\n",
       "      <td>0.2636</td>\n",
       "      <td>0.0459</td>\n",
       "      <td>0.6563</td>\n",
       "      <td>3.2098</td>\n",
       "    </tr>\n",
       "    <tr>\n",
       "      <td>std</td>\n",
       "      <td>29,937.1140</td>\n",
       "      <td>86.3549</td>\n",
       "      <td>0.0000</td>\n",
       "      <td>9.1721</td>\n",
       "      <td>8.7629</td>\n",
       "      <td>0.8534</td>\n",
       "      <td>1.3738</td>\n",
       "      <td>0.4822</td>\n",
       "      <td>0.3333</td>\n",
       "      <td>0.0755</td>\n",
       "      <td>0.1808</td>\n",
       "      <td>1.8790</td>\n",
       "      <td>0.6397</td>\n",
       "      <td>4.7445</td>\n",
       "      <td>0.2184</td>\n",
       "      <td>0.8335</td>\n",
       "      <td>1.7369</td>\n",
       "    </tr>\n",
       "    <tr>\n",
       "      <td>min</td>\n",
       "      <td>6,086.0000</td>\n",
       "      <td>0.0000</td>\n",
       "      <td>2,017.0000</td>\n",
       "      <td>1.0000</td>\n",
       "      <td>1.0000</td>\n",
       "      <td>0.0000</td>\n",
       "      <td>0.0000</td>\n",
       "      <td>1.0000</td>\n",
       "      <td>0.0000</td>\n",
       "      <td>0.0000</td>\n",
       "      <td>0.0000</td>\n",
       "      <td>0.0000</td>\n",
       "      <td>0.0000</td>\n",
       "      <td>0.0000</td>\n",
       "      <td>0.0000</td>\n",
       "      <td>0.0000</td>\n",
       "      <td>1.0000</td>\n",
       "    </tr>\n",
       "    <tr>\n",
       "      <td>25%</td>\n",
       "      <td>45,324.5000</td>\n",
       "      <td>23.0000</td>\n",
       "      <td>2,017.0000</td>\n",
       "      <td>10.0000</td>\n",
       "      <td>8.0000</td>\n",
       "      <td>0.0000</td>\n",
       "      <td>1.0000</td>\n",
       "      <td>2.0000</td>\n",
       "      <td>0.0000</td>\n",
       "      <td>0.0000</td>\n",
       "      <td>0.0000</td>\n",
       "      <td>0.0000</td>\n",
       "      <td>0.0000</td>\n",
       "      <td>0.0000</td>\n",
       "      <td>0.0000</td>\n",
       "      <td>0.0000</td>\n",
       "      <td>2.0000</td>\n",
       "    </tr>\n",
       "    <tr>\n",
       "      <td>50%</td>\n",
       "      <td>53,411.0000</td>\n",
       "      <td>76.0000</td>\n",
       "      <td>2,017.0000</td>\n",
       "      <td>18.0000</td>\n",
       "      <td>16.0000</td>\n",
       "      <td>1.0000</td>\n",
       "      <td>2.0000</td>\n",
       "      <td>2.0000</td>\n",
       "      <td>0.0000</td>\n",
       "      <td>0.0000</td>\n",
       "      <td>0.0000</td>\n",
       "      <td>0.0000</td>\n",
       "      <td>0.0000</td>\n",
       "      <td>0.0000</td>\n",
       "      <td>0.0000</td>\n",
       "      <td>0.0000</td>\n",
       "      <td>3.0000</td>\n",
       "    </tr>\n",
       "    <tr>\n",
       "      <td>75%</td>\n",
       "      <td>89,810.5000</td>\n",
       "      <td>155.0000</td>\n",
       "      <td>2,017.0000</td>\n",
       "      <td>25.0000</td>\n",
       "      <td>23.0000</td>\n",
       "      <td>2.0000</td>\n",
       "      <td>3.0000</td>\n",
       "      <td>2.0000</td>\n",
       "      <td>0.0000</td>\n",
       "      <td>0.0000</td>\n",
       "      <td>0.0000</td>\n",
       "      <td>0.0000</td>\n",
       "      <td>0.0000</td>\n",
       "      <td>0.0000</td>\n",
       "      <td>0.0000</td>\n",
       "      <td>1.0000</td>\n",
       "      <td>4.0000</td>\n",
       "    </tr>\n",
       "    <tr>\n",
       "      <td>max</td>\n",
       "      <td>97,903.0000</td>\n",
       "      <td>373.0000</td>\n",
       "      <td>2,017.0000</td>\n",
       "      <td>35.0000</td>\n",
       "      <td>31.0000</td>\n",
       "      <td>4.0000</td>\n",
       "      <td>6.0000</td>\n",
       "      <td>4.0000</td>\n",
       "      <td>3.0000</td>\n",
       "      <td>2.0000</td>\n",
       "      <td>6.0000</td>\n",
       "      <td>72.0000</td>\n",
       "      <td>18.0000</td>\n",
       "      <td>223.0000</td>\n",
       "      <td>8.0000</td>\n",
       "      <td>5.0000</td>\n",
       "      <td>10.0000</td>\n",
       "    </tr>\n",
       "  </tbody>\n",
       "</table>\n",
       "</div>"
      ],
      "text/plain": [
       "               id   lead_time  arrival_date_year  arrival_date_week_number  \\\n",
       "count 32,255.0000 32,255.0000        32,255.0000               32,255.0000   \n",
       "mean  60,178.5679     97.6254         2,017.0000                   17.8175   \n",
       "std   29,937.1140     86.3549             0.0000                    9.1721   \n",
       "min    6,086.0000      0.0000         2,017.0000                    1.0000   \n",
       "25%   45,324.5000     23.0000         2,017.0000                   10.0000   \n",
       "50%   53,411.0000     76.0000         2,017.0000                   18.0000   \n",
       "75%   89,810.5000    155.0000         2,017.0000                   25.0000   \n",
       "max   97,903.0000    373.0000         2,017.0000                   35.0000   \n",
       "\n",
       "       arrival_date_day_of_month  stays_in_weekend_nights  \\\n",
       "count                32,255.0000              32,255.0000   \n",
       "mean                     15.6557                   0.8685   \n",
       "std                       8.7629                   0.8534   \n",
       "min                       1.0000                   0.0000   \n",
       "25%                       8.0000                   0.0000   \n",
       "50%                      16.0000                   1.0000   \n",
       "75%                      23.0000                   2.0000   \n",
       "max                      31.0000                   4.0000   \n",
       "\n",
       "       stays_in_week_nights      adults    children      babies  \\\n",
       "count           32,255.0000 32,255.0000 32,255.0000 32,255.0000   \n",
       "mean                 2.3413      1.8626      0.0801      0.0055   \n",
       "std                  1.3738      0.4822      0.3333      0.0755   \n",
       "min                  0.0000      1.0000      0.0000      0.0000   \n",
       "25%                  1.0000      2.0000      0.0000      0.0000   \n",
       "50%                  2.0000      2.0000      0.0000      0.0000   \n",
       "75%                  3.0000      2.0000      0.0000      0.0000   \n",
       "max                  6.0000      4.0000      3.0000      2.0000   \n",
       "\n",
       "       previous_cancellations  previous_bookings_not_canceled  \\\n",
       "count             32,255.0000                     32,255.0000   \n",
       "mean                   0.0116                          0.1719   \n",
       "std                    0.1808                          1.8790   \n",
       "min                    0.0000                          0.0000   \n",
       "25%                    0.0000                          0.0000   \n",
       "50%                    0.0000                          0.0000   \n",
       "75%                    0.0000                          0.0000   \n",
       "max                    6.0000                         72.0000   \n",
       "\n",
       "       booking_changes  days_in_waiting_list  required_car_parking_spaces  \\\n",
       "count      32,255.0000           32,255.0000                  32,255.0000   \n",
       "mean            0.2157                0.2636                       0.0459   \n",
       "std             0.6397                4.7445                       0.2184   \n",
       "min             0.0000                0.0000                       0.0000   \n",
       "25%             0.0000                0.0000                       0.0000   \n",
       "50%             0.0000                0.0000                       0.0000   \n",
       "75%             0.0000                0.0000                       0.0000   \n",
       "max            18.0000              223.0000                       8.0000   \n",
       "\n",
       "       total_of_special_requests  total_nights  \n",
       "count                32,255.0000   32,255.0000  \n",
       "mean                      0.6563        3.2098  \n",
       "std                       0.8335        1.7369  \n",
       "min                       0.0000        1.0000  \n",
       "25%                       0.0000        2.0000  \n",
       "50%                       0.0000        3.0000  \n",
       "75%                       1.0000        4.0000  \n",
       "max                       5.0000       10.0000  "
      ]
     },
     "metadata": {},
     "output_type": "display_data"
    }
   ],
   "source": [
    "display(train.describe())\n",
    "display(test.describe())"
   ]
  },
  {
   "cell_type": "code",
   "execution_count": 14,
   "id": "e4c67c68",
   "metadata": {},
   "outputs": [
    {
     "data": {
      "text/plain": [
       "Series([], Name: babies, dtype: int64)"
      ]
     },
     "execution_count": 14,
     "metadata": {},
     "output_type": "execute_result"
    }
   ],
   "source": [
    "# Десять младенцев при медиане, равной нулю, в train выглядят выбросом. Скорей всего, там один младенец. \n",
    "# Заменим значение. \n",
    "# В строке с девятью младенцами, скорей всего, ошибка. Угадать, сколько там младенцев, сложно. Удалим строку.\n",
    "train.loc[train['babies'] == 10, 'babies'] = 1\n",
    "train = train.query('babies != 9')\n",
    "\n",
    "train.query('babies > 2')['babies']"
   ]
  },
  {
   "cell_type": "code",
   "execution_count": 15,
   "id": "58497e07",
   "metadata": {},
   "outputs": [
    {
     "name": "stdout",
     "output_type": "stream",
     "text": [
      "0\n",
      "0\n"
     ]
    }
   ],
   "source": [
    "# Проверим столбец с неделями на присутствие невозможных данных\n",
    "WEEKS_IN_YEAR = math.ceil(365 / 7)\n",
    "print(train.query('arrival_date_week_number > @WEEKS_IN_YEAR')['id'].count())\n",
    "print(test.query('arrival_date_week_number > @WEEKS_IN_YEAR')['id'].count())\n",
    "\n",
    "# Соответствие общего количества ночей сумме ночей в будни и выходные проверено выше"
   ]
  },
  {
   "cell_type": "markdown",
   "id": "a9bf7e6f",
   "metadata": {},
   "source": [
    "### Проверка категориальных значений"
   ]
  },
  {
   "cell_type": "code",
   "execution_count": 16,
   "id": "cc213b32",
   "metadata": {},
   "outputs": [
    {
     "name": "stdout",
     "output_type": "stream",
     "text": [
      "24\n"
     ]
    },
    {
     "data": {
      "text/plain": [
       "25"
      ]
     },
     "execution_count": 16,
     "metadata": {},
     "output_type": "execute_result"
    }
   ],
   "source": [
    "numeric = ['lead_time', 'stays_in_weekend_nights', 'stays_in_week_nights', \n",
    "          'adults', 'children', 'babies', 'previous_cancellations',\n",
    "          'previous_bookings_not_canceled', 'booking_changes', 'days_in_waiting_list',\n",
    "          'required_car_parking_spaces', 'total_of_special_requests', 'total_nights']\n",
    "categorial = ['meal', 'country', 'distribution_channel', 'reserved_room_type', 'customer_type']\n",
    "boolean = ['is_canceled', 'is_repeated_guest']\n",
    "timean = ['arrival_date_year', 'arrival_date_month', 'arrival_date_day_of_month', 'arrival_date_week_number']\n",
    "\n",
    "# Проверим, что ничего не забыли:\n",
    "print(len(numeric) + len(categorial) + len(boolean) + len(timean)) # и еще `id`\n",
    "len(train.columns)"
   ]
  },
  {
   "cell_type": "code",
   "execution_count": 17,
   "id": "da616396",
   "metadata": {},
   "outputs": [
    {
     "name": "stdout",
     "output_type": "stream",
     "text": [
      "['BB       ' 'FB       ' 'HB       ' 'SC       ' 'SC']\n",
      "['BB       ' 'HB       ' 'SC' 'FB       ' 'SC       ']\n",
      "['GBR' 'PRT' 'ESP' 'IRL' 'FRA' 'ROU' 'NOR' 'USA' 'DEU' 'BEL' 'CHE' 'CN'\n",
      " 'GRC' 'NLD' 'ARG' 'RUS' 'SWE' 'POL' 'EST' 'CZE' 'ITA' 'FIN' 'DNK' 'MOZ'\n",
      " 'BWA' 'LUX' 'BRA' 'SVN' 'ALB' 'CHN' 'MEX' 'MAR' 'SMR' 'LVA' 'CHL' 'AUT'\n",
      " 'LTU' 'TUR' 'ISR' 'IND' 'CYM' 'AUS' 'CPV' 'ZWE' 'DZA' 'KOR' 'CRI' 'HUN'\n",
      " 'TUN' 'ARE' 'HRV' 'HKG' 'IRN' 'GIB' 'JEY' 'URY' 'ZAF' 'COL' 'GGY' 'KWT'\n",
      " 'CYP' 'KAZ' 'THA' 'DOM' 'NGA' 'BLR' 'VEN' 'UKR' 'ARM' 'JPN' 'LKA' 'MYS'\n",
      " 'BIH' 'MUS' 'OMN' 'SUR' 'JAM' 'BGR' 'CIV' 'SRB' 'JOR' 'SYR' 'PHL' 'PRI'\n",
      " 'SGP' 'BDI' 'LBN' 'AGO' 'VNM' 'AZE' 'PLW' 'NZL' 'EGY' 'MDV' 'CMR' 'MLT'\n",
      " 'SVK' 'MWI' 'STP' 'TWN' 'IDN' 'SEN' 'PER' 'SAU' 'KNA' 'ETH' 'ECU' 'IRQ'\n",
      " 'AND' 'HND' 'PAK' 'GEO' 'ZMB' 'QAT' 'KHM' 'MCO' 'BGD' 'ISL' 'UZB' 'IMN'\n",
      " 'TJK' 'NIC' 'BEN' 'MAC' 'VGB' 'TZA' 'GAB' 'MKD' 'TMP' 'GLP' 'KEN' 'LIE'\n",
      " 'MMR' 'PAN' 'BFA' 'LBY' 'GNB' 'MLI' 'BHR' 'NAM' 'BOL' 'SYC' 'PRY' 'BRB'\n",
      " 'ABW' 'SLV' 'DMA' 'CUB' 'PYF' 'UGA' 'GUY' 'LCA' 'ATA' 'RWA' 'MNE']\n",
      "['PRT' 'AUT' 'BEL' 'DEU' 'BRA' 'GBR' 'ESP' 'FRA' 'ITA' 'LUX' 'CHE' 'EST'\n",
      " 'NGA' 'IRL' 'CN' 'POL' 'AUS' 'NLD' 'KOR' 'ROU' 'USA' 'CHL' 'DNK' 'FIN'\n",
      " 'RUS' 'SWE' 'HUN' 'HRV' 'MDV' 'ZAF' 'ISR' 'NOR' 'CHN' 'ARE' 'MAR' 'COL'\n",
      " 'FJI' 'LVA' 'LBN' 'PHL' 'HKG' 'SYC' 'GIB' 'AGO' 'MYS' 'MDG' 'IDN' 'LTU'\n",
      " 'ISL' 'TUR' 'ARG' 'JPN' 'SVN' 'SVK' 'BGR' 'CAF' 'JAM' 'UZB' 'UKR' 'IND'\n",
      " 'CZE' 'URY' 'NZL' 'NPL' 'SRB' 'CPV' 'IRN' 'KAZ' 'BHS' 'SUR' 'CUB' 'PAK'\n",
      " 'MAC' 'CYP' 'JOR' 'GRC' 'KWT' 'TWN' 'VNM' 'SGP' 'DOM' 'VEN' 'SEN' 'BLR'\n",
      " 'TZA' 'LIE' 'GNB' 'SAU' 'DZA' 'PER' 'AZE' 'EGY' 'ETH' 'KEN' 'THA' 'MLT'\n",
      " 'ECU' 'AND' 'IMN' 'BHR' 'TUN' 'MNE' 'MEX' 'BEN' 'MOZ' 'UMI' 'JEY' 'MYT'\n",
      " 'QAT' 'BGD' 'GAB' 'CIV' 'ZWE' 'GTM' 'ALB' 'GHA' 'ATA' 'ASM' 'PAN' 'CRI'\n",
      " 'MCO' 'MUS' 'SYR' 'TGO' 'IRQ' 'LKA' 'BIH' 'PRY' 'MRT' 'ABW' 'NCL' 'STP'\n",
      " 'KIR' 'SDN' 'PRI' 'ATF' 'CMR' 'TJK' 'LBY' 'SLE' 'SLV' 'LAO' 'FRO']\n",
      "['Direct' 'TA/TO' 'Corporate' 'GDS']\n",
      "['TA/TO' 'Direct' 'Corporate' 'GDS']\n",
      "['A               ' 'C               ' 'D               '\n",
      " 'E               ' 'G               ' 'F               '\n",
      " 'B               ']\n",
      "['A               ' 'E               ' 'G               '\n",
      " 'D               ' 'F               ' 'C               '\n",
      " 'B               ']\n",
      "['Transient' 'Contract' 'Transient-Party' 'Group']\n",
      "['Transient' 'Transient-Party' 'Contract' 'Group']\n"
     ]
    }
   ],
   "source": [
    "for column in categorial:\n",
    "    print(train[column].unique())\n",
    "    print(test[column].unique())"
   ]
  },
  {
   "cell_type": "code",
   "execution_count": 18,
   "id": "059f0785",
   "metadata": {},
   "outputs": [],
   "source": [
    "# Уберем лишние пробелы в колонках 'meal', 'reserved_room_type'\n",
    "dfs = [train, test]\n",
    "for df in dfs:\n",
    "    for column in categorial:\n",
    "        df[column] = df[column].str.strip()"
   ]
  },
  {
   "cell_type": "code",
   "execution_count": 19,
   "id": "361c9fd9",
   "metadata": {},
   "outputs": [
    {
     "name": "stdout",
     "output_type": "stream",
     "text": [
      "True\n",
      "['A' 'C' 'D' 'E' 'G' 'F' 'B']\n",
      "['BB' 'FB' 'HB' 'SC']\n"
     ]
    }
   ],
   "source": [
    "print(test['reserved_room_type'].unique().sort() == train['reserved_room_type'].unique().sort())\n",
    "print(train['reserved_room_type'].unique())\n",
    "print(train['meal'].unique())"
   ]
  },
  {
   "cell_type": "markdown",
   "id": "5473ac84",
   "metadata": {},
   "source": [
    "## Подготовка датасетов для обучения моделей"
   ]
  },
  {
   "cell_type": "markdown",
   "id": "ca1289ea",
   "metadata": {},
   "source": [
    "### Удаление лишних столбцов\n",
    "Столбец `id` не нужен для обучения модели. Удалим его.\n",
    "\n",
    "Информация в столбце `arrival_date_week_number` дублирует информацию в столбцах `arrival_date_month` и `arrival_date_day_of_month`. Если оставить все три столбца, то время заезда будет учтено дважды, что неверно. Представляется оправданным удалить столбцы с месяцем и днем месяца и столбец с неделей заезда, заменив их на один столбец с днем года `arrival_date_day_of_year`: останется численное соотношение, мы избежим раздувания датасета и возможных ошибок от кодирования месяцев и предположительно ложной связи целевого признака с днем месяца.\n",
    "\n",
    "Информация в столбце `total_nights` дублирует информацию в столбцах `stays_in_weekend_nights` и `stays_in_week_nights`, при этом является менее содержательной. Удалим столбец `total_nights`, чтоб избежать дублирования информации в датасете.\n",
    "\n",
    "Информация в колонке `is_repeated_guest` дублирует информацию в колонках `previous_bookings_not_canceled` и `previous_cancellations`, при этом является менее содержательной. Удалим колонку `is_repeated_guest`."
   ]
  },
  {
   "cell_type": "code",
   "execution_count": 20,
   "id": "92e65a53",
   "metadata": {},
   "outputs": [
    {
     "data": {
      "text/plain": [
       "Index(['id', 'is_canceled', 'lead_time', 'arrival_date_year',\n",
       "       'arrival_date_month', 'arrival_date_week_number',\n",
       "       'arrival_date_day_of_month', 'stays_in_weekend_nights',\n",
       "       'stays_in_week_nights', 'adults', 'children', 'babies', 'meal',\n",
       "       'country', 'distribution_channel', 'is_repeated_guest',\n",
       "       'previous_cancellations', 'previous_bookings_not_canceled',\n",
       "       'reserved_room_type', 'booking_changes', 'days_in_waiting_list',\n",
       "       'customer_type', 'required_car_parking_spaces',\n",
       "       'total_of_special_requests', 'total_nights'],\n",
       "      dtype='object')"
      ]
     },
     "execution_count": 20,
     "metadata": {},
     "output_type": "execute_result"
    }
   ],
   "source": [
    "train.columns"
   ]
  },
  {
   "cell_type": "code",
   "execution_count": 21,
   "id": "a570da6d",
   "metadata": {},
   "outputs": [],
   "source": [
    "#КОД РЕВЬЮЕРА\n",
    "MONTH = {\n",
    "    'January': 1,\n",
    "    'February': 2,\n",
    "    'March': 3,\n",
    "    'April': 4, \n",
    "    'May': 5,\n",
    "    'June': 6, \n",
    "    'July': 7,\n",
    "    'August': 8,\n",
    "    'September': 9,\n",
    "    'October': 10,\n",
    "    'November': 11,\n",
    "    'December': 12\n",
    "}\n",
    "\n",
    "train['arrival_date_month'] = train['arrival_date_month'].map(MONTH) #таким образом перевели месяц в число\n"
   ]
  },
  {
   "cell_type": "code",
   "execution_count": 26,
   "id": "089cbcac",
   "metadata": {},
   "outputs": [],
   "source": [
    "#КОД РЕВЬЮЕРА\n",
    "from datetime import datetime\n",
    "def translate_to_date(row):\n",
    "    day = row['arrival_date_day_of_month']\n",
    "    month = row['arrival_date_month']\n",
    "    year = row['arrival_date_year']\n",
    "    all_days = (datetime(day=day, month=month, year=year) - datetime(day=31, month=12, year=year-1)).days\n",
    "    return all_days"
   ]
  },
  {
   "cell_type": "code",
   "execution_count": 27,
   "id": "4be69f2a",
   "metadata": {},
   "outputs": [
    {
     "name": "stdout",
     "output_type": "stream",
     "text": [
      "CPU times: user 2.77 s, sys: 40.5 ms, total: 2.81 s\n",
      "Wall time: 2.81 s\n"
     ]
    }
   ],
   "source": [
    "%%time\n",
    "#КОД РЕВЬЮЕРА\n",
    "train['arrival_date_day_of_year'] = train.apply(translate_to_date, axis=1)"
   ]
  },
  {
   "cell_type": "code",
   "execution_count": 36,
   "id": "f7575838",
   "metadata": {},
   "outputs": [
    {
     "data": {
      "text/html": [
       "<div>\n",
       "<style scoped>\n",
       "    .dataframe tbody tr th:only-of-type {\n",
       "        vertical-align: middle;\n",
       "    }\n",
       "\n",
       "    .dataframe tbody tr th {\n",
       "        vertical-align: top;\n",
       "    }\n",
       "\n",
       "    .dataframe thead th {\n",
       "        text-align: right;\n",
       "    }\n",
       "</style>\n",
       "<table border=\"1\" class=\"dataframe\">\n",
       "  <thead>\n",
       "    <tr style=\"text-align: right;\">\n",
       "      <th></th>\n",
       "      <th>id</th>\n",
       "      <th>is_canceled</th>\n",
       "      <th>lead_time</th>\n",
       "      <th>arrival_date_year</th>\n",
       "      <th>arrival_date_month</th>\n",
       "      <th>arrival_date_week_number</th>\n",
       "      <th>arrival_date_day_of_month</th>\n",
       "      <th>stays_in_weekend_nights</th>\n",
       "      <th>stays_in_week_nights</th>\n",
       "      <th>adults</th>\n",
       "      <th>...</th>\n",
       "      <th>previous_cancellations</th>\n",
       "      <th>previous_bookings_not_canceled</th>\n",
       "      <th>reserved_room_type</th>\n",
       "      <th>booking_changes</th>\n",
       "      <th>days_in_waiting_list</th>\n",
       "      <th>customer_type</th>\n",
       "      <th>required_car_parking_spaces</th>\n",
       "      <th>total_of_special_requests</th>\n",
       "      <th>total_nights</th>\n",
       "      <th>arrival_date_day_of_year</th>\n",
       "    </tr>\n",
       "  </thead>\n",
       "  <tbody>\n",
       "    <tr>\n",
       "      <td>43404</td>\n",
       "      <td>61822</td>\n",
       "      <td>False</td>\n",
       "      <td>32.0000</td>\n",
       "      <td>2015</td>\n",
       "      <td>11</td>\n",
       "      <td>47</td>\n",
       "      <td>20</td>\n",
       "      <td>0</td>\n",
       "      <td>2</td>\n",
       "      <td>1</td>\n",
       "      <td>...</td>\n",
       "      <td>0</td>\n",
       "      <td>0</td>\n",
       "      <td>A</td>\n",
       "      <td>0</td>\n",
       "      <td>0</td>\n",
       "      <td>Transient-Party</td>\n",
       "      <td>0</td>\n",
       "      <td>0</td>\n",
       "      <td>2</td>\n",
       "      <td>324</td>\n",
       "    </tr>\n",
       "    <tr>\n",
       "      <td>56520</td>\n",
       "      <td>75153</td>\n",
       "      <td>False</td>\n",
       "      <td>110.0000</td>\n",
       "      <td>2016</td>\n",
       "      <td>8</td>\n",
       "      <td>32</td>\n",
       "      <td>1</td>\n",
       "      <td>1</td>\n",
       "      <td>5</td>\n",
       "      <td>3</td>\n",
       "      <td>...</td>\n",
       "      <td>0</td>\n",
       "      <td>0</td>\n",
       "      <td>D</td>\n",
       "      <td>0</td>\n",
       "      <td>0</td>\n",
       "      <td>Transient</td>\n",
       "      <td>1</td>\n",
       "      <td>1</td>\n",
       "      <td>6</td>\n",
       "      <td>214</td>\n",
       "    </tr>\n",
       "    <tr>\n",
       "      <td>46716</td>\n",
       "      <td>65172</td>\n",
       "      <td>False</td>\n",
       "      <td>19.0000</td>\n",
       "      <td>2016</td>\n",
       "      <td>2</td>\n",
       "      <td>8</td>\n",
       "      <td>18</td>\n",
       "      <td>0</td>\n",
       "      <td>3</td>\n",
       "      <td>2</td>\n",
       "      <td>...</td>\n",
       "      <td>0</td>\n",
       "      <td>0</td>\n",
       "      <td>A</td>\n",
       "      <td>1</td>\n",
       "      <td>0</td>\n",
       "      <td>Transient</td>\n",
       "      <td>0</td>\n",
       "      <td>0</td>\n",
       "      <td>3</td>\n",
       "      <td>49</td>\n",
       "    </tr>\n",
       "    <tr>\n",
       "      <td>24362</td>\n",
       "      <td>32302</td>\n",
       "      <td>True</td>\n",
       "      <td>42.0000</td>\n",
       "      <td>2016</td>\n",
       "      <td>3</td>\n",
       "      <td>12</td>\n",
       "      <td>14</td>\n",
       "      <td>1</td>\n",
       "      <td>4</td>\n",
       "      <td>2</td>\n",
       "      <td>...</td>\n",
       "      <td>0</td>\n",
       "      <td>0</td>\n",
       "      <td>D</td>\n",
       "      <td>1</td>\n",
       "      <td>0</td>\n",
       "      <td>Transient</td>\n",
       "      <td>0</td>\n",
       "      <td>0</td>\n",
       "      <td>5</td>\n",
       "      <td>74</td>\n",
       "    </tr>\n",
       "    <tr>\n",
       "      <td>41927</td>\n",
       "      <td>60332</td>\n",
       "      <td>False</td>\n",
       "      <td>5.0000</td>\n",
       "      <td>2015</td>\n",
       "      <td>10</td>\n",
       "      <td>43</td>\n",
       "      <td>19</td>\n",
       "      <td>1</td>\n",
       "      <td>2</td>\n",
       "      <td>2</td>\n",
       "      <td>...</td>\n",
       "      <td>0</td>\n",
       "      <td>0</td>\n",
       "      <td>A</td>\n",
       "      <td>0</td>\n",
       "      <td>0</td>\n",
       "      <td>Transient-Party</td>\n",
       "      <td>0</td>\n",
       "      <td>0</td>\n",
       "      <td>3</td>\n",
       "      <td>292</td>\n",
       "    </tr>\n",
       "    <tr>\n",
       "      <td>40173</td>\n",
       "      <td>58545</td>\n",
       "      <td>False</td>\n",
       "      <td>5.0000</td>\n",
       "      <td>2015</td>\n",
       "      <td>9</td>\n",
       "      <td>37</td>\n",
       "      <td>7</td>\n",
       "      <td>2</td>\n",
       "      <td>5</td>\n",
       "      <td>2</td>\n",
       "      <td>...</td>\n",
       "      <td>0</td>\n",
       "      <td>0</td>\n",
       "      <td>A</td>\n",
       "      <td>0</td>\n",
       "      <td>0</td>\n",
       "      <td>Transient</td>\n",
       "      <td>0</td>\n",
       "      <td>0</td>\n",
       "      <td>7</td>\n",
       "      <td>250</td>\n",
       "    </tr>\n",
       "    <tr>\n",
       "      <td>32863</td>\n",
       "      <td>40803</td>\n",
       "      <td>True</td>\n",
       "      <td>27.0000</td>\n",
       "      <td>2016</td>\n",
       "      <td>9</td>\n",
       "      <td>40</td>\n",
       "      <td>25</td>\n",
       "      <td>2</td>\n",
       "      <td>0</td>\n",
       "      <td>2</td>\n",
       "      <td>...</td>\n",
       "      <td>0</td>\n",
       "      <td>0</td>\n",
       "      <td>A</td>\n",
       "      <td>0</td>\n",
       "      <td>0</td>\n",
       "      <td>Transient</td>\n",
       "      <td>0</td>\n",
       "      <td>1</td>\n",
       "      <td>2</td>\n",
       "      <td>269</td>\n",
       "    </tr>\n",
       "    <tr>\n",
       "      <td>38267</td>\n",
       "      <td>56622</td>\n",
       "      <td>True</td>\n",
       "      <td>344.0000</td>\n",
       "      <td>2015</td>\n",
       "      <td>9</td>\n",
       "      <td>39</td>\n",
       "      <td>26</td>\n",
       "      <td>2</td>\n",
       "      <td>1</td>\n",
       "      <td>2</td>\n",
       "      <td>...</td>\n",
       "      <td>1</td>\n",
       "      <td>0</td>\n",
       "      <td>A</td>\n",
       "      <td>0</td>\n",
       "      <td>0</td>\n",
       "      <td>Transient</td>\n",
       "      <td>0</td>\n",
       "      <td>0</td>\n",
       "      <td>3</td>\n",
       "      <td>269</td>\n",
       "    </tr>\n",
       "    <tr>\n",
       "      <td>144</td>\n",
       "      <td>148</td>\n",
       "      <td>False</td>\n",
       "      <td>90.0000</td>\n",
       "      <td>2015</td>\n",
       "      <td>7</td>\n",
       "      <td>28</td>\n",
       "      <td>9</td>\n",
       "      <td>2</td>\n",
       "      <td>5</td>\n",
       "      <td>2</td>\n",
       "      <td>...</td>\n",
       "      <td>0</td>\n",
       "      <td>0</td>\n",
       "      <td>A</td>\n",
       "      <td>0</td>\n",
       "      <td>0</td>\n",
       "      <td>Transient</td>\n",
       "      <td>0</td>\n",
       "      <td>0</td>\n",
       "      <td>7</td>\n",
       "      <td>190</td>\n",
       "    </tr>\n",
       "    <tr>\n",
       "      <td>18452</td>\n",
       "      <td>26392</td>\n",
       "      <td>False</td>\n",
       "      <td>0.0000</td>\n",
       "      <td>2015</td>\n",
       "      <td>8</td>\n",
       "      <td>35</td>\n",
       "      <td>27</td>\n",
       "      <td>0</td>\n",
       "      <td>1</td>\n",
       "      <td>2</td>\n",
       "      <td>...</td>\n",
       "      <td>0</td>\n",
       "      <td>0</td>\n",
       "      <td>A</td>\n",
       "      <td>0</td>\n",
       "      <td>0</td>\n",
       "      <td>Contract</td>\n",
       "      <td>0</td>\n",
       "      <td>2</td>\n",
       "      <td>1</td>\n",
       "      <td>239</td>\n",
       "    </tr>\n",
       "  </tbody>\n",
       "</table>\n",
       "<p>10 rows × 26 columns</p>\n",
       "</div>"
      ],
      "text/plain": [
       "          id  is_canceled  lead_time  arrival_date_year  arrival_date_month  \\\n",
       "43404  61822        False    32.0000               2015                  11   \n",
       "56520  75153        False   110.0000               2016                   8   \n",
       "46716  65172        False    19.0000               2016                   2   \n",
       "24362  32302         True    42.0000               2016                   3   \n",
       "41927  60332        False     5.0000               2015                  10   \n",
       "40173  58545        False     5.0000               2015                   9   \n",
       "32863  40803         True    27.0000               2016                   9   \n",
       "38267  56622         True   344.0000               2015                   9   \n",
       "144      148        False    90.0000               2015                   7   \n",
       "18452  26392        False     0.0000               2015                   8   \n",
       "\n",
       "       arrival_date_week_number  arrival_date_day_of_month  \\\n",
       "43404                        47                         20   \n",
       "56520                        32                          1   \n",
       "46716                         8                         18   \n",
       "24362                        12                         14   \n",
       "41927                        43                         19   \n",
       "40173                        37                          7   \n",
       "32863                        40                         25   \n",
       "38267                        39                         26   \n",
       "144                          28                          9   \n",
       "18452                        35                         27   \n",
       "\n",
       "       stays_in_weekend_nights  stays_in_week_nights  adults  ...  \\\n",
       "43404                        0                     2       1  ...   \n",
       "56520                        1                     5       3  ...   \n",
       "46716                        0                     3       2  ...   \n",
       "24362                        1                     4       2  ...   \n",
       "41927                        1                     2       2  ...   \n",
       "40173                        2                     5       2  ...   \n",
       "32863                        2                     0       2  ...   \n",
       "38267                        2                     1       2  ...   \n",
       "144                          2                     5       2  ...   \n",
       "18452                        0                     1       2  ...   \n",
       "\n",
       "       previous_cancellations  previous_bookings_not_canceled  \\\n",
       "43404                       0                               0   \n",
       "56520                       0                               0   \n",
       "46716                       0                               0   \n",
       "24362                       0                               0   \n",
       "41927                       0                               0   \n",
       "40173                       0                               0   \n",
       "32863                       0                               0   \n",
       "38267                       1                               0   \n",
       "144                         0                               0   \n",
       "18452                       0                               0   \n",
       "\n",
       "      reserved_room_type booking_changes days_in_waiting_list  \\\n",
       "43404                  A               0                    0   \n",
       "56520                  D               0                    0   \n",
       "46716                  A               1                    0   \n",
       "24362                  D               1                    0   \n",
       "41927                  A               0                    0   \n",
       "40173                  A               0                    0   \n",
       "32863                  A               0                    0   \n",
       "38267                  A               0                    0   \n",
       "144                    A               0                    0   \n",
       "18452                  A               0                    0   \n",
       "\n",
       "         customer_type  required_car_parking_spaces  \\\n",
       "43404  Transient-Party                            0   \n",
       "56520        Transient                            1   \n",
       "46716        Transient                            0   \n",
       "24362        Transient                            0   \n",
       "41927  Transient-Party                            0   \n",
       "40173        Transient                            0   \n",
       "32863        Transient                            0   \n",
       "38267        Transient                            0   \n",
       "144          Transient                            0   \n",
       "18452         Contract                            0   \n",
       "\n",
       "       total_of_special_requests total_nights  arrival_date_day_of_year  \n",
       "43404                          0            2                       324  \n",
       "56520                          1            6                       214  \n",
       "46716                          0            3                        49  \n",
       "24362                          0            5                        74  \n",
       "41927                          0            3                       292  \n",
       "40173                          0            7                       250  \n",
       "32863                          1            2                       269  \n",
       "38267                          0            3                       269  \n",
       "144                            0            7                       190  \n",
       "18452                          2            1                       239  \n",
       "\n",
       "[10 rows x 26 columns]"
      ]
     },
     "execution_count": 36,
     "metadata": {},
     "output_type": "execute_result"
    }
   ],
   "source": [
    "#КОД РЕВЬЮЕРА\n",
    "train.sample(10, random_state=42)"
   ]
  },
  {
   "cell_type": "code",
   "execution_count": 366,
   "id": "6a5a9515",
   "metadata": {},
   "outputs": [],
   "source": [
    "# Первый метод\n",
    "month_days = pd.DataFrame([\n",
    "    ['January', 31],\n",
    "    ['February', 28],\n",
    "    ['March', 31],\n",
    "    ['April', 30],\n",
    "    ['May', 31],\n",
    "    ['June', 30],\n",
    "    ['July', 31],\n",
    "    ['August', 31],\n",
    "    ['September', 30],\n",
    "    ['October', 31],\n",
    "    ['November', 30],\n",
    "    ['December', 31]\n",
    "], columns=['month', 'days'])\n",
    "\n",
    "def arrival_date_day_of_year(row):\n",
    "    month = row['arrival_date_month']\n",
    "    year = row['arrival_date_year']\n",
    "    day = row['arrival_date_day_of_month']\n",
    "    month_index = month_days.query('month == @month').index[0]\n",
    "    # день високосного года\n",
    "    if year % 4 == 0 and month_index > 1:\n",
    "        leap_year_day = 1\n",
    "    else:\n",
    "        leap_year_day = 0\n",
    "     \n",
    "    day = month_days.loc[:(month_index - 1)]['days'].sum() + day + leap_year_day\n",
    "    return day"
   ]
  },
  {
   "cell_type": "code",
   "execution_count": 367,
   "id": "3b2dfd8b",
   "metadata": {},
   "outputs": [
    {
     "data": {},
     "metadata": {},
     "output_type": "display_data"
    }
   ],
   "source": [
    "test_dates = pd.DataFrame([\n",
    "    [2014, 'January', 1],\n",
    "    [2020, 'January', 1],\n",
    "    [2015, 'February', 28],\n",
    "    [2000, 'February', 28],\n",
    "    [2001, 'April', 2],\n",
    "    [2020, 'April', 2],\n",
    "    [2014, 'March', 2],\n",
    "    [2016, 'March', 2],\n",
    "    [1991, 'December', 31],\n",
    "    [2040, 'December', 31]\n",
    "    \n",
    "], columns=['arrival_date_year', 'arrival_date_month', 'arrival_date_day_of_month'])\n",
    "\n",
    "\n",
    "test_dates['arrival_date_day_of_year'] = test_dates.apply(arrival_date_day_of_year, axis=1)\n",
    "display(test_dates)"
   ]
  },
  {
   "cell_type": "code",
   "execution_count": 368,
   "id": "afbc74ae",
   "metadata": {},
   "outputs": [],
   "source": [
    "# Второй метод\n",
    "common_year_month_days = month_days\n",
    "leap_year_month_days = pd.DataFrame([\n",
    "    ['January', 31],\n",
    "    ['February', 29],\n",
    "    ['March', 31],\n",
    "    ['April', 30],\n",
    "    ['May', 31],\n",
    "    ['June', 30],\n",
    "    ['July', 31],\n",
    "    ['August', 31],\n",
    "    ['September', 30],\n",
    "    ['October', 31],\n",
    "    ['November', 30],\n",
    "    ['December', 31]\n",
    "], columns=['month', 'days'])\n",
    "\n",
    "def arrival_date_day_of_year_2(row):\n",
    "    month = row['arrival_date_month']\n",
    "    year = row['arrival_date_year']\n",
    "    day = row['arrival_date_day_of_month']\n",
    "    month_index = common_year_month_days.query('month == @month').index[0]\n",
    "   \n",
    "    if year % 4 == 0:  \n",
    "        day = leap_year_month_days.loc[:(month_index - 1)]['days'].sum() + day\n",
    "    else:\n",
    "        day = common_year_month_days.loc[:(month_index - 1)]['days'].sum() + day\n",
    "        \n",
    "    return day"
   ]
  },
  {
   "cell_type": "code",
   "execution_count": 369,
   "id": "3b27ecd9",
   "metadata": {},
   "outputs": [
    {
     "data": {},
     "metadata": {},
     "output_type": "display_data"
    }
   ],
   "source": [
    "test_dates = pd.DataFrame([\n",
    "    [2014, 'January', 1],\n",
    "    [2020, 'January', 1],\n",
    "    [2015, 'February', 28],\n",
    "    [2000, 'February', 28],\n",
    "    [2001, 'April', 2],\n",
    "    [2020, 'April', 2],\n",
    "    [2014, 'March', 2],\n",
    "    [2016, 'March', 2],\n",
    "    [1991, 'December', 31],\n",
    "    [2040, 'December', 31]\n",
    "    \n",
    "], columns=['arrival_date_year', 'arrival_date_month', 'arrival_date_day_of_month'])\n",
    "\n",
    "\n",
    "test_dates['arrival_date_day_of_year'] = test_dates.apply(arrival_date_day_of_year, axis=1)\n",
    "display(test_dates)"
   ]
  },
  {
   "cell_type": "code",
   "execution_count": 370,
   "id": "97724d8b",
   "metadata": {},
   "outputs": [],
   "source": [
    "# Применим функцию к датасетам\n",
    "train['arrival_date_day_of_year'] = train.apply(arrival_date_day_of_year, axis=1)\n",
    "test['arrival_date_day_of_year'] = test.apply(arrival_date_day_of_year, axis=1)\n",
    "\n",
    "# И вторую, потом сравним результаты. Колонки совпали.\n",
    "train['arrival_date_day_of_year_2'] = train.apply(arrival_date_day_of_year_2, axis=1)\n",
    "test['arrival_date_day_of_year_2'] = test.apply(arrival_date_day_of_year_2, axis=1)"
   ]
  },
  {
   "cell_type": "code",
   "execution_count": 371,
   "id": "3906241c",
   "metadata": {},
   "outputs": [],
   "source": [
    "print(train.query('arrival_date_day_of_year != arrival_date_day_of_year_2')['id'].count())\n",
    "print(test.query('arrival_date_day_of_year != arrival_date_day_of_year_2')['id'].count())"
   ]
  },
  {
   "cell_type": "code",
   "execution_count": 372,
   "id": "e454bd2b",
   "metadata": {},
   "outputs": [],
   "source": [
    "# Удалили лишние колонки\n",
    "train_mod = train.drop(\n",
    "    ['id', 'arrival_date_month', 'arrival_date_day_of_month', \n",
    "     'arrival_date_year', 'total_nights', 'is_repeated_guest', \n",
    "     'arrival_date_week_number', 'arrival_date_day_of_year_2'], axis=1)\n",
    "test_mod = test.drop(\n",
    "    ['id', 'arrival_date_month', 'arrival_date_day_of_month', \n",
    "     'arrival_date_year', 'total_nights', 'is_repeated_guest', \n",
    "     'arrival_date_week_number', 'arrival_date_day_of_year_2'], axis=1)"
   ]
  },
  {
   "cell_type": "markdown",
   "id": "023f3541",
   "metadata": {},
   "source": [
    "### Масштабирование численных признаков\n",
    "\n",
    "Масштабируем численные признаки."
   ]
  },
  {
   "cell_type": "code",
   "execution_count": 373,
   "id": "7b013310",
   "metadata": {},
   "outputs": [],
   "source": [
    "numeric = ['lead_time', 'stays_in_weekend_nights', 'stays_in_week_nights', \n",
    "          'adults', 'children', 'babies', 'previous_cancellations',\n",
    "          'previous_bookings_not_canceled', 'booking_changes', 'days_in_waiting_list',\n",
    "          'required_car_parking_spaces', 'total_of_special_requests']\n",
    "scaler = StandardScaler()\n",
    "scaler.fit(train_mod[numeric])\n",
    "train_mod[numeric] = scaler.transform(train_mod[numeric])\n",
    "test_mod[numeric] = scaler.transform(test_mod[numeric])\n",
    "# train_mod.head()"
   ]
  },
  {
   "cell_type": "markdown",
   "id": "2b3de2ad",
   "metadata": {},
   "source": [
    "### Кодирование категориальных признаков\n",
    "#### Проверка распределения категориальных признаков\n",
    "Проверим, как распределены значения в колонках с категориальными признаками.\n",
    "\n",
    "Обращает внимание неравномерность распределения гостей по странам. Едва ли не половина гостей (28_698 человек) прибыла из Португалии. Из 75% стран прибыло менее 50 гостей. Имеет смысл объединить данные по этим странам, а потом кодировать эти значения техникой OHE. \n",
    "\n",
    "Чтоб колонки в датасетах после кодирования совпали, нужно, чтоб совпали уникальные значения в колонке `country` в обоих датасетах до кодирования. Для этого на основании датасета `train` сформируем список стран, откуда было более 100 гостей за все время и заменим остальные страны на `other` в обоих датасетах. Уникальные значения в колонке `country` совпали. Можно приступать к кодированию."
   ]
  },
  {
   "cell_type": "code",
   "execution_count": 374,
   "id": "09cde5e6",
   "metadata": {},
   "outputs": [],
   "source": [
    "# Проверим распределение категориальных признаков\n",
    "categorial = ['meal', 'distribution_channel', 'reserved_room_type', 'customer_type', 'country']\n",
    "dfs = [train_mod, test_mod]\n",
    "for df in dfs:\n",
    "    for column in categorial:\n",
    "        print(df[column].value_counts())\n"
   ]
  },
  {
   "cell_type": "code",
   "execution_count": 375,
   "id": "5d895567",
   "metadata": {},
   "outputs": [
    {
     "data": {},
     "metadata": {},
     "output_type": "display_data"
    }
   ],
   "source": [
    "countries_counts = pd.DataFrame(train_mod['country'].value_counts())\n",
    "display(countries_counts.describe())\n",
    "print(countries_counts.quantile(0.7)[0])\n",
    "print(countries_counts.quantile(0.8)[0])\n",
    "print(countries_counts.quantile(0.9)[0])"
   ]
  },
  {
   "cell_type": "code",
   "execution_count": 376,
   "id": "2dae93d0",
   "metadata": {},
   "outputs": [],
   "source": [
    "# На основании датасета train сформируем список стран, откуда было более 1000 гостей за все время\n",
    "# Заменим остальные страны на `other` в обоих датасетах\n",
    "main_countries = list(countries_counts.query('country > 1000').index)\n",
    "\n",
    "def replacer(country):\n",
    "    if country in main_countries:\n",
    "        new_country = country\n",
    "    else: \n",
    "        new_country = 'other'\n",
    "    return new_country\n",
    "\n",
    "train_mod['country'] = train_mod['country'].apply(replacer)\n",
    "test_mod['country'] = test_mod['country'].apply(replacer)\n",
    "\n",
    "# print(train_mod['country'].value_counts())\n",
    "# print(test_mod['country'].value_counts())"
   ]
  },
  {
   "cell_type": "markdown",
   "id": "ac2b93fc",
   "metadata": {},
   "source": [
    "#### Кодирование категориальных признаков\n",
    "Кодируем категориальные признаки техникой One-Hot Encoding, т.к. она подходит для всех моделей. Получившиеся датасеты содержат по 62 столбца. Датасеты готовы для обучения моделей."
   ]
  },
  {
   "cell_type": "code",
   "execution_count": 377,
   "id": "7a77e5c2",
   "metadata": {},
   "outputs": [],
   "source": [
    "# Проверили, что уникальное содержимое категориальных колонок совпадает\n",
    "for column in categorial:\n",
    "    print(sorted(train_mod[column].unique()))\n",
    "    print(sorted(test_mod[column].unique()))"
   ]
  },
  {
   "cell_type": "code",
   "execution_count": 378,
   "id": "272d429b",
   "metadata": {},
   "outputs": [
    {
     "data": {},
     "execution_count": 378,
     "metadata": {},
     "output_type": "execute_result"
    }
   ],
   "source": [
    "# Кодировали и проверили, что структура датасетов совпадает\n",
    "train_mod = pd.get_dummies(train_mod, drop_first=True)\n",
    "test_mod = pd.get_dummies(test_mod, drop_first=True)\n",
    "\n",
    "print(train_mod.columns)\n",
    "print(test_mod.columns)\n",
    "train_mod.columns == test_mod.columns"
   ]
  },
  {
   "cell_type": "markdown",
   "id": "1ecede95",
   "metadata": {},
   "source": [
    "### Вывод\n",
    "Датасеты подготовлены для обучения моделей: выбросы убраны, ошибочные данные удалены, категориальные признаки кодированы техникой OHE, численные признаки масштабированы, лишние столбцы удалены. \n",
    "\n",
    "Для обучения моделей будет использоваться датасет `train_mod` на 40 колонок и 64907 строк."
   ]
  },
  {
   "cell_type": "code",
   "execution_count": 379,
   "id": "bb61fde0",
   "metadata": {},
   "outputs": [],
   "source": [
    "print(train_mod.shape)\n",
    "print(test_mod.shape)"
   ]
  },
  {
   "cell_type": "markdown",
   "id": "4eed0237",
   "metadata": {},
   "source": [
    "## Построение моделей классификации разных типов и выбор лучшей модели\n",
    "\n",
    "### Целевая метрика\n",
    "Построим и обучим модели разных типов, сравним их и выберем лучшую модель. \n",
    "\n",
    "В качестве метрики для сравнения и выбора будем использовать F1-меру (англ. F1-score). Это среднее гармоническое полноты и точности, то есть она учитывает одновременно долю угаданных объектов положительного класса и долю истинно положительных объектов, среди определенных как положительные.\n",
    "\n",
    "### Определение целевого признака и других признаков\n",
    "Для этого выделим из датасетов целевой и обучающие признаки."
   ]
  },
  {
   "cell_type": "code",
   "execution_count": 380,
   "id": "8ad17309",
   "metadata": {},
   "outputs": [],
   "source": [
    "features_train_and_valid = train_mod.drop('is_canceled', axis=1)\n",
    "target_train_and_valid = train_mod['is_canceled']\n",
    "\n",
    "features_train, features_valid = train_test_split(features_train_and_valid, test_size=0.25, random_state=12345)\n",
    "target_train, target_valid = train_test_split(target_train_and_valid, test_size=0.25, random_state=12345)\n",
    "\n",
    "features_test = test_mod.drop('is_canceled', axis=1)\n",
    "target_test = test_mod['is_canceled']"
   ]
  },
  {
   "cell_type": "markdown",
   "id": "30a9259f",
   "metadata": {},
   "source": [
    "### Исследование баланса классов\n",
    "Проверим долю положительного класса в целевом признаке. Доля положительного класса 36.9%. Попробуем обучить модели без учета дисбаланса, затем проверим лучшую модель с учетом дисбаланса."
   ]
  },
  {
   "cell_type": "code",
   "execution_count": 382,
   "id": "f8b89b5c",
   "metadata": {},
   "outputs": [
    {
     "data": {},
     "execution_count": 382,
     "metadata": {},
     "output_type": "execute_result"
    }
   ],
   "source": [
    "train['is_canceled'].value_counts(normalize=True)"
   ]
  },
  {
   "cell_type": "markdown",
   "id": "1dfbbd29",
   "metadata": {},
   "source": [
    "### Общий комментарий к моделям\n",
    "Подбор гиперпараметров моделей проведен в больших циклах, которые выполняются довольно долго. Поэтому ячейки с циклами отформатированы как `raw`. Исполняемыми оставлены ячейки с инициализацией лучших моделей.\n",
    "\n",
    "Результаты работы всех моделей на тестовой выборке приведены в информационных целях. Выбор модели осуществлялся по результатам метрик на валидационной выборке и кросс-валидации."
   ]
  },
  {
   "cell_type": "markdown",
   "id": "fed9a1a5",
   "metadata": {},
   "source": [
    "### Решающее дерево\n",
    "#### Подбор гиперпараметров и выбор лучшей модели\n",
    "Построим модель решающего дерева. Поэкспериментируем с параметрами `depth`, `min_samples_leaf`, `min_samples_split`, `criterion`. \n",
    "\n",
    "Лучшая модель дерева имеет следующие параметры:\n",
    "> DecisionTreeClassifier(max_depth=17, min_samples_leaf=2, min_samples_split=6, random_state=12345)\n",
    "\n",
    "Ее метрики на валидационной выборке максимальные для всех моделей дерева: \n",
    "\n",
    "> Лучшее accuracy дерева на валидационной выборке: 0.8575830406113268\n",
    "\n",
    "> Лучшее f1_score дерева на валидационной выборке: 0.7998275118585597\n",
    "\n",
    "Средняя оценка f1 модели дерева на кросс-валидации: 0.4814870678603523. Если учесть для модели баланс классов, то показатель повышается: 0.49499849969535825\n",
    "\n",
    "Будем считать лучшей модель, учитывающую дисбаланс классов:\n",
    "> DecisionTreeClassifier(class_weight='balanced', max_depth=17, min_samples_leaf=2, min_samples_split=6,                                    random_state=12345)\n",
    "\n",
    "\n",
    "Посмотрим, какой результат покажет эта модель на тестовой выборке. \n",
    "\n",
    "> Accuracy_score решающего дерева на тестовой выборке: 0.7203844365214696\n",
    "\n",
    "> F1_score решающего дерева на тестовой выборке: 0.625876301489194"
   ]
  },
  {
   "cell_type": "raw",
   "id": "9f58633a",
   "metadata": {},
   "source": [
    "best_tree_model = None\n",
    "best_tree_accuracy_score_valid = 0\n",
    "best_tree_f1_score_valid = 0\n",
    "tree_models = []\n",
    "cycle_index = 0\n",
    "\n",
    "for this_criterion in [\"gini\", \"entropy\"]:\n",
    "    for depth in range(1, 30, 2):\n",
    "        for min_split in range(2, 15):\n",
    "            for min_leaf in range(2, 15):\n",
    "\n",
    "                print(cycle_index)\n",
    "                cycle_index += 1\n",
    "\n",
    "                model = DecisionTreeClassifier(\n",
    "                    criterion=this_criterion, \n",
    "                    max_depth=depth, \n",
    "                    min_samples_split=min_split, \n",
    "                    min_samples_leaf=min_leaf, \n",
    "                    random_state=12345)\n",
    "                model.fit(features_train, target_train)\n",
    "                predictions_valid = model.predict(features_valid)\n",
    "                tree_accuracy_score = accuracy_score(target_valid, predictions_valid)\n",
    "                tree_f1_score = f1_score(target_valid, predictions_valid)\n",
    "                tree_models.append([this_criterion, \n",
    "                                    depth, \n",
    "                                    min_split, \n",
    "                                    min_leaf, \n",
    "                                    tree_accuracy_score, \n",
    "                                    tree_f1_score])\n",
    "\n",
    "                if tree_accuracy_score > best_tree_accuracy_score_valid:\n",
    "                    best_tree_accuracy_score_valid = tree_accuracy_score\n",
    "                if tree_f1_score > best_tree_f1_score_valid:\n",
    "                    best_tree_f1_score_valid = tree_f1_score\n",
    "                \n",
    "print(\"Лучшее accuracy дерева на валидационной выборке:\", best_tree_accuracy_score_valid)\n",
    "print(\"Лучшее f1_score дерева на валидационной выборке:\", best_tree_f1_score_valid)"
   ]
  },
  {
   "cell_type": "raw",
   "id": "846760ca",
   "metadata": {},
   "source": [
    "# best_tree_accuracy_score_valid = 0.8575830406113268\n",
    "# best_tree_f1_score_valid = 0.7998275118585597\n",
    "tree_models = pd.DataFrame(tree_models, \n",
    "                           columns=['criterion', 'max_depth', 'min_samples_split', 'min_samples_leaf',\n",
    "                                   'accuracy_score', 'f1_score'])\n",
    "display(tree_models[tree_models['f1_score'] == tree_models['f1_score'].max()])\n"
   ]
  },
  {
   "cell_type": "code",
   "execution_count": 383,
   "id": "643aa88e",
   "metadata": {
    "scrolled": true
   },
   "outputs": [],
   "source": [
    "best_tree_model_not_balanced = DecisionTreeClassifier(\n",
    "                                        criterion=\"gini\", \n",
    "                                        max_depth=17, \n",
    "                                        min_samples_split=6, \n",
    "                                        min_samples_leaf=2, \n",
    "                                        random_state=12345)\n",
    "\n",
    "best_tree_model_balanced = DecisionTreeClassifier(\n",
    "                            criterion=\"gini\", \n",
    "                            max_depth=17,\n",
    "                            min_samples_split=6, \n",
    "                            min_samples_leaf=2, \n",
    "                            random_state=12345, \n",
    "                            class_weight='balanced')\n"
   ]
  },
  {
   "cell_type": "markdown",
   "id": "1ceda1f8",
   "metadata": {},
   "source": [
    "#### Проверка кросс-валидацией"
   ]
  },
  {
   "cell_type": "code",
   "execution_count": 384,
   "id": "0403d16a",
   "metadata": {},
   "outputs": [],
   "source": [
    "tree_scores = cross_val_score(\n",
    "    best_tree_model_not_balanced, features_train_and_valid, target_train_and_valid, cv=10, n_jobs=-1, scoring='f1')\n",
    "\n",
    "tree_mean_f1_score = pd.Series(tree_scores).mean()\n",
    "print('Средняя оценка f1 модели дерева на кросс-валидации (без учета баланса классов):', tree_mean_f1_score)"
   ]
  },
  {
   "cell_type": "code",
   "execution_count": 385,
   "id": "2c094839",
   "metadata": {},
   "outputs": [],
   "source": [
    "tree_scores = cross_val_score(\n",
    "    best_tree_model_balanced, features_train_and_valid, target_train_and_valid, cv=10, n_jobs=-1, scoring='f1')\n",
    "\n",
    "tree_mean_f1_score = pd.Series(tree_scores).mean()\n",
    "print('Средняя оценка f1 модели дерева на кросс-валидации (с учетом баланса классов):', tree_mean_f1_score)"
   ]
  },
  {
   "cell_type": "code",
   "execution_count": 386,
   "id": "2938764e",
   "metadata": {},
   "outputs": [],
   "source": [
    "best_tree_model = best_tree_model_balanced\n",
    "print(best_tree_model)"
   ]
  },
  {
   "cell_type": "markdown",
   "id": "bbcc5d75",
   "metadata": {},
   "source": [
    "#### Результаты на тестовой выборке"
   ]
  },
  {
   "cell_type": "code",
   "execution_count": 387,
   "id": "5e77a739",
   "metadata": {},
   "outputs": [],
   "source": [
    "best_tree_model.fit(features_train, target_train)\n",
    "tree_predictions_test = best_tree_model.predict(features_test)\n",
    "    \n",
    "tree_accuracy_score_test = best_tree_model.score(features_test, target_test)\n",
    "tree_f1_score_test = f1_score(target_test, tree_predictions_test)\n",
    "\n",
    "print(\"Accuracy_score решающего дерева на тестовой выборке:\", tree_accuracy_score_test)\n",
    "print(\"F1_score решающего дерева на тестовой выборке:\", tree_f1_score_test)"
   ]
  },
  {
   "cell_type": "markdown",
   "id": "73529057",
   "metadata": {},
   "source": [
    "### Логистическая регрессия \n",
    "#### Подбор гиперпараметров и выбор лучшей модели\n",
    "Обучим логистическую регрессию, выберем лучшую модель. Подберем гиперпараметры `solver` и `tolerance`.\n",
    "\n",
    "У всех обученных моделей одинаковый `f1_score = 0.7847` и максимальный `accuracy_score = 0.8015`.\n",
    "\n",
    "Лучше всего себя показала модель с параметрами:\n",
    "> LogisticRegression(random_state=12345, solver='liblinear', tol=1e-04)\n",
    "\n",
    "У нее максимальный `accuracy_score`.\n",
    "\n",
    "Средняя оценка f1 модели логистической регрессии на кросс-валидации (без учета баланса классов): 0.640393482282814. С учетом баланса классов f1 = 0.6516743285740092.\n",
    "\n",
    "Инициализируем лучшую модель регрессии:\n",
    "\n",
    "> LogisticRegression(class_weight='balanced', random_state=12345,\n",
    "                   solver='liblinear')\n",
    "\n",
    "Ее результаты на тестовой выборке:\n",
    "\n",
    "> Accuracy_score логистической регрессии на тестовой выборке: 0.7512013641295923\n",
    "\n",
    "> F1_score логистической регрессии на тестовой выборке: 0.672756188068344"
   ]
  },
  {
   "cell_type": "raw",
   "id": "8b818178",
   "metadata": {},
   "source": [
    "best_regression_accuracy_score_valid = 0\n",
    "best_regression_f1_score_valid = 0\n",
    "regression_models = []\n",
    "cycle_index = 0\n",
    "\n",
    "for this_solver in [\"newton-cg\", \"lbfgs\", \"liblinear\", \"sag\", \"saga\"]:\n",
    "    for this_degree in range(-6, -1):\n",
    "        \n",
    "        print(cycle_index)\n",
    "        cycle_index += 1\n",
    "        \n",
    "        regression_model = LogisticRegression(random_state=12345, solver=this_solver, tol=10**this_degree)\n",
    "        regression_model.fit(features_train, target_train)\n",
    "        predictions_valid = model.predict(features_valid)\n",
    "        \n",
    "        regression_accuracy_score = regression_model.score(features_valid, target_valid)\n",
    "        regression_f1_score = f1_score(target_valid, predictions_valid)\n",
    "        \n",
    "        regression_models.append([this_solver, \n",
    "                                  this_degree,\n",
    "                                  regression_accuracy_score, \n",
    "                                  regression_f1_score])\n",
    "                \n",
    "        if regression_accuracy_score > best_regression_accuracy_score_valid:\n",
    "                    best_regression_accuracy_score_valid = regression_accuracy_score\n",
    "        if regression_f1_score > best_regression_f1_score_valid:\n",
    "                    best_regression_f1_score_valid = regression_f1_score\n",
    "                    \n",
    "                    \n",
    "\n",
    "print(\"Лучшая accuracy логистической регрессии на валидационной выборке:\", best_regression_accuracy_score_valid)\n",
    "print(\"Лучший f1_score логистической регрессии на валидационной выборке:\", best_regression_f1_score_valid)"
   ]
  },
  {
   "cell_type": "raw",
   "id": "981165af",
   "metadata": {},
   "source": [
    "regression_models = pd.DataFrame(regression_models, \n",
    "                           columns=['solver', 'degree', 'accuracy_score', 'f1_score'])\n",
    "print(regression_models['f1_score'].unique())\n",
    "print(regression_models['accuracy_score'].unique())\n",
    "\n",
    "display(regression_models[regression_models['accuracy_score'] == regression_models['accuracy_score'].max()])\n"
   ]
  },
  {
   "cell_type": "code",
   "execution_count": 388,
   "id": "f9c911e7",
   "metadata": {},
   "outputs": [],
   "source": [
    "# Сохраним переменные доступными для вывода информации \n",
    "best_regression_f1_score_valid = 0.7847498\n",
    "best_regression_accuracy_score_valid = 0.80150367"
   ]
  },
  {
   "cell_type": "code",
   "execution_count": 389,
   "id": "8b262867",
   "metadata": {},
   "outputs": [],
   "source": [
    "best_regression_model_not_balanced = LogisticRegression(\n",
    "    random_state=12345, solver='liblinear', tol=10**(-4))\n",
    "\n",
    "best_regression_model_balanced = LogisticRegression(\n",
    "    random_state=12345, solver='liblinear', tol=10**(-4), class_weight='balanced')"
   ]
  },
  {
   "cell_type": "markdown",
   "id": "ace9fd31",
   "metadata": {},
   "source": [
    "### Проверка кросс-валидацией"
   ]
  },
  {
   "cell_type": "code",
   "execution_count": 390,
   "id": "c61a3b51",
   "metadata": {},
   "outputs": [],
   "source": [
    "regression_scores = cross_val_score(\n",
    "    best_regression_model_not_balanced, features_train_and_valid, target_train_and_valid, cv=10, n_jobs=-1, scoring='f1')\n",
    "\n",
    "regression_mean_f1_score = pd.Series(regression_scores).mean()\n",
    "print('Средняя оценка f1 модели логистической регрессии на кросс-валидации (без учета баланса классов):',\n",
    "      regression_mean_f1_score)"
   ]
  },
  {
   "cell_type": "code",
   "execution_count": 391,
   "id": "14cb40cb",
   "metadata": {},
   "outputs": [],
   "source": [
    "regression_scores = cross_val_score(\n",
    "    best_regression_model_balanced, features_train_and_valid, target_train_and_valid, cv=10, n_jobs=-1, scoring='f1')\n",
    "\n",
    "regression_mean_f1_score = pd.Series(regression_scores).mean()\n",
    "print('Средняя оценка f1 модели логистической регрессии на кросс-валидации (с учетом баланса классов):', \n",
    "      regression_mean_f1_score)"
   ]
  },
  {
   "cell_type": "code",
   "execution_count": 392,
   "id": "a919c6cc",
   "metadata": {},
   "outputs": [],
   "source": [
    "best_regression_model = best_regression_model_balanced\n",
    "print(best_regression_model)"
   ]
  },
  {
   "cell_type": "markdown",
   "id": "dcdd36d9",
   "metadata": {},
   "source": [
    "### Результаты на тестовой выборке"
   ]
  },
  {
   "cell_type": "code",
   "execution_count": 393,
   "id": "ea90fcd7",
   "metadata": {},
   "outputs": [],
   "source": [
    "best_regression_model.fit(features_train, target_train)\n",
    "regression_predictions_test = best_regression_model.predict(features_test)\n",
    "        \n",
    "regression_accuracy_score_test = best_regression_model.score(features_test, target_test)\n",
    "regression_f1_score_test = f1_score(target_test, regression_predictions_test)\n",
    "\n",
    "print(\"Accuracy_score логистической регрессии на тестовой выборке:\", regression_accuracy_score_test)\n",
    "print(\"F1_score логистической регрессии на тестовой выборке:\", regression_f1_score_test)"
   ]
  },
  {
   "cell_type": "markdown",
   "id": "da7c109f",
   "metadata": {},
   "source": [
    "### Решающий лес\n",
    "#### Подбор гиперпараметров и выбор лучшей модели\n",
    "Обучим модель решающего леса, подберем гиперпараметры `max_depth`, `n_estimators`, `min_samples_split`, `min_samples_leaf`, `criterion`.\n",
    "\n",
    "Подбор метрик осуществим двумя способами: перебором в цикле и с помощью HalvingGridSearch. Результаты сравним, выберем лучший. \n",
    "\n",
    "**Для моделей, обученных в цикле**:\n",
    "\n",
    "Максимальные метрики на валидационной выборке: `accuracy_score = 0.8862`, `f1_score = 0.8361`.\n",
    "\n",
    "Средняя оценка f1 модели леса на кросс-валидации (без учета баланса классов): 0.5147047721906172\n",
    "\n",
    "Средняя оценка f1 модели леса на кросс-валидации (с учетом баланса классов): 0.5209048098600645\n",
    "\n",
    "**Для моделей, подобранных через HalvingGridSearch**:\n",
    "\n",
    "Максимальный f1_score = 0.8245434500420007 при подборе с `search().fit(features_train, target_train)`\n",
    "\n",
    "Средняя оценка f1 модели леса на кросс-валидации (без учета баланса классов): 0.5195955962183829\n",
    "\n",
    "Средняя оценка f1 модели леса на кросс-валидации (с учетом баланса классов): 0.5296411232235293\n",
    "\n",
    "\n",
    "Признаем лучшей модель, найденную с помощью HalvingGridSearch и учитывающую дисбаланс классов, и инициализируем модель best_forest_model, указав для нее следующие параметры:\n",
    "\n",
    "> RandomForestClassifier(class_weight='balanced', max_depth=26, n_estimators=27,\n",
    "                       n_jobs=-1, random_state=12345)\n",
    "\n",
    "Результат модели на тестовой выборке.\n",
    "\n",
    "> Accuracy_score случайного леса на тестовой выборке: 0.7466129282281817\n",
    "\n",
    "> F1_score случайного леса на тестовой выборке: 0.6072372531116343"
   ]
  },
  {
   "cell_type": "raw",
   "id": "840b1ce8",
   "metadata": {},
   "source": [
    "# Попробуем подобрать с помощью HalvingGridSearch\n",
    "from sklearn.experimental import enable_halving_search_cv  # noqa\n",
    "from sklearn.model_selection import HalvingGridSearchCV\n",
    "\n",
    "model = RandomForestClassifier(random_state=12345)\n",
    "\n",
    "param_grid = {'max_depth': range(2, 60),\n",
    "             'min_samples_split': range(2, 6),\n",
    "             'min_samples_leaf': range(1, 6)}\n",
    "search = HalvingGridSearchCV(model, \n",
    "                            param_grid, \n",
    "                            resource='n_estimators',\n",
    "                            max_resources=60,\n",
    "                            scoring='f1',\n",
    "                            random_state=0,\n",
    "                            n_jobs=-1).fit(features_train, target_train)\n",
    "\n",
    "print(search.best_params_)\n",
    "print(search.best_score_)\n",
    "# Output:\n",
    "# {'max_depth': 26, 'min_samples_leaf': 1, 'min_samples_split': 2, 'n_estimators': 27}\n",
    "# 0.8245434500420007"
   ]
  },
  {
   "cell_type": "raw",
   "id": "18a8c96c",
   "metadata": {},
   "source": [
    "# Альтернативный код, не учитывающий подбор критерия. Работает тоже очень медленно.\n",
    "forest_model = RandomForestClassifier()\n",
    "\n",
    "parametrs = { 'n_estimators': range (10, 61, 5),\n",
    "              'max_depth': range (2, 30, 2),\n",
    "              'min_samples_leaf': range (1, 8),\n",
    "              'min_samples_split': range (2, 10, 2) }\n",
    "\n",
    "grid = GridSearchCV(forest_model, parametrs, cv=5)\n",
    "grid.fit(features_train, target_train)\n",
    "\n",
    "grid.best_params_"
   ]
  },
  {
   "cell_type": "raw",
   "id": "ac3107e7",
   "metadata": {},
   "source": [
    "best_forest_accuracy_score_valid = 0\n",
    "best_forest_f1_score_valid = 0\n",
    "forest_models = []\n",
    "cycle_index = 0\n",
    "\n",
    "\n",
    "for this_criterion in ['gini', 'entropy']:\n",
    "    for estimators in range(2, 60, 5):\n",
    "        for depth in range(2, 30):\n",
    "            for min_split in range(2, 5):\n",
    "                for min_leaf in range(1, 5):\n",
    "                    \n",
    "                    print(cycle_index)\n",
    "                    cycle_index += 1\n",
    "                    \n",
    "                    model = RandomForestClassifier(\n",
    "                        random_state=12345, \n",
    "                        criterion=this_criterion,\n",
    "                        n_estimators=estimators, \n",
    "                        max_depth=depth, \n",
    "                        min_samples_split=min_split, \n",
    "                        min_samples_leaf=min_leaf,\n",
    "                        n_jobs=-1)\n",
    "                    \n",
    "                    model.fit(features_train, target_train)\n",
    "                    predictions_valid = model.predict(features_valid)\n",
    "                    forest_accuracy_score = model.score(features_valid, target_valid)\n",
    "                    forest_f1_score = f1_score(target_valid, predictions_valid)\n",
    "\n",
    "                    forest_models.append([this_criterion, \n",
    "                                          estimators,\n",
    "                                          depth,\n",
    "                                          min_split,\n",
    "                                          min_leaf,\n",
    "                                          forest_accuracy_score, \n",
    "                                          forest_f1_score])\n",
    "\n",
    "                    if forest_accuracy_score > best_forest_accuracy_score_valid:\n",
    "                        best_forest_accuracy_score_valid = forest_accuracy_score\n",
    "                    if forest_f1_score > best_forest_f1_score_valid:\n",
    "                        best_forest_f1_score_valid = forest_f1_score\n",
    "                    \n",
    "print(\"Лучший accuracy_score леса на валидационной выборке:\", best_forest_accuracy_score_valid)\n",
    "print(\"Лучший f1_score леса на валидационной выборке:\", best_forest_f1_score_valid)"
   ]
  },
  {
   "cell_type": "raw",
   "id": "52d2b10d",
   "metadata": {},
   "source": [
    "forest_models = pd.DataFrame(forest_models, \n",
    "                           columns=['criterion', 'estimators', 'depth', \n",
    "                                    'min_sample_split', 'min_sample_leaf', \n",
    "                                    'accuracy_score', 'f1_score'])\n",
    "\n",
    "\n",
    "display(forest_models[forest_models['accuracy_score'] == forest_models['accuracy_score'].max()])\n",
    "display(forest_models[forest_models['f1_score'] == forest_models['f1_score'].max()])\n",
    "\n"
   ]
  },
  {
   "cell_type": "code",
   "execution_count": 394,
   "id": "dbde1407",
   "metadata": {},
   "outputs": [],
   "source": [
    "halving_forest_model_balanced = RandomForestClassifier(random_state=12345, \n",
    "                                    criterion='gini',\n",
    "                                    n_estimators=27, \n",
    "                                    max_depth=26, \n",
    "                                    min_samples_split=2, \n",
    "                                    min_samples_leaf=1,\n",
    "                                    n_jobs=-1,\n",
    "                                    class_weight='balanced')\n",
    "                \n",
    "halving_forest_model_not_balanced = RandomForestClassifier(random_state=12345, \n",
    "                                    criterion='gini',\n",
    "                                    n_estimators=27, \n",
    "                                    max_depth=26, \n",
    "                                    min_samples_split=2, \n",
    "                                    min_samples_leaf=1,\n",
    "                                    n_jobs=-1)"
   ]
  },
  {
   "cell_type": "code",
   "execution_count": 395,
   "id": "f44f06df",
   "metadata": {},
   "outputs": [],
   "source": [
    "cycle_found_forest_model_balanced = RandomForestClassifier(random_state=12345, \n",
    "                                    criterion='gini',\n",
    "                                    n_estimators=57, \n",
    "                                    max_depth=29, \n",
    "                                    min_samples_split=2, \n",
    "                                    min_samples_leaf=1,\n",
    "                                    n_jobs=-1,\n",
    "                                    class_weight='balanced')\n",
    "                \n",
    "cycle_found_forest_model_not_balanced = RandomForestClassifier(random_state=12345, \n",
    "                                    criterion='gini',\n",
    "                                    n_estimators=57, \n",
    "                                    max_depth=29, \n",
    "                                    min_samples_split=2, \n",
    "                                    min_samples_leaf=1,\n",
    "                                    n_jobs=-1)"
   ]
  },
  {
   "cell_type": "markdown",
   "id": "61919bd1",
   "metadata": {},
   "source": [
    "#### Проверка кросс-валидацией"
   ]
  },
  {
   "cell_type": "code",
   "execution_count": 396,
   "id": "3c270f63",
   "metadata": {},
   "outputs": [],
   "source": [
    "forest_scores = cross_val_score(\n",
    "    halving_forest_model_not_balanced, features_train_and_valid, target_train_and_valid, cv=10, n_jobs=-1, scoring='f1')\n",
    "\n",
    "forest_mean_f1_score = pd.Series(forest_scores).mean()\n",
    "print('Средняя оценка f1 модели леса на кросс-валидации (без учета баланса классов):', forest_mean_f1_score)"
   ]
  },
  {
   "cell_type": "code",
   "execution_count": 397,
   "id": "dd7e74cc",
   "metadata": {},
   "outputs": [],
   "source": [
    "forest_scores = cross_val_score(\n",
    "    halving_forest_model_balanced, features_train_and_valid, target_train_and_valid, cv=10, n_jobs=-1, scoring='f1')\n",
    "\n",
    "forest_mean_f1_score = pd.Series(forest_scores).mean()\n",
    "print('Средняя оценка f1 модели леса на кросс-валидации (с учетом баланса классов):', forest_mean_f1_score)"
   ]
  },
  {
   "cell_type": "code",
   "execution_count": 398,
   "id": "067e1b9d",
   "metadata": {},
   "outputs": [],
   "source": [
    "forest_scores = cross_val_score(\n",
    "    cycle_found_forest_model_not_balanced, features_train_and_valid, target_train_and_valid, cv=10, n_jobs=-1, scoring='f1')\n",
    "\n",
    "forest_mean_f1_score = pd.Series(forest_scores).mean()\n",
    "print('Средняя оценка f1 модели леса на кросс-валидации (без учета баланса классов):', forest_mean_f1_score)"
   ]
  },
  {
   "cell_type": "code",
   "execution_count": 399,
   "id": "86ca5145",
   "metadata": {
    "scrolled": true
   },
   "outputs": [],
   "source": [
    "forest_scores = cross_val_score(\n",
    "    cycle_found_forest_model_balanced, features_train_and_valid, target_train_and_valid, cv=10, n_jobs=-1, scoring='f1')\n",
    "\n",
    "forest_mean_f1_score = pd.Series(forest_scores).mean()\n",
    "print('Средняя оценка f1 модели леса на кросс-валидации (с учетом баланса классов):', forest_mean_f1_score)"
   ]
  },
  {
   "cell_type": "code",
   "execution_count": 400,
   "id": "c65e5903",
   "metadata": {},
   "outputs": [],
   "source": [
    "best_forest_model = halving_forest_model_balanced\n",
    "print(best_forest_model)"
   ]
  },
  {
   "cell_type": "markdown",
   "id": "12f1542e",
   "metadata": {},
   "source": [
    "#### Результат на тестовой выборке"
   ]
  },
  {
   "cell_type": "code",
   "execution_count": 401,
   "id": "67279504",
   "metadata": {},
   "outputs": [],
   "source": [
    "best_forest_model.fit(features_train, target_train)\n",
    "forest_predictions_test = best_forest_model.predict(features_test)\n",
    "        \n",
    "forest_accuracy_score_test = best_forest_model.score(features_test, target_test)\n",
    "forest_f1_score_test = f1_score(target_test, forest_predictions_test)\n",
    "\n",
    "print(\"Accuracy_score случайного леса на тестовой выборке:\", forest_accuracy_score_test)\n",
    "print(\"F1_score случайного леса на тестовой выборке:\", forest_f1_score_test)"
   ]
  },
  {
   "cell_type": "markdown",
   "id": "b16cc998",
   "metadata": {},
   "source": [
    "### Выбор лучшей модели\n",
    "Лучшие метрики качества на тестовой выборке показала модель логистической регрессии. \n",
    "\n",
    "Целевая метрика - `f1_score`. На кросс-валидации для регрессии `f1_score = 0.6516743285740092`. \n",
    "\n",
    "Дальше будем работать с моделью регрессии. Ее параметры:\n",
    "> LogisticRegression(class_weight='balanced', random_state=12345, solver='liblinear')\n",
    "\n",
    "На тестовой выборке для регрессии `f1_score = 0.6728`, `accuracy = 0.7512`.\n"
   ]
  },
  {
   "cell_type": "code",
   "execution_count": 402,
   "id": "46d10195",
   "metadata": {},
   "outputs": [
    {
     "data": {},
     "execution_count": 402,
     "metadata": {},
     "output_type": "execute_result"
    }
   ],
   "source": [
    "best_test_metrics = pd.DataFrame(\n",
    "    [['tree', tree_mean_f1_score, tree_accuracy_score_test, tree_f1_score_test], \n",
    "     ['regression', regression_mean_f1_score, regression_accuracy_score_test, regression_f1_score_test],\n",
    "     ['forest', forest_mean_f1_score, forest_accuracy_score_test, forest_f1_score_test]\n",
    "    ], columns=['model', 'cross_val_f1_score', 'test_accuracy_score', 'test_f1_score'])\n",
    "\n",
    "best_test_metrics"
   ]
  },
  {
   "cell_type": "markdown",
   "id": "c69bd987",
   "metadata": {},
   "source": [
    "## Оценка прибыли от внедрения модели\n",
    "\n",
    "Оценим предполагаемую прибыль от внедрения лучшей из полученных моделей - модели логистической регресии. \n",
    "\n",
    "Прибыль - это стоимость ночей минус стоимость уборки. Если клиент не приезжает, считаем что убыток (отрицательная прибыль) будет равна стоимости одной уборки. Уборка происходит при въезде клиента в номер и далее каждый второй день.\n",
    "\n",
    "Без внедрения депозитов предполагаемая прибыль отеля за год составила примерно 72_011_745 рублей.\n",
    "\n",
    "После внедрения депозитов предполагаемая прибыль отеля за год составит примерно 85_923_717 рублей.\n",
    "\n",
    "Предполагаемая выгода от внедрения: 13_911_972 рублей. \n",
    "\n",
    "Доля ложно положительных предсказаний 12 %. Это означает, что в 12 % случаев неверное предсказание модели и, как следствие, предложение внести депозит может спровоцировать уход клиента. Эта доля представляется приемлемой.\n",
    "\n",
    "Бюджет на разработку модели - 400_000 рублей. Это означает, что модель должна окупиться в течение года."
   ]
  },
  {
   "cell_type": "code",
   "execution_count": 403,
   "id": "380374a1",
   "metadata": {},
   "outputs": [],
   "source": [
    "def client_profit_without_deposits(row):\n",
    "    if int(row['is_canceled']) == 0:\n",
    "        revenue = row['night_price']* row['total_nights'] * row['season_coefficient']\n",
    "        expences = row['cleaning_price'] * math.ceil(row['total_nights'] / 2)\n",
    "    else: \n",
    "        revenue = 0\n",
    "        expences = row['cleaning_price']\n",
    "        \n",
    "    profit = revenue - expences\n",
    "    return profit\n",
    "\n",
    "def client_profit_after_deposits(row):\n",
    "    if int(row['is_canceled']) == 0:\n",
    "        revenue = row['night_price'] * row['total_nights'] * row['season_coefficient']\n",
    "        expences = row['cleaning_price'] * math.ceil(row['total_nights'] / 2)\n",
    "    else: \n",
    "        revenue = ((row['night_price'] * row['season_coefficient'] + row['cleaning_price']) * \n",
    "                   row['is_predicted_canceled'] * 0.8)\n",
    "        expences = row['cleaning_price']\n",
    "        \n",
    "    profit = revenue - expences\n",
    "    return profit"
   ]
  },
  {
   "cell_type": "code",
   "execution_count": 404,
   "id": "a266b74f",
   "metadata": {},
   "outputs": [],
   "source": [
    "# Определим константы\n",
    "MODEL_BUDGET = 400_000 # рублей\n",
    "\n",
    "NIGHT_PRICES = {\"A\": 1000, \"B\": 800, \"C\": 600, \"D\": 550, \"E\": 500, \"F\": 450, \"G\": 350}\n",
    "CLEANING_PRICES = {\"A\": 400, \"B\": 350, \"C\": 350, \"D\": 150, \"E\": 150, \"F\": 150, \"G\": 150}\n",
    "SEASON_COEFFICIENTS = {\"December\": 1, \"January\": 1, \"February\": 1, \n",
    "                       \"March\": 1.2, \"April\": 1.2, \"May\": 1.2,\n",
    "                      \"June\": 1.4, \"July\": 1.4, \"August\": 1.4,\n",
    "                      \"September\": 1.2, \"October\": 1.2, \"November\": 1.2}\n",
    "\n",
    "# Внесем в исходный датасет test информацию о ценах на номер, уборку и сезонные коэффициенты\n",
    "test['night_price'] = test['reserved_room_type'].map(NIGHT_PRICES)\n",
    "test['cleaning_price'] = train['reserved_room_type'].map(CLEANING_PRICES)\n",
    "test['season_coefficient'] = train['arrival_date_month'].map(SEASON_COEFFICIENTS)\n",
    "print(test['arrival_date_year'].unique())\n",
    "print(test['arrival_date_month'].unique())"
   ]
  },
  {
   "cell_type": "code",
   "execution_count": 405,
   "id": "d1298b62",
   "metadata": {},
   "outputs": [
    {
     "data": {},
     "execution_count": 405,
     "metadata": {},
     "output_type": "execute_result"
    }
   ],
   "source": [
    "# Добавим в датасет test предсказания модели\n",
    "predictions = best_regression_model.predict(features_test)\n",
    "test['is_predicted_canceled'] = predictions\n",
    "test.head()"
   ]
  },
  {
   "cell_type": "code",
   "execution_count": 406,
   "id": "4895f4f9",
   "metadata": {},
   "outputs": [],
   "source": [
    "profits_without_deposits = test.apply(client_profit_without_deposits, axis=1).sum()\n",
    "profits_after_deposits = test.apply(client_profit_after_deposits, axis=1).sum()\n",
    "print('Без внедрения депозитов предполагаемая прибыль отеля за год составила', \n",
    "      round(profits_without_deposits * 1.5))\n",
    "print('После внедрения депозитов предполагаемая прибыль отеля за год составит', \n",
    "      round(profits_after_deposits * 1.5))\n",
    "print('Предполагаемая выгода от внедрения:', \n",
    "      round((profits_after_deposits - profits_without_deposits) * 1.5))\n",
    "\n",
    "false_positive_predictions_percent = test.query(\n",
    "    'is_predicted_canceled == 1 & is_canceled == 0')['id'].count() / len(test) * 100\n",
    "print('Доля ложно положительных предсказаний', round(false_positive_predictions_percent), '%')\n"
   ]
  },
  {
   "cell_type": "markdown",
   "id": "54b526c0",
   "metadata": {},
   "source": [
    "## Исследование особенностей \"ненадежного клиента\"\n",
    "\n",
    "Для минимизации убытков отеля важно понимать, какие именно клиенты склонны к отказу от брони. Проведем анализ данных и проясним портрет \"ненадежного клиента\". Исследование проведем на датасете `test`.\n",
    "\n",
    "**Вывод**\n",
    "\n",
    "По результатам анализа можно заключить следующее. Общая доля отказов от брони среди клиентов отеля 38.94 %.\n",
    "\n",
    "К отказу от брони наиболее склонны клиенты из Португалии (60 % отказов), Бразилии (45 % отказов) и Италии (43 % отказов). Процент отказа по остальным странам существенно ниже и составляет 23 - 33 %.\n",
    "\n",
    "Из новых клиентов (тех, кто не имел ранее успешных бронирований) от брони отказываются 40 %. Процент отказов среди клиентов, ранее пользовавшихся услугами отеля, значительно ниже и составляет менее 5 %.\n",
    "\n",
    "Наличие детей не влияет на надежность клиента: клиенты с детьми и без детей склонны к отказу от брони примерно одинаково. Зато наличие младенца понижает риск отказа: доля отказов по всем клиентам с младенцами (неважно, есть ли еще дети) 13.29 %. А общая доля отказов по всем клиентам без любых детей и младенцев 39.02 % - как в среднем по датасету.\n",
    "\n",
    "Процент отказов мало зависит от типа забронированного номера, но по номерам категории D, E, F процент отказов несколько ниже, чем средний, и составляет 33 - 35 %, в то время как самый высокий процент отказа в категории C - 45 % броней отменяются.\n",
    "\n",
    "\n",
    "\n"
   ]
  },
  {
   "cell_type": "code",
   "execution_count": 407,
   "id": "72bafb13",
   "metadata": {},
   "outputs": [],
   "source": [
    "all_clients_cancel_share = round((test.query('is_canceled == 1')['id'].count() / test['id'].count() * 100), 2)\n",
    "print('Общая доля отказов от брони среди клиентов отеля', all_clients_cancel_share, '%.')"
   ]
  },
  {
   "cell_type": "code",
   "execution_count": 408,
   "id": "384b4e67",
   "metadata": {},
   "outputs": [
    {
     "data": {},
     "execution_count": 408,
     "metadata": {},
     "output_type": "execute_result"
    },
    {
     "data": {
      "image/png": "[encoded data removed]"
     },
     "metadata": {
      "needs_background": "light"
     },
     "output_type": "display_data"
    }
   ],
   "source": [
    "# Проверим зависимость вероятности отказа от страны клиента \n",
    "test['country'] = test['country'].apply(replacer)\n",
    "test.query('is_canceled == 1').groupby('country')['id'].count()\n",
    "countries = test['country'].unique()\n",
    "country_cancel_shares = []\n",
    "\n",
    "for country in countries:\n",
    "    country_count = int(test.query('country == @country')['id'].count())\n",
    "    country_cancel_count = int(test.query('country == @country & is_canceled == 1')['id'].count())\n",
    "    country_cancel_share = round(country_cancel_count / country_count * 100)\n",
    "    country_cancel_shares.append([country, country_cancel_share])\n",
    "    \n",
    "print(country_cancel_shares)\n",
    "    \n",
    "country_cancel_shares = pd.DataFrame(country_cancel_shares, columns=['country', 'percent'])\n",
    "\n",
    "ax = country_cancel_shares.plot(kind='bar', x='country', figsize=(9, 9), grid=True)\n",
    "ax.set_title('Процент отказа среди клиентов из разных стран')\n",
    "ax.set_xlabel('Страны')\n",
    "ax.set_ylabel('Процент отказов')"
   ]
  },
  {
   "cell_type": "code",
   "execution_count": 409,
   "id": "e4b26959",
   "metadata": {},
   "outputs": [
    {
     "data": {},
     "metadata": {},
     "output_type": "display_data"
    },
    {
     "data": {
      "image/png": "[encoded data removed]"
     },
     "metadata": {
      "needs_background": "light"
     },
     "output_type": "display_data"
    }
   ],
   "source": [
    "new_clients_cancel_percent = []\n",
    "previous_cancellations = test['previous_cancellations'].unique()\n",
    "for number in previous_cancellations:\n",
    "    clients_count = int(test.query(\n",
    "        'previous_cancellations == @number & previous_bookings_not_canceled == 0')['id'].count())\n",
    "    clients_cancel_count = int(test.query(\n",
    "        'previous_cancellations == @number & is_canceled == 1 & previous_bookings_not_canceled == 0')['id'].count())\n",
    "    if clients_count != 0:\n",
    "        clients_cancel_percent = round(clients_cancel_count / clients_count * 100)\n",
    "        new_clients_cancel_percent.append([number, clients_cancel_percent, clients_count])\n",
    "\n",
    "new_clients_cancel_percent = pd.DataFrame(\n",
    "    new_clients_cancel_percent, columns=['previous_cancellations', 'percent', 'clients_count'])\n",
    "display(new_clients_cancel_percent)\n",
    "\n",
    "ax = new_clients_cancel_percent.plot(\n",
    "    kind='bar', x='previous_cancellations', y='percent', figsize=(6, 6), grid=True)\n",
    "ax.set_title('Процент отказа среди клиентов без успешных предыдущих бронирований')\n",
    "ax.set_xlabel('Количество предыдущих отмен')\n",
    "ax.set_ylabel('Процент отказов')\n",
    "\n",
    "cancel_share_for_all_new_clients = round((\n",
    "    test.query('previous_bookings_not_canceled == 0 & is_canceled == 1')['id'].count() / \n",
    "    test.query('previous_bookings_not_canceled == 0')['id'].count() * 100), 2)\n",
    "\n",
    "print('Общая доля отказов по всем клиентам, ранее не пользовавшихся услугами отеля', \n",
    "      cancel_share_for_all_new_clients, '%.')"
   ]
  },
  {
   "cell_type": "code",
   "execution_count": 410,
   "id": "db15dd37",
   "metadata": {},
   "outputs": [
    {
     "data": {
      "image/png": "[encoded data removed]"
     },
     "metadata": {
      "needs_background": "light"
     },
     "output_type": "display_data"
    }
   ],
   "source": [
    "# Проверим процент отказов среди клиентов, ранее пользовавшихся услугами отеля\n",
    "\n",
    "test.loc[test['previous_bookings_not_canceled'] > 20, 'successful_bookings'] = 21\n",
    "test['successful_bookings'] = test['successful_bookings'].fillna(test['previous_bookings_not_canceled'])\n",
    "\n",
    "repeated_clients_cancel_percent = []\n",
    "\n",
    "successful_bookings = sorted(test.query(\n",
    "    'previous_bookings_not_canceled > 0')['successful_bookings'].unique())\n",
    "\n",
    "for value in successful_bookings:\n",
    "    clients_count = int(test.query(\n",
    "        'successful_bookings == @value')['id'].count())\n",
    "    clients_cancel_count = int(test.query(\n",
    "        'is_canceled == 1 & successful_bookings == @value')['id'].count())\n",
    "    if clients_count != 0:\n",
    "        clients_cancel_percent = round(clients_cancel_count / clients_count * 100)\n",
    "        repeated_clients_cancel_percent.append([value, clients_cancel_percent, clients_count])\n",
    "\n",
    "repeated_clients_cancel_percent = pd.DataFrame(\n",
    "    repeated_clients_cancel_percent, columns=['successful_bookings', 'percent', 'clients_count'])\n",
    "repeated_clients_cancel_percent.loc[\n",
    "    repeated_clients_cancel_percent['successful_bookings'] == 21, 'successful_bookings'] = '> 21'\n",
    "\n",
    "# display(repeated_clients_cancel_percent)\n",
    "\n",
    "ax = repeated_clients_cancel_percent.plot(\n",
    "    kind='bar', x='successful_bookings', y='percent', figsize=(9, 9), grid=True)\n",
    "ax.set_title('Процент отказа среди клиентов, уже пользовавшихся услугами отеля')\n",
    "ax.set_xlabel('Количество успешных броней')\n",
    "ax.set_ylabel('Процент отказов')\n",
    "\n",
    "cancel_share_for_all_repeated_clients = round((\n",
    "    test.query('previous_bookings_not_canceled > 0 & is_canceled == 1')['id'].count() / \n",
    "    test.query('previous_bookings_not_canceled > 0')['id'].count() * 100), 2)\n",
    "\n",
    "print('Общая доля отказов по всем клиентам, ранее пользовавшихся услугами отеля', cancel_share_for_all_repeated_clients, '%.')"
   ]
  },
  {
   "cell_type": "code",
   "execution_count": 411,
   "id": "e7d5b7c0",
   "metadata": {},
   "outputs": [
    {
     "data": {},
     "metadata": {},
     "output_type": "display_data"
    },
    {
     "data": {},
     "execution_count": 411,
     "metadata": {},
     "output_type": "execute_result"
    },
    {
     "data": {
      "image/png": "[encoded data removed]"
     },
     "metadata": {
      "needs_background": "light"
     },
     "output_type": "display_data"
    }
   ],
   "source": [
    "room_type_cancel_percent = []\n",
    "room_types = test['reserved_room_type'].unique()\n",
    "for value in room_types:\n",
    "    clients_count = int(test.query('reserved_room_type == @value')['id'].count())\n",
    "    clients_cancel_count = int(test.query(\n",
    "        'reserved_room_type == @value & is_canceled == 1')['id'].count())\n",
    "    if clients_count != 0:\n",
    "        clients_cancel_percent = round(clients_cancel_count / clients_count * 100)\n",
    "        room_type_cancel_percent.append([value, clients_cancel_percent, clients_count])\n",
    "\n",
    "room_type_cancel_percent = pd.DataFrame(\n",
    "    room_type_cancel_percent, columns=['room_type', 'percent', 'clients_count'])\n",
    "display(room_type_cancel_percent)\n",
    "\n",
    "ax = room_type_cancel_percent.plot(\n",
    "    kind='bar', x='room_type', y='percent', figsize=(6, 6), grid=True)\n",
    "ax.set_title('Процент отказа в зависимости от выбранного типа номера')\n",
    "ax.set_xlabel('Тип номера')\n",
    "ax.set_ylabel('Процент отказов')"
   ]
  },
  {
   "cell_type": "code",
   "execution_count": 412,
   "id": "67b4b58c",
   "metadata": {},
   "outputs": [],
   "source": [
    "cancel_share_for_clients_with_children_or_babies = round((\n",
    "    test.query('(children > 0 | babies > 0) & is_canceled == 1')['id'].count() / \n",
    "    test.query('children > 0 | babies > 0')['id'].count() * 100), 2)\n",
    "\n",
    "cancel_share_for_clients_with_both_children_or_babies = round((\n",
    "    test.query('(children > 0 & babies > 0) & is_canceled == 1')['id'].count() / \n",
    "    test.query('children > 0 & babies > 0')['id'].count() * 100), 2)\n",
    "\n",
    "cancel_share_for_clients_with_children_no_babies = round((\n",
    "    test.query('children > 0 & babies == 0 & is_canceled == 1')['id'].count() / \n",
    "    test.query('children > 0 & babies == 0')['id'].count() * 100), 2)\n",
    "\n",
    "cancel_share_for_clients_with_babies_no_children = round((\n",
    "    test.query('children == 0 & babies > 0 & is_canceled == 1')['id'].count() / \n",
    "    test.query('children == 0 & babies > 0')['id'].count() * 100), 2)\n",
    "\n",
    "cancel_share_for_clients_without_children_and_babies = round((\n",
    "    test.query('children == 0 & babies == 0 & is_canceled == 1')['id'].count() / \n",
    "    test.query('children == 0 & babies == 0')['id'].count() * 100), 2)\n",
    "\n",
    "cancel_share_for_clients_with_babies = round((\n",
    "    test.query('babies > 0 & is_canceled == 1')['id'].count() / \n",
    "    test.query('babies > 0')['id'].count() * 100), 2)\n",
    "\n",
    "\n",
    "print('Общая доля отказов по всем клиентам c детьми или младенцами', \n",
    "      cancel_share_for_clients_with_children_or_babies, '%.')\n",
    "print('Общая доля отказов по всем клиентам c детьми и младенцами одновременно', \n",
    "      cancel_share_for_clients_with_both_children_or_babies, '%.')\n",
    "print('Общая доля отказов по всем клиентам c детьми, но без младенцев', \n",
    "      cancel_share_for_clients_with_children_no_babies, '%.')\n",
    "print('Общая доля отказов по всем клиентам c младенцами, но без детей старше трех лет', \n",
    "      cancel_share_for_clients_with_babies_no_children, '%.')\n",
    "print('Общая доля отказов по всем клиентам с младенцами (неважно, есть ли еще дети)', \n",
    "      cancel_share_for_clients_with_babies, '%.')\n",
    "print('Общая доля отказов по всем клиентам без любых детей и младенцев', \n",
    "      cancel_share_for_clients_without_children_and_babies, '%.')\n",
    "\n"
   ]
  },
  {
   "cell_type": "markdown",
   "id": "3c4f9ce6",
   "metadata": {},
   "source": [
    "## Вывод\n",
    "\n",
    "### Подготовка данных\n",
    "В ходе решения задачи построения модели, предсказывающей отказ клиента от брони отеля, были импортированы датасеты, данные проверены и очищены от выбросов и ошибок. На основании очищенных данных были сформированы обучающий и проверочный датасеты: категориальные признаки были кодированы, численные масштабированы, произведена проверка баланса классов. \n",
    "\n",
    "Размер обучающего датасета 64907 строки, 40 колонок. Размер проверочного датасета 32255 строк, 40 колонок.\n",
    "\n",
    "### Признаки \"ненадежного\" клиента\n",
    "На основании исследовательского анализа данных тестового датасета был составлен портрет клиента, склонного к отказу от брони. \n",
    "\n",
    "Общая доля отказов от брони среди клиентов отеля 38.94 %.\n",
    "\n",
    "К отказу от брони наиболее склонны клиенты из Португалии (60 % отказов), Бразилии (45 % отказов) и Италии (43 % отказов). Процент отказа по остальным странам существенно ниже и составляет 23 - 33 %.\n",
    "\n",
    "Из новых клиентов от брони отказываются 40 %. Процент отказов среди клиентов, ранее пользовавшихся услугами отеля, значительно ниже и составляет менее 5 %.\n",
    "\n",
    "Наличие детей не влияет на надежность клиента: клиенты с детьми и без детей склонны к отказу от брони примерно одинаково. Зато наличие младенца понижает риск отказа: доля отказов по всем клиентам с младенцами (неважно, есть ли еще дети) 13.29 %. \n",
    "\n",
    "Процент отказов мало зависит от типа забронированного номера, но по номерам категории D, E, F процент отказов несколько ниже, чем средний, и составляет 33 - 35 %, в то время как самый высокий процент отказа в категории C - 45 % броней отменяются.\n",
    "\n",
    "### Обучение и выбор моделей\n",
    "На основании сформированных датасетов были обучены три вида моделей: решающее дерево, логистическая регрессия и случайный лес. На валидационной выборке, выделенной из обучающего датасета подобраны гиперпараметры. Модели были оценены кросс-валидацией, лучшей по метрике F1-score признана модель логистической регрессии:\n",
    "> LogisticRegression(random_state=12345, solver='liblinear', tol=1e-04)\n",
    "\n",
    "Метрики этой модели: "
   ]
  },
  {
   "cell_type": "code",
   "execution_count": 413,
   "id": "03b13f0b",
   "metadata": {},
   "outputs": [
    {
     "data": {},
     "execution_count": 413,
     "metadata": {},
     "output_type": "execute_result"
    }
   ],
   "source": [
    "best_regression_f1_score_valid\n",
    "regression_mean_f1_score\n",
    "regression_f1_score_test\n",
    "\n",
    "regression_scores = [['на валидационной выборке', best_regression_f1_score_valid],\n",
    "                      ['на кросс-валидации', regression_mean_f1_score],\n",
    "                      ['на тестовой выборке', regression_f1_score_test]]\n",
    "output = pd.DataFrame(regression_scores, columns=['выборка', 'f1_score'])\n",
    "output"
   ]
  },
  {
   "cell_type": "markdown",
   "id": "1dffae3e",
   "metadata": {},
   "source": [
    "Модель была проверена на тестовом датасете и показала метрику `f1-score = 0.6268`.\n",
    "\n",
    "### Расчет окупаемости внедрения модели\n",
    "Прибыль от внедрения модели была оценена в 11_112_732 рублей. При бюджете на разработку модели 400_000 рублей, внедрение модели окупится в течение года. \n",
    "\n",
    "Доля ложно-положительных предсказаний модели 12% - в этих ситуациях есть риск отказа клиента от услуг отеля из-за предложения внести депозит. Этот риск выглядит приемлемым.\n",
    "\n",
    "Модель рекомендована к дообучению и внедрению."
   ]
  }
 ],
 "metadata": {
  "ExecuteTimeLog": [
   {
    "duration": 456,
    "start_time": "2022-02-21T07:44:17.785Z"
   },
   {
    "duration": 12,
    "start_time": "2022-02-21T07:44:31.797Z"
   },
   {
    "duration": 5,
    "start_time": "2022-02-21T07:45:06.530Z"
   },
   {
    "duration": 7,
    "start_time": "2022-02-21T07:45:17.848Z"
   },
   {
    "duration": 7,
    "start_time": "2022-02-21T07:45:28.815Z"
   },
   {
    "duration": 540,
    "start_time": "2022-02-21T07:46:11.580Z"
   },
   {
    "duration": 187,
    "start_time": "2022-02-21T07:46:16.820Z"
   },
   {
    "duration": 6,
    "start_time": "2022-02-21T07:46:24.371Z"
   },
   {
    "duration": 1431,
    "start_time": "2022-02-21T07:46:46.291Z"
   },
   {
    "duration": 592,
    "start_time": "2022-02-21T07:46:47.725Z"
   },
   {
    "duration": 57,
    "start_time": "2022-02-21T07:46:48.321Z"
   },
   {
    "duration": 5,
    "start_time": "2022-02-21T07:46:48.381Z"
   },
   {
    "duration": 10,
    "start_time": "2022-02-21T07:46:48.388Z"
   },
   {
    "duration": 80,
    "start_time": "2022-02-21T07:46:48.400Z"
   },
   {
    "duration": 77,
    "start_time": "2022-02-21T07:46:48.483Z"
   },
   {
    "duration": 141,
    "start_time": "2022-02-21T07:46:48.564Z"
   },
   {
    "duration": 69,
    "start_time": "2022-02-21T07:46:48.709Z"
   },
   {
    "duration": 26,
    "start_time": "2022-02-21T07:46:48.781Z"
   },
   {
    "duration": 96,
    "start_time": "2022-02-21T07:46:48.810Z"
   },
   {
    "duration": 75,
    "start_time": "2022-02-21T07:46:48.908Z"
   },
   {
    "duration": 277,
    "start_time": "2022-02-21T07:46:48.986Z"
   },
   {
    "duration": 40,
    "start_time": "2022-02-21T07:46:49.266Z"
   },
   {
    "duration": 44,
    "start_time": "2022-02-21T07:46:49.309Z"
   },
   {
    "duration": 11,
    "start_time": "2022-02-21T07:46:49.357Z"
   },
   {
    "duration": 35,
    "start_time": "2022-02-21T07:46:49.371Z"
   },
   {
    "duration": 231,
    "start_time": "2022-02-21T07:46:49.409Z"
   },
   {
    "duration": 16,
    "start_time": "2022-02-21T07:46:49.643Z"
   },
   {
    "duration": 5,
    "start_time": "2022-02-21T07:46:49.661Z"
   },
   {
    "duration": 70,
    "start_time": "2022-02-21T07:54:42.206Z"
   },
   {
    "duration": 16,
    "start_time": "2022-02-21T07:55:23.011Z"
   },
   {
    "duration": 78,
    "start_time": "2022-02-21T07:55:24.860Z"
   },
   {
    "duration": 7,
    "start_time": "2022-02-21T07:59:31.450Z"
   },
   {
    "duration": 3047,
    "start_time": "2022-02-21T08:00:17.303Z"
   },
   {
    "duration": 35,
    "start_time": "2022-02-21T08:00:31.414Z"
   },
   {
    "duration": 39,
    "start_time": "2022-02-21T08:00:45.095Z"
   },
   {
    "duration": 34,
    "start_time": "2022-02-21T08:00:48.382Z"
   },
   {
    "duration": 1441,
    "start_time": "2022-02-21T08:02:36.989Z"
   },
   {
    "duration": 271,
    "start_time": "2022-02-21T08:02:38.433Z"
   },
   {
    "duration": 71,
    "start_time": "2022-02-21T08:02:38.708Z"
   },
   {
    "duration": 6,
    "start_time": "2022-02-21T08:02:38.783Z"
   },
   {
    "duration": 17,
    "start_time": "2022-02-21T08:02:38.791Z"
   },
   {
    "duration": 74,
    "start_time": "2022-02-21T08:02:38.810Z"
   },
   {
    "duration": 81,
    "start_time": "2022-02-21T08:02:38.887Z"
   },
   {
    "duration": 122,
    "start_time": "2022-02-21T08:02:38.972Z"
   },
   {
    "duration": 63,
    "start_time": "2022-02-21T08:02:39.097Z"
   },
   {
    "duration": 20,
    "start_time": "2022-02-21T08:02:39.164Z"
   },
   {
    "duration": 79,
    "start_time": "2022-02-21T08:02:39.186Z"
   },
   {
    "duration": 49,
    "start_time": "2022-02-21T08:02:39.268Z"
   },
   {
    "duration": 214,
    "start_time": "2022-02-21T08:02:39.320Z"
   },
   {
    "duration": 40,
    "start_time": "2022-02-21T08:02:39.536Z"
   },
   {
    "duration": 15,
    "start_time": "2022-02-21T08:02:39.578Z"
   },
   {
    "duration": 12,
    "start_time": "2022-02-21T08:02:39.596Z"
   },
   {
    "duration": 63,
    "start_time": "2022-02-21T08:02:39.611Z"
   },
   {
    "duration": 218,
    "start_time": "2022-02-21T08:02:39.677Z"
   },
   {
    "duration": 15,
    "start_time": "2022-02-21T08:02:39.898Z"
   },
   {
    "duration": 7,
    "start_time": "2022-02-21T08:02:39.916Z"
   },
   {
    "duration": 17,
    "start_time": "2022-02-21T08:02:39.949Z"
   },
   {
    "duration": 7,
    "start_time": "2022-02-21T08:02:39.968Z"
   },
   {
    "duration": 6,
    "start_time": "2022-02-21T08:02:39.980Z"
   },
   {
    "duration": 141,
    "start_time": "2022-02-21T08:02:39.847Z"
   },
   {
    "duration": 2813,
    "start_time": "2022-02-21T08:02:58.232Z"
   },
   {
    "duration": 39,
    "start_time": "2022-02-21T08:03:03.538Z"
   },
   {
    "duration": 5,
    "start_time": "2022-02-21T08:06:17.903Z"
   },
   {
    "duration": 2819,
    "start_time": "2022-02-21T08:06:19.949Z"
   },
   {
    "duration": 32,
    "start_time": "2022-02-21T08:06:36.468Z"
   },
   {
    "duration": 36,
    "start_time": "2022-02-21T08:06:37.141Z"
   },
   {
    "duration": 34,
    "start_time": "2022-02-21T08:06:37.309Z"
   },
   {
    "duration": 33,
    "start_time": "2022-02-21T08:06:37.481Z"
   },
   {
    "duration": 34,
    "start_time": "2022-02-21T08:06:37.653Z"
   },
   {
    "duration": 36,
    "start_time": "2022-02-21T08:06:45.969Z"
   },
   {
    "duration": 37,
    "start_time": "2022-02-21T08:06:52.025Z"
   },
   {
    "duration": 36,
    "start_time": "2022-02-21T08:07:23.246Z"
   },
   {
    "duration": 35,
    "start_time": "2022-02-21T08:07:42.845Z"
   }
  ],
  "kernelspec": {
   "display_name": "Python 3 (ipykernel)",
   "language": "python",
   "name": "python3"
  },
  "language_info": {
   "codemirror_mode": {
    "name": "ipython",
    "version": 3
   },
   "file_extension": ".py",
   "mimetype": "text/x-python",
   "name": "python",
   "nbconvert_exporter": "python",
   "pygments_lexer": "ipython3",
   "version": "3.8.10"
  },
  "toc": {
   "base_numbering": 1,
   "nav_menu": {},
   "number_sections": true,
   "sideBar": true,
   "skip_h1_title": true,
   "title_cell": "Table of Contents",
   "title_sidebar": "Contents",
   "toc_cell": false,
   "toc_position": {},
   "toc_section_display": true,
   "toc_window_display": false
  }
 },
 "nbformat": 4,
 "nbformat_minor": 5
}
