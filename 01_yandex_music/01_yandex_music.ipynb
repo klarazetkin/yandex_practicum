{
 "cells": [
  {
   "cell_type": "markdown",
   "metadata": {
    "id": "E0vqbgi9ay0H"
   },
   "source": [
    "# Яндекс.Музыка"
   ]
  },
  {
   "cell_type": "markdown",
   "metadata": {
    "id": "VUC88oWjTJw2"
   },
   "source": [
    "Сравнение Москвы и Петербурга окружено мифами. Например:\n",
    " * Москва — мегаполис, подчинённый жёсткому ритму рабочей недели;\n",
    " * Петербург — культурная столица, со своими вкусами.\n",
    "\n",
    "На данных Яндекс.Музыки вы сравните поведение пользователей двух столиц.\n",
    "\n",
    "**Цель исследования** — проверьте три гипотезы:\n",
    "1. Активность пользователей зависит от дня недели. Причём в Москве и Петербурге это проявляется по-разному.\n",
    "2. В понедельник утром в Москве преобладают одни жанры, а в Петербурге — другие. Так же и вечером пятницы преобладают разные жанры — в зависимости от города. \n",
    "3. Москва и Петербург предпочитают разные жанры музыки. В Москве чаще слушают поп-музыку, в Петербурге — русский рэп.\n",
    "\n",
    "**Ход исследования**\n",
    "\n",
    "Данные о поведении пользователей вы получите из файла `yandex_music_project.csv`. О качестве данных ничего не известно. Поэтому перед проверкой гипотез понадобится обзор данных. \n",
    "\n",
    "Вы проверите данные на ошибки и оцените их влияние на исследование. Затем, на этапе предобработки вы поищете возможность исправить самые критичные ошибки данных.\n",
    " \n",
    "Таким образом, исследование пройдёт в три этапа:\n",
    " 1. Обзор данных.\n",
    " 2. Предобработка данных.\n",
    " 3. Проверка гипотез.\n",
    "\n"
   ]
  },
  {
   "cell_type": "markdown",
   "metadata": {
    "id": "Ml1hmfXC_Zcs"
   },
   "source": [
    "## Обзор данных\n",
    "\n",
    "Составим первое представление о данных Яндекс.Музыки.\n",
    "\n",
    "\n"
   ]
  },
  {
   "cell_type": "markdown",
   "metadata": {
    "id": "57eAOGIz_Zcs"
   },
   "source": [
    "Основной инструмент аналитика — `pandas`. Импортируем эту библиотеку."
   ]
  },
  {
   "cell_type": "code",
   "execution_count": 12,
   "metadata": {
    "id": "AXN7PHPN_Zcs"
   },
   "outputs": [],
   "source": [
    "# импорт библиотеки pandas\n",
    "import pandas as pd"
   ]
  },
  {
   "cell_type": "markdown",
   "metadata": {
    "id": "SG23P8tt_Zcs"
   },
   "source": [
    "Прочитаем файл `yandex_music_project.csv` из папки `/datasets` и сохраним его в переменной `df`:"
   ]
  },
  {
   "cell_type": "code",
   "execution_count": 13,
   "metadata": {
    "id": "fFVu7vqh_Zct"
   },
   "outputs": [],
   "source": [
    "# чтение файла с данными и сохранение в df\n",
    "df = pd.read_csv('/datasets/yandex_music_project.csv')"
   ]
  },
  {
   "cell_type": "markdown",
   "metadata": {
    "id": "rDoOMd3uTqnZ"
   },
   "source": [
    "Выведем на экран первые десять строк таблицы:"
   ]
  },
  {
   "cell_type": "code",
   "execution_count": 14,
   "metadata": {
    "id": "oWTVX3gW_Zct"
   },
   "outputs": [
    {
     "data": {
      "text/html": [
       "<div>\n",
       "<style scoped>\n",
       "    .dataframe tbody tr th:only-of-type {\n",
       "        vertical-align: middle;\n",
       "    }\n",
       "\n",
       "    .dataframe tbody tr th {\n",
       "        vertical-align: top;\n",
       "    }\n",
       "\n",
       "    .dataframe thead th {\n",
       "        text-align: right;\n",
       "    }\n",
       "</style>\n",
       "<table border=\"1\" class=\"dataframe\">\n",
       "  <thead>\n",
       "    <tr style=\"text-align: right;\">\n",
       "      <th></th>\n",
       "      <th>userID</th>\n",
       "      <th>Track</th>\n",
       "      <th>artist</th>\n",
       "      <th>genre</th>\n",
       "      <th>City</th>\n",
       "      <th>time</th>\n",
       "      <th>Day</th>\n",
       "    </tr>\n",
       "  </thead>\n",
       "  <tbody>\n",
       "    <tr>\n",
       "      <td>0</td>\n",
       "      <td>FFB692EC</td>\n",
       "      <td>Kamigata To Boots</td>\n",
       "      <td>The Mass Missile</td>\n",
       "      <td>rock</td>\n",
       "      <td>Saint-Petersburg</td>\n",
       "      <td>20:28:33</td>\n",
       "      <td>Wednesday</td>\n",
       "    </tr>\n",
       "    <tr>\n",
       "      <td>1</td>\n",
       "      <td>55204538</td>\n",
       "      <td>Delayed Because of Accident</td>\n",
       "      <td>Andreas Rönnberg</td>\n",
       "      <td>rock</td>\n",
       "      <td>Moscow</td>\n",
       "      <td>14:07:09</td>\n",
       "      <td>Friday</td>\n",
       "    </tr>\n",
       "    <tr>\n",
       "      <td>2</td>\n",
       "      <td>20EC38</td>\n",
       "      <td>Funiculì funiculà</td>\n",
       "      <td>Mario Lanza</td>\n",
       "      <td>pop</td>\n",
       "      <td>Saint-Petersburg</td>\n",
       "      <td>20:58:07</td>\n",
       "      <td>Wednesday</td>\n",
       "    </tr>\n",
       "    <tr>\n",
       "      <td>3</td>\n",
       "      <td>A3DD03C9</td>\n",
       "      <td>Dragons in the Sunset</td>\n",
       "      <td>Fire + Ice</td>\n",
       "      <td>folk</td>\n",
       "      <td>Saint-Petersburg</td>\n",
       "      <td>08:37:09</td>\n",
       "      <td>Monday</td>\n",
       "    </tr>\n",
       "    <tr>\n",
       "      <td>4</td>\n",
       "      <td>E2DC1FAE</td>\n",
       "      <td>Soul People</td>\n",
       "      <td>Space Echo</td>\n",
       "      <td>dance</td>\n",
       "      <td>Moscow</td>\n",
       "      <td>08:34:34</td>\n",
       "      <td>Monday</td>\n",
       "    </tr>\n",
       "    <tr>\n",
       "      <td>5</td>\n",
       "      <td>842029A1</td>\n",
       "      <td>Преданная</td>\n",
       "      <td>IMPERVTOR</td>\n",
       "      <td>rusrap</td>\n",
       "      <td>Saint-Petersburg</td>\n",
       "      <td>13:09:41</td>\n",
       "      <td>Friday</td>\n",
       "    </tr>\n",
       "    <tr>\n",
       "      <td>6</td>\n",
       "      <td>4CB90AA5</td>\n",
       "      <td>True</td>\n",
       "      <td>Roman Messer</td>\n",
       "      <td>dance</td>\n",
       "      <td>Moscow</td>\n",
       "      <td>13:00:07</td>\n",
       "      <td>Wednesday</td>\n",
       "    </tr>\n",
       "    <tr>\n",
       "      <td>7</td>\n",
       "      <td>F03E1C1F</td>\n",
       "      <td>Feeling This Way</td>\n",
       "      <td>Polina Griffith</td>\n",
       "      <td>dance</td>\n",
       "      <td>Moscow</td>\n",
       "      <td>20:47:49</td>\n",
       "      <td>Wednesday</td>\n",
       "    </tr>\n",
       "    <tr>\n",
       "      <td>8</td>\n",
       "      <td>8FA1D3BE</td>\n",
       "      <td>И вновь продолжается бой</td>\n",
       "      <td>NaN</td>\n",
       "      <td>ruspop</td>\n",
       "      <td>Moscow</td>\n",
       "      <td>09:17:40</td>\n",
       "      <td>Friday</td>\n",
       "    </tr>\n",
       "    <tr>\n",
       "      <td>9</td>\n",
       "      <td>E772D5C0</td>\n",
       "      <td>Pessimist</td>\n",
       "      <td>NaN</td>\n",
       "      <td>dance</td>\n",
       "      <td>Saint-Petersburg</td>\n",
       "      <td>21:20:49</td>\n",
       "      <td>Wednesday</td>\n",
       "    </tr>\n",
       "  </tbody>\n",
       "</table>\n",
       "</div>"
      ],
      "text/plain": [
       "     userID                        Track            artist   genre  \\\n",
       "0  FFB692EC            Kamigata To Boots  The Mass Missile    rock   \n",
       "1  55204538  Delayed Because of Accident  Andreas Rönnberg    rock   \n",
       "2    20EC38            Funiculì funiculà       Mario Lanza     pop   \n",
       "3  A3DD03C9        Dragons in the Sunset        Fire + Ice    folk   \n",
       "4  E2DC1FAE                  Soul People        Space Echo   dance   \n",
       "5  842029A1                    Преданная         IMPERVTOR  rusrap   \n",
       "6  4CB90AA5                         True      Roman Messer   dance   \n",
       "7  F03E1C1F             Feeling This Way   Polina Griffith   dance   \n",
       "8  8FA1D3BE     И вновь продолжается бой               NaN  ruspop   \n",
       "9  E772D5C0                    Pessimist               NaN   dance   \n",
       "\n",
       "             City        time        Day  \n",
       "0  Saint-Petersburg  20:28:33  Wednesday  \n",
       "1            Moscow  14:07:09     Friday  \n",
       "2  Saint-Petersburg  20:58:07  Wednesday  \n",
       "3  Saint-Petersburg  08:37:09     Monday  \n",
       "4            Moscow  08:34:34     Monday  \n",
       "5  Saint-Petersburg  13:09:41     Friday  \n",
       "6            Moscow  13:00:07  Wednesday  \n",
       "7            Moscow  20:47:49  Wednesday  \n",
       "8            Moscow  09:17:40     Friday  \n",
       "9  Saint-Petersburg  21:20:49  Wednesday  "
      ]
     },
     "execution_count": 14,
     "metadata": {},
     "output_type": "execute_result"
    }
   ],
   "source": [
    "# получение первых 10 строк таблицы df\n",
    "df.head(10)"
   ]
  },
  {
   "cell_type": "markdown",
   "metadata": {
    "id": "EO73Kwic_Zct"
   },
   "source": [
    "Выведем общую информацию о таблице:"
   ]
  },
  {
   "cell_type": "code",
   "execution_count": 15,
   "metadata": {
    "id": "DSf2kIb-_Zct"
   },
   "outputs": [
    {
     "name": "stdout",
     "output_type": "stream",
     "text": [
      "<class 'pandas.core.frame.DataFrame'>\n",
      "RangeIndex: 65079 entries, 0 to 65078\n",
      "Data columns (total 7 columns):\n",
      "  userID    65079 non-null object\n",
      "Track       63848 non-null object\n",
      "artist      57876 non-null object\n",
      "genre       63881 non-null object\n",
      "  City      65079 non-null object\n",
      "time        65079 non-null object\n",
      "Day         65079 non-null object\n",
      "dtypes: object(7)\n",
      "memory usage: 3.5+ MB\n"
     ]
    },
    {
     "data": {
      "text/plain": [
       "None"
      ]
     },
     "metadata": {},
     "output_type": "display_data"
    }
   ],
   "source": [
    "# получение общей информации о данных в таблице df\n",
    "display(df.info())"
   ]
  },
  {
   "cell_type": "markdown",
   "metadata": {
    "id": "TaQ2Iwbr_Zct"
   },
   "source": [
    "Итак, в таблице семь столбцов. Тип данных во всех столбцах — `object`.\n",
    "\n",
    "Согласно документации к данным:\n",
    "* `userID` — идентификатор пользователя;\n",
    "* `Track` — название трека;  \n",
    "* `artist` — имя исполнителя;\n",
    "* `genre` — название жанра;\n",
    "* `City` — город пользователя;\n",
    "* `time` — время начала прослушивания;\n",
    "* `Day` — день недели.\n",
    "\n",
    "В названиях колонок видны три нарушения стиля:\n",
    "1. Строчные буквы сочетаются с прописными.\n",
    "2. Встречаются пробелы.\n",
    "3. Непонятно, что за информация в колонке `time`.\n",
    "\n",
    "\n",
    "Количество значений в столбцах различается. Значит, в данных есть пропущенные значения.\n"
   ]
  },
  {
   "cell_type": "markdown",
   "metadata": {
    "id": "MCB6-dXG_Zct"
   },
   "source": [
    "**Выводы**\n",
    "\n",
    "В каждой строке таблицы — данные о прослушанном треке. Часть колонок описывает саму композицию: название, исполнителя и жанр. Остальные данные рассказывают о пользователе: из какого он города, когда он слушал музыку. \n",
    "\n",
    "Предварительно можно утверждать, что, данных достаточно для проверки гипотез. Но встречаются пропуски в данных, а в названиях колонок — расхождения с хорошим стилем.\n",
    "\n",
    "Чтобы двигаться дальше, нужно устранить проблемы в данных."
   ]
  },
  {
   "cell_type": "markdown",
   "metadata": {
    "id": "SjYF6Ub9_Zct"
   },
   "source": [
    "## Предобработка данных\n",
    "Исправим стиль в заголовках столбцов, исключим пропуски. Затем проверим данные на дубликаты."
   ]
  },
  {
   "cell_type": "markdown",
   "metadata": {
    "id": "dIaKXr29_Zct"
   },
   "source": [
    "### Стиль заголовков\n",
    "Выведем на экран названия столбцов:"
   ]
  },
  {
   "cell_type": "code",
   "execution_count": 16,
   "metadata": {
    "id": "oKOTdF_Q_Zct"
   },
   "outputs": [
    {
     "data": {
      "text/plain": [
       "Index(['  userID', 'Track', 'artist', 'genre', '  City  ', 'time', 'Day'], dtype='object')"
      ]
     },
     "execution_count": 16,
     "metadata": {},
     "output_type": "execute_result"
    }
   ],
   "source": [
    "# перечень названий столбцов таблицы df\n",
    "df.columns\n"
   ]
  },
  {
   "cell_type": "code",
   "execution_count": 17,
   "metadata": {
    "id": "ISlFqs5y_Zct"
   },
   "outputs": [],
   "source": [
    "# переименование столбцов\n",
    "df = df.rename(columns={'  userID': 'user_id', 'Track': 'track', '  City  ': 'city', 'Day': 'day'})"
   ]
  },
  {
   "cell_type": "markdown",
   "metadata": {
    "id": "1dqbh00J_Zct"
   },
   "source": [
    "Проверим результат. Для этого ещё раз выведем на экран названия столбцов:"
   ]
  },
  {
   "cell_type": "code",
   "execution_count": 18,
   "metadata": {
    "id": "d4NOAmTW_Zct"
   },
   "outputs": [
    {
     "data": {
      "text/plain": [
       "Index(['user_id', 'track', 'artist', 'genre', 'city', 'time', 'day'], dtype='object')"
      ]
     },
     "execution_count": 18,
     "metadata": {},
     "output_type": "execute_result"
    }
   ],
   "source": [
    "# проверка результатов - перечень названий столбцов\n",
    "df.columns"
   ]
  },
  {
   "cell_type": "markdown",
   "metadata": {
    "id": "5ISfbcfY_Zct"
   },
   "source": [
    "### Пропуски значений\n",
    "Сначала посчитаем, сколько в таблице пропущенных значений. Для этого достаточно двух методов `pandas`:"
   ]
  },
  {
   "cell_type": "code",
   "execution_count": 19,
   "metadata": {
    "id": "RskX29qr_Zct"
   },
   "outputs": [
    {
     "data": {
      "text/plain": [
       "user_id       0\n",
       "track      1231\n",
       "artist     7203\n",
       "genre      1198\n",
       "city          0\n",
       "time          0\n",
       "day           0\n",
       "dtype: int64"
      ]
     },
     "execution_count": 19,
     "metadata": {},
     "output_type": "execute_result"
    }
   ],
   "source": [
    "# подсчёт пропусков\n",
    "df.isna().sum()"
   ]
  },
  {
   "cell_type": "markdown",
   "metadata": {
    "id": "qubhgnlO_Zct"
   },
   "source": [
    "Не все пропущенные значения влияют на исследование. Так в `track` и `artist` пропуски не важны для работы. Достаточно заменить их явными обозначениями.\n",
    "\n",
    "Но пропуски в `genre` могут помешать сравнению музыкальных вкусов в Москве и Санкт-Петербурге. На практике было бы правильно установить причину пропусков и восстановить данные. Такой возможности нет в учебном проекте. Придётся:\n",
    "* заполнить и эти пропуски явными обозначениями,\n",
    "* оценить, насколько они повредят расчётам. "
   ]
  },
  {
   "cell_type": "markdown",
   "metadata": {
    "id": "fSv2laPA_Zct"
   },
   "source": [
    "Заменим пропущенные значения в столбцах `track`, `artist` и `genre` на строку `'unknown'`. Для этого создадим список `columns_to_replace`, переберем его элементы циклом `for` и для каждого столбца выполним замену пропущенных значений:"
   ]
  },
  {
   "cell_type": "code",
   "execution_count": 20,
   "metadata": {
    "id": "KplB5qWs_Zct"
   },
   "outputs": [],
   "source": [
    "# перебор названий столбцов в цикле и замена пропущенных значений на 'unknown'\n",
    "columns_to_replace = ['track', 'artist', 'genre']\n",
    "for column in columns_to_replace:\n",
    "    df[column] = df[column].fillna('unknown')\n",
    "    "
   ]
  },
  {
   "cell_type": "markdown",
   "metadata": {
    "id": "Ilsm-MZo_Zct"
   },
   "source": [
    "Убедимся, что в таблице не осталось пропусков. Для этого ещё раз посчитаем пропущенные значения."
   ]
  },
  {
   "cell_type": "code",
   "execution_count": 21,
   "metadata": {
    "id": "Tq4nYRX4_Zct"
   },
   "outputs": [
    {
     "data": {
      "text/plain": [
       "user_id    0\n",
       "track      0\n",
       "artist     0\n",
       "genre      0\n",
       "city       0\n",
       "time       0\n",
       "day        0\n",
       "dtype: int64"
      ]
     },
     "execution_count": 21,
     "metadata": {},
     "output_type": "execute_result"
    }
   ],
   "source": [
    "# подсчёт пропусков\n",
    "df.isna().sum()"
   ]
  },
  {
   "cell_type": "markdown",
   "metadata": {
    "id": "BWKRtBJ3_Zct"
   },
   "source": [
    "### Дубликаты\n",
    "Посчитаем явные дубликаты в таблице одной командой:"
   ]
  },
  {
   "cell_type": "code",
   "execution_count": 22,
   "metadata": {
    "id": "36eES_S0_Zct"
   },
   "outputs": [
    {
     "data": {
      "text/plain": [
       "3826"
      ]
     },
     "execution_count": 22,
     "metadata": {},
     "output_type": "execute_result"
    }
   ],
   "source": [
    "# подсчёт явных дубликатов\n",
    "df.duplicated().sum()"
   ]
  },
  {
   "cell_type": "markdown",
   "metadata": {
    "id": "Ot25h6XR_Zct"
   },
   "source": [
    "Вызовем специальный метод `pandas`, чтобы удалить явные дубликаты:"
   ]
  },
  {
   "cell_type": "code",
   "execution_count": 23,
   "metadata": {
    "id": "exFHq6tt_Zct"
   },
   "outputs": [],
   "source": [
    "# удаление явных дубликатов (с удалением старых индексов и формированием новых)\n",
    "df = df.drop_duplicates().reset_index(drop=True)"
   ]
  },
  {
   "cell_type": "markdown",
   "metadata": {
    "id": "Im2YwBEG_Zct"
   },
   "source": [
    "Ещё раз посчитаем явные дубликаты в таблице — убедимся, что полностью от них избавились:"
   ]
  },
  {
   "cell_type": "code",
   "execution_count": 24,
   "metadata": {
    "id": "-8PuNWQ0_Zct"
   },
   "outputs": [
    {
     "data": {
      "text/plain": [
       "0"
      ]
     },
     "execution_count": 24,
     "metadata": {},
     "output_type": "execute_result"
    }
   ],
   "source": [
    "# проверка на отсутствие дубликатов\n",
    "df.duplicated().sum()"
   ]
  },
  {
   "cell_type": "markdown",
   "metadata": {
    "id": "QlFBsxAr_Zct"
   },
   "source": [
    "Теперь избавимся от неявных дубликатов в колонке `genre`. Например, название одного и того же жанра может быть записано немного по-разному. Такие ошибки тоже повлияют на результат исследования."
   ]
  },
  {
   "cell_type": "markdown",
   "metadata": {
    "id": "eSjWwsOh_Zct"
   },
   "source": [
    "Выведем на экран список уникальных названий жанров, отсортированный в алфавитном порядке."
   ]
  },
  {
   "cell_type": "code",
   "execution_count": 25,
   "metadata": {
    "id": "JIUcqzZN_Zct"
   },
   "outputs": [
    {
     "data": {
      "text/plain": [
       "array(['acid', 'acoustic', 'action', 'adult', 'africa', 'afrikaans',\n",
       "       'alternative', 'alternativepunk', 'ambient', 'americana',\n",
       "       'animated', 'anime', 'arabesk', 'arabic', 'arena',\n",
       "       'argentinetango', 'art', 'audiobook', 'author', 'avantgarde',\n",
       "       'axé', 'baile', 'balkan', 'beats', 'bigroom', 'black', 'bluegrass',\n",
       "       'blues', 'bollywood', 'bossa', 'brazilian', 'breakbeat', 'breaks',\n",
       "       'broadway', 'cantautori', 'cantopop', 'canzone', 'caribbean',\n",
       "       'caucasian', 'celtic', 'chamber', 'chanson', 'children', 'chill',\n",
       "       'chinese', 'choral', 'christian', 'christmas', 'classical',\n",
       "       'classicmetal', 'club', 'colombian', 'comedy', 'conjazz',\n",
       "       'contemporary', 'country', 'cuban', 'dance', 'dancehall',\n",
       "       'dancepop', 'dark', 'death', 'deep', 'deutschrock', 'deutschspr',\n",
       "       'dirty', 'disco', 'dnb', 'documentary', 'downbeat', 'downtempo',\n",
       "       'drum', 'dub', 'dubstep', 'eastern', 'easy', 'electronic',\n",
       "       'electropop', 'emo', 'entehno', 'epicmetal', 'estrada', 'ethnic',\n",
       "       'eurofolk', 'european', 'experimental', 'extrememetal', 'fado',\n",
       "       'fairytail', 'film', 'fitness', 'flamenco', 'folk', 'folklore',\n",
       "       'folkmetal', 'folkrock', 'folktronica', 'forró', 'frankreich',\n",
       "       'französisch', 'french', 'funk', 'future', 'gangsta', 'garage',\n",
       "       'german', 'ghazal', 'gitarre', 'glitch', 'gospel', 'gothic',\n",
       "       'grime', 'grunge', 'gypsy', 'handsup', \"hard'n'heavy\", 'hardcore',\n",
       "       'hardstyle', 'hardtechno', 'hip', 'hip-hop', 'hiphop',\n",
       "       'historisch', 'holiday', 'hop', 'horror', 'house', 'hymn', 'idm',\n",
       "       'independent', 'indian', 'indie', 'indipop', 'industrial',\n",
       "       'inspirational', 'instrumental', 'international', 'irish', 'jam',\n",
       "       'japanese', 'jazz', 'jewish', 'jpop', 'jungle', 'k-pop',\n",
       "       'karadeniz', 'karaoke', 'kayokyoku', 'korean', 'laiko', 'latin',\n",
       "       'latino', 'leftfield', 'local', 'lounge', 'loungeelectronic',\n",
       "       'lovers', 'malaysian', 'mandopop', 'marschmusik', 'meditative',\n",
       "       'mediterranean', 'melodic', 'metal', 'metalcore', 'mexican',\n",
       "       'middle', 'minimal', 'miscellaneous', 'modern', 'mood', 'mpb',\n",
       "       'muslim', 'native', 'neoklassik', 'neue', 'new', 'newage',\n",
       "       'newwave', 'nu', 'nujazz', 'numetal', 'oceania', 'old', 'opera',\n",
       "       'orchestral', 'other', 'piano', 'podcasts', 'pop', 'popdance',\n",
       "       'popelectronic', 'popeurodance', 'poprussian', 'post',\n",
       "       'posthardcore', 'postrock', 'power', 'progmetal', 'progressive',\n",
       "       'psychedelic', 'punjabi', 'punk', 'quebecois', 'ragga', 'ram',\n",
       "       'rancheras', 'rap', 'rave', 'reggae', 'reggaeton', 'regional',\n",
       "       'relax', 'religious', 'retro', 'rhythm', 'rnb', 'rnr', 'rock',\n",
       "       'rockabilly', 'rockalternative', 'rockindie', 'rockother',\n",
       "       'romance', 'roots', 'ruspop', 'rusrap', 'rusrock', 'russian',\n",
       "       'salsa', 'samba', 'scenic', 'schlager', 'self', 'sertanejo',\n",
       "       'shanson', 'shoegazing', 'showtunes', 'singer', 'ska', 'skarock',\n",
       "       'slow', 'smooth', 'soft', 'soul', 'soulful', 'sound', 'soundtrack',\n",
       "       'southern', 'specialty', 'speech', 'spiritual', 'sport',\n",
       "       'stonerrock', 'surf', 'swing', 'synthpop', 'synthrock',\n",
       "       'sängerportrait', 'tango', 'tanzorchester', 'taraftar', 'tatar',\n",
       "       'tech', 'techno', 'teen', 'thrash', 'top', 'traditional',\n",
       "       'tradjazz', 'trance', 'tribal', 'trip', 'triphop', 'tropical',\n",
       "       'türk', 'türkçe', 'ukrrock', 'unknown', 'urban', 'uzbek',\n",
       "       'variété', 'vi', 'videogame', 'vocal', 'western', 'world',\n",
       "       'worldbeat', 'ïîï', 'электроника'], dtype=object)"
      ]
     },
     "metadata": {},
     "output_type": "display_data"
    }
   ],
   "source": [
    "# Просмотр уникальных названий жанров\n",
    "display(df['genre'].sort_values().unique())"
   ]
  },
  {
   "cell_type": "code",
   "execution_count": 26,
   "metadata": {},
   "outputs": [
    {
     "data": {
      "text/plain": [
       "array(['hip', 'hiphop', 'hip-hop', 'hop'], dtype=object)"
      ]
     },
     "execution_count": 26,
     "metadata": {},
     "output_type": "execute_result"
    }
   ],
   "source": [
    "# check in a more beautiful way:\n",
    "df[df['genre'].isin(['hip', 'hop', 'hip-hop', 'hiphop'])]['genre'].unique()"
   ]
  },
  {
   "cell_type": "markdown",
   "metadata": {
    "id": "qej-Qmuo_Zct"
   },
   "source": [
    "Просмотрим список и найдите неявные дубликаты названия `hiphop`. Это могут быть названия с ошибками или альтернативные названия того же жанра.\n",
    "\n",
    "Присутствуют следующие неявные дубликаты:\n",
    "* *hip*,\n",
    "* *hop*,\n",
    "* *hip-hop*.\n",
    "\n",
    "Чтобы очистить от них таблицу, напишем функцию `replace_wrong_genres()` с двумя параметрами: \n",
    "* `wrong_genres` — список дубликатов,\n",
    "* `correct_genre` — строка с правильным значением.\n",
    "\n",
    "Функция должна исправить колонку `genre` в таблице `df`: заменить каждое значение из списка `wrong_genres` на значение из `correct_genre`."
   ]
  },
  {
   "cell_type": "code",
   "execution_count": 27,
   "metadata": {
    "id": "ErNDkmns_Zct"
   },
   "outputs": [],
   "source": [
    "# Функция для замены неявных дубликатов\n",
    "wrong_genres = ['hip', 'hop', 'hip-hop']\n",
    "correct_genre = 'hiphop'\n",
    "\n",
    "def replace_wrong_genres(column, wronges, correct):\n",
    "    for wrong in wronges:\n",
    "        column = column.replace(wrong, correct)\n",
    "    return column\n",
    "    \n",
    "    "
   ]
  },
  {
   "cell_type": "markdown",
   "metadata": {
    "id": "aDoBJxbA_Zct"
   },
   "source": [
    "Вызовем `replace_wrong_genres()` и передадим\n",
    "ей такие аргументы, чтобы она устранила неявные дубликаты: вместо `hip`, `hop` и `hip-hop` в таблице должно быть значение `hiphop`:"
   ]
  },
  {
   "cell_type": "code",
   "execution_count": 28,
   "metadata": {
    "id": "YN5i2hpmSo09"
   },
   "outputs": [],
   "source": [
    "# Устранение неявных дубликатов\n",
    "df['genre'] = replace_wrong_genres(df['genre'], wrong_genres, correct_genre)"
   ]
  },
  {
   "cell_type": "markdown",
   "metadata": {
    "id": "zQKF16_RG15m"
   },
   "source": [
    "Проверим, что заменили неправильные названия:\n",
    "\n",
    "*   hip\n",
    "*   hop\n",
    "*   hip-hop\n",
    "\n",
    "Выведем отсортированный список уникальных значений столбца `genre`:"
   ]
  },
  {
   "cell_type": "code",
   "execution_count": 29,
   "metadata": {
    "id": "wvixALnFG15m"
   },
   "outputs": [
    {
     "data": {
      "text/plain": [
       "array(['acid', 'acoustic', 'action', 'adult', 'africa', 'afrikaans',\n",
       "       'alternative', 'alternativepunk', 'ambient', 'americana',\n",
       "       'animated', 'anime', 'arabesk', 'arabic', 'arena',\n",
       "       'argentinetango', 'art', 'audiobook', 'author', 'avantgarde',\n",
       "       'axé', 'baile', 'balkan', 'beats', 'bigroom', 'black', 'bluegrass',\n",
       "       'blues', 'bollywood', 'bossa', 'brazilian', 'breakbeat', 'breaks',\n",
       "       'broadway', 'cantautori', 'cantopop', 'canzone', 'caribbean',\n",
       "       'caucasian', 'celtic', 'chamber', 'chanson', 'children', 'chill',\n",
       "       'chinese', 'choral', 'christian', 'christmas', 'classical',\n",
       "       'classicmetal', 'club', 'colombian', 'comedy', 'conjazz',\n",
       "       'contemporary', 'country', 'cuban', 'dance', 'dancehall',\n",
       "       'dancepop', 'dark', 'death', 'deep', 'deutschrock', 'deutschspr',\n",
       "       'dirty', 'disco', 'dnb', 'documentary', 'downbeat', 'downtempo',\n",
       "       'drum', 'dub', 'dubstep', 'eastern', 'easy', 'electronic',\n",
       "       'electropop', 'emo', 'entehno', 'epicmetal', 'estrada', 'ethnic',\n",
       "       'eurofolk', 'european', 'experimental', 'extrememetal', 'fado',\n",
       "       'fairytail', 'film', 'fitness', 'flamenco', 'folk', 'folklore',\n",
       "       'folkmetal', 'folkrock', 'folktronica', 'forró', 'frankreich',\n",
       "       'französisch', 'french', 'funk', 'future', 'gangsta', 'garage',\n",
       "       'german', 'ghazal', 'gitarre', 'glitch', 'gospel', 'gothic',\n",
       "       'grime', 'grunge', 'gypsy', 'handsup', \"hard'n'heavy\", 'hardcore',\n",
       "       'hardstyle', 'hardtechno', 'hiphop', 'historisch', 'holiday',\n",
       "       'horror', 'house', 'hymn', 'idm', 'independent', 'indian', 'indie',\n",
       "       'indipop', 'industrial', 'inspirational', 'instrumental',\n",
       "       'international', 'irish', 'jam', 'japanese', 'jazz', 'jewish',\n",
       "       'jpop', 'jungle', 'k-pop', 'karadeniz', 'karaoke', 'kayokyoku',\n",
       "       'korean', 'laiko', 'latin', 'latino', 'leftfield', 'local',\n",
       "       'lounge', 'loungeelectronic', 'lovers', 'malaysian', 'mandopop',\n",
       "       'marschmusik', 'meditative', 'mediterranean', 'melodic', 'metal',\n",
       "       'metalcore', 'mexican', 'middle', 'minimal', 'miscellaneous',\n",
       "       'modern', 'mood', 'mpb', 'muslim', 'native', 'neoklassik', 'neue',\n",
       "       'new', 'newage', 'newwave', 'nu', 'nujazz', 'numetal', 'oceania',\n",
       "       'old', 'opera', 'orchestral', 'other', 'piano', 'podcasts', 'pop',\n",
       "       'popdance', 'popelectronic', 'popeurodance', 'poprussian', 'post',\n",
       "       'posthardcore', 'postrock', 'power', 'progmetal', 'progressive',\n",
       "       'psychedelic', 'punjabi', 'punk', 'quebecois', 'ragga', 'ram',\n",
       "       'rancheras', 'rap', 'rave', 'reggae', 'reggaeton', 'regional',\n",
       "       'relax', 'religious', 'retro', 'rhythm', 'rnb', 'rnr', 'rock',\n",
       "       'rockabilly', 'rockalternative', 'rockindie', 'rockother',\n",
       "       'romance', 'roots', 'ruspop', 'rusrap', 'rusrock', 'russian',\n",
       "       'salsa', 'samba', 'scenic', 'schlager', 'self', 'sertanejo',\n",
       "       'shanson', 'shoegazing', 'showtunes', 'singer', 'ska', 'skarock',\n",
       "       'slow', 'smooth', 'soft', 'soul', 'soulful', 'sound', 'soundtrack',\n",
       "       'southern', 'specialty', 'speech', 'spiritual', 'sport',\n",
       "       'stonerrock', 'surf', 'swing', 'synthpop', 'synthrock',\n",
       "       'sängerportrait', 'tango', 'tanzorchester', 'taraftar', 'tatar',\n",
       "       'tech', 'techno', 'teen', 'thrash', 'top', 'traditional',\n",
       "       'tradjazz', 'trance', 'tribal', 'trip', 'triphop', 'tropical',\n",
       "       'türk', 'türkçe', 'ukrrock', 'unknown', 'urban', 'uzbek',\n",
       "       'variété', 'vi', 'videogame', 'vocal', 'western', 'world',\n",
       "       'worldbeat', 'ïîï', 'электроника'], dtype=object)"
      ]
     },
     "metadata": {},
     "output_type": "display_data"
    }
   ],
   "source": [
    "# Проверка на неявные дубликаты\n",
    "display(df['genre'].sort_values().unique())"
   ]
  },
  {
   "cell_type": "code",
   "execution_count": 30,
   "metadata": {},
   "outputs": [
    {
     "data": {
      "text/plain": [
       "array(['hiphop'], dtype=object)"
      ]
     },
     "execution_count": 30,
     "metadata": {},
     "output_type": "execute_result"
    }
   ],
   "source": [
    "# check in a more beautiful way:\n",
    "df[df['genre'].isin(['hip', 'hop', 'hip-hop', 'hiphop'])]['genre'].unique()"
   ]
  },
  {
   "cell_type": "markdown",
   "metadata": {
    "id": "jz6a9-7HQUDd"
   },
   "source": [
    "**Выводы**\n",
    "\n",
    "Предобработка обнаружила три проблемы в данных:\n",
    "\n",
    "- нарушения в стиле заголовков,\n",
    "- пропущенные значения,\n",
    "- дубликаты — явные и неявные.\n",
    "\n",
    "Исправлены заголовки, чтобы упростить работу с таблицей.\n",
    "\n",
    "Пропущенные значения заменили на `'unknown'`. Ещё предстоит увидеть, не повредят ли исследованию пропуски в колонке `genre`.\n",
    "\n",
    "Теперь можно перейти к проверке гипотез. "
   ]
  },
  {
   "cell_type": "markdown",
   "metadata": {
    "id": "WttZHXH0SqKk"
   },
   "source": [
    "## Проверка гипотез"
   ]
  },
  {
   "cell_type": "markdown",
   "metadata": {
    "id": "Im936VVi_Zcu"
   },
   "source": [
    "### Сравнение поведения пользователей двух столиц"
   ]
  },
  {
   "cell_type": "markdown",
   "metadata": {
    "id": "nwt_MuaL_Zcu"
   },
   "source": [
    "Первая гипотеза утверждает, что пользователи по-разному слушают музыку в Москве и Санкт-Петербурге. Проверьте это предположение по данным о трёх днях недели — понедельнике, среде и пятнице. Для этого:\n",
    "\n",
    "* Разделим пользователей Москвы и Санкт-Петербурга\n",
    "* Сравним, сколько треков послушала каждая группа пользователей в понедельник, среду и пятницу.\n"
   ]
  },
  {
   "cell_type": "markdown",
   "metadata": {
    "id": "8Dw_YMmT_Zcu"
   },
   "source": [
    "Для тренировки сначала выполним каждый из расчётов по отдельности. \n",
    "\n",
    "Оценим активность пользователей в каждом городе. Сгруппируем данные по городу и посчитаем прослушивания в каждой группе.\n",
    "\n"
   ]
  },
  {
   "cell_type": "code",
   "execution_count": 18,
   "metadata": {
    "id": "0_Qs96oh_Zcu"
   },
   "outputs": [
    {
     "name": "stdout",
     "output_type": "stream",
     "text": [
      "Записей по Москве: 42741\n",
      "Записей по Санкт-Петербургу: 18512\n"
     ]
    }
   ],
   "source": [
    "# Подсчёт прослушиваний в каждом городе\n",
    "moscow_count = df[df['city'] == 'Moscow']['user_id'].count()\n",
    "spb_count = df[df['city'] == 'Saint-Petersburg']['user_id'].count()\n",
    "print('Записей по Москве: ' + str(moscow_count))\n",
    "print('Записей по Санкт-Петербургу: ' + str(spb_count))"
   ]
  },
  {
   "cell_type": "markdown",
   "metadata": {
    "id": "dzli3w8o_Zcu"
   },
   "source": [
    "В Москве прослушиваний больше, чем в Петербурге. Из этого не следует, что московские пользователи чаще слушают музыку. Просто самих пользователей в Москве больше.\n",
    "\n",
    "Теперь сгруппируем данные по дню недели и подсчитаем прослушивания в понедельник, среду и пятницу. Нужно учесть, что в данных есть информация только о прослушиваниях только за эти дни.\n"
   ]
  },
  {
   "cell_type": "code",
   "execution_count": 19,
   "metadata": {
    "id": "uZMKjiJz_Zcu"
   },
   "outputs": [
    {
     "name": "stdout",
     "output_type": "stream",
     "text": [
      "21354 18059 21840\n"
     ]
    }
   ],
   "source": [
    "# Подсчёт прослушиваний в каждый из трёх дней\n",
    "monday_count = df[df['day'] == 'Monday']['user_id'].count()\n",
    "wednesday_count = df[df['day'] == 'Wednesday']['user_id'].count()\n",
    "friday_count = df[df['day'] == 'Friday']['user_id'].count()\n",
    "\n",
    "print(monday_count, wednesday_count, friday_count)"
   ]
  },
  {
   "cell_type": "markdown",
   "metadata": {
    "id": "cC2tNrlL_Zcu"
   },
   "source": [
    "В среднем пользователи из двух городов менее активны по средам. Но картина может измениться, если рассмотреть каждый город в отдельности."
   ]
  },
  {
   "cell_type": "markdown",
   "metadata": {
    "id": "POzs8bGa_Zcu"
   },
   "source": [
    "Напишем функцию, которая объединит два эти расчёта - по городу и по дням недели.\n",
    "\n",
    "Создадим функцию `number_tracks()`, которая посчитает прослушивания для заданного дня и города. Ей понадобятся два параметра:\n",
    "* день недели,\n",
    "* название города.\n",
    "\n",
    "В функции сохраним в переменную строки исходной таблицы, у которых значение:\n",
    "  * в колонке `day` равно параметру `day`,\n",
    "  * в колонке `city` равно параметру `city`.\n",
    "\n",
    "Для этого применим последовательную фильтрацию с логической индексацией.\n",
    "\n",
    "Затем посчитаем значения в столбце `user_id` получившейся таблицы. Результат сохраним в новую переменную. "
   ]
  },
  {
   "cell_type": "code",
   "execution_count": 20,
   "metadata": {
    "id": "Nz3GdQB1_Zcu"
   },
   "outputs": [],
   "source": [
    "# <создание функции number_tracks()>\n",
    "# Объявляется функция с двумя параметрами: day, city.\n",
    "# В переменной track_list сохраняются те строки таблицы df, для которых \n",
    "# значение в столбце 'day' равно параметру day и одновременно значение\n",
    "# в столбце 'city' равно параметру city (используйте последовательную фильтрацию\n",
    "# с помощью логической индексации).\n",
    "# В переменной track_list_count сохраняется число значений столбца 'user_id',\n",
    "# рассчитанное методом count() для таблицы track_list.\n",
    "# Функция возвращает число - значение track_list_count.\n",
    "  \n",
    "# Функция для подсчёта прослушиваний для конкретного города и дня.\n",
    "# С помощью последовательной фильтрации с логической индексацией она \n",
    "# сначала получит из исходной таблицы строки с нужным днём,\n",
    "# затем из результата отфильтрует строки с нужным городом,\n",
    "# методом count() посчитает количество значений в колонке user_id. \n",
    "# Это количество функция вернёт в качестве результата\n",
    "\n",
    "def number_tracks(day, city):\n",
    "    track_list = df[df['day'] == day][df['city'] == city]\n",
    "    track_list_count = track_list['user_id'].count()\n",
    "    return track_list_count\n",
    "\n"
   ]
  },
  {
   "cell_type": "code",
   "execution_count": 34,
   "metadata": {},
   "outputs": [
    {
     "name": "stderr",
     "output_type": "stream",
     "text": [
      "/opt/conda/lib/python3.7/site-packages/ipykernel_launcher.py:1: UserWarning: Boolean Series key will be reindexed to match DataFrame index.\n",
      "  \"\"\"Entry point for launching an IPython kernel.\n",
      "/opt/conda/lib/python3.7/site-packages/ipykernel_launcher.py:2: UserWarning: Boolean Series key will be reindexed to match DataFrame index.\n",
      "  \n",
      "/opt/conda/lib/python3.7/site-packages/ipykernel_launcher.py:3: UserWarning: Boolean Series key will be reindexed to match DataFrame index.\n",
      "  This is separate from the ipykernel package so we can avoid doing imports until\n",
      "/opt/conda/lib/python3.7/site-packages/ipykernel_launcher.py:5: UserWarning: Boolean Series key will be reindexed to match DataFrame index.\n",
      "  \"\"\"\n",
      "/opt/conda/lib/python3.7/site-packages/ipykernel_launcher.py:6: UserWarning: Boolean Series key will be reindexed to match DataFrame index.\n",
      "  \n",
      "/opt/conda/lib/python3.7/site-packages/ipykernel_launcher.py:7: UserWarning: Boolean Series key will be reindexed to match DataFrame index.\n",
      "  import sys\n"
     ]
    }
   ],
   "source": [
    "moscow_monday = df[df['city'] == 'Moscow'][df['day'] == 'Monday']['user_id'].count()\n",
    "moscow_wednesday = df[df['city'] == 'Moscow'][df['day'] == 'Wednesday']['user_id'].count()\n",
    "moscow_friday = df[df['city'] == 'Moscow'][df['day'] == 'Friday']['user_id'].count()\n",
    "\n",
    "spb_monday = df[df['city'] == 'Saint-Petersburg'][df['day'] == 'Monday']['user_id'].count()\n",
    "spb_wednesday = df[df['city'] == 'Saint-Petersburg'][df['day'] == 'Wednesday']['user_id'].count()\n",
    "spb_friday = df[df['city'] == 'Saint-Petersburg'][df['day'] == 'Friday']['user_id'].count()\n"
   ]
  },
  {
   "cell_type": "markdown",
   "metadata": {
    "id": "ytf7xFrFJQ2r"
   },
   "source": [
    "Вызовем `number_tracks()` шесть раз, меняя значение параметров — так, чтобы получить данные для каждого города в каждый из трёх дней."
   ]
  },
  {
   "cell_type": "code",
   "execution_count": 21,
   "metadata": {
    "id": "rJcRATNQ_Zcu"
   },
   "outputs": [
    {
     "name": "stderr",
     "output_type": "stream",
     "text": [
      "/opt/conda/lib/python3.7/site-packages/ipykernel_launcher.py:19: UserWarning: Boolean Series key will be reindexed to match DataFrame index.\n"
     ]
    }
   ],
   "source": [
    "# количество прослушиваний в Москве по понедельникам\n",
    "monday_moscow = number_tracks('Monday', 'Moscow')"
   ]
  },
  {
   "cell_type": "code",
   "execution_count": 22,
   "metadata": {
    "id": "hq_ncZ5T_Zcu"
   },
   "outputs": [
    {
     "name": "stderr",
     "output_type": "stream",
     "text": [
      "/opt/conda/lib/python3.7/site-packages/ipykernel_launcher.py:19: UserWarning: Boolean Series key will be reindexed to match DataFrame index.\n"
     ]
    }
   ],
   "source": [
    "# количество прослушиваний в Санкт-Петербурге по понедельникам\n",
    "monday_spb = number_tracks('Monday', 'Saint-Petersburg')"
   ]
  },
  {
   "cell_type": "code",
   "execution_count": 23,
   "metadata": {
    "id": "_NTy2VPU_Zcu"
   },
   "outputs": [
    {
     "name": "stderr",
     "output_type": "stream",
     "text": [
      "/opt/conda/lib/python3.7/site-packages/ipykernel_launcher.py:19: UserWarning: Boolean Series key will be reindexed to match DataFrame index.\n"
     ]
    }
   ],
   "source": [
    "# количество прослушиваний в Москве по средам\n",
    "wednesday_moscow = number_tracks('Wednesday', 'Moscow')"
   ]
  },
  {
   "cell_type": "code",
   "execution_count": 24,
   "metadata": {
    "id": "j2y3TAwo_Zcu"
   },
   "outputs": [
    {
     "name": "stderr",
     "output_type": "stream",
     "text": [
      "/opt/conda/lib/python3.7/site-packages/ipykernel_launcher.py:19: UserWarning: Boolean Series key will be reindexed to match DataFrame index.\n"
     ]
    }
   ],
   "source": [
    "# количество прослушиваний в Санкт-Петербурге по средам\n",
    "wednesday_spb = number_tracks('Wednesday', 'Saint-Petersburg')"
   ]
  },
  {
   "cell_type": "code",
   "execution_count": 25,
   "metadata": {
    "id": "vYDw5u_K_Zcu"
   },
   "outputs": [
    {
     "name": "stderr",
     "output_type": "stream",
     "text": [
      "/opt/conda/lib/python3.7/site-packages/ipykernel_launcher.py:19: UserWarning: Boolean Series key will be reindexed to match DataFrame index.\n"
     ]
    }
   ],
   "source": [
    "# количество прослушиваний в Москве по пятницам\n",
    "friday_moscow = number_tracks('Friday', 'Moscow')"
   ]
  },
  {
   "cell_type": "code",
   "execution_count": 26,
   "metadata": {
    "id": "8_yzFtW3_Zcu"
   },
   "outputs": [
    {
     "name": "stderr",
     "output_type": "stream",
     "text": [
      "/opt/conda/lib/python3.7/site-packages/ipykernel_launcher.py:19: UserWarning: Boolean Series key will be reindexed to match DataFrame index.\n"
     ]
    }
   ],
   "source": [
    "# количество прослушиваний в Санкт-Петербурге по пятницам\n",
    "friday_spb = number_tracks('Friday', 'Saint-Petersburg')"
   ]
  },
  {
   "cell_type": "markdown",
   "metadata": {
    "id": "7QXffbO-_Zcu"
   },
   "source": [
    "Создадим c помощью конструктора `pd.DataFrame` таблицу, где\n",
    "* названия колонок — `['city', 'monday', 'wednesday', 'friday']`;\n",
    "* данные — результаты, которые вы получили с помощью `number_tracks`."
   ]
  },
  {
   "cell_type": "code",
   "execution_count": 27,
   "metadata": {
    "id": "APAcLpOr_Zcu"
   },
   "outputs": [
    {
     "data": {
      "text/html": [
       "<div>\n",
       "<style scoped>\n",
       "    .dataframe tbody tr th:only-of-type {\n",
       "        vertical-align: middle;\n",
       "    }\n",
       "\n",
       "    .dataframe tbody tr th {\n",
       "        vertical-align: top;\n",
       "    }\n",
       "\n",
       "    .dataframe thead th {\n",
       "        text-align: right;\n",
       "    }\n",
       "</style>\n",
       "<table border=\"1\" class=\"dataframe\">\n",
       "  <thead>\n",
       "    <tr style=\"text-align: right;\">\n",
       "      <th></th>\n",
       "      <th>city</th>\n",
       "      <th>monday</th>\n",
       "      <th>wednesday</th>\n",
       "      <th>friday</th>\n",
       "    </tr>\n",
       "  </thead>\n",
       "  <tbody>\n",
       "    <tr>\n",
       "      <td>0</td>\n",
       "      <td>Moscow</td>\n",
       "      <td>15740</td>\n",
       "      <td>11056</td>\n",
       "      <td>15945</td>\n",
       "    </tr>\n",
       "    <tr>\n",
       "      <td>1</td>\n",
       "      <td>Saint-Petersburg</td>\n",
       "      <td>5614</td>\n",
       "      <td>7003</td>\n",
       "      <td>5895</td>\n",
       "    </tr>\n",
       "  </tbody>\n",
       "</table>\n",
       "</div>"
      ],
      "text/plain": [
       "               city  monday  wednesday  friday\n",
       "0            Moscow   15740      11056   15945\n",
       "1  Saint-Petersburg    5614       7003    5895"
      ]
     },
     "execution_count": 27,
     "metadata": {},
     "output_type": "execute_result"
    }
   ],
   "source": [
    "# Таблица с результатами\n",
    "data = [['Moscow', monday_moscow, wednesday_moscow, friday_moscow],\n",
    "       ['Saint-Petersburg', monday_spb, wednesday_spb, friday_spb]]\n",
    "\n",
    "columns = ['city', 'monday', 'wednesday', 'friday']\n",
    "\n",
    "pd.DataFrame(data=data, columns=columns)\n"
   ]
  },
  {
   "cell_type": "markdown",
   "metadata": {
    "id": "-EgPIHYu_Zcu"
   },
   "source": [
    "**Выводы**\n",
    "\n",
    "Данные показывают разницу поведения пользователей:\n",
    "\n",
    "- В Москве пик прослушиваний приходится на понедельник и пятницу, а в среду заметен спад.\n",
    "- В Петербурге, наоборот, больше слушают музыку по средам. Активность в понедельник и пятницу здесь почти в равной мере уступает среде.\n",
    "\n",
    "Значит, данные говорят в пользу первой гипотезы."
   ]
  },
  {
   "cell_type": "markdown",
   "metadata": {
    "id": "atZAxtq4_Zcu"
   },
   "source": [
    "### Музыка в начале и в конце недели"
   ]
  },
  {
   "cell_type": "markdown",
   "metadata": {
    "id": "eXrQqXFH_Zcu"
   },
   "source": [
    "Согласно второй гипотезе, утром в понедельник в Москве преобладают одни жанры, а в Петербурге — другие. Так же и вечером пятницы преобладают разные жанры — в зависимости от города."
   ]
  },
  {
   "cell_type": "markdown",
   "metadata": {
    "id": "S8UcW6Hw_Zcu"
   },
   "source": [
    "Сохраним таблицы с данными в две переменные:\n",
    "* по Москве — в `moscow_general`;\n",
    "* по Санкт-Петербургу — в `spb_general`."
   ]
  },
  {
   "cell_type": "code",
   "execution_count": 28,
   "metadata": {
    "id": "qeaFfM_P_Zcu"
   },
   "outputs": [],
   "source": [
    "# получение таблицы moscow_general из тех строк таблицы df, \n",
    "# для которых значение в столбце 'city' равно 'Moscow'\n",
    "moscow_general = df[df['city'] == 'Moscow']\n"
   ]
  },
  {
   "cell_type": "code",
   "execution_count": 29,
   "metadata": {
    "id": "ORaVRKto_Zcu"
   },
   "outputs": [],
   "source": [
    "# получение таблицы spb_general из тех строк таблицы df,\n",
    "# для которых значение в столбце 'city' равно 'Saint-Petersburg'\n",
    "spb_general = df[df['city'] == 'Saint-Petersburg']\n"
   ]
  },
  {
   "cell_type": "markdown",
   "metadata": {
    "id": "MEJV-CX2_Zcu"
   },
   "source": [
    "Создадим функцию `genre_weekday()` с четырьмя параметрами:\n",
    "* таблица (датафрейм) с данными,\n",
    "* день недели,\n",
    "* начальная временная метка в формате 'hh:mm', \n",
    "* последняя временная метка в формате 'hh:mm'.\n",
    "\n",
    "Функция должна вернуть информацию о топ-10 жанров тех треков, которые прослушивали в указанный день, в промежутке между двумя отметками времени."
   ]
  },
  {
   "cell_type": "code",
   "execution_count": 30,
   "metadata": {
    "id": "laJT9BYl_Zcu"
   },
   "outputs": [],
   "source": [
    "# Объявление функции genre_weekday() с параметрами table, day, time1, time2,\n",
    "# которая возвращает информацию о самых популярных жанрах в указанный день в\n",
    "# заданное время:\n",
    "# 1) в переменную genre_df сохраняются те строки переданного датафрейма table, для\n",
    "#    которых одновременно:\n",
    "#    - значение в столбце day равно значению аргумента day\n",
    "#    - значение в столбце time больше значения аргумента time1\n",
    "#    - значение в столбце time меньше значения аргумента time2\n",
    "#    Используйте последовательную фильтрацию с помощью логической индексации.\n",
    "# 2) сгруппировать датафрейм genre_df по столбцу genre, взять один из его\n",
    "#    столбцов и посчитать методом count() количество записей для каждого из\n",
    "#    присутствующих жанров, получившийся Series записать в переменную\n",
    "#    genre_df_count\n",
    "# 3) отсортировать genre_df_count по убыванию встречаемости и сохранить\n",
    "#    в переменную genre_df_sorted\n",
    "# 4) вернуть Series из 10 первых значений genre_df_sorted, это будут топ-10\n",
    "#    популярных жанров (в указанный день, в заданное время)\n",
    "\n",
    "def genre_weekday(table, day, time1, time2):\n",
    "    genre_df = table[table['day'] == day][table['time'] > time1][table['time'] < time2]\n",
    "    genre_df_count = genre_df.groupby('genre')['user_id'].count()\n",
    "    genre_df_sorted = genre_df_count.sort_values(ascending=False)\n",
    "    return genre_df_sorted.head(10)"
   ]
  },
  {
   "cell_type": "markdown",
   "metadata": {
    "id": "la2s2_PF_Zcu"
   },
   "source": [
    "Cравним результаты функции `genre_weekday()` для Москвы и Санкт-Петербурга в понедельник утром (с 7:00 до 11:00) и в пятницу вечером (с 17:00 до 23:00):"
   ]
  },
  {
   "cell_type": "code",
   "execution_count": 31,
   "metadata": {
    "id": "yz7itPUQ_Zcu"
   },
   "outputs": [
    {
     "name": "stderr",
     "output_type": "stream",
     "text": [
      "/opt/conda/lib/python3.7/site-packages/ipykernel_launcher.py:20: UserWarning: Boolean Series key will be reindexed to match DataFrame index.\n"
     ]
    },
    {
     "name": "stdout",
     "output_type": "stream",
     "text": [
      "genre\n",
      "pop            781\n",
      "dance          549\n",
      "electronic     480\n",
      "rock           474\n",
      "hiphop         286\n",
      "ruspop         186\n",
      "world          181\n",
      "rusrap         175\n",
      "alternative    164\n",
      "unknown        161\n",
      "Name: user_id, dtype: int64\n"
     ]
    }
   ],
   "source": [
    "# вызов функции для утра понедельника в Москве (вместо df — таблица moscow_general)\n",
    "# объекты, хранящие время, являются строками и сравниваются как строки\n",
    "# пример вызова: genre_weekday(moscow_general, 'Monday', '07:00', '11:00')\n",
    "\n",
    "moscow_monday_morning = genre_weekday(moscow_general, 'Monday', '07:00', '11:00')\n",
    "print(moscow_monday_morning)"
   ]
  },
  {
   "cell_type": "code",
   "execution_count": 32,
   "metadata": {
    "id": "kwUcHPdy_Zcu"
   },
   "outputs": [
    {
     "name": "stdout",
     "output_type": "stream",
     "text": [
      "genre\n",
      "pop            218\n",
      "dance          182\n",
      "rock           162\n",
      "electronic     147\n",
      "hiphop          80\n",
      "ruspop          64\n",
      "alternative     58\n",
      "rusrap          55\n",
      "jazz            44\n",
      "classical       40\n",
      "Name: user_id, dtype: int64\n"
     ]
    },
    {
     "name": "stderr",
     "output_type": "stream",
     "text": [
      "/opt/conda/lib/python3.7/site-packages/ipykernel_launcher.py:20: UserWarning: Boolean Series key will be reindexed to match DataFrame index.\n"
     ]
    }
   ],
   "source": [
    "# вызов функции для утра понедельника в Петербурге (вместо df — таблица spb_general)\n",
    "spb_monday_morning = genre_weekday(spb_general, 'Monday', '07:00', '11:00')\n",
    "print(spb_monday_morning)"
   ]
  },
  {
   "cell_type": "code",
   "execution_count": 33,
   "metadata": {
    "id": "EzXVRE1o_Zcu"
   },
   "outputs": [
    {
     "name": "stdout",
     "output_type": "stream",
     "text": [
      "genre\n",
      "pop            713\n",
      "rock           517\n",
      "dance          495\n",
      "electronic     482\n",
      "hiphop         273\n",
      "world          208\n",
      "ruspop         170\n",
      "alternative    163\n",
      "classical      163\n",
      "rusrap         142\n",
      "Name: user_id, dtype: int64\n"
     ]
    },
    {
     "name": "stderr",
     "output_type": "stream",
     "text": [
      "/opt/conda/lib/python3.7/site-packages/ipykernel_launcher.py:20: UserWarning: Boolean Series key will be reindexed to match DataFrame index.\n"
     ]
    }
   ],
   "source": [
    "# вызов функции для вечера пятницы в Москве\n",
    "moscow_friday_evening = genre_weekday(moscow_general, 'Friday', '18:00', '24:00')\n",
    "print(moscow_friday_evening)"
   ]
  },
  {
   "cell_type": "code",
   "execution_count": 34,
   "metadata": {
    "id": "JZaEKu5v_Zcu"
   },
   "outputs": [
    {
     "name": "stdout",
     "output_type": "stream",
     "text": [
      "genre\n",
      "pop            256\n",
      "rock           216\n",
      "electronic     216\n",
      "dance          210\n",
      "hiphop          97\n",
      "alternative     63\n",
      "jazz            61\n",
      "classical       60\n",
      "rusrap          59\n",
      "world           54\n",
      "Name: user_id, dtype: int64\n"
     ]
    },
    {
     "name": "stderr",
     "output_type": "stream",
     "text": [
      "/opt/conda/lib/python3.7/site-packages/ipykernel_launcher.py:20: UserWarning: Boolean Series key will be reindexed to match DataFrame index.\n"
     ]
    }
   ],
   "source": [
    "# вызов функции для вечера пятницы в Петербурге\n",
    "spb_friday_evening = genre_weekday(spb_general, 'Friday', '18:00', '24:00')\n",
    "print(spb_friday_evening)"
   ]
  },
  {
   "cell_type": "markdown",
   "metadata": {
    "id": "wrCe4MNX_Zcu"
   },
   "source": [
    "**Выводы**\n",
    "\n",
    "Если сравнить топ-10 жанров в понедельник утром, можно сделать такие выводы:\n",
    "\n",
    "1. В Москве и Петербурге слушают похожую музыку. Единственное отличие — в московский рейтинг вошёл жанр “world”, а в петербургский — джаз и классика.\n",
    "\n",
    "2. В Москве пропущенных значений оказалось так много, что значение `'unknown'` заняло десятое место среди самых популярных жанров. Значит, пропущенные значения занимают существенную долю в данных и угрожают достоверности исследования.\n",
    "\n",
    "Вечер пятницы не меняет эту картину. Некоторые жанры поднимаются немного выше, другие спускаются, но в целом топ-10 остаётся тем же самым.\n",
    "\n",
    "Таким образом, вторая гипотеза подтвердилась лишь частично:\n",
    "* Пользователи слушают похожую музыку в начале недели и в конце.\n",
    "* Разница между Москвой и Петербургом не слишком выражена. В Москве чаще слушают русскую популярную музыку, в Петербурге — джаз.\n",
    "\n",
    "Однако пропуски в данных ставят под сомнение этот результат. В Москве их так много, что рейтинг топ-10 мог бы выглядеть иначе, если бы не утерянные  данные о жанрах."
   ]
  },
  {
   "cell_type": "markdown",
   "metadata": {
    "id": "JolODAqr_Zcu"
   },
   "source": [
    "### Жанровые предпочтения в Москве и Петербурге\n",
    "\n",
    "Гипотеза: Петербург — столица рэпа, музыку этого жанра там слушают чаще, чем в Москве.  А Москва — город контрастов, в котором, тем не менее, преобладает поп-музыка."
   ]
  },
  {
   "cell_type": "markdown",
   "metadata": {
    "id": "DlegSvaT_Zcu"
   },
   "source": [
    "Сгруппируем таблицу `moscow_general` по жанру и посчитаем прослушивания треков каждого жанра методом `count()`. Затем отсортируем результат в порядке убывания и сохраните его в таблице `moscow_genres`."
   ]
  },
  {
   "cell_type": "code",
   "execution_count": 35,
   "metadata": {
    "id": "r19lIPke_Zcu"
   },
   "outputs": [],
   "source": [
    "# одной строкой: группировка таблицы moscow_general по столбцу 'genre', \n",
    "# подсчёт числа значений 'genre' в этой группировке методом count(), \n",
    "# сортировка получившегося Series в порядке убывания и сохранение в moscow_genres\n",
    "moscow_genres = moscow_general.groupby('genre')['user_id'].count().sort_values(ascending=False)\n"
   ]
  },
  {
   "cell_type": "markdown",
   "metadata": {
    "id": "6kMuomxTiIr8"
   },
   "source": [
    "Выведем на экран первые десять строк `moscow_genres`:"
   ]
  },
  {
   "cell_type": "code",
   "execution_count": 36,
   "metadata": {
    "id": "WhCSooF8_Zcv"
   },
   "outputs": [
    {
     "data": {
      "text/plain": [
       "genre\n",
       "pop            5892\n",
       "dance          4435\n",
       "rock           3965\n",
       "electronic     3786\n",
       "hiphop         2096\n",
       "classical      1616\n",
       "world          1432\n",
       "alternative    1379\n",
       "ruspop         1372\n",
       "rusrap         1161\n",
       "Name: user_id, dtype: int64"
      ]
     },
     "metadata": {},
     "output_type": "display_data"
    }
   ],
   "source": [
    "# просмотр первых 10 строк moscow_genres\n",
    "display(moscow_genres.head(10))"
   ]
  },
  {
   "cell_type": "markdown",
   "metadata": {
    "id": "cnPG2vnN_Zcv"
   },
   "source": [
    "Теперь повторим то же и для Петербурга.\n",
    "\n",
    "Сгруппируем таблицу `spb_general` по жанру. Посчитаем прослушивания треков каждого жанра. Результат отсортируем в порядке убывания и сохраним в таблице `spb_genres`:\n"
   ]
  },
  {
   "cell_type": "code",
   "execution_count": 37,
   "metadata": {
    "id": "gluLIpE7_Zcv"
   },
   "outputs": [],
   "source": [
    "# одной строкой: группировка таблицы spb_general по столбцу 'genre', \n",
    "# подсчёт числа значений 'genre' в этой группировке методом count(), \n",
    "# сортировка получившегося Series в порядке убывания и сохранение в spb_genres\n",
    "spb_genres = spb_general.groupby('genre')['user_id'].count().sort_values(ascending=False)"
   ]
  },
  {
   "cell_type": "markdown",
   "metadata": {
    "id": "5Doha_ODgyQ8"
   },
   "source": [
    "Выведем на экран первые десять строк `spb_genres`:"
   ]
  },
  {
   "cell_type": "code",
   "execution_count": 38,
   "metadata": {
    "id": "uaGJHjVU_Zcv"
   },
   "outputs": [
    {
     "data": {
      "text/plain": [
       "genre\n",
       "pop            2431\n",
       "dance          1932\n",
       "rock           1879\n",
       "electronic     1736\n",
       "hiphop          960\n",
       "alternative     649\n",
       "classical       646\n",
       "rusrap          564\n",
       "ruspop          538\n",
       "world           515\n",
       "Name: user_id, dtype: int64"
      ]
     },
     "metadata": {},
     "output_type": "display_data"
    }
   ],
   "source": [
    "# просмотр первых 10 строк spb_genres\n",
    "display(spb_genres.head(10))"
   ]
  },
  {
   "cell_type": "markdown",
   "metadata": {
    "id": "RY51YJYu_Zcv"
   },
   "source": [
    "**Выводы**"
   ]
  },
  {
   "cell_type": "markdown",
   "metadata": {
    "id": "nVhnJEm__Zcv"
   },
   "source": [
    "Гипотеза частично подтвердилась:\n",
    "* Поп-музыка — самый популярный жанр в Москве, как и предполагала гипотеза. Более того, в топ-10 жанров встречается близкий жанр — русская популярная музыка.\n",
    "* Вопреки ожиданиям, рэп одинаково популярен в Москве и Петербурге. \n"
   ]
  },
  {
   "cell_type": "markdown",
   "metadata": {
    "id": "ykKQ0N65_Zcv"
   },
   "source": [
    "## Итоги исследования"
   ]
  },
  {
   "cell_type": "markdown",
   "metadata": {
    "id": "tjUwbHb3_Zcv"
   },
   "source": [
    "Мы проверили три гипотезы и установили:\n",
    "\n",
    "1. День недели по-разному влияет на активность пользователей в Москве и Петербурге. \n",
    "\n",
    "Первая гипотеза полностью подтвердилась.\n",
    "\n",
    "2. Музыкальные предпочтения не сильно меняются в течение недели — будь то Москва или Петербург. Небольшие различия заметны в начале недели, по понедельникам:\n",
    "* в Москве слушают музыку жанра “world”,\n",
    "* в Петербурге — джаз и классику.\n",
    "\n",
    "Таким образом, вторая гипотеза подтвердилась лишь отчасти. Этот результат мог оказаться иным, если бы не пропуски в данных.\n",
    "\n",
    "3. Во вкусах пользователей Москвы и Петербурга больше общего чем различий. Вопреки ожиданиям, предпочтения жанров в Петербурге напоминают московские.\n",
    "\n",
    "Третья гипотеза не подтвердилась. Если различия в предпочтениях и существуют, на основной массе пользователей они незаметны.\n",
    "\n",
    "**На практике исследования содержат проверки статистических гипотез.**\n",
    "Из данных одного сервиса не всегда можно сделать вывод о всех жителях города.\n",
    "Проверки статистических гипотез покажут, насколько они достоверны, исходя из имеющихся данных. \n",
    "С методами проверок гипотез вы ещё познакомитесь в следующих темах."
   ]
  },
  {
   "cell_type": "code",
   "execution_count": null,
   "metadata": {},
   "outputs": [],
   "source": []
  }
 ],
 "metadata": {
  "ExecuteTimeLog": [
   {
    "duration": 4,
    "start_time": "2021-09-01T22:44:00.706Z"
   },
   {
    "duration": 182,
    "start_time": "2021-09-01T22:44:04.402Z"
   },
   {
    "duration": 16,
    "start_time": "2021-09-01T22:44:07.005Z"
   },
   {
    "duration": 15,
    "start_time": "2021-09-01T22:44:17.509Z"
   },
   {
    "duration": 35,
    "start_time": "2021-09-01T22:44:29.261Z"
   },
   {
    "duration": 34,
    "start_time": "2021-09-01T22:44:38.425Z"
   },
   {
    "duration": 35,
    "start_time": "2021-09-01T22:44:46.618Z"
   },
   {
    "duration": 40,
    "start_time": "2021-09-01T22:44:57.959Z"
   },
   {
    "duration": 325,
    "start_time": "2021-09-01T22:47:38.574Z"
   },
   {
    "duration": 5,
    "start_time": "2021-09-01T22:47:53.810Z"
   },
   {
    "duration": 40,
    "start_time": "2021-09-01T22:50:41.146Z"
   },
   {
    "duration": 6,
    "start_time": "2021-09-01T22:51:05.172Z"
   },
   {
    "duration": 44,
    "start_time": "2021-09-01T22:51:26.235Z"
   },
   {
    "duration": 34,
    "start_time": "2021-09-01T22:51:36.829Z"
   },
   {
    "duration": 32,
    "start_time": "2021-09-01T22:55:54.750Z"
   },
   {
    "duration": 34,
    "start_time": "2021-09-01T22:56:08.656Z"
   },
   {
    "duration": 33,
    "start_time": "2021-09-01T22:56:22.377Z"
   },
   {
    "duration": 32,
    "start_time": "2021-09-01T22:56:33.535Z"
   },
   {
    "duration": 262,
    "start_time": "2021-09-01T22:58:44.698Z"
   },
   {
    "duration": -69,
    "start_time": "2021-09-01T22:59:24.288Z"
   },
   {
    "duration": 31,
    "start_time": "2021-09-01T22:59:36.991Z"
   },
   {
    "duration": 6873,
    "start_time": "2021-09-01T22:59:44.787Z"
   },
   {
    "duration": 6727,
    "start_time": "2021-09-01T23:00:53.625Z"
   },
   {
    "duration": 6955,
    "start_time": "2021-09-01T23:01:17.565Z"
   },
   {
    "duration": 12,
    "start_time": "2021-09-01T23:01:38.891Z"
   },
   {
    "duration": 33,
    "start_time": "2021-09-01T23:02:07.689Z"
   },
   {
    "duration": 14,
    "start_time": "2021-09-01T23:02:14.349Z"
   },
   {
    "duration": 23,
    "start_time": "2021-09-01T23:02:56.010Z"
   },
   {
    "duration": 6,
    "start_time": "2021-09-01T23:03:01.152Z"
   },
   {
    "duration": 32,
    "start_time": "2021-09-01T23:03:08.382Z"
   },
   {
    "duration": 21,
    "start_time": "2021-09-01T23:03:20.273Z"
   },
   {
    "duration": 31,
    "start_time": "2021-09-01T23:03:34.523Z"
   },
   {
    "duration": 29,
    "start_time": "2021-09-01T23:03:58.756Z"
   },
   {
    "duration": 32,
    "start_time": "2021-09-01T23:04:07.484Z"
   },
   {
    "duration": 98,
    "start_time": "2021-09-01T23:05:03.101Z"
   },
   {
    "duration": 38,
    "start_time": "2021-09-01T23:05:16.260Z"
   },
   {
    "duration": 95,
    "start_time": "2021-09-01T23:06:26.208Z"
   },
   {
    "duration": 97,
    "start_time": "2021-09-01T23:06:29.621Z"
   },
   {
    "duration": 83,
    "start_time": "2021-09-01T23:06:55.504Z"
   },
   {
    "duration": 59,
    "start_time": "2021-09-01T23:07:43.174Z"
   },
   {
    "duration": 14,
    "start_time": "2021-09-01T23:10:27.095Z"
   },
   {
    "duration": 291,
    "start_time": "2021-09-01T23:15:03.188Z"
   },
   {
    "duration": 4,
    "start_time": "2021-09-01T23:15:10.494Z"
   },
   {
    "duration": 265,
    "start_time": "2021-09-01T23:15:14.586Z"
   },
   {
    "duration": 4,
    "start_time": "2021-09-01T23:16:43.111Z"
   },
   {
    "duration": 280,
    "start_time": "2021-09-01T23:16:47.906Z"
   },
   {
    "duration": 5,
    "start_time": "2021-09-01T23:17:01.359Z"
   },
   {
    "duration": 326,
    "start_time": "2021-09-01T23:17:10.483Z"
   },
   {
    "duration": 12,
    "start_time": "2021-09-01T23:17:38.362Z"
   },
   {
    "duration": 18,
    "start_time": "2021-09-01T23:18:27.505Z"
   },
   {
    "duration": 20,
    "start_time": "2021-09-01T23:18:46.126Z"
   },
   {
    "duration": 4,
    "start_time": "2021-09-01T23:20:30.727Z"
   },
   {
    "duration": 19,
    "start_time": "2021-09-01T23:20:51.813Z"
   },
   {
    "duration": 18,
    "start_time": "2021-09-01T23:21:00.797Z"
   },
   {
    "duration": 4,
    "start_time": "2021-09-01T23:22:12.591Z"
   },
   {
    "duration": 19,
    "start_time": "2021-09-01T23:22:25.645Z"
   },
   {
    "duration": 4,
    "start_time": "2021-09-01T23:22:41.223Z"
   },
   {
    "duration": 182,
    "start_time": "2021-09-01T23:22:41.229Z"
   },
   {
    "duration": 14,
    "start_time": "2021-09-01T23:22:41.414Z"
   },
   {
    "duration": 52,
    "start_time": "2021-09-01T23:22:41.431Z"
   },
   {
    "duration": 5,
    "start_time": "2021-09-01T23:22:41.485Z"
   },
   {
    "duration": 28,
    "start_time": "2021-09-01T23:22:41.492Z"
   },
   {
    "duration": 4,
    "start_time": "2021-09-01T23:22:41.523Z"
   },
   {
    "duration": 69,
    "start_time": "2021-09-01T23:22:41.531Z"
   },
   {
    "duration": 22,
    "start_time": "2021-09-01T23:22:41.603Z"
   },
   {
    "duration": 44,
    "start_time": "2021-09-01T23:22:41.628Z"
   },
   {
    "duration": 101,
    "start_time": "2021-09-01T23:22:41.675Z"
   },
   {
    "duration": 103,
    "start_time": "2021-09-01T23:22:41.778Z"
   },
   {
    "duration": 85,
    "start_time": "2021-09-01T23:22:41.883Z"
   },
   {
    "duration": 59,
    "start_time": "2021-09-01T23:22:41.970Z"
   },
   {
    "duration": 60,
    "start_time": "2021-09-01T23:23:29.244Z"
   },
   {
    "duration": 4,
    "start_time": "2021-09-01T23:23:59.693Z"
   },
   {
    "duration": 5,
    "start_time": "2021-09-01T23:24:24.828Z"
   },
   {
    "duration": 8,
    "start_time": "2021-09-01T23:24:28.046Z"
   },
   {
    "duration": 61,
    "start_time": "2021-09-01T23:24:33.671Z"
   },
   {
    "duration": 59,
    "start_time": "2021-09-01T23:24:40.640Z"
   },
   {
    "duration": 7,
    "start_time": "2021-09-01T23:25:48.534Z"
   },
   {
    "duration": 11,
    "start_time": "2021-09-01T23:25:52.206Z"
   },
   {
    "duration": 58,
    "start_time": "2021-09-01T23:25:58.804Z"
   },
   {
    "duration": 53,
    "start_time": "2021-09-01T23:34:23.894Z"
   },
   {
    "duration": 53,
    "start_time": "2021-09-01T23:34:30.334Z"
   },
   {
    "duration": 53,
    "start_time": "2021-09-01T23:34:49.045Z"
   },
   {
    "duration": 30,
    "start_time": "2021-09-01T23:35:22.113Z"
   },
   {
    "duration": 31,
    "start_time": "2021-09-01T23:35:24.580Z"
   },
   {
    "duration": 31,
    "start_time": "2021-09-01T23:35:45.166Z"
   },
   {
    "duration": 34,
    "start_time": "2021-09-01T23:36:05.811Z"
   },
   {
    "duration": 32,
    "start_time": "2021-09-01T23:36:16.635Z"
   },
   {
    "duration": 32,
    "start_time": "2021-09-01T23:37:43.276Z"
   },
   {
    "duration": 90,
    "start_time": "2021-09-01T23:39:55.623Z"
   },
   {
    "duration": 98,
    "start_time": "2021-09-01T23:40:41.848Z"
   },
   {
    "duration": 76,
    "start_time": "2021-09-01T23:41:30.865Z"
   },
   {
    "duration": 123,
    "start_time": "2021-09-01T23:43:37.623Z"
   },
   {
    "duration": 131,
    "start_time": "2021-09-01T23:44:05.049Z"
   },
   {
    "duration": 388,
    "start_time": "2021-09-02T03:35:50.260Z"
   },
   {
    "duration": 555,
    "start_time": "2021-09-02T03:36:13.024Z"
   },
   {
    "duration": 180,
    "start_time": "2021-09-02T03:36:13.581Z"
   },
   {
    "duration": 16,
    "start_time": "2021-09-02T03:36:13.764Z"
   },
   {
    "duration": 25,
    "start_time": "2021-09-02T03:36:13.782Z"
   },
   {
    "duration": 4,
    "start_time": "2021-09-02T03:36:13.809Z"
   },
   {
    "duration": 22,
    "start_time": "2021-09-02T03:36:13.815Z"
   },
   {
    "duration": 4,
    "start_time": "2021-09-02T03:36:13.839Z"
   },
   {
    "duration": 56,
    "start_time": "2021-09-02T03:36:13.846Z"
   },
   {
    "duration": 17,
    "start_time": "2021-09-02T03:36:13.904Z"
   },
   {
    "duration": 21,
    "start_time": "2021-09-02T03:36:13.923Z"
   },
   {
    "duration": 80,
    "start_time": "2021-09-02T03:36:13.946Z"
   },
   {
    "duration": 78,
    "start_time": "2021-09-02T03:36:14.028Z"
   },
   {
    "duration": 48,
    "start_time": "2021-09-02T03:36:14.108Z"
   },
   {
    "duration": 50,
    "start_time": "2021-09-02T03:36:14.157Z"
   },
   {
    "duration": 3,
    "start_time": "2021-09-02T03:36:14.209Z"
   },
   {
    "duration": 10,
    "start_time": "2021-09-02T03:36:14.213Z"
   },
   {
    "duration": 37,
    "start_time": "2021-09-02T03:36:14.225Z"
   },
   {
    "duration": 37,
    "start_time": "2021-09-02T03:36:14.264Z"
   },
   {
    "duration": 412,
    "start_time": "2021-09-02T03:36:30.457Z"
   },
   {
    "duration": 30,
    "start_time": "2021-09-02T03:36:57.438Z"
   },
   {
    "duration": 28,
    "start_time": "2021-09-02T03:37:26.380Z"
   },
   {
    "duration": 29,
    "start_time": "2021-09-02T03:38:16.503Z"
   },
   {
    "duration": 28,
    "start_time": "2021-09-02T03:38:38.820Z"
   },
   {
    "duration": 30,
    "start_time": "2021-09-02T03:39:33.026Z"
   },
   {
    "duration": 28,
    "start_time": "2021-09-02T03:39:43.428Z"
   },
   {
    "duration": 100,
    "start_time": "2021-09-02T03:44:21.814Z"
   },
   {
    "duration": 4,
    "start_time": "2021-09-02T03:44:52.490Z"
   },
   {
    "duration": 12,
    "start_time": "2021-09-02T03:46:55.322Z"
   },
   {
    "duration": 20,
    "start_time": "2021-09-02T03:47:45.387Z"
   },
   {
    "duration": 18,
    "start_time": "2021-09-02T03:48:10.992Z"
   },
   {
    "duration": 17,
    "start_time": "2021-09-02T03:48:13.948Z"
   },
   {
    "duration": 16,
    "start_time": "2021-09-02T03:48:26.279Z"
   },
   {
    "duration": 20,
    "start_time": "2021-09-02T03:48:40.310Z"
   },
   {
    "duration": 17,
    "start_time": "2021-09-02T03:48:55.743Z"
   },
   {
    "duration": 18,
    "start_time": "2021-09-02T03:49:36.464Z"
   },
   {
    "duration": 19,
    "start_time": "2021-09-02T03:49:42.850Z"
   },
   {
    "duration": 18,
    "start_time": "2021-09-02T03:50:06.065Z"
   },
   {
    "duration": 16,
    "start_time": "2021-09-02T03:50:27.735Z"
   },
   {
    "duration": 15,
    "start_time": "2021-09-02T03:50:42.129Z"
   },
   {
    "duration": 18,
    "start_time": "2021-09-02T03:50:55.804Z"
   },
   {
    "duration": 17,
    "start_time": "2021-09-02T03:51:09.784Z"
   },
   {
    "duration": 3,
    "start_time": "2021-09-02T03:52:54.534Z"
   },
   {
    "duration": 286,
    "start_time": "2021-09-02T03:53:56.072Z"
   },
   {
    "duration": 8,
    "start_time": "2021-09-02T03:54:19.550Z"
   },
   {
    "duration": 8,
    "start_time": "2021-09-02T03:54:35.517Z"
   },
   {
    "duration": 7635,
    "start_time": "2021-09-02T03:56:09.526Z"
   },
   {
    "duration": 11,
    "start_time": "2021-09-02T03:56:40.861Z"
   },
   {
    "duration": 9,
    "start_time": "2021-09-02T03:57:07.607Z"
   },
   {
    "duration": 324,
    "start_time": "2021-09-02T03:57:45.633Z"
   },
   {
    "duration": 17,
    "start_time": "2021-09-02T03:57:58.479Z"
   },
   {
    "duration": 16,
    "start_time": "2021-09-02T03:58:06.212Z"
   },
   {
    "duration": 17,
    "start_time": "2021-09-02T03:58:13.224Z"
   },
   {
    "duration": 22,
    "start_time": "2021-09-02T03:58:35.736Z"
   },
   {
    "duration": 3,
    "start_time": "2021-09-02T04:04:36.197Z"
   },
   {
    "duration": 4,
    "start_time": "2021-09-02T04:07:19.413Z"
   },
   {
    "duration": 612,
    "start_time": "2021-09-02T04:08:18.110Z"
   },
   {
    "duration": 4,
    "start_time": "2021-09-02T04:09:13.660Z"
   },
   {
    "duration": 1402,
    "start_time": "2021-09-02T04:09:17.046Z"
   },
   {
    "duration": 614,
    "start_time": "2021-09-02T04:09:45.615Z"
   },
   {
    "duration": 3,
    "start_time": "2021-09-02T04:10:01.420Z"
   },
   {
    "duration": 23,
    "start_time": "2021-09-02T04:10:05.487Z"
   },
   {
    "duration": 4,
    "start_time": "2021-09-02T04:10:16.167Z"
   },
   {
    "duration": 23,
    "start_time": "2021-09-02T04:10:27.382Z"
   },
   {
    "duration": 15,
    "start_time": "2021-09-02T04:11:10.737Z"
   },
   {
    "duration": 22,
    "start_time": "2021-09-02T04:12:09.021Z"
   },
   {
    "duration": 15,
    "start_time": "2021-09-02T04:12:22.972Z"
   },
   {
    "duration": 20,
    "start_time": "2021-09-02T04:13:06.084Z"
   },
   {
    "duration": 14,
    "start_time": "2021-09-02T04:13:54.633Z"
   },
   {
    "duration": 325,
    "start_time": "2021-09-02T04:33:49.354Z"
   },
   {
    "duration": 8,
    "start_time": "2021-09-02T04:34:37.444Z"
   },
   {
    "duration": 5,
    "start_time": "2021-09-02T04:34:58.622Z"
   },
   {
    "duration": 7,
    "start_time": "2021-09-02T04:36:05.624Z"
   },
   {
    "duration": 7,
    "start_time": "2021-09-02T04:36:06.973Z"
   },
   {
    "duration": 5,
    "start_time": "2021-09-02T04:36:22.026Z"
   },
   {
    "duration": 4,
    "start_time": "2021-09-02T04:36:27.229Z"
   },
   {
    "duration": 7,
    "start_time": "2021-09-02T04:36:47.108Z"
   },
   {
    "duration": 4,
    "start_time": "2021-09-02T04:36:49.487Z"
   },
   {
    "duration": 38,
    "start_time": "2021-09-02T04:40:25.970Z"
   },
   {
    "duration": 8,
    "start_time": "2021-09-02T04:40:44.179Z"
   },
   {
    "duration": 39,
    "start_time": "2021-09-02T04:40:55.031Z"
   },
   {
    "duration": 2,
    "start_time": "2021-09-02T04:43:52.088Z"
   },
   {
    "duration": 134,
    "start_time": "2021-09-02T04:43:52.094Z"
   },
   {
    "duration": 10,
    "start_time": "2021-09-02T04:43:52.229Z"
   },
   {
    "duration": 45,
    "start_time": "2021-09-02T04:43:52.240Z"
   },
   {
    "duration": 3,
    "start_time": "2021-09-02T04:43:52.287Z"
   },
   {
    "duration": 23,
    "start_time": "2021-09-02T04:43:52.291Z"
   },
   {
    "duration": 4,
    "start_time": "2021-09-02T04:43:52.315Z"
   },
   {
    "duration": 23,
    "start_time": "2021-09-02T04:43:52.320Z"
   },
   {
    "duration": 40,
    "start_time": "2021-09-02T04:43:52.345Z"
   },
   {
    "duration": 21,
    "start_time": "2021-09-02T04:43:52.386Z"
   },
   {
    "duration": 51,
    "start_time": "2021-09-02T04:43:52.409Z"
   },
   {
    "duration": 71,
    "start_time": "2021-09-02T04:43:52.462Z"
   },
   {
    "duration": 52,
    "start_time": "2021-09-02T04:43:52.535Z"
   },
   {
    "duration": 38,
    "start_time": "2021-09-02T04:43:52.589Z"
   },
   {
    "duration": 3,
    "start_time": "2021-09-02T04:43:52.629Z"
   },
   {
    "duration": 9,
    "start_time": "2021-09-02T04:43:52.634Z"
   },
   {
    "duration": 61,
    "start_time": "2021-09-02T04:43:52.645Z"
   },
   {
    "duration": 23,
    "start_time": "2021-09-02T04:43:52.708Z"
   },
   {
    "duration": 27,
    "start_time": "2021-09-02T04:43:52.732Z"
   },
   {
    "duration": 25,
    "start_time": "2021-09-02T04:43:52.760Z"
   },
   {
    "duration": 21,
    "start_time": "2021-09-02T04:43:52.786Z"
   },
   {
    "duration": 15,
    "start_time": "2021-09-02T04:43:52.808Z"
   },
   {
    "duration": 15,
    "start_time": "2021-09-02T04:43:52.825Z"
   },
   {
    "duration": 43,
    "start_time": "2021-09-02T04:43:52.843Z"
   },
   {
    "duration": 18,
    "start_time": "2021-09-02T04:43:52.887Z"
   },
   {
    "duration": 15,
    "start_time": "2021-09-02T04:43:52.906Z"
   },
   {
    "duration": 7,
    "start_time": "2021-09-02T04:43:52.922Z"
   },
   {
    "duration": 13,
    "start_time": "2021-09-02T04:43:52.931Z"
   },
   {
    "duration": 11,
    "start_time": "2021-09-02T04:43:52.945Z"
   },
   {
    "duration": 29,
    "start_time": "2021-09-02T04:43:52.957Z"
   },
   {
    "duration": 27,
    "start_time": "2021-09-02T04:43:52.988Z"
   },
   {
    "duration": 13,
    "start_time": "2021-09-02T04:43:53.017Z"
   },
   {
    "duration": 18,
    "start_time": "2021-09-02T04:43:53.031Z"
   },
   {
    "duration": 40,
    "start_time": "2021-09-02T04:43:53.051Z"
   },
   {
    "duration": 8,
    "start_time": "2021-09-02T04:43:53.092Z"
   },
   {
    "duration": 3,
    "start_time": "2021-09-02T04:43:53.102Z"
   },
   {
    "duration": 7,
    "start_time": "2021-09-02T04:43:53.107Z"
   },
   {
    "duration": 5,
    "start_time": "2021-09-02T04:43:53.115Z"
   },
   {
    "duration": 734,
    "start_time": "2021-09-02T05:33:01.368Z"
   },
   {
    "duration": 583,
    "start_time": "2021-09-02T05:33:02.105Z"
   },
   {
    "duration": 26,
    "start_time": "2021-09-02T05:33:02.691Z"
   },
   {
    "duration": 66,
    "start_time": "2021-09-02T05:33:02.720Z"
   },
   {
    "duration": 5,
    "start_time": "2021-09-02T05:33:02.789Z"
   },
   {
    "duration": 34,
    "start_time": "2021-09-02T05:33:02.796Z"
   },
   {
    "duration": 34,
    "start_time": "2021-09-02T05:33:02.833Z"
   },
   {
    "duration": 33,
    "start_time": "2021-09-02T05:33:02.872Z"
   },
   {
    "duration": 57,
    "start_time": "2021-09-02T05:33:02.908Z"
   },
   {
    "duration": 36,
    "start_time": "2021-09-02T05:33:02.969Z"
   },
   {
    "duration": 100,
    "start_time": "2021-09-02T05:33:03.008Z"
   },
   {
    "duration": 114,
    "start_time": "2021-09-02T05:33:03.110Z"
   },
   {
    "duration": 87,
    "start_time": "2021-09-02T05:33:03.226Z"
   },
   {
    "duration": 68,
    "start_time": "2021-09-02T05:33:03.316Z"
   },
   {
    "duration": 30,
    "start_time": "2021-09-02T05:33:03.386Z"
   },
   {
    "duration": 18,
    "start_time": "2021-09-02T05:33:03.418Z"
   },
   {
    "duration": 65,
    "start_time": "2021-09-02T05:33:03.439Z"
   },
   {
    "duration": 30,
    "start_time": "2021-09-02T05:33:03.506Z"
   },
   {
    "duration": 45,
    "start_time": "2021-09-02T05:33:03.562Z"
   },
   {
    "duration": 5,
    "start_time": "2021-09-02T05:33:03.609Z"
   },
   {
    "duration": 47,
    "start_time": "2021-09-02T05:33:03.616Z"
   },
   {
    "duration": 27,
    "start_time": "2021-09-02T05:33:03.665Z"
   },
   {
    "duration": 22,
    "start_time": "2021-09-02T05:33:03.697Z"
   },
   {
    "duration": 52,
    "start_time": "2021-09-02T05:33:03.722Z"
   },
   {
    "duration": 26,
    "start_time": "2021-09-02T05:33:03.778Z"
   },
   {
    "duration": 22,
    "start_time": "2021-09-02T05:33:03.806Z"
   },
   {
    "duration": 47,
    "start_time": "2021-09-02T05:33:03.831Z"
   },
   {
    "duration": 19,
    "start_time": "2021-09-02T05:33:03.881Z"
   },
   {
    "duration": 13,
    "start_time": "2021-09-02T05:33:03.902Z"
   },
   {
    "duration": 7,
    "start_time": "2021-09-02T05:33:03.917Z"
   },
   {
    "duration": 68,
    "start_time": "2021-09-02T05:33:03.927Z"
   },
   {
    "duration": 23,
    "start_time": "2021-09-02T05:33:03.998Z"
   },
   {
    "duration": 58,
    "start_time": "2021-09-02T05:33:04.023Z"
   },
   {
    "duration": 18,
    "start_time": "2021-09-02T05:33:04.083Z"
   },
   {
    "duration": 11,
    "start_time": "2021-09-02T05:33:04.103Z"
   },
   {
    "duration": 6,
    "start_time": "2021-09-02T05:33:04.116Z"
   },
   {
    "duration": 45,
    "start_time": "2021-09-02T05:33:04.124Z"
   },
   {
    "duration": 7,
    "start_time": "2021-09-02T05:33:04.172Z"
   },
   {
    "duration": 810,
    "start_time": "2021-09-02T09:58:46.645Z"
   },
   {
    "duration": 710,
    "start_time": "2021-09-02T09:58:59.891Z"
   },
   {
    "duration": 128,
    "start_time": "2021-09-02T09:59:00.603Z"
   },
   {
    "duration": 16,
    "start_time": "2021-09-02T09:59:00.733Z"
   },
   {
    "duration": 329,
    "start_time": "2021-09-02T10:10:42.495Z"
   },
   {
    "duration": 303,
    "start_time": "2021-09-02T10:10:45.752Z"
   },
   {
    "duration": 41,
    "start_time": "2021-09-02T10:14:39.928Z"
   },
   {
    "duration": 785,
    "start_time": "2021-09-02T10:16:46.751Z"
   },
   {
    "duration": 9,
    "start_time": "2021-09-02T10:17:09.674Z"
   },
   {
    "duration": 10,
    "start_time": "2021-09-02T10:17:25.084Z"
   },
   {
    "duration": 12,
    "start_time": "2021-09-02T10:18:13.571Z"
   },
   {
    "duration": 2,
    "start_time": "2021-09-02T10:18:30.454Z"
   },
   {
    "duration": 148,
    "start_time": "2021-09-02T10:18:30.458Z"
   },
   {
    "duration": 10,
    "start_time": "2021-09-02T10:18:30.608Z"
   },
   {
    "duration": 39,
    "start_time": "2021-09-02T10:18:30.620Z"
   },
   {
    "duration": 12,
    "start_time": "2021-09-02T10:18:30.661Z"
   },
   {
    "duration": 34,
    "start_time": "2021-09-02T10:18:30.674Z"
   },
   {
    "duration": 21,
    "start_time": "2021-09-02T10:18:30.711Z"
   },
   {
    "duration": 42,
    "start_time": "2021-09-02T10:18:30.734Z"
   },
   {
    "duration": 37,
    "start_time": "2021-09-02T10:18:30.778Z"
   },
   {
    "duration": 28,
    "start_time": "2021-09-02T10:18:30.817Z"
   },
   {
    "duration": 90,
    "start_time": "2021-09-02T10:18:30.847Z"
   },
   {
    "duration": 70,
    "start_time": "2021-09-02T10:18:30.939Z"
   },
   {
    "duration": 49,
    "start_time": "2021-09-02T10:18:31.010Z"
   },
   {
    "duration": 56,
    "start_time": "2021-09-02T10:18:31.061Z"
   },
   {
    "duration": 16,
    "start_time": "2021-09-02T10:18:31.119Z"
   },
   {
    "duration": 5,
    "start_time": "2021-09-02T10:18:31.137Z"
   },
   {
    "duration": 33,
    "start_time": "2021-09-02T10:18:31.144Z"
   },
   {
    "duration": 60,
    "start_time": "2021-09-02T10:18:31.178Z"
   },
   {
    "duration": 26,
    "start_time": "2021-09-02T10:18:31.242Z"
   },
   {
    "duration": 656,
    "start_time": "2021-09-02T10:22:02.536Z"
   },
   {
    "duration": 314,
    "start_time": "2021-09-02T10:22:15.080Z"
   },
   {
    "duration": 82,
    "start_time": "2021-09-02T10:23:04.094Z"
   },
   {
    "duration": 83,
    "start_time": "2021-09-02T10:23:48.919Z"
   }
  ],
  "colab": {
   "collapsed_sections": [
    "E0vqbgi9ay0H",
    "VUC88oWjTJw2"
   ],
   "name": "yandex_music_project_2021.2.ipynb",
   "provenance": []
  },
  "kernelspec": {
   "display_name": "Python 3 (ipykernel)",
   "language": "python",
   "name": "python3"
  },
  "language_info": {
   "codemirror_mode": {
    "name": "ipython",
    "version": 3
   },
   "file_extension": ".py",
   "mimetype": "text/x-python",
   "name": "python",
   "nbconvert_exporter": "python",
   "pygments_lexer": "ipython3",
   "version": "3.8.10"
  },
  "toc": {
   "base_numbering": 1,
   "nav_menu": {},
   "number_sections": true,
   "sideBar": true,
   "skip_h1_title": true,
   "title_cell": "Table of Contents",
   "title_sidebar": "Contents",
   "toc_cell": false,
   "toc_position": {},
   "toc_section_display": true,
   "toc_window_display": true
  }
 },
 "nbformat": 4,
 "nbformat_minor": 1
}
